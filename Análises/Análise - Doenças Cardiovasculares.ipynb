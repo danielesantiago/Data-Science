{
 "cells": [
  {
   "cell_type": "markdown",
   "id": "41ea8940",
   "metadata": {},
   "source": [
    "## Analisando Dados de Doenças Cardiovasculares\n",
    "\n",
    "\n",
    "As doenças cardiovasculares contribuem significativamente, como grupo causal, para a taxa de mortalidade\n",
    "em todas as regiões brasileiras, principalmente na Região Sudeste. Além disso, constituem uma das principais\n",
    "causas de permanência hospitalar prolongada e são responsáveis pela principal alocação de recursos públicos\n",
    "em hospitalizações no Brasil (CASTRO, Luiza, 2004). De acordo com o Ministério da Saúde, estima-se que em 2040 haverá um aumento de 250% nos casos de óbito por Infarto Agudo do Miocárdio (IAM).\n",
    "\n",
    "<img src=\"Arquivos/heartdisease.jpg\"  width=50%>\n",
    "\n",
    "Apesar de ser uma das principais causas de morte em todo o mundo, estima-se que cerca de 90% das doenças cardiovasculares poderiam ser evitadas por meio da adoção de mudanças no estilo de vida, como abandonar o sedentarismo e adquirir uma alimentação balanceada.\n",
    "\n",
    "Existem hoje várias pesquisas na área de *Machine Learning* visando a construções de modelos preditivos que ajudem os médicos a descobrirem doenças cardiovasculares em seus pacientes. Estudos publicados na revista *na revista Nature Biomedical Engineering* mostram que algoritmos de *Deep Learning* foram capazes de antecipar doenças cardíacas em até 5 anos.\n",
    "\n",
    "O trabalho em questão se propõe a analisar dados coletados da <b>Cleveland Clinic Foundation</b>, disponível no Repositório UCI Machine Learning, de maneira a observar padrões e chegar numa conclusão a respeito das informações aferidas.\n"
   ]
  },
  {
   "cell_type": "markdown",
   "id": "be9b7a77",
   "metadata": {},
   "source": [
    "## Obtenção dos Dados\n",
    "\n",
    "O conjunto principal de dados usado neste projeto foi coletado da ***Cleveland Clinic Foundation*** e se encontra disponível no conhecido [Repositório UCI *Machine Learning*](https://archive.ics.uci.edu/ml/datasets/heart+Disease). Ressalta-se que os nomes, identidade e documentos pessoais dos pacientes foram removidos completamente do banco de dados.\n",
    "\n",
    "O *dataset* processado contém dados de 303 pessoas e 76 atributos. Entretanto, os principais artigos e estudos publicados optaram por usar apenas 14 atributos, considerados de maior relevância. Da mesma maneira, este projeto de *Data Science* usará essas mesmas 14 variáveis principais.\n",
    "\n",
    "<p><img alt=\"Colaboratory logo\" height=\"100\" src=\"https://raw.githubusercontent.com/carlosfab/curso_data_science_na_pratica/master/modulo_03/Large45.jpg\" align=\"right\" hspace=\"20px\" vspace=\"0px\"></p>\n",
    "\n",
    "* O arquivo `csv` com os dados de 303 pessoas e 14 atributos pode ser baixado [neste link](https://raw.githubusercontent.com/carlosfab/curso_data_science_na_pratica/master/modulo_03/heart-disease-uci.csv).\n",
    "\n",
    "* O arquivo contendo todos os detalhes e documentação do *dataset* usado neste projeto se encontra [neste link](https://github.com/carlosfab/curso_data_science_na_pratica/blob/master/modulo_03/heart-disease.names).\n",
    "\n",
    "* Há ainda um *dataset* secundário que será utilizado para ver a evolução no número de mortes por doenças cardiovasculares no Brasil (entre os anos de 2004-2017). Esses dados foram disponibilizados pela [Sociedade Brasileira de Cardiologia](http://www.cardiometro.com.br/anteriores.asp), e podem ser baixados [neste link](https://raw.githubusercontent.com/carlosfab/curso_data_science_na_pratica/master/modulo_03/mortes_doencas_cardiovasculares.csv).\n",
    "\n"
   ]
  },
  {
   "cell_type": "markdown",
   "id": "5ba1f542",
   "metadata": {},
   "source": [
    "### Informações sobre os atributos:\n",
    "\n",
    "\n",
    "* `age` - idade em anos\n",
    "* `sex` - sexo do paciente\n",
    "  * 0: mulher\n",
    "  * 1: homem\n",
    "* `cp` - tipo da dor torácica\n",
    "  * 1: angina típica\n",
    "  * 2: angina atípica\n",
    "  * 3: dor não cardíaca\n",
    "  * 4: assintomática\n",
    "* `trestbps` - pressão arterial em repouso\n",
    "* `chol` - colesterol sérico (*mg/dl*)\n",
    "* `fbs` - açucar no sangue em jejum > 120*mg/dl*\n",
    "  * 0: `False`\n",
    "  * 1: `True`\n",
    "* `restecg` - resultado do eletrocardiografia de repouso\n",
    "  * 0: normal\n",
    "  * 1: anormalidades de ST-T  (inversão da onda T e elevação ou depressão de > 0.05*mV*)\n",
    "  * 2: hipertrofia ventricular esquerda provável ou definitiva (pelos critérios de Romhilt-Estes)\n",
    "* `thalach` - frequência cardíaca máxima atingida\n",
    "* `exang` - angina induzida pelo exercício\n",
    "  * 0: não\n",
    "  * 1: sim\n",
    "* `oldpeak` - depessão do segmento ST induzida pelo exercício em relação ao repouso\n",
    "* `slope` - inclinação do segmento ST no pico do exercício\n",
    "* `ca` - número de vasos principais colorido por fluoroscopia\n",
    "* `thal` - *thallium stress test*\n",
    "  * 3: normal\n",
    "  * 6: defeito fixo\n",
    "  * 7: defeito reversível\n",
    "* `num` - diagnóstico de doença cardíaca (diagnóstico angiográfico)\n",
    "  * 0: não há doença cardíaca ( < 50% de estreitamento do diâmetro)\n",
    "  * 1,2,3,4: há doença cardíaca ( > 50% de estreitamento do diâmetro)"
   ]
  },
  {
   "cell_type": "markdown",
   "id": "83184727",
   "metadata": {},
   "source": [
    "### Importar os Dados\n",
    "\n",
    "Em uma etapa inicial, importaremos os dois *datasets* mencionados no início do *notebook*:\n",
    "\n",
    "* Um contendo os dados relacionados às doenças cardiovasculares (303 pessoas e 14 atributos); e\n",
    "* Um contendo os dados da mortalidade no Brasil por doenças cardiovasculares."
   ]
  },
  {
   "cell_type": "code",
   "execution_count": 99,
   "id": "dd6e1d82",
   "metadata": {},
   "outputs": [],
   "source": [
    "# importar as bibliotecas necessárias\n",
    "import pandas as pd\n",
    "import matplotlib.pyplot as plt\n",
    "\n",
    "# url dos datasets\n",
    "dataset_uci = \"https://raw.githubusercontent.com/carlosfab/curso_data_science_na_pratica/master/modulo_03/heart-disease-uci.csv\"\n",
    "dataset_brasil = \"https://raw.githubusercontent.com/carlosfab/curso_data_science_na_pratica/master/modulo_03/mortes_doencas_cardiovasculares.csv\"\n",
    "\n",
    "# importar dataset da UCI\n",
    "df = pd.read_csv(dataset_uci, delimiter=',')\n",
    "\n",
    "# importar dataset dos indíces do Brasil\n",
    "df_brasil = pd.read_csv(dataset_brasil, index_col = 'ano')"
   ]
  },
  {
   "cell_type": "markdown",
   "id": "a6d199ba",
   "metadata": {},
   "source": [
    "Olhando acima as informações sobre os atributos, percebemos que nossa variável alvo (`num`) possui cinco valores possíveis: \\[0, 1, 2, 3, 4\\].\n",
    "\n",
    "No entanto, seguindo a maioria das pesquisas que utilizaram esse *dataset*, iremos considerar apenas duas situações possíveis:\n",
    "\n",
    "* **0** - não há doença cardíaca\n",
    "* **1** - há doença cardíaca\n",
    "\n",
    "Então, iremos igualar a 1 os valores compreendidos entre 1-4."
   ]
  },
  {
   "cell_type": "code",
   "execution_count": 100,
   "id": "e3c8f7fd",
   "metadata": {},
   "outputs": [
    {
     "data": {
      "text/plain": [
       "0    164\n",
       "1     55\n",
       "2     36\n",
       "3     35\n",
       "4     13\n",
       "Name: num, dtype: int64"
      ]
     },
     "execution_count": 100,
     "metadata": {},
     "output_type": "execute_result"
    }
   ],
   "source": [
    "# variável alvo antes\n",
    "df.num.value_counts()"
   ]
  },
  {
   "cell_type": "code",
   "execution_count": 101,
   "id": "954e7c49",
   "metadata": {},
   "outputs": [],
   "source": [
    "# converter valores >= 1 em 1\n",
    "df.loc[df.num != 0, 'num'] = 1"
   ]
  },
  {
   "cell_type": "code",
   "execution_count": 102,
   "id": "61242d74",
   "metadata": {},
   "outputs": [
    {
     "data": {
      "text/plain": [
       "0    164\n",
       "1    139\n",
       "Name: num, dtype: int64"
      ]
     },
     "execution_count": 102,
     "metadata": {},
     "output_type": "execute_result"
    }
   ],
   "source": [
    "# variável alvo depois\n",
    "df.num.value_counts()"
   ]
  },
  {
   "cell_type": "markdown",
   "id": "e9dde671",
   "metadata": {},
   "source": [
    "## Análise Exploratória"
   ]
  },
  {
   "cell_type": "markdown",
   "id": "f8c14ca2",
   "metadata": {},
   "source": [
    "### Q1. Qual o tamanho do dataset?"
   ]
  },
  {
   "cell_type": "code",
   "execution_count": 103,
   "id": "63e544a7",
   "metadata": {},
   "outputs": [
    {
     "data": {
      "text/plain": [
       "(303, 14)"
      ]
     },
     "execution_count": 103,
     "metadata": {},
     "output_type": "execute_result"
    }
   ],
   "source": [
    "df.shape"
   ]
  },
  {
   "cell_type": "markdown",
   "id": "444276d2",
   "metadata": {},
   "source": [
    "É importante observar qual o tamanho do nosso dataset, para entender a quantidade de insumos que iremos lidar. Podemos observar acima que o csv é composto por 14 classificações e têm 303 linhas, ou seja, há 303 informações obtidas."
   ]
  },
  {
   "cell_type": "markdown",
   "id": "308eb759",
   "metadata": {},
   "source": [
    "### Q2. Quais as informações estatísticas do dataset?"
   ]
  },
  {
   "cell_type": "code",
   "execution_count": 104,
   "id": "8718a70f",
   "metadata": {},
   "outputs": [
    {
     "data": {
      "text/html": [
       "<div>\n",
       "<style scoped>\n",
       "    .dataframe tbody tr th:only-of-type {\n",
       "        vertical-align: middle;\n",
       "    }\n",
       "\n",
       "    .dataframe tbody tr th {\n",
       "        vertical-align: top;\n",
       "    }\n",
       "\n",
       "    .dataframe thead th {\n",
       "        text-align: right;\n",
       "    }\n",
       "</style>\n",
       "<table border=\"1\" class=\"dataframe\">\n",
       "  <thead>\n",
       "    <tr style=\"text-align: right;\">\n",
       "      <th></th>\n",
       "      <th>age</th>\n",
       "      <th>sex</th>\n",
       "      <th>cp</th>\n",
       "      <th>trestbps</th>\n",
       "      <th>chol</th>\n",
       "      <th>fbs</th>\n",
       "      <th>restecg</th>\n",
       "      <th>thalach</th>\n",
       "      <th>exang</th>\n",
       "      <th>oldpeak</th>\n",
       "      <th>slope</th>\n",
       "      <th>ca</th>\n",
       "      <th>thal</th>\n",
       "      <th>num</th>\n",
       "    </tr>\n",
       "  </thead>\n",
       "  <tbody>\n",
       "    <tr>\n",
       "      <th>count</th>\n",
       "      <td>303.000000</td>\n",
       "      <td>303.000000</td>\n",
       "      <td>303.000000</td>\n",
       "      <td>303.000000</td>\n",
       "      <td>303.000000</td>\n",
       "      <td>303.000000</td>\n",
       "      <td>303.000000</td>\n",
       "      <td>303.000000</td>\n",
       "      <td>303.000000</td>\n",
       "      <td>303.000000</td>\n",
       "      <td>303.000000</td>\n",
       "      <td>303.000000</td>\n",
       "      <td>303.000000</td>\n",
       "      <td>303.000000</td>\n",
       "    </tr>\n",
       "    <tr>\n",
       "      <th>mean</th>\n",
       "      <td>54.438944</td>\n",
       "      <td>0.679868</td>\n",
       "      <td>3.158416</td>\n",
       "      <td>131.689769</td>\n",
       "      <td>246.693069</td>\n",
       "      <td>0.148515</td>\n",
       "      <td>0.990099</td>\n",
       "      <td>149.607261</td>\n",
       "      <td>0.326733</td>\n",
       "      <td>1.039604</td>\n",
       "      <td>1.600660</td>\n",
       "      <td>0.663366</td>\n",
       "      <td>4.722772</td>\n",
       "      <td>0.458746</td>\n",
       "    </tr>\n",
       "    <tr>\n",
       "      <th>std</th>\n",
       "      <td>9.038662</td>\n",
       "      <td>0.467299</td>\n",
       "      <td>0.960126</td>\n",
       "      <td>17.599748</td>\n",
       "      <td>51.776918</td>\n",
       "      <td>0.356198</td>\n",
       "      <td>0.994971</td>\n",
       "      <td>22.875003</td>\n",
       "      <td>0.469794</td>\n",
       "      <td>1.161075</td>\n",
       "      <td>0.616226</td>\n",
       "      <td>0.934375</td>\n",
       "      <td>1.938383</td>\n",
       "      <td>0.499120</td>\n",
       "    </tr>\n",
       "    <tr>\n",
       "      <th>min</th>\n",
       "      <td>29.000000</td>\n",
       "      <td>0.000000</td>\n",
       "      <td>1.000000</td>\n",
       "      <td>94.000000</td>\n",
       "      <td>126.000000</td>\n",
       "      <td>0.000000</td>\n",
       "      <td>0.000000</td>\n",
       "      <td>71.000000</td>\n",
       "      <td>0.000000</td>\n",
       "      <td>0.000000</td>\n",
       "      <td>1.000000</td>\n",
       "      <td>0.000000</td>\n",
       "      <td>3.000000</td>\n",
       "      <td>0.000000</td>\n",
       "    </tr>\n",
       "    <tr>\n",
       "      <th>25%</th>\n",
       "      <td>48.000000</td>\n",
       "      <td>0.000000</td>\n",
       "      <td>3.000000</td>\n",
       "      <td>120.000000</td>\n",
       "      <td>211.000000</td>\n",
       "      <td>0.000000</td>\n",
       "      <td>0.000000</td>\n",
       "      <td>133.500000</td>\n",
       "      <td>0.000000</td>\n",
       "      <td>0.000000</td>\n",
       "      <td>1.000000</td>\n",
       "      <td>0.000000</td>\n",
       "      <td>3.000000</td>\n",
       "      <td>0.000000</td>\n",
       "    </tr>\n",
       "    <tr>\n",
       "      <th>50%</th>\n",
       "      <td>56.000000</td>\n",
       "      <td>1.000000</td>\n",
       "      <td>3.000000</td>\n",
       "      <td>130.000000</td>\n",
       "      <td>241.000000</td>\n",
       "      <td>0.000000</td>\n",
       "      <td>1.000000</td>\n",
       "      <td>153.000000</td>\n",
       "      <td>0.000000</td>\n",
       "      <td>0.800000</td>\n",
       "      <td>2.000000</td>\n",
       "      <td>0.000000</td>\n",
       "      <td>3.000000</td>\n",
       "      <td>0.000000</td>\n",
       "    </tr>\n",
       "    <tr>\n",
       "      <th>75%</th>\n",
       "      <td>61.000000</td>\n",
       "      <td>1.000000</td>\n",
       "      <td>4.000000</td>\n",
       "      <td>140.000000</td>\n",
       "      <td>275.000000</td>\n",
       "      <td>0.000000</td>\n",
       "      <td>2.000000</td>\n",
       "      <td>166.000000</td>\n",
       "      <td>1.000000</td>\n",
       "      <td>1.600000</td>\n",
       "      <td>2.000000</td>\n",
       "      <td>1.000000</td>\n",
       "      <td>7.000000</td>\n",
       "      <td>1.000000</td>\n",
       "    </tr>\n",
       "    <tr>\n",
       "      <th>max</th>\n",
       "      <td>77.000000</td>\n",
       "      <td>1.000000</td>\n",
       "      <td>4.000000</td>\n",
       "      <td>200.000000</td>\n",
       "      <td>564.000000</td>\n",
       "      <td>1.000000</td>\n",
       "      <td>2.000000</td>\n",
       "      <td>202.000000</td>\n",
       "      <td>1.000000</td>\n",
       "      <td>6.200000</td>\n",
       "      <td>3.000000</td>\n",
       "      <td>3.000000</td>\n",
       "      <td>7.000000</td>\n",
       "      <td>1.000000</td>\n",
       "    </tr>\n",
       "  </tbody>\n",
       "</table>\n",
       "</div>"
      ],
      "text/plain": [
       "              age         sex          cp    trestbps        chol         fbs  \\\n",
       "count  303.000000  303.000000  303.000000  303.000000  303.000000  303.000000   \n",
       "mean    54.438944    0.679868    3.158416  131.689769  246.693069    0.148515   \n",
       "std      9.038662    0.467299    0.960126   17.599748   51.776918    0.356198   \n",
       "min     29.000000    0.000000    1.000000   94.000000  126.000000    0.000000   \n",
       "25%     48.000000    0.000000    3.000000  120.000000  211.000000    0.000000   \n",
       "50%     56.000000    1.000000    3.000000  130.000000  241.000000    0.000000   \n",
       "75%     61.000000    1.000000    4.000000  140.000000  275.000000    0.000000   \n",
       "max     77.000000    1.000000    4.000000  200.000000  564.000000    1.000000   \n",
       "\n",
       "          restecg     thalach       exang     oldpeak       slope          ca  \\\n",
       "count  303.000000  303.000000  303.000000  303.000000  303.000000  303.000000   \n",
       "mean     0.990099  149.607261    0.326733    1.039604    1.600660    0.663366   \n",
       "std      0.994971   22.875003    0.469794    1.161075    0.616226    0.934375   \n",
       "min      0.000000   71.000000    0.000000    0.000000    1.000000    0.000000   \n",
       "25%      0.000000  133.500000    0.000000    0.000000    1.000000    0.000000   \n",
       "50%      1.000000  153.000000    0.000000    0.800000    2.000000    0.000000   \n",
       "75%      2.000000  166.000000    1.000000    1.600000    2.000000    1.000000   \n",
       "max      2.000000  202.000000    1.000000    6.200000    3.000000    3.000000   \n",
       "\n",
       "             thal         num  \n",
       "count  303.000000  303.000000  \n",
       "mean     4.722772    0.458746  \n",
       "std      1.938383    0.499120  \n",
       "min      3.000000    0.000000  \n",
       "25%      3.000000    0.000000  \n",
       "50%      3.000000    0.000000  \n",
       "75%      7.000000    1.000000  \n",
       "max      7.000000    1.000000  "
      ]
     },
     "execution_count": 104,
     "metadata": {},
     "output_type": "execute_result"
    }
   ],
   "source": [
    "df.describe()"
   ]
  },
  {
   "cell_type": "markdown",
   "id": "43a2b5d0",
   "metadata": {},
   "source": [
    "Constatando as informações estatísticas, podemos ter uma primeira percepção das informações que iremos lidar. É possível notar que a média da idade <i>(age)</i> das pessoas analisadas gira em torno dos 54 anos, com o desvio padrão relativamente baixo. Também é possível notar que a maioria das pessoas analisadas são do sexo masculino <i>(sex)</i>. "
   ]
  },
  {
   "cell_type": "markdown",
   "id": "d2efff7f",
   "metadata": {},
   "source": [
    "<ul>\n",
    "    <b><li>Há quantas pessoas do sexo masculino (1) e feminino (0)? </li></b>\n",
    "</ul>"
   ]
  },
  {
   "cell_type": "code",
   "execution_count": 105,
   "id": "fb636a2f",
   "metadata": {
    "scrolled": true
   },
   "outputs": [
    {
     "data": {
      "text/plain": [
       "1.0    206\n",
       "0.0     97\n",
       "Name: sex, dtype: int64"
      ]
     },
     "execution_count": 105,
     "metadata": {},
     "output_type": "execute_result"
    }
   ],
   "source": [
    "df.sex.value_counts()"
   ]
  },
  {
   "cell_type": "markdown",
   "id": "f75d3aa2",
   "metadata": {},
   "source": [
    "Podemos notar que 76% das pessoas analisadas são do sexo masculino. De acordo com a pesquisa realizada pelo Ministério da Saúde, homens são mais suscetíveis às doenças vasculares e cardíacas."
   ]
  },
  {
   "cell_type": "markdown",
   "id": "79d33ba6",
   "metadata": {},
   "source": [
    "<ul>\n",
    "    <b><li>Qual a porcentagem de mulheres com doenças cardiovasculares?</li></b>\n",
    "</ul>"
   ]
  },
  {
   "cell_type": "code",
   "execution_count": 106,
   "id": "35f2e226",
   "metadata": {
    "scrolled": false
   },
   "outputs": [
    {
     "data": {
      "text/plain": [
       "25.77"
      ]
     },
     "execution_count": 106,
     "metadata": {},
     "output_type": "execute_result"
    }
   ],
   "source": [
    "round((df.loc[(df.sex == 0) & (df.num == 1)].shape[0]/df.loc[df.sex == 0].shape[0] * 100),2) "
   ]
  },
  {
   "cell_type": "markdown",
   "id": "1b684112",
   "metadata": {},
   "source": [
    "<ul>\n",
    "    <b><li>Qual a porcentagem de homens com doenças cardiovasculares?</li></b>\n",
    "</ul>"
   ]
  },
  {
   "cell_type": "code",
   "execution_count": 107,
   "id": "71a2ccd1",
   "metadata": {},
   "outputs": [
    {
     "data": {
      "text/plain": [
       "55.34"
      ]
     },
     "execution_count": 107,
     "metadata": {},
     "output_type": "execute_result"
    }
   ],
   "source": [
    "round((df.loc[(df.sex == 1) & (df.num == 1)].shape[0]/df.loc[df.sex == 1].shape[0] * 100),2) "
   ]
  },
  {
   "cell_type": "markdown",
   "id": "d0d2b0f0",
   "metadata": {},
   "source": [
    "A partir dos resultados obtidos podemos observar que a quantidade de homens com doenças cardiovasculares realmente é maior que a das mulheres. Na amostra obtida, aproximadamente 55% dos homens a possuem, enquanto as mulheres são apenas 25%."
   ]
  },
  {
   "cell_type": "markdown",
   "id": "40716e23",
   "metadata": {},
   "source": [
    "Para termos um dado mais palpável, é possível aferir o mesmo buscando diretamente no dataset mulheres com doenças cardiovasculares, o que nos retorna um resultado nulo, em concomitância com a pesquisa realizada pelo Ministério da Saúde."
   ]
  },
  {
   "cell_type": "markdown",
   "id": "604467b2",
   "metadata": {},
   "source": [
    "<ul>\n",
    "    <b><li>Idade para casos confirmados de doenças cardiovasculares.</li></b>\n",
    "</ul>"
   ]
  },
  {
   "cell_type": "code",
   "execution_count": 108,
   "id": "de8090fa",
   "metadata": {
    "scrolled": true
   },
   "outputs": [
    {
     "data": {
      "image/png": "[encoded data removed]",
      "text/plain": [
       "<Figure size 432x288 with 1 Axes>"
      ]
     },
     "metadata": {
      "needs_background": "light"
     },
     "output_type": "display_data"
    }
   ],
   "source": [
    "fig, ax = plt.subplots()\n",
    "ax.set_title(\"Idade x Casos Confirmados\")\n",
    "df.loc[df['num'] == 1].boxplot(['age'], ax = ax)\n",
    "plt.tight_layout()"
   ]
  },
  {
   "cell_type": "markdown",
   "id": "6e66f0c0",
   "metadata": {},
   "source": [
    "É comprovado que a incidência de tais doenças aumentam com a idade. Considerando o boxplot é possível analisar diversos fatores. Por exemplo, a idade mínima analisada na amostra onde foram confirmados casos de doenças cardiovasculares se aproxima dos 40, muito abaixo disso é um <i>outlier</i>. Ademais, a idade mediana obtida se aproxima dos 60 anos. "
   ]
  },
  {
   "cell_type": "markdown",
   "id": "c63b7c0d",
   "metadata": {},
   "source": [
    "### Q3. Quais os tipos das variáveis do dataset?"
   ]
  },
  {
   "cell_type": "code",
   "execution_count": 109,
   "id": "729af577",
   "metadata": {},
   "outputs": [
    {
     "data": {
      "text/plain": [
       "age         float64\n",
       "sex         float64\n",
       "cp          float64\n",
       "trestbps    float64\n",
       "chol        float64\n",
       "fbs         float64\n",
       "restecg     float64\n",
       "thalach     float64\n",
       "exang       float64\n",
       "oldpeak     float64\n",
       "slope       float64\n",
       "ca          float64\n",
       "thal        float64\n",
       "num           int64\n",
       "dtype: object"
      ]
     },
     "execution_count": 109,
     "metadata": {},
     "output_type": "execute_result"
    }
   ],
   "source": [
    "df.dtypes"
   ]
  },
  {
   "cell_type": "markdown",
   "id": "8734ffae",
   "metadata": {},
   "source": [
    "### Q4. Quais as 5 primeiras entradas do dataset?"
   ]
  },
  {
   "cell_type": "code",
   "execution_count": 110,
   "id": "aada8913",
   "metadata": {},
   "outputs": [
    {
     "data": {
      "text/html": [
       "<div>\n",
       "<style scoped>\n",
       "    .dataframe tbody tr th:only-of-type {\n",
       "        vertical-align: middle;\n",
       "    }\n",
       "\n",
       "    .dataframe tbody tr th {\n",
       "        vertical-align: top;\n",
       "    }\n",
       "\n",
       "    .dataframe thead th {\n",
       "        text-align: right;\n",
       "    }\n",
       "</style>\n",
       "<table border=\"1\" class=\"dataframe\">\n",
       "  <thead>\n",
       "    <tr style=\"text-align: right;\">\n",
       "      <th></th>\n",
       "      <th>age</th>\n",
       "      <th>sex</th>\n",
       "      <th>cp</th>\n",
       "      <th>trestbps</th>\n",
       "      <th>chol</th>\n",
       "      <th>fbs</th>\n",
       "      <th>restecg</th>\n",
       "      <th>thalach</th>\n",
       "      <th>exang</th>\n",
       "      <th>oldpeak</th>\n",
       "      <th>slope</th>\n",
       "      <th>ca</th>\n",
       "      <th>thal</th>\n",
       "      <th>num</th>\n",
       "    </tr>\n",
       "  </thead>\n",
       "  <tbody>\n",
       "    <tr>\n",
       "      <th>0</th>\n",
       "      <td>63.0</td>\n",
       "      <td>1.0</td>\n",
       "      <td>1.0</td>\n",
       "      <td>145.0</td>\n",
       "      <td>233.0</td>\n",
       "      <td>1.0</td>\n",
       "      <td>2.0</td>\n",
       "      <td>150.0</td>\n",
       "      <td>0.0</td>\n",
       "      <td>2.3</td>\n",
       "      <td>3.0</td>\n",
       "      <td>0.0</td>\n",
       "      <td>6.0</td>\n",
       "      <td>0</td>\n",
       "    </tr>\n",
       "    <tr>\n",
       "      <th>1</th>\n",
       "      <td>67.0</td>\n",
       "      <td>1.0</td>\n",
       "      <td>4.0</td>\n",
       "      <td>160.0</td>\n",
       "      <td>286.0</td>\n",
       "      <td>0.0</td>\n",
       "      <td>2.0</td>\n",
       "      <td>108.0</td>\n",
       "      <td>1.0</td>\n",
       "      <td>1.5</td>\n",
       "      <td>2.0</td>\n",
       "      <td>3.0</td>\n",
       "      <td>3.0</td>\n",
       "      <td>1</td>\n",
       "    </tr>\n",
       "    <tr>\n",
       "      <th>2</th>\n",
       "      <td>67.0</td>\n",
       "      <td>1.0</td>\n",
       "      <td>4.0</td>\n",
       "      <td>120.0</td>\n",
       "      <td>229.0</td>\n",
       "      <td>0.0</td>\n",
       "      <td>2.0</td>\n",
       "      <td>129.0</td>\n",
       "      <td>1.0</td>\n",
       "      <td>2.6</td>\n",
       "      <td>2.0</td>\n",
       "      <td>2.0</td>\n",
       "      <td>7.0</td>\n",
       "      <td>1</td>\n",
       "    </tr>\n",
       "    <tr>\n",
       "      <th>3</th>\n",
       "      <td>37.0</td>\n",
       "      <td>1.0</td>\n",
       "      <td>3.0</td>\n",
       "      <td>130.0</td>\n",
       "      <td>250.0</td>\n",
       "      <td>0.0</td>\n",
       "      <td>0.0</td>\n",
       "      <td>187.0</td>\n",
       "      <td>0.0</td>\n",
       "      <td>3.5</td>\n",
       "      <td>3.0</td>\n",
       "      <td>0.0</td>\n",
       "      <td>3.0</td>\n",
       "      <td>0</td>\n",
       "    </tr>\n",
       "    <tr>\n",
       "      <th>4</th>\n",
       "      <td>41.0</td>\n",
       "      <td>0.0</td>\n",
       "      <td>2.0</td>\n",
       "      <td>130.0</td>\n",
       "      <td>204.0</td>\n",
       "      <td>0.0</td>\n",
       "      <td>2.0</td>\n",
       "      <td>172.0</td>\n",
       "      <td>0.0</td>\n",
       "      <td>1.4</td>\n",
       "      <td>1.0</td>\n",
       "      <td>0.0</td>\n",
       "      <td>3.0</td>\n",
       "      <td>0</td>\n",
       "    </tr>\n",
       "  </tbody>\n",
       "</table>\n",
       "</div>"
      ],
      "text/plain": [
       "    age  sex   cp  trestbps   chol  fbs  restecg  thalach  exang  oldpeak  \\\n",
       "0  63.0  1.0  1.0     145.0  233.0  1.0      2.0    150.0    0.0      2.3   \n",
       "1  67.0  1.0  4.0     160.0  286.0  0.0      2.0    108.0    1.0      1.5   \n",
       "2  67.0  1.0  4.0     120.0  229.0  0.0      2.0    129.0    1.0      2.6   \n",
       "3  37.0  1.0  3.0     130.0  250.0  0.0      0.0    187.0    0.0      3.5   \n",
       "4  41.0  0.0  2.0     130.0  204.0  0.0      2.0    172.0    0.0      1.4   \n",
       "\n",
       "   slope   ca  thal  num  \n",
       "0    3.0  0.0   6.0    0  \n",
       "1    2.0  3.0   3.0    1  \n",
       "2    2.0  2.0   7.0    1  \n",
       "3    3.0  0.0   3.0    0  \n",
       "4    1.0  0.0   3.0    0  "
      ]
     },
     "execution_count": 110,
     "metadata": {},
     "output_type": "execute_result"
    }
   ],
   "source": [
    "df.head()"
   ]
  },
  {
   "cell_type": "markdown",
   "id": "444928f3",
   "metadata": {},
   "source": [
    "### Q5. Quantos valores \"não há doença cardíaca\" (0) e \"há doença cardíaca\" (1) existem no *dataset*?"
   ]
  },
  {
   "cell_type": "code",
   "execution_count": 111,
   "id": "63871d64",
   "metadata": {},
   "outputs": [
    {
     "data": {
      "text/plain": [
       "0    164\n",
       "1    139\n",
       "Name: num, dtype: int64"
      ]
     },
     "execution_count": 111,
     "metadata": {},
     "output_type": "execute_result"
    }
   ],
   "source": [
    "df.num.value_counts()"
   ]
  },
  {
   "cell_type": "markdown",
   "id": "ccf09dcd",
   "metadata": {},
   "source": [
    "É possível observar que aproximadamente 45% dos indivíduos analisados possuem algum tipo de doença cardíaca."
   ]
  },
  {
   "cell_type": "markdown",
   "id": "676c514e",
   "metadata": {},
   "source": [
    "### Q6. Há valores ausentes no dataset?"
   ]
  },
  {
   "cell_type": "code",
   "execution_count": 112,
   "id": "212b04a4",
   "metadata": {},
   "outputs": [
    {
     "data": {
      "text/plain": [
       "age         0.0\n",
       "sex         0.0\n",
       "cp          0.0\n",
       "trestbps    0.0\n",
       "chol        0.0\n",
       "fbs         0.0\n",
       "restecg     0.0\n",
       "thalach     0.0\n",
       "exang       0.0\n",
       "oldpeak     0.0\n",
       "slope       0.0\n",
       "ca          0.0\n",
       "thal        0.0\n",
       "num         0.0\n",
       "dtype: float64"
      ]
     },
     "execution_count": 112,
     "metadata": {},
     "output_type": "execute_result"
    }
   ],
   "source": [
    "df.isnull().sum()/df.shape[0]"
   ]
  },
  {
   "cell_type": "markdown",
   "id": "20e0cde1",
   "metadata": {},
   "source": [
    "Não há valores ausentes no dataset, o que possibilita uma análise mais fidedigna."
   ]
  },
  {
   "cell_type": "markdown",
   "id": "e4c49d73",
   "metadata": {},
   "source": [
    "## Visualização de Dados"
   ]
  },
  {
   "cell_type": "markdown",
   "id": "2b452684",
   "metadata": {},
   "source": [
    "### 1. Gráfico de linha para df_brasil"
   ]
  },
  {
   "cell_type": "code",
   "execution_count": 113,
   "id": "0163fe9d",
   "metadata": {},
   "outputs": [
    {
     "data": {
      "image/png": "[encoded data removed]",
      "text/plain": [
       "<Figure size 432x288 with 1 Axes>"
      ]
     },
     "metadata": {
      "needs_background": "light"
     },
     "output_type": "display_data"
    }
   ],
   "source": [
    "fig, ax = plt.subplots()\n",
    "df_brasil['mortes_doencas_cardio'].plot(kind = 'line', ax = ax)\n",
    "ax.set_title(\"Mortes por Doenças Cardiovasculares x Ano\")\n",
    "ax.set_ylabel(\"Mortes\")\n",
    "ax.set_xlabel(\"Ano\")\n",
    "plt.tight_layout()"
   ]
  },
  {
   "cell_type": "markdown",
   "id": "db3b6425",
   "metadata": {},
   "source": [
    "No Brasil, podemos visualizar que as mortes por doenças cardiovasculares aumentaram no decorrer dos anos. Segundo a Sociedade Brasileira de Cardiologia (SBC), cerca de 14 milhões de brasileiros têm alguma doença no coração e cerca de 400 mil morrem por ano em decorrência dessas enfermidades, o que corresponde a 30% de todas as mortes no país."
   ]
  },
  {
   "cell_type": "markdown",
   "id": "4dde1462",
   "metadata": {},
   "source": [
    "### 2. Gráfico de dispersão para as variáveis `age` e `chol`"
   ]
  },
  {
   "cell_type": "code",
   "execution_count": 114,
   "id": "b5e19ac2",
   "metadata": {},
   "outputs": [
    {
     "data": {
      "image/png": "[encoded data removed]",
      "text/plain": [
       "<Figure size 432x288 with 1 Axes>"
      ]
     },
     "metadata": {
      "needs_background": "light"
     },
     "output_type": "display_data"
    }
   ],
   "source": [
    "fig, ax = plt.subplots()\n",
    "df.plot.scatter(x = 'age', y='chol', ax = ax)\n",
    "ax.set_title(\"Colesterol Sérico x Idade\")\n",
    "ax.set_ylabel(\"Colesterol Sérico (mg/dl)\")\n",
    "ax.set_xlabel(\"Idade\")\n",
    "plt.tight_layout()"
   ]
  },
  {
   "cell_type": "markdown",
   "id": "c480b8d4",
   "metadata": {},
   "source": [
    "De acordo com o Hospital Santa Lúcia, o colesterol, junto com a hipertensão e o diabetes, são os principais fatores de risco para doenças cardiovasculares, principalmente infarto, AVC e tromboses arteriais. Quando elevado, o colesterol aumenta o risco de depósitos de placas ateroscleróticas na parede das artérias, causando a obstrução delas. É considerado arriscado possuir níveis concentrações de colesterol total sérico superiores a 200 mg/dL."
   ]
  },
  {
   "cell_type": "markdown",
   "id": "c85f6577",
   "metadata": {},
   "source": [
    "### 3. Histograma para o colesterol sérico"
   ]
  },
  {
   "cell_type": "code",
   "execution_count": 115,
   "id": "1ceeebaf",
   "metadata": {},
   "outputs": [
    {
     "data": {
      "image/png": "[encoded data removed]",
      "text/plain": [
       "<Figure size 432x288 with 1 Axes>"
      ]
     },
     "metadata": {
      "needs_background": "light"
     },
     "output_type": "display_data"
    }
   ],
   "source": [
    "fig, ax = plt.subplots()\n",
    "df.chol.plot(kind = 'hist', ax = ax)\n",
    "ax.set_title(\"Frequência do Colesterol Sérico\")\n",
    "ax.set_xlabel(\"Colesterol Sérico\")\n",
    "plt.tight_layout()"
   ]
  },
  {
   "cell_type": "markdown",
   "id": "a074b036",
   "metadata": {},
   "source": [
    "O colesterol passa a ser problema quando ele se encontra em nível elevado, e pode ser um componente fatal para indivíduos com alta propensão a ter um infarto, ou seja, os tabagistas, sedentários, hipertensos e pessoas com mais de 50 anos de idade. (CONTE, Juliana). Podemos observar no histograma que a maior frequência de colesterol sérico ocorro acima dos 200 mg/dl. Valor considerado de alto risco."
   ]
  },
  {
   "cell_type": "markdown",
   "id": "46bc3aa5",
   "metadata": {},
   "source": [
    "### 4. Gráfico de pizza para `restecg`"
   ]
  },
  {
   "cell_type": "code",
   "execution_count": 116,
   "id": "f5ca6231",
   "metadata": {},
   "outputs": [],
   "source": [
    "# Extrair para um dicionario\n",
    "restecg = dict(df['restecg'].value_counts())\n",
    "restecg['Normal'] = restecg.pop(0.0)\n",
    "restecg['Anormalidades de ST-T'] = restecg.pop(1.0)\n",
    "restecg['Hipertrofia Ventricular Esquerda Provável ou Definitiva'] = restecg.pop(2.0)\n",
    "labels = restecg.keys()\n",
    "sizes = restecg.values()\n",
    "explode = (0.1, 0, 0)"
   ]
  },
  {
   "cell_type": "code",
   "execution_count": 117,
   "id": "08711491",
   "metadata": {},
   "outputs": [
    {
     "data": {
      "image/png": "[encoded data removed]",
      "text/plain": [
       "<Figure size 432x432 with 1 Axes>"
      ]
     },
     "metadata": {},
     "output_type": "display_data"
    }
   ],
   "source": [
    "fig, ax = plt.subplots(figsize=(6, 6))\n",
    "ax.pie(sizes, labels = labels, explode = explode)\n",
    "ax.set_title(\"ECG de Repouso\")\n",
    "plt.tight_layout()"
   ]
  },
  {
   "cell_type": "markdown",
   "id": "dda7f424",
   "metadata": {},
   "source": [
    "O ECG em repouso alterado indica que em algum lugar do sistema elétrico do coração está ocorrendo alguma variação no seu funcionamento. Um ECG com laudo normal indica que a atividade elétrica do coração está em pleno funcionamento. Relata ainda que não existe grandes entupimentos das coronárias e que não há aumento de cavidades ou arritmias. (Morsch, José, 2015).\n"
   ]
  },
  {
   "cell_type": "markdown",
   "id": "c0ef9f43",
   "metadata": {},
   "source": [
    "<b><ul><li>Relação entre ECG e doenças cardiovasculares</li></ul></b>"
   ]
  },
  {
   "cell_type": "code",
   "execution_count": 118,
   "id": "76bfd4dc",
   "metadata": {
    "scrolled": true
   },
   "outputs": [
    {
     "data": {
      "text/plain": [
       "59.71"
      ]
     },
     "execution_count": 118,
     "metadata": {},
     "output_type": "execute_result"
    }
   ],
   "source": [
    "# Porcentagem de pessoas que tiveram doenças cardiovasculares com o ECG alterado\n",
    "round(df.loc[(df['num'] == 1) & (df['restecg'] > 0)].shape[0]/df.loc[df['num'] == 1].shape[0] * 100,2)"
   ]
  },
  {
   "cell_type": "code",
   "execution_count": 119,
   "id": "51bd2eb9",
   "metadata": {},
   "outputs": [
    {
     "data": {
      "text/plain": [
       "40.29"
      ]
     },
     "execution_count": 119,
     "metadata": {},
     "output_type": "execute_result"
    }
   ],
   "source": [
    "# Porcentagem de pessoas que tiveram doenças cardiovasculares com o ECG normal\n",
    "round(df.loc[(df['num'] == 1) & (df['restecg'] == 0)].shape[0]/df.loc[df['num'] == 1].shape[0] * 100,2)"
   ]
  },
  {
   "cell_type": "markdown",
   "id": "c6f08d62",
   "metadata": {},
   "source": [
    "Podemos observar que aproximadamente 58% dos indivíduos onde foram constatadas doenças cardiovasculares apresentavam o ECG alterado. Todavia, um número significativo de pessoas que apresentam o ECG normal também constatou doenças, cerca de 41%.\n",
    "\n",
    "<i>\"Vale lembrar que muitas vezes um ECG normal ou alterado não esclarecem de fato a condição de saúde de um paciente.\n",
    "UM ECG Normal será que isso é suficiente para finalizar uma investigação de doença cardíaca? A resposta é não. Já ouvimos falar de muitos casos em que o paciente realizou um ECG em repouso onde o resultado foi normal e no dia seguinte teve um infarto agudo do miocárdio. Então, como isso é possível? Para pequenos entupimentos das coronárias, cerca de 50% ou menos, o ECG de repouso não auxilia no diagnóstico. O paciente neste caso tem doença e não apareceu no Eletrocardiograma de repouso. (Morsch, José, 2015). </i>"
   ]
  },
  {
   "cell_type": "markdown",
   "id": "52fee7c5",
   "metadata": {},
   "source": [
    "### 5. Gráfico de correlações"
   ]
  },
  {
   "cell_type": "code",
   "execution_count": null,
   "id": "94170a6b",
   "metadata": {},
   "outputs": [],
   "source": [
    "import seaborn as sns\n",
    "# criar uma matriz de correlação\n",
    "corr_df = df.corr(method='pearson')\n",
    "\n",
    "plt.figure(figsize=(8, 6))\n",
    "sns.heatmap(corr_df, annot=True)\n",
    "plt.show()"
   ]
  },
  {
   "cell_type": "markdown",
   "id": "f830f0bd",
   "metadata": {},
   "source": [
    "## Conclusão"
   ]
  },
  {
   "cell_type": "markdown",
   "id": "51a9c77e",
   "metadata": {},
   "source": [
    "De acordo com os dados supracitados foi possível entender a relação de algumas classificações com as doenças cardiovasculares, bem como analisar alguns padrões e chegar às conclusões comentadas durante a análise exploratória."
   ]
  }
 ],
 "metadata": {
  "kernelspec": {
   "display_name": "Python 3",
   "language": "python",
   "name": "python3"
  },
  "language_info": {
   "codemirror_mode": {
    "name": "ipython",
    "version": 3
   },
   "file_extension": ".py",
   "mimetype": "text/x-python",
   "name": "python",
   "nbconvert_exporter": "python",
   "pygments_lexer": "ipython3",
   "version": "3.8.8"
  }
 },
 "nbformat": 4,
 "nbformat_minor": 5
}
