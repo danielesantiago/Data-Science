{
 "cells": [
  {
   "cell_type": "markdown",
   "id": "fdb9757c",
   "metadata": {},
   "source": [
    "# Previsão de Demanda de Vinhos com Séries Temporais\n",
    "\n",
    "A **Previsão de Demanda** é um processo crucial para as empresas, pois **visa antecipar a disposição dos clientes em adquirir um produto a um determinado preço**. Para realizar essa previsão, são analisados dados históricos de vendas e levados em consideração diversos fatores que podem influenciar a demanda futura de um produto. A previsão de demanda abrange aspectos como elaboração de orçamentos, planejamento e preparação da produção, gestão de estoques, definição de preços e promoções, entre outros.\n",
    "\n",
    "<p align = \"center\">\n",
    "<img src=\"Arquivos/wine.jpg\" width=80%>\n",
    "</p>\n",
    "\n",
    "O **objetivo** deste projeto é **realizar a previsão das vendas de vinhos utilizando séries temporais**. As séries temporais são conjuntos de dados coletados em intervalos regulares de tempo, permitindo observar padrões, sazonalidades e tendências ao longo do tempo. No caso deste projeto, serão analisados **dados sintéticos** baseados em uma competição do *Kaggle*.\n",
    "\n",
    "Os **vinhos** são bebidas que evoluem continuamente, **exigindo condições ideais de armazenamento e transporte** para preservar suas características e evitar a deterioração. Por esse motivo, é essencial ter cuidado especial com a guarda e o transporte dos vinhos, de modo a ****minimizar perdas no estoque e maximizar o lucro da empresa**.\n",
    "\n",
    "Embora alguns vinhos possam melhorar com o passar dos anos, a maioria é produzida para consumo \"imediato\", desde o momento em que chegam ao mercado até, no máximo, 1 a 3 anos. Portanto, é fundamental evitar o acúmulo de vinhos no estoque, otimizando o gerenciamento de demanda e garantindo a satisfação do cliente, bem como a saúde financeira da empresa."
   ]
  },
  {
   "cell_type": "markdown",
   "id": "5694f43f",
   "metadata": {},
   "source": [
    "## Aquisição dos Dados\n",
    "\n",
    "Há dois arquivos disponíveis, baseados no *Kaggle*, criados pelo Rafael Duarte, que serão analizados. O primeiro disponível [aqui](https://raw.githubusercontent.com/rafaelnduarte/sigmoidal_data/master/products.csv) trata de informações sobre o produto. A primeira análise será sobre o mesmo a fim de entender melhor o rpoblema.\n",
    "\n",
    "O próximo conjunto de dados é relacionado às vendas, disponível [aqui](https://raw.githubusercontent.com/rafaelnduarte/sigmoidal_data/master/sales-clean.csv). Neste conjunto é onde será utilizado a série temporal com o objetivo de prever a demanda."
   ]
  },
  {
   "cell_type": "code",
   "execution_count": 255,
   "id": "86e0e4ba",
   "metadata": {},
   "outputs": [],
   "source": [
    "# Importação de bibliotecas básicas\n",
    "import pandas as pd\n",
    "import numpy as np\n",
    "import matplotlib.pyplot as plt\n",
    "import seaborn as sns\n",
    "import datetime as dt\n",
    "import warnings\n",
    "warnings.filterwarnings('ignore')"
   ]
  },
  {
   "cell_type": "code",
   "execution_count": 256,
   "id": "01a615e1",
   "metadata": {},
   "outputs": [],
   "source": [
    "# importar os dados\n",
    "df_product = pd.read_csv(\"https://raw.githubusercontent.com/rafaelnduarte/sigmoidal_data/master/products.csv\")\n",
    "\n",
    "store = pd.read_csv(\"https://raw.githubusercontent.com/rafaelnduarte/sigmoidal_data/master/sales-clean.csv\")"
   ]
  },
  {
   "cell_type": "markdown",
   "id": "b8bfca03",
   "metadata": {},
   "source": [
    "## Análise dos Dados\n",
    "\n",
    "Esta etapa tem por objetivo permitir um entendimento de como os dados estão estruturados.\n",
    "\n",
    "**Dicionário das variáveis**\n",
    "\n",
    "* `item_id`- Número de identificação do item\n",
    "* `name`- Nome do vinho\n",
    "* `producer`- Nome do Produtor do vinho\n",
    "* `country`- País de origem do vinho\n",
    "* `vintage`- Safra\n",
    "* `kind`- Tipo do vinho\n",
    "* * Sparkling = Espumante\n",
    "* * Rose Sparkling = Espumante Rose\n",
    "* * White = Branco\n",
    "* * Rosé = Rosé\n",
    "* * Red = Tinto\n",
    "* `price_brl`- Preço em reais\n",
    "* `price_usd`- Preço em dólar americano"
   ]
  },
  {
   "cell_type": "markdown",
   "id": "18d6e935",
   "metadata": {},
   "source": [
    "## Análise Exploratória dos Dados\n",
    "\n",
    "Na análise exploratória de dados será efetuada uma explanação inicial das variáveis contidas na dataset, e entenderemos dados referentes a:\n",
    "\n",
    "* *Contexto geral das variáveis*\n",
    "* *Porcentagem de itens nulos*\n",
    "* *Análise das variáveis separadas por seus respectivos grupos*\n",
    "* *Divisão do conjunto de treino e teste*\n",
    "* *Auto-ML*\n",
    "* *Previsão em dados novos*\n"
   ]
  },
  {
   "cell_type": "markdown",
   "id": "6907ec7a",
   "metadata": {},
   "source": [
    "Primeiramente, observaremos como estão dispostas as cinco primeiras entradas do dataset para ter uma visão ampla da estrutura de dados."
   ]
  },
  {
   "cell_type": "code",
   "execution_count": 257,
   "id": "2396fddd",
   "metadata": {},
   "outputs": [
    {
     "data": {
      "text/html": [
       "<div>\n",
       "<style scoped>\n",
       "    .dataframe tbody tr th:only-of-type {\n",
       "        vertical-align: middle;\n",
       "    }\n",
       "\n",
       "    .dataframe tbody tr th {\n",
       "        vertical-align: top;\n",
       "    }\n",
       "\n",
       "    .dataframe thead th {\n",
       "        text-align: right;\n",
       "    }\n",
       "</style>\n",
       "<table border=\"1\" class=\"dataframe\">\n",
       "  <thead>\n",
       "    <tr style=\"text-align: right;\">\n",
       "      <th></th>\n",
       "      <th>item_id</th>\n",
       "      <th>name</th>\n",
       "      <th>producer</th>\n",
       "      <th>country</th>\n",
       "      <th>region</th>\n",
       "      <th>vintage</th>\n",
       "      <th>kind</th>\n",
       "      <th>price_brl</th>\n",
       "      <th>price_usd</th>\n",
       "    </tr>\n",
       "  </thead>\n",
       "  <tbody>\n",
       "    <tr>\n",
       "      <th>0</th>\n",
       "      <td>1</td>\n",
       "      <td>Philipponnat Royale Reserve Brut</td>\n",
       "      <td>Philipponat</td>\n",
       "      <td>France</td>\n",
       "      <td>Champagne</td>\n",
       "      <td>NV</td>\n",
       "      <td>sparkling</td>\n",
       "      <td>339.60</td>\n",
       "      <td>58.75</td>\n",
       "    </tr>\n",
       "    <tr>\n",
       "      <th>1</th>\n",
       "      <td>2</td>\n",
       "      <td>Philipponnat Royale Reserve Rosé</td>\n",
       "      <td>Philipponat</td>\n",
       "      <td>France</td>\n",
       "      <td>Champagne</td>\n",
       "      <td>NV</td>\n",
       "      <td>rose sparkling</td>\n",
       "      <td>489.00</td>\n",
       "      <td>84.60</td>\n",
       "    </tr>\n",
       "    <tr>\n",
       "      <th>2</th>\n",
       "      <td>3</td>\n",
       "      <td>Philipponnat Cuvée 1522 Grand Cru Extra Brut</td>\n",
       "      <td>Philipponat</td>\n",
       "      <td>France</td>\n",
       "      <td>Champagne</td>\n",
       "      <td>2009</td>\n",
       "      <td>sparkling</td>\n",
       "      <td>789.00</td>\n",
       "      <td>136.51</td>\n",
       "    </tr>\n",
       "    <tr>\n",
       "      <th>3</th>\n",
       "      <td>4</td>\n",
       "      <td>Philipponnat Cuvée 1522 1er Cru Rosé</td>\n",
       "      <td>Philipponat</td>\n",
       "      <td>France</td>\n",
       "      <td>Champagne</td>\n",
       "      <td>2008</td>\n",
       "      <td>rose sparkling</td>\n",
       "      <td>899.40</td>\n",
       "      <td>155.61</td>\n",
       "    </tr>\n",
       "    <tr>\n",
       "      <th>4</th>\n",
       "      <td>5</td>\n",
       "      <td>Philipponnat Clos Des Goisses Brut</td>\n",
       "      <td>Philipponat</td>\n",
       "      <td>France</td>\n",
       "      <td>Champagne</td>\n",
       "      <td>2009</td>\n",
       "      <td>sparkling</td>\n",
       "      <td>1,548.00</td>\n",
       "      <td>267.82</td>\n",
       "    </tr>\n",
       "  </tbody>\n",
       "</table>\n",
       "</div>"
      ],
      "text/plain": [
       "   item_id                                          name     producer country  \\\n",
       "0        1              Philipponnat Royale Reserve Brut  Philipponat  France   \n",
       "1        2              Philipponnat Royale Reserve Rosé  Philipponat  France   \n",
       "2        3  Philipponnat Cuvée 1522 Grand Cru Extra Brut  Philipponat  France   \n",
       "3        4          Philipponnat Cuvée 1522 1er Cru Rosé  Philipponat  France   \n",
       "4        5            Philipponnat Clos Des Goisses Brut  Philipponat  France   \n",
       "\n",
       "      region vintage            kind price_brl price_usd  \n",
       "0  Champagne      NV       sparkling    339.60     58.75  \n",
       "1  Champagne      NV  rose sparkling    489.00     84.60  \n",
       "2  Champagne    2009       sparkling    789.00    136.51  \n",
       "3  Champagne    2008  rose sparkling    899.40    155.61  \n",
       "4  Champagne    2009       sparkling  1,548.00    267.82  "
      ]
     },
     "execution_count": 257,
     "metadata": {},
     "output_type": "execute_result"
    }
   ],
   "source": [
    "df_product.head()"
   ]
  },
  {
   "cell_type": "code",
   "execution_count": 258,
   "id": "d38583d3",
   "metadata": {},
   "outputs": [
    {
     "name": "stdout",
     "output_type": "stream",
     "text": [
      "Entradas:  219\n",
      "Variáveis:  9\n"
     ]
    }
   ],
   "source": [
    "# Visualizar o tamanho do dataframe\n",
    "print(\"Entradas: \", df_product.shape[0])\n",
    "print(\"Variáveis: \", df_product.shape[1])"
   ]
  },
  {
   "cell_type": "code",
   "execution_count": 259,
   "id": "7fce0bd6",
   "metadata": {},
   "outputs": [
    {
     "data": {
      "text/plain": [
       "Index(['item_id', 'name', 'producer', 'country', 'region', 'vintage', 'kind',\n",
       "       'price_brl', 'price_usd'],\n",
       "      dtype='object')"
      ]
     },
     "execution_count": 259,
     "metadata": {},
     "output_type": "execute_result"
    }
   ],
   "source": [
    "# Extrair o nome das colunas\n",
    "df_product.columns"
   ]
  },
  {
   "cell_type": "markdown",
   "id": "467dd395",
   "metadata": {},
   "source": [
    "O dataset contém **219 instâncias** e **9 features**. Observando as 5 primeiras entradas é possível identificar alguns problemas que devem ser corrigidos:\n",
    "\n",
    "* A feature \"price_brl\" possui algumas vírgulas, que não vão ser bem interpretadas pelo Python.\n",
    "* A safra, ou vintage, possui valores como NV (Non-Vintage) que devem ser alterados para 0.\n",
    "\n",
    "Corrigiremos estes problemas a seguir."
   ]
  },
  {
   "cell_type": "code",
   "execution_count": 260,
   "id": "847a9911",
   "metadata": {},
   "outputs": [
    {
     "data": {
      "text/html": [
       "<div>\n",
       "<style scoped>\n",
       "    .dataframe tbody tr th:only-of-type {\n",
       "        vertical-align: middle;\n",
       "    }\n",
       "\n",
       "    .dataframe tbody tr th {\n",
       "        vertical-align: top;\n",
       "    }\n",
       "\n",
       "    .dataframe thead th {\n",
       "        text-align: right;\n",
       "    }\n",
       "</style>\n",
       "<table border=\"1\" class=\"dataframe\">\n",
       "  <thead>\n",
       "    <tr style=\"text-align: right;\">\n",
       "      <th></th>\n",
       "      <th>item_id</th>\n",
       "      <th>name</th>\n",
       "      <th>producer</th>\n",
       "      <th>country</th>\n",
       "      <th>region</th>\n",
       "      <th>vintage</th>\n",
       "      <th>kind</th>\n",
       "      <th>price_brl</th>\n",
       "      <th>price_usd</th>\n",
       "    </tr>\n",
       "  </thead>\n",
       "  <tbody>\n",
       "    <tr>\n",
       "      <th>0</th>\n",
       "      <td>1</td>\n",
       "      <td>Philipponnat Royale Reserve Brut</td>\n",
       "      <td>Philipponat</td>\n",
       "      <td>France</td>\n",
       "      <td>Champagne</td>\n",
       "      <td>0</td>\n",
       "      <td>sparkling</td>\n",
       "      <td>339.60</td>\n",
       "      <td>58.75</td>\n",
       "    </tr>\n",
       "    <tr>\n",
       "      <th>1</th>\n",
       "      <td>2</td>\n",
       "      <td>Philipponnat Royale Reserve Rosé</td>\n",
       "      <td>Philipponat</td>\n",
       "      <td>France</td>\n",
       "      <td>Champagne</td>\n",
       "      <td>0</td>\n",
       "      <td>rose sparkling</td>\n",
       "      <td>489.00</td>\n",
       "      <td>84.60</td>\n",
       "    </tr>\n",
       "    <tr>\n",
       "      <th>2</th>\n",
       "      <td>3</td>\n",
       "      <td>Philipponnat Cuvée 1522 Grand Cru Extra Brut</td>\n",
       "      <td>Philipponat</td>\n",
       "      <td>France</td>\n",
       "      <td>Champagne</td>\n",
       "      <td>2009</td>\n",
       "      <td>sparkling</td>\n",
       "      <td>789.00</td>\n",
       "      <td>136.51</td>\n",
       "    </tr>\n",
       "    <tr>\n",
       "      <th>3</th>\n",
       "      <td>4</td>\n",
       "      <td>Philipponnat Cuvée 1522 1er Cru Rosé</td>\n",
       "      <td>Philipponat</td>\n",
       "      <td>France</td>\n",
       "      <td>Champagne</td>\n",
       "      <td>2008</td>\n",
       "      <td>rose sparkling</td>\n",
       "      <td>899.40</td>\n",
       "      <td>155.61</td>\n",
       "    </tr>\n",
       "    <tr>\n",
       "      <th>4</th>\n",
       "      <td>5</td>\n",
       "      <td>Philipponnat Clos Des Goisses Brut</td>\n",
       "      <td>Philipponat</td>\n",
       "      <td>France</td>\n",
       "      <td>Champagne</td>\n",
       "      <td>2009</td>\n",
       "      <td>sparkling</td>\n",
       "      <td>1548.00</td>\n",
       "      <td>267.82</td>\n",
       "    </tr>\n",
       "  </tbody>\n",
       "</table>\n",
       "</div>"
      ],
      "text/plain": [
       "   item_id                                          name     producer country  \\\n",
       "0        1              Philipponnat Royale Reserve Brut  Philipponat  France   \n",
       "1        2              Philipponnat Royale Reserve Rosé  Philipponat  France   \n",
       "2        3  Philipponnat Cuvée 1522 Grand Cru Extra Brut  Philipponat  France   \n",
       "3        4          Philipponnat Cuvée 1522 1er Cru Rosé  Philipponat  France   \n",
       "4        5            Philipponnat Clos Des Goisses Brut  Philipponat  France   \n",
       "\n",
       "      region  vintage            kind price_brl price_usd  \n",
       "0  Champagne        0       sparkling    339.60     58.75  \n",
       "1  Champagne        0  rose sparkling    489.00     84.60  \n",
       "2  Champagne     2009       sparkling    789.00    136.51  \n",
       "3  Champagne     2008  rose sparkling    899.40    155.61  \n",
       "4  Champagne     2009       sparkling   1548.00    267.82  "
      ]
     },
     "execution_count": 260,
     "metadata": {},
     "output_type": "execute_result"
    }
   ],
   "source": [
    "# limpando as vírgulas\n",
    "df_product.replace(',','', regex=True, inplace=True)\n",
    "# removendo o NV da safra\n",
    "df_product.vintage = df_product.vintage.replace('NV', '0')\n",
    "df_product.vintage = pd.to_numeric(df_product.vintage)\n",
    "# visualizando o dataset\n",
    "df_product.head()"
   ]
  },
  {
   "cell_type": "markdown",
   "id": "6137c6a6",
   "metadata": {},
   "source": [
    "Verificaremos agora a porcentagem de itens nulos."
   ]
  },
  {
   "cell_type": "code",
   "execution_count": 261,
   "id": "51b097e3",
   "metadata": {},
   "outputs": [
    {
     "data": {
      "text/plain": [
       "item_id      0.0\n",
       "name         0.0\n",
       "producer     0.0\n",
       "country      0.0\n",
       "region       0.0\n",
       "vintage      0.0\n",
       "kind         0.0\n",
       "price_brl    0.0\n",
       "price_usd    0.0\n",
       "dtype: float64"
      ]
     },
     "execution_count": 261,
     "metadata": {},
     "output_type": "execute_result"
    }
   ],
   "source": [
    "# porcentagem de itens nulo\n",
    "(df_product.isnull().sum()/df_product.shape[0]).sort_values(ascending = True)"
   ]
  },
  {
   "cell_type": "markdown",
   "id": "a9d110b3",
   "metadata": {},
   "source": [
    "O dataset possui não possui dados ausentes. Veremos agora o tipo das variáveis."
   ]
  },
  {
   "cell_type": "code",
   "execution_count": 262,
   "id": "2689f00b",
   "metadata": {
    "scrolled": true
   },
   "outputs": [
    {
     "data": {
      "text/plain": [
       "item_id       int64\n",
       "name         object\n",
       "producer     object\n",
       "country      object\n",
       "region       object\n",
       "vintage       int64\n",
       "kind         object\n",
       "price_brl    object\n",
       "price_usd    object\n",
       "dtype: object"
      ]
     },
     "execution_count": 262,
     "metadata": {},
     "output_type": "execute_result"
    }
   ],
   "source": [
    "df_product.dtypes"
   ]
  },
  {
   "cell_type": "markdown",
   "id": "09c4fa3e",
   "metadata": {},
   "source": [
    " As variáveis `price_brl` e `price_usd` estão como string, irei as converter para float."
   ]
  },
  {
   "cell_type": "code",
   "execution_count": 263,
   "id": "db24aa3e",
   "metadata": {
    "scrolled": true
   },
   "outputs": [],
   "source": [
    "# conversão para float\n",
    "df_product.vintage = df_product.vintage.astype(int)\n",
    "df_product.price_brl = df_product.price_brl.astype(float)\n",
    "df_product.price_usd = df_product.price_usd.astype(float)"
   ]
  },
  {
   "cell_type": "markdown",
   "id": "9ffd94cb",
   "metadata": {},
   "source": [
    "Verificaremos novamente os tipos para confirmar que a mudança foi efetuada."
   ]
  },
  {
   "cell_type": "code",
   "execution_count": 264,
   "id": "0b6ad5ac",
   "metadata": {
    "scrolled": true
   },
   "outputs": [
    {
     "data": {
      "text/plain": [
       "item_id        int64\n",
       "name          object\n",
       "producer      object\n",
       "country       object\n",
       "region        object\n",
       "vintage        int32\n",
       "kind          object\n",
       "price_brl    float64\n",
       "price_usd    float64\n",
       "dtype: object"
      ]
     },
     "execution_count": 264,
     "metadata": {},
     "output_type": "execute_result"
    }
   ],
   "source": [
    "df_product.dtypes"
   ]
  },
  {
   "cell_type": "markdown",
   "id": "64e6bd23",
   "metadata": {},
   "source": [
    "Verificaremos a quantidade de **produtores** de vinhos no dataset e plotaremos um gráfico de barras."
   ]
  },
  {
   "cell_type": "code",
   "execution_count": 265,
   "id": "2a088d3f",
   "metadata": {},
   "outputs": [
    {
     "data": {
      "text/plain": [
       "Domaine Ponsot                                    12\n",
       "La Chablisienne                                   10\n",
       "Domaine Matrot                                     9\n",
       "Achaval Ferrer                                     8\n",
       "Pêra-Grave                                         8\n",
       "Olivier Riviere                                    8\n",
       "Casanova di Neri                                   8\n",
       "Eric Texier                                        7\n",
       "Domaine Pascal Prunier-Bonheur                     7\n",
       "Domaine Tessier                                    5\n",
       "Luis Seabra Vinhos                                 5\n",
       "Aalto                                              5\n",
       "Sandrone                                           5\n",
       "Domaine de Fontbonau                               5\n",
       "Philipponat                                        5\n",
       "Domaine Michel Niellon                             5\n",
       "Domaine Alain Chavy                                5\n",
       "Chateau Pavie                                      4\n",
       "Agrapart                                           4\n",
       "Chateau Potensac                                   4\n",
       "Elian da Ros                                       4\n",
       "Villa Diamante                                     4\n",
       "Chateau Larrivet Haut-Brion                        4\n",
       "Arinzano                                           4\n",
       "Domaine Hudelot-Noellat                            4\n",
       "Mirabeau                                           4\n",
       "Tenute Rubino                                      3\n",
       "Chateau Ducru Beaucaillou                          3\n",
       "Astoria Wines                                      3\n",
       "Chateau Doisy-Vedrines                             3\n",
       "Chateau Climens                                    3\n",
       "Domaine Vacheron                                   3\n",
       "Antoine Jobard                                     3\n",
       "Chateau D'Issan                                    3\n",
       "Chateau Talbot                                     3\n",
       "Chateau Latour                                     3\n",
       "Domaine Duroché                                    3\n",
       "Chateau Montrose                                   3\n",
       "Grau Baumé                                         2\n",
       "Domaine Denis Mortet                               2\n",
       "Nicolas JOLY                                       2\n",
       "Domaine Berthaut-Gerbet                            2\n",
       "Chateau Gloria                                     2\n",
       "Chateau Pichon Longueville Comtesse de Lalande     2\n",
       "Chateau Leoville Las Cases                         2\n",
       "Chateau Trotanoy                                   2\n",
       "Clos du Marquis                                    2\n",
       "Chateau Leoville Barton                            2\n",
       "Domaine Paul Pillot                                1\n",
       "Chateau Marjosse                                   1\n",
       "Stephane Ogier                                     1\n",
       "Domaine Dujac                                      1\n",
       "Juvé & Camps                                       1\n",
       "Chateau Nenin                                      1\n",
       "Domaine Fourrier                                   1\n",
       "Domaine Zind-Humbrecht                             1\n",
       "Viñedo Chadwick                                    1\n",
       "Triennes                                           1\n",
       "Name: producer, dtype: int64"
      ]
     },
     "execution_count": 265,
     "metadata": {},
     "output_type": "execute_result"
    }
   ],
   "source": [
    "df_product.producer.value_counts()"
   ]
  },
  {
   "cell_type": "code",
   "execution_count": 266,
   "id": "30fe48c9",
   "metadata": {},
   "outputs": [
    {
     "data": {
      "image/png": "[encoded data removed]",
      "text/plain": [
       "<Figure size 1600x800 with 1 Axes>"
      ]
     },
     "metadata": {},
     "output_type": "display_data"
    }
   ],
   "source": [
    "fig, ax = plt.subplots(figsize=(16, 8))\n",
    "sns.countplot(x=df_product.producer, order=df_product.producer.value_counts().index, palette = sns.color_palette(\"muted\"));\n",
    "plt.xticks(rotation=90)\n",
    "fig.suptitle(\"Produtores de Vinhos\", fontsize = 15)\n",
    "plt.show();"
   ]
  },
  {
   "cell_type": "markdown",
   "id": "350f7bef",
   "metadata": {},
   "source": [
    "Veremos agora a **quantidade de vinhos por país**."
   ]
  },
  {
   "cell_type": "code",
   "execution_count": 267,
   "id": "89c08129",
   "metadata": {},
   "outputs": [
    {
     "data": {
      "image/png": "[encoded data removed]",
      "text/plain": [
       "<Figure size 1600x800 with 1 Axes>"
      ]
     },
     "metadata": {},
     "output_type": "display_data"
    }
   ],
   "source": [
    "fig, ax = plt.subplots(figsize=(16, 8))\n",
    "sns.countplot(y=df_product.country, order=df_product.country.value_counts().index, palette = sns.color_palette(\"muted\"));\n",
    "fig.suptitle(\"Vinhos por país\", fontsize = 15)\n",
    "plt.show();"
   ]
  },
  {
   "cell_type": "markdown",
   "id": "d1a2c1cf",
   "metadata": {},
   "source": [
    "No dataset o país prevalecente é **França**, seguido de **Itália** e **Espanha**."
   ]
  },
  {
   "cell_type": "markdown",
   "id": "a9d415cc",
   "metadata": {},
   "source": [
    "Veremos agora a maior quantidade de vinhos por região."
   ]
  },
  {
   "cell_type": "code",
   "execution_count": 268,
   "id": "3effcfdd",
   "metadata": {},
   "outputs": [
    {
     "data": {
      "text/plain": [
       "Burgundy            70\n",
       "Bordeaux            47\n",
       "Rhone               13\n",
       "Champagne            9\n",
       "Alentejo             8\n",
       "Rioja                8\n",
       "Toscana              8\n",
       "Mendoza              8\n",
       "Douro                7\n",
       "Provence             5\n",
       "Ribera del Duero     5\n",
       "Loire Valley         5\n",
       "Piedmont             5\n",
       "Sud Ouest            4\n",
       "Campania             4\n",
       "Navarra              4\n",
       "Veneto               3\n",
       "Puglia               3\n",
       "Alsace               1\n",
       "Penedès              1\n",
       "Maipo                1\n",
       "Name: region, dtype: int64"
      ]
     },
     "execution_count": 268,
     "metadata": {},
     "output_type": "execute_result"
    }
   ],
   "source": [
    "df_product.region.value_counts()"
   ]
  },
  {
   "cell_type": "markdown",
   "id": "6109d791",
   "metadata": {},
   "source": [
    "As regiões prevalecentes são **Burgundy**, **Bordeaux**, **Rhone** e **Champagne**."
   ]
  },
  {
   "cell_type": "markdown",
   "id": "f205c06f",
   "metadata": {},
   "source": [
    "Veremos agora a safra com maior quantidade de vinhos por **safra**, exluindo aqueles que não possuem safra identificada."
   ]
  },
  {
   "cell_type": "code",
   "execution_count": 269,
   "id": "e410d6c2",
   "metadata": {},
   "outputs": [
    {
     "data": {
      "image/png": "[encoded data removed]",
      "text/plain": [
       "<Figure size 1500x500 with 1 Axes>"
      ]
     },
     "metadata": {},
     "output_type": "display_data"
    }
   ],
   "source": [
    "df_copy = df_product.loc[df_product.vintage != 0]\n",
    "\n",
    "fig = plt.gcf()\n",
    "fig.set_size_inches(15, 5)\n",
    "sns.set(style=\"whitegrid\", palette = 'muted')\n",
    "\n",
    "ax = sns.lineplot(\n",
    "    x=df_copy.vintage.value_counts().index, y=df_copy.vintage.value_counts().values,\n",
    ");\n",
    "\n",
    "ax.grid(False)\n",
    "ax.set(xlabel='Data', ylabel='Quantidade de vinhos')\n",
    "ax.set_title(\"Safra\")\n",
    "plt.show()"
   ]
  },
  {
   "cell_type": "markdown",
   "id": "7ab1f9b5",
   "metadata": {},
   "source": [
    "Pode-se observar que no dataset, há maiores quantidades de vinhos a partir da safra de 2015."
   ]
  },
  {
   "cell_type": "markdown",
   "id": "2e01dda5",
   "metadata": {},
   "source": [
    "Vejamos também a quantidade por tipos de vinhos."
   ]
  },
  {
   "cell_type": "code",
   "execution_count": 270,
   "id": "b174daab",
   "metadata": {},
   "outputs": [
    {
     "data": {
      "text/plain": [
       "red               132\n",
       "white              69\n",
       "sparkling          10\n",
       "rose                5\n",
       "rose sparkling      3\n",
       "Name: kind, dtype: int64"
      ]
     },
     "execution_count": 270,
     "metadata": {},
     "output_type": "execute_result"
    }
   ],
   "source": [
    "df_product.kind.value_counts()"
   ]
  },
  {
   "cell_type": "code",
   "execution_count": 271,
   "id": "773f086d",
   "metadata": {},
   "outputs": [
    {
     "data": {
      "image/png": "[encoded data removed]",
      "text/plain": [
       "<Figure size 1600x800 with 1 Axes>"
      ]
     },
     "metadata": {},
     "output_type": "display_data"
    }
   ],
   "source": [
    "fig, ax = plt.subplots(figsize=(16, 8))\n",
    "sns.countplot(y=df_product.kind, order=df_product.kind.value_counts().index, palette = sns.color_palette(\"muted\"));\n",
    "fig.suptitle(\"Tipo de Vinhos\", fontsize = 15)\n",
    "plt.show();"
   ]
  },
  {
   "cell_type": "markdown",
   "id": "d0e6e0ea",
   "metadata": {},
   "source": [
    "No dataset, há maior prevalência de vinhos **tintos**, **brancos** e **espumante**."
   ]
  },
  {
   "cell_type": "markdown",
   "id": "37769442",
   "metadata": {},
   "source": [
    "Iremos observar informações estatísticas do dataset."
   ]
  },
  {
   "cell_type": "code",
   "execution_count": 272,
   "id": "6a49dcfa",
   "metadata": {},
   "outputs": [
    {
     "data": {
      "text/html": [
       "<div>\n",
       "<style scoped>\n",
       "    .dataframe tbody tr th:only-of-type {\n",
       "        vertical-align: middle;\n",
       "    }\n",
       "\n",
       "    .dataframe tbody tr th {\n",
       "        vertical-align: top;\n",
       "    }\n",
       "\n",
       "    .dataframe thead th {\n",
       "        text-align: right;\n",
       "    }\n",
       "</style>\n",
       "<table border=\"1\" class=\"dataframe\">\n",
       "  <thead>\n",
       "    <tr style=\"text-align: right;\">\n",
       "      <th></th>\n",
       "      <th>vintage</th>\n",
       "      <th>price_brl</th>\n",
       "      <th>price_usd</th>\n",
       "    </tr>\n",
       "  </thead>\n",
       "  <tbody>\n",
       "    <tr>\n",
       "      <th>count</th>\n",
       "      <td>219.000000</td>\n",
       "      <td>219.000000</td>\n",
       "      <td>219.000000</td>\n",
       "    </tr>\n",
       "    <tr>\n",
       "      <th>mean</th>\n",
       "      <td>1942.182648</td>\n",
       "      <td>967.617352</td>\n",
       "      <td>167.407808</td>\n",
       "    </tr>\n",
       "    <tr>\n",
       "      <th>std</th>\n",
       "      <td>379.055337</td>\n",
       "      <td>1409.588217</td>\n",
       "      <td>243.873780</td>\n",
       "    </tr>\n",
       "    <tr>\n",
       "      <th>min</th>\n",
       "      <td>0.000000</td>\n",
       "      <td>52.800000</td>\n",
       "      <td>9.130000</td>\n",
       "    </tr>\n",
       "    <tr>\n",
       "      <th>25%</th>\n",
       "      <td>2014.000000</td>\n",
       "      <td>264.300000</td>\n",
       "      <td>45.725000</td>\n",
       "    </tr>\n",
       "    <tr>\n",
       "      <th>50%</th>\n",
       "      <td>2017.000000</td>\n",
       "      <td>509.400000</td>\n",
       "      <td>88.130000</td>\n",
       "    </tr>\n",
       "    <tr>\n",
       "      <th>75%</th>\n",
       "      <td>2018.000000</td>\n",
       "      <td>949.200000</td>\n",
       "      <td>164.220000</td>\n",
       "    </tr>\n",
       "    <tr>\n",
       "      <th>max</th>\n",
       "      <td>2019.000000</td>\n",
       "      <td>10992.000000</td>\n",
       "      <td>1901.730000</td>\n",
       "    </tr>\n",
       "  </tbody>\n",
       "</table>\n",
       "</div>"
      ],
      "text/plain": [
       "           vintage     price_brl    price_usd\n",
       "count   219.000000    219.000000   219.000000\n",
       "mean   1942.182648    967.617352   167.407808\n",
       "std     379.055337   1409.588217   243.873780\n",
       "min       0.000000     52.800000     9.130000\n",
       "25%    2014.000000    264.300000    45.725000\n",
       "50%    2017.000000    509.400000    88.130000\n",
       "75%    2018.000000    949.200000   164.220000\n",
       "max    2019.000000  10992.000000  1901.730000"
      ]
     },
     "execution_count": 272,
     "metadata": {},
     "output_type": "execute_result"
    }
   ],
   "source": [
    "df_product[['vintage', 'price_brl', 'price_usd']].describe()"
   ]
  },
  {
   "cell_type": "markdown",
   "id": "e9d93b0c",
   "metadata": {},
   "source": [
    "Pode-se observar que:\n",
    "    \n",
    "* A mediana da safra está em 2017 e o valor máximo em 2019.\n",
    "* O preço mínimo é 52 reais e o máximo 10.992."
   ]
  },
  {
   "cell_type": "markdown",
   "id": "3a5bb167",
   "metadata": {},
   "source": [
    "Observaremos um boxplot do preço de vinhos."
   ]
  },
  {
   "cell_type": "code",
   "execution_count": 273,
   "id": "4ee4bd6b",
   "metadata": {},
   "outputs": [
    {
     "data": {
      "image/png": "[encoded data removed]",
      "text/plain": [
       "<Figure size 500x500 with 1 Axes>"
      ]
     },
     "metadata": {},
     "output_type": "display_data"
    }
   ],
   "source": [
    "fig, ax = plt.subplots(figsize=(5, 5))\n",
    "sns.set_palette(\"magma\")\n",
    "sns.boxplot(df_product.price_brl, ax = ax);\n",
    "ax.set_title(\"Boxplot - Preço\");"
   ]
  },
  {
   "cell_type": "markdown",
   "id": "998162e3",
   "metadata": {},
   "source": [
    "Há alguns **outliers** referente ao **preço**. Agruparemos os vinhos mais caros por tipo, e o top 5 de vinhos mais caros."
   ]
  },
  {
   "cell_type": "code",
   "execution_count": 274,
   "id": "221e59f4",
   "metadata": {
    "scrolled": true
   },
   "outputs": [
    {
     "data": {
      "text/plain": [
       "kind\n",
       "red               10992.0\n",
       "white              3294.0\n",
       "sparkling          1548.0\n",
       "rose sparkling      899.4\n",
       "rose                285.0\n",
       "Name: price_brl, dtype: float64"
      ]
     },
     "execution_count": 274,
     "metadata": {},
     "output_type": "execute_result"
    }
   ],
   "source": [
    "# vinhos mais caros por tipos\n",
    "df_product.groupby(['kind']).price_brl.max().sort_values(ascending = False)"
   ]
  },
  {
   "cell_type": "markdown",
   "id": "def3f6f0",
   "metadata": {},
   "source": [
    "Os vinhos com preço maior são tintos, brancos e espumante, respectivamente."
   ]
  },
  {
   "cell_type": "code",
   "execution_count": 275,
   "id": "240c7c10",
   "metadata": {
    "scrolled": true
   },
   "outputs": [
    {
     "data": {
      "text/html": [
       "<div>\n",
       "<style scoped>\n",
       "    .dataframe tbody tr th:only-of-type {\n",
       "        vertical-align: middle;\n",
       "    }\n",
       "\n",
       "    .dataframe tbody tr th {\n",
       "        vertical-align: top;\n",
       "    }\n",
       "\n",
       "    .dataframe thead th {\n",
       "        text-align: right;\n",
       "    }\n",
       "</style>\n",
       "<table border=\"1\" class=\"dataframe\">\n",
       "  <thead>\n",
       "    <tr style=\"text-align: right;\">\n",
       "      <th></th>\n",
       "      <th>item_id</th>\n",
       "      <th>name</th>\n",
       "      <th>producer</th>\n",
       "      <th>country</th>\n",
       "      <th>region</th>\n",
       "      <th>vintage</th>\n",
       "      <th>kind</th>\n",
       "      <th>price_brl</th>\n",
       "      <th>price_usd</th>\n",
       "    </tr>\n",
       "  </thead>\n",
       "  <tbody>\n",
       "    <tr>\n",
       "      <th>93</th>\n",
       "      <td>94</td>\n",
       "      <td>Domaine Ponsot Clos de La Roche Grand Cru Cuve...</td>\n",
       "      <td>Domaine Ponsot</td>\n",
       "      <td>France</td>\n",
       "      <td>Burgundy</td>\n",
       "      <td>2017</td>\n",
       "      <td>red</td>\n",
       "      <td>10992.0</td>\n",
       "      <td>1901.73</td>\n",
       "    </tr>\n",
       "    <tr>\n",
       "      <th>116</th>\n",
       "      <td>117</td>\n",
       "      <td>Latour</td>\n",
       "      <td>Chateau Latour</td>\n",
       "      <td>France</td>\n",
       "      <td>Bordeaux</td>\n",
       "      <td>2002</td>\n",
       "      <td>red</td>\n",
       "      <td>9594.0</td>\n",
       "      <td>1659.86</td>\n",
       "    </tr>\n",
       "    <tr>\n",
       "      <th>142</th>\n",
       "      <td>143</td>\n",
       "      <td>Château Pavie</td>\n",
       "      <td>Chateau Pavie</td>\n",
       "      <td>France</td>\n",
       "      <td>Bordeaux</td>\n",
       "      <td>2010</td>\n",
       "      <td>red</td>\n",
       "      <td>5999.4</td>\n",
       "      <td>1037.96</td>\n",
       "    </tr>\n",
       "    <tr>\n",
       "      <th>91</th>\n",
       "      <td>92</td>\n",
       "      <td>Domaine Ponsot Clos de La Roche Grand Cru Cuve...</td>\n",
       "      <td>Domaine Ponsot</td>\n",
       "      <td>France</td>\n",
       "      <td>Burgundy</td>\n",
       "      <td>2007</td>\n",
       "      <td>red</td>\n",
       "      <td>5994.0</td>\n",
       "      <td>1037.02</td>\n",
       "    </tr>\n",
       "    <tr>\n",
       "      <th>92</th>\n",
       "      <td>93</td>\n",
       "      <td>Domaine Ponsot Clos de La Roche Grand Cru Cuve...</td>\n",
       "      <td>Domaine Ponsot</td>\n",
       "      <td>France</td>\n",
       "      <td>Burgundy</td>\n",
       "      <td>2017</td>\n",
       "      <td>red</td>\n",
       "      <td>5292.0</td>\n",
       "      <td>915.57</td>\n",
       "    </tr>\n",
       "  </tbody>\n",
       "</table>\n",
       "</div>"
      ],
      "text/plain": [
       "     item_id                                               name  \\\n",
       "93        94  Domaine Ponsot Clos de La Roche Grand Cru Cuve...   \n",
       "116      117                                             Latour   \n",
       "142      143                                      Château Pavie   \n",
       "91        92  Domaine Ponsot Clos de La Roche Grand Cru Cuve...   \n",
       "92        93  Domaine Ponsot Clos de La Roche Grand Cru Cuve...   \n",
       "\n",
       "           producer country    region  vintage kind  price_brl  price_usd  \n",
       "93   Domaine Ponsot  France  Burgundy     2017  red    10992.0    1901.73  \n",
       "116  Chateau Latour  France  Bordeaux     2002  red     9594.0    1659.86  \n",
       "142   Chateau Pavie  France  Bordeaux     2010  red     5999.4    1037.96  \n",
       "91   Domaine Ponsot  France  Burgundy     2007  red     5994.0    1037.02  \n",
       "92   Domaine Ponsot  France  Burgundy     2017  red     5292.0     915.57  "
      ]
     },
     "execution_count": 275,
     "metadata": {},
     "output_type": "execute_result"
    }
   ],
   "source": [
    "# top 5 vinhos mais caros\n",
    "df_product.sort_values('price_brl', ascending = False)[:5]"
   ]
  },
  {
   "cell_type": "code",
   "execution_count": 276,
   "id": "211829ef",
   "metadata": {},
   "outputs": [
    {
     "data": {
      "text/html": [
       "<div>\n",
       "<style scoped>\n",
       "    .dataframe tbody tr th:only-of-type {\n",
       "        vertical-align: middle;\n",
       "    }\n",
       "\n",
       "    .dataframe tbody tr th {\n",
       "        vertical-align: top;\n",
       "    }\n",
       "\n",
       "    .dataframe thead th {\n",
       "        text-align: right;\n",
       "    }\n",
       "</style>\n",
       "<table border=\"1\" class=\"dataframe\">\n",
       "  <thead>\n",
       "    <tr style=\"text-align: right;\">\n",
       "      <th></th>\n",
       "      <th>item_id</th>\n",
       "      <th>name</th>\n",
       "      <th>producer</th>\n",
       "      <th>country</th>\n",
       "      <th>region</th>\n",
       "      <th>vintage</th>\n",
       "      <th>kind</th>\n",
       "      <th>price_brl</th>\n",
       "      <th>price_usd</th>\n",
       "      <th>store</th>\n",
       "      <th>sales</th>\n",
       "    </tr>\n",
       "  </thead>\n",
       "  <tbody>\n",
       "    <tr>\n",
       "      <th>0</th>\n",
       "      <td>1</td>\n",
       "      <td>Philipponnat Royale Reserve Brut</td>\n",
       "      <td>Philipponat</td>\n",
       "      <td>France</td>\n",
       "      <td>Champagne</td>\n",
       "      <td>0</td>\n",
       "      <td>sparkling</td>\n",
       "      <td>339.6</td>\n",
       "      <td>58.75</td>\n",
       "      <td>1</td>\n",
       "      <td>13</td>\n",
       "    </tr>\n",
       "    <tr>\n",
       "      <th>1</th>\n",
       "      <td>1</td>\n",
       "      <td>Philipponnat Royale Reserve Brut</td>\n",
       "      <td>Philipponat</td>\n",
       "      <td>France</td>\n",
       "      <td>Champagne</td>\n",
       "      <td>0</td>\n",
       "      <td>sparkling</td>\n",
       "      <td>339.6</td>\n",
       "      <td>58.75</td>\n",
       "      <td>1</td>\n",
       "      <td>11</td>\n",
       "    </tr>\n",
       "    <tr>\n",
       "      <th>2</th>\n",
       "      <td>1</td>\n",
       "      <td>Philipponnat Royale Reserve Brut</td>\n",
       "      <td>Philipponat</td>\n",
       "      <td>France</td>\n",
       "      <td>Champagne</td>\n",
       "      <td>0</td>\n",
       "      <td>sparkling</td>\n",
       "      <td>339.6</td>\n",
       "      <td>58.75</td>\n",
       "      <td>1</td>\n",
       "      <td>14</td>\n",
       "    </tr>\n",
       "    <tr>\n",
       "      <th>3</th>\n",
       "      <td>1</td>\n",
       "      <td>Philipponnat Royale Reserve Brut</td>\n",
       "      <td>Philipponat</td>\n",
       "      <td>France</td>\n",
       "      <td>Champagne</td>\n",
       "      <td>0</td>\n",
       "      <td>sparkling</td>\n",
       "      <td>339.6</td>\n",
       "      <td>58.75</td>\n",
       "      <td>1</td>\n",
       "      <td>13</td>\n",
       "    </tr>\n",
       "    <tr>\n",
       "      <th>4</th>\n",
       "      <td>1</td>\n",
       "      <td>Philipponnat Royale Reserve Brut</td>\n",
       "      <td>Philipponat</td>\n",
       "      <td>France</td>\n",
       "      <td>Champagne</td>\n",
       "      <td>0</td>\n",
       "      <td>sparkling</td>\n",
       "      <td>339.6</td>\n",
       "      <td>58.75</td>\n",
       "      <td>1</td>\n",
       "      <td>10</td>\n",
       "    </tr>\n",
       "    <tr>\n",
       "      <th>...</th>\n",
       "      <td>...</td>\n",
       "      <td>...</td>\n",
       "      <td>...</td>\n",
       "      <td>...</td>\n",
       "      <td>...</td>\n",
       "      <td>...</td>\n",
       "      <td>...</td>\n",
       "      <td>...</td>\n",
       "      <td>...</td>\n",
       "      <td>...</td>\n",
       "      <td>...</td>\n",
       "    </tr>\n",
       "    <tr>\n",
       "      <th>720066</th>\n",
       "      <td>219</td>\n",
       "      <td>Achaval-Ferrer Blend De Fincas Edição Limitada</td>\n",
       "      <td>Achaval Ferrer</td>\n",
       "      <td>Argentina</td>\n",
       "      <td>Mendoza</td>\n",
       "      <td>2014</td>\n",
       "      <td>red</td>\n",
       "      <td>999.0</td>\n",
       "      <td>172.84</td>\n",
       "      <td>3</td>\n",
       "      <td>71</td>\n",
       "    </tr>\n",
       "    <tr>\n",
       "      <th>720067</th>\n",
       "      <td>219</td>\n",
       "      <td>Achaval-Ferrer Blend De Fincas Edição Limitada</td>\n",
       "      <td>Achaval Ferrer</td>\n",
       "      <td>Argentina</td>\n",
       "      <td>Mendoza</td>\n",
       "      <td>2014</td>\n",
       "      <td>red</td>\n",
       "      <td>999.0</td>\n",
       "      <td>172.84</td>\n",
       "      <td>3</td>\n",
       "      <td>28</td>\n",
       "    </tr>\n",
       "    <tr>\n",
       "      <th>720068</th>\n",
       "      <td>219</td>\n",
       "      <td>Achaval-Ferrer Blend De Fincas Edição Limitada</td>\n",
       "      <td>Achaval Ferrer</td>\n",
       "      <td>Argentina</td>\n",
       "      <td>Mendoza</td>\n",
       "      <td>2014</td>\n",
       "      <td>red</td>\n",
       "      <td>999.0</td>\n",
       "      <td>172.84</td>\n",
       "      <td>3</td>\n",
       "      <td>75</td>\n",
       "    </tr>\n",
       "    <tr>\n",
       "      <th>720069</th>\n",
       "      <td>219</td>\n",
       "      <td>Achaval-Ferrer Blend De Fincas Edição Limitada</td>\n",
       "      <td>Achaval Ferrer</td>\n",
       "      <td>Argentina</td>\n",
       "      <td>Mendoza</td>\n",
       "      <td>2014</td>\n",
       "      <td>red</td>\n",
       "      <td>999.0</td>\n",
       "      <td>172.84</td>\n",
       "      <td>3</td>\n",
       "      <td>135</td>\n",
       "    </tr>\n",
       "    <tr>\n",
       "      <th>720070</th>\n",
       "      <td>219</td>\n",
       "      <td>Achaval-Ferrer Blend De Fincas Edição Limitada</td>\n",
       "      <td>Achaval Ferrer</td>\n",
       "      <td>Argentina</td>\n",
       "      <td>Mendoza</td>\n",
       "      <td>2014</td>\n",
       "      <td>red</td>\n",
       "      <td>999.0</td>\n",
       "      <td>172.84</td>\n",
       "      <td>3</td>\n",
       "      <td>91</td>\n",
       "    </tr>\n",
       "  </tbody>\n",
       "</table>\n",
       "<p>720071 rows × 11 columns</p>\n",
       "</div>"
      ],
      "text/plain": [
       "       item_id                                            name  \\\n",
       "0            1                Philipponnat Royale Reserve Brut   \n",
       "1            1                Philipponnat Royale Reserve Brut   \n",
       "2            1                Philipponnat Royale Reserve Brut   \n",
       "3            1                Philipponnat Royale Reserve Brut   \n",
       "4            1                Philipponnat Royale Reserve Brut   \n",
       "...        ...                                             ...   \n",
       "720066     219  Achaval-Ferrer Blend De Fincas Edição Limitada   \n",
       "720067     219  Achaval-Ferrer Blend De Fincas Edição Limitada   \n",
       "720068     219  Achaval-Ferrer Blend De Fincas Edição Limitada   \n",
       "720069     219  Achaval-Ferrer Blend De Fincas Edição Limitada   \n",
       "720070     219  Achaval-Ferrer Blend De Fincas Edição Limitada   \n",
       "\n",
       "              producer    country     region  vintage       kind  price_brl  \\\n",
       "0          Philipponat     France  Champagne        0  sparkling      339.6   \n",
       "1          Philipponat     France  Champagne        0  sparkling      339.6   \n",
       "2          Philipponat     France  Champagne        0  sparkling      339.6   \n",
       "3          Philipponat     France  Champagne        0  sparkling      339.6   \n",
       "4          Philipponat     France  Champagne        0  sparkling      339.6   \n",
       "...                ...        ...        ...      ...        ...        ...   \n",
       "720066  Achaval Ferrer  Argentina    Mendoza     2014        red      999.0   \n",
       "720067  Achaval Ferrer  Argentina    Mendoza     2014        red      999.0   \n",
       "720068  Achaval Ferrer  Argentina    Mendoza     2014        red      999.0   \n",
       "720069  Achaval Ferrer  Argentina    Mendoza     2014        red      999.0   \n",
       "720070  Achaval Ferrer  Argentina    Mendoza     2014        red      999.0   \n",
       "\n",
       "        price_usd  store  sales  \n",
       "0           58.75      1     13  \n",
       "1           58.75      1     11  \n",
       "2           58.75      1     14  \n",
       "3           58.75      1     13  \n",
       "4           58.75      1     10  \n",
       "...           ...    ...    ...  \n",
       "720066     172.84      3     71  \n",
       "720067     172.84      3     28  \n",
       "720068     172.84      3     75  \n",
       "720069     172.84      3    135  \n",
       "720070     172.84      3     91  \n",
       "\n",
       "[720071 rows x 11 columns]"
      ]
     },
     "execution_count": 276,
     "metadata": {},
     "output_type": "execute_result"
    }
   ],
   "source": [
    "df_store"
   ]
  },
  {
   "cell_type": "markdown",
   "id": "bed844b0",
   "metadata": {},
   "source": [
    "O vinho mais caro custa **10.992** reais, chamado *Domaine Ponsot Clos de La Roche*, da **França**, região de *Burgundy* da safra de **2017**. "
   ]
  },
  {
   "cell_type": "markdown",
   "id": "c9549f43",
   "metadata": {},
   "source": [
    "Visualizaremos agora os dados referentes às vendas. Para isso, irei unir o dataframe **store**, com o dataframe previamente analizado. "
   ]
  },
  {
   "cell_type": "code",
   "execution_count": 279,
   "id": "8805d1bd",
   "metadata": {},
   "outputs": [
    {
     "name": "stdout",
     "output_type": "stream",
     "text": [
      "(720071, 11)\n"
     ]
    },
    {
     "data": {
      "text/html": [
       "<div>\n",
       "<style scoped>\n",
       "    .dataframe tbody tr th:only-of-type {\n",
       "        vertical-align: middle;\n",
       "    }\n",
       "\n",
       "    .dataframe tbody tr th {\n",
       "        vertical-align: top;\n",
       "    }\n",
       "\n",
       "    .dataframe thead th {\n",
       "        text-align: right;\n",
       "    }\n",
       "</style>\n",
       "<table border=\"1\" class=\"dataframe\">\n",
       "  <thead>\n",
       "    <tr style=\"text-align: right;\">\n",
       "      <th></th>\n",
       "      <th>item_id</th>\n",
       "      <th>name</th>\n",
       "      <th>producer</th>\n",
       "      <th>country</th>\n",
       "      <th>region</th>\n",
       "      <th>vintage</th>\n",
       "      <th>kind</th>\n",
       "      <th>price_brl</th>\n",
       "      <th>price_usd</th>\n",
       "      <th>store</th>\n",
       "      <th>sales</th>\n",
       "    </tr>\n",
       "    <tr>\n",
       "      <th>date</th>\n",
       "      <th></th>\n",
       "      <th></th>\n",
       "      <th></th>\n",
       "      <th></th>\n",
       "      <th></th>\n",
       "      <th></th>\n",
       "      <th></th>\n",
       "      <th></th>\n",
       "      <th></th>\n",
       "      <th></th>\n",
       "      <th></th>\n",
       "    </tr>\n",
       "  </thead>\n",
       "  <tbody>\n",
       "    <tr>\n",
       "      <th>2018-01-01</th>\n",
       "      <td>1</td>\n",
       "      <td>Philipponnat Royale Reserve Brut</td>\n",
       "      <td>Philipponat</td>\n",
       "      <td>France</td>\n",
       "      <td>Champagne</td>\n",
       "      <td>0</td>\n",
       "      <td>sparkling</td>\n",
       "      <td>339.6</td>\n",
       "      <td>58.75</td>\n",
       "      <td>1</td>\n",
       "      <td>13</td>\n",
       "    </tr>\n",
       "    <tr>\n",
       "      <th>2018-01-02</th>\n",
       "      <td>1</td>\n",
       "      <td>Philipponnat Royale Reserve Brut</td>\n",
       "      <td>Philipponat</td>\n",
       "      <td>France</td>\n",
       "      <td>Champagne</td>\n",
       "      <td>0</td>\n",
       "      <td>sparkling</td>\n",
       "      <td>339.6</td>\n",
       "      <td>58.75</td>\n",
       "      <td>1</td>\n",
       "      <td>11</td>\n",
       "    </tr>\n",
       "    <tr>\n",
       "      <th>2018-01-03</th>\n",
       "      <td>1</td>\n",
       "      <td>Philipponnat Royale Reserve Brut</td>\n",
       "      <td>Philipponat</td>\n",
       "      <td>France</td>\n",
       "      <td>Champagne</td>\n",
       "      <td>0</td>\n",
       "      <td>sparkling</td>\n",
       "      <td>339.6</td>\n",
       "      <td>58.75</td>\n",
       "      <td>1</td>\n",
       "      <td>14</td>\n",
       "    </tr>\n",
       "    <tr>\n",
       "      <th>2018-01-04</th>\n",
       "      <td>1</td>\n",
       "      <td>Philipponnat Royale Reserve Brut</td>\n",
       "      <td>Philipponat</td>\n",
       "      <td>France</td>\n",
       "      <td>Champagne</td>\n",
       "      <td>0</td>\n",
       "      <td>sparkling</td>\n",
       "      <td>339.6</td>\n",
       "      <td>58.75</td>\n",
       "      <td>1</td>\n",
       "      <td>13</td>\n",
       "    </tr>\n",
       "    <tr>\n",
       "      <th>2018-01-05</th>\n",
       "      <td>1</td>\n",
       "      <td>Philipponnat Royale Reserve Brut</td>\n",
       "      <td>Philipponat</td>\n",
       "      <td>France</td>\n",
       "      <td>Champagne</td>\n",
       "      <td>0</td>\n",
       "      <td>sparkling</td>\n",
       "      <td>339.6</td>\n",
       "      <td>58.75</td>\n",
       "      <td>1</td>\n",
       "      <td>10</td>\n",
       "    </tr>\n",
       "  </tbody>\n",
       "</table>\n",
       "</div>"
      ],
      "text/plain": [
       "           item_id                              name     producer country  \\\n",
       "date                                                                        \n",
       "2018-01-01       1  Philipponnat Royale Reserve Brut  Philipponat  France   \n",
       "2018-01-02       1  Philipponnat Royale Reserve Brut  Philipponat  France   \n",
       "2018-01-03       1  Philipponnat Royale Reserve Brut  Philipponat  France   \n",
       "2018-01-04       1  Philipponnat Royale Reserve Brut  Philipponat  France   \n",
       "2018-01-05       1  Philipponnat Royale Reserve Brut  Philipponat  France   \n",
       "\n",
       "               region  vintage       kind  price_brl  price_usd  store  sales  \n",
       "date                                                                           \n",
       "2018-01-01  Champagne        0  sparkling      339.6      58.75      1     13  \n",
       "2018-01-02  Champagne        0  sparkling      339.6      58.75      1     11  \n",
       "2018-01-03  Champagne        0  sparkling      339.6      58.75      1     14  \n",
       "2018-01-04  Champagne        0  sparkling      339.6      58.75      1     13  \n",
       "2018-01-05  Champagne        0  sparkling      339.6      58.75      1     10  "
      ]
     },
     "execution_count": 279,
     "metadata": {},
     "output_type": "execute_result"
    }
   ],
   "source": [
    "store.rename(columns= {'item': 'item_id'}, inplace=True)\n",
    "store.item_id = store.item_id.astype(str)\n",
    "\n",
    "df_product['item_id'] = df_product['item_id'].astype(str)\n",
    "store = df_product.merge(store, on='item_id', how='right')\n",
    "\n",
    "store['date'] = pd.to_datetime(store['date'])\n",
    "store.index = store['date']\n",
    "store.drop('date', axis=1, inplace=True)\n",
    "\n",
    "print(store.shape)\n",
    "store.head()"
   ]
  },
  {
   "cell_type": "code",
   "execution_count": 280,
   "id": "cb559994",
   "metadata": {},
   "outputs": [
    {
     "data": {
      "text/html": [
       "<div>\n",
       "<style scoped>\n",
       "    .dataframe tbody tr th:only-of-type {\n",
       "        vertical-align: middle;\n",
       "    }\n",
       "\n",
       "    .dataframe tbody tr th {\n",
       "        vertical-align: top;\n",
       "    }\n",
       "\n",
       "    .dataframe thead th {\n",
       "        text-align: right;\n",
       "    }\n",
       "</style>\n",
       "<table border=\"1\" class=\"dataframe\">\n",
       "  <thead>\n",
       "    <tr style=\"text-align: right;\">\n",
       "      <th></th>\n",
       "      <th>vintage</th>\n",
       "      <th>price_brl</th>\n",
       "      <th>price_usd</th>\n",
       "      <th>store</th>\n",
       "      <th>sales</th>\n",
       "    </tr>\n",
       "  </thead>\n",
       "  <tbody>\n",
       "    <tr>\n",
       "      <th>count</th>\n",
       "      <td>720071.00</td>\n",
       "      <td>720071.00</td>\n",
       "      <td>720071.00</td>\n",
       "      <td>720071.00</td>\n",
       "      <td>720071.00</td>\n",
       "    </tr>\n",
       "    <tr>\n",
       "      <th>mean</th>\n",
       "      <td>1942.18</td>\n",
       "      <td>967.62</td>\n",
       "      <td>167.41</td>\n",
       "      <td>2.00</td>\n",
       "      <td>70.59</td>\n",
       "    </tr>\n",
       "    <tr>\n",
       "      <th>std</th>\n",
       "      <td>378.19</td>\n",
       "      <td>1406.37</td>\n",
       "      <td>243.32</td>\n",
       "      <td>0.82</td>\n",
       "      <td>41.36</td>\n",
       "    </tr>\n",
       "    <tr>\n",
       "      <th>min</th>\n",
       "      <td>0.00</td>\n",
       "      <td>52.80</td>\n",
       "      <td>9.13</td>\n",
       "      <td>1.00</td>\n",
       "      <td>1.00</td>\n",
       "    </tr>\n",
       "    <tr>\n",
       "      <th>25%</th>\n",
       "      <td>2014.00</td>\n",
       "      <td>259.20</td>\n",
       "      <td>44.84</td>\n",
       "      <td>1.00</td>\n",
       "      <td>35.00</td>\n",
       "    </tr>\n",
       "    <tr>\n",
       "      <th>50%</th>\n",
       "      <td>2017.00</td>\n",
       "      <td>509.40</td>\n",
       "      <td>88.13</td>\n",
       "      <td>2.00</td>\n",
       "      <td>67.00</td>\n",
       "    </tr>\n",
       "    <tr>\n",
       "      <th>75%</th>\n",
       "      <td>2018.00</td>\n",
       "      <td>949.20</td>\n",
       "      <td>164.22</td>\n",
       "      <td>3.00</td>\n",
       "      <td>104.00</td>\n",
       "    </tr>\n",
       "    <tr>\n",
       "      <th>max</th>\n",
       "      <td>2019.00</td>\n",
       "      <td>10992.00</td>\n",
       "      <td>1901.73</td>\n",
       "      <td>3.00</td>\n",
       "      <td>196.00</td>\n",
       "    </tr>\n",
       "  </tbody>\n",
       "</table>\n",
       "</div>"
      ],
      "text/plain": [
       "         vintage  price_brl  price_usd      store      sales\n",
       "count  720071.00  720071.00  720071.00  720071.00  720071.00\n",
       "mean     1942.18     967.62     167.41       2.00      70.59\n",
       "std       378.19    1406.37     243.32       0.82      41.36\n",
       "min         0.00      52.80       9.13       1.00       1.00\n",
       "25%      2014.00     259.20      44.84       1.00      35.00\n",
       "50%      2017.00     509.40      88.13       2.00      67.00\n",
       "75%      2018.00     949.20     164.22       3.00     104.00\n",
       "max      2019.00   10992.00    1901.73       3.00     196.00"
      ]
     },
     "execution_count": 280,
     "metadata": {},
     "output_type": "execute_result"
    }
   ],
   "source": [
    "# distribuição estatística das vendas\n",
    "round(store.describe(),2)"
   ]
  },
  {
   "cell_type": "code",
   "execution_count": null,
   "id": "399c8250",
   "metadata": {},
   "outputs": [],
   "source": []
  }
 ],
 "metadata": {
  "kernelspec": {
   "display_name": "Python 3 (ipykernel)",
   "language": "python",
   "name": "python3"
  },
  "language_info": {
   "codemirror_mode": {
    "name": "ipython",
    "version": 3
   },
   "file_extension": ".py",
   "mimetype": "text/x-python",
   "name": "python",
   "nbconvert_exporter": "python",
   "pygments_lexer": "ipython3",
   "version": "3.10.11"
  }
 },
 "nbformat": 4,
 "nbformat_minor": 5
}
