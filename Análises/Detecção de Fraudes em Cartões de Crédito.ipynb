{
 "cells": [
  {
   "cell_type": "markdown",
   "id": "4e7970a2",
   "metadata": {},
   "source": [
    "# Detecção de Fraudes em Cartões de Crédito\n",
    "\n",
    "O problema das fraudes em cartões de crédito é uma das principais preocupações das instituições financeiras, já que essas fraudes podem causar prejuízos significativos para os consumidores e para as próprias instituições. Além disso, a detecção de fraudes pode ser um desafio, já que os fraudadores estão constantemente buscando maneiras de evadir os sistemas de segurança. Segundo dados da Serasa Experian, apenas no Brasil, cerca de **12,1 milhões de pessoas foram vítimas** de algum tipo de fraude financeira no último ano, representando um **prejuízo de 1,8 bilhão de reais** para os últimos 12 meses. \n",
    "\n",
    "Detectar fraudes em cartões de crédito pode ser um desafio, já que as transações legítimas e as fraudulentas podem se parecer muito entre si. Além disso, as fraudes podem ocorrer em uma ampla gama de valores e locais, tornando difícil identificar um padrão. Isso pode levar a erros de detecção, tanto em falsos positivos (bloqueio preventivo do cartão do consumidor) quanto em falsos negativos (não detecção de uma transação fraudulenta).\n",
    "\n",
    "<p align = \"center\">\n",
    "<img src=\"Arquivos/fraud.jpg\" width=80%>\n",
    "</p>\n",
    "\n",
    "**O objetivo deste projeto é realizar uma análise exploratória dos dados de transações com cartões de crédito e construir modelos de machine learning capazes de detectar transações fraudulentas com alta precisão.** Para isso, será necessário utilizar técnicas avançadas de análise de dados e machine learning para identificar padrões e anomalias nos dados, bem como técnicas de balanceamento de dados. Além disso, será importante avaliar a eficácia dos modelos construídos, tanto em termos de precisão na detecção de fraudes quanto em relação à quantidade de falsos positivos."
   ]
  },
  {
   "cell_type": "markdown",
   "id": "4fd70a7a",
   "metadata": {},
   "source": [
    "## Importando os Dados\n",
    "\n",
    "Os dados que usaremos neste projeto foram disponibilizados por algumas empresas européias de cartão de crédito. O *dataset* representa as operações financeiras que aconteceram no período de dois dias, onde foram classificadas 492 fraudes em meio a quase 290 mil transações. Este é um conjunto de dados extremamente desbalanceado, onde as fraudes representam apenas 0,17% do total.\n",
    "\n",
    "Outro detalhe interessante é que as *features* são todas numéricas, e foram descaracterizadas (por problemas ligados à privacidade e segurança). Assim, os nomes das colunas são representados por $[V1, V2, V3 \\dots, V28]$."
   ]
  },
  {
   "cell_type": "code",
   "execution_count": 126,
   "id": "8f6d773a",
   "metadata": {},
   "outputs": [],
   "source": [
    "# importar os pacotes necessários\n",
    "\n",
    "import os\n",
    "import graphviz\n",
    "import numpy as np\n",
    "import pandas as pd\n",
    "import seaborn as sns\n",
    "import scikitplot as skplt\n",
    "import matplotlib.pyplot as plt\n",
    "\n",
    "\n",
    "from sklearn import tree\n",
    "from sklearn.cluster import KMeans\n",
    "from IPython.display import display\n",
    "from sklearn.decomposition import PCA\n",
    "from sklearn.tree import export_graphviz\n",
    "from imblearn.over_sampling import SMOTE\n",
    "from sklearn.datasets import make_classification\n",
    "from sklearn.preprocessing import StandardScaler\n",
    "from sklearn.metrics import classification_report\n",
    "from sklearn.linear_model import LogisticRegression\n",
    "from imblearn.under_sampling import ClusterCentroids\n",
    "from sklearn.model_selection import train_test_split\n",
    "from sklearn.metrics import roc_auc_score, roc_curve, accuracy_score"
   ]
  },
  {
   "cell_type": "code",
   "execution_count": 127,
   "id": "0216910c",
   "metadata": {},
   "outputs": [],
   "source": [
    "file_path = \"https://www.dropbox.com/s/b44o3t3ehmnx2b7/creditcard.csv?dl=1\"\n",
    "\n",
    "# importar os dados para um dataframe\n",
    "df = pd.read_csv(file_path)"
   ]
  },
  {
   "cell_type": "markdown",
   "id": "f30e7e8a",
   "metadata": {},
   "source": [
    "## Análise dos Dados\n",
    "\n",
    "Esta etapa tem por objetivo permitir um entendimento de como os dados estão estruturados.\n",
    "\n",
    "**Dicionário das variáveis**\n",
    "* `Time` - contém o número de segundos decorridos entre a primeira transação e a transação atual.\n",
    "* `V1, V2, ..., V28` - colunas numéricas anônimas que contêm características do tipo PCA (Principal Component Analysis) transformadas. Infelizmente, devido a questões de privacidade, não podemos saber o significado exato dessas características.\n",
    "* `Amount` - contém o valor da transação.\n",
    "* `Class` - é a coluna de destino e contém 0 para transações normais e 1 para transações fraudulentas."
   ]
  },
  {
   "cell_type": "markdown",
   "id": "ab032e08",
   "metadata": {},
   "source": [
    "## Análise Exploratória dos Dados\n",
    "\n",
    "Na análise exploratória de dados será efetuada uma explanação inicial das variáveis contidas na dataset, e entenderemos dados referentes a:\n",
    "\n",
    "* *Contexto geral das variáveis*\n",
    "* *Porcentagem de itens nulos*\n",
    "* *Balanceamento do dataset*\n",
    "* *Análise do tempo decorrido entre as transações*\n",
    "* *Análise do valor contido na transação*\n",
    "* *Relação entre tempo e valor da transação*\n"
   ]
  },
  {
   "cell_type": "markdown",
   "id": "1d82afc0",
   "metadata": {},
   "source": [
    "Primeiramente, observaremos como estão dispostas as cinco primeiras entradas do dataset para ter uma visão ampla da estrutura de dados."
   ]
  },
  {
   "cell_type": "code",
   "execution_count": 128,
   "id": "459fb17c",
   "metadata": {
    "scrolled": false
   },
   "outputs": [
    {
     "data": {
      "text/html": [
       "<div>\n",
       "<style scoped>\n",
       "    .dataframe tbody tr th:only-of-type {\n",
       "        vertical-align: middle;\n",
       "    }\n",
       "\n",
       "    .dataframe tbody tr th {\n",
       "        vertical-align: top;\n",
       "    }\n",
       "\n",
       "    .dataframe thead th {\n",
       "        text-align: right;\n",
       "    }\n",
       "</style>\n",
       "<table border=\"1\" class=\"dataframe\">\n",
       "  <thead>\n",
       "    <tr style=\"text-align: right;\">\n",
       "      <th></th>\n",
       "      <th>Time</th>\n",
       "      <th>V1</th>\n",
       "      <th>V2</th>\n",
       "      <th>V3</th>\n",
       "      <th>V4</th>\n",
       "      <th>V5</th>\n",
       "      <th>V6</th>\n",
       "      <th>V7</th>\n",
       "      <th>V8</th>\n",
       "      <th>V9</th>\n",
       "      <th>...</th>\n",
       "      <th>V21</th>\n",
       "      <th>V22</th>\n",
       "      <th>V23</th>\n",
       "      <th>V24</th>\n",
       "      <th>V25</th>\n",
       "      <th>V26</th>\n",
       "      <th>V27</th>\n",
       "      <th>V28</th>\n",
       "      <th>Amount</th>\n",
       "      <th>Class</th>\n",
       "    </tr>\n",
       "  </thead>\n",
       "  <tbody>\n",
       "    <tr>\n",
       "      <th>0</th>\n",
       "      <td>0.0</td>\n",
       "      <td>-1.359807</td>\n",
       "      <td>-0.072781</td>\n",
       "      <td>2.536347</td>\n",
       "      <td>1.378155</td>\n",
       "      <td>-0.338321</td>\n",
       "      <td>0.462388</td>\n",
       "      <td>0.239599</td>\n",
       "      <td>0.098698</td>\n",
       "      <td>0.363787</td>\n",
       "      <td>...</td>\n",
       "      <td>-0.018307</td>\n",
       "      <td>0.277838</td>\n",
       "      <td>-0.110474</td>\n",
       "      <td>0.066928</td>\n",
       "      <td>0.128539</td>\n",
       "      <td>-0.189115</td>\n",
       "      <td>0.133558</td>\n",
       "      <td>-0.021053</td>\n",
       "      <td>149.62</td>\n",
       "      <td>0</td>\n",
       "    </tr>\n",
       "    <tr>\n",
       "      <th>1</th>\n",
       "      <td>0.0</td>\n",
       "      <td>1.191857</td>\n",
       "      <td>0.266151</td>\n",
       "      <td>0.166480</td>\n",
       "      <td>0.448154</td>\n",
       "      <td>0.060018</td>\n",
       "      <td>-0.082361</td>\n",
       "      <td>-0.078803</td>\n",
       "      <td>0.085102</td>\n",
       "      <td>-0.255425</td>\n",
       "      <td>...</td>\n",
       "      <td>-0.225775</td>\n",
       "      <td>-0.638672</td>\n",
       "      <td>0.101288</td>\n",
       "      <td>-0.339846</td>\n",
       "      <td>0.167170</td>\n",
       "      <td>0.125895</td>\n",
       "      <td>-0.008983</td>\n",
       "      <td>0.014724</td>\n",
       "      <td>2.69</td>\n",
       "      <td>0</td>\n",
       "    </tr>\n",
       "    <tr>\n",
       "      <th>2</th>\n",
       "      <td>1.0</td>\n",
       "      <td>-1.358354</td>\n",
       "      <td>-1.340163</td>\n",
       "      <td>1.773209</td>\n",
       "      <td>0.379780</td>\n",
       "      <td>-0.503198</td>\n",
       "      <td>1.800499</td>\n",
       "      <td>0.791461</td>\n",
       "      <td>0.247676</td>\n",
       "      <td>-1.514654</td>\n",
       "      <td>...</td>\n",
       "      <td>0.247998</td>\n",
       "      <td>0.771679</td>\n",
       "      <td>0.909412</td>\n",
       "      <td>-0.689281</td>\n",
       "      <td>-0.327642</td>\n",
       "      <td>-0.139097</td>\n",
       "      <td>-0.055353</td>\n",
       "      <td>-0.059752</td>\n",
       "      <td>378.66</td>\n",
       "      <td>0</td>\n",
       "    </tr>\n",
       "    <tr>\n",
       "      <th>3</th>\n",
       "      <td>1.0</td>\n",
       "      <td>-0.966272</td>\n",
       "      <td>-0.185226</td>\n",
       "      <td>1.792993</td>\n",
       "      <td>-0.863291</td>\n",
       "      <td>-0.010309</td>\n",
       "      <td>1.247203</td>\n",
       "      <td>0.237609</td>\n",
       "      <td>0.377436</td>\n",
       "      <td>-1.387024</td>\n",
       "      <td>...</td>\n",
       "      <td>-0.108300</td>\n",
       "      <td>0.005274</td>\n",
       "      <td>-0.190321</td>\n",
       "      <td>-1.175575</td>\n",
       "      <td>0.647376</td>\n",
       "      <td>-0.221929</td>\n",
       "      <td>0.062723</td>\n",
       "      <td>0.061458</td>\n",
       "      <td>123.50</td>\n",
       "      <td>0</td>\n",
       "    </tr>\n",
       "    <tr>\n",
       "      <th>4</th>\n",
       "      <td>2.0</td>\n",
       "      <td>-1.158233</td>\n",
       "      <td>0.877737</td>\n",
       "      <td>1.548718</td>\n",
       "      <td>0.403034</td>\n",
       "      <td>-0.407193</td>\n",
       "      <td>0.095921</td>\n",
       "      <td>0.592941</td>\n",
       "      <td>-0.270533</td>\n",
       "      <td>0.817739</td>\n",
       "      <td>...</td>\n",
       "      <td>-0.009431</td>\n",
       "      <td>0.798278</td>\n",
       "      <td>-0.137458</td>\n",
       "      <td>0.141267</td>\n",
       "      <td>-0.206010</td>\n",
       "      <td>0.502292</td>\n",
       "      <td>0.219422</td>\n",
       "      <td>0.215153</td>\n",
       "      <td>69.99</td>\n",
       "      <td>0</td>\n",
       "    </tr>\n",
       "  </tbody>\n",
       "</table>\n",
       "<p>5 rows × 31 columns</p>\n",
       "</div>"
      ],
      "text/plain": [
       "   Time        V1        V2        V3        V4        V5        V6        V7  \\\n",
       "0   0.0 -1.359807 -0.072781  2.536347  1.378155 -0.338321  0.462388  0.239599   \n",
       "1   0.0  1.191857  0.266151  0.166480  0.448154  0.060018 -0.082361 -0.078803   \n",
       "2   1.0 -1.358354 -1.340163  1.773209  0.379780 -0.503198  1.800499  0.791461   \n",
       "3   1.0 -0.966272 -0.185226  1.792993 -0.863291 -0.010309  1.247203  0.237609   \n",
       "4   2.0 -1.158233  0.877737  1.548718  0.403034 -0.407193  0.095921  0.592941   \n",
       "\n",
       "         V8        V9  ...       V21       V22       V23       V24       V25  \\\n",
       "0  0.098698  0.363787  ... -0.018307  0.277838 -0.110474  0.066928  0.128539   \n",
       "1  0.085102 -0.255425  ... -0.225775 -0.638672  0.101288 -0.339846  0.167170   \n",
       "2  0.247676 -1.514654  ...  0.247998  0.771679  0.909412 -0.689281 -0.327642   \n",
       "3  0.377436 -1.387024  ... -0.108300  0.005274 -0.190321 -1.175575  0.647376   \n",
       "4 -0.270533  0.817739  ... -0.009431  0.798278 -0.137458  0.141267 -0.206010   \n",
       "\n",
       "        V26       V27       V28  Amount  Class  \n",
       "0 -0.189115  0.133558 -0.021053  149.62      0  \n",
       "1  0.125895 -0.008983  0.014724    2.69      0  \n",
       "2 -0.139097 -0.055353 -0.059752  378.66      0  \n",
       "3 -0.221929  0.062723  0.061458  123.50      0  \n",
       "4  0.502292  0.219422  0.215153   69.99      0  \n",
       "\n",
       "[5 rows x 31 columns]"
      ]
     },
     "execution_count": 128,
     "metadata": {},
     "output_type": "execute_result"
    }
   ],
   "source": [
    "# Ver as 5 primeiras entradas\n",
    "df.head()"
   ]
  },
  {
   "cell_type": "code",
   "execution_count": 129,
   "id": "03cf3c90",
   "metadata": {},
   "outputs": [
    {
     "name": "stdout",
     "output_type": "stream",
     "text": [
      "Entradas:  284807\n",
      "Variáveis:  31\n"
     ]
    }
   ],
   "source": [
    "# Visualizar o tamanho do dataframe\n",
    "print(\"Entradas: \", df.shape[0])\n",
    "print(\"Variáveis: \", df.shape[1])"
   ]
  },
  {
   "cell_type": "code",
   "execution_count": 130,
   "id": "178a5821",
   "metadata": {
    "scrolled": true
   },
   "outputs": [
    {
     "data": {
      "text/plain": [
       "Index(['Time', 'V1', 'V2', 'V3', 'V4', 'V5', 'V6', 'V7', 'V8', 'V9', 'V10',\n",
       "       'V11', 'V12', 'V13', 'V14', 'V15', 'V16', 'V17', 'V18', 'V19', 'V20',\n",
       "       'V21', 'V22', 'V23', 'V24', 'V25', 'V26', 'V27', 'V28', 'Amount',\n",
       "       'Class'],\n",
       "      dtype='object')"
      ]
     },
     "execution_count": 130,
     "metadata": {},
     "output_type": "execute_result"
    }
   ],
   "source": [
    "# Extrair o nome das colunas\n",
    "df.columns"
   ]
  },
  {
   "cell_type": "code",
   "execution_count": 131,
   "id": "3fd51db1",
   "metadata": {},
   "outputs": [
    {
     "data": {
      "text/plain": [
       "Time      float64\n",
       "V1        float64\n",
       "V2        float64\n",
       "V3        float64\n",
       "V4        float64\n",
       "V5        float64\n",
       "V6        float64\n",
       "V7        float64\n",
       "V8        float64\n",
       "V9        float64\n",
       "V10       float64\n",
       "V11       float64\n",
       "V12       float64\n",
       "V13       float64\n",
       "V14       float64\n",
       "V15       float64\n",
       "V16       float64\n",
       "V17       float64\n",
       "V18       float64\n",
       "V19       float64\n",
       "V20       float64\n",
       "V21       float64\n",
       "V22       float64\n",
       "V23       float64\n",
       "V24       float64\n",
       "V25       float64\n",
       "V26       float64\n",
       "V27       float64\n",
       "V28       float64\n",
       "Amount    float64\n",
       "Class       int64\n",
       "dtype: object"
      ]
     },
     "execution_count": 131,
     "metadata": {},
     "output_type": "execute_result"
    }
   ],
   "source": [
    "# Extrair o tipo das variáveis\n",
    "df.dtypes"
   ]
  },
  {
   "cell_type": "code",
   "execution_count": 132,
   "id": "9df95c15",
   "metadata": {
    "scrolled": true
   },
   "outputs": [
    {
     "data": {
      "text/plain": [
       "Time      0.0\n",
       "V28       0.0\n",
       "V27       0.0\n",
       "V26       0.0\n",
       "V25       0.0\n",
       "V24       0.0\n",
       "V23       0.0\n",
       "V22       0.0\n",
       "V21       0.0\n",
       "V20       0.0\n",
       "V19       0.0\n",
       "V18       0.0\n",
       "V17       0.0\n",
       "V16       0.0\n",
       "Amount    0.0\n",
       "V15       0.0\n",
       "V13       0.0\n",
       "V12       0.0\n",
       "V11       0.0\n",
       "V10       0.0\n",
       "V9        0.0\n",
       "V8        0.0\n",
       "V7        0.0\n",
       "V6        0.0\n",
       "V5        0.0\n",
       "V4        0.0\n",
       "V3        0.0\n",
       "V2        0.0\n",
       "V1        0.0\n",
       "V14       0.0\n",
       "Class     0.0\n",
       "dtype: float64"
      ]
     },
     "execution_count": 132,
     "metadata": {},
     "output_type": "execute_result"
    }
   ],
   "source": [
    "# Porcentagem de itens nulos\n",
    "(df.isnull().sum()/df.shape[0]).sort_values(ascending = True) * 100"
   ]
  },
  {
   "cell_type": "markdown",
   "id": "cd89cfed",
   "metadata": {},
   "source": [
    "Podemos observar que **não há itens nulos em nenhuma variável**, o que é um ponto positivo para a análise. Contudo, as variáveis `Amount` e `Time` estão numa ordem de grandeza diferente, logo precisarão ser **padronizadas**.\n",
    "Iremos agorar plotar um gráfico de barras para observar o balanceamento da dataset. "
   ]
  },
  {
   "cell_type": "code",
   "execution_count": 133,
   "id": "cbfebea8",
   "metadata": {},
   "outputs": [
    {
     "data": {
      "text/plain": [
       "0    284315\n",
       "1       492\n",
       "Name: Class, dtype: int64"
      ]
     },
     "execution_count": 133,
     "metadata": {},
     "output_type": "execute_result"
    }
   ],
   "source": [
    "# Quantidade de dados distribuidos por classes\n",
    "df.Class.value_counts()"
   ]
  },
  {
   "cell_type": "code",
   "execution_count": 134,
   "id": "b627ffc9",
   "metadata": {},
   "outputs": [
    {
     "data": {
      "text/plain": [
       "0    99.8273\n",
       "1     0.1727\n",
       "Name: Class, dtype: float64"
      ]
     },
     "execution_count": 134,
     "metadata": {},
     "output_type": "execute_result"
    }
   ],
   "source": [
    "# Porcentagem de dados distribuidos por classes\n",
    "round(df.Class.value_counts()/df.shape[0] * 100,4)"
   ]
  },
  {
   "cell_type": "code",
   "execution_count": 135,
   "id": "b5beca91",
   "metadata": {
    "scrolled": false
   },
   "outputs": [
    {
     "data": {
      "image/png": "[encoded data removed]",
      "text/plain": [
       "<Figure size 800x400 with 1 Axes>"
      ]
     },
     "metadata": {},
     "output_type": "display_data"
    }
   ],
   "source": [
    "# Plotar um gráfico de barras para ver o balanceamento do *dataset*\n",
    "fig, ax = plt.subplots(figsize=(8, 4))\n",
    "sns.set_style(\"darkgrid\", {\"grid.color\": \".6\", \"grid.linestyle\": \":\"})\n",
    "sns.set_palette(sns.dark_palette(\"xkcd:golden\", 8))\n",
    "count = df['Class'].value_counts()\n",
    "sns.countplot(x='Class', data=df)\n",
    "ax.set_xlabel('Fraude')\n",
    "ax.set_ylabel('Quantidade')\n",
    "ax.set_title('Quantidade x Fraudes');\n",
    "plt.tight_layout()"
   ]
  },
  {
   "cell_type": "markdown",
   "id": "7a77bc2d",
   "metadata": {},
   "source": [
    "O dataset é altamente **desbalanceado**, com apenas 0,172% das transações sendo fraudulentas. Uma consequência de ter dados desbalanceados é um **modelo enviesado**, que privilegia a classe maioritária. No escopo do problema, detectar transações normais corretamente, mas não detectar fraudes causa enormes prejuízos. Logo, é necessário um **balanceamento** a fim de construir um modelo eficaz ao problema."
   ]
  },
  {
   "cell_type": "markdown",
   "id": "33594063",
   "metadata": {},
   "source": [
    "A seguir um histograma para a variável `Time`quando há fraudes e quando não há. Podemos observar um pico em 100000 segundos quando há fraudes, ao contrário de transações normais em que esse valor é diminuto."
   ]
  },
  {
   "cell_type": "code",
   "execution_count": 136,
   "id": "3354978a",
   "metadata": {},
   "outputs": [
    {
     "data": {
      "image/png": "[encoded data removed]",
      "text/plain": [
       "<Figure size 1200x600 with 2 Axes>"
      ]
     },
     "metadata": {},
     "output_type": "display_data"
    }
   ],
   "source": [
    "fig, ax = plt.subplots(nrows=2, ncols=1, figsize=(12,6))\n",
    "sns.set_style(\"darkgrid\", {\"grid.color\": \".6\", \"grid.linestyle\": \":\"})\n",
    "sns.set_palette(sns.dark_palette(\"xkcd:golden\", 8))\n",
    "sns.histplot(data=df.Time.loc[df.Class == 0], kde=False, ax = ax[0], color=sns.color_palette()[0])\n",
    "sns.histplot(data=df.Time.loc[df.Class == 1], kde=False, ax = ax[1], color=sns.color_palette()[3])\n",
    "ax[0].set_xlabel('Tempo em segundos')\n",
    "ax[0].set_ylabel('Frequência')\n",
    "ax[0].set_title('Normal');\n",
    "\n",
    "ax[1].set_xlabel('Tempo em segundos')\n",
    "ax[1].set_ylabel('Frequência')\n",
    "ax[1].set_title('Fraud');\n",
    "\n",
    "fig.suptitle(\"Análise de Tempo entre Transações\", fontsize=14, fontweight='bold')\n",
    "plt.tight_layout()\n"
   ]
  },
  {
   "cell_type": "markdown",
   "id": "78e3f7e2",
   "metadata": {},
   "source": [
    "A seguir, observação estatística da variável `Time` quando não há e há fraudes. É possível notar que quando há fraudes, a média e mediana são menores, o que sugere **menor espaço de tempo entre uma transação e outra**. Porém, num contexto geral, as diferenças são sutis."
   ]
  },
  {
   "cell_type": "code",
   "execution_count": 137,
   "id": "ca4ec17a",
   "metadata": {
    "scrolled": true
   },
   "outputs": [
    {
     "data": {
      "text/plain": [
       "count    284315.000000\n",
       "mean      94838.202258\n",
       "std       47484.015786\n",
       "min           0.000000\n",
       "25%       54230.000000\n",
       "50%       84711.000000\n",
       "75%      139333.000000\n",
       "max      172792.000000\n",
       "Name: Time, dtype: float64"
      ]
     },
     "execution_count": 137,
     "metadata": {},
     "output_type": "execute_result"
    }
   ],
   "source": [
    "# Não há fraudes\n",
    "df.Time.loc[df.Class == 0].describe()"
   ]
  },
  {
   "cell_type": "code",
   "execution_count": 138,
   "id": "f1d4da5d",
   "metadata": {},
   "outputs": [
    {
     "data": {
      "text/plain": [
       "count       492.000000\n",
       "mean      80746.806911\n",
       "std       47835.365138\n",
       "min         406.000000\n",
       "25%       41241.500000\n",
       "50%       75568.500000\n",
       "75%      128483.000000\n",
       "max      170348.000000\n",
       "Name: Time, dtype: float64"
      ]
     },
     "execution_count": 138,
     "metadata": {},
     "output_type": "execute_result"
    }
   ],
   "source": [
    "# Há fraudes\n",
    "df.Time.loc[df.Class == 1].describe()"
   ]
  },
  {
   "cell_type": "markdown",
   "id": "32d0251f",
   "metadata": {},
   "source": [
    "A seguir um histograma para a variável `Amount`quando há fraudes e quando não há. Os resultados indicam que **transações normais** tendem a ter **valores mais elevados**, com média de 88,29 e mediana de 22,00, enquanto que transações fraudulentas tendem a ter valores menores, com média de 122,21 e mediana de 9,25.\n",
    "\n",
    "Além disso, a **amplitude de valores nas transações normais é muito maior do que nas transações fraudulentas**. O valor máximo observado nas transações normais foi de 25.691,16, enquanto que nas transações fraudulentas foi de 2.125,87.\n",
    "\n",
    "Esses resultados indicam que, em geral, as **transações fraudulentas** tendem a ser de **valores mais baixos** do que as transações normais. Isso pode ser explicado pelo fato de que transações fraudulentas são frequentemente realizadas de forma indiscriminada, **visando obter lucros menores, mas em maior volume**, enquanto que **transações normais** geralmente têm **valores mais altos** e são **realizadas de forma mais seletiva**, visando objetivos específicos."
   ]
  },
  {
   "cell_type": "code",
   "execution_count": 139,
   "id": "ba1e26dc",
   "metadata": {
    "scrolled": true
   },
   "outputs": [
    {
     "data": {
      "image/png": "[encoded data removed]",
      "text/plain": [
       "<Figure size 1200x600 with 2 Axes>"
      ]
     },
     "metadata": {},
     "output_type": "display_data"
    }
   ],
   "source": [
    "fig, ax = plt.subplots(nrows=2, ncols=1, figsize=(12,6))\n",
    "\n",
    "\n",
    "ax[0].hist(df.Amount[df.Class == 0], color=sns.color_palette()[0])\n",
    "ax[0].set_title('Normal')\n",
    "\n",
    "ax[1].hist(df.Amount[df.Class == 1], color=sns.color_palette()[3])\n",
    "ax[1].set_title('Fraud')\n",
    "\n",
    "ax[0].set_xlabel('Valor da transação')\n",
    "ax[0].set_ylabel('Frequência')\n",
    "\n",
    "ax[1].set_xlabel('Valor da transação')\n",
    "ax[1].set_ylabel('Frequência')\n",
    "\n",
    "fig.suptitle(\"Análise do Valor em Transações\", fontsize=14, fontweight='bold')\n",
    "plt.tight_layout()\n"
   ]
  },
  {
   "cell_type": "markdown",
   "id": "7773bf81",
   "metadata": {},
   "source": [
    "Observação estatística da variável `Amount`quando não há e há fraudes."
   ]
  },
  {
   "cell_type": "code",
   "execution_count": 140,
   "id": "4b8507c6",
   "metadata": {
    "scrolled": true
   },
   "outputs": [
    {
     "data": {
      "text/plain": [
       "count    284315.000000\n",
       "mean         88.291022\n",
       "std         250.105092\n",
       "min           0.000000\n",
       "25%           5.650000\n",
       "50%          22.000000\n",
       "75%          77.050000\n",
       "max       25691.160000\n",
       "Name: Amount, dtype: float64"
      ]
     },
     "execution_count": 140,
     "metadata": {},
     "output_type": "execute_result"
    }
   ],
   "source": [
    "# Não há fraudes\n",
    "df.Amount[df.Class == 0].describe()"
   ]
  },
  {
   "cell_type": "code",
   "execution_count": 141,
   "id": "cd557715",
   "metadata": {
    "scrolled": true
   },
   "outputs": [
    {
     "data": {
      "text/plain": [
       "count     492.000000\n",
       "mean      122.211321\n",
       "std       256.683288\n",
       "min         0.000000\n",
       "25%         1.000000\n",
       "50%         9.250000\n",
       "75%       105.890000\n",
       "max      2125.870000\n",
       "Name: Amount, dtype: float64"
      ]
     },
     "execution_count": 141,
     "metadata": {},
     "output_type": "execute_result"
    }
   ],
   "source": [
    "# Há fraudes\n",
    "df.Amount[df.Class == 1].describe()"
   ]
  },
  {
   "cell_type": "markdown",
   "id": "f5fe46c5",
   "metadata": {},
   "source": [
    "Pode-se observar essa distribuição no boxplot abaixo."
   ]
  },
  {
   "cell_type": "code",
   "execution_count": 142,
   "id": "69328f4f",
   "metadata": {
    "scrolled": true
   },
   "outputs": [
    {
     "data": {
      "image/png": "[encoded data removed]",
      "text/plain": [
       "<Figure size 1000x500 with 2 Axes>"
      ]
     },
     "metadata": {},
     "output_type": "display_data"
    }
   ],
   "source": [
    "# verificar o conjunto de dados original\n",
    "fig, ax = plt.subplots(1, 2, figsize=(10, 5))\n",
    "sns.set_style(\"darkgrid\", {\"grid.color\": \".6\", \"grid.linestyle\": \":\"})\n",
    "sns.set_palette(sns.dark_palette(\"xkcd:golden\", 8))\n",
    "sns.boxplot(data = df.loc[df.Class == 0], y= 'Amount', ax = ax[0], color=sns.color_palette()[0])\n",
    "sns.boxplot(data = df.loc[df.Class == 1], y= 'Amount', ax = ax[1], color=sns.color_palette()[3])\n",
    "ax[0].set_title('Amount - Normal')\n",
    "ax[1].set_title('Amount - Fraud')\n",
    "ax[0].set_ylim(-20, 400)\n",
    "ax[1].set_ylim(-20, 400)\n",
    "plt.show()"
   ]
  },
  {
   "cell_type": "markdown",
   "id": "5dbb11ce",
   "metadata": {},
   "source": [
    "Nas plotagens acima é fácil observar que há uma forte discrepância entre algumas variáveis, o que indica uma forte **presença de outliers**. Os outliers não necessariamente são realmente valores extremos inválidos, pois podem ser representativos de transações legítimas ou fraudulentas. Portanto, irei preparar os dados e analisá-los mais a fundo.\n",
    "\n"
   ]
  },
  {
   "cell_type": "markdown",
   "id": "0174a3f2",
   "metadata": {},
   "source": [
    "Iremos verificar se as variáveis `Time` e `Amount` têm alguma correlação plotando um gráfico de dispersão e uma matriz de correlação."
   ]
  },
  {
   "cell_type": "code",
   "execution_count": 143,
   "id": "13b49c51",
   "metadata": {
    "scrolled": true
   },
   "outputs": [
    {
     "data": {
      "image/png": "[encoded data removed]",
      "text/plain": [
       "<Figure size 1500x800 with 1 Axes>"
      ]
     },
     "metadata": {},
     "output_type": "display_data"
    }
   ],
   "source": [
    "fig = plt.gcf()\n",
    "\n",
    "fig.set_size_inches(15, 8)\n",
    "\n",
    "ax = sns.scatterplot(data=df.loc[df.Class == 1], x=\"Time\", y=\"Amount\", s = 100)\n",
    "ax.set(xlabel='Tempo em segundos', ylabel='Valor')\n",
    "ax.set_title(\"(Tempo x Valor da Transação)\")\n",
    "ax.grid(False)\n",
    "\n",
    "plt.show()"
   ]
  },
  {
   "cell_type": "code",
   "execution_count": 144,
   "id": "1011dc36",
   "metadata": {
    "scrolled": true
   },
   "outputs": [
    {
     "data": {
      "text/html": [
       "<div>\n",
       "<style scoped>\n",
       "    .dataframe tbody tr th:only-of-type {\n",
       "        vertical-align: middle;\n",
       "    }\n",
       "\n",
       "    .dataframe tbody tr th {\n",
       "        vertical-align: top;\n",
       "    }\n",
       "\n",
       "    .dataframe thead th {\n",
       "        text-align: right;\n",
       "    }\n",
       "</style>\n",
       "<table border=\"1\" class=\"dataframe\">\n",
       "  <thead>\n",
       "    <tr style=\"text-align: right;\">\n",
       "      <th></th>\n",
       "      <th>Time</th>\n",
       "      <th>Amount</th>\n",
       "    </tr>\n",
       "  </thead>\n",
       "  <tbody>\n",
       "    <tr>\n",
       "      <th>Time</th>\n",
       "      <td>1.000000</td>\n",
       "      <td>-0.010596</td>\n",
       "    </tr>\n",
       "    <tr>\n",
       "      <th>Amount</th>\n",
       "      <td>-0.010596</td>\n",
       "      <td>1.000000</td>\n",
       "    </tr>\n",
       "  </tbody>\n",
       "</table>\n",
       "</div>"
      ],
      "text/plain": [
       "            Time    Amount\n",
       "Time    1.000000 -0.010596\n",
       "Amount -0.010596  1.000000"
      ]
     },
     "metadata": {},
     "output_type": "display_data"
    }
   ],
   "source": [
    "# criar uma matriz de correlação\n",
    "corr_df = df[['Time', 'Amount']].corr(method='pearson');\n",
    "\n",
    "# mostrar a matriz de correlação\n",
    "display(corr_df);"
   ]
  },
  {
   "cell_type": "markdown",
   "id": "f4b1595c",
   "metadata": {},
   "source": [
    "Obtemos uma correlação bastante fraca (-0.010), o que sugere que a relação entre as variáveis é pouco significativa."
   ]
  },
  {
   "cell_type": "markdown",
   "id": "872bddff",
   "metadata": {},
   "source": [
    "De maneira resumida, pode-se observar que:\n",
    "* Não há valores nulos no dataframe.\n",
    "* As variáveis `time` e `amount` não estão padronizadas.\n",
    "* Os dados estão extremamente desbalanceados.\n",
    "* Transações normais tendem a ter valores maiores."
   ]
  },
  {
   "cell_type": "markdown",
   "id": "1f2ca02c",
   "metadata": {},
   "source": [
    "## Pré-processamento dos Dados\n"
   ]
  },
  {
   "cell_type": "markdown",
   "id": "d2ab5a11",
   "metadata": {},
   "source": [
    "### Divisão do Conjunto de Dados"
   ]
  },
  {
   "cell_type": "markdown",
   "id": "2666ae5b",
   "metadata": {},
   "source": [
    "Antes de realizar a padronização dos dados, irei separar o conjunto de teste que validará a eficácia do modelo. É importante que o mesmo seja capaz de generalizar para evitar problemas como o *underfitting*, que ocorre quando o modelo tem baixo desempenho tanto no treinamento quanto na validação, ou o *overfitting*, que ocorre quando o modelo se adapta demasiadamente ao treinamento e não consegue generalizar para novos dados. A separação antes da padronização ocorre para que os dados de teste não tenham contato com os de treino e validação, simulando uma situação real.\n",
    "\n",
    "Existem vários métodos de divisão de dados disponíveis para evitar esses problemas. Neste caso, adotaremos a proporção de **70/15/15** para o conjunto de treinamento, validação e teste, respectivamente."
   ]
  },
  {
   "cell_type": "markdown",
   "id": "20f8ba4b",
   "metadata": {},
   "source": [
    "#### Separando o conjunto de teste"
   ]
  },
  {
   "cell_type": "code",
   "execution_count": 145,
   "id": "0da7a0d6",
   "metadata": {},
   "outputs": [
    {
     "name": "stdout",
     "output_type": "stream",
     "text": [
      "(42721, 31)\n"
     ]
    },
    {
     "data": {
      "text/html": [
       "<div>\n",
       "<style scoped>\n",
       "    .dataframe tbody tr th:only-of-type {\n",
       "        vertical-align: middle;\n",
       "    }\n",
       "\n",
       "    .dataframe tbody tr th {\n",
       "        vertical-align: top;\n",
       "    }\n",
       "\n",
       "    .dataframe thead th {\n",
       "        text-align: right;\n",
       "    }\n",
       "</style>\n",
       "<table border=\"1\" class=\"dataframe\">\n",
       "  <thead>\n",
       "    <tr style=\"text-align: right;\">\n",
       "      <th></th>\n",
       "      <th>Time</th>\n",
       "      <th>V1</th>\n",
       "      <th>V2</th>\n",
       "      <th>V3</th>\n",
       "      <th>V4</th>\n",
       "      <th>V5</th>\n",
       "      <th>V6</th>\n",
       "      <th>V7</th>\n",
       "      <th>V8</th>\n",
       "      <th>V9</th>\n",
       "      <th>...</th>\n",
       "      <th>V21</th>\n",
       "      <th>V22</th>\n",
       "      <th>V23</th>\n",
       "      <th>V24</th>\n",
       "      <th>V25</th>\n",
       "      <th>V26</th>\n",
       "      <th>V27</th>\n",
       "      <th>V28</th>\n",
       "      <th>Amount</th>\n",
       "      <th>Class</th>\n",
       "    </tr>\n",
       "  </thead>\n",
       "  <tbody>\n",
       "    <tr>\n",
       "      <th>183484</th>\n",
       "      <td>125821.0</td>\n",
       "      <td>-0.323334</td>\n",
       "      <td>1.057455</td>\n",
       "      <td>-0.048341</td>\n",
       "      <td>-0.607204</td>\n",
       "      <td>1.259821</td>\n",
       "      <td>-0.091761</td>\n",
       "      <td>1.159101</td>\n",
       "      <td>-0.124335</td>\n",
       "      <td>-0.174640</td>\n",
       "      <td>...</td>\n",
       "      <td>-0.207098</td>\n",
       "      <td>-0.433890</td>\n",
       "      <td>-0.261613</td>\n",
       "      <td>-0.046651</td>\n",
       "      <td>0.211512</td>\n",
       "      <td>0.008297</td>\n",
       "      <td>0.108494</td>\n",
       "      <td>0.161139</td>\n",
       "      <td>40.00</td>\n",
       "      <td>0</td>\n",
       "    </tr>\n",
       "    <tr>\n",
       "      <th>255448</th>\n",
       "      <td>157235.0</td>\n",
       "      <td>-0.349718</td>\n",
       "      <td>0.932619</td>\n",
       "      <td>0.142992</td>\n",
       "      <td>-0.657071</td>\n",
       "      <td>1.169784</td>\n",
       "      <td>-0.733369</td>\n",
       "      <td>1.009985</td>\n",
       "      <td>-0.071069</td>\n",
       "      <td>-0.302083</td>\n",
       "      <td>...</td>\n",
       "      <td>-0.271537</td>\n",
       "      <td>-0.833209</td>\n",
       "      <td>-0.030360</td>\n",
       "      <td>0.490035</td>\n",
       "      <td>-0.404816</td>\n",
       "      <td>0.134350</td>\n",
       "      <td>0.076830</td>\n",
       "      <td>0.175562</td>\n",
       "      <td>1.98</td>\n",
       "      <td>0</td>\n",
       "    </tr>\n",
       "    <tr>\n",
       "      <th>244749</th>\n",
       "      <td>152471.0</td>\n",
       "      <td>-1.614711</td>\n",
       "      <td>-2.406570</td>\n",
       "      <td>0.326194</td>\n",
       "      <td>0.665520</td>\n",
       "      <td>2.369268</td>\n",
       "      <td>-1.775367</td>\n",
       "      <td>-1.139049</td>\n",
       "      <td>0.329904</td>\n",
       "      <td>0.903813</td>\n",
       "      <td>...</td>\n",
       "      <td>0.701399</td>\n",
       "      <td>1.134489</td>\n",
       "      <td>0.965054</td>\n",
       "      <td>0.640981</td>\n",
       "      <td>-1.801998</td>\n",
       "      <td>-1.041114</td>\n",
       "      <td>0.286285</td>\n",
       "      <td>0.437322</td>\n",
       "      <td>96.00</td>\n",
       "      <td>0</td>\n",
       "    </tr>\n",
       "    <tr>\n",
       "      <th>63919</th>\n",
       "      <td>50927.0</td>\n",
       "      <td>-2.477184</td>\n",
       "      <td>0.860613</td>\n",
       "      <td>1.441850</td>\n",
       "      <td>1.051019</td>\n",
       "      <td>-1.856621</td>\n",
       "      <td>2.078384</td>\n",
       "      <td>0.510828</td>\n",
       "      <td>-0.243399</td>\n",
       "      <td>-0.260691</td>\n",
       "      <td>...</td>\n",
       "      <td>0.810408</td>\n",
       "      <td>0.692245</td>\n",
       "      <td>0.150121</td>\n",
       "      <td>-0.260777</td>\n",
       "      <td>0.005183</td>\n",
       "      <td>-0.177847</td>\n",
       "      <td>-0.510060</td>\n",
       "      <td>-0.660533</td>\n",
       "      <td>308.00</td>\n",
       "      <td>0</td>\n",
       "    </tr>\n",
       "    <tr>\n",
       "      <th>11475</th>\n",
       "      <td>19899.0</td>\n",
       "      <td>1.338831</td>\n",
       "      <td>-0.547264</td>\n",
       "      <td>0.737389</td>\n",
       "      <td>-0.212383</td>\n",
       "      <td>-1.110039</td>\n",
       "      <td>-0.525744</td>\n",
       "      <td>-0.801403</td>\n",
       "      <td>-0.063672</td>\n",
       "      <td>0.997276</td>\n",
       "      <td>...</td>\n",
       "      <td>-0.139436</td>\n",
       "      <td>-0.074719</td>\n",
       "      <td>0.067055</td>\n",
       "      <td>0.333122</td>\n",
       "      <td>0.379087</td>\n",
       "      <td>-0.268706</td>\n",
       "      <td>-0.002769</td>\n",
       "      <td>0.003272</td>\n",
       "      <td>5.00</td>\n",
       "      <td>0</td>\n",
       "    </tr>\n",
       "  </tbody>\n",
       "</table>\n",
       "<p>5 rows × 31 columns</p>\n",
       "</div>"
      ],
      "text/plain": [
       "            Time        V1        V2        V3        V4        V5        V6  \\\n",
       "183484  125821.0 -0.323334  1.057455 -0.048341 -0.607204  1.259821 -0.091761   \n",
       "255448  157235.0 -0.349718  0.932619  0.142992 -0.657071  1.169784 -0.733369   \n",
       "244749  152471.0 -1.614711 -2.406570  0.326194  0.665520  2.369268 -1.775367   \n",
       "63919    50927.0 -2.477184  0.860613  1.441850  1.051019 -1.856621  2.078384   \n",
       "11475    19899.0  1.338831 -0.547264  0.737389 -0.212383 -1.110039 -0.525744   \n",
       "\n",
       "              V7        V8        V9  ...       V21       V22       V23  \\\n",
       "183484  1.159101 -0.124335 -0.174640  ... -0.207098 -0.433890 -0.261613   \n",
       "255448  1.009985 -0.071069 -0.302083  ... -0.271537 -0.833209 -0.030360   \n",
       "244749 -1.139049  0.329904  0.903813  ...  0.701399  1.134489  0.965054   \n",
       "63919   0.510828 -0.243399 -0.260691  ...  0.810408  0.692245  0.150121   \n",
       "11475  -0.801403 -0.063672  0.997276  ... -0.139436 -0.074719  0.067055   \n",
       "\n",
       "             V24       V25       V26       V27       V28  Amount  Class  \n",
       "183484 -0.046651  0.211512  0.008297  0.108494  0.161139   40.00      0  \n",
       "255448  0.490035 -0.404816  0.134350  0.076830  0.175562    1.98      0  \n",
       "244749  0.640981 -1.801998 -1.041114  0.286285  0.437322   96.00      0  \n",
       "63919  -0.260777  0.005183 -0.177847 -0.510060 -0.660533  308.00      0  \n",
       "11475   0.333122  0.379087 -0.268706 -0.002769  0.003272    5.00      0  \n",
       "\n",
       "[5 rows x 31 columns]"
      ]
     },
     "execution_count": 145,
     "metadata": {},
     "output_type": "execute_result"
    }
   ],
   "source": [
    "# criando o conjunto de teste\n",
    "test = df.sample(frac=0.15, random_state=0)\n",
    "\n",
    "# verificando o conjunto\n",
    "print(test.shape)\n",
    "test.head()"
   ]
  },
  {
   "cell_type": "code",
   "execution_count": 146,
   "id": "395f872b",
   "metadata": {},
   "outputs": [
    {
     "data": {
      "text/plain": [
       "(242086, 31)"
      ]
     },
     "execution_count": 146,
     "metadata": {},
     "output_type": "execute_result"
    }
   ],
   "source": [
    "# drop das linhas de teste\n",
    "df = df.drop(test.index)\n",
    "\n",
    "# verificando o shape do df\n",
    "df.shape"
   ]
  },
  {
   "cell_type": "code",
   "execution_count": 147,
   "id": "6504f2d8",
   "metadata": {},
   "outputs": [
    {
     "data": {
      "text/html": [
       "<div>\n",
       "<style scoped>\n",
       "    .dataframe tbody tr th:only-of-type {\n",
       "        vertical-align: middle;\n",
       "    }\n",
       "\n",
       "    .dataframe tbody tr th {\n",
       "        vertical-align: top;\n",
       "    }\n",
       "\n",
       "    .dataframe thead th {\n",
       "        text-align: right;\n",
       "    }\n",
       "</style>\n",
       "<table border=\"1\" class=\"dataframe\">\n",
       "  <thead>\n",
       "    <tr style=\"text-align: right;\">\n",
       "      <th></th>\n",
       "      <th>index</th>\n",
       "      <th>Time</th>\n",
       "      <th>V1</th>\n",
       "      <th>V2</th>\n",
       "      <th>V3</th>\n",
       "      <th>V4</th>\n",
       "      <th>V5</th>\n",
       "      <th>V6</th>\n",
       "      <th>V7</th>\n",
       "      <th>V8</th>\n",
       "      <th>...</th>\n",
       "      <th>V21</th>\n",
       "      <th>V22</th>\n",
       "      <th>V23</th>\n",
       "      <th>V24</th>\n",
       "      <th>V25</th>\n",
       "      <th>V26</th>\n",
       "      <th>V27</th>\n",
       "      <th>V28</th>\n",
       "      <th>Amount</th>\n",
       "      <th>Class</th>\n",
       "    </tr>\n",
       "  </thead>\n",
       "  <tbody>\n",
       "    <tr>\n",
       "      <th>0</th>\n",
       "      <td>183484</td>\n",
       "      <td>125821.0</td>\n",
       "      <td>-0.323334</td>\n",
       "      <td>1.057455</td>\n",
       "      <td>-0.048341</td>\n",
       "      <td>-0.607204</td>\n",
       "      <td>1.259821</td>\n",
       "      <td>-0.091761</td>\n",
       "      <td>1.159101</td>\n",
       "      <td>-0.124335</td>\n",
       "      <td>...</td>\n",
       "      <td>-0.207098</td>\n",
       "      <td>-0.433890</td>\n",
       "      <td>-0.261613</td>\n",
       "      <td>-0.046651</td>\n",
       "      <td>0.211512</td>\n",
       "      <td>0.008297</td>\n",
       "      <td>0.108494</td>\n",
       "      <td>0.161139</td>\n",
       "      <td>40.00</td>\n",
       "      <td>0</td>\n",
       "    </tr>\n",
       "    <tr>\n",
       "      <th>1</th>\n",
       "      <td>255448</td>\n",
       "      <td>157235.0</td>\n",
       "      <td>-0.349718</td>\n",
       "      <td>0.932619</td>\n",
       "      <td>0.142992</td>\n",
       "      <td>-0.657071</td>\n",
       "      <td>1.169784</td>\n",
       "      <td>-0.733369</td>\n",
       "      <td>1.009985</td>\n",
       "      <td>-0.071069</td>\n",
       "      <td>...</td>\n",
       "      <td>-0.271537</td>\n",
       "      <td>-0.833209</td>\n",
       "      <td>-0.030360</td>\n",
       "      <td>0.490035</td>\n",
       "      <td>-0.404816</td>\n",
       "      <td>0.134350</td>\n",
       "      <td>0.076830</td>\n",
       "      <td>0.175562</td>\n",
       "      <td>1.98</td>\n",
       "      <td>0</td>\n",
       "    </tr>\n",
       "    <tr>\n",
       "      <th>2</th>\n",
       "      <td>244749</td>\n",
       "      <td>152471.0</td>\n",
       "      <td>-1.614711</td>\n",
       "      <td>-2.406570</td>\n",
       "      <td>0.326194</td>\n",
       "      <td>0.665520</td>\n",
       "      <td>2.369268</td>\n",
       "      <td>-1.775367</td>\n",
       "      <td>-1.139049</td>\n",
       "      <td>0.329904</td>\n",
       "      <td>...</td>\n",
       "      <td>0.701399</td>\n",
       "      <td>1.134489</td>\n",
       "      <td>0.965054</td>\n",
       "      <td>0.640981</td>\n",
       "      <td>-1.801998</td>\n",
       "      <td>-1.041114</td>\n",
       "      <td>0.286285</td>\n",
       "      <td>0.437322</td>\n",
       "      <td>96.00</td>\n",
       "      <td>0</td>\n",
       "    </tr>\n",
       "    <tr>\n",
       "      <th>3</th>\n",
       "      <td>63919</td>\n",
       "      <td>50927.0</td>\n",
       "      <td>-2.477184</td>\n",
       "      <td>0.860613</td>\n",
       "      <td>1.441850</td>\n",
       "      <td>1.051019</td>\n",
       "      <td>-1.856621</td>\n",
       "      <td>2.078384</td>\n",
       "      <td>0.510828</td>\n",
       "      <td>-0.243399</td>\n",
       "      <td>...</td>\n",
       "      <td>0.810408</td>\n",
       "      <td>0.692245</td>\n",
       "      <td>0.150121</td>\n",
       "      <td>-0.260777</td>\n",
       "      <td>0.005183</td>\n",
       "      <td>-0.177847</td>\n",
       "      <td>-0.510060</td>\n",
       "      <td>-0.660533</td>\n",
       "      <td>308.00</td>\n",
       "      <td>0</td>\n",
       "    </tr>\n",
       "    <tr>\n",
       "      <th>4</th>\n",
       "      <td>11475</td>\n",
       "      <td>19899.0</td>\n",
       "      <td>1.338831</td>\n",
       "      <td>-0.547264</td>\n",
       "      <td>0.737389</td>\n",
       "      <td>-0.212383</td>\n",
       "      <td>-1.110039</td>\n",
       "      <td>-0.525744</td>\n",
       "      <td>-0.801403</td>\n",
       "      <td>-0.063672</td>\n",
       "      <td>...</td>\n",
       "      <td>-0.139436</td>\n",
       "      <td>-0.074719</td>\n",
       "      <td>0.067055</td>\n",
       "      <td>0.333122</td>\n",
       "      <td>0.379087</td>\n",
       "      <td>-0.268706</td>\n",
       "      <td>-0.002769</td>\n",
       "      <td>0.003272</td>\n",
       "      <td>5.00</td>\n",
       "      <td>0</td>\n",
       "    </tr>\n",
       "    <tr>\n",
       "      <th>...</th>\n",
       "      <td>...</td>\n",
       "      <td>...</td>\n",
       "      <td>...</td>\n",
       "      <td>...</td>\n",
       "      <td>...</td>\n",
       "      <td>...</td>\n",
       "      <td>...</td>\n",
       "      <td>...</td>\n",
       "      <td>...</td>\n",
       "      <td>...</td>\n",
       "      <td>...</td>\n",
       "      <td>...</td>\n",
       "      <td>...</td>\n",
       "      <td>...</td>\n",
       "      <td>...</td>\n",
       "      <td>...</td>\n",
       "      <td>...</td>\n",
       "      <td>...</td>\n",
       "      <td>...</td>\n",
       "      <td>...</td>\n",
       "      <td>...</td>\n",
       "    </tr>\n",
       "    <tr>\n",
       "      <th>42716</th>\n",
       "      <td>229333</td>\n",
       "      <td>145885.0</td>\n",
       "      <td>-0.330429</td>\n",
       "      <td>0.587057</td>\n",
       "      <td>0.635175</td>\n",
       "      <td>-0.619929</td>\n",
       "      <td>0.690199</td>\n",
       "      <td>-1.146289</td>\n",
       "      <td>0.914373</td>\n",
       "      <td>-0.158436</td>\n",
       "      <td>...</td>\n",
       "      <td>-0.172181</td>\n",
       "      <td>-0.540837</td>\n",
       "      <td>0.047329</td>\n",
       "      <td>-0.037745</td>\n",
       "      <td>-0.671478</td>\n",
       "      <td>0.119750</td>\n",
       "      <td>0.094611</td>\n",
       "      <td>0.173363</td>\n",
       "      <td>1.29</td>\n",
       "      <td>0</td>\n",
       "    </tr>\n",
       "    <tr>\n",
       "      <th>42717</th>\n",
       "      <td>189242</td>\n",
       "      <td>128317.0</td>\n",
       "      <td>-17.015895</td>\n",
       "      <td>-18.501723</td>\n",
       "      <td>-2.965763</td>\n",
       "      <td>5.989228</td>\n",
       "      <td>7.811563</td>\n",
       "      <td>-4.440128</td>\n",
       "      <td>-1.905238</td>\n",
       "      <td>-1.938201</td>\n",
       "      <td>...</td>\n",
       "      <td>-5.414098</td>\n",
       "      <td>3.688960</td>\n",
       "      <td>11.360879</td>\n",
       "      <td>0.771200</td>\n",
       "      <td>2.274458</td>\n",
       "      <td>1.954516</td>\n",
       "      <td>6.507171</td>\n",
       "      <td>-4.075417</td>\n",
       "      <td>6.37</td>\n",
       "      <td>0</td>\n",
       "    </tr>\n",
       "    <tr>\n",
       "      <th>42718</th>\n",
       "      <td>232656</td>\n",
       "      <td>147253.0</td>\n",
       "      <td>0.044490</td>\n",
       "      <td>0.898231</td>\n",
       "      <td>0.306854</td>\n",
       "      <td>-0.587229</td>\n",
       "      <td>0.441139</td>\n",
       "      <td>-1.121860</td>\n",
       "      <td>1.039291</td>\n",
       "      <td>-0.231897</td>\n",
       "      <td>...</td>\n",
       "      <td>-0.255365</td>\n",
       "      <td>-0.535225</td>\n",
       "      <td>0.064659</td>\n",
       "      <td>0.050984</td>\n",
       "      <td>-0.476387</td>\n",
       "      <td>0.136342</td>\n",
       "      <td>0.250095</td>\n",
       "      <td>0.098383</td>\n",
       "      <td>2.69</td>\n",
       "      <td>0</td>\n",
       "    </tr>\n",
       "    <tr>\n",
       "      <th>42719</th>\n",
       "      <td>174418</td>\n",
       "      <td>121905.0</td>\n",
       "      <td>1.945191</td>\n",
       "      <td>-0.273317</td>\n",
       "      <td>-0.126410</td>\n",
       "      <td>0.436141</td>\n",
       "      <td>-0.841361</td>\n",
       "      <td>-1.026928</td>\n",
       "      <td>-0.323962</td>\n",
       "      <td>-0.216008</td>\n",
       "      <td>...</td>\n",
       "      <td>-0.211303</td>\n",
       "      <td>-0.481833</td>\n",
       "      <td>0.466048</td>\n",
       "      <td>0.482353</td>\n",
       "      <td>-0.668233</td>\n",
       "      <td>0.198535</td>\n",
       "      <td>-0.033724</td>\n",
       "      <td>-0.033819</td>\n",
       "      <td>23.99</td>\n",
       "      <td>0</td>\n",
       "    </tr>\n",
       "    <tr>\n",
       "      <th>42720</th>\n",
       "      <td>98354</td>\n",
       "      <td>66627.0</td>\n",
       "      <td>-0.982043</td>\n",
       "      <td>0.329463</td>\n",
       "      <td>0.218720</td>\n",
       "      <td>0.267392</td>\n",
       "      <td>2.761915</td>\n",
       "      <td>3.806040</td>\n",
       "      <td>0.112364</td>\n",
       "      <td>0.903531</td>\n",
       "      <td>...</td>\n",
       "      <td>-0.146368</td>\n",
       "      <td>-0.278676</td>\n",
       "      <td>0.049632</td>\n",
       "      <td>1.011464</td>\n",
       "      <td>0.780561</td>\n",
       "      <td>-0.139311</td>\n",
       "      <td>0.031628</td>\n",
       "      <td>0.011244</td>\n",
       "      <td>22.92</td>\n",
       "      <td>0</td>\n",
       "    </tr>\n",
       "  </tbody>\n",
       "</table>\n",
       "<p>42721 rows × 32 columns</p>\n",
       "</div>"
      ],
      "text/plain": [
       "        index      Time         V1         V2        V3        V4        V5  \\\n",
       "0      183484  125821.0  -0.323334   1.057455 -0.048341 -0.607204  1.259821   \n",
       "1      255448  157235.0  -0.349718   0.932619  0.142992 -0.657071  1.169784   \n",
       "2      244749  152471.0  -1.614711  -2.406570  0.326194  0.665520  2.369268   \n",
       "3       63919   50927.0  -2.477184   0.860613  1.441850  1.051019 -1.856621   \n",
       "4       11475   19899.0   1.338831  -0.547264  0.737389 -0.212383 -1.110039   \n",
       "...       ...       ...        ...        ...       ...       ...       ...   \n",
       "42716  229333  145885.0  -0.330429   0.587057  0.635175 -0.619929  0.690199   \n",
       "42717  189242  128317.0 -17.015895 -18.501723 -2.965763  5.989228  7.811563   \n",
       "42718  232656  147253.0   0.044490   0.898231  0.306854 -0.587229  0.441139   \n",
       "42719  174418  121905.0   1.945191  -0.273317 -0.126410  0.436141 -0.841361   \n",
       "42720   98354   66627.0  -0.982043   0.329463  0.218720  0.267392  2.761915   \n",
       "\n",
       "             V6        V7        V8  ...       V21       V22        V23  \\\n",
       "0     -0.091761  1.159101 -0.124335  ... -0.207098 -0.433890  -0.261613   \n",
       "1     -0.733369  1.009985 -0.071069  ... -0.271537 -0.833209  -0.030360   \n",
       "2     -1.775367 -1.139049  0.329904  ...  0.701399  1.134489   0.965054   \n",
       "3      2.078384  0.510828 -0.243399  ...  0.810408  0.692245   0.150121   \n",
       "4     -0.525744 -0.801403 -0.063672  ... -0.139436 -0.074719   0.067055   \n",
       "...         ...       ...       ...  ...       ...       ...        ...   \n",
       "42716 -1.146289  0.914373 -0.158436  ... -0.172181 -0.540837   0.047329   \n",
       "42717 -4.440128 -1.905238 -1.938201  ... -5.414098  3.688960  11.360879   \n",
       "42718 -1.121860  1.039291 -0.231897  ... -0.255365 -0.535225   0.064659   \n",
       "42719 -1.026928 -0.323962 -0.216008  ... -0.211303 -0.481833   0.466048   \n",
       "42720  3.806040  0.112364  0.903531  ... -0.146368 -0.278676   0.049632   \n",
       "\n",
       "            V24       V25       V26       V27       V28  Amount  Class  \n",
       "0     -0.046651  0.211512  0.008297  0.108494  0.161139   40.00      0  \n",
       "1      0.490035 -0.404816  0.134350  0.076830  0.175562    1.98      0  \n",
       "2      0.640981 -1.801998 -1.041114  0.286285  0.437322   96.00      0  \n",
       "3     -0.260777  0.005183 -0.177847 -0.510060 -0.660533  308.00      0  \n",
       "4      0.333122  0.379087 -0.268706 -0.002769  0.003272    5.00      0  \n",
       "...         ...       ...       ...       ...       ...     ...    ...  \n",
       "42716 -0.037745 -0.671478  0.119750  0.094611  0.173363    1.29      0  \n",
       "42717  0.771200  2.274458  1.954516  6.507171 -4.075417    6.37      0  \n",
       "42718  0.050984 -0.476387  0.136342  0.250095  0.098383    2.69      0  \n",
       "42719  0.482353 -0.668233  0.198535 -0.033724 -0.033819   23.99      0  \n",
       "42720  1.011464  0.780561 -0.139311  0.031628  0.011244   22.92      0  \n",
       "\n",
       "[42721 rows x 32 columns]"
      ]
     },
     "execution_count": 147,
     "metadata": {},
     "output_type": "execute_result"
    }
   ],
   "source": [
    "# resetando o index dos conjuntos\n",
    "df.reset_index()\n",
    "test.reset_index()"
   ]
  },
  {
   "cell_type": "markdown",
   "id": "b930857d",
   "metadata": {},
   "source": [
    "### Padronizar `Time` e `Amount`"
   ]
  },
  {
   "cell_type": "markdown",
   "id": "ad26f5c2",
   "metadata": {},
   "source": [
    "O objetivo do pré-processamento de dados é garantir que as features estejam na mesma escala, garantindo um desempenho melhor do algoritmo de *machine learning*. Para padronizar as variáveis `Time` e `Amount` será utilizado o *StandardScaler*. Ele ajusta os dados para que tenham uma média zero e um desvio padrão de um."
   ]
  },
  {
   "cell_type": "code",
   "execution_count": 148,
   "id": "b4175047",
   "metadata": {
    "scrolled": true
   },
   "outputs": [
    {
     "data": {
      "text/html": [
       "<div>\n",
       "<style scoped>\n",
       "    .dataframe tbody tr th:only-of-type {\n",
       "        vertical-align: middle;\n",
       "    }\n",
       "\n",
       "    .dataframe tbody tr th {\n",
       "        vertical-align: top;\n",
       "    }\n",
       "\n",
       "    .dataframe thead th {\n",
       "        text-align: right;\n",
       "    }\n",
       "</style>\n",
       "<table border=\"1\" class=\"dataframe\">\n",
       "  <thead>\n",
       "    <tr style=\"text-align: right;\">\n",
       "      <th></th>\n",
       "      <th>V1</th>\n",
       "      <th>V2</th>\n",
       "      <th>V3</th>\n",
       "      <th>V4</th>\n",
       "      <th>V5</th>\n",
       "      <th>V6</th>\n",
       "      <th>V7</th>\n",
       "      <th>V8</th>\n",
       "      <th>V9</th>\n",
       "      <th>V10</th>\n",
       "      <th>...</th>\n",
       "      <th>V22</th>\n",
       "      <th>V23</th>\n",
       "      <th>V24</th>\n",
       "      <th>V25</th>\n",
       "      <th>V26</th>\n",
       "      <th>V27</th>\n",
       "      <th>V28</th>\n",
       "      <th>Class</th>\n",
       "      <th>std_amount</th>\n",
       "      <th>std_time</th>\n",
       "    </tr>\n",
       "  </thead>\n",
       "  <tbody>\n",
       "    <tr>\n",
       "      <th>0</th>\n",
       "      <td>-1.359807</td>\n",
       "      <td>-0.072781</td>\n",
       "      <td>2.536347</td>\n",
       "      <td>1.378155</td>\n",
       "      <td>-0.338321</td>\n",
       "      <td>0.462388</td>\n",
       "      <td>0.239599</td>\n",
       "      <td>0.098698</td>\n",
       "      <td>0.363787</td>\n",
       "      <td>0.090794</td>\n",
       "      <td>...</td>\n",
       "      <td>0.277838</td>\n",
       "      <td>-0.110474</td>\n",
       "      <td>0.066928</td>\n",
       "      <td>0.128539</td>\n",
       "      <td>-0.189115</td>\n",
       "      <td>0.133558</td>\n",
       "      <td>-0.021053</td>\n",
       "      <td>0</td>\n",
       "      <td>0.246341</td>\n",
       "      <td>-1.997399</td>\n",
       "    </tr>\n",
       "    <tr>\n",
       "      <th>1</th>\n",
       "      <td>1.191857</td>\n",
       "      <td>0.266151</td>\n",
       "      <td>0.166480</td>\n",
       "      <td>0.448154</td>\n",
       "      <td>0.060018</td>\n",
       "      <td>-0.082361</td>\n",
       "      <td>-0.078803</td>\n",
       "      <td>0.085102</td>\n",
       "      <td>-0.255425</td>\n",
       "      <td>-0.166974</td>\n",
       "      <td>...</td>\n",
       "      <td>-0.638672</td>\n",
       "      <td>0.101288</td>\n",
       "      <td>-0.339846</td>\n",
       "      <td>0.167170</td>\n",
       "      <td>0.125895</td>\n",
       "      <td>-0.008983</td>\n",
       "      <td>0.014724</td>\n",
       "      <td>0</td>\n",
       "      <td>-0.346945</td>\n",
       "      <td>-1.997399</td>\n",
       "    </tr>\n",
       "    <tr>\n",
       "      <th>2</th>\n",
       "      <td>-1.358354</td>\n",
       "      <td>-1.340163</td>\n",
       "      <td>1.773209</td>\n",
       "      <td>0.379780</td>\n",
       "      <td>-0.503198</td>\n",
       "      <td>1.800499</td>\n",
       "      <td>0.791461</td>\n",
       "      <td>0.247676</td>\n",
       "      <td>-1.514654</td>\n",
       "      <td>0.207643</td>\n",
       "      <td>...</td>\n",
       "      <td>0.771679</td>\n",
       "      <td>0.909412</td>\n",
       "      <td>-0.689281</td>\n",
       "      <td>-0.327642</td>\n",
       "      <td>-0.139097</td>\n",
       "      <td>-0.055353</td>\n",
       "      <td>-0.059752</td>\n",
       "      <td>0</td>\n",
       "      <td>1.171178</td>\n",
       "      <td>-1.997378</td>\n",
       "    </tr>\n",
       "    <tr>\n",
       "      <th>3</th>\n",
       "      <td>-0.966272</td>\n",
       "      <td>-0.185226</td>\n",
       "      <td>1.792993</td>\n",
       "      <td>-0.863291</td>\n",
       "      <td>-0.010309</td>\n",
       "      <td>1.247203</td>\n",
       "      <td>0.237609</td>\n",
       "      <td>0.377436</td>\n",
       "      <td>-1.387024</td>\n",
       "      <td>-0.054952</td>\n",
       "      <td>...</td>\n",
       "      <td>0.005274</td>\n",
       "      <td>-0.190321</td>\n",
       "      <td>-1.175575</td>\n",
       "      <td>0.647376</td>\n",
       "      <td>-0.221929</td>\n",
       "      <td>0.062723</td>\n",
       "      <td>0.061458</td>\n",
       "      <td>0</td>\n",
       "      <td>0.140872</td>\n",
       "      <td>-1.997378</td>\n",
       "    </tr>\n",
       "    <tr>\n",
       "      <th>4</th>\n",
       "      <td>-1.158233</td>\n",
       "      <td>0.877737</td>\n",
       "      <td>1.548718</td>\n",
       "      <td>0.403034</td>\n",
       "      <td>-0.407193</td>\n",
       "      <td>0.095921</td>\n",
       "      <td>0.592941</td>\n",
       "      <td>-0.270533</td>\n",
       "      <td>0.817739</td>\n",
       "      <td>0.753074</td>\n",
       "      <td>...</td>\n",
       "      <td>0.798278</td>\n",
       "      <td>-0.137458</td>\n",
       "      <td>0.141267</td>\n",
       "      <td>-0.206010</td>\n",
       "      <td>0.502292</td>\n",
       "      <td>0.219422</td>\n",
       "      <td>0.215153</td>\n",
       "      <td>0</td>\n",
       "      <td>-0.075195</td>\n",
       "      <td>-1.997357</td>\n",
       "    </tr>\n",
       "  </tbody>\n",
       "</table>\n",
       "<p>5 rows × 31 columns</p>\n",
       "</div>"
      ],
      "text/plain": [
       "         V1        V2        V3        V4        V5        V6        V7  \\\n",
       "0 -1.359807 -0.072781  2.536347  1.378155 -0.338321  0.462388  0.239599   \n",
       "1  1.191857  0.266151  0.166480  0.448154  0.060018 -0.082361 -0.078803   \n",
       "2 -1.358354 -1.340163  1.773209  0.379780 -0.503198  1.800499  0.791461   \n",
       "3 -0.966272 -0.185226  1.792993 -0.863291 -0.010309  1.247203  0.237609   \n",
       "4 -1.158233  0.877737  1.548718  0.403034 -0.407193  0.095921  0.592941   \n",
       "\n",
       "         V8        V9       V10  ...       V22       V23       V24       V25  \\\n",
       "0  0.098698  0.363787  0.090794  ...  0.277838 -0.110474  0.066928  0.128539   \n",
       "1  0.085102 -0.255425 -0.166974  ... -0.638672  0.101288 -0.339846  0.167170   \n",
       "2  0.247676 -1.514654  0.207643  ...  0.771679  0.909412 -0.689281 -0.327642   \n",
       "3  0.377436 -1.387024 -0.054952  ...  0.005274 -0.190321 -1.175575  0.647376   \n",
       "4 -0.270533  0.817739  0.753074  ...  0.798278 -0.137458  0.141267 -0.206010   \n",
       "\n",
       "        V26       V27       V28  Class  std_amount  std_time  \n",
       "0 -0.189115  0.133558 -0.021053      0    0.246341 -1.997399  \n",
       "1  0.125895 -0.008983  0.014724      0   -0.346945 -1.997399  \n",
       "2 -0.139097 -0.055353 -0.059752      0    1.171178 -1.997378  \n",
       "3 -0.221929  0.062723  0.061458      0    0.140872 -1.997378  \n",
       "4  0.502292  0.219422  0.215153      0   -0.075195 -1.997357  \n",
       "\n",
       "[5 rows x 31 columns]"
      ]
     },
     "execution_count": 148,
     "metadata": {},
     "output_type": "execute_result"
    }
   ],
   "source": [
    "# padronizar as colunas Time e Amount\n",
    "df_clean = df.copy()\n",
    "std_scaler = StandardScaler()\n",
    "df_clean['std_amount'] = std_scaler.fit_transform(df_clean['Amount'].values.reshape(-1, 1))\n",
    "df_clean['std_time'] = std_scaler.fit_transform(df_clean['Time'].values.reshape(-1, 1))\n",
    "df_clean.drop(['Time', 'Amount'], axis=1, inplace=True)\n",
    "\n",
    "# ver as primeiras entradas\n",
    "df_clean.head()"
   ]
  },
  {
   "cell_type": "markdown",
   "id": "f0b5532c",
   "metadata": {},
   "source": [
    "Com o conjunto de teste devidamente separado, e os dados posteriores padronizados, iremos criar o conjunto de treino e validação. Utilizaremos o teste para validar o modelo ao final."
   ]
  },
  {
   "cell_type": "markdown",
   "id": "051987b6",
   "metadata": {},
   "source": [
    "#### Conjunto de treino e validação"
   ]
  },
  {
   "cell_type": "code",
   "execution_count": 149,
   "id": "d101cd35",
   "metadata": {},
   "outputs": [],
   "source": [
    "# separar variáveis entre X e y\n",
    "X = df_clean.drop('Class', axis=1)\n",
    "y = df_clean['Class'] # variável alvo\n",
    "\n",
    "# dividir o dataset entre treino e validação\n",
    "X_train, X_test, y_train, y_test = train_test_split(X, y, stratify=y, shuffle=True, test_size = 0.15)"
   ]
  },
  {
   "cell_type": "markdown",
   "id": "16e0959b",
   "metadata": {},
   "source": [
    "## Balanceamento de dados"
   ]
  },
  {
   "cell_type": "markdown",
   "id": "d7c687d9",
   "metadata": {},
   "source": [
    "Um dataset que possua mais de 50% das entradas em uma classe já é considerado desbalanceado. A maioria dos algoritmos de aprendizado de máquina funcionam bem com conjuntos de dados equilibrados, uma vez que eles buscam otimizar a precisão geral da classificação ou medidas relacionadas. Para dados **desbalanceados**, os limites de decisões estabelecidos por padrão nos algoritmos tendem a ser **enviesados em torno da classe majoritária**. Portanto a **classe minoritária tende a ser classificada incorretamente.**\n",
    "\n",
    "**No cenário apresentado, um falso positivo é preferível a um falso negativo**, pois as instituições financeiras sofrem mais prejuízos com transações indevidas realizadas que bloqueios preventivos. Para solucionar o problema, é necessário utilizar métricas que priorizem essa questão e tomar medidas para tratar o desbalanceamento dos dados. Uma maneira de corrigir o problema é utilizando técnicas de **sampling** ou amostragem, sendo divididas em **under-sampling** e **over-sampling**. \n",
    "\n",
    "O **under-sampling** consiste em **remover exemplos da classe majoritária** para tornar a proporção entre as classes mais equilibrada. Já o **over-sampling**, por sua vez, consiste em **gerar novos exemplos para a classe minoritária**, de forma a aumentar sua representatividade no conjunto de dados.\n",
    "\n",
    "Utilizaremos a técnica **ClusterCentroids** em **under-sampling** e **SMOTE** em **over-sampling**. Também será utilizado os modelos de *machine learning* **Decision Tree** e **Logistic Regression**."
   ]
  },
  {
   "cell_type": "markdown",
   "id": "da1ed803",
   "metadata": {},
   "source": [
    "### ClusterCentroids "
   ]
  },
  {
   "cell_type": "markdown",
   "id": "122995b9",
   "metadata": {},
   "source": [
    "ClusterCentroids  é uma técnica de *under-sampling* em que a **classe majoritária** é agrupada em **clusters** e, em seguida, exemplos de cada cluster são selecionados aleatoriamente até que o conjunto de dados esteja equilibrado. A ideia por trás dessa técnica é que, se houver uma grande quantidade de exemplos da classe majoritária próximos uns aos outros, pode ser possível reduzir o número de exemplos da classe majoritária selecionando aleatoriamente apenas alguns exemplos de cada cluster, **sem perder informações importantes do conjunto de dados original**. "
   ]
  },
  {
   "cell_type": "code",
   "execution_count": 150,
   "id": "74b241ac",
   "metadata": {
    "scrolled": true
   },
   "outputs": [
    {
     "data": {
      "image/png": "[encoded data removed]",
      "text/plain": [
       "<Figure size 640x480 with 1 Axes>"
      ]
     },
     "metadata": {},
     "output_type": "display_data"
    },
    {
     "data": {
      "image/png": "[encoded data removed]",
      "text/plain": [
       "<Figure size 640x480 with 1 Axes>"
      ]
     },
     "metadata": {},
     "output_type": "display_data"
    }
   ],
   "source": [
    "# Aplica a redução de dimensionalidade PCA para deixar o X_train em duas dimensões\n",
    "pca = PCA(2)\n",
    "X_train_vis = pca.fit_transform(X_train)\n",
    "\n",
    "# Exibindo o conjunto de dados original\n",
    "plt.scatter(X_train_vis[:, 0], X_train_vis[:, 1], c=y_train)\n",
    "plt.title('Conjunto de dados original')\n",
    "plt.show()\n",
    "\n",
    "# Cria um objeto ClusterCentroids\n",
    "cc = ClusterCentroids(sampling_strategy='auto', random_state=10)\n",
    "\n",
    "# Aplica undersampling baseado em cluster\n",
    "X_resampled, y_resampled = cc.fit_resample(X_train, y_train)\n",
    "\n",
    "# Aplicando PCA para visualizar o conjunto de dados em 2 dimensões após o undersampling\n",
    "X_resampled_vis = pca.fit_transform(X_resampled)\n",
    "\n",
    "# Exibindo o conjunto de dados após o undersampling\n",
    "plt.scatter(X_resampled_vis[:, 0], X_resampled_vis[:, 1], c=y_resampled)\n",
    "plt.title('Conjunto de dados após undersampling baseado em cluster')\n",
    "plt.show()\n"
   ]
  },
  {
   "cell_type": "markdown",
   "id": "9876dc6f",
   "metadata": {},
   "source": [
    "Ao utilizar a técnica under-sampling, **205063 amostras foram eliminadas** a fim de tornar o dataset balanceado."
   ]
  },
  {
   "cell_type": "code",
   "execution_count": 151,
   "id": "6236d6e0",
   "metadata": {},
   "outputs": [
    {
     "name": "stdout",
     "output_type": "stream",
     "text": [
      "Tamanho do y_train: (205773,)\n",
      "Tamanho do y_resampled: (710,)\n"
     ]
    }
   ],
   "source": [
    "# Visualizando o tamanho do conjunto de treinamento\n",
    "print(\"Tamanho do y_train:\", np.shape(y_train))\n",
    "\n",
    "# Visualizando o tamanho do conjunto balanceado\n",
    "print(\"Tamanho do y_resampled:\", np.shape(y_resampled))"
   ]
  },
  {
   "cell_type": "code",
   "execution_count": 152,
   "id": "cab8dcf2",
   "metadata": {
    "scrolled": true
   },
   "outputs": [
    {
     "name": "stdout",
     "output_type": "stream",
     "text": [
      "0    355\n",
      "1    355\n",
      "Name: Class, dtype: int64\n"
     ]
    }
   ],
   "source": [
    "# ver o balanceamento das classes\n",
    "print(pd.Series(y_resampled).value_counts())"
   ]
  },
  {
   "cell_type": "code",
   "execution_count": 153,
   "id": "65888d93",
   "metadata": {
    "scrolled": true
   },
   "outputs": [
    {
     "data": {
      "image/png": "[encoded data removed]",
      "text/plain": [
       "<Figure size 640x480 with 1 Axes>"
      ]
     },
     "metadata": {},
     "output_type": "display_data"
    }
   ],
   "source": [
    "# plotar a nova distribuição de classes\n",
    "sns.set_palette(sns.dark_palette(\"xkcd:golden\", 8))\n",
    "sns.countplot(x=y_resampled, hue=y_resampled);\n",
    "plt.title('Balanceamento após undersampling baseado em cluster')\n",
    "plt.show();"
   ]
  },
  {
   "cell_type": "markdown",
   "id": "6d1d1347",
   "metadata": {},
   "source": [
    "### SMOTE"
   ]
  },
  {
   "cell_type": "markdown",
   "id": "dc2100fb",
   "metadata": {},
   "source": [
    "SMOTE (Synthetic Minority Over-sampling Technique) é uma técnica de **over-sampling** amplamente utilizada em problemas de classificação em que a classe minoritária é significativamente menor do que a classe majoritária. Essa técnica é útil porque muitos algoritmos de aprendizado de máquina são sensíveis ao desbalanceamento de classes e tendem a ter um desempenho pior quando a classe minoritária é sub-representada. A técnica funciona selecionando um exemplo da classe minoritária e encontrando os seus k vizinhos mais próximos. Em seguida, ela **cria novos exemplos sintéticos** interpolando aleatoriamente os atributos dos exemplos selecionados e adicionando-os ao conjunto de dados."
   ]
  },
  {
   "cell_type": "code",
   "execution_count": 154,
   "id": "e5b7e782",
   "metadata": {},
   "outputs": [],
   "source": [
    "# Criando uma instância do SMOTE\n",
    "smote = SMOTE()\n",
    "\n",
    "# Balanceando os dados\n",
    "X_resampled_smote, y_resampled_smote = smote.fit_resample(X_train, y_train)"
   ]
  },
  {
   "cell_type": "markdown",
   "id": "25f43240",
   "metadata": {},
   "source": [
    "Ao utilizar a técnica over-sampling **205063 foram criadas** a fim de balancear o dataset."
   ]
  },
  {
   "cell_type": "code",
   "execution_count": 155,
   "id": "e246fe86",
   "metadata": {},
   "outputs": [
    {
     "name": "stdout",
     "output_type": "stream",
     "text": [
      "Tamanho do y_train: (205773,)\n",
      "Tamanho do y_resampled: (410836,)\n"
     ]
    }
   ],
   "source": [
    "# Visualizando o tamanho do conjunto de treinamento\n",
    "print(\"Tamanho do y_train:\", np.shape(y_train))\n",
    "\n",
    "# Visualizando o tamanho do conjunto balanceado\n",
    "print(\"Tamanho do y_resampled:\", np.shape(y_resampled_smote))"
   ]
  },
  {
   "cell_type": "code",
   "execution_count": 156,
   "id": "9f88ac2d",
   "metadata": {},
   "outputs": [
    {
     "name": "stdout",
     "output_type": "stream",
     "text": [
      "0    205418\n",
      "1    205418\n",
      "Name: Class, dtype: int64\n"
     ]
    }
   ],
   "source": [
    "# ver o balanceamento das classes\n",
    "print(pd.Series(y_resampled_smote).value_counts())"
   ]
  },
  {
   "cell_type": "code",
   "execution_count": 157,
   "id": "3aca0a44",
   "metadata": {},
   "outputs": [
    {
     "data": {
      "image/png": "[encoded data removed]",
      "text/plain": [
       "<Figure size 640x480 with 1 Axes>"
      ]
     },
     "metadata": {},
     "output_type": "display_data"
    }
   ],
   "source": [
    "# plotar a nova distribuição de classes\n",
    "sns.set_palette(sns.dark_palette(\"xkcd:golden\", 8))\n",
    "sns.countplot(x=y_resampled_smote, hue=y_resampled_smote);"
   ]
  },
  {
   "cell_type": "markdown",
   "id": "e95af3f0",
   "metadata": {},
   "source": [
    "## Treinamento dos Algoritmos de *Machine Learning* aplicado às amostras"
   ]
  },
  {
   "cell_type": "markdown",
   "id": "c7de43ec",
   "metadata": {},
   "source": [
    "### Decision Tree \n",
    "\n",
    "Uma **árvore de decisão** para classificação é um modelo de aprendizado de máquina que usa um conjunto de regras de decisão para classificar uma instância em uma ou mais classes pré-definidas. Cada **nó interno** da árvore representa uma **pergunta** sobre uma das características dos dados de entrada, enquanto cada **folha** representa uma **classe de saída**. Durante o treinamento, o algoritmo de aprendizado constrói a árvore fazendo perguntas sucessivas para dividir o conjunto de dados de treinamento em subconjuntos menores, e enfim classificar o dado na saída adequada.\n",
    "\n",
    "Abaixo, iremos realizar o aprendizado de máquina em Decision Tree utilizando o dataset balanceado pelo under-sampling e over-sampling respectivamente.\n",
    "\n",
    "#### ClusterCentroid"
   ]
  },
  {
   "cell_type": "code",
   "execution_count": 158,
   "id": "413de5a9",
   "metadata": {
    "scrolled": false
   },
   "outputs": [
    {
     "data": {
      "image/svg+xml": [
       "<?xml version=\"1.0\" encoding=\"UTF-8\" standalone=\"no\"?>\n",
       "<!DOCTYPE svg PUBLIC \"-//W3C//DTD SVG 1.1//EN\"\n",
       " \"http://www.w3.org/Graphics/SVG/1.1/DTD/svg11.dtd\">\n",
       "<!-- Generated by graphviz version 7.1.0 (20230121.1956)\n",
       " -->\n",
       "<!-- Title: Tree Pages: 1 -->\n",
       "<svg width=\"642pt\" height=\"520pt\"\n",
       " viewBox=\"0.00 0.00 642.00 520.00\" xmlns=\"http://www.w3.org/2000/svg\" xmlns:xlink=\"http://www.w3.org/1999/xlink\">\n",
       "<g id=\"graph0\" class=\"graph\" transform=\"scale(1 1) rotate(0) translate(4 516)\">\n",
       "<title>Tree</title>\n",
       "<polygon fill=\"white\" stroke=\"none\" points=\"-4,4 -4,-516 638,-516 638,4 -4,4\"/>\n",
       "<!-- 0 -->\n",
       "<g id=\"node1\" class=\"node\">\n",
       "<title>0</title>\n",
       "<path fill=\"#ffffff\" stroke=\"black\" d=\"M342,-512C342,-512 236,-512 236,-512 230,-512 224,-506 224,-500 224,-500 224,-441 224,-441 224,-435 230,-429 236,-429 236,-429 342,-429 342,-429 348,-429 354,-435 354,-441 354,-441 354,-500 354,-500 354,-506 348,-512 342,-512\"/>\n",
       "<text text-anchor=\"start\" x=\"247.5\" y=\"-496.8\" font-family=\"Helvetica,sans-Serif\" font-size=\"14.00\">V14 ≤ &#45;1.788</text>\n",
       "<text text-anchor=\"start\" x=\"260\" y=\"-481.8\" font-family=\"Helvetica,sans-Serif\" font-size=\"14.00\">gini = 0.5</text>\n",
       "<text text-anchor=\"start\" x=\"241.5\" y=\"-466.8\" font-family=\"Helvetica,sans-Serif\" font-size=\"14.00\">samples = 710</text>\n",
       "<text text-anchor=\"start\" x=\"232\" y=\"-451.8\" font-family=\"Helvetica,sans-Serif\" font-size=\"14.00\">value = [355, 355]</text>\n",
       "<text text-anchor=\"start\" x=\"242\" y=\"-436.8\" font-family=\"Helvetica,sans-Serif\" font-size=\"14.00\">class = Normal</text>\n",
       "</g>\n",
       "<!-- 1 -->\n",
       "<g id=\"node2\" class=\"node\">\n",
       "<title>1</title>\n",
       "<path fill=\"#45a3e7\" stroke=\"black\" d=\"M262,-393C262,-393 164,-393 164,-393 158,-393 152,-387 152,-381 152,-381 152,-322 152,-322 152,-316 158,-310 164,-310 164,-310 262,-310 262,-310 268,-310 274,-316 274,-322 274,-322 274,-381 274,-381 274,-387 268,-393 262,-393\"/>\n",
       "<text text-anchor=\"start\" x=\"173.5\" y=\"-377.8\" font-family=\"Helvetica,sans-Serif\" font-size=\"14.00\">V10 ≤ 1.829</text>\n",
       "<text text-anchor=\"start\" x=\"175.5\" y=\"-362.8\" font-family=\"Helvetica,sans-Serif\" font-size=\"14.00\">gini = 0.109</text>\n",
       "<text text-anchor=\"start\" x=\"165.5\" y=\"-347.8\" font-family=\"Helvetica,sans-Serif\" font-size=\"14.00\">samples = 328</text>\n",
       "<text text-anchor=\"start\" x=\"160\" y=\"-332.8\" font-family=\"Helvetica,sans-Serif\" font-size=\"14.00\">value = [19, 309]</text>\n",
       "<text text-anchor=\"start\" x=\"166\" y=\"-317.8\" font-family=\"Helvetica,sans-Serif\" font-size=\"14.00\">class = Fraude</text>\n",
       "</g>\n",
       "<!-- 0&#45;&gt;1 -->\n",
       "<g id=\"edge1\" class=\"edge\">\n",
       "<title>0&#45;&gt;1</title>\n",
       "<path fill=\"none\" stroke=\"black\" d=\"M262.42,-428.58C257.01,-420.25 251.26,-411.39 245.66,-402.78\"/>\n",
       "<polygon fill=\"black\" stroke=\"black\" points=\"248.64,-400.95 240.26,-394.47 242.77,-404.76 248.64,-400.95\"/>\n",
       "<text text-anchor=\"middle\" x=\"234.24\" y=\"-413.95\" font-family=\"Helvetica,sans-Serif\" font-size=\"14.00\">True</text>\n",
       "</g>\n",
       "<!-- 22 -->\n",
       "<g id=\"node11\" class=\"node\">\n",
       "<title>22</title>\n",
       "<path fill=\"#e99254\" stroke=\"black\" d=\"M427.5,-393C427.5,-393 304.5,-393 304.5,-393 298.5,-393 292.5,-387 292.5,-381 292.5,-381 292.5,-322 292.5,-322 292.5,-316 298.5,-310 304.5,-310 304.5,-310 427.5,-310 427.5,-310 433.5,-310 439.5,-316 439.5,-322 439.5,-322 439.5,-381 439.5,-381 439.5,-387 433.5,-393 427.5,-393\"/>\n",
       "<text text-anchor=\"start\" x=\"300.5\" y=\"-377.8\" font-family=\"Helvetica,sans-Serif\" font-size=\"14.00\">std_amount ≤ &#45;0.334</text>\n",
       "<text text-anchor=\"start\" x=\"328.5\" y=\"-362.8\" font-family=\"Helvetica,sans-Serif\" font-size=\"14.00\">gini = 0.212</text>\n",
       "<text text-anchor=\"start\" x=\"318.5\" y=\"-347.8\" font-family=\"Helvetica,sans-Serif\" font-size=\"14.00\">samples = 382</text>\n",
       "<text text-anchor=\"start\" x=\"313\" y=\"-332.8\" font-family=\"Helvetica,sans-Serif\" font-size=\"14.00\">value = [336, 46]</text>\n",
       "<text text-anchor=\"start\" x=\"319\" y=\"-317.8\" font-family=\"Helvetica,sans-Serif\" font-size=\"14.00\">class = Normal</text>\n",
       "</g>\n",
       "<!-- 0&#45;&gt;22 -->\n",
       "<g id=\"edge10\" class=\"edge\">\n",
       "<title>0&#45;&gt;22</title>\n",
       "<path fill=\"none\" stroke=\"black\" d=\"M315.93,-428.58C321.41,-420.25 327.24,-411.39 332.91,-402.78\"/>\n",
       "<polygon fill=\"black\" stroke=\"black\" points=\"335.81,-404.74 338.38,-394.46 329.96,-400.89 335.81,-404.74\"/>\n",
       "<text text-anchor=\"middle\" x=\"344.26\" y=\"-413.99\" font-family=\"Helvetica,sans-Serif\" font-size=\"14.00\">False</text>\n",
       "</g>\n",
       "<!-- 2 -->\n",
       "<g id=\"node3\" class=\"node\">\n",
       "<title>2</title>\n",
       "<path fill=\"#3fa0e6\" stroke=\"black\" d=\"M139,-274C139,-274 41,-274 41,-274 35,-274 29,-268 29,-262 29,-262 29,-203 29,-203 29,-197 35,-191 41,-191 41,-191 139,-191 139,-191 145,-191 151,-197 151,-203 151,-203 151,-262 151,-262 151,-268 145,-274 139,-274\"/>\n",
       "<text text-anchor=\"start\" x=\"50.5\" y=\"-258.8\" font-family=\"Helvetica,sans-Serif\" font-size=\"14.00\">V16 ≤ 0.628</text>\n",
       "<text text-anchor=\"start\" x=\"52.5\" y=\"-243.8\" font-family=\"Helvetica,sans-Serif\" font-size=\"14.00\">gini = 0.061</text>\n",
       "<text text-anchor=\"start\" x=\"42.5\" y=\"-228.8\" font-family=\"Helvetica,sans-Serif\" font-size=\"14.00\">samples = 319</text>\n",
       "<text text-anchor=\"start\" x=\"37\" y=\"-213.8\" font-family=\"Helvetica,sans-Serif\" font-size=\"14.00\">value = [10, 309]</text>\n",
       "<text text-anchor=\"start\" x=\"43\" y=\"-198.8\" font-family=\"Helvetica,sans-Serif\" font-size=\"14.00\">class = Fraude</text>\n",
       "</g>\n",
       "<!-- 1&#45;&gt;2 -->\n",
       "<g id=\"edge2\" class=\"edge\">\n",
       "<title>1&#45;&gt;2</title>\n",
       "<path fill=\"none\" stroke=\"black\" d=\"M169.98,-309.58C160.66,-300.71 150.71,-291.25 141.11,-282.12\"/>\n",
       "<polygon fill=\"black\" stroke=\"black\" points=\"143.54,-279.6 133.88,-275.24 138.72,-284.67 143.54,-279.6\"/>\n",
       "</g>\n",
       "<!-- 21 -->\n",
       "<g id=\"node10\" class=\"node\">\n",
       "<title>21</title>\n",
       "<path fill=\"#e58139\" stroke=\"black\" d=\"M267,-266.5C267,-266.5 181,-266.5 181,-266.5 175,-266.5 169,-260.5 169,-254.5 169,-254.5 169,-210.5 169,-210.5 169,-204.5 175,-198.5 181,-198.5 181,-198.5 267,-198.5 267,-198.5 273,-198.5 279,-204.5 279,-210.5 279,-210.5 279,-254.5 279,-254.5 279,-260.5 273,-266.5 267,-266.5\"/>\n",
       "<text text-anchor=\"start\" x=\"195\" y=\"-251.3\" font-family=\"Helvetica,sans-Serif\" font-size=\"14.00\">gini = 0.0</text>\n",
       "<text text-anchor=\"start\" x=\"184.5\" y=\"-236.3\" font-family=\"Helvetica,sans-Serif\" font-size=\"14.00\">samples = 9</text>\n",
       "<text text-anchor=\"start\" x=\"183.5\" y=\"-221.3\" font-family=\"Helvetica,sans-Serif\" font-size=\"14.00\">value = [9, 0]</text>\n",
       "<text text-anchor=\"start\" x=\"177\" y=\"-206.3\" font-family=\"Helvetica,sans-Serif\" font-size=\"14.00\">class = Normal</text>\n",
       "</g>\n",
       "<!-- 1&#45;&gt;21 -->\n",
       "<g id=\"edge9\" class=\"edge\">\n",
       "<title>1&#45;&gt;21</title>\n",
       "<path fill=\"none\" stroke=\"black\" d=\"M216.85,-309.58C217.8,-299.43 218.83,-288.5 219.8,-278.18\"/>\n",
       "<polygon fill=\"black\" stroke=\"black\" points=\"223.27,-278.65 220.72,-268.37 216.3,-278 223.27,-278.65\"/>\n",
       "</g>\n",
       "<!-- 3 -->\n",
       "<g id=\"node4\" class=\"node\">\n",
       "<title>3</title>\n",
       "<path fill=\"#3b9ee5\" stroke=\"black\" d=\"M128.5,-155C128.5,-155 39.5,-155 39.5,-155 33.5,-155 27.5,-149 27.5,-143 27.5,-143 27.5,-84 27.5,-84 27.5,-78 33.5,-72 39.5,-72 39.5,-72 128.5,-72 128.5,-72 134.5,-72 140.5,-78 140.5,-84 140.5,-84 140.5,-143 140.5,-143 140.5,-149 134.5,-155 128.5,-155\"/>\n",
       "<text text-anchor=\"start\" x=\"44.5\" y=\"-139.8\" font-family=\"Helvetica,sans-Serif\" font-size=\"14.00\">V25 ≤ 2.249</text>\n",
       "<text text-anchor=\"start\" x=\"50.5\" y=\"-124.8\" font-family=\"Helvetica,sans-Serif\" font-size=\"14.00\">gini = 0.02</text>\n",
       "<text text-anchor=\"start\" x=\"36.5\" y=\"-109.8\" font-family=\"Helvetica,sans-Serif\" font-size=\"14.00\">samples = 293</text>\n",
       "<text text-anchor=\"start\" x=\"35.5\" y=\"-94.8\" font-family=\"Helvetica,sans-Serif\" font-size=\"14.00\">value = [3, 290]</text>\n",
       "<text text-anchor=\"start\" x=\"37\" y=\"-79.8\" font-family=\"Helvetica,sans-Serif\" font-size=\"14.00\">class = Fraude</text>\n",
       "</g>\n",
       "<!-- 2&#45;&gt;3 -->\n",
       "<g id=\"edge3\" class=\"edge\">\n",
       "<title>2&#45;&gt;3</title>\n",
       "<path fill=\"none\" stroke=\"black\" d=\"M87.9,-190.58C87.5,-182.79 87.08,-174.53 86.66,-166.45\"/>\n",
       "<polygon fill=\"black\" stroke=\"black\" points=\"90.17,-166.52 86.16,-156.71 83.18,-166.88 90.17,-166.52\"/>\n",
       "</g>\n",
       "<!-- 14 -->\n",
       "<g id=\"node7\" class=\"node\">\n",
       "<title>14</title>\n",
       "<path fill=\"#82c1ef\" stroke=\"black\" d=\"M257,-155C257,-155 171,-155 171,-155 165,-155 159,-149 159,-143 159,-143 159,-84 159,-84 159,-78 165,-72 171,-72 171,-72 257,-72 257,-72 263,-72 269,-78 269,-84 269,-84 269,-143 269,-143 269,-149 263,-155 257,-155\"/>\n",
       "<text text-anchor=\"start\" x=\"172.5\" y=\"-139.8\" font-family=\"Helvetica,sans-Serif\" font-size=\"14.00\">V19 ≤ &#45;1.014</text>\n",
       "<text text-anchor=\"start\" x=\"176.5\" y=\"-124.8\" font-family=\"Helvetica,sans-Serif\" font-size=\"14.00\">gini = 0.393</text>\n",
       "<text text-anchor=\"start\" x=\"170.5\" y=\"-109.8\" font-family=\"Helvetica,sans-Serif\" font-size=\"14.00\">samples = 26</text>\n",
       "<text text-anchor=\"start\" x=\"169.5\" y=\"-94.8\" font-family=\"Helvetica,sans-Serif\" font-size=\"14.00\">value = [7, 19]</text>\n",
       "<text text-anchor=\"start\" x=\"167\" y=\"-79.8\" font-family=\"Helvetica,sans-Serif\" font-size=\"14.00\">class = Fraude</text>\n",
       "</g>\n",
       "<!-- 2&#45;&gt;14 -->\n",
       "<g id=\"edge6\" class=\"edge\">\n",
       "<title>2&#45;&gt;14</title>\n",
       "<path fill=\"none\" stroke=\"black\" d=\"M133.37,-190.58C142.86,-181.62 153,-172.06 162.77,-162.84\"/>\n",
       "<polygon fill=\"black\" stroke=\"black\" points=\"164.89,-165.65 169.76,-156.24 160.09,-160.56 164.89,-165.65\"/>\n",
       "</g>\n",
       "<!-- 4 -->\n",
       "<g id=\"node5\" class=\"node\">\n",
       "<title>4</title>\n",
       "<path fill=\"#c0c0c0\" stroke=\"black\" d=\"M42,-36C42,-36 12,-36 12,-36 6,-36 0,-30 0,-24 0,-24 0,-12 0,-12 0,-6 6,0 12,0 12,0 42,0 42,0 48,0 54,-6 54,-12 54,-12 54,-24 54,-24 54,-30 48,-36 42,-36\"/>\n",
       "<text text-anchor=\"middle\" x=\"27\" y=\"-14.3\" font-family=\"Helvetica,sans-Serif\" font-size=\"14.00\">(...)</text>\n",
       "</g>\n",
       "<!-- 3&#45;&gt;4 -->\n",
       "<g id=\"edge4\" class=\"edge\">\n",
       "<title>3&#45;&gt;4</title>\n",
       "<path fill=\"none\" stroke=\"black\" d=\"M59.16,-71.76C53.85,-63.04 48.36,-54.04 43.46,-45.99\"/>\n",
       "<polygon fill=\"black\" stroke=\"black\" points=\"46.59,-44.41 38.4,-37.7 40.62,-48.06 46.59,-44.41\"/>\n",
       "</g>\n",
       "<!-- 13 -->\n",
       "<g id=\"node6\" class=\"node\">\n",
       "<title>13</title>\n",
       "<path fill=\"#c0c0c0\" stroke=\"black\" d=\"M114,-36C114,-36 84,-36 84,-36 78,-36 72,-30 72,-24 72,-24 72,-12 72,-12 72,-6 78,0 84,0 84,0 114,0 114,0 120,0 126,-6 126,-12 126,-12 126,-24 126,-24 126,-30 120,-36 114,-36\"/>\n",
       "<text text-anchor=\"middle\" x=\"99\" y=\"-14.3\" font-family=\"Helvetica,sans-Serif\" font-size=\"14.00\">(...)</text>\n",
       "</g>\n",
       "<!-- 3&#45;&gt;13 -->\n",
       "<g id=\"edge5\" class=\"edge\">\n",
       "<title>3&#45;&gt;13</title>\n",
       "<path fill=\"none\" stroke=\"black\" d=\"M90.54,-71.76C91.84,-63.62 93.19,-55.24 94.41,-47.61\"/>\n",
       "<polygon fill=\"black\" stroke=\"black\" points=\"97.84,-48.33 95.97,-37.9 90.93,-47.22 97.84,-48.33\"/>\n",
       "</g>\n",
       "<!-- 15 -->\n",
       "<g id=\"node8\" class=\"node\">\n",
       "<title>15</title>\n",
       "<path fill=\"#c0c0c0\" stroke=\"black\" d=\"M215,-36C215,-36 185,-36 185,-36 179,-36 173,-30 173,-24 173,-24 173,-12 173,-12 173,-6 179,0 185,0 185,0 215,0 215,0 221,0 227,-6 227,-12 227,-12 227,-24 227,-24 227,-30 221,-36 215,-36\"/>\n",
       "<text text-anchor=\"middle\" x=\"200\" y=\"-14.3\" font-family=\"Helvetica,sans-Serif\" font-size=\"14.00\">(...)</text>\n",
       "</g>\n",
       "<!-- 14&#45;&gt;15 -->\n",
       "<g id=\"edge7\" class=\"edge\">\n",
       "<title>14&#45;&gt;15</title>\n",
       "<path fill=\"none\" stroke=\"black\" d=\"M207.9,-71.76C206.68,-63.62 205.43,-55.24 204.28,-47.61\"/>\n",
       "<polygon fill=\"black\" stroke=\"black\" points=\"207.77,-47.27 202.83,-37.9 200.85,-48.31 207.77,-47.27\"/>\n",
       "</g>\n",
       "<!-- 16 -->\n",
       "<g id=\"node9\" class=\"node\">\n",
       "<title>16</title>\n",
       "<path fill=\"#c0c0c0\" stroke=\"black\" d=\"M287,-36C287,-36 257,-36 257,-36 251,-36 245,-30 245,-24 245,-24 245,-12 245,-12 245,-6 251,0 257,0 257,0 287,0 287,0 293,0 299,-6 299,-12 299,-12 299,-24 299,-24 299,-30 293,-36 287,-36\"/>\n",
       "<text text-anchor=\"middle\" x=\"272\" y=\"-14.3\" font-family=\"Helvetica,sans-Serif\" font-size=\"14.00\">(...)</text>\n",
       "</g>\n",
       "<!-- 14&#45;&gt;16 -->\n",
       "<g id=\"edge8\" class=\"edge\">\n",
       "<title>14&#45;&gt;16</title>\n",
       "<path fill=\"none\" stroke=\"black\" d=\"M239.27,-71.76C244.68,-63.04 250.26,-54.04 255.26,-45.99\"/>\n",
       "<polygon fill=\"black\" stroke=\"black\" points=\"258.11,-48.03 260.41,-37.69 252.16,-44.34 258.11,-48.03\"/>\n",
       "</g>\n",
       "<!-- 23 -->\n",
       "<g id=\"node12\" class=\"node\">\n",
       "<title>23</title>\n",
       "<path fill=\"#399de5\" stroke=\"black\" d=\"M398,-266.5C398,-266.5 312,-266.5 312,-266.5 306,-266.5 300,-260.5 300,-254.5 300,-254.5 300,-210.5 300,-210.5 300,-204.5 306,-198.5 312,-198.5 312,-198.5 398,-198.5 398,-198.5 404,-198.5 410,-204.5 410,-210.5 410,-210.5 410,-254.5 410,-254.5 410,-260.5 404,-266.5 398,-266.5\"/>\n",
       "<text text-anchor=\"start\" x=\"326\" y=\"-251.3\" font-family=\"Helvetica,sans-Serif\" font-size=\"14.00\">gini = 0.0</text>\n",
       "<text text-anchor=\"start\" x=\"311.5\" y=\"-236.3\" font-family=\"Helvetica,sans-Serif\" font-size=\"14.00\">samples = 25</text>\n",
       "<text text-anchor=\"start\" x=\"310.5\" y=\"-221.3\" font-family=\"Helvetica,sans-Serif\" font-size=\"14.00\">value = [0, 25]</text>\n",
       "<text text-anchor=\"start\" x=\"308\" y=\"-206.3\" font-family=\"Helvetica,sans-Serif\" font-size=\"14.00\">class = Fraude</text>\n",
       "</g>\n",
       "<!-- 22&#45;&gt;23 -->\n",
       "<g id=\"edge11\" class=\"edge\">\n",
       "<title>22&#45;&gt;23</title>\n",
       "<path fill=\"none\" stroke=\"black\" d=\"M362.15,-309.58C361.2,-299.43 360.17,-288.5 359.2,-278.18\"/>\n",
       "<polygon fill=\"black\" stroke=\"black\" points=\"362.7,-278 358.28,-268.37 355.73,-278.65 362.7,-278\"/>\n",
       "</g>\n",
       "<!-- 24 -->\n",
       "<g id=\"node13\" class=\"node\">\n",
       "<title>24</title>\n",
       "<path fill=\"#e78945\" stroke=\"black\" d=\"M538,-274C538,-274 440,-274 440,-274 434,-274 428,-268 428,-262 428,-262 428,-203 428,-203 428,-197 434,-191 440,-191 440,-191 538,-191 538,-191 544,-191 550,-197 550,-203 550,-203 550,-262 550,-262 550,-268 544,-274 538,-274\"/>\n",
       "<text text-anchor=\"start\" x=\"449.5\" y=\"-258.8\" font-family=\"Helvetica,sans-Serif\" font-size=\"14.00\">V26 ≤ 1.097</text>\n",
       "<text text-anchor=\"start\" x=\"451.5\" y=\"-243.8\" font-family=\"Helvetica,sans-Serif\" font-size=\"14.00\">gini = 0.111</text>\n",
       "<text text-anchor=\"start\" x=\"441.5\" y=\"-228.8\" font-family=\"Helvetica,sans-Serif\" font-size=\"14.00\">samples = 357</text>\n",
       "<text text-anchor=\"start\" x=\"436\" y=\"-213.8\" font-family=\"Helvetica,sans-Serif\" font-size=\"14.00\">value = [336, 21]</text>\n",
       "<text text-anchor=\"start\" x=\"442\" y=\"-198.8\" font-family=\"Helvetica,sans-Serif\" font-size=\"14.00\">class = Normal</text>\n",
       "</g>\n",
       "<!-- 22&#45;&gt;24 -->\n",
       "<g id=\"edge12\" class=\"edge\">\n",
       "<title>22&#45;&gt;24</title>\n",
       "<path fill=\"none\" stroke=\"black\" d=\"M409.02,-309.58C418.34,-300.71 428.29,-291.25 437.89,-282.12\"/>\n",
       "<polygon fill=\"black\" stroke=\"black\" points=\"440.28,-284.67 445.12,-275.24 435.46,-279.6 440.28,-284.67\"/>\n",
       "</g>\n",
       "<!-- 25 -->\n",
       "<g id=\"node14\" class=\"node\">\n",
       "<title>25</title>\n",
       "<path fill=\"#e68743\" stroke=\"black\" d=\"M494,-155C494,-155 396,-155 396,-155 390,-155 384,-149 384,-143 384,-143 384,-84 384,-84 384,-78 390,-72 396,-72 396,-72 494,-72 494,-72 500,-72 506,-78 506,-84 506,-84 506,-143 506,-143 506,-149 500,-155 494,-155\"/>\n",
       "<text text-anchor=\"start\" x=\"403.5\" y=\"-139.8\" font-family=\"Helvetica,sans-Serif\" font-size=\"14.00\">V13 ≤ &#45;1.076</text>\n",
       "<text text-anchor=\"start\" x=\"407.5\" y=\"-124.8\" font-family=\"Helvetica,sans-Serif\" font-size=\"14.00\">gini = 0.092</text>\n",
       "<text text-anchor=\"start\" x=\"397.5\" y=\"-109.8\" font-family=\"Helvetica,sans-Serif\" font-size=\"14.00\">samples = 353</text>\n",
       "<text text-anchor=\"start\" x=\"392\" y=\"-94.8\" font-family=\"Helvetica,sans-Serif\" font-size=\"14.00\">value = [336, 17]</text>\n",
       "<text text-anchor=\"start\" x=\"398\" y=\"-79.8\" font-family=\"Helvetica,sans-Serif\" font-size=\"14.00\">class = Normal</text>\n",
       "</g>\n",
       "<!-- 24&#45;&gt;25 -->\n",
       "<g id=\"edge13\" class=\"edge\">\n",
       "<title>24&#45;&gt;25</title>\n",
       "<path fill=\"none\" stroke=\"black\" d=\"M473.61,-190.58C470.61,-182.61 467.43,-174.15 464.33,-165.89\"/>\n",
       "<polygon fill=\"black\" stroke=\"black\" points=\"467.63,-164.74 460.84,-156.62 461.08,-167.21 467.63,-164.74\"/>\n",
       "</g>\n",
       "<!-- 56 -->\n",
       "<g id=\"node17\" class=\"node\">\n",
       "<title>56</title>\n",
       "<path fill=\"#399de5\" stroke=\"black\" d=\"M622,-147.5C622,-147.5 536,-147.5 536,-147.5 530,-147.5 524,-141.5 524,-135.5 524,-135.5 524,-91.5 524,-91.5 524,-85.5 530,-79.5 536,-79.5 536,-79.5 622,-79.5 622,-79.5 628,-79.5 634,-85.5 634,-91.5 634,-91.5 634,-135.5 634,-135.5 634,-141.5 628,-147.5 622,-147.5\"/>\n",
       "<text text-anchor=\"start\" x=\"550\" y=\"-132.3\" font-family=\"Helvetica,sans-Serif\" font-size=\"14.00\">gini = 0.0</text>\n",
       "<text text-anchor=\"start\" x=\"539.5\" y=\"-117.3\" font-family=\"Helvetica,sans-Serif\" font-size=\"14.00\">samples = 4</text>\n",
       "<text text-anchor=\"start\" x=\"538.5\" y=\"-102.3\" font-family=\"Helvetica,sans-Serif\" font-size=\"14.00\">value = [0, 4]</text>\n",
       "<text text-anchor=\"start\" x=\"532\" y=\"-87.3\" font-family=\"Helvetica,sans-Serif\" font-size=\"14.00\">class = Fraude</text>\n",
       "</g>\n",
       "<!-- 24&#45;&gt;56 -->\n",
       "<g id=\"edge16\" class=\"edge\">\n",
       "<title>24&#45;&gt;56</title>\n",
       "<path fill=\"none\" stroke=\"black\" d=\"M520.48,-190.58C528.87,-179.66 537.96,-167.85 546.41,-156.86\"/>\n",
       "<polygon fill=\"black\" stroke=\"black\" points=\"549.09,-159.12 552.41,-149.06 543.54,-154.85 549.09,-159.12\"/>\n",
       "</g>\n",
       "<!-- 26 -->\n",
       "<g id=\"node15\" class=\"node\">\n",
       "<title>26</title>\n",
       "<path fill=\"#c0c0c0\" stroke=\"black\" d=\"M424,-36C424,-36 394,-36 394,-36 388,-36 382,-30 382,-24 382,-24 382,-12 382,-12 382,-6 388,0 394,0 394,0 424,0 424,0 430,0 436,-6 436,-12 436,-12 436,-24 436,-24 436,-30 430,-36 424,-36\"/>\n",
       "<text text-anchor=\"middle\" x=\"409\" y=\"-14.3\" font-family=\"Helvetica,sans-Serif\" font-size=\"14.00\">(...)</text>\n",
       "</g>\n",
       "<!-- 25&#45;&gt;26 -->\n",
       "<g id=\"edge14\" class=\"edge\">\n",
       "<title>25&#45;&gt;26</title>\n",
       "<path fill=\"none\" stroke=\"black\" d=\"M429.31,-71.76C426.11,-63.43 422.8,-54.84 419.81,-47.07\"/>\n",
       "<polygon fill=\"black\" stroke=\"black\" points=\"423.1,-45.89 416.25,-37.82 416.57,-48.41 423.1,-45.89\"/>\n",
       "</g>\n",
       "<!-- 31 -->\n",
       "<g id=\"node16\" class=\"node\">\n",
       "<title>31</title>\n",
       "<path fill=\"#c0c0c0\" stroke=\"black\" d=\"M496,-36C496,-36 466,-36 466,-36 460,-36 454,-30 454,-24 454,-24 454,-12 454,-12 454,-6 460,0 466,0 466,0 496,0 496,0 502,0 508,-6 508,-12 508,-12 508,-24 508,-24 508,-30 502,-36 496,-36\"/>\n",
       "<text text-anchor=\"middle\" x=\"481\" y=\"-14.3\" font-family=\"Helvetica,sans-Serif\" font-size=\"14.00\">(...)</text>\n",
       "</g>\n",
       "<!-- 25&#45;&gt;31 -->\n",
       "<g id=\"edge15\" class=\"edge\">\n",
       "<title>25&#45;&gt;31</title>\n",
       "<path fill=\"none\" stroke=\"black\" d=\"M460.69,-71.76C463.89,-63.43 467.2,-54.84 470.19,-47.07\"/>\n",
       "<polygon fill=\"black\" stroke=\"black\" points=\"473.43,-48.41 473.75,-37.82 466.9,-45.89 473.43,-48.41\"/>\n",
       "</g>\n",
       "</g>\n",
       "</svg>\n"
      ],
      "text/plain": [
       "<graphviz.sources.Source at 0x179dadafa30>"
      ]
     },
     "metadata": {},
     "output_type": "display_data"
    }
   ],
   "source": [
    "# Cria um objeto DecisionTreeClassifier, que retorna um Estimator\n",
    "clf = tree.DecisionTreeClassifier()\n",
    "\n",
    "# Realiza o aprendizado de máquina\n",
    "clf = clf.fit(X_resampled, y_resampled)\n",
    "\n",
    "# Definindo o caminho para o Graphviz\n",
    "os.environ[\"PATH\"] += os.pathsep + 'C:\\Program Files\\Graphviz\\bin'\n",
    "\n",
    "dot_data = export_graphviz(clf, out_file=None, feature_names=X_resampled.columns, \n",
    "                           class_names=['Normal', 'Fraude'], filled=True, rounded=True, \n",
    "                           max_depth = 3, special_characters=True)\n",
    "\n",
    "# Criando um objeto Graph a partir do arquivo .dot\n",
    "graph = graphviz.Source(dot_data)\n",
    "\n",
    "# Exibindo a árvore de decisão no notebook\n",
    "display(graph)\n"
   ]
  },
  {
   "cell_type": "code",
   "execution_count": 159,
   "id": "097aabe9",
   "metadata": {},
   "outputs": [],
   "source": [
    "# fazer as previsões em cima dos dados de validação\n",
    "y_pred = clf.predict(X_test)\n",
    "y_prob = clf.predict_proba(X_test)"
   ]
  },
  {
   "cell_type": "markdown",
   "id": "2bdf58db",
   "metadata": {},
   "source": [
    "#### SMOTE"
   ]
  },
  {
   "cell_type": "code",
   "execution_count": 160,
   "id": "21c5ae24",
   "metadata": {},
   "outputs": [
    {
     "data": {
      "image/svg+xml": [
       "<?xml version=\"1.0\" encoding=\"UTF-8\" standalone=\"no\"?>\n",
       "<!DOCTYPE svg PUBLIC \"-//W3C//DTD SVG 1.1//EN\"\n",
       " \"http://www.w3.org/Graphics/SVG/1.1/DTD/svg11.dtd\">\n",
       "<!-- Generated by graphviz version 7.1.0 (20230121.1956)\n",
       " -->\n",
       "<!-- Title: Tree Pages: 1 -->\n",
       "<svg width=\"1305pt\" height=\"520pt\"\n",
       " viewBox=\"0.00 0.00 1304.50 520.00\" xmlns=\"http://www.w3.org/2000/svg\" xmlns:xlink=\"http://www.w3.org/1999/xlink\">\n",
       "<g id=\"graph0\" class=\"graph\" transform=\"scale(1 1) rotate(0) translate(4 516)\">\n",
       "<title>Tree</title>\n",
       "<polygon fill=\"white\" stroke=\"none\" points=\"-4,4 -4,-516 1300.5,-516 1300.5,4 -4,4\"/>\n",
       "<!-- 0 -->\n",
       "<g id=\"node1\" class=\"node\">\n",
       "<title>0</title>\n",
       "<path fill=\"#ffffff\" stroke=\"black\" d=\"M684.5,-512C684.5,-512 529.5,-512 529.5,-512 523.5,-512 517.5,-506 517.5,-500 517.5,-500 517.5,-441 517.5,-441 517.5,-435 523.5,-429 529.5,-429 529.5,-429 684.5,-429 684.5,-429 690.5,-429 696.5,-435 696.5,-441 696.5,-441 696.5,-500 696.5,-500 696.5,-506 690.5,-512 684.5,-512\"/>\n",
       "<text text-anchor=\"start\" x=\"565.5\" y=\"-496.8\" font-family=\"Helvetica,sans-Serif\" font-size=\"14.00\">V14 ≤ &#45;1.808</text>\n",
       "<text text-anchor=\"start\" x=\"578\" y=\"-481.8\" font-family=\"Helvetica,sans-Serif\" font-size=\"14.00\">gini = 0.5</text>\n",
       "<text text-anchor=\"start\" x=\"547\" y=\"-466.8\" font-family=\"Helvetica,sans-Serif\" font-size=\"14.00\">samples = 410836</text>\n",
       "<text text-anchor=\"start\" x=\"525.5\" y=\"-451.8\" font-family=\"Helvetica,sans-Serif\" font-size=\"14.00\">value = [205418, 205418]</text>\n",
       "<text text-anchor=\"start\" x=\"560\" y=\"-436.8\" font-family=\"Helvetica,sans-Serif\" font-size=\"14.00\">class = Normal</text>\n",
       "</g>\n",
       "<!-- 1 -->\n",
       "<g id=\"node2\" class=\"node\">\n",
       "<title>1</title>\n",
       "<path fill=\"#40a0e6\" stroke=\"black\" d=\"M507.5,-393C507.5,-393 368.5,-393 368.5,-393 362.5,-393 356.5,-387 356.5,-381 356.5,-381 356.5,-322 356.5,-322 356.5,-316 362.5,-310 368.5,-310 368.5,-310 507.5,-310 507.5,-310 513.5,-310 519.5,-316 519.5,-322 519.5,-322 519.5,-381 519.5,-381 519.5,-387 513.5,-393 507.5,-393\"/>\n",
       "<text text-anchor=\"start\" x=\"400.5\" y=\"-377.8\" font-family=\"Helvetica,sans-Serif\" font-size=\"14.00\">V4 ≤ &#45;0.458</text>\n",
       "<text text-anchor=\"start\" x=\"400.5\" y=\"-362.8\" font-family=\"Helvetica,sans-Serif\" font-size=\"14.00\">gini = 0.062</text>\n",
       "<text text-anchor=\"start\" x=\"378\" y=\"-347.8\" font-family=\"Helvetica,sans-Serif\" font-size=\"14.00\">samples = 185102</text>\n",
       "<text text-anchor=\"start\" x=\"364.5\" y=\"-332.8\" font-family=\"Helvetica,sans-Serif\" font-size=\"14.00\">value = [5967, 179135]</text>\n",
       "<text text-anchor=\"start\" x=\"391\" y=\"-317.8\" font-family=\"Helvetica,sans-Serif\" font-size=\"14.00\">class = Fraude</text>\n",
       "</g>\n",
       "<!-- 0&#45;&gt;1 -->\n",
       "<g id=\"edge1\" class=\"edge\">\n",
       "<title>0&#45;&gt;1</title>\n",
       "<path fill=\"none\" stroke=\"black\" d=\"M547.89,-428.58C534.51,-419.32 520.2,-409.41 506.47,-399.9\"/>\n",
       "<polygon fill=\"black\" stroke=\"black\" points=\"508.53,-397.07 498.32,-394.26 504.55,-402.83 508.53,-397.07\"/>\n",
       "<text text-anchor=\"middle\" x=\"501.55\" y=\"-414.29\" font-family=\"Helvetica,sans-Serif\" font-size=\"14.00\">True</text>\n",
       "</g>\n",
       "<!-- 258 -->\n",
       "<g id=\"node15\" class=\"node\">\n",
       "<title>258</title>\n",
       "<path fill=\"#e89253\" stroke=\"black\" d=\"M855.5,-393C855.5,-393 708.5,-393 708.5,-393 702.5,-393 696.5,-387 696.5,-381 696.5,-381 696.5,-322 696.5,-322 696.5,-316 702.5,-310 708.5,-310 708.5,-310 855.5,-310 855.5,-310 861.5,-310 867.5,-316 867.5,-322 867.5,-322 867.5,-381 867.5,-381 867.5,-387 861.5,-393 855.5,-393\"/>\n",
       "<text text-anchor=\"start\" x=\"747\" y=\"-377.8\" font-family=\"Helvetica,sans-Serif\" font-size=\"14.00\">V4 ≤ 1.687</text>\n",
       "<text text-anchor=\"start\" x=\"744.5\" y=\"-362.8\" font-family=\"Helvetica,sans-Serif\" font-size=\"14.00\">gini = 0.206</text>\n",
       "<text text-anchor=\"start\" x=\"722\" y=\"-347.8\" font-family=\"Helvetica,sans-Serif\" font-size=\"14.00\">samples = 225734</text>\n",
       "<text text-anchor=\"start\" x=\"704.5\" y=\"-332.8\" font-family=\"Helvetica,sans-Serif\" font-size=\"14.00\">value = [199451, 26283]</text>\n",
       "<text text-anchor=\"start\" x=\"735\" y=\"-317.8\" font-family=\"Helvetica,sans-Serif\" font-size=\"14.00\">class = Normal</text>\n",
       "</g>\n",
       "<!-- 0&#45;&gt;258 -->\n",
       "<g id=\"edge14\" class=\"edge\">\n",
       "<title>0&#45;&gt;258</title>\n",
       "<path fill=\"none\" stroke=\"black\" d=\"M668.21,-428.58C682.19,-419.23 697.17,-409.21 711.51,-399.63\"/>\n",
       "<polygon fill=\"black\" stroke=\"black\" points=\"713.2,-402.71 719.57,-394.24 709.31,-396.89 713.2,-402.71\"/>\n",
       "<text text-anchor=\"middle\" x=\"715.96\" y=\"-414.22\" font-family=\"Helvetica,sans-Serif\" font-size=\"14.00\">False</text>\n",
       "</g>\n",
       "<!-- 2 -->\n",
       "<g id=\"node3\" class=\"node\">\n",
       "<title>2</title>\n",
       "<path fill=\"#e78c4a\" stroke=\"black\" d=\"M250,-274C250,-274 136,-274 136,-274 130,-274 124,-268 124,-262 124,-262 124,-203 124,-203 124,-197 130,-191 136,-191 136,-191 250,-191 250,-191 256,-191 262,-197 262,-203 262,-203 262,-262 262,-262 262,-268 256,-274 250,-274\"/>\n",
       "<text text-anchor=\"start\" x=\"151.5\" y=\"-258.8\" font-family=\"Helvetica,sans-Serif\" font-size=\"14.00\">V10 ≤ &#45;4.625</text>\n",
       "<text text-anchor=\"start\" x=\"155.5\" y=\"-243.8\" font-family=\"Helvetica,sans-Serif\" font-size=\"14.00\">gini = 0.146</text>\n",
       "<text text-anchor=\"start\" x=\"141.5\" y=\"-228.8\" font-family=\"Helvetica,sans-Serif\" font-size=\"14.00\">samples = 2110</text>\n",
       "<text text-anchor=\"start\" x=\"132\" y=\"-213.8\" font-family=\"Helvetica,sans-Serif\" font-size=\"14.00\">value = [1943, 167]</text>\n",
       "<text text-anchor=\"start\" x=\"146\" y=\"-198.8\" font-family=\"Helvetica,sans-Serif\" font-size=\"14.00\">class = Normal</text>\n",
       "</g>\n",
       "<!-- 1&#45;&gt;2 -->\n",
       "<g id=\"edge2\" class=\"edge\">\n",
       "<title>1&#45;&gt;2</title>\n",
       "<path fill=\"none\" stroke=\"black\" d=\"M356.08,-311.38C329.06,-298.48 299.08,-284.16 272.27,-271.36\"/>\n",
       "<polygon fill=\"black\" stroke=\"black\" points=\"274.06,-268.33 263.53,-267.18 271.04,-274.65 274.06,-268.33\"/>\n",
       "</g>\n",
       "<!-- 23 -->\n",
       "<g id=\"node8\" class=\"node\">\n",
       "<title>23</title>\n",
       "<path fill=\"#3d9fe6\" stroke=\"black\" d=\"M507.5,-274C507.5,-274 368.5,-274 368.5,-274 362.5,-274 356.5,-268 356.5,-262 356.5,-262 356.5,-203 356.5,-203 356.5,-197 362.5,-191 368.5,-191 368.5,-191 507.5,-191 507.5,-191 513.5,-191 519.5,-197 519.5,-203 519.5,-203 519.5,-262 519.5,-262 519.5,-268 513.5,-274 507.5,-274\"/>\n",
       "<text text-anchor=\"start\" x=\"396.5\" y=\"-258.8\" font-family=\"Helvetica,sans-Serif\" font-size=\"14.00\">V12 ≤ &#45;1.648</text>\n",
       "<text text-anchor=\"start\" x=\"400.5\" y=\"-243.8\" font-family=\"Helvetica,sans-Serif\" font-size=\"14.00\">gini = 0.043</text>\n",
       "<text text-anchor=\"start\" x=\"378\" y=\"-228.8\" font-family=\"Helvetica,sans-Serif\" font-size=\"14.00\">samples = 182992</text>\n",
       "<text text-anchor=\"start\" x=\"364.5\" y=\"-213.8\" font-family=\"Helvetica,sans-Serif\" font-size=\"14.00\">value = [4024, 178968]</text>\n",
       "<text text-anchor=\"start\" x=\"391\" y=\"-198.8\" font-family=\"Helvetica,sans-Serif\" font-size=\"14.00\">class = Fraude</text>\n",
       "</g>\n",
       "<!-- 1&#45;&gt;23 -->\n",
       "<g id=\"edge7\" class=\"edge\">\n",
       "<title>1&#45;&gt;23</title>\n",
       "<path fill=\"none\" stroke=\"black\" d=\"M438,-309.58C438,-301.79 438,-293.53 438,-285.45\"/>\n",
       "<polygon fill=\"black\" stroke=\"black\" points=\"441.5,-285.71 438,-275.71 434.5,-285.71 441.5,-285.71\"/>\n",
       "</g>\n",
       "<!-- 3 -->\n",
       "<g id=\"node4\" class=\"node\">\n",
       "<title>3</title>\n",
       "<path fill=\"#399de5\" stroke=\"black\" d=\"M98,-147.5C98,-147.5 12,-147.5 12,-147.5 6,-147.5 0,-141.5 0,-135.5 0,-135.5 0,-91.5 0,-91.5 0,-85.5 6,-79.5 12,-79.5 12,-79.5 98,-79.5 98,-79.5 104,-79.5 110,-85.5 110,-91.5 110,-91.5 110,-135.5 110,-135.5 110,-141.5 104,-147.5 98,-147.5\"/>\n",
       "<text text-anchor=\"start\" x=\"26\" y=\"-132.3\" font-family=\"Helvetica,sans-Serif\" font-size=\"14.00\">gini = 0.0</text>\n",
       "<text text-anchor=\"start\" x=\"11.5\" y=\"-117.3\" font-family=\"Helvetica,sans-Serif\" font-size=\"14.00\">samples = 68</text>\n",
       "<text text-anchor=\"start\" x=\"10.5\" y=\"-102.3\" font-family=\"Helvetica,sans-Serif\" font-size=\"14.00\">value = [0, 68]</text>\n",
       "<text text-anchor=\"start\" x=\"8\" y=\"-87.3\" font-family=\"Helvetica,sans-Serif\" font-size=\"14.00\">class = Fraude</text>\n",
       "</g>\n",
       "<!-- 2&#45;&gt;3 -->\n",
       "<g id=\"edge3\" class=\"edge\">\n",
       "<title>2&#45;&gt;3</title>\n",
       "<path fill=\"none\" stroke=\"black\" d=\"M144.73,-190.58C131.22,-179.12 116.53,-166.67 103.03,-155.22\"/>\n",
       "<polygon fill=\"black\" stroke=\"black\" points=\"105.39,-152.64 95.5,-148.84 100.87,-157.98 105.39,-152.64\"/>\n",
       "</g>\n",
       "<!-- 4 -->\n",
       "<g id=\"node5\" class=\"node\">\n",
       "<title>4</title>\n",
       "<path fill=\"#e68743\" stroke=\"black\" d=\"M246,-155C246,-155 140,-155 140,-155 134,-155 128,-149 128,-143 128,-143 128,-84 128,-84 128,-78 134,-72 140,-72 140,-72 246,-72 246,-72 252,-72 258,-78 258,-84 258,-84 258,-143 258,-143 258,-149 252,-155 246,-155\"/>\n",
       "<text text-anchor=\"start\" x=\"139.5\" y=\"-139.8\" font-family=\"Helvetica,sans-Serif\" font-size=\"14.00\">std_time ≤ 1.459</text>\n",
       "<text text-anchor=\"start\" x=\"155.5\" y=\"-124.8\" font-family=\"Helvetica,sans-Serif\" font-size=\"14.00\">gini = 0.092</text>\n",
       "<text text-anchor=\"start\" x=\"141.5\" y=\"-109.8\" font-family=\"Helvetica,sans-Serif\" font-size=\"14.00\">samples = 2042</text>\n",
       "<text text-anchor=\"start\" x=\"136\" y=\"-94.8\" font-family=\"Helvetica,sans-Serif\" font-size=\"14.00\">value = [1943, 99]</text>\n",
       "<text text-anchor=\"start\" x=\"146\" y=\"-79.8\" font-family=\"Helvetica,sans-Serif\" font-size=\"14.00\">class = Normal</text>\n",
       "</g>\n",
       "<!-- 2&#45;&gt;4 -->\n",
       "<g id=\"edge4\" class=\"edge\">\n",
       "<title>2&#45;&gt;4</title>\n",
       "<path fill=\"none\" stroke=\"black\" d=\"M193,-190.58C193,-182.79 193,-174.53 193,-166.45\"/>\n",
       "<polygon fill=\"black\" stroke=\"black\" points=\"196.5,-166.71 193,-156.71 189.5,-166.71 196.5,-166.71\"/>\n",
       "</g>\n",
       "<!-- 5 -->\n",
       "<g id=\"node6\" class=\"node\">\n",
       "<title>5</title>\n",
       "<path fill=\"#c0c0c0\" stroke=\"black\" d=\"M172,-36C172,-36 142,-36 142,-36 136,-36 130,-30 130,-24 130,-24 130,-12 130,-12 130,-6 136,0 142,0 142,0 172,0 172,0 178,0 184,-6 184,-12 184,-12 184,-24 184,-24 184,-30 178,-36 172,-36\"/>\n",
       "<text text-anchor=\"middle\" x=\"157\" y=\"-14.3\" font-family=\"Helvetica,sans-Serif\" font-size=\"14.00\">(...)</text>\n",
       "</g>\n",
       "<!-- 4&#45;&gt;5 -->\n",
       "<g id=\"edge5\" class=\"edge\">\n",
       "<title>4&#45;&gt;5</title>\n",
       "<path fill=\"none\" stroke=\"black\" d=\"M177.31,-71.76C174.11,-63.43 170.8,-54.84 167.81,-47.07\"/>\n",
       "<polygon fill=\"black\" stroke=\"black\" points=\"171.1,-45.89 164.25,-37.82 164.57,-48.41 171.1,-45.89\"/>\n",
       "</g>\n",
       "<!-- 12 -->\n",
       "<g id=\"node7\" class=\"node\">\n",
       "<title>12</title>\n",
       "<path fill=\"#c0c0c0\" stroke=\"black\" d=\"M244,-36C244,-36 214,-36 214,-36 208,-36 202,-30 202,-24 202,-24 202,-12 202,-12 202,-6 208,0 214,0 214,0 244,0 244,0 250,0 256,-6 256,-12 256,-12 256,-24 256,-24 256,-30 250,-36 244,-36\"/>\n",
       "<text text-anchor=\"middle\" x=\"229\" y=\"-14.3\" font-family=\"Helvetica,sans-Serif\" font-size=\"14.00\">(...)</text>\n",
       "</g>\n",
       "<!-- 4&#45;&gt;12 -->\n",
       "<g id=\"edge6\" class=\"edge\">\n",
       "<title>4&#45;&gt;12</title>\n",
       "<path fill=\"none\" stroke=\"black\" d=\"M208.69,-71.76C211.89,-63.43 215.2,-54.84 218.19,-47.07\"/>\n",
       "<polygon fill=\"black\" stroke=\"black\" points=\"221.43,-48.41 221.75,-37.82 214.9,-45.89 221.43,-48.41\"/>\n",
       "</g>\n",
       "<!-- 24 -->\n",
       "<g id=\"node9\" class=\"node\">\n",
       "<title>24</title>\n",
       "<path fill=\"#399de5\" stroke=\"black\" d=\"M419.5,-155C419.5,-155 288.5,-155 288.5,-155 282.5,-155 276.5,-149 276.5,-143 276.5,-143 276.5,-84 276.5,-84 276.5,-78 282.5,-72 288.5,-72 288.5,-72 419.5,-72 419.5,-72 425.5,-72 431.5,-78 431.5,-84 431.5,-84 431.5,-143 431.5,-143 431.5,-149 425.5,-155 419.5,-155\"/>\n",
       "<text text-anchor=\"start\" x=\"314.5\" y=\"-139.8\" font-family=\"Helvetica,sans-Serif\" font-size=\"14.00\">V10 ≤ 1.179</text>\n",
       "<text text-anchor=\"start\" x=\"316.5\" y=\"-124.8\" font-family=\"Helvetica,sans-Serif\" font-size=\"14.00\">gini = 0.002</text>\n",
       "<text text-anchor=\"start\" x=\"294\" y=\"-109.8\" font-family=\"Helvetica,sans-Serif\" font-size=\"14.00\">samples = 166579</text>\n",
       "<text text-anchor=\"start\" x=\"284.5\" y=\"-94.8\" font-family=\"Helvetica,sans-Serif\" font-size=\"14.00\">value = [201, 166378]</text>\n",
       "<text text-anchor=\"start\" x=\"307\" y=\"-79.8\" font-family=\"Helvetica,sans-Serif\" font-size=\"14.00\">class = Fraude</text>\n",
       "</g>\n",
       "<!-- 23&#45;&gt;24 -->\n",
       "<g id=\"edge8\" class=\"edge\">\n",
       "<title>23&#45;&gt;24</title>\n",
       "<path fill=\"none\" stroke=\"black\" d=\"M408.62,-190.58C402.58,-182.16 396.15,-173.2 389.9,-164.5\"/>\n",
       "<polygon fill=\"black\" stroke=\"black\" points=\"392.78,-162.51 384.1,-156.43 387.09,-166.59 392.78,-162.51\"/>\n",
       "</g>\n",
       "<!-- 107 -->\n",
       "<g id=\"node12\" class=\"node\">\n",
       "<title>107</title>\n",
       "<path fill=\"#75bbed\" stroke=\"black\" d=\"M592.5,-155C592.5,-155 461.5,-155 461.5,-155 455.5,-155 449.5,-149 449.5,-143 449.5,-143 449.5,-84 449.5,-84 449.5,-78 455.5,-72 461.5,-72 461.5,-72 592.5,-72 592.5,-72 598.5,-72 604.5,-78 604.5,-84 604.5,-84 604.5,-143 604.5,-143 604.5,-149 598.5,-155 592.5,-155\"/>\n",
       "<text text-anchor=\"start\" x=\"492\" y=\"-139.8\" font-family=\"Helvetica,sans-Serif\" font-size=\"14.00\">V4 ≤ 1.853</text>\n",
       "<text text-anchor=\"start\" x=\"489.5\" y=\"-124.8\" font-family=\"Helvetica,sans-Serif\" font-size=\"14.00\">gini = 0.357</text>\n",
       "<text text-anchor=\"start\" x=\"471\" y=\"-109.8\" font-family=\"Helvetica,sans-Serif\" font-size=\"14.00\">samples = 16413</text>\n",
       "<text text-anchor=\"start\" x=\"457.5\" y=\"-94.8\" font-family=\"Helvetica,sans-Serif\" font-size=\"14.00\">value = [3823, 12590]</text>\n",
       "<text text-anchor=\"start\" x=\"480\" y=\"-79.8\" font-family=\"Helvetica,sans-Serif\" font-size=\"14.00\">class = Fraude</text>\n",
       "</g>\n",
       "<!-- 23&#45;&gt;107 -->\n",
       "<g id=\"edge11\" class=\"edge\">\n",
       "<title>23&#45;&gt;107</title>\n",
       "<path fill=\"none\" stroke=\"black\" d=\"M469.13,-190.58C475.6,-182.07 482.49,-173.01 489.17,-164.23\"/>\n",
       "<polygon fill=\"black\" stroke=\"black\" points=\"491.85,-166.48 495.12,-156.4 486.28,-162.24 491.85,-166.48\"/>\n",
       "</g>\n",
       "<!-- 25 -->\n",
       "<g id=\"node10\" class=\"node\">\n",
       "<title>25</title>\n",
       "<path fill=\"#c0c0c0\" stroke=\"black\" d=\"M361,-36C361,-36 331,-36 331,-36 325,-36 319,-30 319,-24 319,-24 319,-12 319,-12 319,-6 325,0 331,0 331,0 361,0 361,0 367,0 373,-6 373,-12 373,-12 373,-24 373,-24 373,-30 367,-36 361,-36\"/>\n",
       "<text text-anchor=\"middle\" x=\"346\" y=\"-14.3\" font-family=\"Helvetica,sans-Serif\" font-size=\"14.00\">(...)</text>\n",
       "</g>\n",
       "<!-- 24&#45;&gt;25 -->\n",
       "<g id=\"edge9\" class=\"edge\">\n",
       "<title>24&#45;&gt;25</title>\n",
       "<path fill=\"none\" stroke=\"black\" d=\"M350.51,-71.76C349.82,-63.62 349.1,-55.24 348.45,-47.61\"/>\n",
       "<polygon fill=\"black\" stroke=\"black\" points=\"351.96,-47.58 347.62,-37.91 344.98,-48.18 351.96,-47.58\"/>\n",
       "</g>\n",
       "<!-- 106 -->\n",
       "<g id=\"node11\" class=\"node\">\n",
       "<title>106</title>\n",
       "<path fill=\"#c0c0c0\" stroke=\"black\" d=\"M433,-36C433,-36 403,-36 403,-36 397,-36 391,-30 391,-24 391,-24 391,-12 391,-12 391,-6 397,0 403,0 403,0 433,0 433,0 439,0 445,-6 445,-12 445,-12 445,-24 445,-24 445,-30 439,-36 433,-36\"/>\n",
       "<text text-anchor=\"middle\" x=\"418\" y=\"-14.3\" font-family=\"Helvetica,sans-Serif\" font-size=\"14.00\">(...)</text>\n",
       "</g>\n",
       "<!-- 24&#45;&gt;106 -->\n",
       "<g id=\"edge10\" class=\"edge\">\n",
       "<title>24&#45;&gt;106</title>\n",
       "<path fill=\"none\" stroke=\"black\" d=\"M381.89,-71.76C387.92,-62.94 394.15,-53.84 399.71,-45.72\"/>\n",
       "<polygon fill=\"black\" stroke=\"black\" points=\"402.47,-47.88 405.23,-37.65 396.69,-43.93 402.47,-47.88\"/>\n",
       "</g>\n",
       "<!-- 108 -->\n",
       "<g id=\"node13\" class=\"node\">\n",
       "<title>108</title>\n",
       "<path fill=\"#c0c0c0\" stroke=\"black\" d=\"M506,-36C506,-36 476,-36 476,-36 470,-36 464,-30 464,-24 464,-24 464,-12 464,-12 464,-6 470,0 476,0 476,0 506,0 506,0 512,0 518,-6 518,-12 518,-12 518,-24 518,-24 518,-30 512,-36 506,-36\"/>\n",
       "<text text-anchor=\"middle\" x=\"491\" y=\"-14.3\" font-family=\"Helvetica,sans-Serif\" font-size=\"14.00\">(...)</text>\n",
       "</g>\n",
       "<!-- 107&#45;&gt;108 -->\n",
       "<g id=\"edge12\" class=\"edge\">\n",
       "<title>107&#45;&gt;108</title>\n",
       "<path fill=\"none\" stroke=\"black\" d=\"M511.31,-71.76C508.11,-63.43 504.8,-54.84 501.81,-47.07\"/>\n",
       "<polygon fill=\"black\" stroke=\"black\" points=\"505.1,-45.89 498.25,-37.82 498.57,-48.41 505.1,-45.89\"/>\n",
       "</g>\n",
       "<!-- 201 -->\n",
       "<g id=\"node14\" class=\"node\">\n",
       "<title>201</title>\n",
       "<path fill=\"#c0c0c0\" stroke=\"black\" d=\"M578,-36C578,-36 548,-36 548,-36 542,-36 536,-30 536,-24 536,-24 536,-12 536,-12 536,-6 542,0 548,0 548,0 578,0 578,0 584,0 590,-6 590,-12 590,-12 590,-24 590,-24 590,-30 584,-36 578,-36\"/>\n",
       "<text text-anchor=\"middle\" x=\"563\" y=\"-14.3\" font-family=\"Helvetica,sans-Serif\" font-size=\"14.00\">(...)</text>\n",
       "</g>\n",
       "<!-- 107&#45;&gt;201 -->\n",
       "<g id=\"edge13\" class=\"edge\">\n",
       "<title>107&#45;&gt;201</title>\n",
       "<path fill=\"none\" stroke=\"black\" d=\"M542.69,-71.76C545.89,-63.43 549.2,-54.84 552.19,-47.07\"/>\n",
       "<polygon fill=\"black\" stroke=\"black\" points=\"555.43,-48.41 555.75,-37.82 548.9,-45.89 555.43,-48.41\"/>\n",
       "</g>\n",
       "<!-- 259 -->\n",
       "<g id=\"node16\" class=\"node\">\n",
       "<title>259</title>\n",
       "<path fill=\"#e78a48\" stroke=\"black\" d=\"M855.5,-274C855.5,-274 708.5,-274 708.5,-274 702.5,-274 696.5,-268 696.5,-262 696.5,-262 696.5,-203 696.5,-203 696.5,-197 702.5,-191 708.5,-191 708.5,-191 855.5,-191 855.5,-191 861.5,-191 867.5,-197 867.5,-203 867.5,-203 867.5,-262 867.5,-262 867.5,-268 861.5,-274 855.5,-274\"/>\n",
       "<text text-anchor=\"start\" x=\"740.5\" y=\"-258.8\" font-family=\"Helvetica,sans-Serif\" font-size=\"14.00\">V14 ≤ &#45;0.763</text>\n",
       "<text text-anchor=\"start\" x=\"748.5\" y=\"-243.8\" font-family=\"Helvetica,sans-Serif\" font-size=\"14.00\">gini = 0.13</text>\n",
       "<text text-anchor=\"start\" x=\"722\" y=\"-228.8\" font-family=\"Helvetica,sans-Serif\" font-size=\"14.00\">samples = 197660</text>\n",
       "<text text-anchor=\"start\" x=\"704.5\" y=\"-213.8\" font-family=\"Helvetica,sans-Serif\" font-size=\"14.00\">value = [183862, 13798]</text>\n",
       "<text text-anchor=\"start\" x=\"735\" y=\"-198.8\" font-family=\"Helvetica,sans-Serif\" font-size=\"14.00\">class = Normal</text>\n",
       "</g>\n",
       "<!-- 258&#45;&gt;259 -->\n",
       "<g id=\"edge15\" class=\"edge\">\n",
       "<title>258&#45;&gt;259</title>\n",
       "<path fill=\"none\" stroke=\"black\" d=\"M782,-309.58C782,-301.79 782,-293.53 782,-285.45\"/>\n",
       "<polygon fill=\"black\" stroke=\"black\" points=\"785.5,-285.71 782,-275.71 778.5,-285.71 785.5,-285.71\"/>\n",
       "</g>\n",
       "<!-- 1042 -->\n",
       "<g id=\"node23\" class=\"node\">\n",
       "<title>1042</title>\n",
       "<path fill=\"#fae6d8\" stroke=\"black\" d=\"M1119.5,-274C1119.5,-274 980.5,-274 980.5,-274 974.5,-274 968.5,-268 968.5,-262 968.5,-262 968.5,-203 968.5,-203 968.5,-197 974.5,-191 980.5,-191 980.5,-191 1119.5,-191 1119.5,-191 1125.5,-191 1131.5,-197 1131.5,-203 1131.5,-203 1131.5,-262 1131.5,-262 1131.5,-268 1125.5,-274 1119.5,-274\"/>\n",
       "<text text-anchor=\"start\" x=\"988.5\" y=\"-258.8\" font-family=\"Helvetica,sans-Serif\" font-size=\"14.00\">std_amount ≤ &#45;0.34</text>\n",
       "<text text-anchor=\"start\" x=\"1012.5\" y=\"-243.8\" font-family=\"Helvetica,sans-Serif\" font-size=\"14.00\">gini = 0.494</text>\n",
       "<text text-anchor=\"start\" x=\"994\" y=\"-228.8\" font-family=\"Helvetica,sans-Serif\" font-size=\"14.00\">samples = 28074</text>\n",
       "<text text-anchor=\"start\" x=\"976.5\" y=\"-213.8\" font-family=\"Helvetica,sans-Serif\" font-size=\"14.00\">value = [15589, 12485]</text>\n",
       "<text text-anchor=\"start\" x=\"1003\" y=\"-198.8\" font-family=\"Helvetica,sans-Serif\" font-size=\"14.00\">class = Normal</text>\n",
       "</g>\n",
       "<!-- 258&#45;&gt;1042 -->\n",
       "<g id=\"edge22\" class=\"edge\">\n",
       "<title>258&#45;&gt;1042</title>\n",
       "<path fill=\"none\" stroke=\"black\" d=\"M867.9,-313C896.66,-300.44 928.83,-286.4 958.04,-273.65\"/>\n",
       "<polygon fill=\"black\" stroke=\"black\" points=\"959.08,-277.01 966.85,-269.8 956.28,-270.6 959.08,-277.01\"/>\n",
       "</g>\n",
       "<!-- 260 -->\n",
       "<g id=\"node17\" class=\"node\">\n",
       "<title>260</title>\n",
       "<path fill=\"#eda775\" stroke=\"black\" d=\"M765.5,-155C765.5,-155 634.5,-155 634.5,-155 628.5,-155 622.5,-149 622.5,-143 622.5,-143 622.5,-84 622.5,-84 622.5,-78 628.5,-72 634.5,-72 634.5,-72 765.5,-72 765.5,-72 771.5,-72 777.5,-78 777.5,-84 777.5,-84 777.5,-143 777.5,-143 777.5,-149 771.5,-155 765.5,-155\"/>\n",
       "<text text-anchor=\"start\" x=\"646.5\" y=\"-139.8\" font-family=\"Helvetica,sans-Serif\" font-size=\"14.00\">std_time ≤ 0.351</text>\n",
       "<text text-anchor=\"start\" x=\"662.5\" y=\"-124.8\" font-family=\"Helvetica,sans-Serif\" font-size=\"14.00\">gini = 0.357</text>\n",
       "<text text-anchor=\"start\" x=\"644\" y=\"-109.8\" font-family=\"Helvetica,sans-Serif\" font-size=\"14.00\">samples = 29071</text>\n",
       "<text text-anchor=\"start\" x=\"630.5\" y=\"-94.8\" font-family=\"Helvetica,sans-Serif\" font-size=\"14.00\">value = [22309, 6762]</text>\n",
       "<text text-anchor=\"start\" x=\"653\" y=\"-79.8\" font-family=\"Helvetica,sans-Serif\" font-size=\"14.00\">class = Normal</text>\n",
       "</g>\n",
       "<!-- 259&#45;&gt;260 -->\n",
       "<g id=\"edge16\" class=\"edge\">\n",
       "<title>259&#45;&gt;260</title>\n",
       "<path fill=\"none\" stroke=\"black\" d=\"M753.32,-190.58C747.42,-182.16 741.14,-173.2 735.04,-164.5\"/>\n",
       "<polygon fill=\"black\" stroke=\"black\" points=\"738,-162.62 729.39,-156.44 732.27,-166.64 738,-162.62\"/>\n",
       "</g>\n",
       "<!-- 537 -->\n",
       "<g id=\"node20\" class=\"node\">\n",
       "<title>537</title>\n",
       "<path fill=\"#e68642\" stroke=\"black\" d=\"M946.5,-155C946.5,-155 807.5,-155 807.5,-155 801.5,-155 795.5,-149 795.5,-143 795.5,-143 795.5,-84 795.5,-84 795.5,-78 801.5,-72 807.5,-72 807.5,-72 946.5,-72 946.5,-72 952.5,-72 958.5,-78 958.5,-84 958.5,-84 958.5,-143 958.5,-143 958.5,-149 952.5,-155 946.5,-155\"/>\n",
       "<text text-anchor=\"start\" x=\"835.5\" y=\"-139.8\" font-family=\"Helvetica,sans-Serif\" font-size=\"14.00\">V20 ≤ &#45;0.938</text>\n",
       "<text text-anchor=\"start\" x=\"843.5\" y=\"-124.8\" font-family=\"Helvetica,sans-Serif\" font-size=\"14.00\">gini = 0.08</text>\n",
       "<text text-anchor=\"start\" x=\"817\" y=\"-109.8\" font-family=\"Helvetica,sans-Serif\" font-size=\"14.00\">samples = 168589</text>\n",
       "<text text-anchor=\"start\" x=\"803.5\" y=\"-94.8\" font-family=\"Helvetica,sans-Serif\" font-size=\"14.00\">value = [161553, 7036]</text>\n",
       "<text text-anchor=\"start\" x=\"830\" y=\"-79.8\" font-family=\"Helvetica,sans-Serif\" font-size=\"14.00\">class = Normal</text>\n",
       "</g>\n",
       "<!-- 259&#45;&gt;537 -->\n",
       "<g id=\"edge19\" class=\"edge\">\n",
       "<title>259&#45;&gt;537</title>\n",
       "<path fill=\"none\" stroke=\"black\" d=\"M815.23,-190.58C822.21,-181.98 829.65,-172.82 836.85,-163.95\"/>\n",
       "<polygon fill=\"black\" stroke=\"black\" points=\"839.41,-166.34 843,-156.38 833.98,-161.93 839.41,-166.34\"/>\n",
       "</g>\n",
       "<!-- 261 -->\n",
       "<g id=\"node18\" class=\"node\">\n",
       "<title>261</title>\n",
       "<path fill=\"#c0c0c0\" stroke=\"black\" d=\"M651,-36C651,-36 621,-36 621,-36 615,-36 609,-30 609,-24 609,-24 609,-12 609,-12 609,-6 615,0 621,0 621,0 651,0 651,0 657,0 663,-6 663,-12 663,-12 663,-24 663,-24 663,-30 657,-36 651,-36\"/>\n",
       "<text text-anchor=\"middle\" x=\"636\" y=\"-14.3\" font-family=\"Helvetica,sans-Serif\" font-size=\"14.00\">(...)</text>\n",
       "</g>\n",
       "<!-- 260&#45;&gt;261 -->\n",
       "<g id=\"edge17\" class=\"edge\">\n",
       "<title>260&#45;&gt;261</title>\n",
       "<path fill=\"none\" stroke=\"black\" d=\"M672.11,-71.76C666.08,-62.94 659.85,-53.84 654.29,-45.72\"/>\n",
       "<polygon fill=\"black\" stroke=\"black\" points=\"657.31,-43.93 648.77,-37.65 651.53,-47.88 657.31,-43.93\"/>\n",
       "</g>\n",
       "<!-- 438 -->\n",
       "<g id=\"node19\" class=\"node\">\n",
       "<title>438</title>\n",
       "<path fill=\"#c0c0c0\" stroke=\"black\" d=\"M723,-36C723,-36 693,-36 693,-36 687,-36 681,-30 681,-24 681,-24 681,-12 681,-12 681,-6 687,0 693,0 693,0 723,0 723,0 729,0 735,-6 735,-12 735,-12 735,-24 735,-24 735,-30 729,-36 723,-36\"/>\n",
       "<text text-anchor=\"middle\" x=\"708\" y=\"-14.3\" font-family=\"Helvetica,sans-Serif\" font-size=\"14.00\">(...)</text>\n",
       "</g>\n",
       "<!-- 260&#45;&gt;438 -->\n",
       "<g id=\"edge18\" class=\"edge\">\n",
       "<title>260&#45;&gt;438</title>\n",
       "<path fill=\"none\" stroke=\"black\" d=\"M703.49,-71.76C704.18,-63.62 704.9,-55.24 705.55,-47.61\"/>\n",
       "<polygon fill=\"black\" stroke=\"black\" points=\"709.02,-48.18 706.38,-37.91 702.04,-47.58 709.02,-48.18\"/>\n",
       "</g>\n",
       "<!-- 538 -->\n",
       "<g id=\"node21\" class=\"node\">\n",
       "<title>538</title>\n",
       "<path fill=\"#c0c0c0\" stroke=\"black\" d=\"M834,-36C834,-36 804,-36 804,-36 798,-36 792,-30 792,-24 792,-24 792,-12 792,-12 792,-6 798,0 804,0 804,0 834,0 834,0 840,0 846,-6 846,-12 846,-12 846,-24 846,-24 846,-30 840,-36 834,-36\"/>\n",
       "<text text-anchor=\"middle\" x=\"819\" y=\"-14.3\" font-family=\"Helvetica,sans-Serif\" font-size=\"14.00\">(...)</text>\n",
       "</g>\n",
       "<!-- 537&#45;&gt;538 -->\n",
       "<g id=\"edge20\" class=\"edge\">\n",
       "<title>537&#45;&gt;538</title>\n",
       "<path fill=\"none\" stroke=\"black\" d=\"M851.73,-71.76C846.32,-63.04 840.74,-54.04 835.74,-45.99\"/>\n",
       "<polygon fill=\"black\" stroke=\"black\" points=\"838.84,-44.34 830.59,-37.69 832.89,-48.03 838.84,-44.34\"/>\n",
       "</g>\n",
       "<!-- 583 -->\n",
       "<g id=\"node22\" class=\"node\">\n",
       "<title>583</title>\n",
       "<path fill=\"#c0c0c0\" stroke=\"black\" d=\"M906,-36C906,-36 876,-36 876,-36 870,-36 864,-30 864,-24 864,-24 864,-12 864,-12 864,-6 870,0 876,0 876,0 906,0 906,0 912,0 918,-6 918,-12 918,-12 918,-24 918,-24 918,-30 912,-36 906,-36\"/>\n",
       "<text text-anchor=\"middle\" x=\"891\" y=\"-14.3\" font-family=\"Helvetica,sans-Serif\" font-size=\"14.00\">(...)</text>\n",
       "</g>\n",
       "<!-- 537&#45;&gt;583 -->\n",
       "<g id=\"edge21\" class=\"edge\">\n",
       "<title>537&#45;&gt;583</title>\n",
       "<path fill=\"none\" stroke=\"black\" d=\"M883.1,-71.76C884.32,-63.62 885.57,-55.24 886.72,-47.61\"/>\n",
       "<polygon fill=\"black\" stroke=\"black\" points=\"890.15,-48.31 888.17,-37.9 883.23,-47.27 890.15,-48.31\"/>\n",
       "</g>\n",
       "<!-- 1043 -->\n",
       "<g id=\"node24\" class=\"node\">\n",
       "<title>1043</title>\n",
       "<path fill=\"#83c2ef\" stroke=\"black\" d=\"M1111,-155C1111,-155 989,-155 989,-155 983,-155 977,-149 977,-143 977,-143 977,-84 977,-84 977,-78 983,-72 989,-72 989,-72 1111,-72 1111,-72 1117,-72 1123,-78 1123,-84 1123,-84 1123,-143 1123,-143 1123,-149 1117,-155 1111,-155\"/>\n",
       "<text text-anchor=\"start\" x=\"1015\" y=\"-139.8\" font-family=\"Helvetica,sans-Serif\" font-size=\"14.00\">V8 ≤ 0.247</text>\n",
       "<text text-anchor=\"start\" x=\"1012.5\" y=\"-124.8\" font-family=\"Helvetica,sans-Serif\" font-size=\"14.00\">gini = 0.397</text>\n",
       "<text text-anchor=\"start\" x=\"998.5\" y=\"-109.8\" font-family=\"Helvetica,sans-Serif\" font-size=\"14.00\">samples = 9763</text>\n",
       "<text text-anchor=\"start\" x=\"985\" y=\"-94.8\" font-family=\"Helvetica,sans-Serif\" font-size=\"14.00\">value = [2665, 7098]</text>\n",
       "<text text-anchor=\"start\" x=\"1003\" y=\"-79.8\" font-family=\"Helvetica,sans-Serif\" font-size=\"14.00\">class = Fraude</text>\n",
       "</g>\n",
       "<!-- 1042&#45;&gt;1043 -->\n",
       "<g id=\"edge23\" class=\"edge\">\n",
       "<title>1042&#45;&gt;1043</title>\n",
       "<path fill=\"none\" stroke=\"black\" d=\"M1050,-190.58C1050,-182.79 1050,-174.53 1050,-166.45\"/>\n",
       "<polygon fill=\"black\" stroke=\"black\" points=\"1053.5,-166.71 1050,-156.71 1046.5,-166.71 1053.5,-166.71\"/>\n",
       "</g>\n",
       "<!-- 1172 -->\n",
       "<g id=\"node27\" class=\"node\">\n",
       "<title>1172</title>\n",
       "<path fill=\"#f0b68c\" stroke=\"black\" d=\"M1284.5,-155C1284.5,-155 1153.5,-155 1153.5,-155 1147.5,-155 1141.5,-149 1141.5,-143 1141.5,-143 1141.5,-84 1141.5,-84 1141.5,-78 1147.5,-72 1153.5,-72 1153.5,-72 1284.5,-72 1284.5,-72 1290.5,-72 1296.5,-78 1296.5,-84 1296.5,-84 1296.5,-143 1296.5,-143 1296.5,-149 1290.5,-155 1284.5,-155\"/>\n",
       "<text text-anchor=\"start\" x=\"1181.5\" y=\"-139.8\" font-family=\"Helvetica,sans-Serif\" font-size=\"14.00\">V8 ≤ &#45;0.113</text>\n",
       "<text text-anchor=\"start\" x=\"1181.5\" y=\"-124.8\" font-family=\"Helvetica,sans-Serif\" font-size=\"14.00\">gini = 0.415</text>\n",
       "<text text-anchor=\"start\" x=\"1163\" y=\"-109.8\" font-family=\"Helvetica,sans-Serif\" font-size=\"14.00\">samples = 18311</text>\n",
       "<text text-anchor=\"start\" x=\"1149.5\" y=\"-94.8\" font-family=\"Helvetica,sans-Serif\" font-size=\"14.00\">value = [12924, 5387]</text>\n",
       "<text text-anchor=\"start\" x=\"1172\" y=\"-79.8\" font-family=\"Helvetica,sans-Serif\" font-size=\"14.00\">class = Normal</text>\n",
       "</g>\n",
       "<!-- 1042&#45;&gt;1172 -->\n",
       "<g id=\"edge26\" class=\"edge\">\n",
       "<title>1042&#45;&gt;1172</title>\n",
       "<path fill=\"none\" stroke=\"black\" d=\"M1109.11,-190.58C1122.49,-181.32 1136.8,-171.41 1150.53,-161.9\"/>\n",
       "<polygon fill=\"black\" stroke=\"black\" points=\"1152.45,-164.83 1158.68,-156.26 1148.47,-159.07 1152.45,-164.83\"/>\n",
       "</g>\n",
       "<!-- 1044 -->\n",
       "<g id=\"node25\" class=\"node\">\n",
       "<title>1044</title>\n",
       "<path fill=\"#c0c0c0\" stroke=\"black\" d=\"M1023,-36C1023,-36 993,-36 993,-36 987,-36 981,-30 981,-24 981,-24 981,-12 981,-12 981,-6 987,0 993,0 993,0 1023,0 1023,0 1029,0 1035,-6 1035,-12 1035,-12 1035,-24 1035,-24 1035,-30 1029,-36 1023,-36\"/>\n",
       "<text text-anchor=\"middle\" x=\"1008\" y=\"-14.3\" font-family=\"Helvetica,sans-Serif\" font-size=\"14.00\">(...)</text>\n",
       "</g>\n",
       "<!-- 1043&#45;&gt;1044 -->\n",
       "<g id=\"edge24\" class=\"edge\">\n",
       "<title>1043&#45;&gt;1044</title>\n",
       "<path fill=\"none\" stroke=\"black\" d=\"M1031.7,-71.76C1027.91,-63.33 1024.01,-54.64 1020.49,-46.8\"/>\n",
       "<polygon fill=\"black\" stroke=\"black\" points=\"1023.73,-45.47 1016.44,-37.79 1017.34,-48.34 1023.73,-45.47\"/>\n",
       "</g>\n",
       "<!-- 1159 -->\n",
       "<g id=\"node26\" class=\"node\">\n",
       "<title>1159</title>\n",
       "<path fill=\"#c0c0c0\" stroke=\"black\" d=\"M1095,-36C1095,-36 1065,-36 1065,-36 1059,-36 1053,-30 1053,-24 1053,-24 1053,-12 1053,-12 1053,-6 1059,0 1065,0 1065,0 1095,0 1095,0 1101,0 1107,-6 1107,-12 1107,-12 1107,-24 1107,-24 1107,-30 1101,-36 1095,-36\"/>\n",
       "<text text-anchor=\"middle\" x=\"1080\" y=\"-14.3\" font-family=\"Helvetica,sans-Serif\" font-size=\"14.00\">(...)</text>\n",
       "</g>\n",
       "<!-- 1043&#45;&gt;1159 -->\n",
       "<g id=\"edge25\" class=\"edge\">\n",
       "<title>1043&#45;&gt;1159</title>\n",
       "<path fill=\"none\" stroke=\"black\" d=\"M1063.07,-71.76C1065.71,-63.53 1068.44,-55.04 1070.91,-47.34\"/>\n",
       "<polygon fill=\"black\" stroke=\"black\" points=\"1074.23,-48.44 1073.95,-37.85 1067.57,-46.3 1074.23,-48.44\"/>\n",
       "</g>\n",
       "<!-- 1173 -->\n",
       "<g id=\"node28\" class=\"node\">\n",
       "<title>1173</title>\n",
       "<path fill=\"#c0c0c0\" stroke=\"black\" d=\"M1198,-36C1198,-36 1168,-36 1168,-36 1162,-36 1156,-30 1156,-24 1156,-24 1156,-12 1156,-12 1156,-6 1162,0 1168,0 1168,0 1198,0 1198,0 1204,0 1210,-6 1210,-12 1210,-12 1210,-24 1210,-24 1210,-30 1204,-36 1198,-36\"/>\n",
       "<text text-anchor=\"middle\" x=\"1183\" y=\"-14.3\" font-family=\"Helvetica,sans-Serif\" font-size=\"14.00\">(...)</text>\n",
       "</g>\n",
       "<!-- 1172&#45;&gt;1173 -->\n",
       "<g id=\"edge27\" class=\"edge\">\n",
       "<title>1172&#45;&gt;1173</title>\n",
       "<path fill=\"none\" stroke=\"black\" d=\"M1203.31,-71.76C1200.11,-63.43 1196.8,-54.84 1193.81,-47.07\"/>\n",
       "<polygon fill=\"black\" stroke=\"black\" points=\"1197.1,-45.89 1190.25,-37.82 1190.57,-48.41 1197.1,-45.89\"/>\n",
       "</g>\n",
       "<!-- 1336 -->\n",
       "<g id=\"node29\" class=\"node\">\n",
       "<title>1336</title>\n",
       "<path fill=\"#c0c0c0\" stroke=\"black\" d=\"M1270,-36C1270,-36 1240,-36 1240,-36 1234,-36 1228,-30 1228,-24 1228,-24 1228,-12 1228,-12 1228,-6 1234,0 1240,0 1240,0 1270,0 1270,0 1276,0 1282,-6 1282,-12 1282,-12 1282,-24 1282,-24 1282,-30 1276,-36 1270,-36\"/>\n",
       "<text text-anchor=\"middle\" x=\"1255\" y=\"-14.3\" font-family=\"Helvetica,sans-Serif\" font-size=\"14.00\">(...)</text>\n",
       "</g>\n",
       "<!-- 1172&#45;&gt;1336 -->\n",
       "<g id=\"edge28\" class=\"edge\">\n",
       "<title>1172&#45;&gt;1336</title>\n",
       "<path fill=\"none\" stroke=\"black\" d=\"M1234.69,-71.76C1237.89,-63.43 1241.2,-54.84 1244.19,-47.07\"/>\n",
       "<polygon fill=\"black\" stroke=\"black\" points=\"1247.43,-48.41 1247.75,-37.82 1240.9,-45.89 1247.43,-48.41\"/>\n",
       "</g>\n",
       "</g>\n",
       "</svg>\n"
      ],
      "text/plain": [
       "<graphviz.sources.Source at 0x179dae136d0>"
      ]
     },
     "metadata": {},
     "output_type": "display_data"
    }
   ],
   "source": [
    "# Cria um objeto DecisionTreeClassifier, que retorna um Estimator\n",
    "clf_smote = tree.DecisionTreeClassifier()\n",
    "\n",
    "# Realiza o aprendizado de máquina\n",
    "clf_smote = clf_smote.fit(X_resampled_smote, y_resampled_smote)\n",
    "\n",
    "# Definindo o caminho para o Graphviz\n",
    "os.environ[\"PATH\"] += os.pathsep + 'C:\\Program Files\\Graphviz\\bin'\n",
    "\n",
    "dot_data = export_graphviz(clf_smote, out_file=None, feature_names=X_resampled_smote.columns, \n",
    "                           class_names=['Normal', 'Fraude'], filled=True, rounded=True, \n",
    "                           max_depth = 3, special_characters=True)\n",
    "\n",
    "# Criando um objeto Graph a partir do arquivo .dot\n",
    "graph = graphviz.Source(dot_data)\n",
    "\n",
    "# Exibindo a árvore de decisão no notebook\n",
    "display(graph)\n"
   ]
  },
  {
   "cell_type": "code",
   "execution_count": 161,
   "id": "2e1c9f4c",
   "metadata": {},
   "outputs": [],
   "source": [
    "# fazer as previsões em cima dos dados de validação\n",
    "y_pred_smote = clf_smote.predict(X_test)\n",
    "y_prob_smote = clf_smote.predict_proba(X_test)"
   ]
  },
  {
   "cell_type": "markdown",
   "id": "3831b5d7",
   "metadata": {},
   "source": [
    "### Logistic Regression"
   ]
  },
  {
   "cell_type": "markdown",
   "id": "3be3680c",
   "metadata": {},
   "source": [
    "A **regressão logística** é um **modelo estatístico** utilizado para problemas de **classificação binária**, ou seja, em que o objetivo é prever a probabilidade de um exemplo pertencer a uma das duas classes possíveis (por exemplo, sim ou não, positivo ou negativo, verdadeiro ou falso). O modelo de regressão logística utiliza a função logística para transformar uma variável de entrada linear em uma probabilidade. A função logística é uma função sigmoide que retorna valores entre 0 e 1. Essa probabilidade é então comparada com um limiar para decidir em qual classe o exemplo deve ser classificado.\n",
    "\n",
    "Abaixo, iremos realizar o aprendizado de máquina em Logistic Regression utilizando o dataset balanceado pelo under-sampling e over-sampling respectivamente.\n",
    "\n",
    "#### ClusterCentroid"
   ]
  },
  {
   "cell_type": "code",
   "execution_count": 162,
   "id": "651f7d3e",
   "metadata": {
    "scrolled": false
   },
   "outputs": [],
   "source": [
    "# instanciar e treinar um modelo de Regressão Logística\n",
    "np.random.seed(2)\n",
    "model = LogisticRegression()\n",
    "model.fit(X_resampled, y_resampled);"
   ]
  },
  {
   "cell_type": "code",
   "execution_count": 163,
   "id": "4e6a3cff",
   "metadata": {},
   "outputs": [],
   "source": [
    "# fazer as previsões em cima dos dados de validação\n",
    "y_pred_lr = model.predict(X_test)\n",
    "y_proba_lr = model.predict_proba(X_test)"
   ]
  },
  {
   "cell_type": "markdown",
   "id": "8e3e1a2a",
   "metadata": {},
   "source": [
    "#### SMOTE"
   ]
  },
  {
   "cell_type": "code",
   "execution_count": 164,
   "id": "0edb6fd6",
   "metadata": {},
   "outputs": [],
   "source": [
    "# instanciar e treinar um modelo de Regressão Logística\n",
    "np.random.seed(2)\n",
    "model_smote = LogisticRegression()\n",
    "model_smote.fit(X_resampled_smote, y_resampled_smote);"
   ]
  },
  {
   "cell_type": "code",
   "execution_count": 165,
   "id": "c3fa95e1",
   "metadata": {},
   "outputs": [],
   "source": [
    "# fazer as previsões em cima dos dados de validação\n",
    "y_pred_lr_smote = model_smote.predict(X_test)\n",
    "y_proba_lr_smote = model_smote.predict_proba(X_test)"
   ]
  },
  {
   "cell_type": "markdown",
   "id": "9f081777",
   "metadata": {},
   "source": [
    "## Previsões no Conjunto de Validação\n",
    "<p align = \"center\">\n",
    "<img src=\"Arquivos/robot.jpg\" width=80%>\n",
    "</p>"
   ]
  },
  {
   "cell_type": "markdown",
   "id": "fa46ed36",
   "metadata": {},
   "source": [
    "Para validar se tivemos um bom resultado com o treinamento, utilizaremos algumas **métricas** para modelos de classificação, como **matriz de confusão, acurácia, recall, precision, F-1 score, support e AUC.**\n",
    "\n",
    "A **matriz de confusão** é uma tabela que mostra a relação entre as previsões de um modelo e as classes reais dos exemplos no conjunto de dados, e possui quatro elementos:\n",
    "\n",
    "* *Verdadeiro positivo (TP): exemplo que foi classificado corretamente como positivo pelo modelo.*\n",
    "* *Falso positivo (FP): exemplo que foi classificado incorretamente como positivo pelo modelo, mas que na verdade é negativo.*\n",
    "* *Falso negativo (FN): exemplo que foi classificado incorretamente como negativo pelo modelo, mas que na verdade é positivo.*\n",
    "* *Verdadeiro negativo (TN): exemplo que foi classificado corretamente como negativo pelo modelo.*\n",
    "\n",
    "**Precision (precisão)**: é a **proporção de verdadeiros positivos (TP) sobre todos os exemplos classificados como positivos** (TP + FP). Em outras palavras, é a proporção de exemplos que o modelo classificou corretamente como positivos em relação a todos os exemplos que ele classificou como positivos. Uma precisão de 1.0 significa que todos os exemplos classificados como positivos foram verdadeiros positivos.\n",
    "\n",
    "**Recall (revocação):** é a proporção de verdadeiros positivos (TP) sobre todos os exemplos que realmente são positivos (TP + FN). Em outras palavras, é a **proporção de exemplos positivos que o modelo classificou corretamente em relação a todos os exemplos positivos.** Um recall de 1.0 significa que todos os exemplos positivos foram classificados corretamente como positivos.\n",
    "\n",
    "**F1-score:** é uma média harmônica ponderada da precisão e do recall, onde a **pontuação F1 alcança seu melhor valor em 1 e o pior em 0.** Um F1-score de 1.0 significa que a precisão e o recall estão perfeitos.\n",
    "\n",
    "**Support (suporte):** é o número de exemplos no conjunto de dados que pertencem àquela classe.\n",
    "\n",
    "**Acurácia:** é a proporção de exemplos classificados corretamente em relação ao número total de exemplos.\n",
    "\n",
    "**AUC (área sob a curva):** é uma medida de desempenho usada para problemas de classificação binária. É a área sob a curva ROC (receiver operating characteristic), que é um gráfico que mostra a relação entre a taxa de verdadeiros positivos e a taxa de falsos positivos para diferentes limiares de classificação. **Um valor de AUC de 1.0 significa que o modelo é capaz de distinguir perfeitamente entre as duas classes.**"
   ]
  },
  {
   "cell_type": "markdown",
   "id": "eaf4eb88",
   "metadata": {},
   "source": [
    "### Decision Tree"
   ]
  },
  {
   "cell_type": "markdown",
   "id": "1aad9bef",
   "metadata": {},
   "source": [
    "### Under-sampling"
   ]
  },
  {
   "cell_type": "code",
   "execution_count": 166,
   "id": "2d59bdc6",
   "metadata": {
    "scrolled": true
   },
   "outputs": [
    {
     "data": {
      "image/png": "[encoded data removed]",
      "text/plain": [
       "<Figure size 640x480 with 2 Axes>"
      ]
     },
     "metadata": {},
     "output_type": "display_data"
    }
   ],
   "source": [
    "# plotar a matrix de confusão\n",
    "skplt.metrics.plot_confusion_matrix(y_test, y_pred, normalize=True, cmap = 'YlOrBr')\n",
    "plt.title(\"Decision Tree - Confusion Matrix\");"
   ]
  },
  {
   "cell_type": "markdown",
   "id": "5bddbe41",
   "metadata": {},
   "source": [
    "Com a matriz de confusão pode-se observar que o modelo teve um bom desempenho ao classificar fraudes, com 92% das fraudes preditas corretamente. Contudo, em transações normais o desempenho foi aquém do esperado, pois apenas 62% foram classificadas corretamente."
   ]
  },
  {
   "cell_type": "code",
   "execution_count": 167,
   "id": "d674204c",
   "metadata": {
    "scrolled": true
   },
   "outputs": [
    {
     "name": "stdout",
     "output_type": "stream",
     "text": [
      "Relatório de Classificação:\n",
      "               precision    recall  f1-score   support\n",
      "\n",
      "           0     0.9998    0.6180    0.7639     36250\n",
      "           1     0.0042    0.9206    0.0083        63\n",
      "\n",
      "    accuracy                         0.6186     36313\n",
      "   macro avg     0.5020    0.7693    0.3861     36313\n",
      "weighted avg     0.9980    0.6186    0.7626     36313\n",
      "\n",
      "Acurácia: 0.6186\n",
      "\n",
      "AUC: 0.7693\n",
      "\n"
     ]
    }
   ],
   "source": [
    "# imprimir relatório de classificação\n",
    "print(\"Relatório de Classificação:\\n\", classification_report(y_test, y_pred, digits=4))\n",
    "\n",
    "# imprimir a acurácia do modelo\n",
    "print(\"Acurácia: {:.4f}\\n\".format(accuracy_score(y_test, y_pred)))\n",
    "\n",
    "# imprimir a área sob da curva\n",
    "print(\"AUC: {:.4f}\\n\".format(roc_auc_score(y_test, y_pred)))"
   ]
  },
  {
   "cell_type": "markdown",
   "id": "1a9bccf8",
   "metadata": {},
   "source": [
    "Neste tipo de problema, originalmente desbalanceado, a **acurácia** não é uma métrica adequada, mas obtivemos **61%** de acerto geral. A **área sob a curva ROC** do modelo é de **0.76**, o que indica que o modelo **conseguiu distinguir razoavelmente bem** entre as duas classes. Para a **classe 1**, o **recall é alto**, de 0.92, o que significa que o modelo identificou a grande maioria das fraudes, contudo para a **classe 0** o valor é **mediano**, apenas 0.6180. Também é possível observar que a classe 0 teve 36250 exemplos, enquanto a classe 1 teve apenas 63 exemplos."
   ]
  },
  {
   "cell_type": "markdown",
   "id": "3bf2d9bc",
   "metadata": {},
   "source": [
    "### Over-sampling"
   ]
  },
  {
   "cell_type": "code",
   "execution_count": 168,
   "id": "1fedf2a5",
   "metadata": {},
   "outputs": [
    {
     "data": {
      "image/png": "[encoded data removed]",
      "text/plain": [
       "<Figure size 640x480 with 2 Axes>"
      ]
     },
     "metadata": {},
     "output_type": "display_data"
    }
   ],
   "source": [
    "# plotar a matrix de confusão\n",
    "skplt.metrics.plot_confusion_matrix(y_test, y_pred_smote, normalize=True, cmap = 'YlOrBr')\n",
    "plt.title(\"Decision Tree - Confusion Matrix\");"
   ]
  },
  {
   "cell_type": "code",
   "execution_count": 169,
   "id": "6e7f01f9",
   "metadata": {
    "scrolled": true
   },
   "outputs": [
    {
     "name": "stdout",
     "output_type": "stream",
     "text": [
      "Relatório de Classificação:\n",
      "               precision    recall  f1-score   support\n",
      "\n",
      "           0     0.9995    0.9981    0.9988     36250\n",
      "           1     0.3913    0.7143    0.5056        63\n",
      "\n",
      "    accuracy                         0.9976     36313\n",
      "   macro avg     0.6954    0.8562    0.7522     36313\n",
      "weighted avg     0.9984    0.9976    0.9979     36313\n",
      "\n",
      "Acurácia: 0.9976\n",
      "\n",
      "AUC: 0.8562\n",
      "\n"
     ]
    }
   ],
   "source": [
    "# imprimir relatório de classificação\n",
    "print(\"Relatório de Classificação:\\n\", classification_report(y_test, y_pred_smote, digits=4))\n",
    "\n",
    "# imprimir a acurácia do modelo\n",
    "print(\"Acurácia: {:.4f}\\n\".format(accuracy_score(y_test, y_pred_smote)))\n",
    "\n",
    "# imprimir a área sob da curva\n",
    "print(\"AUC: {:.4f}\\n\".format(roc_auc_score(y_test, y_pred_smote)))"
   ]
  },
  {
   "cell_type": "markdown",
   "id": "19fcc64f",
   "metadata": {},
   "source": [
    "A combinação de **over-sampling com Decision Tree** retornou um **AUC maior, cerca de 0.85**, o que representação melhor distinção entre classes. Contudo, a classificação de transações fraudulentas foi menor, representando 71%. O desempenho de transações normais foi muito alto, 100% foi classificado corretamente."
   ]
  },
  {
   "cell_type": "markdown",
   "id": "9e328169",
   "metadata": {},
   "source": [
    "### Logistic Regression"
   ]
  },
  {
   "cell_type": "markdown",
   "id": "8fc46510",
   "metadata": {},
   "source": [
    "### Under-sampling"
   ]
  },
  {
   "cell_type": "code",
   "execution_count": 170,
   "id": "65c6e86a",
   "metadata": {
    "scrolled": true
   },
   "outputs": [
    {
     "data": {
      "image/png": "[encoded data removed]",
      "text/plain": [
       "<Figure size 640x480 with 2 Axes>"
      ]
     },
     "metadata": {},
     "output_type": "display_data"
    }
   ],
   "source": [
    "# plotar a matrix de confusão\n",
    "skplt.metrics.plot_confusion_matrix(y_test, y_pred_lr, normalize=True, cmap = 'YlOrBr')\n",
    "plt.title(\"Logistic Regression - Confusion Matrix\");"
   ]
  },
  {
   "cell_type": "code",
   "execution_count": 171,
   "id": "12a7a351",
   "metadata": {},
   "outputs": [
    {
     "name": "stdout",
     "output_type": "stream",
     "text": [
      "Relatório de Classificação:\n",
      "               precision    recall  f1-score   support\n",
      "\n",
      "           0     0.9998    0.9668    0.9830     36250\n",
      "           1     0.0452    0.9048    0.0862        63\n",
      "\n",
      "    accuracy                         0.9667     36313\n",
      "   macro avg     0.5225    0.9358    0.5346     36313\n",
      "weighted avg     0.9982    0.9667    0.9815     36313\n",
      "\n",
      "Acurácia: 0.9667\n",
      "\n",
      "AUC: 0.9358\n",
      "\n"
     ]
    }
   ],
   "source": [
    "# imprimir relatório de classificação\n",
    "print(\"Relatório de Classificação:\\n\", classification_report(y_test, y_pred_lr, digits=4))\n",
    "\n",
    "# imprimir a acurácia do modelo\n",
    "print(\"Acurácia: {:.4f}\\n\".format(accuracy_score(y_test, y_pred_lr)))\n",
    "\n",
    "# imprimir a área sob da curva\n",
    "print(\"AUC: {:.4f}\\n\".format(roc_auc_score(y_test, y_pred_lr)))"
   ]
  },
  {
   "cell_type": "markdown",
   "id": "98a26661",
   "metadata": {},
   "source": [
    "De modo geral, o modelo possuiu um ótimo desempenho. O AUC está em 0.96, o que indica que foi possível distinguir bem entre as duas classes. 90% das fraudes foram classificadas corretamente, bem como 97% das transações normais. "
   ]
  },
  {
   "cell_type": "markdown",
   "id": "d3293d00",
   "metadata": {},
   "source": [
    "### Over-sampling"
   ]
  },
  {
   "cell_type": "code",
   "execution_count": 172,
   "id": "40946c30",
   "metadata": {
    "scrolled": true
   },
   "outputs": [
    {
     "data": {
      "image/png": "[encoded data removed]",
      "text/plain": [
       "<Figure size 640x480 with 2 Axes>"
      ]
     },
     "metadata": {},
     "output_type": "display_data"
    }
   ],
   "source": [
    "# plotar a matrix de confusão\n",
    "skplt.metrics.plot_confusion_matrix(y_test, y_pred_lr_smote, normalize=True, cmap = 'YlOrBr')\n",
    "plt.title(\"Logistic Regression - Confusion Matrix\");"
   ]
  },
  {
   "cell_type": "code",
   "execution_count": 173,
   "id": "4b5fddac",
   "metadata": {
    "scrolled": false
   },
   "outputs": [
    {
     "name": "stdout",
     "output_type": "stream",
     "text": [
      "Relatório de Classificação:\n",
      "               precision    recall  f1-score   support\n",
      "\n",
      "           0     0.9998    0.9749    0.9872     36250\n",
      "           1     0.0590    0.9048    0.1108        63\n",
      "\n",
      "    accuracy                         0.9748     36313\n",
      "   macro avg     0.5294    0.9398    0.5490     36313\n",
      "weighted avg     0.9982    0.9748    0.9857     36313\n",
      "\n",
      "Acurácia: 0.9748\n",
      "\n",
      "AUC: 0.9398\n",
      "\n"
     ]
    }
   ],
   "source": [
    "# imprimir relatório de classificação\n",
    "print(\"Relatório de Classificação:\\n\", classification_report(y_test, y_pred_lr_smote, digits=4))\n",
    "\n",
    "# imprimir a acurácia do modelo\n",
    "print(\"Acurácia: {:.4f}\\n\".format(accuracy_score(y_test, y_pred_lr_smote)))\n",
    "\n",
    "# imprimir a área sob da curva\n",
    "print(\"AUC: {:.4f}\\n\".format(roc_auc_score(y_test, y_pred_lr_smote)))"
   ]
  },
  {
   "cell_type": "markdown",
   "id": "8bde429e",
   "metadata": {},
   "source": [
    "Over-sampling e Logistic Regression trouxe um resultado semelhante ao under-sampling e Logistic Regression. Os dois modelos tiveram ótimo desempenho, com AUC em torno de 0.93. Ambos obtiveram recall na classe 0 de aproximadamente 0.97, e 0.90 na classe 1."
   ]
  },
  {
   "cell_type": "markdown",
   "id": "9fa2f821",
   "metadata": {},
   "source": [
    "## Avaliação do Modelo Utilizando os Dados de Teste\n",
    "\n",
    "No começo do projeto, realizamos um split nos dados para que tivéssemos 3 conjuntos: Um de treino, um de validação e um de teste. Agora que já exploramos e preparamos os dados, instaciamos o modelo e fizemos previsões no conjunto de validação, é hora de descobrirmos o potencial desse simples modelo com os dados de teste."
   ]
  },
  {
   "cell_type": "markdown",
   "id": "06b969a8",
   "metadata": {},
   "source": [
    "### Padronização no conjunto de teste"
   ]
  },
  {
   "cell_type": "code",
   "execution_count": 174,
   "id": "0bf34ed3",
   "metadata": {
    "scrolled": false
   },
   "outputs": [
    {
     "data": {
      "text/html": [
       "<div>\n",
       "<style scoped>\n",
       "    .dataframe tbody tr th:only-of-type {\n",
       "        vertical-align: middle;\n",
       "    }\n",
       "\n",
       "    .dataframe tbody tr th {\n",
       "        vertical-align: top;\n",
       "    }\n",
       "\n",
       "    .dataframe thead th {\n",
       "        text-align: right;\n",
       "    }\n",
       "</style>\n",
       "<table border=\"1\" class=\"dataframe\">\n",
       "  <thead>\n",
       "    <tr style=\"text-align: right;\">\n",
       "      <th></th>\n",
       "      <th>V1</th>\n",
       "      <th>V2</th>\n",
       "      <th>V3</th>\n",
       "      <th>V4</th>\n",
       "      <th>V5</th>\n",
       "      <th>V6</th>\n",
       "      <th>V7</th>\n",
       "      <th>V8</th>\n",
       "      <th>V9</th>\n",
       "      <th>V10</th>\n",
       "      <th>...</th>\n",
       "      <th>V22</th>\n",
       "      <th>V23</th>\n",
       "      <th>V24</th>\n",
       "      <th>V25</th>\n",
       "      <th>V26</th>\n",
       "      <th>V27</th>\n",
       "      <th>V28</th>\n",
       "      <th>Class</th>\n",
       "      <th>std_amount</th>\n",
       "      <th>std_time</th>\n",
       "    </tr>\n",
       "  </thead>\n",
       "  <tbody>\n",
       "    <tr>\n",
       "      <th>183484</th>\n",
       "      <td>-0.323334</td>\n",
       "      <td>1.057455</td>\n",
       "      <td>-0.048341</td>\n",
       "      <td>-0.607204</td>\n",
       "      <td>1.259821</td>\n",
       "      <td>-0.091761</td>\n",
       "      <td>1.159101</td>\n",
       "      <td>-0.124335</td>\n",
       "      <td>-0.174640</td>\n",
       "      <td>-1.644401</td>\n",
       "      <td>...</td>\n",
       "      <td>-0.433890</td>\n",
       "      <td>-0.261613</td>\n",
       "      <td>-0.046651</td>\n",
       "      <td>0.211512</td>\n",
       "      <td>0.008297</td>\n",
       "      <td>0.108494</td>\n",
       "      <td>0.161139</td>\n",
       "      <td>0</td>\n",
       "      <td>-0.177738</td>\n",
       "      <td>0.658372</td>\n",
       "    </tr>\n",
       "    <tr>\n",
       "      <th>255448</th>\n",
       "      <td>-0.349718</td>\n",
       "      <td>0.932619</td>\n",
       "      <td>0.142992</td>\n",
       "      <td>-0.657071</td>\n",
       "      <td>1.169784</td>\n",
       "      <td>-0.733369</td>\n",
       "      <td>1.009985</td>\n",
       "      <td>-0.071069</td>\n",
       "      <td>-0.302083</td>\n",
       "      <td>-1.192404</td>\n",
       "      <td>...</td>\n",
       "      <td>-0.833209</td>\n",
       "      <td>-0.030360</td>\n",
       "      <td>0.490035</td>\n",
       "      <td>-0.404816</td>\n",
       "      <td>0.134350</td>\n",
       "      <td>0.076830</td>\n",
       "      <td>0.175562</td>\n",
       "      <td>0</td>\n",
       "      <td>-0.321945</td>\n",
       "      <td>1.320094</td>\n",
       "    </tr>\n",
       "    <tr>\n",
       "      <th>244749</th>\n",
       "      <td>-1.614711</td>\n",
       "      <td>-2.406570</td>\n",
       "      <td>0.326194</td>\n",
       "      <td>0.665520</td>\n",
       "      <td>2.369268</td>\n",
       "      <td>-1.775367</td>\n",
       "      <td>-1.139049</td>\n",
       "      <td>0.329904</td>\n",
       "      <td>0.903813</td>\n",
       "      <td>-0.219013</td>\n",
       "      <td>...</td>\n",
       "      <td>1.134489</td>\n",
       "      <td>0.965054</td>\n",
       "      <td>0.640981</td>\n",
       "      <td>-1.801998</td>\n",
       "      <td>-1.041114</td>\n",
       "      <td>0.286285</td>\n",
       "      <td>0.437322</td>\n",
       "      <td>0</td>\n",
       "      <td>0.034666</td>\n",
       "      <td>1.219742</td>\n",
       "    </tr>\n",
       "    <tr>\n",
       "      <th>63919</th>\n",
       "      <td>-2.477184</td>\n",
       "      <td>0.860613</td>\n",
       "      <td>1.441850</td>\n",
       "      <td>1.051019</td>\n",
       "      <td>-1.856621</td>\n",
       "      <td>2.078384</td>\n",
       "      <td>0.510828</td>\n",
       "      <td>-0.243399</td>\n",
       "      <td>-0.260691</td>\n",
       "      <td>0.133040</td>\n",
       "      <td>...</td>\n",
       "      <td>0.692245</td>\n",
       "      <td>0.150121</td>\n",
       "      <td>-0.260777</td>\n",
       "      <td>0.005183</td>\n",
       "      <td>-0.177847</td>\n",
       "      <td>-0.510060</td>\n",
       "      <td>-0.660533</td>\n",
       "      <td>0</td>\n",
       "      <td>0.838765</td>\n",
       "      <td>-0.919236</td>\n",
       "    </tr>\n",
       "    <tr>\n",
       "      <th>11475</th>\n",
       "      <td>1.338831</td>\n",
       "      <td>-0.547264</td>\n",
       "      <td>0.737389</td>\n",
       "      <td>-0.212383</td>\n",
       "      <td>-1.110039</td>\n",
       "      <td>-0.525744</td>\n",
       "      <td>-0.801403</td>\n",
       "      <td>-0.063672</td>\n",
       "      <td>0.997276</td>\n",
       "      <td>0.113386</td>\n",
       "      <td>...</td>\n",
       "      <td>-0.074719</td>\n",
       "      <td>0.067055</td>\n",
       "      <td>0.333122</td>\n",
       "      <td>0.379087</td>\n",
       "      <td>-0.268706</td>\n",
       "      <td>-0.002769</td>\n",
       "      <td>0.003272</td>\n",
       "      <td>0</td>\n",
       "      <td>-0.310490</td>\n",
       "      <td>-1.572827</td>\n",
       "    </tr>\n",
       "  </tbody>\n",
       "</table>\n",
       "<p>5 rows × 31 columns</p>\n",
       "</div>"
      ],
      "text/plain": [
       "              V1        V2        V3        V4        V5        V6        V7  \\\n",
       "183484 -0.323334  1.057455 -0.048341 -0.607204  1.259821 -0.091761  1.159101   \n",
       "255448 -0.349718  0.932619  0.142992 -0.657071  1.169784 -0.733369  1.009985   \n",
       "244749 -1.614711 -2.406570  0.326194  0.665520  2.369268 -1.775367 -1.139049   \n",
       "63919  -2.477184  0.860613  1.441850  1.051019 -1.856621  2.078384  0.510828   \n",
       "11475   1.338831 -0.547264  0.737389 -0.212383 -1.110039 -0.525744 -0.801403   \n",
       "\n",
       "              V8        V9       V10  ...       V22       V23       V24  \\\n",
       "183484 -0.124335 -0.174640 -1.644401  ... -0.433890 -0.261613 -0.046651   \n",
       "255448 -0.071069 -0.302083 -1.192404  ... -0.833209 -0.030360  0.490035   \n",
       "244749  0.329904  0.903813 -0.219013  ...  1.134489  0.965054  0.640981   \n",
       "63919  -0.243399 -0.260691  0.133040  ...  0.692245  0.150121 -0.260777   \n",
       "11475  -0.063672  0.997276  0.113386  ... -0.074719  0.067055  0.333122   \n",
       "\n",
       "             V25       V26       V27       V28  Class  std_amount  std_time  \n",
       "183484  0.211512  0.008297  0.108494  0.161139      0   -0.177738  0.658372  \n",
       "255448 -0.404816  0.134350  0.076830  0.175562      0   -0.321945  1.320094  \n",
       "244749 -1.801998 -1.041114  0.286285  0.437322      0    0.034666  1.219742  \n",
       "63919   0.005183 -0.177847 -0.510060 -0.660533      0    0.838765 -0.919236  \n",
       "11475   0.379087 -0.268706 -0.002769  0.003272      0   -0.310490 -1.572827  \n",
       "\n",
       "[5 rows x 31 columns]"
      ]
     },
     "execution_count": 174,
     "metadata": {},
     "output_type": "execute_result"
    }
   ],
   "source": [
    "# padronizar as colunas Time e Amount\n",
    "std_scaler = StandardScaler()\n",
    "test['std_amount'] = std_scaler.fit_transform(test['Amount'].values.reshape(-1, 1))\n",
    "test['std_time'] = std_scaler.fit_transform(test['Time'].values.reshape(-1, 1))\n",
    "test.drop(['Time', 'Amount'], axis=1, inplace=True)\n",
    "\n",
    "# ver as primeiras entradas\n",
    "test.head()"
   ]
  },
  {
   "cell_type": "markdown",
   "id": "1dcc1b2a",
   "metadata": {},
   "source": [
    "### Separação entre variáveis e classe alvo"
   ]
  },
  {
   "cell_type": "code",
   "execution_count": 175,
   "id": "32b6b677",
   "metadata": {},
   "outputs": [],
   "source": [
    "# separar variáveis entre X e y\n",
    "X_test = test.drop('Class', axis=1)\n",
    "y_test = test['Class']"
   ]
  },
  {
   "cell_type": "markdown",
   "id": "86da76c1",
   "metadata": {},
   "source": [
    "### Balanceamento de dados"
   ]
  },
  {
   "cell_type": "code",
   "execution_count": 176,
   "id": "8b7a2c37",
   "metadata": {},
   "outputs": [
    {
     "data": {
      "text/plain": [
       "(42721, 31)"
      ]
     },
     "execution_count": 176,
     "metadata": {},
     "output_type": "execute_result"
    }
   ],
   "source": [
    "# tamanho dos dados de teste\n",
    "test.shape"
   ]
  },
  {
   "cell_type": "code",
   "execution_count": 177,
   "id": "46b20187",
   "metadata": {
    "scrolled": true
   },
   "outputs": [
    {
     "data": {
      "text/plain": [
       "0    42647\n",
       "1       74\n",
       "Name: Class, dtype: int64"
      ]
     },
     "execution_count": 177,
     "metadata": {},
     "output_type": "execute_result"
    }
   ],
   "source": [
    "# balanceamento dos dados de teste\n",
    "test.Class.value_counts()"
   ]
  },
  {
   "cell_type": "markdown",
   "id": "f8020bef",
   "metadata": {},
   "source": [
    "### Decision Tree - Under-sampling e Over-sampling"
   ]
  },
  {
   "cell_type": "markdown",
   "id": "0e5a01de",
   "metadata": {},
   "source": [
    "Em geral, observamos um **desempenho melhor** no conjunto de teste em comparação ao de validação, embora ainda seja semelhante. No caso do balanceamento usando **under-sampling**, o modelo apresentou um **recall** de 0.92 para a classe minoritária (fraudes) e 0,83 para a classe majoritária, com **AUC** em torno de 0,93. Em comparação, no conjunto de validação, os resultados foram de 0,92, 0,62 e 0,76, respectivamente.\n",
    "\n",
    "Já no balanceamento utilizando **over-sampling**, o modelo apresentou recall de 0.81 para a classe majoritária e 1 para a classe minoritária, semelhante aos resultados obtidos no conjunto de validação (0.71 e 1, respectivamente). Além disso, o **AUC** aumentou de 0,85 para 0,92."
   ]
  },
  {
   "cell_type": "code",
   "execution_count": 178,
   "id": "7dfc8054",
   "metadata": {},
   "outputs": [],
   "source": [
    "# Under-sampling\n",
    "y_pred = clf.predict(X_test)\n",
    "y_prob = clf.predict_proba(X_test)\n",
    "\n",
    "# Over-sampling \n",
    "y_pred_smote = clf_smote.predict(X_test)\n",
    "y_prob_smote = clf_smote.predict_proba(X_test)"
   ]
  },
  {
   "cell_type": "code",
   "execution_count": 179,
   "id": "3932eb1a",
   "metadata": {
    "scrolled": true
   },
   "outputs": [
    {
     "data": {
      "image/png": "[encoded data removed]",
      "text/plain": [
       "<Figure size 800x400 with 4 Axes>"
      ]
     },
     "metadata": {},
     "output_type": "display_data"
    }
   ],
   "source": [
    "fig, ax = plt.subplots(1, 2, figsize=(8, 4))\n",
    "skplt.metrics.plot_confusion_matrix(y_test, y_pred, normalize=True, cmap = 'YlOrBr', ax = ax[0])\n",
    "skplt.metrics.plot_confusion_matrix(y_test, y_pred_smote, normalize=True, cmap = 'YlOrBr', ax = ax[1])\n",
    "\n",
    "ax[0].set_title(\"DT - Under-sampling\")\n",
    "ax[1].set_title(\"DT - Over-sampling\")\n",
    "\n",
    "plt.tight_layout();"
   ]
  },
  {
   "cell_type": "code",
   "execution_count": 77,
   "id": "46f06550",
   "metadata": {},
   "outputs": [
    {
     "name": "stdout",
     "output_type": "stream",
     "text": [
      "AUC DT - Under-sampling: 0.9392\n",
      "\n",
      "AUC DT - Over-sampling: 0.9252\n",
      "\n"
     ]
    }
   ],
   "source": [
    "# imprimir a área sob da curva\n",
    "print(\"AUC DT - Under-sampling: {:.4f}\\n\".format(roc_auc_score(y_resampled, y_pred)))\n",
    "print(\"AUC DT - Over-sampling: {:.4f}\\n\".format(roc_auc_score(y_resampled_smote, y_pred_smote)))"
   ]
  },
  {
   "cell_type": "markdown",
   "id": "028c9c91",
   "metadata": {},
   "source": [
    "### Logistic Regression - Under-sampling e Over-sampling"
   ]
  },
  {
   "cell_type": "markdown",
   "id": "2102273d",
   "metadata": {},
   "source": [
    "No caso da **Logistic Regression** utilizando **under-sampling**, foram obtidas métricas semelhantes às anteriores, com exceção do **AUC**, que apresentou um **aumento** de 0,93 para 0,95, e o **recall da classe minoritária** que aumentou de **0.9 para 0.95**. Semelhantemente, no caso do **over-sampling**, houve um **aumento** significativo no **recall da classe minoritária**, de 0,91 para 0,95, e no **AUC**, e na classe majoritária de 0.97 para 0.98.\n",
    "\n",
    "Em geral, todos os modelos utilizando a **regressão logística** apresentaram um **bom desempenho**, com AUC acima de 0,9 e recall elevado para a classe minoritária, o que indica que o modelo é capaz de detectar com precisão as transações fraudulentas."
   ]
  },
  {
   "cell_type": "code",
   "execution_count": 180,
   "id": "e7f36ccc",
   "metadata": {},
   "outputs": [],
   "source": [
    "# fazer as previsões em cima dos dados de teste\n",
    "y_pred_lr = model.predict(X_test)\n",
    "y_proba_lr = model.predict_proba(X_test)\n",
    "\n",
    "# fazer as previsões em cima dos dados de teste\n",
    "y_pred_lr_smote = model_smote.predict(X_test)\n",
    "y_proba_lr_smote = model_smote.predict_proba(X_test)"
   ]
  },
  {
   "cell_type": "code",
   "execution_count": 181,
   "id": "f73652ce",
   "metadata": {},
   "outputs": [
    {
     "data": {
      "image/png": "[encoded data removed]",
      "text/plain": [
       "<Figure size 800x400 with 4 Axes>"
      ]
     },
     "metadata": {},
     "output_type": "display_data"
    }
   ],
   "source": [
    "fig, ax = plt.subplots(1, 2, figsize=(8, 4))\n",
    "skplt.metrics.plot_confusion_matrix(y_test, y_pred_lr, normalize=True, cmap = 'YlOrBr', ax = ax[0])\n",
    "skplt.metrics.plot_confusion_matrix(y_test, y_pred_lr_smote, normalize=True, cmap = 'YlOrBr', ax = ax[1])\n",
    "\n",
    "ax[0].set_title(\"LR - Under-sampling\")\n",
    "ax[1].set_title(\"LR - Over-sampling\")\n",
    "\n",
    "plt.tight_layout();"
   ]
  },
  {
   "cell_type": "code",
   "execution_count": 182,
   "id": "f5e2f7f2",
   "metadata": {},
   "outputs": [
    {
     "name": "stdout",
     "output_type": "stream",
     "text": [
      "AUC LR - Under-sampling: 0.9577\n",
      "\n",
      "AUC LR - Over-sampling: 0.9608\n",
      "\n"
     ]
    }
   ],
   "source": [
    "# imprimir a área sob da curva\n",
    "print(\"AUC LR - Under-sampling: {:.4f}\\n\".format(roc_auc_score(y_test, y_pred_lr)))\n",
    "print(\"AUC LR - Over-sampling: {:.4f}\\n\".format(roc_auc_score(y_test, y_pred_lr_smote)))"
   ]
  },
  {
   "cell_type": "markdown",
   "id": "a12e1060",
   "metadata": {},
   "source": [
    "## Conclusão\n",
    "\n",
    "Com base nas análises realizadas, pode-se concluir que a escolha do **modelo de classificação e da técnica de balanceamento de classes** é **fundamental** para obter um **bom desempenho** na detecção de fraudes em transações financeiras. Foram avaliados dois tipos de técnicas de balanceamento de classes (under-sampling e over-sampling) em conjunto com dois modelos de classificação (Decision Tree e Logistic Regression). A **regressão logística** mostrou-se uma escolha adequada para o problema, apresentando **desempenho superior** em relação à **Decision Tree**, que obteve menor AUC e recall para a classe minoritária.\n",
    "\n",
    "As técnicas de **balanceamento** de classes se mostraram **eficazes** na melhoria do desempenho dos modelos, especialmente o **under-sampling**, que apresentou o **melhor desempenho geral** em termos de recall para a classe minoritária e AUC. No entanto, o over-sampling também apresentou resultados promissores.\n",
    "\n",
    "Os modelos que utilizaram **Logistic Regression** apresentaram um **desempenho superior** em termos de **AUC**, com valores próximos a 0,93. O modelo que utilizou under-sampling e Logistic Regression obteve um recall igual para a classe minoritária (fraudes) em comparação com o modelo que utilizou over-sampling e Logistic Regression, tanto nos dados de validação, como treinamento, o que indica ser um modelo eficiente.\n",
    "\n",
    "Por outro lado, o modelo **Decision Tree** apresentou um **desempenho inferior** em relação aos modelos de Logistic Regression em validação, com AUC em torno de 0,76 e 0.85 (under e over) e recall de apenas 0,71 para a classe minoritária com over-sampling. Contudo, nos dados de teste, o desempenho de ambos foi superior, chegando a 0.92 e 0.81 de recall para a classe minoritária. \n",
    "\n",
    "Em resumo, a **escolha** cuidadosa do **modelo de classificação** e da **técnica de balanceamento** de classes é **crucial** para obter um bom **desempenho na detecção de fraudes** em transações financeiras. A **regressão logística** mostrou ser uma **boa escolha** para esse problema, e o **balanceamento das classes** pode ajudar a **melhorar o desempenho do modelo** na detecção de fraudes."
   ]
  }
 ],
 "metadata": {
  "kernelspec": {
   "display_name": "Python 3 (ipykernel)",
   "language": "python",
   "name": "python3"
  },
  "language_info": {
   "codemirror_mode": {
    "name": "ipython",
    "version": 3
   },
   "file_extension": ".py",
   "mimetype": "text/x-python",
   "name": "python",
   "nbconvert_exporter": "python",
   "pygments_lexer": "ipython3",
   "version": "3.10.10"
  }
 },
 "nbformat": 4,
 "nbformat_minor": 5
}
