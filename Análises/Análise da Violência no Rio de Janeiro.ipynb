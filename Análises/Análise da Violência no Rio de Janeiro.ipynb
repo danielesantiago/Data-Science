{
 "cells": [
  {
   "attachments": {},
   "cell_type": "markdown",
   "id": "236f69be",
   "metadata": {},
   "source": [
    "# Analisando a Violência no Rio de Janeiro\n",
    "\n",
    "\n",
    "<img src=\"rio_de_janeiro.png\"  width=80%>\n",
    "\n",
    "O Rio de Janeiro é um município brasileiro situado no sudeste do Brasil, sendo capital de um estado honônimo. É o maior destino turístico internacional no país, bem como em toda a América Latina, e atrai o interesse por sua beleza natural e tradições culturais. É, também, considerada a cidade brasileira mais conhecida no exterior, agindo como um espelho do Brasil aos demais países, o que pode afetar negativamente, visto que o estado possui uma das maiores taxas de homicídio por 100 mil habitantes do país, cerca de 38,4% em 2017, superando a média brasileira de 31,6% no mesmo período (Cerqueira e Bueno, 2019). Diante desse cenário, a resposta das autoridades públicas se dá no combate ao crime organizado, cujos atores típicos são os traficantes de drogas ilícitas que residem, em sua maioria, nas comunidades periféricas, denominadas “favelas” (Burgos et al., 2011; Cunha e Mello, 2011; Leite, 2014). Já no município, a taxa de letalidade foi de 14,89 por 100 mil habitantes em 2020, de acordo com o Instituto de Segurança Pública.\n",
    "\n",
    "<i>\"Não seria correto enfatizar uma inevitável decadência contemporânea. Desde a fundação da cidade pelos portugueses, as crônica e as correspondências da época sempre mesclaram o encantamento suscitado pela exuberância do lugar e o desagrado provocado por um serviço insuficiente de limpeza urbana e pelas condições sanitárias lamentáveis. No Rio de Janeiro, a ordem e a desordem parecem caminhar juntas.\" </i> (Enders, Armelle, 2015).\n",
    "\n",
    "O objetivo desse projeto, portanto, é a partir de um conjunto de dados sobre os indíces de violência no Rio de Janeiro, incentivados pelo governo do estado pelo meio do portal <a href= \"http://www.ispdados.rj.gov.br/\">ISPDados</a>, buscar padrões e correlações nos indicadores estatísticos fornecidos e chegar à uma conclusão do exposto.\n",
    "\n",
    "\n",
    "\n",
    "\n",
    "\n",
    "\n"
   ]
  },
  {
   "cell_type": "markdown",
   "id": "0a046a41",
   "metadata": {},
   "source": [
    "## Obtenção dos Dados\n",
    "\n",
    "Os dados foram obtidos pelo Instituto de Segurança Pública, que conta com um portal de dados abertos, o ISPDados, citado previamente. \n",
    "\n",
    "\n",
    "<p font size=\"11\">\n",
    "<i >\"O Instituto de Segurança Pública (ISP), é uma autarquia vinculada diretamente à Secretaria de Estado de Planejamento e Gestão. Com 21 anos de existência, o ISP conta com grande conhecimento acumulado no desenvolvimento de metodologias de análise de dados relativos à Segurança Pública. Sua missão é produzir informações e disseminar pesquisas e análises com vistas a influenciar e subsidiar a implementação de políticas públicas de segurança e assegurar a participação social na construção dessas políticas.\" </i>(ISP - Instituto de Segurança Pública).</p>\n",
    "\n",
    "A iniciativa foi feita como forma de assegurar transparência e as informações podem ser conferidas no <a href=\"http://www.isp.rj.gov.br/dadosoficiais.asp\">link do instituto</a>. Já o csv tratado está disponível no seguinte <a href=\"https://raw.githubusercontent.com/carlosfab/dsnp2/master/datasets/violencia_rio.csv\">github</a>"
   ]
  },
  {
   "cell_type": "markdown",
   "id": "2675635f",
   "metadata": {},
   "source": [
    "### Importando os dados"
   ]
  },
  {
   "cell_type": "code",
   "execution_count": 2,
   "id": "35f5375d",
   "metadata": {},
   "outputs": [],
   "source": [
    "import pandas as pd\n",
    "df = pd.read_csv(\"violencia_rio.csv\")"
   ]
  },
  {
   "cell_type": "markdown",
   "id": "ec2d390c",
   "metadata": {},
   "source": [
    "## Análise Inicial dos Dados\n",
    "\n",
    "Para realizar a análise de forma efetiva, é importante entender os principais componentes do dataset a ser trabalhado. Portanto, iremos responder algumas questões que nos trarão o vislumbre inicial da informação.\n",
    "\n",
    "* 1. Qual o tamanho do seu DataFrame?\n",
    "* 2. Extrair e imprimir os nomes das colunas.\n",
    "* 3. Quais os tipos das variáveis.\n",
    "* 4. Visualizar as 5 primeiras linhas.\n",
    "* 5. Identifique a porcentagem de valores ausentes das colunas.\n"
   ]
  },
  {
   "cell_type": "code",
   "execution_count": 4,
   "id": "7b6f019b",
   "metadata": {},
   "outputs": [
    {
     "data": {
      "text/plain": [
       "(344, 56)"
      ]
     },
     "execution_count": 4,
     "metadata": {},
     "output_type": "execute_result"
    }
   ],
   "source": [
    "# 1. Qual o tamanho do seu DataFrame\n",
    "df.shape"
   ]
  },
  {
   "cell_type": "code",
   "execution_count": 5,
   "id": "7a433605",
   "metadata": {},
   "outputs": [
    {
     "data": {
      "text/plain": [
       "Index(['vano', 'mes', 'hom_doloso', 'lesao_corp_morte', 'latrocinio',\n",
       "       'hom_por_interv_policial', 'tentat_hom', 'lesao_corp_dolosa', 'estupro',\n",
       "       'hom_culposo', 'lesao_corp_culposa', 'roubo_comercio',\n",
       "       'roubo_residencia', 'roubo_veiculo', 'roubo_carga', 'roubo_transeunte',\n",
       "       'roubo_em_coletivo', 'roubo_banco', 'roubo_cx_eletronico',\n",
       "       'roubo_celular', 'roubo_conducao_saque', 'roubo_apos_saque',\n",
       "       'roubo_bicicleta', 'outros_roubos', 'total_roubos', 'furto_veiculos',\n",
       "       'furto_transeunte', 'furto_coletivo', 'furto_celular',\n",
       "       'furto_bicicleta', 'outros_furtos', 'total_furtos', 'sequestro',\n",
       "       'extorsao', 'sequestro_relampago', 'estelionato', 'apreensao_drogas',\n",
       "       'posse_drogas', 'trafico_drogas', 'apreensao_drogas_sem_autor',\n",
       "       'recuperacao_veiculos', 'apf', 'aaapai', 'cmp', 'cmba', 'ameaca',\n",
       "       'pessoas_desaparecidas', 'encontro_cadaver', 'encontro_ossada',\n",
       "       'pol_militares_mortos_serv', 'pol_civis_mortos_serv',\n",
       "       'indicador_letalidade', 'indicador_roubo_rua', 'indicador_roubo_veic',\n",
       "       'registro_ocorrencias', 'fase'],\n",
       "      dtype='object')"
      ]
     },
     "execution_count": 5,
     "metadata": {},
     "output_type": "execute_result"
    }
   ],
   "source": [
    "# 2. Extrair e imprimir os nomes das colunas.\n",
    "df.columns"
   ]
  },
  {
   "cell_type": "code",
   "execution_count": 7,
   "id": "7723f804",
   "metadata": {},
   "outputs": [
    {
     "data": {
      "text/plain": [
       "vano                            int64\n",
       "mes                             int64\n",
       "hom_doloso                      int64\n",
       "lesao_corp_morte              float64\n",
       "latrocinio                      int64\n",
       "hom_por_interv_policial       float64\n",
       "tentat_hom                      int64\n",
       "lesao_corp_dolosa               int64\n",
       "estupro                       float64\n",
       "hom_culposo                   float64\n",
       "lesao_corp_culposa            float64\n",
       "roubo_comercio                  int64\n",
       "roubo_residencia                int64\n",
       "roubo_veiculo                   int64\n",
       "roubo_carga                     int64\n",
       "roubo_transeunte                int64\n",
       "roubo_em_coletivo               int64\n",
       "roubo_banco                     int64\n",
       "roubo_cx_eletronico           float64\n",
       "roubo_celular                 float64\n",
       "roubo_conducao_saque          float64\n",
       "roubo_apos_saque              float64\n",
       "roubo_bicicleta               float64\n",
       "outros_roubos                   int64\n",
       "total_roubos                    int64\n",
       "furto_veiculos                  int64\n",
       "furto_transeunte                int64\n",
       "furto_coletivo                float64\n",
       "furto_celular                 float64\n",
       "furto_bicicleta               float64\n",
       "outros_furtos                   int64\n",
       "total_furtos                    int64\n",
       "sequestro                     float64\n",
       "extorsao                      float64\n",
       "sequestro_relampago           float64\n",
       "estelionato                   float64\n",
       "apreensao_drogas                int64\n",
       "posse_drogas                  float64\n",
       "trafico_drogas                float64\n",
       "apreensao_drogas_sem_autor    float64\n",
       "recuperacao_veiculos            int64\n",
       "apf                           float64\n",
       "aaapai                        float64\n",
       "cmp                           float64\n",
       "cmba                          float64\n",
       "ameaca                        float64\n",
       "pessoas_desaparecidas         float64\n",
       "encontro_cadaver                int64\n",
       "encontro_ossada               float64\n",
       "pol_militares_mortos_serv     float64\n",
       "pol_civis_mortos_serv         float64\n",
       "indicador_letalidade            int64\n",
       "indicador_roubo_rua             int64\n",
       "indicador_roubo_veic            int64\n",
       "registro_ocorrencias          float64\n",
       "fase                            int64\n",
       "dtype: object"
      ]
     },
     "execution_count": 7,
     "metadata": {},
     "output_type": "execute_result"
    }
   ],
   "source": [
    "# 3. Quais os tipos das variáveis.\n",
    "df.dtypes"
   ]
  },
  {
   "cell_type": "code",
   "execution_count": 8,
   "id": "bd0fdaed",
   "metadata": {},
   "outputs": [
    {
     "data": {
      "text/html": [
       "<div>\n",
       "<style scoped>\n",
       "    .dataframe tbody tr th:only-of-type {\n",
       "        vertical-align: middle;\n",
       "    }\n",
       "\n",
       "    .dataframe tbody tr th {\n",
       "        vertical-align: top;\n",
       "    }\n",
       "\n",
       "    .dataframe thead th {\n",
       "        text-align: right;\n",
       "    }\n",
       "</style>\n",
       "<table border=\"1\" class=\"dataframe\">\n",
       "  <thead>\n",
       "    <tr style=\"text-align: right;\">\n",
       "      <th></th>\n",
       "      <th>vano</th>\n",
       "      <th>mes</th>\n",
       "      <th>hom_doloso</th>\n",
       "      <th>lesao_corp_morte</th>\n",
       "      <th>latrocinio</th>\n",
       "      <th>hom_por_interv_policial</th>\n",
       "      <th>tentat_hom</th>\n",
       "      <th>lesao_corp_dolosa</th>\n",
       "      <th>estupro</th>\n",
       "      <th>hom_culposo</th>\n",
       "      <th>...</th>\n",
       "      <th>pessoas_desaparecidas</th>\n",
       "      <th>encontro_cadaver</th>\n",
       "      <th>encontro_ossada</th>\n",
       "      <th>pol_militares_mortos_serv</th>\n",
       "      <th>pol_civis_mortos_serv</th>\n",
       "      <th>indicador_letalidade</th>\n",
       "      <th>indicador_roubo_rua</th>\n",
       "      <th>indicador_roubo_veic</th>\n",
       "      <th>registro_ocorrencias</th>\n",
       "      <th>fase</th>\n",
       "    </tr>\n",
       "  </thead>\n",
       "  <tbody>\n",
       "    <tr>\n",
       "      <th>0</th>\n",
       "      <td>1991</td>\n",
       "      <td>1</td>\n",
       "      <td>657</td>\n",
       "      <td>NaN</td>\n",
       "      <td>15</td>\n",
       "      <td>NaN</td>\n",
       "      <td>162</td>\n",
       "      <td>3051</td>\n",
       "      <td>NaN</td>\n",
       "      <td>NaN</td>\n",
       "      <td>...</td>\n",
       "      <td>NaN</td>\n",
       "      <td>217</td>\n",
       "      <td>NaN</td>\n",
       "      <td>NaN</td>\n",
       "      <td>NaN</td>\n",
       "      <td>672</td>\n",
       "      <td>1348</td>\n",
       "      <td>1174</td>\n",
       "      <td>NaN</td>\n",
       "      <td>3</td>\n",
       "    </tr>\n",
       "    <tr>\n",
       "      <th>1</th>\n",
       "      <td>1991</td>\n",
       "      <td>2</td>\n",
       "      <td>732</td>\n",
       "      <td>NaN</td>\n",
       "      <td>17</td>\n",
       "      <td>NaN</td>\n",
       "      <td>175</td>\n",
       "      <td>3421</td>\n",
       "      <td>NaN</td>\n",
       "      <td>NaN</td>\n",
       "      <td>...</td>\n",
       "      <td>NaN</td>\n",
       "      <td>209</td>\n",
       "      <td>NaN</td>\n",
       "      <td>NaN</td>\n",
       "      <td>NaN</td>\n",
       "      <td>749</td>\n",
       "      <td>1395</td>\n",
       "      <td>1097</td>\n",
       "      <td>NaN</td>\n",
       "      <td>3</td>\n",
       "    </tr>\n",
       "    <tr>\n",
       "      <th>2</th>\n",
       "      <td>1991</td>\n",
       "      <td>3</td>\n",
       "      <td>713</td>\n",
       "      <td>NaN</td>\n",
       "      <td>25</td>\n",
       "      <td>NaN</td>\n",
       "      <td>216</td>\n",
       "      <td>3613</td>\n",
       "      <td>NaN</td>\n",
       "      <td>NaN</td>\n",
       "      <td>...</td>\n",
       "      <td>NaN</td>\n",
       "      <td>188</td>\n",
       "      <td>NaN</td>\n",
       "      <td>NaN</td>\n",
       "      <td>NaN</td>\n",
       "      <td>738</td>\n",
       "      <td>1385</td>\n",
       "      <td>1265</td>\n",
       "      <td>NaN</td>\n",
       "      <td>3</td>\n",
       "    </tr>\n",
       "    <tr>\n",
       "      <th>3</th>\n",
       "      <td>1991</td>\n",
       "      <td>4</td>\n",
       "      <td>634</td>\n",
       "      <td>NaN</td>\n",
       "      <td>20</td>\n",
       "      <td>NaN</td>\n",
       "      <td>200</td>\n",
       "      <td>3211</td>\n",
       "      <td>NaN</td>\n",
       "      <td>NaN</td>\n",
       "      <td>...</td>\n",
       "      <td>NaN</td>\n",
       "      <td>140</td>\n",
       "      <td>NaN</td>\n",
       "      <td>NaN</td>\n",
       "      <td>NaN</td>\n",
       "      <td>654</td>\n",
       "      <td>1540</td>\n",
       "      <td>1415</td>\n",
       "      <td>NaN</td>\n",
       "      <td>3</td>\n",
       "    </tr>\n",
       "    <tr>\n",
       "      <th>4</th>\n",
       "      <td>1991</td>\n",
       "      <td>5</td>\n",
       "      <td>650</td>\n",
       "      <td>NaN</td>\n",
       "      <td>20</td>\n",
       "      <td>NaN</td>\n",
       "      <td>146</td>\n",
       "      <td>3051</td>\n",
       "      <td>NaN</td>\n",
       "      <td>NaN</td>\n",
       "      <td>...</td>\n",
       "      <td>NaN</td>\n",
       "      <td>78</td>\n",
       "      <td>NaN</td>\n",
       "      <td>NaN</td>\n",
       "      <td>NaN</td>\n",
       "      <td>670</td>\n",
       "      <td>1266</td>\n",
       "      <td>1449</td>\n",
       "      <td>NaN</td>\n",
       "      <td>3</td>\n",
       "    </tr>\n",
       "  </tbody>\n",
       "</table>\n",
       "<p>5 rows × 56 columns</p>\n",
       "</div>"
      ],
      "text/plain": [
       "   vano  mes  hom_doloso  lesao_corp_morte  latrocinio  \\\n",
       "0  1991    1         657               NaN          15   \n",
       "1  1991    2         732               NaN          17   \n",
       "2  1991    3         713               NaN          25   \n",
       "3  1991    4         634               NaN          20   \n",
       "4  1991    5         650               NaN          20   \n",
       "\n",
       "   hom_por_interv_policial  tentat_hom  lesao_corp_dolosa  estupro  \\\n",
       "0                      NaN         162               3051      NaN   \n",
       "1                      NaN         175               3421      NaN   \n",
       "2                      NaN         216               3613      NaN   \n",
       "3                      NaN         200               3211      NaN   \n",
       "4                      NaN         146               3051      NaN   \n",
       "\n",
       "   hom_culposo  ...  pessoas_desaparecidas  encontro_cadaver  encontro_ossada  \\\n",
       "0          NaN  ...                    NaN               217              NaN   \n",
       "1          NaN  ...                    NaN               209              NaN   \n",
       "2          NaN  ...                    NaN               188              NaN   \n",
       "3          NaN  ...                    NaN               140              NaN   \n",
       "4          NaN  ...                    NaN                78              NaN   \n",
       "\n",
       "   pol_militares_mortos_serv  pol_civis_mortos_serv  indicador_letalidade  \\\n",
       "0                        NaN                    NaN                   672   \n",
       "1                        NaN                    NaN                   749   \n",
       "2                        NaN                    NaN                   738   \n",
       "3                        NaN                    NaN                   654   \n",
       "4                        NaN                    NaN                   670   \n",
       "\n",
       "   indicador_roubo_rua  indicador_roubo_veic  registro_ocorrencias  fase  \n",
       "0                 1348                  1174                   NaN     3  \n",
       "1                 1395                  1097                   NaN     3  \n",
       "2                 1385                  1265                   NaN     3  \n",
       "3                 1540                  1415                   NaN     3  \n",
       "4                 1266                  1449                   NaN     3  \n",
       "\n",
       "[5 rows x 56 columns]"
      ]
     },
     "execution_count": 8,
     "metadata": {},
     "output_type": "execute_result"
    }
   ],
   "source": [
    "# 4. Visualizar as 5 primeiras linhas.\n",
    "df.head()"
   ]
  },
  {
   "cell_type": "code",
   "execution_count": 46,
   "id": "a1229730",
   "metadata": {},
   "outputs": [
    {
     "data": {
      "text/plain": [
       "vano                           0.00\n",
       "indicador_roubo_veic           0.00\n",
       "indicador_roubo_rua            0.00\n",
       "indicador_letalidade           0.00\n",
       "encontro_cadaver               0.00\n",
       "recuperacao_veiculos           0.00\n",
       "apreensao_drogas               0.00\n",
       "total_furtos                   0.00\n",
       "outros_furtos                  0.00\n",
       "furto_transeunte               0.00\n",
       "furto_veiculos                 0.00\n",
       "total_roubos                   0.00\n",
       "outros_roubos                  0.00\n",
       "roubo_banco                    0.00\n",
       "roubo_em_coletivo              0.00\n",
       "fase                           0.00\n",
       "roubo_carga                    0.00\n",
       "roubo_veiculo                  0.00\n",
       "mes                            0.00\n",
       "roubo_transeunte               0.00\n",
       "hom_doloso                     0.00\n",
       "lesao_corp_dolosa              0.00\n",
       "latrocinio                     0.00\n",
       "roubo_residencia               0.00\n",
       "roubo_comercio                 0.00\n",
       "tentat_hom                     0.00\n",
       "hom_culposo                   24.42\n",
       "hom_por_interv_policial       24.42\n",
       "registro_ocorrencias          27.91\n",
       "lesao_corp_morte              27.91\n",
       "sequestro                     27.91\n",
       "ameaca                        27.91\n",
       "lesao_corp_culposa            27.91\n",
       "roubo_celular                 31.40\n",
       "encontro_ossada               38.37\n",
       "pessoas_desaparecidas         38.37\n",
       "pol_militares_mortos_serv     41.86\n",
       "pol_civis_mortos_serv         41.86\n",
       "estelionato                   41.86\n",
       "estupro                       41.86\n",
       "roubo_cx_eletronico           41.86\n",
       "roubo_conducao_saque          41.86\n",
       "roubo_apos_saque              41.86\n",
       "furto_celular                 41.86\n",
       "extorsao                      41.86\n",
       "furto_coletivo                41.86\n",
       "sequestro_relampago           41.86\n",
       "cmba                          52.33\n",
       "trafico_drogas                52.33\n",
       "cmp                           52.33\n",
       "aaapai                        52.33\n",
       "apf                           52.33\n",
       "posse_drogas                  52.33\n",
       "apreensao_drogas_sem_autor    52.33\n",
       "furto_bicicleta               80.23\n",
       "roubo_bicicleta               80.23\n",
       "dtype: float64"
      ]
     },
     "execution_count": 46,
     "metadata": {},
     "output_type": "execute_result"
    }
   ],
   "source": [
    "# 5. Identifique a porcentagem de valores ausentes das colunas.\n",
    "\n",
    "round((df.isnull().sum()/df.shape[0]) * 100, 2).sort_values(ascending=True)           \n",
    "                                    "
   ]
  },
  {
   "cell_type": "markdown",
   "id": "81f46256",
   "metadata": {},
   "source": [
    "À partir da primeira explanação, podemos observar que o dataset possui 56 colunas e 344 registro, também é notório que alguns indicadores de violência possuem um índice alto de nulidade, como é o quaso do furto e roubo de bicicletas, com 80%, e alguns que se mantém com metade dos indíces nulos, como é possível observar previamente. Enquanto outros são reportados diariamente não possuindo valores nulos desde a coleta, como é o caso de homícidio doloso, latrocínicio, tentativa de homicídio, dentre outros."
   ]
  },
  {
   "cell_type": "markdown",
   "id": "9cf9305a",
   "metadata": {},
   "source": [
    "\n",
    "## Informações Estatísticas da Violência no Rio de Janeiro\n",
    "\n",
    "Iremos observar agora algumas informações estatísticas dos dados coletados.\n",
    "\n",
    "* 1. Imprima o resumo estatístico do seu DataFrame\n",
    "* 2. Encontre as médias das seguintes colunas:\n",
    "  * `roubo_veiculo`\n",
    "  * `furto_veiculos`\n",
    "  * `recuperacao_veiculos`\n",
    "* 3. Calcule qual a porcentagem de carros recuperados em relação aos carros roubados + carros furtados:\n",
    "  * $\\frac{\\text{recuperacao_veiculos}}{\\text{roubo_veiculo} + \\text{furto_veiculos}}$\n",
    "* 4. Encontre os valores máximos, mínimos, média e desvio padrão da coluna `hom_doloso`\n",
    "* 5. Encontre os valores máximos, mínimos, média e desvio padrão da coluna `hom_culposo`"
   ]
  },
  {
   "cell_type": "markdown",
   "id": "6050af2a",
   "metadata": {},
   "source": [
    "### Crimes relacionados a veículos"
   ]
  },
  {
   "cell_type": "code",
   "execution_count": 25,
   "id": "839c4d9f",
   "metadata": {},
   "outputs": [
    {
     "data": {
      "text/html": [
       "<div>\n",
       "<style scoped>\n",
       "    .dataframe tbody tr th:only-of-type {\n",
       "        vertical-align: middle;\n",
       "    }\n",
       "\n",
       "    .dataframe tbody tr th {\n",
       "        vertical-align: top;\n",
       "    }\n",
       "\n",
       "    .dataframe thead th {\n",
       "        text-align: right;\n",
       "    }\n",
       "</style>\n",
       "<table border=\"1\" class=\"dataframe\">\n",
       "  <thead>\n",
       "    <tr style=\"text-align: right;\">\n",
       "      <th></th>\n",
       "      <th>vano</th>\n",
       "      <th>mes</th>\n",
       "      <th>hom_doloso</th>\n",
       "      <th>lesao_corp_morte</th>\n",
       "      <th>latrocinio</th>\n",
       "      <th>hom_por_interv_policial</th>\n",
       "      <th>tentat_hom</th>\n",
       "      <th>lesao_corp_dolosa</th>\n",
       "      <th>estupro</th>\n",
       "      <th>hom_culposo</th>\n",
       "      <th>...</th>\n",
       "      <th>pessoas_desaparecidas</th>\n",
       "      <th>encontro_cadaver</th>\n",
       "      <th>encontro_ossada</th>\n",
       "      <th>pol_militares_mortos_serv</th>\n",
       "      <th>pol_civis_mortos_serv</th>\n",
       "      <th>indicador_letalidade</th>\n",
       "      <th>indicador_roubo_rua</th>\n",
       "      <th>indicador_roubo_veic</th>\n",
       "      <th>registro_ocorrencias</th>\n",
       "      <th>fase</th>\n",
       "    </tr>\n",
       "  </thead>\n",
       "  <tbody>\n",
       "    <tr>\n",
       "      <th>count</th>\n",
       "      <td>344.000000</td>\n",
       "      <td>344.000000</td>\n",
       "      <td>344.000000</td>\n",
       "      <td>248.000000</td>\n",
       "      <td>344.000000</td>\n",
       "      <td>260.00000</td>\n",
       "      <td>344.000000</td>\n",
       "      <td>344.000000</td>\n",
       "      <td>200.000000</td>\n",
       "      <td>260.000000</td>\n",
       "      <td>...</td>\n",
       "      <td>212.000000</td>\n",
       "      <td>344.000000</td>\n",
       "      <td>212.000000</td>\n",
       "      <td>200.000000</td>\n",
       "      <td>200.00000</td>\n",
       "      <td>344.000000</td>\n",
       "      <td>344.000000</td>\n",
       "      <td>344.000000</td>\n",
       "      <td>248.000000</td>\n",
       "      <td>344.000000</td>\n",
       "    </tr>\n",
       "    <tr>\n",
       "      <th>mean</th>\n",
       "      <td>2004.837209</td>\n",
       "      <td>6.453488</td>\n",
       "      <td>504.555233</td>\n",
       "      <td>4.334677</td>\n",
       "      <td>15.668605</td>\n",
       "      <td>71.90000</td>\n",
       "      <td>318.267442</td>\n",
       "      <td>5492.799419</td>\n",
       "      <td>369.945000</td>\n",
       "      <td>212.119231</td>\n",
       "      <td>...</td>\n",
       "      <td>435.132075</td>\n",
       "      <td>66.261628</td>\n",
       "      <td>3.301887</td>\n",
       "      <td>2.085000</td>\n",
       "      <td>0.34000</td>\n",
       "      <td>577.691860</td>\n",
       "      <td>4734.738372</td>\n",
       "      <td>2448.697674</td>\n",
       "      <td>53794.161290</td>\n",
       "      <td>2.994186</td>\n",
       "    </tr>\n",
       "    <tr>\n",
       "      <th>std</th>\n",
       "      <td>8.289036</td>\n",
       "      <td>3.447759</td>\n",
       "      <td>113.774481</td>\n",
       "      <td>2.755357</td>\n",
       "      <td>5.861427</td>\n",
       "      <td>36.48882</td>\n",
       "      <td>127.606645</td>\n",
       "      <td>1514.220579</td>\n",
       "      <td>94.392434</td>\n",
       "      <td>54.234700</td>\n",
       "      <td>...</td>\n",
       "      <td>65.353516</td>\n",
       "      <td>34.464519</td>\n",
       "      <td>2.192922</td>\n",
       "      <td>1.761616</td>\n",
       "      <td>0.63752</td>\n",
       "      <td>104.973929</td>\n",
       "      <td>3204.054864</td>\n",
       "      <td>789.689559</td>\n",
       "      <td>11039.051992</td>\n",
       "      <td>0.076138</td>\n",
       "    </tr>\n",
       "    <tr>\n",
       "      <th>min</th>\n",
       "      <td>1991.000000</td>\n",
       "      <td>1.000000</td>\n",
       "      <td>272.000000</td>\n",
       "      <td>0.000000</td>\n",
       "      <td>2.000000</td>\n",
       "      <td>10.00000</td>\n",
       "      <td>122.000000</td>\n",
       "      <td>2350.000000</td>\n",
       "      <td>188.000000</td>\n",
       "      <td>111.000000</td>\n",
       "      <td>...</td>\n",
       "      <td>236.000000</td>\n",
       "      <td>0.000000</td>\n",
       "      <td>0.000000</td>\n",
       "      <td>0.000000</td>\n",
       "      <td>0.00000</td>\n",
       "      <td>334.000000</td>\n",
       "      <td>1086.000000</td>\n",
       "      <td>1097.000000</td>\n",
       "      <td>30621.000000</td>\n",
       "      <td>2.000000</td>\n",
       "    </tr>\n",
       "    <tr>\n",
       "      <th>25%</th>\n",
       "      <td>1998.000000</td>\n",
       "      <td>3.000000</td>\n",
       "      <td>413.750000</td>\n",
       "      <td>2.000000</td>\n",
       "      <td>11.000000</td>\n",
       "      <td>41.75000</td>\n",
       "      <td>200.000000</td>\n",
       "      <td>4067.000000</td>\n",
       "      <td>282.000000</td>\n",
       "      <td>176.000000</td>\n",
       "      <td>...</td>\n",
       "      <td>390.000000</td>\n",
       "      <td>42.000000</td>\n",
       "      <td>2.000000</td>\n",
       "      <td>1.000000</td>\n",
       "      <td>0.00000</td>\n",
       "      <td>500.000000</td>\n",
       "      <td>1557.000000</td>\n",
       "      <td>1889.750000</td>\n",
       "      <td>45374.500000</td>\n",
       "      <td>3.000000</td>\n",
       "    </tr>\n",
       "    <tr>\n",
       "      <th>50%</th>\n",
       "      <td>2005.000000</td>\n",
       "      <td>6.000000</td>\n",
       "      <td>507.000000</td>\n",
       "      <td>4.000000</td>\n",
       "      <td>15.000000</td>\n",
       "      <td>70.00000</td>\n",
       "      <td>318.500000</td>\n",
       "      <td>5830.500000</td>\n",
       "      <td>384.000000</td>\n",
       "      <td>203.000000</td>\n",
       "      <td>...</td>\n",
       "      <td>427.000000</td>\n",
       "      <td>60.500000</td>\n",
       "      <td>3.000000</td>\n",
       "      <td>2.000000</td>\n",
       "      <td>0.00000</td>\n",
       "      <td>590.000000</td>\n",
       "      <td>4190.000000</td>\n",
       "      <td>2322.000000</td>\n",
       "      <td>54926.500000</td>\n",
       "      <td>3.000000</td>\n",
       "    </tr>\n",
       "    <tr>\n",
       "      <th>75%</th>\n",
       "      <td>2012.000000</td>\n",
       "      <td>9.000000</td>\n",
       "      <td>577.250000</td>\n",
       "      <td>6.000000</td>\n",
       "      <td>19.000000</td>\n",
       "      <td>96.25000</td>\n",
       "      <td>398.250000</td>\n",
       "      <td>6582.500000</td>\n",
       "      <td>441.250000</td>\n",
       "      <td>236.250000</td>\n",
       "      <td>...</td>\n",
       "      <td>481.500000</td>\n",
       "      <td>87.000000</td>\n",
       "      <td>4.000000</td>\n",
       "      <td>3.000000</td>\n",
       "      <td>1.00000</td>\n",
       "      <td>649.000000</td>\n",
       "      <td>6872.750000</td>\n",
       "      <td>2778.000000</td>\n",
       "      <td>63292.500000</td>\n",
       "      <td>3.000000</td>\n",
       "    </tr>\n",
       "    <tr>\n",
       "      <th>max</th>\n",
       "      <td>2019.000000</td>\n",
       "      <td>12.000000</td>\n",
       "      <td>831.000000</td>\n",
       "      <td>21.000000</td>\n",
       "      <td>36.000000</td>\n",
       "      <td>194.00000</td>\n",
       "      <td>645.000000</td>\n",
       "      <td>9050.000000</td>\n",
       "      <td>561.000000</td>\n",
       "      <td>449.000000</td>\n",
       "      <td>...</td>\n",
       "      <td>628.000000</td>\n",
       "      <td>217.000000</td>\n",
       "      <td>13.000000</td>\n",
       "      <td>10.000000</td>\n",
       "      <td>3.00000</td>\n",
       "      <td>848.000000</td>\n",
       "      <td>13833.000000</td>\n",
       "      <td>5358.000000</td>\n",
       "      <td>75403.000000</td>\n",
       "      <td>3.000000</td>\n",
       "    </tr>\n",
       "  </tbody>\n",
       "</table>\n",
       "<p>8 rows × 56 columns</p>\n",
       "</div>"
      ],
      "text/plain": [
       "              vano         mes  hom_doloso  lesao_corp_morte  latrocinio  \\\n",
       "count   344.000000  344.000000  344.000000        248.000000  344.000000   \n",
       "mean   2004.837209    6.453488  504.555233          4.334677   15.668605   \n",
       "std       8.289036    3.447759  113.774481          2.755357    5.861427   \n",
       "min    1991.000000    1.000000  272.000000          0.000000    2.000000   \n",
       "25%    1998.000000    3.000000  413.750000          2.000000   11.000000   \n",
       "50%    2005.000000    6.000000  507.000000          4.000000   15.000000   \n",
       "75%    2012.000000    9.000000  577.250000          6.000000   19.000000   \n",
       "max    2019.000000   12.000000  831.000000         21.000000   36.000000   \n",
       "\n",
       "       hom_por_interv_policial  tentat_hom  lesao_corp_dolosa     estupro  \\\n",
       "count                260.00000  344.000000         344.000000  200.000000   \n",
       "mean                  71.90000  318.267442        5492.799419  369.945000   \n",
       "std                   36.48882  127.606645        1514.220579   94.392434   \n",
       "min                   10.00000  122.000000        2350.000000  188.000000   \n",
       "25%                   41.75000  200.000000        4067.000000  282.000000   \n",
       "50%                   70.00000  318.500000        5830.500000  384.000000   \n",
       "75%                   96.25000  398.250000        6582.500000  441.250000   \n",
       "max                  194.00000  645.000000        9050.000000  561.000000   \n",
       "\n",
       "       hom_culposo  ...  pessoas_desaparecidas  encontro_cadaver  \\\n",
       "count   260.000000  ...             212.000000        344.000000   \n",
       "mean    212.119231  ...             435.132075         66.261628   \n",
       "std      54.234700  ...              65.353516         34.464519   \n",
       "min     111.000000  ...             236.000000          0.000000   \n",
       "25%     176.000000  ...             390.000000         42.000000   \n",
       "50%     203.000000  ...             427.000000         60.500000   \n",
       "75%     236.250000  ...             481.500000         87.000000   \n",
       "max     449.000000  ...             628.000000        217.000000   \n",
       "\n",
       "       encontro_ossada  pol_militares_mortos_serv  pol_civis_mortos_serv  \\\n",
       "count       212.000000                 200.000000              200.00000   \n",
       "mean          3.301887                   2.085000                0.34000   \n",
       "std           2.192922                   1.761616                0.63752   \n",
       "min           0.000000                   0.000000                0.00000   \n",
       "25%           2.000000                   1.000000                0.00000   \n",
       "50%           3.000000                   2.000000                0.00000   \n",
       "75%           4.000000                   3.000000                1.00000   \n",
       "max          13.000000                  10.000000                3.00000   \n",
       "\n",
       "       indicador_letalidade  indicador_roubo_rua  indicador_roubo_veic  \\\n",
       "count            344.000000           344.000000            344.000000   \n",
       "mean             577.691860          4734.738372           2448.697674   \n",
       "std              104.973929          3204.054864            789.689559   \n",
       "min              334.000000          1086.000000           1097.000000   \n",
       "25%              500.000000          1557.000000           1889.750000   \n",
       "50%              590.000000          4190.000000           2322.000000   \n",
       "75%              649.000000          6872.750000           2778.000000   \n",
       "max              848.000000         13833.000000           5358.000000   \n",
       "\n",
       "       registro_ocorrencias        fase  \n",
       "count            248.000000  344.000000  \n",
       "mean           53794.161290    2.994186  \n",
       "std            11039.051992    0.076138  \n",
       "min            30621.000000    2.000000  \n",
       "25%            45374.500000    3.000000  \n",
       "50%            54926.500000    3.000000  \n",
       "75%            63292.500000    3.000000  \n",
       "max            75403.000000    3.000000  \n",
       "\n",
       "[8 rows x 56 columns]"
      ]
     },
     "execution_count": 25,
     "metadata": {},
     "output_type": "execute_result"
    }
   ],
   "source": [
    "# 1. Imprima o resumo estatístico do seu DataFrame (`describe`)\n",
    "df.describe()"
   ]
  },
  {
   "cell_type": "code",
   "execution_count": 41,
   "id": "600ecb19",
   "metadata": {},
   "outputs": [
    {
     "data": {
      "text/plain": [
       "2449"
      ]
     },
     "execution_count": 41,
     "metadata": {},
     "output_type": "execute_result"
    }
   ],
   "source": [
    "# 2. Encontre as médias das seguintes colunas:\n",
    "# `roubo_veiculo`\n",
    "round(df.roubo_veiculo.mean())"
   ]
  },
  {
   "cell_type": "code",
   "execution_count": 42,
   "id": "cb53f26f",
   "metadata": {},
   "outputs": [
    {
     "data": {
      "text/plain": [
       "1675"
      ]
     },
     "execution_count": 42,
     "metadata": {},
     "output_type": "execute_result"
    }
   ],
   "source": [
    "# `furto_veiculos`\n",
    "round(df.furto_veiculos.mean())"
   ]
  },
  {
   "cell_type": "code",
   "execution_count": 43,
   "id": "32d661a3",
   "metadata": {},
   "outputs": [
    {
     "data": {
      "text/plain": [
       "1772"
      ]
     },
     "execution_count": 43,
     "metadata": {},
     "output_type": "execute_result"
    }
   ],
   "source": [
    "# `recuperacao_veiculos\n",
    "round(df.recuperacao_veiculos.mean())"
   ]
  },
  {
   "cell_type": "code",
   "execution_count": 45,
   "id": "40f77198",
   "metadata": {},
   "outputs": [
    {
     "data": {
      "text/plain": [
       "42.98"
      ]
     },
     "execution_count": 45,
     "metadata": {},
     "output_type": "execute_result"
    }
   ],
   "source": [
    "# 3. Calcule qual a porcentagem de carros recuperados em relação aos carros roubados + carros furtados:\n",
    "round(df.recuperacao_veiculos.sum()/(df.roubo_veiculo.sum() + df.furto_veiculos.sum()) * 100, 2)"
   ]
  },
  {
   "cell_type": "markdown",
   "id": "951ffb0c",
   "metadata": {},
   "source": [
    "Podemos observar que a porcentagem de carros recuperados em relação aos roubados e furtados é de aproximadamente 43%."
   ]
  },
  {
   "cell_type": "markdown",
   "id": "a331915b",
   "metadata": {},
   "source": [
    "### Crimes contra a vida"
   ]
  },
  {
   "cell_type": "code",
   "execution_count": 47,
   "id": "7e30dcff",
   "metadata": {},
   "outputs": [
    {
     "data": {
      "text/plain": [
       "831"
      ]
     },
     "execution_count": 47,
     "metadata": {},
     "output_type": "execute_result"
    }
   ],
   "source": [
    "# 4. Encontre os valores máximos, mínimos, média e desvio padrão da coluna `hom_doloso`\n",
    "# valor máximo\n",
    "df.hom_doloso.max()"
   ]
  },
  {
   "cell_type": "code",
   "execution_count": 48,
   "id": "328cee05",
   "metadata": {},
   "outputs": [
    {
     "data": {
      "text/plain": [
       "272"
      ]
     },
     "execution_count": 48,
     "metadata": {},
     "output_type": "execute_result"
    }
   ],
   "source": [
    "#valor mínimo\n",
    "df.hom_doloso.min()"
   ]
  },
  {
   "cell_type": "code",
   "execution_count": 54,
   "id": "62be8d1d",
   "metadata": {},
   "outputs": [
    {
     "data": {
      "text/plain": [
       "504.55523255813955"
      ]
     },
     "execution_count": 54,
     "metadata": {},
     "output_type": "execute_result"
    }
   ],
   "source": [
    "# média de homicídios dolosos\n",
    "df.hom_doloso.mean()"
   ]
  },
  {
   "cell_type": "code",
   "execution_count": null,
   "id": "7c1fe211",
   "metadata": {},
   "outputs": [],
   "source": [
    "# Desvio padrão do homicídio doloso\n",
    "df.hom_doloso.std()"
   ]
  },
  {
   "cell_type": "code",
   "execution_count": 49,
   "id": "c751d293",
   "metadata": {},
   "outputs": [
    {
     "data": {
      "text/plain": [
       "449.0"
      ]
     },
     "execution_count": 49,
     "metadata": {},
     "output_type": "execute_result"
    }
   ],
   "source": [
    "# 5. Encontre os valores máximos, mínimos, média e desvio padrão da coluna `hom_culposo`\n",
    "#valor máximo\n",
    "df.hom_culposo.max()"
   ]
  },
  {
   "cell_type": "code",
   "execution_count": 50,
   "id": "bb2de2b0",
   "metadata": {},
   "outputs": [
    {
     "data": {
      "text/plain": [
       "111.0"
      ]
     },
     "execution_count": 50,
     "metadata": {},
     "output_type": "execute_result"
    }
   ],
   "source": [
    "#valor mínimo\n",
    "df.hom_culposo.min()"
   ]
  },
  {
   "cell_type": "code",
   "execution_count": 55,
   "id": "146fb253",
   "metadata": {},
   "outputs": [
    {
     "data": {
      "text/plain": [
       "212.11923076923077"
      ]
     },
     "execution_count": 55,
     "metadata": {},
     "output_type": "execute_result"
    }
   ],
   "source": [
    "# média de homicídios culposos\n",
    "df.hom_culposo.mean()"
   ]
  },
  {
   "cell_type": "code",
   "execution_count": 52,
   "id": "ad3703c9",
   "metadata": {},
   "outputs": [
    {
     "data": {
      "text/plain": [
       "54.234700308499114"
      ]
     },
     "execution_count": 52,
     "metadata": {},
     "output_type": "execute_result"
    }
   ],
   "source": [
    "# Desvio padrão do homiício culposo\n",
    "df.hom_culposo.std()"
   ]
  },
  {
   "cell_type": "markdown",
   "id": "cf32f670",
   "metadata": {},
   "source": [
    "Podemos observar que ambos possuem um desvio padrão alto, o que é um indicativo dos dados não serem constantes e diferirem em seus valores, sendo o homícidio doloso com uma taxa maior de dispersão."
   ]
  },
  {
   "cell_type": "markdown",
   "id": "e2580110",
   "metadata": {},
   "source": [
    "## Visualização de Dados\n",
    "\n",
    "Breve contextualização...\n",
    "\n",
    "Plote e comente os seguintes gráficos:\n",
    "\n",
    "* Histograma de `hom_doloso`\n",
    "* Gráfico de linhas para a variável `roubo_em_coletivo`\n"
   ]
  },
  {
   "cell_type": "code",
   "execution_count": null,
   "id": "4689a155",
   "metadata": {},
   "outputs": [],
   "source": []
  }
 ],
 "metadata": {
  "kernelspec": {
   "display_name": "Python 3",
   "language": "python",
   "name": "python3"
  },
  "language_info": {
   "codemirror_mode": {
    "name": "ipython",
    "version": 3
   },
   "file_extension": ".py",
   "mimetype": "text/x-python",
   "name": "python",
   "nbconvert_exporter": "python",
   "pygments_lexer": "ipython3",
   "version": "3.8.8"
  }
 },
 "nbformat": 4,
 "nbformat_minor": 5
}
