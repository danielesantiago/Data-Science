{
 "cells": [
  {
   "cell_type": "markdown",
   "id": "6d7d4b72",
   "metadata": {},
   "source": [
    "# Panorama da COVID-19"
   ]
  },
  {
   "cell_type": "markdown",
   "id": "65571596",
   "metadata": {},
   "source": [
    "A COVID-19 é a doença causada por um novo coronavírus denominado SARS-CoV-2. A Organização Mundial da Saúde (OMS) tomou conhecimento deste novo vírus em 31 de dezembro de 2019, após receber a notificação de um grupo de casos de “pneumonia viral” em Wuhan, na República Popular da China. Transmitido principalmente através de gotículas provenientes de tosses ou espirros de pessoas infectadas, a gravidade dos sintomas varia muito de pessoa para pessoa.\n",
    "\n",
    "Fato é, não se sabe muita coisa a respeito do COVID-19. Estudos estão sendo realizados no mundo todo, porém os resultados ainda não são conclusivos e definitivos.\n",
    "\n",
    "<center><img width=\"100%\" src=\"Arquivos/covid.jpg\"></center>\n",
    "\n",
    "Diversas decisões foram tomadas para evitar a propagação da doença, como fechamento de locais de trabalho e a suspensão ou redução de atividades. Até o presente momento, observa-se que cerca de 80% dos casos confirmados são assintomáticos e rápidos. A maioria das pessoas que se encaixam nesse grupo, se recupera sem nenhuma sequela.\n",
    "\n",
    "No entanto, 15% das pessoas terão infecções graves e precisarão de oxigênio. O restante das pessoas, que representam 5%, serão classificadas como infecções muito graves e precisarão de ventilação assistida, por meio de respiradores mecânicos em ambiente hospitalar.\n",
    "\n",
    "O objetivo desse projeto, portanto, é elevar a consciência situacional a respeito do COVID-19 no Brasil, onde será analisado dados públicos da doença."
   ]
  },
  {
   "cell_type": "markdown",
   "id": "cec46e82",
   "metadata": {},
   "source": [
    "## Obtenção dos Dados\n",
    "\n",
    "Os dados utilizados estão disponíveis em um repositório do <a href=\"https://github.com/owid/covid-19-data/tree/master/public/data\">github</a>, e são provenientes do <a href=\"https://ourworldindata.org/coronavirus\">Our World in Data</a> (OWID), uma publicação online científica que que se concentra em grandes problemas globais, como pobreza, doenças, fome, mudanças climáticas, guerra, riscos existenciais e desigualdade. \n",
    "\n",
    "Por se tratar de uma doença nova, que ainda está sendo estudada, é necessário seguir uma metodologia de modo a evitar vieses que possam atrapalhar os resultados. Uma limpeza dos dados é necessário, principalmente em hospitais centrais, bem como ter fontes de informações relevantes. Por exemplo, a OMS criou uma coleção de artigos sobre a COVID-19, compilados em um banco de dados disponível publicamente. Em 30 de março de 2020 esta base de dados já contava com 3294 artigos. Por fim, existem muitos desafios metodológicos relacionados à análise de dados durante uma pandemia."
   ]
  },
  {
   "cell_type": "markdown",
   "id": "35e010c6",
   "metadata": {},
   "source": [
    "## Análise dos Dados\n",
    "\n",
    "Esta etapa tem por objetivo criar uma consciência situacional inicial e permitir um entendimento de como os dados estão estruturados.\n",
    "\n",
    "**Dicionário das variáveis**\n",
    "\n",
    "* `iso_code` - Código do país de três letras\n",
    "* `continent` - Continente da localização geográfica\n",
    "* `location` - Localização geográfica\n",
    "* `date` - Data da observação\n",
    "* `total_cases` - Total de casos confirmados de COVID-19. As contagens podem incluir casos prováveis, quando relatados.\n",
    "* `new_cases` - Novos casos confirmados de COVID-19. As contagens podem incluir casos prováveis, quando relatados. Em casos raros em que nossa fonte relata uma mudança diária negativa devido a uma correção de dados, definimos essa métrica como NA.\n",
    "* `new_cases_smoothed` - Novos casos confirmados de COVID-19 (suavizado de 7 dias). As contagens podem incluir casos prováveis, quando relatados. \n",
    "* `total_deaths` - Total de mortes atribuídas ao COVID-19. As contagens podem incluir mortes prováveis, quando relatadas.\n",
    "* `new_deaths` - Novas mortes atribuídas ao COVID-19. As contagens podem incluir mortes prováveis, quando relatadas. Em casos raros em que nossa fonte relata uma mudança diária negativa devido a uma correção de dados, definimos essa métrica como NA.\n",
    "* `new_deaths_smoothed` - Novas mortes atribuídas ao COVID-19 (suavizado de 7 dias). As contagens podem incluir mortes prováveis, quando relatadas.\n",
    "* `total_cases_per_million` - Total de casos confirmados de COVID-19 por 1.000.000 de pessoas. As contagens podem incluir casos prováveis, quando relatados.\n",
    "* `new_cases_per_million` - Novos casos confirmados de COVID-19 por 1.000.000 de pessoas. As contagens podem incluir casos prováveis, quando relatados.\n",
    "* `new_cases_smoothed_per_million` - Novos casos confirmados de COVID-19 (suavizado em 7 dias) por 1.000.000 de pessoas. As contagens podem incluir casos prováveis, quando relatados. \n",
    "* `total_deaths_per_million` - Total de mortes atribuídas ao COVID-19 por 1.000.000 de pessoas. As contagens podem incluir mortes prováveis, quando relatadas.\n",
    "* `new_deaths_per_million` - Novas mortes atribuídas ao COVID-19 por 1.000.000 de pessoas. As contagens podem incluir mortes prováveis, quando relatadas.\n",
    "* `new_deaths_smoothed_per_million` - Novas mortes atribuídas ao COVID-19 (suavizado de 7 dias) por 1.000.000 de pessoas. As contagens podem incluir mortes prováveis, quando relatadas.\n",
    "* `reproduction_rate` - Estimativa em tempo real da taxa efetiva de reprodução (R) do COVID-19\n",
    "* `icu_patients` - Número de pacientes com COVID-19 em unidades de terapia intensiva (UTIs) em um determinado dia\n",
    "* `icu_patients_per_million` - Número de pacientes com COVID-19 em unidades de terapia intensiva (UTIs) em um determinado dia por 1.000.000 pessoas\n",
    "* `hosp_patients` - Número de pacientes com COVID-19 no hospital em um determinado dia\n",
    "* `hosp_patients_per_million` - Número de pacientes com COVID-19 no hospital em um determinado dia por 1.000.000 de pessoas\n",
    "* `weekly_icu_admissions` - Número de pacientes com COVID-19 recém-admitidos em unidades de terapia intensiva (UTIs) em uma determinada semana\n",
    "* `weekly_icu_admissions_per_million` - Número de pacientes com COVID-19 recém-admitidos em unidades de terapia intensiva (UTIs) em uma determinada semana por 1.000.000 de pessoas\n",
    "* `weekly_hosp_admissions` - Número de pacientes com COVID-19 recém-admitidos em hospitais em uma determinada semana\n",
    "* `weekly_hosp_admissions_per_million` - Número de pacientes com COVID-19 recém-admitidos em hospitais em uma determinada semana por 1.000.000 de pessoas\n",
    "* `total_tests` - Total de testes para COVID-19\n",
    "* `new_tests` - Novos testes para COVID-19 (calculado apenas para dias consecutivos)\n",
    "* `total_tests_per_thousand` - Total de testes para COVID-19 por 1.000 pessoas\n",
    "* `new_tests_per_thousand` - Novos testes para COVID-19 por 1.000 pessoas\n",
    "* `new_tests_smoothed` - Novos testes para COVID-19 (suavizado de 7 dias). Para países que não relatam dados de teste diariamente, assumimos que os testes mudaram igualmente diariamente em todos os períodos em que nenhum dado foi relatado. Isso produz uma série completa de números diários, que são então calculados em uma janela contínua de 7 dias\n",
    "* `new_tests_smoothed_per_thousand` - Novos testes para COVID-19 (suavizado de 7 dias) por 1.000 pessoas\n",
    "* `positive_rate` - A parcela de testes COVID-19 positivos, dada como uma média contínua de 7 dias (este é o inverso de tests_per_case)\n",
    "* `tests_per_case` - Testes realizados por novo caso confirmado de COVID-19, dados como uma média contínua de 7 dias (este é o inverso de positive_rate)\n",
    "* `tests_units` - Unidades usadas pelo local para relatar seus dados de teste\n",
    "* `total_vaccinations` - Número total de doses de vacinação COVID-19 administradas\n",
    "* `people_vaccinated` - Número total de pessoas que receberam pelo menos uma dose de vacina\n",
    "* `people_fully_vaccinated` - Número total de pessoas que receberam todas as doses prescritas pelo protocolo de vacinação inicial\n",
    "* `total_boosters` - Número total de doses de reforço de vacinação COVID-19 administradas (doses administradas além do número prescrito pelo protocolo de vacinação)\n",
    "* `new_vaccinations` - Novas doses de vacinação COVID-19 administradas (calculadas apenas para dias consecutivos)\n",
    "* `new_vaccinations_smoothed` - Novas doses de vacinação COVID-19 administradas (suavizado por 7 dias). Para países que não relatam dados de vacinação diariamente, assumimos que a vacinação mudou igualmente diariamente em todos os períodos em que nenhum dado foi relatado. Isso produz uma série completa de números diários, que são então calculados em uma janela contínua de 7 dias\n",
    "* `total_vaccinations_per_hundred` - Número total de doses de vacinação COVID-19 administradas por 100 pessoas na população total\n",
    "* `people_vaccinated_per_hundred` - Número total de pessoas que receberam pelo menos uma dose de vacina por 100 pessoas na população total\n",
    "* `people_fully_vaccinated_per_hundred` - Número total de pessoas que receberam todas as doses prescritas pelo protocolo de vacinação inicial por 100 pessoas na população total\n",
    "* `total_boosters_per_hundred` - Número total de doses de reforço de vacinação COVID-19 administradas por 100 pessoas na população total\n",
    "* `new_vaccinations_smoothed_per_million` - Novas doses de vacinação COVID-19 administradas (suavizadas em 7 dias) por 1.000.000 de pessoas na população total\n",
    "* `new_people_vaccinated_smoothed` - Número diário de pessoas que recebem sua primeira dose de vacina (suavizado de 7 dias)\n",
    "* `new_people_vaccinated_smoothed_per_hundred` - Número diário de pessoas que recebem sua primeira dose de vacina (suavizado de 7 dias) por 100 pessoas na população total\n",
    "* `stringency_index` - Índice de Rigidez de Resposta do Governo: medida composta com base em 9 indicadores de resposta, incluindo fechamento de escolas, fechamento de locais de trabalho e proibição de viagens, reescalonado para um valor de 0 a 100 (100 = resposta mais rigorosa)\n",
    "* `population` - População (últimos valores disponíveis).\n",
    "* `population_density` - Número de pessoas dividido por área de terra, medido em quilômetros quadrados, ano mais recente disponível\n",
    "* `median_age` - Idade média da população, projeção da ONU para 2020\n",
    "* `aged_65_older` - Parcela da população com 65 anos ou mais, ano mais recente disponível\n",
    "* `aged_70_older` - Parcela da população com 70 anos ou mais em 2015\n",
    "* `gdp_per_capita` - Produto interno bruto em paridade de poder de compra (dólares internacionais constantes de 2011), ano mais recente disponível\n",
    "* `extreme_poverty` - Percentual da população que vive em extrema pobreza, ano mais recente disponível desde 2010\n",
    "* `cardiovasc_death_rate` - Taxa de mortalidade por doença cardiovascular em 2017 (número anual de mortes por 100.000 pessoas)\n",
    "* `diabetes_prevalence` - Prevalência de diabetes (% da população de 20 a 79 anos) em 2017\n",
    "* `female_smokers` - Proporção de mulheres que fumam, ano mais recente disponível\n",
    "* `male_smokers` - Proporção de homens que fumam, ano mais recente disponível\n",
    "* `handwashing_facilities` - Percentagem da população com instalações básicas de lavagem das mãos nas instalações, ano mais recente disponível\n",
    "* `hospital_beds_per_thousand` - Camas hospitalares por 1.000 pessoas, ano mais recente disponível desde 2010\n",
    "* `life_expectancy` - Expectativa de vida ao nascer em 2019\n",
    "* `human_development_index` - Um índice composto que mede o desempenho médio em três dimensões básicas do desenvolvimento humano – uma vida longa e saudável, conhecimento e um padrão de vida decente.\n",
    "* `excess_mortality_cumulative_absolute` - Diferença cumulativa entre o número relatado de óbitos desde 1º de janeiro de 2020 e o número projetado de óbitos para o mesmo período com base em anos anteriores\n",
    "* `excess_mortality_cumulative` - Diferença percentual entre o número acumulado de mortes desde 1 de janeiro de 2020 e as mortes cumulativas projetadas para o mesmo período com base em anos anteriores.\n",
    "* `excess_mortality` - Diferença percentual entre o número relatado de mortes semanais ou mensais em 2020-2021 e o número projetado de mortes para o mesmo período com base em anos anteriores.\n",
    "* `excess_mortality_cumulative_per_million` - Diferença cumulativa entre o número de mortes relatado desde 1º de janeiro de 2020 e o número projetado de mortes para o mesmo período com base em anos anteriores, por milhão de pessoas.\n"
   ]
  },
  {
   "cell_type": "markdown",
   "id": "5282db9e",
   "metadata": {},
   "source": [
    "### Importando os dados do COVID-19"
   ]
  },
  {
   "cell_type": "code",
   "execution_count": 1,
   "id": "8b72ccb5",
   "metadata": {},
   "outputs": [],
   "source": [
    "# importar as bibliotecas necessárias\n",
    "import pandas as pd\n",
    "import matplotlib.pyplot as plt\n",
    "import numpy as np\n",
    "import seaborn as sns\n",
    "import missingno\n",
    "import folium\n",
    "import math\n",
    "from scipy import stats\n",
    "\n",
    "%matplotlib inline\n",
    "# tamanho dos gráficos\n",
    "plt.rcParams[\"figure.figsize\"] = [10,5]\n",
    "# tamanho dos dados\n",
    "plt.rcParams[\"font.size\"] = 12\n",
    "# tamanho das colunas a exibir os dados\n",
    "pd.set_option('display.max_rows', 67)"
   ]
  },
  {
   "cell_type": "code",
   "execution_count": 2,
   "id": "0afa8e45",
   "metadata": {},
   "outputs": [],
   "source": [
    "# importar o dataframe em csv\n",
    "df = pd.read_csv(\"https://raw.githubusercontent.com/owid/covid-19-data/master/public/data/owid-covid-data.csv\")"
   ]
  },
  {
   "cell_type": "markdown",
   "id": "b0478ac7",
   "metadata": {},
   "source": [
    "## Análise Exploratória dos Dados\n",
    "\n",
    "Na análise exploratória de dados da COVID-19 será efetuada uma explanação inicial das variáveis contidas na dataset, e entenderemos dados referentes a casos da doença, vacinação, mortes, com a criação de gráficos. Buscaremos ainda responder as seguintes perguntas:\n",
    "\n",
    "* *Quais os 5 países com mais casos de COVID-19?* \n",
    "* *Quais os 5 países com mais mortes registradas?* \n",
    "* *Quais os 5 países com mais pessoas vacinadas?* \n",
    "* *Há correlação entre idade e número de mortes totais?* \n",
    "\n"
   ]
  },
  {
   "cell_type": "markdown",
   "id": "c993ce76",
   "metadata": {},
   "source": [
    "### Análise Exploratória no Mundo"
   ]
  },
  {
   "cell_type": "markdown",
   "id": "d1019b20",
   "metadata": {},
   "source": [
    "Primeiramente, visualizaremos as cinco primeiras entradas do dataset."
   ]
  },
  {
   "cell_type": "code",
   "execution_count": 3,
   "id": "e3db4764",
   "metadata": {},
   "outputs": [
    {
     "data": {
      "text/html": [
       "<div>\n",
       "<style scoped>\n",
       "    .dataframe tbody tr th:only-of-type {\n",
       "        vertical-align: middle;\n",
       "    }\n",
       "\n",
       "    .dataframe tbody tr th {\n",
       "        vertical-align: top;\n",
       "    }\n",
       "\n",
       "    .dataframe thead th {\n",
       "        text-align: right;\n",
       "    }\n",
       "</style>\n",
       "<table border=\"1\" class=\"dataframe\">\n",
       "  <thead>\n",
       "    <tr style=\"text-align: right;\">\n",
       "      <th></th>\n",
       "      <th>iso_code</th>\n",
       "      <th>continent</th>\n",
       "      <th>location</th>\n",
       "      <th>date</th>\n",
       "      <th>total_cases</th>\n",
       "      <th>new_cases</th>\n",
       "      <th>new_cases_smoothed</th>\n",
       "      <th>total_deaths</th>\n",
       "      <th>new_deaths</th>\n",
       "      <th>new_deaths_smoothed</th>\n",
       "      <th>...</th>\n",
       "      <th>female_smokers</th>\n",
       "      <th>male_smokers</th>\n",
       "      <th>handwashing_facilities</th>\n",
       "      <th>hospital_beds_per_thousand</th>\n",
       "      <th>life_expectancy</th>\n",
       "      <th>human_development_index</th>\n",
       "      <th>excess_mortality_cumulative_absolute</th>\n",
       "      <th>excess_mortality_cumulative</th>\n",
       "      <th>excess_mortality</th>\n",
       "      <th>excess_mortality_cumulative_per_million</th>\n",
       "    </tr>\n",
       "  </thead>\n",
       "  <tbody>\n",
       "    <tr>\n",
       "      <th>0</th>\n",
       "      <td>AFG</td>\n",
       "      <td>Asia</td>\n",
       "      <td>Afghanistan</td>\n",
       "      <td>2020-02-24</td>\n",
       "      <td>5.0</td>\n",
       "      <td>5.0</td>\n",
       "      <td>NaN</td>\n",
       "      <td>NaN</td>\n",
       "      <td>NaN</td>\n",
       "      <td>NaN</td>\n",
       "      <td>...</td>\n",
       "      <td>NaN</td>\n",
       "      <td>NaN</td>\n",
       "      <td>37.746</td>\n",
       "      <td>0.5</td>\n",
       "      <td>64.83</td>\n",
       "      <td>0.511</td>\n",
       "      <td>NaN</td>\n",
       "      <td>NaN</td>\n",
       "      <td>NaN</td>\n",
       "      <td>NaN</td>\n",
       "    </tr>\n",
       "    <tr>\n",
       "      <th>1</th>\n",
       "      <td>AFG</td>\n",
       "      <td>Asia</td>\n",
       "      <td>Afghanistan</td>\n",
       "      <td>2020-02-25</td>\n",
       "      <td>5.0</td>\n",
       "      <td>0.0</td>\n",
       "      <td>NaN</td>\n",
       "      <td>NaN</td>\n",
       "      <td>NaN</td>\n",
       "      <td>NaN</td>\n",
       "      <td>...</td>\n",
       "      <td>NaN</td>\n",
       "      <td>NaN</td>\n",
       "      <td>37.746</td>\n",
       "      <td>0.5</td>\n",
       "      <td>64.83</td>\n",
       "      <td>0.511</td>\n",
       "      <td>NaN</td>\n",
       "      <td>NaN</td>\n",
       "      <td>NaN</td>\n",
       "      <td>NaN</td>\n",
       "    </tr>\n",
       "    <tr>\n",
       "      <th>2</th>\n",
       "      <td>AFG</td>\n",
       "      <td>Asia</td>\n",
       "      <td>Afghanistan</td>\n",
       "      <td>2020-02-26</td>\n",
       "      <td>5.0</td>\n",
       "      <td>0.0</td>\n",
       "      <td>NaN</td>\n",
       "      <td>NaN</td>\n",
       "      <td>NaN</td>\n",
       "      <td>NaN</td>\n",
       "      <td>...</td>\n",
       "      <td>NaN</td>\n",
       "      <td>NaN</td>\n",
       "      <td>37.746</td>\n",
       "      <td>0.5</td>\n",
       "      <td>64.83</td>\n",
       "      <td>0.511</td>\n",
       "      <td>NaN</td>\n",
       "      <td>NaN</td>\n",
       "      <td>NaN</td>\n",
       "      <td>NaN</td>\n",
       "    </tr>\n",
       "    <tr>\n",
       "      <th>3</th>\n",
       "      <td>AFG</td>\n",
       "      <td>Asia</td>\n",
       "      <td>Afghanistan</td>\n",
       "      <td>2020-02-27</td>\n",
       "      <td>5.0</td>\n",
       "      <td>0.0</td>\n",
       "      <td>NaN</td>\n",
       "      <td>NaN</td>\n",
       "      <td>NaN</td>\n",
       "      <td>NaN</td>\n",
       "      <td>...</td>\n",
       "      <td>NaN</td>\n",
       "      <td>NaN</td>\n",
       "      <td>37.746</td>\n",
       "      <td>0.5</td>\n",
       "      <td>64.83</td>\n",
       "      <td>0.511</td>\n",
       "      <td>NaN</td>\n",
       "      <td>NaN</td>\n",
       "      <td>NaN</td>\n",
       "      <td>NaN</td>\n",
       "    </tr>\n",
       "    <tr>\n",
       "      <th>4</th>\n",
       "      <td>AFG</td>\n",
       "      <td>Asia</td>\n",
       "      <td>Afghanistan</td>\n",
       "      <td>2020-02-28</td>\n",
       "      <td>5.0</td>\n",
       "      <td>0.0</td>\n",
       "      <td>NaN</td>\n",
       "      <td>NaN</td>\n",
       "      <td>NaN</td>\n",
       "      <td>NaN</td>\n",
       "      <td>...</td>\n",
       "      <td>NaN</td>\n",
       "      <td>NaN</td>\n",
       "      <td>37.746</td>\n",
       "      <td>0.5</td>\n",
       "      <td>64.83</td>\n",
       "      <td>0.511</td>\n",
       "      <td>NaN</td>\n",
       "      <td>NaN</td>\n",
       "      <td>NaN</td>\n",
       "      <td>NaN</td>\n",
       "    </tr>\n",
       "  </tbody>\n",
       "</table>\n",
       "<p>5 rows × 67 columns</p>\n",
       "</div>"
      ],
      "text/plain": [
       "  iso_code continent     location        date  total_cases  new_cases  \\\n",
       "0      AFG      Asia  Afghanistan  2020-02-24          5.0        5.0   \n",
       "1      AFG      Asia  Afghanistan  2020-02-25          5.0        0.0   \n",
       "2      AFG      Asia  Afghanistan  2020-02-26          5.0        0.0   \n",
       "3      AFG      Asia  Afghanistan  2020-02-27          5.0        0.0   \n",
       "4      AFG      Asia  Afghanistan  2020-02-28          5.0        0.0   \n",
       "\n",
       "   new_cases_smoothed  total_deaths  new_deaths  new_deaths_smoothed  ...  \\\n",
       "0                 NaN           NaN         NaN                  NaN  ...   \n",
       "1                 NaN           NaN         NaN                  NaN  ...   \n",
       "2                 NaN           NaN         NaN                  NaN  ...   \n",
       "3                 NaN           NaN         NaN                  NaN  ...   \n",
       "4                 NaN           NaN         NaN                  NaN  ...   \n",
       "\n",
       "   female_smokers  male_smokers  handwashing_facilities  \\\n",
       "0             NaN           NaN                  37.746   \n",
       "1             NaN           NaN                  37.746   \n",
       "2             NaN           NaN                  37.746   \n",
       "3             NaN           NaN                  37.746   \n",
       "4             NaN           NaN                  37.746   \n",
       "\n",
       "   hospital_beds_per_thousand  life_expectancy  human_development_index  \\\n",
       "0                         0.5            64.83                    0.511   \n",
       "1                         0.5            64.83                    0.511   \n",
       "2                         0.5            64.83                    0.511   \n",
       "3                         0.5            64.83                    0.511   \n",
       "4                         0.5            64.83                    0.511   \n",
       "\n",
       "   excess_mortality_cumulative_absolute  excess_mortality_cumulative  \\\n",
       "0                                   NaN                          NaN   \n",
       "1                                   NaN                          NaN   \n",
       "2                                   NaN                          NaN   \n",
       "3                                   NaN                          NaN   \n",
       "4                                   NaN                          NaN   \n",
       "\n",
       "   excess_mortality  excess_mortality_cumulative_per_million  \n",
       "0               NaN                                      NaN  \n",
       "1               NaN                                      NaN  \n",
       "2               NaN                                      NaN  \n",
       "3               NaN                                      NaN  \n",
       "4               NaN                                      NaN  \n",
       "\n",
       "[5 rows x 67 columns]"
      ]
     },
     "execution_count": 3,
     "metadata": {},
     "output_type": "execute_result"
    }
   ],
   "source": [
    "# Visualizar as 5 primeiras entradas\n",
    "df.head()"
   ]
  },
  {
   "cell_type": "code",
   "execution_count": 4,
   "id": "86654624",
   "metadata": {},
   "outputs": [
    {
     "name": "stdout",
     "output_type": "stream",
     "text": [
      "Entradas:  182249\n",
      "Variáveis:  67\n"
     ]
    }
   ],
   "source": [
    "# Visualizar o tamanho do dataframe\n",
    "print(\"Entradas: \", df.shape[0])\n",
    "print(\"Variáveis: \", df.shape[1])"
   ]
  },
  {
   "cell_type": "code",
   "execution_count": 5,
   "id": "018964f1",
   "metadata": {},
   "outputs": [
    {
     "data": {
      "text/plain": [
       "Index(['iso_code', 'continent', 'location', 'date', 'total_cases', 'new_cases',\n",
       "       'new_cases_smoothed', 'total_deaths', 'new_deaths',\n",
       "       'new_deaths_smoothed', 'total_cases_per_million',\n",
       "       'new_cases_per_million', 'new_cases_smoothed_per_million',\n",
       "       'total_deaths_per_million', 'new_deaths_per_million',\n",
       "       'new_deaths_smoothed_per_million', 'reproduction_rate', 'icu_patients',\n",
       "       'icu_patients_per_million', 'hosp_patients',\n",
       "       'hosp_patients_per_million', 'weekly_icu_admissions',\n",
       "       'weekly_icu_admissions_per_million', 'weekly_hosp_admissions',\n",
       "       'weekly_hosp_admissions_per_million', 'total_tests', 'new_tests',\n",
       "       'total_tests_per_thousand', 'new_tests_per_thousand',\n",
       "       'new_tests_smoothed', 'new_tests_smoothed_per_thousand',\n",
       "       'positive_rate', 'tests_per_case', 'tests_units', 'total_vaccinations',\n",
       "       'people_vaccinated', 'people_fully_vaccinated', 'total_boosters',\n",
       "       'new_vaccinations', 'new_vaccinations_smoothed',\n",
       "       'total_vaccinations_per_hundred', 'people_vaccinated_per_hundred',\n",
       "       'people_fully_vaccinated_per_hundred', 'total_boosters_per_hundred',\n",
       "       'new_vaccinations_smoothed_per_million',\n",
       "       'new_people_vaccinated_smoothed',\n",
       "       'new_people_vaccinated_smoothed_per_hundred', 'stringency_index',\n",
       "       'population', 'population_density', 'median_age', 'aged_65_older',\n",
       "       'aged_70_older', 'gdp_per_capita', 'extreme_poverty',\n",
       "       'cardiovasc_death_rate', 'diabetes_prevalence', 'female_smokers',\n",
       "       'male_smokers', 'handwashing_facilities', 'hospital_beds_per_thousand',\n",
       "       'life_expectancy', 'human_development_index',\n",
       "       'excess_mortality_cumulative_absolute', 'excess_mortality_cumulative',\n",
       "       'excess_mortality', 'excess_mortality_cumulative_per_million'],\n",
       "      dtype='object')"
      ]
     },
     "execution_count": 5,
     "metadata": {},
     "output_type": "execute_result"
    }
   ],
   "source": [
    "# Extrair o nome das colunas\n",
    "df.columns"
   ]
  },
  {
   "cell_type": "code",
   "execution_count": 6,
   "id": "dbfb6b20",
   "metadata": {},
   "outputs": [
    {
     "data": {
      "text/plain": [
       "iso_code                                       object\n",
       "continent                                      object\n",
       "location                                       object\n",
       "date                                           object\n",
       "total_cases                                   float64\n",
       "new_cases                                     float64\n",
       "new_cases_smoothed                            float64\n",
       "total_deaths                                  float64\n",
       "new_deaths                                    float64\n",
       "new_deaths_smoothed                           float64\n",
       "total_cases_per_million                       float64\n",
       "new_cases_per_million                         float64\n",
       "new_cases_smoothed_per_million                float64\n",
       "total_deaths_per_million                      float64\n",
       "new_deaths_per_million                        float64\n",
       "new_deaths_smoothed_per_million               float64\n",
       "reproduction_rate                             float64\n",
       "icu_patients                                  float64\n",
       "icu_patients_per_million                      float64\n",
       "hosp_patients                                 float64\n",
       "hosp_patients_per_million                     float64\n",
       "weekly_icu_admissions                         float64\n",
       "weekly_icu_admissions_per_million             float64\n",
       "weekly_hosp_admissions                        float64\n",
       "weekly_hosp_admissions_per_million            float64\n",
       "total_tests                                   float64\n",
       "new_tests                                     float64\n",
       "total_tests_per_thousand                      float64\n",
       "new_tests_per_thousand                        float64\n",
       "new_tests_smoothed                            float64\n",
       "new_tests_smoothed_per_thousand               float64\n",
       "positive_rate                                 float64\n",
       "tests_per_case                                float64\n",
       "tests_units                                    object\n",
       "total_vaccinations                            float64\n",
       "people_vaccinated                             float64\n",
       "people_fully_vaccinated                       float64\n",
       "total_boosters                                float64\n",
       "new_vaccinations                              float64\n",
       "new_vaccinations_smoothed                     float64\n",
       "total_vaccinations_per_hundred                float64\n",
       "people_vaccinated_per_hundred                 float64\n",
       "people_fully_vaccinated_per_hundred           float64\n",
       "total_boosters_per_hundred                    float64\n",
       "new_vaccinations_smoothed_per_million         float64\n",
       "new_people_vaccinated_smoothed                float64\n",
       "new_people_vaccinated_smoothed_per_hundred    float64\n",
       "stringency_index                              float64\n",
       "population                                    float64\n",
       "population_density                            float64\n",
       "median_age                                    float64\n",
       "aged_65_older                                 float64\n",
       "aged_70_older                                 float64\n",
       "gdp_per_capita                                float64\n",
       "extreme_poverty                               float64\n",
       "cardiovasc_death_rate                         float64\n",
       "diabetes_prevalence                           float64\n",
       "female_smokers                                float64\n",
       "male_smokers                                  float64\n",
       "handwashing_facilities                        float64\n",
       "hospital_beds_per_thousand                    float64\n",
       "life_expectancy                               float64\n",
       "human_development_index                       float64\n",
       "excess_mortality_cumulative_absolute          float64\n",
       "excess_mortality_cumulative                   float64\n",
       "excess_mortality                              float64\n",
       "excess_mortality_cumulative_per_million       float64\n",
       "dtype: object"
      ]
     },
     "execution_count": 6,
     "metadata": {},
     "output_type": "execute_result"
    }
   ],
   "source": [
    "# Extrair o tipo das variáveis\n",
    "df.dtypes"
   ]
  },
  {
   "cell_type": "code",
   "execution_count": 7,
   "id": "3ef39fcc",
   "metadata": {},
   "outputs": [
    {
     "data": {
      "text/plain": [
       "iso_code                                       0.000000\n",
       "location                                       0.000000\n",
       "date                                           0.000000\n",
       "population                                     0.618933\n",
       "total_cases                                    3.770665\n",
       "new_cases                                      3.876016\n",
       "total_cases_per_million                        4.215661\n",
       "new_cases_per_million                          4.321011\n",
       "new_cases_smoothed                             4.517446\n",
       "new_cases_smoothed_per_million                 4.959698\n",
       "continent                                      5.846946\n",
       "life_expectancy                                6.513616\n",
       "population_density                            10.921322\n",
       "diabetes_prevalence                           13.600623\n",
       "new_deaths                                    13.770172\n",
       "total_deaths                                  13.780048\n",
       "new_deaths_per_million                        14.208034\n",
       "total_deaths_per_million                      14.217911\n",
       "new_deaths_smoothed                           14.401176\n",
       "new_deaths_smoothed_per_million               14.836295\n",
       "median_age                                    17.449753\n",
       "cardiovasc_death_rate                         17.628080\n",
       "gdp_per_capita                                17.644541\n",
       "aged_70_older                                 17.884872\n",
       "aged_65_older                                 18.328770\n",
       "human_development_index                       19.519449\n",
       "stringency_index                              21.883248\n",
       "reproduction_rate                             25.306586\n",
       "hospital_beds_per_thousand                    26.934030\n",
       "female_smokers                                37.496502\n",
       "male_smokers                                  38.353023\n",
       "extreme_poverty                               46.208758\n",
       "tests_units                                   46.547306\n",
       "new_vaccinations_smoothed_per_million         47.514664\n",
       "new_vaccinations_smoothed                     47.514664\n",
       "new_tests_smoothed                            48.039221\n",
       "new_tests_smoothed_per_thousand               48.039221\n",
       "new_people_vaccinated_smoothed_per_hundred    48.092994\n",
       "new_people_vaccinated_smoothed                48.092994\n",
       "positive_rate                                 49.877366\n",
       "tests_per_case                                50.570373\n",
       "total_tests_per_thousand                      58.904576\n",
       "total_tests                                   58.904576\n",
       "handwashing_facilities                        59.409379\n",
       "new_tests                                     60.392101\n",
       "new_tests_per_thousand                        60.392101\n",
       "total_vaccinations                            72.789425\n",
       "total_vaccinations_per_hundred                72.789425\n",
       "people_vaccinated                             74.121120\n",
       "people_vaccinated_per_hundred                 74.121120\n",
       "people_fully_vaccinated                       75.504392\n",
       "people_fully_vaccinated_per_hundred           75.504392\n",
       "new_vaccinations                              77.637189\n",
       "hosp_patients_per_million                     85.872076\n",
       "hosp_patients                                 85.872076\n",
       "icu_patients_per_million                      86.279211\n",
       "icu_patients                                  86.279211\n",
       "total_boosters                                87.809535\n",
       "total_boosters_per_hundred                    87.809535\n",
       "weekly_hosp_admissions_per_million            93.520403\n",
       "weekly_hosp_admissions                        93.520403\n",
       "excess_mortality_cumulative                   96.533863\n",
       "excess_mortality_cumulative_absolute          96.533863\n",
       "excess_mortality                              96.533863\n",
       "excess_mortality_cumulative_per_million       96.533863\n",
       "weekly_icu_admissions_per_million             96.768158\n",
       "weekly_icu_admissions                         96.768158\n",
       "dtype: float64"
      ]
     },
     "execution_count": 7,
     "metadata": {},
     "output_type": "execute_result"
    }
   ],
   "source": [
    "# Porcentagem de itens nulos\n",
    "(df.isnull().sum()/df.shape[0]).sort_values(ascending = True) * 100"
   ]
  },
  {
   "cell_type": "markdown",
   "id": "39c02636",
   "metadata": {},
   "source": [
    "Com o resultado obtido podemos observar a porcentagem de valores ausentes, haja vista que dividimos sua soma pelo número de linhas do conjunto de dados. Vejamos ainda que muitas variáveis apresentam valores faltantes (NaN - Not a Number), onde algumas alcançam mais de 90%.\n",
    "\n",
    "Avaliaremos os motivos para os valores ausentes,a começar pelos dados referentes a excess_mortality, `excess_mortality_cumulative`, `excess_mortality_cumulative_absolute`,  e `excess_mortality_cumulative_per_million`.\n",
    "\n",
    "Excesso de mortalidade é um termo usado em epidemiologia e saúde pública que se refere ao número de mortes por todas as causas durante uma crise acima e além do que esperávamos ver em condições “normais”. No caso da base de dados, o interesse é em saber como o número de mortes durante a pandemia de COVID-19 se compara às mortes que esperávamos se a pandemia não tivesse ocorrido  — uma quantidade que não pode ser conhecida, mas pode ser estimada de várias maneiras. Ele captura não apenas as mortes confirmadas, mas também as mortes por COVID-19 que não foram diagnosticadas e relatadas corretamente, bem como as mortes por outras causas atribuíveis às condições gerais de crise.\n",
    "\n",
    "As razões para tais variáveis conterem dados ausentes, são, principalmente:\n",
    "\n",
    "1. Nem todos os países têm infraestrutura e capacidade para registrar e relatar todas as mortes. Nos países mais ricos com sistemas de notificação de mortalidade de alta qualidade, quase 100% das mortes são registradas, mas em muitos países de baixa e média renda, a subcontagem da mortalidade é um problema sério. A ONU estima que, em tempos “normais”, apenas dois terços dos países registram pelo menos 90% de todas as mortes que ocorrem, e alguns países registram menos de 50% – ou até menos de 10% – das mortes. Durante a pandemia, a cobertura real pode ser ainda menor.\n",
    "\n",
    "2. Há atrasos na notificação de óbitos que tornam os dados de mortalidade provisórios e incompletos nas semanas, meses e até anos após a ocorrência de uma morte — mesmo em países mais ricos com sistemas de notificação de mortalidade de alta qualidade. A extensão do atraso varia de país para país. Para alguns, os pontos de dados mais recentes são claramente muito incompletos e, portanto, imprecisos — não mostramos esses pontos de dados claramente incompletos.\n",
    "\n",
    "Observaremos abaixo informações estatísticas das colunas."
   ]
  },
  {
   "cell_type": "code",
   "execution_count": 8,
   "id": "0776a807",
   "metadata": {
    "scrolled": true
   },
   "outputs": [
    {
     "data": {
      "text/html": [
       "<div>\n",
       "<style scoped>\n",
       "    .dataframe tbody tr th:only-of-type {\n",
       "        vertical-align: middle;\n",
       "    }\n",
       "\n",
       "    .dataframe tbody tr th {\n",
       "        vertical-align: top;\n",
       "    }\n",
       "\n",
       "    .dataframe thead th {\n",
       "        text-align: right;\n",
       "    }\n",
       "</style>\n",
       "<table border=\"1\" class=\"dataframe\">\n",
       "  <thead>\n",
       "    <tr style=\"text-align: right;\">\n",
       "      <th></th>\n",
       "      <th>total_cases</th>\n",
       "      <th>new_cases</th>\n",
       "      <th>new_cases_smoothed</th>\n",
       "      <th>total_deaths</th>\n",
       "      <th>new_deaths</th>\n",
       "      <th>new_deaths_smoothed</th>\n",
       "      <th>total_cases_per_million</th>\n",
       "      <th>new_cases_per_million</th>\n",
       "      <th>new_cases_smoothed_per_million</th>\n",
       "      <th>total_deaths_per_million</th>\n",
       "      <th>...</th>\n",
       "      <th>female_smokers</th>\n",
       "      <th>male_smokers</th>\n",
       "      <th>handwashing_facilities</th>\n",
       "      <th>hospital_beds_per_thousand</th>\n",
       "      <th>life_expectancy</th>\n",
       "      <th>human_development_index</th>\n",
       "      <th>excess_mortality_cumulative_absolute</th>\n",
       "      <th>excess_mortality_cumulative</th>\n",
       "      <th>excess_mortality</th>\n",
       "      <th>excess_mortality_cumulative_per_million</th>\n",
       "    </tr>\n",
       "  </thead>\n",
       "  <tbody>\n",
       "    <tr>\n",
       "      <th>count</th>\n",
       "      <td>1.753770e+05</td>\n",
       "      <td>1.751850e+05</td>\n",
       "      <td>1.740160e+05</td>\n",
       "      <td>1.571350e+05</td>\n",
       "      <td>157153.000000</td>\n",
       "      <td>156003.000000</td>\n",
       "      <td>174566.000000</td>\n",
       "      <td>174374.000000</td>\n",
       "      <td>173210.000000</td>\n",
       "      <td>156337.000000</td>\n",
       "      <td>...</td>\n",
       "      <td>113912.000000</td>\n",
       "      <td>112351.000000</td>\n",
       "      <td>73976.000000</td>\n",
       "      <td>133162.000000</td>\n",
       "      <td>170378.000000</td>\n",
       "      <td>146675.000000</td>\n",
       "      <td>6.317000e+03</td>\n",
       "      <td>6317.000000</td>\n",
       "      <td>6317.000000</td>\n",
       "      <td>6317.000000</td>\n",
       "    </tr>\n",
       "    <tr>\n",
       "      <th>mean</th>\n",
       "      <td>2.985357e+06</td>\n",
       "      <td>1.244075e+04</td>\n",
       "      <td>1.247013e+04</td>\n",
       "      <td>6.196091e+04</td>\n",
       "      <td>164.345294</td>\n",
       "      <td>165.266329</td>\n",
       "      <td>36510.538579</td>\n",
       "      <td>182.544907</td>\n",
       "      <td>182.496113</td>\n",
       "      <td>556.800058</td>\n",
       "      <td>...</td>\n",
       "      <td>10.649174</td>\n",
       "      <td>32.789040</td>\n",
       "      <td>50.958857</td>\n",
       "      <td>3.033493</td>\n",
       "      <td>73.655913</td>\n",
       "      <td>0.725375</td>\n",
       "      <td>3.862251e+04</td>\n",
       "      <td>9.558442</td>\n",
       "      <td>15.678286</td>\n",
       "      <td>1059.883850</td>\n",
       "    </tr>\n",
       "    <tr>\n",
       "      <th>std</th>\n",
       "      <td>1.862991e+07</td>\n",
       "      <td>8.849391e+04</td>\n",
       "      <td>8.690092e+04</td>\n",
       "      <td>3.237397e+05</td>\n",
       "      <td>808.774278</td>\n",
       "      <td>791.786080</td>\n",
       "      <td>67551.241456</td>\n",
       "      <td>751.667330</td>\n",
       "      <td>576.781023</td>\n",
       "      <td>839.624408</td>\n",
       "      <td>...</td>\n",
       "      <td>10.586233</td>\n",
       "      <td>13.525194</td>\n",
       "      <td>31.861984</td>\n",
       "      <td>2.450449</td>\n",
       "      <td>7.460997</td>\n",
       "      <td>0.149742</td>\n",
       "      <td>1.074467e+05</td>\n",
       "      <td>16.094963</td>\n",
       "      <td>29.216785</td>\n",
       "      <td>1512.729943</td>\n",
       "    </tr>\n",
       "    <tr>\n",
       "      <th>min</th>\n",
       "      <td>1.000000e+00</td>\n",
       "      <td>0.000000e+00</td>\n",
       "      <td>0.000000e+00</td>\n",
       "      <td>1.000000e+00</td>\n",
       "      <td>0.000000</td>\n",
       "      <td>0.000000</td>\n",
       "      <td>0.001000</td>\n",
       "      <td>0.000000</td>\n",
       "      <td>0.000000</td>\n",
       "      <td>0.000000</td>\n",
       "      <td>...</td>\n",
       "      <td>0.100000</td>\n",
       "      <td>7.700000</td>\n",
       "      <td>1.188000</td>\n",
       "      <td>0.100000</td>\n",
       "      <td>53.280000</td>\n",
       "      <td>0.394000</td>\n",
       "      <td>-3.772610e+04</td>\n",
       "      <td>-28.450000</td>\n",
       "      <td>-95.920000</td>\n",
       "      <td>-1826.595723</td>\n",
       "    </tr>\n",
       "    <tr>\n",
       "      <th>25%</th>\n",
       "      <td>2.419000e+03</td>\n",
       "      <td>0.000000e+00</td>\n",
       "      <td>6.857000e+00</td>\n",
       "      <td>8.900000e+01</td>\n",
       "      <td>0.000000</td>\n",
       "      <td>0.143000</td>\n",
       "      <td>703.374000</td>\n",
       "      <td>0.012000</td>\n",
       "      <td>1.569000</td>\n",
       "      <td>20.890000</td>\n",
       "      <td>...</td>\n",
       "      <td>1.900000</td>\n",
       "      <td>21.600000</td>\n",
       "      <td>20.859000</td>\n",
       "      <td>1.300000</td>\n",
       "      <td>69.500000</td>\n",
       "      <td>0.602000</td>\n",
       "      <td>-3.340000e+01</td>\n",
       "      <td>-0.330000</td>\n",
       "      <td>-0.470000</td>\n",
       "      <td>-13.595356</td>\n",
       "    </tr>\n",
       "    <tr>\n",
       "      <th>50%</th>\n",
       "      <td>3.181600e+04</td>\n",
       "      <td>7.600000e+01</td>\n",
       "      <td>1.051430e+02</td>\n",
       "      <td>8.520000e+02</td>\n",
       "      <td>2.000000</td>\n",
       "      <td>2.286000</td>\n",
       "      <td>5644.835500</td>\n",
       "      <td>10.976000</td>\n",
       "      <td>19.185500</td>\n",
       "      <td>151.576000</td>\n",
       "      <td>...</td>\n",
       "      <td>6.300000</td>\n",
       "      <td>31.400000</td>\n",
       "      <td>49.839000</td>\n",
       "      <td>2.400000</td>\n",
       "      <td>75.050000</td>\n",
       "      <td>0.743000</td>\n",
       "      <td>3.684700e+03</td>\n",
       "      <td>6.370000</td>\n",
       "      <td>7.440000</td>\n",
       "      <td>527.295232</td>\n",
       "    </tr>\n",
       "    <tr>\n",
       "      <th>75%</th>\n",
       "      <td>3.481410e+05</td>\n",
       "      <td>1.064000e+03</td>\n",
       "      <td>1.166714e+03</td>\n",
       "      <td>8.053000e+03</td>\n",
       "      <td>19.000000</td>\n",
       "      <td>20.429000</td>\n",
       "      <td>45591.758750</td>\n",
       "      <td>103.344000</td>\n",
       "      <td>126.956000</td>\n",
       "      <td>796.156000</td>\n",
       "      <td>...</td>\n",
       "      <td>19.300000</td>\n",
       "      <td>41.300000</td>\n",
       "      <td>83.241000</td>\n",
       "      <td>4.000000</td>\n",
       "      <td>79.190000</td>\n",
       "      <td>0.845000</td>\n",
       "      <td>2.617260e+04</td>\n",
       "      <td>14.530000</td>\n",
       "      <td>22.140000</td>\n",
       "      <td>1723.291302</td>\n",
       "    </tr>\n",
       "    <tr>\n",
       "      <th>max</th>\n",
       "      <td>5.117476e+08</td>\n",
       "      <td>4.089128e+06</td>\n",
       "      <td>3.437053e+06</td>\n",
       "      <td>6.228621e+06</td>\n",
       "      <td>18144.000000</td>\n",
       "      <td>14783.286000</td>\n",
       "      <td>706541.904000</td>\n",
       "      <td>51427.491000</td>\n",
       "      <td>16052.608000</td>\n",
       "      <td>6378.349000</td>\n",
       "      <td>...</td>\n",
       "      <td>44.000000</td>\n",
       "      <td>78.100000</td>\n",
       "      <td>100.000000</td>\n",
       "      <td>13.800000</td>\n",
       "      <td>86.750000</td>\n",
       "      <td>0.957000</td>\n",
       "      <td>1.163660e+06</td>\n",
       "      <td>111.010000</td>\n",
       "      <td>375.000000</td>\n",
       "      <td>9680.156540</td>\n",
       "    </tr>\n",
       "  </tbody>\n",
       "</table>\n",
       "<p>8 rows × 62 columns</p>\n",
       "</div>"
      ],
      "text/plain": [
       "        total_cases     new_cases  new_cases_smoothed  total_deaths  \\\n",
       "count  1.753770e+05  1.751850e+05        1.740160e+05  1.571350e+05   \n",
       "mean   2.985357e+06  1.244075e+04        1.247013e+04  6.196091e+04   \n",
       "std    1.862991e+07  8.849391e+04        8.690092e+04  3.237397e+05   \n",
       "min    1.000000e+00  0.000000e+00        0.000000e+00  1.000000e+00   \n",
       "25%    2.419000e+03  0.000000e+00        6.857000e+00  8.900000e+01   \n",
       "50%    3.181600e+04  7.600000e+01        1.051430e+02  8.520000e+02   \n",
       "75%    3.481410e+05  1.064000e+03        1.166714e+03  8.053000e+03   \n",
       "max    5.117476e+08  4.089128e+06        3.437053e+06  6.228621e+06   \n",
       "\n",
       "          new_deaths  new_deaths_smoothed  total_cases_per_million  \\\n",
       "count  157153.000000        156003.000000            174566.000000   \n",
       "mean      164.345294           165.266329             36510.538579   \n",
       "std       808.774278           791.786080             67551.241456   \n",
       "min         0.000000             0.000000                 0.001000   \n",
       "25%         0.000000             0.143000               703.374000   \n",
       "50%         2.000000             2.286000              5644.835500   \n",
       "75%        19.000000            20.429000             45591.758750   \n",
       "max     18144.000000         14783.286000            706541.904000   \n",
       "\n",
       "       new_cases_per_million  new_cases_smoothed_per_million  \\\n",
       "count          174374.000000                   173210.000000   \n",
       "mean              182.544907                      182.496113   \n",
       "std               751.667330                      576.781023   \n",
       "min                 0.000000                        0.000000   \n",
       "25%                 0.012000                        1.569000   \n",
       "50%                10.976000                       19.185500   \n",
       "75%               103.344000                      126.956000   \n",
       "max             51427.491000                    16052.608000   \n",
       "\n",
       "       total_deaths_per_million  ...  female_smokers   male_smokers  \\\n",
       "count             156337.000000  ...   113912.000000  112351.000000   \n",
       "mean                 556.800058  ...       10.649174      32.789040   \n",
       "std                  839.624408  ...       10.586233      13.525194   \n",
       "min                    0.000000  ...        0.100000       7.700000   \n",
       "25%                   20.890000  ...        1.900000      21.600000   \n",
       "50%                  151.576000  ...        6.300000      31.400000   \n",
       "75%                  796.156000  ...       19.300000      41.300000   \n",
       "max                 6378.349000  ...       44.000000      78.100000   \n",
       "\n",
       "       handwashing_facilities  hospital_beds_per_thousand  life_expectancy  \\\n",
       "count            73976.000000               133162.000000    170378.000000   \n",
       "mean                50.958857                    3.033493        73.655913   \n",
       "std                 31.861984                    2.450449         7.460997   \n",
       "min                  1.188000                    0.100000        53.280000   \n",
       "25%                 20.859000                    1.300000        69.500000   \n",
       "50%                 49.839000                    2.400000        75.050000   \n",
       "75%                 83.241000                    4.000000        79.190000   \n",
       "max                100.000000                   13.800000        86.750000   \n",
       "\n",
       "       human_development_index  excess_mortality_cumulative_absolute  \\\n",
       "count            146675.000000                          6.317000e+03   \n",
       "mean                  0.725375                          3.862251e+04   \n",
       "std                   0.149742                          1.074467e+05   \n",
       "min                   0.394000                         -3.772610e+04   \n",
       "25%                   0.602000                         -3.340000e+01   \n",
       "50%                   0.743000                          3.684700e+03   \n",
       "75%                   0.845000                          2.617260e+04   \n",
       "max                   0.957000                          1.163660e+06   \n",
       "\n",
       "       excess_mortality_cumulative  excess_mortality  \\\n",
       "count                  6317.000000       6317.000000   \n",
       "mean                      9.558442         15.678286   \n",
       "std                      16.094963         29.216785   \n",
       "min                     -28.450000        -95.920000   \n",
       "25%                      -0.330000         -0.470000   \n",
       "50%                       6.370000          7.440000   \n",
       "75%                      14.530000         22.140000   \n",
       "max                     111.010000        375.000000   \n",
       "\n",
       "       excess_mortality_cumulative_per_million  \n",
       "count                              6317.000000  \n",
       "mean                               1059.883850  \n",
       "std                                1512.729943  \n",
       "min                               -1826.595723  \n",
       "25%                                 -13.595356  \n",
       "50%                                 527.295232  \n",
       "75%                                1723.291302  \n",
       "max                                9680.156540  \n",
       "\n",
       "[8 rows x 62 columns]"
      ]
     },
     "execution_count": 8,
     "metadata": {},
     "output_type": "execute_result"
    }
   ],
   "source": [
    "# estatística descritiva das colunas\n",
    "df.describe()"
   ]
  },
  {
   "cell_type": "markdown",
   "id": "b77ebbc0",
   "metadata": {},
   "source": [
    "Tais motivos também são a razão de termos outras variáveis com valores ausentes relacionadas ao número de dados registrados, pois engloba os demais subconjuntos, como os  valores nulos em `new_cases`, e alteração no numero total de casos (`total_cases`), haja vista que algumas vezes as colunas são deixadas em branco quando a uma grande correção de dados feita pelo governo nacional.\n",
    "\n",
    "Também é importante citar que no dataset, a data associada a uma morte pode referir-se a quando a morte ocorreu ou a quando foi registrada. Isso varia de país para país. As contagens de óbitos por data de registro podem variar significativamente, independentemente de qualquer variação real nas mortes, como atrasos no registro ou fechamento de cartórios nos finais de semana e feriados. Também pode acontecer que as mortes sejam registradas, mas a data da morte é desconhecida — este é o caso da Suécia.\n",
    "\n",
    "As datas de qualquer semana de relatório específica podem diferir ligeiramente entre os países. Isso ocorre porque os países que relatam dados semanais definem os dias de início e término da semana de maneira diferente. A maioria segue o padrão internacional ISO 8601, que define a semana como de segunda a domingo, mas nem todos os países seguem esse padrão.\n",
    "\n",
    "As mortes relatadas semanalmente podem não ser diretamente comparáveis às mortes relatadas mensalmente. Por exemplo, porque o excesso de mortalidade calculado a partir de dados mensais tende a ser menor que o excesso calculado a partir de dados semanais.\n",
    "\n",
    "Como, num contexto geral, a forma de registrar as informações pode diferir entre países diferentes, especificamente nesse conjunto de dados, optarei por trabalhar com os dados íntegros, mas irei transformar a variável `date` no formato datetime a fim de conseguir manipular o dado facilmente."
   ]
  },
  {
   "cell_type": "code",
   "execution_count": 9,
   "id": "aade9e0e",
   "metadata": {},
   "outputs": [],
   "source": [
    "# transformar a variável date no formato datetime\n",
    "df.date = pd.to_datetime(df.date)"
   ]
  },
  {
   "cell_type": "markdown",
   "id": "2fe13dd6",
   "metadata": {},
   "source": [
    "### Quais os países com mais casos de COVID-19?"
   ]
  },
  {
   "cell_type": "markdown",
   "id": "80cdedb5",
   "metadata": {},
   "source": [
    "Observaremos quais são os dados únicos para a variavél `location` que guarda a localização do registro. Podemos perceber que não há necessariamente apenas países, temos como dados 'World' que refere-se ao mundo, 'High income', que são pessoas de alta renda, alguns continentes, etc."
   ]
  },
  {
   "cell_type": "code",
   "execution_count": 10,
   "id": "0c0d6e54",
   "metadata": {
    "scrolled": true
   },
   "outputs": [
    {
     "data": {
      "text/plain": [
       "array(['Afghanistan', 'Africa', 'Albania', 'Algeria', 'Andorra', 'Angola',\n",
       "       'Anguilla', 'Antigua and Barbuda', 'Argentina', 'Armenia', 'Aruba',\n",
       "       'Asia', 'Australia', 'Austria', 'Azerbaijan', 'Bahamas', 'Bahrain',\n",
       "       'Bangladesh', 'Barbados', 'Belarus', 'Belgium', 'Belize', 'Benin',\n",
       "       'Bermuda', 'Bhutan', 'Bolivia', 'Bonaire Sint Eustatius and Saba',\n",
       "       'Bosnia and Herzegovina', 'Botswana', 'Brazil',\n",
       "       'British Virgin Islands', 'Brunei', 'Bulgaria', 'Burkina Faso',\n",
       "       'Burundi', 'Cambodia', 'Cameroon', 'Canada', 'Cape Verde',\n",
       "       'Cayman Islands', 'Central African Republic', 'Chad', 'Chile',\n",
       "       'China', 'Colombia', 'Comoros', 'Congo', 'Cook Islands',\n",
       "       'Costa Rica', \"Cote d'Ivoire\", 'Croatia', 'Cuba', 'Curacao',\n",
       "       'Cyprus', 'Czechia', 'Democratic Republic of Congo', 'Denmark',\n",
       "       'Djibouti', 'Dominica', 'Dominican Republic', 'Ecuador', 'Egypt',\n",
       "       'El Salvador', 'Equatorial Guinea', 'Eritrea', 'Estonia',\n",
       "       'Eswatini', 'Ethiopia', 'Europe', 'European Union',\n",
       "       'Faeroe Islands', 'Falkland Islands', 'Fiji', 'Finland', 'France',\n",
       "       'French Polynesia', 'Gabon', 'Gambia', 'Georgia', 'Germany',\n",
       "       'Ghana', 'Gibraltar', 'Greece', 'Greenland', 'Grenada', 'Guam',\n",
       "       'Guatemala', 'Guernsey', 'Guinea', 'Guinea-Bissau', 'Guyana',\n",
       "       'Haiti', 'High income', 'Honduras', 'Hong Kong', 'Hungary',\n",
       "       'Iceland', 'India', 'Indonesia', 'International', 'Iran', 'Iraq',\n",
       "       'Ireland', 'Isle of Man', 'Israel', 'Italy', 'Jamaica', 'Japan',\n",
       "       'Jersey', 'Jordan', 'Kazakhstan', 'Kenya', 'Kiribati', 'Kosovo',\n",
       "       'Kuwait', 'Kyrgyzstan', 'Laos', 'Latvia', 'Lebanon', 'Lesotho',\n",
       "       'Liberia', 'Libya', 'Liechtenstein', 'Lithuania', 'Low income',\n",
       "       'Lower middle income', 'Luxembourg', 'Macao', 'Madagascar',\n",
       "       'Malawi', 'Malaysia', 'Maldives', 'Mali', 'Malta',\n",
       "       'Marshall Islands', 'Mauritania', 'Mauritius', 'Mexico',\n",
       "       'Micronesia (country)', 'Moldova', 'Monaco', 'Mongolia',\n",
       "       'Montenegro', 'Montserrat', 'Morocco', 'Mozambique', 'Myanmar',\n",
       "       'Namibia', 'Nauru', 'Nepal', 'Netherlands', 'New Caledonia',\n",
       "       'New Zealand', 'Nicaragua', 'Niger', 'Nigeria', 'Niue',\n",
       "       'North America', 'North Macedonia', 'Northern Cyprus',\n",
       "       'Northern Mariana Islands', 'Norway', 'Oceania', 'Oman',\n",
       "       'Pakistan', 'Palau', 'Palestine', 'Panama', 'Papua New Guinea',\n",
       "       'Paraguay', 'Peru', 'Philippines', 'Pitcairn', 'Poland',\n",
       "       'Portugal', 'Puerto Rico', 'Qatar', 'Romania', 'Russia', 'Rwanda',\n",
       "       'Saint Helena', 'Saint Kitts and Nevis', 'Saint Lucia',\n",
       "       'Saint Pierre and Miquelon', 'Saint Vincent and the Grenadines',\n",
       "       'Samoa', 'San Marino', 'Sao Tome and Principe', 'Saudi Arabia',\n",
       "       'Senegal', 'Serbia', 'Seychelles', 'Sierra Leone', 'Singapore',\n",
       "       'Sint Maarten (Dutch part)', 'Slovakia', 'Slovenia',\n",
       "       'Solomon Islands', 'Somalia', 'South Africa', 'South America',\n",
       "       'South Korea', 'South Sudan', 'Spain', 'Sri Lanka', 'Sudan',\n",
       "       'Suriname', 'Sweden', 'Switzerland', 'Syria', 'Taiwan',\n",
       "       'Tajikistan', 'Tanzania', 'Thailand', 'Timor', 'Togo', 'Tokelau',\n",
       "       'Tonga', 'Trinidad and Tobago', 'Tunisia', 'Turkey',\n",
       "       'Turkmenistan', 'Turks and Caicos Islands', 'Tuvalu', 'Uganda',\n",
       "       'Ukraine', 'United Arab Emirates', 'United Kingdom',\n",
       "       'United States', 'United States Virgin Islands',\n",
       "       'Upper middle income', 'Uruguay', 'Uzbekistan', 'Vanuatu',\n",
       "       'Vatican', 'Venezuela', 'Vietnam', 'Wallis and Futuna',\n",
       "       'Western Sahara', 'World', 'Yemen', 'Zambia', 'Zimbabwe'],\n",
       "      dtype=object)"
      ]
     },
     "execution_count": 10,
     "metadata": {},
     "output_type": "execute_result"
    }
   ],
   "source": [
    "# verificar os dados únicos da variável\n",
    "df.location.unique()"
   ]
  },
  {
   "cell_type": "markdown",
   "id": "acb13ce7",
   "metadata": {},
   "source": [
    "Esses dados que não nos interessam estão relacionados `iso_code` que contém a palavra \"OWID\", no qual é feito um agrupamento de dados."
   ]
  },
  {
   "cell_type": "code",
   "execution_count": 11,
   "id": "ee68ef7b",
   "metadata": {},
   "outputs": [
    {
     "data": {
      "text/html": [
       "<div>\n",
       "<style scoped>\n",
       "    .dataframe tbody tr th:only-of-type {\n",
       "        vertical-align: middle;\n",
       "    }\n",
       "\n",
       "    .dataframe tbody tr th {\n",
       "        vertical-align: top;\n",
       "    }\n",
       "\n",
       "    .dataframe thead th {\n",
       "        text-align: right;\n",
       "    }\n",
       "</style>\n",
       "<table border=\"1\" class=\"dataframe\">\n",
       "  <thead>\n",
       "    <tr style=\"text-align: right;\">\n",
       "      <th></th>\n",
       "      <th>iso_code</th>\n",
       "      <th>continent</th>\n",
       "      <th>location</th>\n",
       "      <th>date</th>\n",
       "      <th>total_cases</th>\n",
       "      <th>new_cases</th>\n",
       "      <th>new_cases_smoothed</th>\n",
       "      <th>total_deaths</th>\n",
       "      <th>new_deaths</th>\n",
       "      <th>new_deaths_smoothed</th>\n",
       "      <th>...</th>\n",
       "      <th>female_smokers</th>\n",
       "      <th>male_smokers</th>\n",
       "      <th>handwashing_facilities</th>\n",
       "      <th>hospital_beds_per_thousand</th>\n",
       "      <th>life_expectancy</th>\n",
       "      <th>human_development_index</th>\n",
       "      <th>excess_mortality_cumulative_absolute</th>\n",
       "      <th>excess_mortality_cumulative</th>\n",
       "      <th>excess_mortality</th>\n",
       "      <th>excess_mortality_cumulative_per_million</th>\n",
       "    </tr>\n",
       "  </thead>\n",
       "  <tbody>\n",
       "    <tr>\n",
       "      <th>794</th>\n",
       "      <td>OWID_AFR</td>\n",
       "      <td>NaN</td>\n",
       "      <td>Africa</td>\n",
       "      <td>2020-02-13</td>\n",
       "      <td>NaN</td>\n",
       "      <td>0.0</td>\n",
       "      <td>NaN</td>\n",
       "      <td>NaN</td>\n",
       "      <td>0.0</td>\n",
       "      <td>NaN</td>\n",
       "      <td>...</td>\n",
       "      <td>NaN</td>\n",
       "      <td>NaN</td>\n",
       "      <td>NaN</td>\n",
       "      <td>NaN</td>\n",
       "      <td>NaN</td>\n",
       "      <td>NaN</td>\n",
       "      <td>NaN</td>\n",
       "      <td>NaN</td>\n",
       "      <td>NaN</td>\n",
       "      <td>NaN</td>\n",
       "    </tr>\n",
       "    <tr>\n",
       "      <th>795</th>\n",
       "      <td>OWID_AFR</td>\n",
       "      <td>NaN</td>\n",
       "      <td>Africa</td>\n",
       "      <td>2020-02-14</td>\n",
       "      <td>1.0</td>\n",
       "      <td>1.0</td>\n",
       "      <td>NaN</td>\n",
       "      <td>NaN</td>\n",
       "      <td>0.0</td>\n",
       "      <td>NaN</td>\n",
       "      <td>...</td>\n",
       "      <td>NaN</td>\n",
       "      <td>NaN</td>\n",
       "      <td>NaN</td>\n",
       "      <td>NaN</td>\n",
       "      <td>NaN</td>\n",
       "      <td>NaN</td>\n",
       "      <td>NaN</td>\n",
       "      <td>NaN</td>\n",
       "      <td>NaN</td>\n",
       "      <td>NaN</td>\n",
       "    </tr>\n",
       "    <tr>\n",
       "      <th>796</th>\n",
       "      <td>OWID_AFR</td>\n",
       "      <td>NaN</td>\n",
       "      <td>Africa</td>\n",
       "      <td>2020-02-15</td>\n",
       "      <td>1.0</td>\n",
       "      <td>0.0</td>\n",
       "      <td>NaN</td>\n",
       "      <td>NaN</td>\n",
       "      <td>0.0</td>\n",
       "      <td>NaN</td>\n",
       "      <td>...</td>\n",
       "      <td>NaN</td>\n",
       "      <td>NaN</td>\n",
       "      <td>NaN</td>\n",
       "      <td>NaN</td>\n",
       "      <td>NaN</td>\n",
       "      <td>NaN</td>\n",
       "      <td>NaN</td>\n",
       "      <td>NaN</td>\n",
       "      <td>NaN</td>\n",
       "      <td>NaN</td>\n",
       "    </tr>\n",
       "    <tr>\n",
       "      <th>797</th>\n",
       "      <td>OWID_AFR</td>\n",
       "      <td>NaN</td>\n",
       "      <td>Africa</td>\n",
       "      <td>2020-02-16</td>\n",
       "      <td>1.0</td>\n",
       "      <td>0.0</td>\n",
       "      <td>NaN</td>\n",
       "      <td>NaN</td>\n",
       "      <td>0.0</td>\n",
       "      <td>NaN</td>\n",
       "      <td>...</td>\n",
       "      <td>NaN</td>\n",
       "      <td>NaN</td>\n",
       "      <td>NaN</td>\n",
       "      <td>NaN</td>\n",
       "      <td>NaN</td>\n",
       "      <td>NaN</td>\n",
       "      <td>NaN</td>\n",
       "      <td>NaN</td>\n",
       "      <td>NaN</td>\n",
       "      <td>NaN</td>\n",
       "    </tr>\n",
       "    <tr>\n",
       "      <th>798</th>\n",
       "      <td>OWID_AFR</td>\n",
       "      <td>NaN</td>\n",
       "      <td>Africa</td>\n",
       "      <td>2020-02-17</td>\n",
       "      <td>1.0</td>\n",
       "      <td>0.0</td>\n",
       "      <td>NaN</td>\n",
       "      <td>NaN</td>\n",
       "      <td>0.0</td>\n",
       "      <td>NaN</td>\n",
       "      <td>...</td>\n",
       "      <td>NaN</td>\n",
       "      <td>NaN</td>\n",
       "      <td>NaN</td>\n",
       "      <td>NaN</td>\n",
       "      <td>NaN</td>\n",
       "      <td>NaN</td>\n",
       "      <td>NaN</td>\n",
       "      <td>NaN</td>\n",
       "      <td>NaN</td>\n",
       "      <td>NaN</td>\n",
       "    </tr>\n",
       "  </tbody>\n",
       "</table>\n",
       "<p>5 rows × 67 columns</p>\n",
       "</div>"
      ],
      "text/plain": [
       "     iso_code continent location       date  total_cases  new_cases  \\\n",
       "794  OWID_AFR       NaN   Africa 2020-02-13          NaN        0.0   \n",
       "795  OWID_AFR       NaN   Africa 2020-02-14          1.0        1.0   \n",
       "796  OWID_AFR       NaN   Africa 2020-02-15          1.0        0.0   \n",
       "797  OWID_AFR       NaN   Africa 2020-02-16          1.0        0.0   \n",
       "798  OWID_AFR       NaN   Africa 2020-02-17          1.0        0.0   \n",
       "\n",
       "     new_cases_smoothed  total_deaths  new_deaths  new_deaths_smoothed  ...  \\\n",
       "794                 NaN           NaN         0.0                  NaN  ...   \n",
       "795                 NaN           NaN         0.0                  NaN  ...   \n",
       "796                 NaN           NaN         0.0                  NaN  ...   \n",
       "797                 NaN           NaN         0.0                  NaN  ...   \n",
       "798                 NaN           NaN         0.0                  NaN  ...   \n",
       "\n",
       "     female_smokers  male_smokers  handwashing_facilities  \\\n",
       "794             NaN           NaN                     NaN   \n",
       "795             NaN           NaN                     NaN   \n",
       "796             NaN           NaN                     NaN   \n",
       "797             NaN           NaN                     NaN   \n",
       "798             NaN           NaN                     NaN   \n",
       "\n",
       "     hospital_beds_per_thousand  life_expectancy  human_development_index  \\\n",
       "794                         NaN              NaN                      NaN   \n",
       "795                         NaN              NaN                      NaN   \n",
       "796                         NaN              NaN                      NaN   \n",
       "797                         NaN              NaN                      NaN   \n",
       "798                         NaN              NaN                      NaN   \n",
       "\n",
       "     excess_mortality_cumulative_absolute  excess_mortality_cumulative  \\\n",
       "794                                   NaN                          NaN   \n",
       "795                                   NaN                          NaN   \n",
       "796                                   NaN                          NaN   \n",
       "797                                   NaN                          NaN   \n",
       "798                                   NaN                          NaN   \n",
       "\n",
       "     excess_mortality  excess_mortality_cumulative_per_million  \n",
       "794               NaN                                      NaN  \n",
       "795               NaN                                      NaN  \n",
       "796               NaN                                      NaN  \n",
       "797               NaN                                      NaN  \n",
       "798               NaN                                      NaN  \n",
       "\n",
       "[5 rows x 67 columns]"
      ]
     },
     "execution_count": 11,
     "metadata": {},
     "output_type": "execute_result"
    }
   ],
   "source": [
    "# verificar as cinco primeiras tuplas cujo iso_code contém 'OWID'\n",
    "df.loc[df.iso_code.str.contains(\"OWID\")].head(5)"
   ]
  },
  {
   "cell_type": "markdown",
   "id": "7394889f",
   "metadata": {},
   "source": [
    "Para continuar a análise em questão, obtendo os cinco países com mais casos, irei criar uma cópia do dataset e retirar tuplas onde o iso_code referencie agrupamento de dados."
   ]
  },
  {
   "cell_type": "code",
   "execution_count": 12,
   "id": "ca0b4692",
   "metadata": {},
   "outputs": [],
   "source": [
    "# cópia do dataset\n",
    "df_covid = df.copy()\n",
    "# apagar tuplas nas quais o iso_code contenha \"OWID\"\n",
    "df_covid.drop(df_covid.index[df_covid.iso_code.str.contains(\"OWID\")].values, inplace = True)"
   ]
  },
  {
   "cell_type": "markdown",
   "id": "f9a73f80",
   "metadata": {},
   "source": [
    "Com os dados devidamente tratados, iremos retornar o resultado dos países com número maior de total de casos de COVID-19 até a data atual."
   ]
  },
  {
   "cell_type": "code",
   "execution_count": 13,
   "id": "3376b7e5",
   "metadata": {
    "scrolled": false
   },
   "outputs": [
    {
     "data": {
      "text/plain": [
       "location\n",
       "United States     2.385343e+10\n",
       "India             1.515504e+10\n",
       "Brazil            1.032533e+10\n",
       "France            4.875200e+09\n",
       "United Kingdom    4.602660e+09\n",
       "Name: total_cases, dtype: float64"
      ]
     },
     "execution_count": 13,
     "metadata": {},
     "output_type": "execute_result"
    }
   ],
   "source": [
    "df_covid.groupby(['location']).total_cases.sum().sort_values(ascending = False)[:5]"
   ]
  },
  {
   "cell_type": "markdown",
   "id": "53d8c553",
   "metadata": {},
   "source": [
    "Agora verificaremos a porcentagem de casos nesses países dado a quantidade de casos totais registrados."
   ]
  },
  {
   "cell_type": "code",
   "execution_count": 14,
   "id": "5cdc3cc9",
   "metadata": {},
   "outputs": [
    {
     "data": {
      "text/plain": [
       "location\n",
       "United States     19.165556\n",
       "India             12.176641\n",
       "Brazil             8.296113\n",
       "France             3.917085\n",
       "United Kingdom     3.698107\n",
       "Name: total_cases, dtype: float64"
      ]
     },
     "execution_count": 14,
     "metadata": {},
     "output_type": "execute_result"
    }
   ],
   "source": [
    "(df_covid.groupby(['location']).total_cases.sum()/df_covid.total_cases.sum() * 100).sort_values(ascending = False)[:5]"
   ]
  },
  {
   "cell_type": "markdown",
   "id": "5d3cb98b",
   "metadata": {},
   "source": [
    "Plotaremos um gráfico de barras para a melhor visualização do resultado."
   ]
  },
  {
   "cell_type": "code",
   "execution_count": 15,
   "id": "e7e437f5",
   "metadata": {
    "scrolled": true
   },
   "outputs": [
    {
     "data": {
      "image/png": "[encoded data removed]",
      "text/plain": [
       "<Figure size 720x360 with 1 Axes>"
      ]
     },
     "metadata": {
      "needs_background": "light"
     },
     "output_type": "display_data"
    }
   ],
   "source": [
    "# Plotando gráficos para países com mais casos registrados até a data atual\n",
    "fig, ax = plt.subplots()\n",
    "\n",
    "# atribuindo os valores e índices às variáveis\n",
    "x = (df_covid.groupby(['location']).total_cases.sum().sort_values(ascending = False)[:5]).values\n",
    "y = (df_covid.groupby(['location']).total_cases.sum().sort_values(ascending = False)[:5]).index\n",
    "\n",
    "# gráfico da quantidade de casos de COVID-19 por países\n",
    "ax = sns.barplot(x = x, y = y, ax = ax, palette = \"rocket_r\")\n",
    "ax.set_ylabel('Países')\n",
    "ax.set_xlabel('Casos de COVID-19')\n",
    "ax.set_title(\"Gráfico (Países x Casos de COVID-19)\");\n"
   ]
  },
  {
   "cell_type": "markdown",
   "id": "ab191d9a",
   "metadata": {},
   "source": [
    "Podemos observar que os países com mais casos totais em números absolutos são respectivamente Estados Unidos, Índia, Brasil, França e Reino Unido, onde em conjunto representam mais de 45% dos casos totais."
   ]
  },
  {
   "cell_type": "markdown",
   "id": "d4366bfe",
   "metadata": {},
   "source": [
    "### Quais são os países com mais casos totais de Covid em 27/04/2022?"
   ]
  },
  {
   "cell_type": "markdown",
   "id": "a348e5af",
   "metadata": {},
   "source": [
    "Agora observaremos o número de casos totais na data atual."
   ]
  },
  {
   "cell_type": "code",
   "execution_count": 16,
   "id": "df1d7c98",
   "metadata": {
    "scrolled": true
   },
   "outputs": [
    {
     "data": {
      "text/html": [
       "<div>\n",
       "<style scoped>\n",
       "    .dataframe tbody tr th:only-of-type {\n",
       "        vertical-align: middle;\n",
       "    }\n",
       "\n",
       "    .dataframe tbody tr th {\n",
       "        vertical-align: top;\n",
       "    }\n",
       "\n",
       "    .dataframe thead th {\n",
       "        text-align: right;\n",
       "    }\n",
       "</style>\n",
       "<table border=\"1\" class=\"dataframe\">\n",
       "  <thead>\n",
       "    <tr style=\"text-align: right;\">\n",
       "      <th></th>\n",
       "      <th>iso_code</th>\n",
       "      <th>continent</th>\n",
       "      <th>location</th>\n",
       "      <th>date</th>\n",
       "      <th>total_cases</th>\n",
       "      <th>new_cases</th>\n",
       "      <th>new_cases_smoothed</th>\n",
       "      <th>total_deaths</th>\n",
       "      <th>new_deaths</th>\n",
       "      <th>new_deaths_smoothed</th>\n",
       "      <th>...</th>\n",
       "      <th>female_smokers</th>\n",
       "      <th>male_smokers</th>\n",
       "      <th>handwashing_facilities</th>\n",
       "      <th>hospital_beds_per_thousand</th>\n",
       "      <th>life_expectancy</th>\n",
       "      <th>human_development_index</th>\n",
       "      <th>excess_mortality_cumulative_absolute</th>\n",
       "      <th>excess_mortality_cumulative</th>\n",
       "      <th>excess_mortality</th>\n",
       "      <th>excess_mortality_cumulative_per_million</th>\n",
       "    </tr>\n",
       "  </thead>\n",
       "  <tbody>\n",
       "    <tr>\n",
       "      <th>172518</th>\n",
       "      <td>USA</td>\n",
       "      <td>North America</td>\n",
       "      <td>United States</td>\n",
       "      <td>2022-04-27</td>\n",
       "      <td>81189379.0</td>\n",
       "      <td>88780.0</td>\n",
       "      <td>55234.571</td>\n",
       "      <td>992740.0</td>\n",
       "      <td>800.0</td>\n",
       "      <td>348.286</td>\n",
       "      <td>...</td>\n",
       "      <td>19.1</td>\n",
       "      <td>24.6</td>\n",
       "      <td>NaN</td>\n",
       "      <td>2.77</td>\n",
       "      <td>78.86</td>\n",
       "      <td>0.926</td>\n",
       "      <td>NaN</td>\n",
       "      <td>NaN</td>\n",
       "      <td>NaN</td>\n",
       "      <td>NaN</td>\n",
       "    </tr>\n",
       "    <tr>\n",
       "      <th>76375</th>\n",
       "      <td>IND</td>\n",
       "      <td>Asia</td>\n",
       "      <td>India</td>\n",
       "      <td>2022-04-27</td>\n",
       "      <td>43068799.0</td>\n",
       "      <td>3303.0</td>\n",
       "      <td>2689.286</td>\n",
       "      <td>523693.0</td>\n",
       "      <td>39.0</td>\n",
       "      <td>233.000</td>\n",
       "      <td>...</td>\n",
       "      <td>1.9</td>\n",
       "      <td>20.6</td>\n",
       "      <td>59.55</td>\n",
       "      <td>0.53</td>\n",
       "      <td>69.66</td>\n",
       "      <td>0.645</td>\n",
       "      <td>NaN</td>\n",
       "      <td>NaN</td>\n",
       "      <td>NaN</td>\n",
       "      <td>NaN</td>\n",
       "    </tr>\n",
       "    <tr>\n",
       "      <th>23638</th>\n",
       "      <td>BRA</td>\n",
       "      <td>South America</td>\n",
       "      <td>Brazil</td>\n",
       "      <td>2022-04-27</td>\n",
       "      <td>30399004.0</td>\n",
       "      <td>20943.0</td>\n",
       "      <td>12433.571</td>\n",
       "      <td>663350.0</td>\n",
       "      <td>242.0</td>\n",
       "      <td>98.714</td>\n",
       "      <td>...</td>\n",
       "      <td>10.1</td>\n",
       "      <td>17.9</td>\n",
       "      <td>NaN</td>\n",
       "      <td>2.20</td>\n",
       "      <td>75.88</td>\n",
       "      <td>0.765</td>\n",
       "      <td>NaN</td>\n",
       "      <td>NaN</td>\n",
       "      <td>NaN</td>\n",
       "      <td>NaN</td>\n",
       "    </tr>\n",
       "    <tr>\n",
       "      <th>58596</th>\n",
       "      <td>FRA</td>\n",
       "      <td>Europe</td>\n",
       "      <td>France</td>\n",
       "      <td>2022-04-27</td>\n",
       "      <td>28536959.0</td>\n",
       "      <td>67711.0</td>\n",
       "      <td>73023.143</td>\n",
       "      <td>145648.0</td>\n",
       "      <td>152.0</td>\n",
       "      <td>137.857</td>\n",
       "      <td>...</td>\n",
       "      <td>30.1</td>\n",
       "      <td>35.6</td>\n",
       "      <td>NaN</td>\n",
       "      <td>5.98</td>\n",
       "      <td>82.66</td>\n",
       "      <td>0.901</td>\n",
       "      <td>NaN</td>\n",
       "      <td>NaN</td>\n",
       "      <td>NaN</td>\n",
       "      <td>NaN</td>\n",
       "    </tr>\n",
       "    <tr>\n",
       "      <th>62535</th>\n",
       "      <td>DEU</td>\n",
       "      <td>Europe</td>\n",
       "      <td>Germany</td>\n",
       "      <td>2022-04-27</td>\n",
       "      <td>24609159.0</td>\n",
       "      <td>271765.0</td>\n",
       "      <td>109231.857</td>\n",
       "      <td>135078.0</td>\n",
       "      <td>589.0</td>\n",
       "      <td>206.571</td>\n",
       "      <td>...</td>\n",
       "      <td>28.2</td>\n",
       "      <td>33.1</td>\n",
       "      <td>NaN</td>\n",
       "      <td>8.00</td>\n",
       "      <td>81.33</td>\n",
       "      <td>0.947</td>\n",
       "      <td>NaN</td>\n",
       "      <td>NaN</td>\n",
       "      <td>NaN</td>\n",
       "      <td>NaN</td>\n",
       "    </tr>\n",
       "  </tbody>\n",
       "</table>\n",
       "<p>5 rows × 67 columns</p>\n",
       "</div>"
      ],
      "text/plain": [
       "       iso_code      continent       location       date  total_cases  \\\n",
       "172518      USA  North America  United States 2022-04-27   81189379.0   \n",
       "76375       IND           Asia          India 2022-04-27   43068799.0   \n",
       "23638       BRA  South America         Brazil 2022-04-27   30399004.0   \n",
       "58596       FRA         Europe         France 2022-04-27   28536959.0   \n",
       "62535       DEU         Europe        Germany 2022-04-27   24609159.0   \n",
       "\n",
       "        new_cases  new_cases_smoothed  total_deaths  new_deaths  \\\n",
       "172518    88780.0           55234.571      992740.0       800.0   \n",
       "76375      3303.0            2689.286      523693.0        39.0   \n",
       "23638     20943.0           12433.571      663350.0       242.0   \n",
       "58596     67711.0           73023.143      145648.0       152.0   \n",
       "62535    271765.0          109231.857      135078.0       589.0   \n",
       "\n",
       "        new_deaths_smoothed  ...  female_smokers  male_smokers  \\\n",
       "172518              348.286  ...            19.1          24.6   \n",
       "76375               233.000  ...             1.9          20.6   \n",
       "23638                98.714  ...            10.1          17.9   \n",
       "58596               137.857  ...            30.1          35.6   \n",
       "62535               206.571  ...            28.2          33.1   \n",
       "\n",
       "        handwashing_facilities  hospital_beds_per_thousand  life_expectancy  \\\n",
       "172518                     NaN                        2.77            78.86   \n",
       "76375                    59.55                        0.53            69.66   \n",
       "23638                      NaN                        2.20            75.88   \n",
       "58596                      NaN                        5.98            82.66   \n",
       "62535                      NaN                        8.00            81.33   \n",
       "\n",
       "        human_development_index  excess_mortality_cumulative_absolute  \\\n",
       "172518                    0.926                                   NaN   \n",
       "76375                     0.645                                   NaN   \n",
       "23638                     0.765                                   NaN   \n",
       "58596                     0.901                                   NaN   \n",
       "62535                     0.947                                   NaN   \n",
       "\n",
       "        excess_mortality_cumulative  excess_mortality  \\\n",
       "172518                          NaN               NaN   \n",
       "76375                           NaN               NaN   \n",
       "23638                           NaN               NaN   \n",
       "58596                           NaN               NaN   \n",
       "62535                           NaN               NaN   \n",
       "\n",
       "        excess_mortality_cumulative_per_million  \n",
       "172518                                      NaN  \n",
       "76375                                       NaN  \n",
       "23638                                       NaN  \n",
       "58596                                       NaN  \n",
       "62535                                       NaN  \n",
       "\n",
       "[5 rows x 67 columns]"
      ]
     },
     "execution_count": 16,
     "metadata": {},
     "output_type": "execute_result"
    }
   ],
   "source": [
    "df_covid.loc[df_covid.date == '2022-04-27'].sort_values(by=\"total_cases\", ascending=False).head(5)"
   ]
  },
  {
   "cell_type": "code",
   "execution_count": 17,
   "id": "a4e1962d",
   "metadata": {
    "scrolled": true
   },
   "outputs": [
    {
     "data": {
      "text/plain": [
       "location\n",
       "United States    81189379.0\n",
       "India            43068799.0\n",
       "Brazil           30399004.0\n",
       "France           28536959.0\n",
       "Germany          24609159.0\n",
       "Name: total_cases, dtype: float64"
      ]
     },
     "execution_count": 17,
     "metadata": {},
     "output_type": "execute_result"
    }
   ],
   "source": [
    "# visualizar os cinco principais países com mais casos na data atual\n",
    "df_covid.loc[df_covid.date == '2022-04-27'].groupby(['location']).total_cases.sum().sort_values(ascending = False)[:5]"
   ]
  },
  {
   "cell_type": "code",
   "execution_count": 18,
   "id": "c874f57e",
   "metadata": {
    "scrolled": false
   },
   "outputs": [
    {
     "data": {
      "image/png": "[encoded data removed]",
      "text/plain": [
       "<Figure size 720x360 with 1 Axes>"
      ]
     },
     "metadata": {
      "needs_background": "light"
     },
     "output_type": "display_data"
    }
   ],
   "source": [
    "# Plotando gráficos para tipos de imóveis\n",
    "fig, ax1 = plt.subplots()\n",
    "\n",
    "# gráfico da quantidade de casos de COVID-19 por países\n",
    "ax1 = sns.barplot(x= (df_covid.loc[df_covid.date == '2022-04-27'].groupby(['location']).total_cases.sum().sort_values(ascending = False)[:5]).values, y= (df_covid.loc[df_covid.date == '2022-04-27'].groupby(['location']).total_cases.sum().sort_values(ascending = False)[:5]).index, ax = ax1, palette = \"rocket_r\")\n",
    "ax1.set_ylabel('Países')\n",
    "ax1.set_xlabel('Casos de COVID-19')\n",
    "ax1.set_title(\"Gráfico (Países x Casos de COVID-19) - 27/04/2022\");\n"
   ]
  },
  {
   "cell_type": "markdown",
   "id": "1f71eda2",
   "metadata": {},
   "source": [
    "Atualmente, os quatro primeiros países com mais casos totais se mantém, enquanto a França que ocupa a quinta posição em valores acumulados tem a quarta posição na data atual, e a Alemanha ocupa a quinta posição."
   ]
  },
  {
   "cell_type": "markdown",
   "id": "73cfd723",
   "metadata": {},
   "source": [
    "Por fim, iremos observar a evolução do número de casos no mundo até a data atual plotando um gráfico de linhas."
   ]
  },
  {
   "cell_type": "code",
   "execution_count": 19,
   "id": "2d6e9ba7",
   "metadata": {
    "scrolled": true
   },
   "outputs": [
    {
     "data": {
      "image/png": "[encoded data removed]",
      "text/plain": [
       "<Figure size 1080x360 with 1 Axes>"
      ]
     },
     "metadata": {
      "needs_background": "light"
     },
     "output_type": "display_data"
    }
   ],
   "source": [
    "df_filtrado = df.loc[df.location == \"World\"]\n",
    "\n",
    "fig = plt.gcf()\n",
    "fig.set_size_inches(15, 5)\n",
    "sns.set(style=\"whitegrid\", palette = 'magma')\n",
    "\n",
    "ax = sns.lineplot(\n",
    "    data=df_filtrado, x=\"date\", y=\"total_cases\",\n",
    ");\n",
    "\n",
    "ax.grid(False)\n",
    "ax.set(xlabel='Data', ylabel='Número de casos')\n",
    "ax.set_title(\"Casos de COVID-19 no mundo até 27/04/2022\")\n",
    "plt.show()"
   ]
  },
  {
   "cell_type": "markdown",
   "id": "c7e41d08",
   "metadata": {},
   "source": [
    "### Quais os países com mais mortes registradas por COVID-19?"
   ]
  },
  {
   "cell_type": "markdown",
   "id": "c3160c8e",
   "metadata": {},
   "source": [
    "De modo semelhante, iremos analisar mortes acumuladas até a data atual."
   ]
  },
  {
   "cell_type": "code",
   "execution_count": 20,
   "id": "bb93685c",
   "metadata": {},
   "outputs": [
    {
     "data": {
      "text/plain": [
       "location\n",
       "United States    378934050.0\n",
       "Brazil           272085605.0\n",
       "India            198010312.0\n",
       "Mexico           137084641.0\n",
       "Peru             102442101.0\n",
       "Name: total_deaths, dtype: float64"
      ]
     },
     "execution_count": 20,
     "metadata": {},
     "output_type": "execute_result"
    }
   ],
   "source": [
    "df_covid.groupby(['location']).total_deaths.sum().sort_values(ascending = False)[:5]"
   ]
  },
  {
   "cell_type": "markdown",
   "id": "79d86f81",
   "metadata": {},
   "source": [
    "Agora verificaremos a porcentagem de mortes nesses países dado a quantidade de casos totais registrados."
   ]
  },
  {
   "cell_type": "code",
   "execution_count": 21,
   "id": "dc52b5a4",
   "metadata": {},
   "outputs": [
    {
     "data": {
      "text/plain": [
       "location\n",
       "United States    16.271007\n",
       "Brazil           11.683054\n",
       "India             8.502343\n",
       "Mexico            5.886262\n",
       "Peru              4.398750\n",
       "Name: total_deaths, dtype: float64"
      ]
     },
     "execution_count": 21,
     "metadata": {},
     "output_type": "execute_result"
    }
   ],
   "source": [
    "(df_covid.groupby(['location']).total_deaths.sum()/df_covid.total_deaths.sum() * 100).sort_values(ascending = False)[:5]"
   ]
  },
  {
   "cell_type": "code",
   "execution_count": 22,
   "id": "7703b5d6",
   "metadata": {
    "scrolled": false
   },
   "outputs": [
    {
     "data": {
      "image/png": "[encoded data removed]",
      "text/plain": [
       "<Figure size 720x360 with 1 Axes>"
      ]
     },
     "metadata": {},
     "output_type": "display_data"
    }
   ],
   "source": [
    "# Plotando gráficos para países com mais casos registrados até a data atual\n",
    "fig, ax2 = plt.subplots()\n",
    "\n",
    "# atribuindo os valores e índices às variáveis\n",
    "x = (df_covid.groupby(['location']).total_deaths.sum().sort_values(ascending = False)[:5]).values\n",
    "y = (df_covid.groupby(['location']).total_deaths.sum().sort_values(ascending = False)[:5]).index\n",
    "\n",
    "# gráfico da quantidade de casos de COVID-19 por países\n",
    "ax2 = sns.barplot(x = x, y = y, ax = ax2, palette = \"rocket_r\")\n",
    "ax2.set_ylabel('Países')\n",
    "ax2.set_xlabel('Mortes por COVID-19')\n",
    "ax2.set_title(\"Gráfico (Países x Mortes por COVID-19) - Mortes totais acumulados até a data atual\");\n"
   ]
  },
  {
   "cell_type": "markdown",
   "id": "a5f80d92",
   "metadata": {},
   "source": [
    "Os países com mais mortes totais acumuladas são respectivamente os Estados Unidos, Brasil, Índia, México e Peru, nos quais os três primeiros também se encontram com mais casos totais observados."
   ]
  },
  {
   "cell_type": "markdown",
   "id": "2ae426db",
   "metadata": {},
   "source": [
    "### Quais os países com mais mortes registradas por COVID-19 em 27/04/2022?"
   ]
  },
  {
   "cell_type": "markdown",
   "id": "9a284827",
   "metadata": {},
   "source": [
    "Agora observaremos o número de mortes totais na data atual."
   ]
  },
  {
   "cell_type": "code",
   "execution_count": 23,
   "id": "73770bab",
   "metadata": {
    "scrolled": true
   },
   "outputs": [
    {
     "data": {
      "text/html": [
       "<div>\n",
       "<style scoped>\n",
       "    .dataframe tbody tr th:only-of-type {\n",
       "        vertical-align: middle;\n",
       "    }\n",
       "\n",
       "    .dataframe tbody tr th {\n",
       "        vertical-align: top;\n",
       "    }\n",
       "\n",
       "    .dataframe thead th {\n",
       "        text-align: right;\n",
       "    }\n",
       "</style>\n",
       "<table border=\"1\" class=\"dataframe\">\n",
       "  <thead>\n",
       "    <tr style=\"text-align: right;\">\n",
       "      <th></th>\n",
       "      <th>iso_code</th>\n",
       "      <th>continent</th>\n",
       "      <th>location</th>\n",
       "      <th>date</th>\n",
       "      <th>total_cases</th>\n",
       "      <th>new_cases</th>\n",
       "      <th>new_cases_smoothed</th>\n",
       "      <th>total_deaths</th>\n",
       "      <th>new_deaths</th>\n",
       "      <th>new_deaths_smoothed</th>\n",
       "      <th>...</th>\n",
       "      <th>female_smokers</th>\n",
       "      <th>male_smokers</th>\n",
       "      <th>handwashing_facilities</th>\n",
       "      <th>hospital_beds_per_thousand</th>\n",
       "      <th>life_expectancy</th>\n",
       "      <th>human_development_index</th>\n",
       "      <th>excess_mortality_cumulative_absolute</th>\n",
       "      <th>excess_mortality_cumulative</th>\n",
       "      <th>excess_mortality</th>\n",
       "      <th>excess_mortality_cumulative_per_million</th>\n",
       "    </tr>\n",
       "  </thead>\n",
       "  <tbody>\n",
       "    <tr>\n",
       "      <th>172518</th>\n",
       "      <td>USA</td>\n",
       "      <td>North America</td>\n",
       "      <td>United States</td>\n",
       "      <td>2022-04-27</td>\n",
       "      <td>81189379.0</td>\n",
       "      <td>88780.0</td>\n",
       "      <td>55234.571</td>\n",
       "      <td>992740.0</td>\n",
       "      <td>800.0</td>\n",
       "      <td>348.286</td>\n",
       "      <td>...</td>\n",
       "      <td>19.1</td>\n",
       "      <td>24.6</td>\n",
       "      <td>NaN</td>\n",
       "      <td>2.77</td>\n",
       "      <td>78.86</td>\n",
       "      <td>0.926</td>\n",
       "      <td>NaN</td>\n",
       "      <td>NaN</td>\n",
       "      <td>NaN</td>\n",
       "      <td>NaN</td>\n",
       "    </tr>\n",
       "    <tr>\n",
       "      <th>23638</th>\n",
       "      <td>BRA</td>\n",
       "      <td>South America</td>\n",
       "      <td>Brazil</td>\n",
       "      <td>2022-04-27</td>\n",
       "      <td>30399004.0</td>\n",
       "      <td>20943.0</td>\n",
       "      <td>12433.571</td>\n",
       "      <td>663350.0</td>\n",
       "      <td>242.0</td>\n",
       "      <td>98.714</td>\n",
       "      <td>...</td>\n",
       "      <td>10.1</td>\n",
       "      <td>17.9</td>\n",
       "      <td>NaN</td>\n",
       "      <td>2.20</td>\n",
       "      <td>75.88</td>\n",
       "      <td>0.765</td>\n",
       "      <td>NaN</td>\n",
       "      <td>NaN</td>\n",
       "      <td>NaN</td>\n",
       "      <td>NaN</td>\n",
       "    </tr>\n",
       "    <tr>\n",
       "      <th>76375</th>\n",
       "      <td>IND</td>\n",
       "      <td>Asia</td>\n",
       "      <td>India</td>\n",
       "      <td>2022-04-27</td>\n",
       "      <td>43068799.0</td>\n",
       "      <td>3303.0</td>\n",
       "      <td>2689.286</td>\n",
       "      <td>523693.0</td>\n",
       "      <td>39.0</td>\n",
       "      <td>233.000</td>\n",
       "      <td>...</td>\n",
       "      <td>1.9</td>\n",
       "      <td>20.6</td>\n",
       "      <td>59.550</td>\n",
       "      <td>0.53</td>\n",
       "      <td>69.66</td>\n",
       "      <td>0.645</td>\n",
       "      <td>NaN</td>\n",
       "      <td>NaN</td>\n",
       "      <td>NaN</td>\n",
       "      <td>NaN</td>\n",
       "    </tr>\n",
       "    <tr>\n",
       "      <th>136209</th>\n",
       "      <td>RUS</td>\n",
       "      <td>Europe</td>\n",
       "      <td>Russia</td>\n",
       "      <td>2022-04-27</td>\n",
       "      <td>17894787.0</td>\n",
       "      <td>7635.0</td>\n",
       "      <td>8100.000</td>\n",
       "      <td>367850.0</td>\n",
       "      <td>158.0</td>\n",
       "      <td>170.857</td>\n",
       "      <td>...</td>\n",
       "      <td>23.4</td>\n",
       "      <td>58.3</td>\n",
       "      <td>NaN</td>\n",
       "      <td>8.05</td>\n",
       "      <td>72.58</td>\n",
       "      <td>0.824</td>\n",
       "      <td>NaN</td>\n",
       "      <td>NaN</td>\n",
       "      <td>NaN</td>\n",
       "      <td>NaN</td>\n",
       "    </tr>\n",
       "    <tr>\n",
       "      <th>107036</th>\n",
       "      <td>MEX</td>\n",
       "      <td>North America</td>\n",
       "      <td>Mexico</td>\n",
       "      <td>2022-04-27</td>\n",
       "      <td>5736579.0</td>\n",
       "      <td>1464.0</td>\n",
       "      <td>859.857</td>\n",
       "      <td>324221.0</td>\n",
       "      <td>48.0</td>\n",
       "      <td>31.000</td>\n",
       "      <td>...</td>\n",
       "      <td>6.9</td>\n",
       "      <td>21.4</td>\n",
       "      <td>87.847</td>\n",
       "      <td>1.38</td>\n",
       "      <td>75.05</td>\n",
       "      <td>0.779</td>\n",
       "      <td>NaN</td>\n",
       "      <td>NaN</td>\n",
       "      <td>NaN</td>\n",
       "      <td>NaN</td>\n",
       "    </tr>\n",
       "  </tbody>\n",
       "</table>\n",
       "<p>5 rows × 67 columns</p>\n",
       "</div>"
      ],
      "text/plain": [
       "       iso_code      continent       location       date  total_cases  \\\n",
       "172518      USA  North America  United States 2022-04-27   81189379.0   \n",
       "23638       BRA  South America         Brazil 2022-04-27   30399004.0   \n",
       "76375       IND           Asia          India 2022-04-27   43068799.0   \n",
       "136209      RUS         Europe         Russia 2022-04-27   17894787.0   \n",
       "107036      MEX  North America         Mexico 2022-04-27    5736579.0   \n",
       "\n",
       "        new_cases  new_cases_smoothed  total_deaths  new_deaths  \\\n",
       "172518    88780.0           55234.571      992740.0       800.0   \n",
       "23638     20943.0           12433.571      663350.0       242.0   \n",
       "76375      3303.0            2689.286      523693.0        39.0   \n",
       "136209     7635.0            8100.000      367850.0       158.0   \n",
       "107036     1464.0             859.857      324221.0        48.0   \n",
       "\n",
       "        new_deaths_smoothed  ...  female_smokers  male_smokers  \\\n",
       "172518              348.286  ...            19.1          24.6   \n",
       "23638                98.714  ...            10.1          17.9   \n",
       "76375               233.000  ...             1.9          20.6   \n",
       "136209              170.857  ...            23.4          58.3   \n",
       "107036               31.000  ...             6.9          21.4   \n",
       "\n",
       "        handwashing_facilities  hospital_beds_per_thousand  life_expectancy  \\\n",
       "172518                     NaN                        2.77            78.86   \n",
       "23638                      NaN                        2.20            75.88   \n",
       "76375                   59.550                        0.53            69.66   \n",
       "136209                     NaN                        8.05            72.58   \n",
       "107036                  87.847                        1.38            75.05   \n",
       "\n",
       "        human_development_index  excess_mortality_cumulative_absolute  \\\n",
       "172518                    0.926                                   NaN   \n",
       "23638                     0.765                                   NaN   \n",
       "76375                     0.645                                   NaN   \n",
       "136209                    0.824                                   NaN   \n",
       "107036                    0.779                                   NaN   \n",
       "\n",
       "        excess_mortality_cumulative  excess_mortality  \\\n",
       "172518                          NaN               NaN   \n",
       "23638                           NaN               NaN   \n",
       "76375                           NaN               NaN   \n",
       "136209                          NaN               NaN   \n",
       "107036                          NaN               NaN   \n",
       "\n",
       "        excess_mortality_cumulative_per_million  \n",
       "172518                                      NaN  \n",
       "23638                                       NaN  \n",
       "76375                                       NaN  \n",
       "136209                                      NaN  \n",
       "107036                                      NaN  \n",
       "\n",
       "[5 rows x 67 columns]"
      ]
     },
     "execution_count": 23,
     "metadata": {},
     "output_type": "execute_result"
    }
   ],
   "source": [
    "df_covid.loc[df_covid.date == '2022-04-27'].sort_values(by=\"total_deaths\", ascending=False).head(5)"
   ]
  },
  {
   "cell_type": "code",
   "execution_count": 24,
   "id": "a176d7d1",
   "metadata": {
    "scrolled": false
   },
   "outputs": [
    {
     "data": {
      "text/plain": [
       "location\n",
       "United States    992740.0\n",
       "Brazil           663350.0\n",
       "India            523693.0\n",
       "Russia           367850.0\n",
       "Mexico           324221.0\n",
       "Name: total_deaths, dtype: float64"
      ]
     },
     "execution_count": 24,
     "metadata": {},
     "output_type": "execute_result"
    }
   ],
   "source": [
    "# visualizar os cinco principais países com mais casos na data atual\n",
    "df_covid.loc[df_covid.date == '2022-04-27'].groupby(['location']).total_deaths.sum().sort_values(ascending = False)[:5]"
   ]
  },
  {
   "cell_type": "code",
   "execution_count": 25,
   "id": "1b422a4e",
   "metadata": {
    "scrolled": true
   },
   "outputs": [
    {
     "data": {
      "image/png": "[encoded data removed]",
      "text/plain": [
       "<Figure size 720x360 with 1 Axes>"
      ]
     },
     "metadata": {},
     "output_type": "display_data"
    }
   ],
   "source": [
    "# Plotando gráficos para tipos de imóveis\n",
    "fig, ax1 = plt.subplots()\n",
    "\n",
    "# gráfico da quantidade de casos de COVID-19 por países\n",
    "ax1 = sns.barplot(x= (df_covid.loc[df_covid.date == '2022-04-27'].groupby(['location']).total_deaths.sum().sort_values(ascending = False)[:5]).values, y= (df_covid.loc[df_covid.date == '2022-04-27'].groupby(['location']).total_deaths.sum().sort_values(ascending = False)[:5]).index, ax = ax1, palette = \"rocket_r\")\n",
    "ax1.set_ylabel('Países')\n",
    "ax1.set_xlabel('Número total de Mortes')\n",
    "ax1.set_title(\"Gráfico (Países x Mortes) - 27/04/2022\");\n"
   ]
  },
  {
   "cell_type": "markdown",
   "id": "8c3dc18e",
   "metadata": {},
   "source": [
    "Na data atual, os países que registraram mais mortes foram: Estados Unidos, Brasil, Índia, Rússia e México."
   ]
  },
  {
   "cell_type": "markdown",
   "id": "476fec02",
   "metadata": {},
   "source": [
    "### Quais os países com maior número de pessoas vacinadas?"
   ]
  },
  {
   "cell_type": "markdown",
   "id": "024a592f",
   "metadata": {},
   "source": [
    "Iremos agora checar os cinco países com maior número de pessoas vacinadas, lembrando que estamos considerando números absolutos."
   ]
  },
  {
   "cell_type": "code",
   "execution_count": 26,
   "id": "4684a89c",
   "metadata": {},
   "outputs": [
    {
     "data": {
      "text/plain": [
       "location\n",
       "India            2.307184e+11\n",
       "United States    8.785931e+10\n",
       "Brazil           4.799552e+10\n",
       "Indonesia        4.086151e+10\n",
       "China            2.800972e+10\n",
       "Name: people_vaccinated, dtype: float64"
      ]
     },
     "execution_count": 26,
     "metadata": {},
     "output_type": "execute_result"
    }
   ],
   "source": [
    "df_covid.groupby(['location']).people_vaccinated.sum().sort_values(ascending = False)[:5]"
   ]
  },
  {
   "cell_type": "markdown",
   "id": "a35ab48e",
   "metadata": {},
   "source": [
    "Agora verificaremos o valor em porcentagem em relação à todo o conjunto de dados."
   ]
  },
  {
   "cell_type": "code",
   "execution_count": 27,
   "id": "cee42b3d",
   "metadata": {},
   "outputs": [
    {
     "data": {
      "text/plain": [
       "location\n",
       "India            29.007920\n",
       "United States    11.046436\n",
       "Brazil            6.034413\n",
       "Indonesia         5.137464\n",
       "China             3.521626\n",
       "Name: people_vaccinated, dtype: float64"
      ]
     },
     "execution_count": 27,
     "metadata": {},
     "output_type": "execute_result"
    }
   ],
   "source": [
    "(df_covid.groupby(['location']).people_vaccinated.sum()/df_covid.people_vaccinated.sum() * 100).sort_values(ascending = False)[:5]"
   ]
  },
  {
   "cell_type": "code",
   "execution_count": 28,
   "id": "90fef531",
   "metadata": {
    "scrolled": true
   },
   "outputs": [
    {
     "data": {
      "image/png": "[encoded data removed]",
      "text/plain": [
       "<Figure size 720x360 with 1 Axes>"
      ]
     },
     "metadata": {},
     "output_type": "display_data"
    }
   ],
   "source": [
    "# Plotando gráficos para países com maior número de pessoas vacinadas\n",
    "fig, ax3 = plt.subplots()\n",
    "\n",
    "# atribuindo os valores e índices às variáveis\n",
    "x = (df_covid.groupby(['location']).people_vaccinated.sum().sort_values(ascending = False)[:5]).values\n",
    "y = (df_covid.groupby(['location']).people_vaccinated.sum().sort_values(ascending = False)[:5]).index\n",
    "\n",
    "# gráfico da quantidade de casos de COVID-19 por países\n",
    "ax3 = sns.barplot(x = x, y = y, ax = ax3, palette = \"rocket_r\")\n",
    "ax3.set_ylabel('Países')\n",
    "ax3.set_xlabel('Número de Pessoas Vacinadas')\n",
    "ax3.set_title(\"Gráfico (Países x Pessoas Vacinadas) - Números absolutos\");\n"
   ]
  },
  {
   "cell_type": "markdown",
   "id": "90636f00",
   "metadata": {},
   "source": [
    "Os cinco países com mais pessoas vacinadas são: Índia, Estados Unidos, Brasil, Indonésia e China."
   ]
  },
  {
   "cell_type": "markdown",
   "id": "2fee05bd",
   "metadata": {},
   "source": [
    "### Há correlação entre a parcela da população com 65 anos ou mais e o número total de mortes?"
   ]
  },
  {
   "cell_type": "markdown",
   "id": "13fdef90",
   "metadata": {},
   "source": [
    "O coeficiente de correlação mede a relação estatística entre duas variáveis, sendo que a medida que o valor de uma variável aumenta, maior a sua associação. Iremos agora plotar uma matriz de correlação para observar a medida obtida entre as variáveis `aged_65_older`,`total_deaths_per_million` e `gdp_per_capita`, seguindo os seguintes passos: <br>\n",
    "\n",
    "* Criar uma matriz de correlação\n",
    "* Exibir seu resultado\n",
    "* Realizar um teste de hipóteses\n",
    "* Plotar um gráfico de correlação"
   ]
  },
  {
   "cell_type": "code",
   "execution_count": 29,
   "id": "85ab1ff2",
   "metadata": {},
   "outputs": [
    {
     "data": {
      "text/html": [
       "<div>\n",
       "<style scoped>\n",
       "    .dataframe tbody tr th:only-of-type {\n",
       "        vertical-align: middle;\n",
       "    }\n",
       "\n",
       "    .dataframe tbody tr th {\n",
       "        vertical-align: top;\n",
       "    }\n",
       "\n",
       "    .dataframe thead th {\n",
       "        text-align: right;\n",
       "    }\n",
       "</style>\n",
       "<table border=\"1\" class=\"dataframe\">\n",
       "  <thead>\n",
       "    <tr style=\"text-align: right;\">\n",
       "      <th></th>\n",
       "      <th>aged_65_older</th>\n",
       "      <th>gdp_per_capita</th>\n",
       "      <th>total_deaths_per_million</th>\n",
       "    </tr>\n",
       "  </thead>\n",
       "  <tbody>\n",
       "    <tr>\n",
       "      <th>aged_65_older</th>\n",
       "      <td>1.000000</td>\n",
       "      <td>0.490065</td>\n",
       "      <td>0.385023</td>\n",
       "    </tr>\n",
       "    <tr>\n",
       "      <th>gdp_per_capita</th>\n",
       "      <td>0.490065</td>\n",
       "      <td>1.000000</td>\n",
       "      <td>0.150650</td>\n",
       "    </tr>\n",
       "    <tr>\n",
       "      <th>total_deaths_per_million</th>\n",
       "      <td>0.385023</td>\n",
       "      <td>0.150650</td>\n",
       "      <td>1.000000</td>\n",
       "    </tr>\n",
       "  </tbody>\n",
       "</table>\n",
       "</div>"
      ],
      "text/plain": [
       "                          aged_65_older  gdp_per_capita  \\\n",
       "aged_65_older                  1.000000        0.490065   \n",
       "gdp_per_capita                 0.490065        1.000000   \n",
       "total_deaths_per_million       0.385023        0.150650   \n",
       "\n",
       "                          total_deaths_per_million  \n",
       "aged_65_older                             0.385023  \n",
       "gdp_per_capita                            0.150650  \n",
       "total_deaths_per_million                  1.000000  "
      ]
     },
     "metadata": {},
     "output_type": "display_data"
    }
   ],
   "source": [
    "# criar uma matriz de correlação\n",
    "corr_df = df_covid[['aged_65_older', 'gdp_per_capita', 'total_deaths_per_million']].corr(method='pearson');\n",
    "# mostrar a matriz de correlação\n",
    "display(corr_df);"
   ]
  },
  {
   "cell_type": "code",
   "execution_count": 30,
   "id": "fba862a7",
   "metadata": {},
   "outputs": [
    {
     "data": {
      "image/png": "[encoded data removed]",
      "text/plain": [
       "<Figure size 720x360 with 2 Axes>"
      ]
     },
     "metadata": {},
     "output_type": "display_data"
    }
   ],
   "source": [
    "# plotar o gráfico de correlação\n",
    "sns.heatmap(corr_df, fmt='.2f',square = True, annot = True);"
   ]
  },
  {
   "cell_type": "markdown",
   "id": "70a7a47b",
   "metadata": {},
   "source": [
    "Iremos realizar um teste de hipóteses ao nível de 5% de significância onde queremos verificar se `aged_65_older`e `total_deaths_per_million` têm correlação."
   ]
  },
  {
   "cell_type": "markdown",
   "id": "46e067dc",
   "metadata": {},
   "source": [
    "### Teste de Hipóteses — `aged_65_older` e `total_deaths_per_million` <br>"
   ]
  },
  {
   "cell_type": "markdown",
   "id": "66812984",
   "metadata": {},
   "source": [
    "ρ = coeficiente de correlação linear de Pearson populacional\n",
    "<p><b>Hipótese Nula</b>\n",
    "H0 : ρ = 0 <br>\n",
    "A hipótese nula é de que não há relação linear entre a parcela da população acima de 65 anos e o número total de mortes, ou seja, o coeficiente de correlação linear entre pessoas vacinadas e número de mortes é nulo.\n",
    "<b><br>Hipótese Alternativa </b>\n",
    "HA : ρ ≠ 0 <br></p>\n",
    "A hipótese alternativa é de que há um coeficiente de correlação linear entre as variáveis estudadas."
   ]
  },
  {
   "cell_type": "code",
   "execution_count": 31,
   "id": "eceb99ef",
   "metadata": {},
   "outputs": [
    {
     "name": "stdout",
     "output_type": "stream",
     "text": [
      "R =  0.385023\n",
      "R² =  14.82 %\n",
      "N =  170500\n"
     ]
    }
   ],
   "source": [
    "# variáveis necessárias para o cálculo\n",
    "r = 0.385023\n",
    "r_2 = r ** 2\n",
    "n = df_covid.shape[0]\n",
    "print(\"R = \",r)\n",
    "print(\"R² = \",round(r_2 * 100,2), \"%\")\n",
    "print(\"N = \", n)"
   ]
  },
  {
   "cell_type": "markdown",
   "id": "c0fbcd5d",
   "metadata": {},
   "source": [
    "A variável `aged_65_older` afeta o número total de mortes em 14.82%."
   ]
  },
  {
   "cell_type": "code",
   "execution_count": 32,
   "id": "e937c751",
   "metadata": {},
   "outputs": [
    {
     "name": "stdout",
     "output_type": "stream",
     "text": [
      "Tc:  172.2616\n"
     ]
    }
   ],
   "source": [
    "# T-Calculado\n",
    "tc = (r * math.sqrt(n-2))/math.sqrt(1 - r_2)\n",
    "print(\"Tc: \", round(tc,4))"
   ]
  },
  {
   "cell_type": "code",
   "execution_count": 33,
   "id": "38373da5",
   "metadata": {},
   "outputs": [
    {
     "name": "stdout",
     "output_type": "stream",
     "text": [
      "Valor na t de student:  1.9599778984146143\n"
     ]
    }
   ],
   "source": [
    "# graus de liberdade n-2 com 5% de signficância.\n",
    "t = stats.t.ppf(1-0.025, n - 2)\n",
    "print (\"Valor na t de student: \", t)"
   ]
  },
  {
   "cell_type": "markdown",
   "id": "e5559a24",
   "metadata": {},
   "source": [
    "Como tc > t, a hipótese nula é rejeitada e dizemos que ao nível de 5% de significância, existe correlação positiva entre o número total de pessoas com mais de 65 anos e o número total de mortes."
   ]
  },
  {
   "cell_type": "markdown",
   "id": "ffdc219d",
   "metadata": {},
   "source": [
    "Iremos agora plotar um gráfico de dispersão entre as duas variáveis."
   ]
  },
  {
   "cell_type": "code",
   "execution_count": 34,
   "id": "a944fc99",
   "metadata": {
    "scrolled": true
   },
   "outputs": [
    {
     "data": {
      "image/png": "[encoded data removed]",
      "text/plain": [
       "<Figure size 1080x576 with 1 Axes>"
      ]
     },
     "metadata": {},
     "output_type": "display_data"
    }
   ],
   "source": [
    "df_filtrado = df_covid.loc[df_covid.date >= '2022-04-01']\n",
    "fig = plt.gcf()\n",
    "\n",
    "# Change seaborn plot size\n",
    "fig.set_size_inches(15, 8)\n",
    "\n",
    "ax = sns.scatterplot(data=df_filtrado, x=\"aged_65_older\", y=\"total_deaths_per_million\", hue=\"continent\",  palette=\"magma\", s = 100)\n",
    "ax.set(xlabel='Parcela da População com mais de 65 anos', ylabel='Número total de mortes em milhões')\n",
    "ax.set_title(\"(Parcela da População com mais de 65 anos x Número total de mortes em milhões)  — 04/2022\")\n",
    "plt.show()"
   ]
  },
  {
   "cell_type": "markdown",
   "id": "8253be17",
   "metadata": {},
   "source": [
    "Como podemos observar, de modo geral, à medida que a parcela da população com pessoas acima de 65 anos aumenta, aumenta-se também o número de mortes totais."
   ]
  },
  {
   "cell_type": "markdown",
   "id": "5309593e",
   "metadata": {},
   "source": [
    "Verificaremos agora se há correlação entre `gdp_per_capita` e `total_deaths_per_million`, realizando o teste de hipóteses a 5% de significância e plotando um gráfico de dispersão.\n",
    "A variável `gdp_per_capita` representa o PIB do país, então iremos realizar uma análise entre a economia do país e o número total de mortes."
   ]
  },
  {
   "cell_type": "markdown",
   "id": "bd9159d8",
   "metadata": {},
   "source": [
    "### Teste de Hipóteses — `gdp_per_capita` e `total_deaths_per_million` <br>"
   ]
  },
  {
   "cell_type": "markdown",
   "id": "a2e5e0f4",
   "metadata": {},
   "source": [
    "ρ = coeficiente de correlação linear de Pearson populacional\n",
    "<p><b>Hipótese Nula</b>\n",
    "H0 : ρ = 0 <br>\n",
    "A hipótese nula é de que não há relação linear entre o PIB do país e o número total de mortes, ou seja, o coeficiente de correlação linear entre pessoas vacinadas e número de mortes é nulo.\n",
    "<b><br>Hipótese Alternativa </b>\n",
    "HA : ρ ≠ 0 <br></p>\n",
    "A hipótese alternativa é de que há um coeficiente de correlação linear entre as variáveis estudadas."
   ]
  },
  {
   "cell_type": "code",
   "execution_count": 35,
   "id": "88a781de",
   "metadata": {},
   "outputs": [
    {
     "name": "stdout",
     "output_type": "stream",
     "text": [
      "R =  0.15065\n",
      "R² =  2.27 %\n",
      "N =  170500\n"
     ]
    }
   ],
   "source": [
    "# variáveis necessárias para o cálculo\n",
    "r = 0.150650\n",
    "r_2 = r ** 2\n",
    "n = df_covid.shape[0]\n",
    "print(\"R = \",r)\n",
    "print(\"R² = \",round(r_2 * 100,2), \"%\")\n",
    "print(\"N = \", n)"
   ]
  },
  {
   "cell_type": "markdown",
   "id": "425edb1e",
   "metadata": {},
   "source": [
    "Pode-se observar que a variável `gdp_per_capita` afeta o número total de mortes em 2.27%"
   ]
  },
  {
   "cell_type": "code",
   "execution_count": 36,
   "id": "c8f57416",
   "metadata": {},
   "outputs": [
    {
     "name": "stdout",
     "output_type": "stream",
     "text": [
      "Tc:  62.9236\n"
     ]
    }
   ],
   "source": [
    "# T-Calculado\n",
    "tc = (r * math.sqrt(n-2))/math.sqrt(1 - r_2)\n",
    "print(\"Tc: \", round(tc,4))"
   ]
  },
  {
   "cell_type": "code",
   "execution_count": 37,
   "id": "b0647691",
   "metadata": {},
   "outputs": [
    {
     "name": "stdout",
     "output_type": "stream",
     "text": [
      "Valor na t de student:  1.9599778984146143\n"
     ]
    }
   ],
   "source": [
    "# graus de liberdade n-2 com 5% de signficância.\n",
    "t = stats.t.ppf(1-0.025, n - 2)\n",
    "print (\"Valor na t de student: \", t)"
   ]
  },
  {
   "cell_type": "markdown",
   "id": "2b172b69",
   "metadata": {},
   "source": [
    "Como tc > t, a hipótese nula é rejeitada e dizemos que ao nível de 5% de significância, existe correlação positiva entre o PIB do país e o número total de mortes."
   ]
  },
  {
   "cell_type": "code",
   "execution_count": 38,
   "id": "721ea5c4",
   "metadata": {
    "scrolled": true
   },
   "outputs": [
    {
     "data": {
      "image/png": "[encoded data removed]",
      "text/plain": [
       "<Figure size 1080x576 with 1 Axes>"
      ]
     },
     "metadata": {},
     "output_type": "display_data"
    }
   ],
   "source": [
    "df_filtrado = df_covid.loc[df_covid.date >= '2022-04-01']\n",
    "fig = plt.gcf()\n",
    "\n",
    "# Change seaborn plot size\n",
    "fig.set_size_inches(15, 8)\n",
    "\n",
    "ax = sns.scatterplot(data=df_filtrado, x=\"gdp_per_capita\", y=\"total_deaths_per_million\", hue=\"continent\",  palette=\"magma\", s = 100)\n",
    "ax.set(xlabel='PIB', ylabel='Número total de mortes em milhões')\n",
    "ax.set_title(\"(PIB no País x Número total de mortes em milhões)  — 04/2022\")\n",
    "plt.show()"
   ]
  },
  {
   "cell_type": "markdown",
   "id": "b29a41b6",
   "metadata": {},
   "source": [
    "### Análise Exploratória para o Brasil"
   ]
  },
  {
   "cell_type": "markdown",
   "id": "b3a663e3",
   "metadata": {},
   "source": [
    "<center><img width=\"80%\" src=\"Arquivos/covid_brasil.jpg\"></center>"
   ]
  },
  {
   "cell_type": "markdown",
   "id": "d2a51c39",
   "metadata": {},
   "source": [
    "Nesta etapa, daremos ênfase à análise no Brasil, e buscaremos responder as seguintes questões:\n",
    "\n",
    "* *Em qual data houve o primeiro registro de caso de COVID-19 no Brasil?* \n",
    "* *Em qual data houve o primeiro registro de morte de COVID-19 no Brasil?* \n",
    "* *Gráfico da média móvel do número de casos e mortes no Brasil.* \n",
    "* *Gráfico da média móvel no Brasil em relação ao mundo.* \n"
   ]
  },
  {
   "cell_type": "code",
   "execution_count": 39,
   "id": "0a039514",
   "metadata": {},
   "outputs": [],
   "source": [
    "# criar uma cópia do dataset original apenas com dados do Brasil\n",
    "df_brasil = df.loc[df.location == \"Brazil\"].copy()"
   ]
  },
  {
   "cell_type": "code",
   "execution_count": 40,
   "id": "81072594",
   "metadata": {},
   "outputs": [
    {
     "data": {
      "text/html": [
       "<div>\n",
       "<style scoped>\n",
       "    .dataframe tbody tr th:only-of-type {\n",
       "        vertical-align: middle;\n",
       "    }\n",
       "\n",
       "    .dataframe tbody tr th {\n",
       "        vertical-align: top;\n",
       "    }\n",
       "\n",
       "    .dataframe thead th {\n",
       "        text-align: right;\n",
       "    }\n",
       "</style>\n",
       "<table border=\"1\" class=\"dataframe\">\n",
       "  <thead>\n",
       "    <tr style=\"text-align: right;\">\n",
       "      <th></th>\n",
       "      <th>iso_code</th>\n",
       "      <th>continent</th>\n",
       "      <th>location</th>\n",
       "      <th>date</th>\n",
       "      <th>total_cases</th>\n",
       "      <th>new_cases</th>\n",
       "      <th>new_cases_smoothed</th>\n",
       "      <th>total_deaths</th>\n",
       "      <th>new_deaths</th>\n",
       "      <th>new_deaths_smoothed</th>\n",
       "      <th>...</th>\n",
       "      <th>female_smokers</th>\n",
       "      <th>male_smokers</th>\n",
       "      <th>handwashing_facilities</th>\n",
       "      <th>hospital_beds_per_thousand</th>\n",
       "      <th>life_expectancy</th>\n",
       "      <th>human_development_index</th>\n",
       "      <th>excess_mortality_cumulative_absolute</th>\n",
       "      <th>excess_mortality_cumulative</th>\n",
       "      <th>excess_mortality</th>\n",
       "      <th>excess_mortality_cumulative_per_million</th>\n",
       "    </tr>\n",
       "  </thead>\n",
       "  <tbody>\n",
       "    <tr>\n",
       "      <th>22847</th>\n",
       "      <td>BRA</td>\n",
       "      <td>South America</td>\n",
       "      <td>Brazil</td>\n",
       "      <td>2020-02-26</td>\n",
       "      <td>1.0</td>\n",
       "      <td>1.0</td>\n",
       "      <td>NaN</td>\n",
       "      <td>NaN</td>\n",
       "      <td>NaN</td>\n",
       "      <td>NaN</td>\n",
       "      <td>...</td>\n",
       "      <td>10.1</td>\n",
       "      <td>17.9</td>\n",
       "      <td>NaN</td>\n",
       "      <td>2.2</td>\n",
       "      <td>75.88</td>\n",
       "      <td>0.765</td>\n",
       "      <td>NaN</td>\n",
       "      <td>NaN</td>\n",
       "      <td>NaN</td>\n",
       "      <td>NaN</td>\n",
       "    </tr>\n",
       "    <tr>\n",
       "      <th>22848</th>\n",
       "      <td>BRA</td>\n",
       "      <td>South America</td>\n",
       "      <td>Brazil</td>\n",
       "      <td>2020-02-27</td>\n",
       "      <td>1.0</td>\n",
       "      <td>0.0</td>\n",
       "      <td>NaN</td>\n",
       "      <td>NaN</td>\n",
       "      <td>NaN</td>\n",
       "      <td>NaN</td>\n",
       "      <td>...</td>\n",
       "      <td>10.1</td>\n",
       "      <td>17.9</td>\n",
       "      <td>NaN</td>\n",
       "      <td>2.2</td>\n",
       "      <td>75.88</td>\n",
       "      <td>0.765</td>\n",
       "      <td>NaN</td>\n",
       "      <td>NaN</td>\n",
       "      <td>NaN</td>\n",
       "      <td>NaN</td>\n",
       "    </tr>\n",
       "    <tr>\n",
       "      <th>22849</th>\n",
       "      <td>BRA</td>\n",
       "      <td>South America</td>\n",
       "      <td>Brazil</td>\n",
       "      <td>2020-02-28</td>\n",
       "      <td>1.0</td>\n",
       "      <td>0.0</td>\n",
       "      <td>NaN</td>\n",
       "      <td>NaN</td>\n",
       "      <td>NaN</td>\n",
       "      <td>NaN</td>\n",
       "      <td>...</td>\n",
       "      <td>10.1</td>\n",
       "      <td>17.9</td>\n",
       "      <td>NaN</td>\n",
       "      <td>2.2</td>\n",
       "      <td>75.88</td>\n",
       "      <td>0.765</td>\n",
       "      <td>NaN</td>\n",
       "      <td>NaN</td>\n",
       "      <td>NaN</td>\n",
       "      <td>NaN</td>\n",
       "    </tr>\n",
       "    <tr>\n",
       "      <th>22850</th>\n",
       "      <td>BRA</td>\n",
       "      <td>South America</td>\n",
       "      <td>Brazil</td>\n",
       "      <td>2020-02-29</td>\n",
       "      <td>2.0</td>\n",
       "      <td>1.0</td>\n",
       "      <td>NaN</td>\n",
       "      <td>NaN</td>\n",
       "      <td>NaN</td>\n",
       "      <td>NaN</td>\n",
       "      <td>...</td>\n",
       "      <td>10.1</td>\n",
       "      <td>17.9</td>\n",
       "      <td>NaN</td>\n",
       "      <td>2.2</td>\n",
       "      <td>75.88</td>\n",
       "      <td>0.765</td>\n",
       "      <td>7049.6</td>\n",
       "      <td>3.31</td>\n",
       "      <td>5.25</td>\n",
       "      <td>32.943066</td>\n",
       "    </tr>\n",
       "    <tr>\n",
       "      <th>22851</th>\n",
       "      <td>BRA</td>\n",
       "      <td>South America</td>\n",
       "      <td>Brazil</td>\n",
       "      <td>2020-03-01</td>\n",
       "      <td>2.0</td>\n",
       "      <td>0.0</td>\n",
       "      <td>NaN</td>\n",
       "      <td>NaN</td>\n",
       "      <td>NaN</td>\n",
       "      <td>NaN</td>\n",
       "      <td>...</td>\n",
       "      <td>10.1</td>\n",
       "      <td>17.9</td>\n",
       "      <td>NaN</td>\n",
       "      <td>2.2</td>\n",
       "      <td>75.88</td>\n",
       "      <td>0.765</td>\n",
       "      <td>NaN</td>\n",
       "      <td>NaN</td>\n",
       "      <td>NaN</td>\n",
       "      <td>NaN</td>\n",
       "    </tr>\n",
       "  </tbody>\n",
       "</table>\n",
       "<p>5 rows × 67 columns</p>\n",
       "</div>"
      ],
      "text/plain": [
       "      iso_code      continent location       date  total_cases  new_cases  \\\n",
       "22847      BRA  South America   Brazil 2020-02-26          1.0        1.0   \n",
       "22848      BRA  South America   Brazil 2020-02-27          1.0        0.0   \n",
       "22849      BRA  South America   Brazil 2020-02-28          1.0        0.0   \n",
       "22850      BRA  South America   Brazil 2020-02-29          2.0        1.0   \n",
       "22851      BRA  South America   Brazil 2020-03-01          2.0        0.0   \n",
       "\n",
       "       new_cases_smoothed  total_deaths  new_deaths  new_deaths_smoothed  ...  \\\n",
       "22847                 NaN           NaN         NaN                  NaN  ...   \n",
       "22848                 NaN           NaN         NaN                  NaN  ...   \n",
       "22849                 NaN           NaN         NaN                  NaN  ...   \n",
       "22850                 NaN           NaN         NaN                  NaN  ...   \n",
       "22851                 NaN           NaN         NaN                  NaN  ...   \n",
       "\n",
       "       female_smokers  male_smokers  handwashing_facilities  \\\n",
       "22847            10.1          17.9                     NaN   \n",
       "22848            10.1          17.9                     NaN   \n",
       "22849            10.1          17.9                     NaN   \n",
       "22850            10.1          17.9                     NaN   \n",
       "22851            10.1          17.9                     NaN   \n",
       "\n",
       "       hospital_beds_per_thousand  life_expectancy  human_development_index  \\\n",
       "22847                         2.2            75.88                    0.765   \n",
       "22848                         2.2            75.88                    0.765   \n",
       "22849                         2.2            75.88                    0.765   \n",
       "22850                         2.2            75.88                    0.765   \n",
       "22851                         2.2            75.88                    0.765   \n",
       "\n",
       "       excess_mortality_cumulative_absolute  excess_mortality_cumulative  \\\n",
       "22847                                   NaN                          NaN   \n",
       "22848                                   NaN                          NaN   \n",
       "22849                                   NaN                          NaN   \n",
       "22850                                7049.6                         3.31   \n",
       "22851                                   NaN                          NaN   \n",
       "\n",
       "       excess_mortality  excess_mortality_cumulative_per_million  \n",
       "22847               NaN                                      NaN  \n",
       "22848               NaN                                      NaN  \n",
       "22849               NaN                                      NaN  \n",
       "22850              5.25                                32.943066  \n",
       "22851               NaN                                      NaN  \n",
       "\n",
       "[5 rows x 67 columns]"
      ]
     },
     "execution_count": 40,
     "metadata": {},
     "output_type": "execute_result"
    }
   ],
   "source": [
    "# mostrar as cinco primeiras entradas\n",
    "df_brasil.head()"
   ]
  },
  {
   "cell_type": "code",
   "execution_count": 41,
   "id": "7d3e69b3",
   "metadata": {},
   "outputs": [
    {
     "data": {
      "text/plain": [
       "iso_code                                      0.000000\n",
       "female_smokers                                0.000000\n",
       "male_smokers                                  0.000000\n",
       "hospital_beds_per_thousand                    0.000000\n",
       "life_expectancy                               0.000000\n",
       "human_development_index                       0.000000\n",
       "extreme_poverty                               0.000000\n",
       "population                                    0.000000\n",
       "gdp_per_capita                                0.000000\n",
       "aged_70_older                                 0.000000\n",
       "diabetes_prevalence                           0.000000\n",
       "cardiovasc_death_rate                         0.000000\n",
       "aged_65_older                                 0.000000\n",
       "median_age                                    0.000000\n",
       "population_density                            0.000000\n",
       "date                                          0.000000\n",
       "location                                      0.000000\n",
       "continent                                     0.000000\n",
       "total_cases                                   0.001261\n",
       "total_cases_per_million                       0.001261\n",
       "new_cases                                     0.003783\n",
       "new_cases_per_million                         0.003783\n",
       "new_cases_smoothed_per_million                0.010088\n",
       "new_cases_smoothed                            0.010088\n",
       "stringency_index                              0.021438\n",
       "reproduction_rate                             0.025221\n",
       "new_deaths_per_million                        0.026482\n",
       "total_deaths_per_million                      0.026482\n",
       "new_deaths                                    0.026482\n",
       "total_deaths                                  0.026482\n",
       "new_deaths_smoothed                           0.032787\n",
       "new_deaths_smoothed_per_million               0.032787\n",
       "tests_units                                   0.136192\n",
       "new_tests_smoothed                            0.145019\n",
       "new_tests_smoothed_per_thousand               0.145019\n",
       "tests_per_case                                0.331652\n",
       "positive_rate                                 0.331652\n",
       "new_people_vaccinated_smoothed_per_hundred    0.412358\n",
       "new_people_vaccinated_smoothed                0.412358\n",
       "new_vaccinations_smoothed_per_million         0.412358\n",
       "new_vaccinations_smoothed                     0.412358\n",
       "total_vaccinations_per_hundred                0.426230\n",
       "total_vaccinations                            0.426230\n",
       "people_vaccinated_per_hundred                 0.431274\n",
       "people_vaccinated                             0.431274\n",
       "new_vaccinations                              0.435057\n",
       "people_fully_vaccinated_per_hundred           0.451450\n",
       "people_fully_vaccinated                       0.451450\n",
       "total_tests_per_thousand                      0.544767\n",
       "total_tests                                   0.544767\n",
       "new_tests_per_thousand                        0.665826\n",
       "new_tests                                     0.665826\n",
       "total_boosters_per_hundred                    0.713745\n",
       "total_boosters                                0.713745\n",
       "excess_mortality_cumulative                   0.968474\n",
       "excess_mortality_cumulative_absolute          0.968474\n",
       "excess_mortality                              0.968474\n",
       "excess_mortality_cumulative_per_million       0.968474\n",
       "weekly_icu_admissions                         1.000000\n",
       "hosp_patients_per_million                     1.000000\n",
       "handwashing_facilities                        1.000000\n",
       "hosp_patients                                 1.000000\n",
       "icu_patients_per_million                      1.000000\n",
       "icu_patients                                  1.000000\n",
       "weekly_hosp_admissions                        1.000000\n",
       "weekly_hosp_admissions_per_million            1.000000\n",
       "weekly_icu_admissions_per_million             1.000000\n",
       "dtype: float64"
      ]
     },
     "execution_count": 41,
     "metadata": {},
     "output_type": "execute_result"
    }
   ],
   "source": [
    "# verificar a quantidade valores ausentes\n",
    "(df_brasil.isnull().sum() / df_brasil.shape[0]).sort_values(ascending=True)"
   ]
  },
  {
   "cell_type": "markdown",
   "id": "096c3331",
   "metadata": {},
   "source": [
    "O primeiro caso confirmado de COVID-19 no Brasil foi no dia 26 de fevereiro de 2020."
   ]
  },
  {
   "cell_type": "code",
   "execution_count": 42,
   "id": "cf9b8b10",
   "metadata": {
    "scrolled": true
   },
   "outputs": [
    {
     "data": {
      "text/plain": [
       "Timestamp('2020-02-26 00:00:00')"
      ]
     },
     "execution_count": 42,
     "metadata": {},
     "output_type": "execute_result"
    }
   ],
   "source": [
    "# exibir primeiro caso confirmado de COVID-19 no Brasil\n",
    "df_brasil.loc[df_brasil['total_cases'] == df_brasil['total_cases'].min()]['date'].min()"
   ]
  },
  {
   "cell_type": "markdown",
   "id": "a017a368",
   "metadata": {},
   "source": [
    "O primeiro caso de morte no Brasil foi no dia 17 de março de 2020."
   ]
  },
  {
   "cell_type": "code",
   "execution_count": 43,
   "id": "4d17a924",
   "metadata": {},
   "outputs": [
    {
     "data": {
      "text/plain": [
       "Timestamp('2020-03-17 00:00:00')"
      ]
     },
     "execution_count": 43,
     "metadata": {},
     "output_type": "execute_result"
    }
   ],
   "source": [
    "# exibir primeiro caso de morte no Brasil\n",
    "df_brasil.loc[df_brasil['total_deaths'] == df_brasil['total_deaths'].min()]['date'].min()"
   ]
  },
  {
   "cell_type": "markdown",
   "id": "97417afc",
   "metadata": {},
   "source": [
    "Iremos observar as datas mínimas e máximas de registros."
   ]
  },
  {
   "cell_type": "code",
   "execution_count": 44,
   "id": "88670f27",
   "metadata": {},
   "outputs": [
    {
     "name": "stdout",
     "output_type": "stream",
     "text": [
      "Data inicial dos registros: 2020-02-26 00:00:00\n",
      "Data final dos registros: 2022-04-28 00:00:00\n"
     ]
    }
   ],
   "source": [
    "# exibir a data máxima e mínima de registro no Brasil\n",
    "print(f'Data inicial dos registros: {df_brasil.date.min()}')\n",
    "print(f'Data final dos registros: {df_brasil.date.max()}')"
   ]
  },
  {
   "cell_type": "markdown",
   "id": "266e2c59",
   "metadata": {},
   "source": [
    "Agora iremos observar gráficos de linhas referentes à média móvel de casos de COVID-19 no Brasil até a data atual, bem como a média móvel de mortes. A média móvel é a média de casos ou mortes dos últimos 7 dias."
   ]
  },
  {
   "cell_type": "code",
   "execution_count": 45,
   "id": "50367ae4",
   "metadata": {
    "scrolled": true
   },
   "outputs": [
    {
     "data": {
      "image/png": "[encoded data removed]",
      "text/plain": [
       "<Figure size 1224x576 with 2 Axes>"
      ]
     },
     "metadata": {},
     "output_type": "display_data"
    }
   ],
   "source": [
    "fig, (ax1, ax2) = plt.subplots(2, 1, figsize=(17, 8))\n",
    "\n",
    "df_brasil_clean_new_cases_smoothed = df_brasil.dropna(subset=['new_cases_smoothed'])\n",
    "df_brasil_clean_new_deaths_smoothed = df_brasil.dropna(subset=['new_deaths_smoothed'])\n",
    "\n",
    "ax1.grid(False)\n",
    "ax2.grid(False)\n",
    "\n",
    "ax1.plot(df_brasil_clean_new_cases_smoothed['date'], df_brasil_clean_new_cases_smoothed['new_cases_smoothed'], label='Casos Confirmados')\n",
    "last_date = df_brasil_clean_new_cases_smoothed['date'].max()\n",
    "ax1.set_title(f\"Média móvel de casos de COVID-19 no Brasil até {last_date.day}/{last_date.month}/{last_date.year}\", fontsize=20);\n",
    "\n",
    "\n",
    "ax2.plot(df_brasil_clean_new_deaths_smoothed['date'], df_brasil_clean_new_deaths_smoothed['new_deaths_smoothed'], label='Mortes')\n",
    "last_date = df_brasil_clean_new_deaths_smoothed['date'].max()\n",
    "ax2.set_title(f\"Média móvel de mortes de COVID-19 no Brasil até {last_date.day}/{last_date.month}/{last_date.year}\", fontsize=20);\n",
    "\n",
    "\n",
    "plt.tight_layout(pad = 3.0);"
   ]
  },
  {
   "cell_type": "markdown",
   "id": "d19364db",
   "metadata": {},
   "source": [
    "Podemos observar que a média móvel de casos teve um pico a partir de janeiro de 2022. Isto pode acontecer devido a variante ômicron, que quadruplicou os casos no país e foi identificada pela primeira vez no Brasil em 30 de novembro de 2021, além de medidas de flexibilização de distanciamento social e datas festivas de final do ano. Contudo, esse aumento não ocorre na média móvel de mortes."
   ]
  },
  {
   "cell_type": "markdown",
   "id": "0a4c107a",
   "metadata": {},
   "source": [
    "Observaremos agora gráficos de linha da porcentagem de pessoas com pelo menos a 1° dose de vacina no Brasil, e das doses de reforço aplicadas."
   ]
  },
  {
   "cell_type": "code",
   "execution_count": 46,
   "id": "9e6599b2",
   "metadata": {
    "scrolled": true
   },
   "outputs": [
    {
     "data": {
      "image/png": "[encoded data removed]",
      "text/plain": [
       "<Figure size 1080x576 with 2 Axes>"
      ]
     },
     "metadata": {},
     "output_type": "display_data"
    }
   ],
   "source": [
    "fig, (ax1, ax2) = plt.subplots(2, 1,figsize=(15, 8))\n",
    "\n",
    "\n",
    "df_brasil_clean_people_vaccinated_per_hundred = df_brasil.dropna(subset=['people_vaccinated_per_hundred'])\n",
    "df_brasil_clean_total_boosters_per_hundred = df_brasil.dropna(subset=['total_boosters_per_hundred'])\n",
    "\n",
    "ax1.grid(False)\n",
    "ax2.grid(False)\n",
    "\n",
    "ax1.plot(df_brasil_clean_people_vaccinated_per_hundred['date'], df_brasil_clean_people_vaccinated_per_hundred['people_vaccinated_per_hundred'])\n",
    "ax1.set_title(f\"Porcentagem de pessoas com ao menos a 1º dose no Brasil\", fontsize=18);\n",
    "\n",
    "ax2.plot(df_brasil_clean_total_boosters_per_hundred['date'], df_brasil_clean_total_boosters_per_hundred['total_boosters_per_hundred'])\n",
    "ax2.set_title(f\"Porcentagem de doses de reforço aplicadas\", fontsize=18);\n",
    "\n",
    "\n",
    "plt.tight_layout(pad = 3.0);"
   ]
  },
  {
   "cell_type": "markdown",
   "id": "a62d5327",
   "metadata": {},
   "source": [
    "Podemos perceber que a porcentagem de pessoas com a primeira dose aplicada cresceu ao longo do tempo, bem como a porcentagem de doses de reforço aplicadas."
   ]
  },
  {
   "cell_type": "markdown",
   "id": "63237dfd",
   "metadata": {},
   "source": [
    "Por fim, observaremos um gráfico que analisa a média móvel de mortes no brasil e no mundo."
   ]
  },
  {
   "cell_type": "code",
   "execution_count": 47,
   "id": "6b1f439f",
   "metadata": {},
   "outputs": [
    {
     "data": {
      "image/png": "[encoded data removed]",
      "text/plain": [
       "<Figure size 1440x576 with 1 Axes>"
      ]
     },
     "metadata": {},
     "output_type": "display_data"
    }
   ],
   "source": [
    "fig, ax = plt.subplots(figsize=(20, 8))\n",
    "\n",
    "mundo = df.loc[df.location == 'World'][['date', 'new_cases_smoothed_per_million']]\n",
    "df_brasil_cleaned = df_brasil.dropna(subset=['new_cases_smoothed_per_million'])\n",
    "\n",
    "ax.grid(False)\n",
    "ax.plot(df_brasil_cleaned['date'], df_brasil_cleaned['new_cases_smoothed_per_million'], label = 'Brasil')\n",
    "ax.plot(mundo['date'], mundo['new_cases_smoothed_per_million'], c = 'pink', label = 'Mundo')\n",
    "\n",
    "ax.set_title('Média Móvel no Brasil vs Mundo', fontsize = 20)\n",
    "leg = plt.legend(loc='upper left', prop={'size': 20})\n",
    "\n",
    "plt.tight_layout(pad = 3.0);"
   ]
  },
  {
   "cell_type": "markdown",
   "id": "3d81cecd",
   "metadata": {},
   "source": [
    "### Conclusão"
   ]
  },
  {
   "cell_type": "markdown",
   "id": "ed42e15c",
   "metadata": {},
   "source": [
    "Para obter intuições tanto globais quanto localmente, usamos um conjunto de dados fornecido pelo Our World in Data, que incluía valores para o número de casos e mortes em cada país, parcela da população com idade maior que 65 anos, PIB do país, entre outras informações. Devemos lembrar que esta é uma análise superficial, com foco em estudo, onde os números foram observados de forma absoluta e não relativa, influenciando no resultado total.\n",
    "\n",
    "Algumas observações podem ficar desatualizadas como resultado dos relatórios contínuos da COVID-19. No entanto, tendo em conta a análise até 27 de abril de 2022, podemos concluir:\n",
    "\n",
    "* Os países com mais casos de COVID-19 em números absolutos são respectivamente: Estados Unidos, Índia, Brasil, França e o Reino Unido. Eles representam 45% de todos os casos registrados no mundo.\n",
    "* Na data atual, os países com mais casos são: Estados Unidos, Índia, Brasil, França e Alemanha.\n",
    "* Os países com mais mortes por COVID-19 em números absolutos são: Estados Unidos, Brasil, Índia, México e Peru.\n",
    "* Na data atual, os países com mais mortes registradas são: Estados Unidos, Brasil, Índia, Rússia e México.\n",
    "* Os países com mais pessoas vacinadas em termos absolutos são Índia, Estados Unidos, Brasil, Indonésia e China.\n",
    "* A variável aged_65_older, que representa a parcela da população acima de 65 anos, afeta o número total de mortes em 14.82%.\n",
    "* A variável gdp_per_capita, que representa o PIB do país, afeta o número total de mortes em 2.27%\n",
    "* O primeiro caso confirmado de COVID-19 no Brasil foi no dia 26 de fevereiro de 2020.\n",
    "* O primeiro caso de morte no Brasil foi no dia 17 de março de 2020.\n",
    "* A média móvel de casos no país teve um pico devido à variante ômicron, contudo, a média móvel de mortes não obteve um aumento considerável.\n",
    "* O número de pessoas com pelo menos a primeira dose da vacina e com doses de reforço cresce temporalmente."
   ]
  }
 ],
 "metadata": {
  "kernelspec": {
   "display_name": "Python 3",
   "language": "python",
   "name": "python3"
  },
  "language_info": {
   "codemirror_mode": {
    "name": "ipython",
    "version": 3
   },
   "file_extension": ".py",
   "mimetype": "text/x-python",
   "name": "python",
   "nbconvert_exporter": "python",
   "pygments_lexer": "ipython3",
   "version": "3.8.8"
  }
 },
 "nbformat": 4,
 "nbformat_minor": 5
}
