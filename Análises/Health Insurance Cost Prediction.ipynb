{
 "cells": [
  {
   "cell_type": "markdown",
   "id": "83c573a2",
   "metadata": {},
   "source": [
    "# Health Insurance Cost Prediction"
   ]
  },
  {
   "cell_type": "markdown",
   "id": "cd7ac4b4",
   "metadata": {},
   "source": [
    "A **predição do custo do seguro de saúde** é o processo de **estimar a quantidade de dinheiro** que um indivíduo ou um grupo **precisará pagar por sua cobertura de seguro de saúde no futuro**. Isso envolve a análise de vários fatores, como idade, gênero, histórico médico, escolhas de estilo de vida e o tipo de cobertura necessário. A previsão de custos do seguro de saúde é fundamental para diversos tipos de indivíduos, pois ajuda a tomar melhores decisões sobre a escolha de planos, gerenciando assim seus gastos. Para os empregadores, prever os custos ajuda a planejar os orçamentos aos seus funcionários e para as seguradoras, a precificar as apólices de maneira mais precisa. De modo geral, é um tópico extremamente necessário.\n",
    "\n",
    "<p align = \"center\">\n",
    "<img src=\"Arquivos/health.jpg\" width=80%>\n",
    "</p>\n",
    "\n",
    "O **objetivo** desse projeto é **criar um modelo de predição de custo** utilizando **análises de dados** e algoritmos de aprendizado de máquina automatizados (**Auto-ML**). Essas técnicas analisam grandes volumes de dados históricos para identificar padrões e tendências que podem ajudar a prever custos futuros. O modelo obtido visa ajudar as seguradoras a projetar planos de saúde eficazes, precificar suas políticas corretamente e ajudar indivíduos a tomar decisões informadas sobre suas escolhas de seguro de saúde. "
   ]
  },
  {
   "cell_type": "markdown",
   "id": "4ad4bd7f",
   "metadata": {},
   "source": [
    "## Aquisição dos Dados\n",
    "\n",
    "Os dados utilizados neste projeto foram originalmente disponibilizados no [Kaggle](https://www.kaggle.com/datasets/annetxu/health-insurance-cost-prediction). O conjunto de dados \"Health Insurance Cost Prediction\" contém informações sobre o custo do seguro de saúde de indivíduos nos EUA.\n",
    "\n",
    "Apesar de não haver informações explícitas disponíves, os nomes das colunas permitem um entendimento a respeito do problema."
   ]
  },
  {
   "cell_type": "code",
   "execution_count": 307,
   "id": "b41befe5",
   "metadata": {},
   "outputs": [],
   "source": [
    "# Importação de bibliotecas básicas\n",
    "import pandas as pd\n",
    "import numpy as np\n",
    "import matplotlib.pyplot as plt\n",
    "import seaborn as sns\n",
    "import warnings\n",
    "warnings.filterwarnings('ignore')\n",
    "\n",
    "from sklearn.preprocessing import LabelEncoder, StandardScaler\n",
    "from pycaret.regression import setup, compare_models, models, create_model, predict_model\n",
    "from pycaret.regression import tune_model, plot_model, evaluate_model, finalize_model\n",
    "from pycaret.regression import save_model, load_model"
   ]
  },
  {
   "cell_type": "code",
   "execution_count": 308,
   "id": "0db1dcbb",
   "metadata": {},
   "outputs": [],
   "source": [
    "# importar os dados\n",
    "DATA_PATH = \"Arquivos\\insurance.csv\"\n",
    "df = pd.read_csv(DATA_PATH)"
   ]
  },
  {
   "cell_type": "markdown",
   "id": "24bd7788",
   "metadata": {},
   "source": [
    "## Análise dos Dados\n",
    "\n",
    "Esta etapa tem por objetivo permitir um entendimento de como os dados estão estruturados.\n",
    "\n",
    "**Dicionário das variáveis**\n",
    "* `Age` (Idade): A idade do indivíduo em anos.\n",
    "* `Sex` (Sexo): O sexo do indivíduo (masculino ou feminino).\n",
    "* `BMI` (Índice de Massa Corporal): O índice de massa corporal (IMC) do indivíduo, uma medida da gordura corporal com base na altura e peso.\n",
    "* `Children` (Número de filhos): O número de filhos dependentes do indivíduo.\n",
    "* `Smoker` (Fumante): Se o indivíduo é fumante ou não (sim ou não).\n",
    "* `Region` (Região): A região nos EUA onde o indivíduo reside (Nordeste, Sudeste, Sudoeste, Noroeste).\n",
    "* `Charges` (Custos): O custo anual do seguro de saúde para o indivíduo em dólares."
   ]
  },
  {
   "cell_type": "markdown",
   "id": "4c21ee3c",
   "metadata": {},
   "source": [
    "## Análise Exploratória dos Dados\n",
    "\n",
    "Na análise exploratória de dados será efetuada uma explanação inicial das variáveis contidas na dataset, e entenderemos dados referentes a:\n",
    "\n",
    "* *Contexto geral das variáveis*\n",
    "* *Porcentagem de itens nulos*\n",
    "* *Análise das variáveis numéricas*\n",
    "* *Análise das variáveis categóricas*\n",
    "* *Feature Engineering*\n",
    "* *Pré-processamento de dados*\n",
    "* *Auto-ML*\n"
   ]
  },
  {
   "cell_type": "markdown",
   "id": "9826f6ed",
   "metadata": {},
   "source": [
    "### Contexto geral"
   ]
  },
  {
   "cell_type": "markdown",
   "id": "815a58bd",
   "metadata": {},
   "source": [
    "Primeiramente, observaremos como estão dispostas as cinco primeiras entradas do dataset para ter uma visão ampla da estrutura de dados."
   ]
  },
  {
   "cell_type": "code",
   "execution_count": 309,
   "id": "3f4c311f",
   "metadata": {
    "scrolled": true
   },
   "outputs": [
    {
     "data": {
      "text/html": [
       "<div>\n",
       "<style scoped>\n",
       "    .dataframe tbody tr th:only-of-type {\n",
       "        vertical-align: middle;\n",
       "    }\n",
       "\n",
       "    .dataframe tbody tr th {\n",
       "        vertical-align: top;\n",
       "    }\n",
       "\n",
       "    .dataframe thead th {\n",
       "        text-align: right;\n",
       "    }\n",
       "</style>\n",
       "<table border=\"1\" class=\"dataframe\">\n",
       "  <thead>\n",
       "    <tr style=\"text-align: right;\">\n",
       "      <th></th>\n",
       "      <th>age</th>\n",
       "      <th>sex</th>\n",
       "      <th>bmi</th>\n",
       "      <th>children</th>\n",
       "      <th>smoker</th>\n",
       "      <th>region</th>\n",
       "      <th>charges</th>\n",
       "    </tr>\n",
       "  </thead>\n",
       "  <tbody>\n",
       "    <tr>\n",
       "      <th>0</th>\n",
       "      <td>19</td>\n",
       "      <td>female</td>\n",
       "      <td>27.900</td>\n",
       "      <td>0</td>\n",
       "      <td>yes</td>\n",
       "      <td>southwest</td>\n",
       "      <td>16884.92400</td>\n",
       "    </tr>\n",
       "    <tr>\n",
       "      <th>1</th>\n",
       "      <td>18</td>\n",
       "      <td>male</td>\n",
       "      <td>33.770</td>\n",
       "      <td>1</td>\n",
       "      <td>no</td>\n",
       "      <td>southeast</td>\n",
       "      <td>1725.55230</td>\n",
       "    </tr>\n",
       "    <tr>\n",
       "      <th>2</th>\n",
       "      <td>28</td>\n",
       "      <td>male</td>\n",
       "      <td>33.000</td>\n",
       "      <td>3</td>\n",
       "      <td>no</td>\n",
       "      <td>southeast</td>\n",
       "      <td>4449.46200</td>\n",
       "    </tr>\n",
       "    <tr>\n",
       "      <th>3</th>\n",
       "      <td>33</td>\n",
       "      <td>male</td>\n",
       "      <td>22.705</td>\n",
       "      <td>0</td>\n",
       "      <td>no</td>\n",
       "      <td>northwest</td>\n",
       "      <td>21984.47061</td>\n",
       "    </tr>\n",
       "    <tr>\n",
       "      <th>4</th>\n",
       "      <td>32</td>\n",
       "      <td>male</td>\n",
       "      <td>28.880</td>\n",
       "      <td>0</td>\n",
       "      <td>no</td>\n",
       "      <td>northwest</td>\n",
       "      <td>3866.85520</td>\n",
       "    </tr>\n",
       "  </tbody>\n",
       "</table>\n",
       "</div>"
      ],
      "text/plain": [
       "   age     sex     bmi  children smoker     region      charges\n",
       "0   19  female  27.900         0    yes  southwest  16884.92400\n",
       "1   18    male  33.770         1     no  southeast   1725.55230\n",
       "2   28    male  33.000         3     no  southeast   4449.46200\n",
       "3   33    male  22.705         0     no  northwest  21984.47061\n",
       "4   32    male  28.880         0     no  northwest   3866.85520"
      ]
     },
     "execution_count": 309,
     "metadata": {},
     "output_type": "execute_result"
    }
   ],
   "source": [
    "df.head()"
   ]
  },
  {
   "cell_type": "code",
   "execution_count": 310,
   "id": "a46a87a1",
   "metadata": {
    "scrolled": true
   },
   "outputs": [
    {
     "name": "stdout",
     "output_type": "stream",
     "text": [
      "Entradas:  1338\n",
      "Variáveis:  7\n"
     ]
    }
   ],
   "source": [
    "# Visualizar o tamanho do dataframe\n",
    "print(\"Entradas: \", df.shape[0])\n",
    "print(\"Variáveis: \", df.shape[1])"
   ]
  },
  {
   "cell_type": "code",
   "execution_count": 311,
   "id": "c1edcdf2",
   "metadata": {
    "scrolled": true
   },
   "outputs": [
    {
     "data": {
      "text/plain": [
       "Index(['age', 'sex', 'bmi', 'children', 'smoker', 'region', 'charges'], dtype='object')"
      ]
     },
     "execution_count": 311,
     "metadata": {},
     "output_type": "execute_result"
    }
   ],
   "source": [
    "# Extrair o nome das colunas\n",
    "df.columns"
   ]
  },
  {
   "cell_type": "markdown",
   "id": "28cd5668",
   "metadata": {},
   "source": [
    "O dataset é composto por 7 variáveis e 1338 entradas, sendo relativamente pequeno. O significado de cada variável está disposto acima."
   ]
  },
  {
   "cell_type": "code",
   "execution_count": 312,
   "id": "19d15711",
   "metadata": {
    "scrolled": false
   },
   "outputs": [
    {
     "data": {
      "text/plain": [
       "age           int64\n",
       "sex          object\n",
       "bmi         float64\n",
       "children      int64\n",
       "smoker       object\n",
       "region       object\n",
       "charges     float64\n",
       "dtype: object"
      ]
     },
     "execution_count": 312,
     "metadata": {},
     "output_type": "execute_result"
    }
   ],
   "source": [
    "# Extrair o tipo das variáveis\n",
    "df.dtypes"
   ]
  },
  {
   "cell_type": "code",
   "execution_count": 313,
   "id": "42b3f3e1",
   "metadata": {
    "scrolled": true
   },
   "outputs": [
    {
     "data": {
      "text/plain": [
       "age         0.0\n",
       "sex         0.0\n",
       "bmi         0.0\n",
       "children    0.0\n",
       "smoker      0.0\n",
       "region      0.0\n",
       "charges     0.0\n",
       "dtype: float64"
      ]
     },
     "execution_count": 313,
     "metadata": {},
     "output_type": "execute_result"
    }
   ],
   "source": [
    "# Porcentagem de itens nulos\n",
    "round((df.isnull().sum()/df.shape[0]).sort_values(ascending = True) * 100,2)"
   ]
  },
  {
   "cell_type": "markdown",
   "id": "2e3de530",
   "metadata": {},
   "source": [
    "Podemos perceber que as **variáveis estão adequadas com os tipos de dados**. As **numéricas são int ou float** e as **categórias, são strings**. A porcentagem de itens ausentes é de 0% em todas as variáveis, o que é um aspecto positivo, haja vista que **não há dados faltantes**."
   ]
  },
  {
   "cell_type": "markdown",
   "id": "2de66ea8",
   "metadata": {},
   "source": [
    "**Variáveis numéricas são aquelas que representam quantidades numéricas ou valores medidos em uma escala quantitativa.** Elas podem ser discretas, como contagens inteiras, ou contínuas, como medidas de tempo ou peso. Já as **variáveis categóricas**, ou qualitativas, **representam grupos ou categorias distintas, que não podem ser medidas numericamente**.\n",
    "No dataset em questão as **numéricas** são `age`, `bmi`, `children` e `charges`. Já as **categóricas**, `sex`, `smoker` e `region`. Analisarei agora cada tipo de variável."
   ]
  },
  {
   "cell_type": "markdown",
   "id": "52381678",
   "metadata": {},
   "source": [
    "### Variáveis numéricas"
   ]
  },
  {
   "cell_type": "markdown",
   "id": "4b37799e",
   "metadata": {},
   "source": [
    "Abaixo será plotado o **histograma para as variáveis numéricas**. O histograma nos permite observar a distribuição de frequência e obter alguns *insights*."
   ]
  },
  {
   "cell_type": "code",
   "execution_count": 314,
   "id": "5f0b7a9e",
   "metadata": {
    "scrolled": true
   },
   "outputs": [
    {
     "data": {
      "image/png": "[encoded data removed]",
      "text/plain": [
       "<Figure size 1500x1000 with 4 Axes>"
      ]
     },
     "metadata": {},
     "output_type": "display_data"
    }
   ],
   "source": [
    "# plotar o histograma das variáveis numéricas\n",
    "df.hist(figsize=(15,10), grid=False);"
   ]
  },
  {
   "cell_type": "markdown",
   "id": "16a8234e",
   "metadata": {},
   "source": [
    "Com o histograma, foi possível notar que:\n",
    "    \n",
    "* A variável `age`contém maior frequência de indivíduos com até 20 anos.\n",
    "* A maior parte dos indivíduos contém imc, ou `bmi`, de 25 a 35, o que seria classificado como sobrepeso ou obesidade grau I.\n",
    "* A maioria dos indivíduos não têm filhos, pela variável `children`.\n",
    "* Os custos, `charges`, mais frequentes variam até 10.000 doláres."
   ]
  },
  {
   "cell_type": "markdown",
   "id": "eac9ba15",
   "metadata": {},
   "source": [
    "Além disso, irei plotar a **descrição estatística** de tais variáveis."
   ]
  },
  {
   "cell_type": "code",
   "execution_count": 315,
   "id": "99fd27d6",
   "metadata": {
    "scrolled": true
   },
   "outputs": [
    {
     "data": {
      "text/html": [
       "<div>\n",
       "<style scoped>\n",
       "    .dataframe tbody tr th:only-of-type {\n",
       "        vertical-align: middle;\n",
       "    }\n",
       "\n",
       "    .dataframe tbody tr th {\n",
       "        vertical-align: top;\n",
       "    }\n",
       "\n",
       "    .dataframe thead th {\n",
       "        text-align: right;\n",
       "    }\n",
       "</style>\n",
       "<table border=\"1\" class=\"dataframe\">\n",
       "  <thead>\n",
       "    <tr style=\"text-align: right;\">\n",
       "      <th></th>\n",
       "      <th>age</th>\n",
       "      <th>bmi</th>\n",
       "      <th>children</th>\n",
       "      <th>charges</th>\n",
       "    </tr>\n",
       "  </thead>\n",
       "  <tbody>\n",
       "    <tr>\n",
       "      <th>count</th>\n",
       "      <td>1338.0</td>\n",
       "      <td>1338.0</td>\n",
       "      <td>1338.0</td>\n",
       "      <td>1338.0</td>\n",
       "    </tr>\n",
       "    <tr>\n",
       "      <th>mean</th>\n",
       "      <td>39.2</td>\n",
       "      <td>30.7</td>\n",
       "      <td>1.1</td>\n",
       "      <td>13270.4</td>\n",
       "    </tr>\n",
       "    <tr>\n",
       "      <th>std</th>\n",
       "      <td>14.0</td>\n",
       "      <td>6.1</td>\n",
       "      <td>1.2</td>\n",
       "      <td>12110.0</td>\n",
       "    </tr>\n",
       "    <tr>\n",
       "      <th>min</th>\n",
       "      <td>18.0</td>\n",
       "      <td>16.0</td>\n",
       "      <td>0.0</td>\n",
       "      <td>1121.9</td>\n",
       "    </tr>\n",
       "    <tr>\n",
       "      <th>25%</th>\n",
       "      <td>27.0</td>\n",
       "      <td>26.3</td>\n",
       "      <td>0.0</td>\n",
       "      <td>4740.3</td>\n",
       "    </tr>\n",
       "    <tr>\n",
       "      <th>50%</th>\n",
       "      <td>39.0</td>\n",
       "      <td>30.4</td>\n",
       "      <td>1.0</td>\n",
       "      <td>9382.0</td>\n",
       "    </tr>\n",
       "    <tr>\n",
       "      <th>75%</th>\n",
       "      <td>51.0</td>\n",
       "      <td>34.7</td>\n",
       "      <td>2.0</td>\n",
       "      <td>16639.9</td>\n",
       "    </tr>\n",
       "    <tr>\n",
       "      <th>max</th>\n",
       "      <td>64.0</td>\n",
       "      <td>53.1</td>\n",
       "      <td>5.0</td>\n",
       "      <td>63770.4</td>\n",
       "    </tr>\n",
       "  </tbody>\n",
       "</table>\n",
       "</div>"
      ],
      "text/plain": [
       "          age     bmi  children  charges\n",
       "count  1338.0  1338.0    1338.0   1338.0\n",
       "mean     39.2    30.7       1.1  13270.4\n",
       "std      14.0     6.1       1.2  12110.0\n",
       "min      18.0    16.0       0.0   1121.9\n",
       "25%      27.0    26.3       0.0   4740.3\n",
       "50%      39.0    30.4       1.0   9382.0\n",
       "75%      51.0    34.7       2.0  16639.9\n",
       "max      64.0    53.1       5.0  63770.4"
      ]
     },
     "execution_count": 315,
     "metadata": {},
     "output_type": "execute_result"
    }
   ],
   "source": [
    "df.describe().round(1)"
   ]
  },
  {
   "cell_type": "markdown",
   "id": "6bf62604",
   "metadata": {},
   "source": [
    "Com a descrição estatística é possível observar que os **dados são congruentes**, não sendo identificados outliers, ou informações discrepantes. De novas informações, obtemos:\n",
    "\n",
    "* A idade mínima no dataset foi de 18 anos e a máxima, 64.\n",
    "* A mediana do imc é 30.4, obesidade grau I.\n",
    "* A quantidade mínima de filhos é 0 e a máxima 5.\n",
    "* A mediana de custos é 9382 doláres."
   ]
  },
  {
   "cell_type": "markdown",
   "id": "e3b03012",
   "metadata": {},
   "source": [
    "A **matriz de correlação de Pearson** é uma matriz quadrada que mostra as **correlações entre todas as variáveis numéricas de um conjunto de dados**. A correlação de Pearson é uma medida estatística que mede a relação linear entre duas variáveis contínuas, variando de -1 (correlação negativa perfeita) a 1 (correlação positiva perfeita), com 0 indicando a ausência de correlação linear. A matriz de correlação de Pearson é útil para **identificar as relações lineares entre as variáveis de um conjunto de dados** e para **identificar as variáveis mais relevantes para um modelo preditivo**.\n",
    "Abaixo será plotado a matriz e o gráfico de correlação."
   ]
  },
  {
   "cell_type": "code",
   "execution_count": 316,
   "id": "ab66587c",
   "metadata": {
    "scrolled": true
   },
   "outputs": [
    {
     "data": {
      "text/html": [
       "<div>\n",
       "<style scoped>\n",
       "    .dataframe tbody tr th:only-of-type {\n",
       "        vertical-align: middle;\n",
       "    }\n",
       "\n",
       "    .dataframe tbody tr th {\n",
       "        vertical-align: top;\n",
       "    }\n",
       "\n",
       "    .dataframe thead th {\n",
       "        text-align: right;\n",
       "    }\n",
       "</style>\n",
       "<table border=\"1\" class=\"dataframe\">\n",
       "  <thead>\n",
       "    <tr style=\"text-align: right;\">\n",
       "      <th></th>\n",
       "      <th>age</th>\n",
       "      <th>bmi</th>\n",
       "      <th>children</th>\n",
       "      <th>charges</th>\n",
       "    </tr>\n",
       "  </thead>\n",
       "  <tbody>\n",
       "    <tr>\n",
       "      <th>age</th>\n",
       "      <td>1.000000</td>\n",
       "      <td>0.109272</td>\n",
       "      <td>0.042469</td>\n",
       "      <td>0.299008</td>\n",
       "    </tr>\n",
       "    <tr>\n",
       "      <th>bmi</th>\n",
       "      <td>0.109272</td>\n",
       "      <td>1.000000</td>\n",
       "      <td>0.012759</td>\n",
       "      <td>0.198341</td>\n",
       "    </tr>\n",
       "    <tr>\n",
       "      <th>children</th>\n",
       "      <td>0.042469</td>\n",
       "      <td>0.012759</td>\n",
       "      <td>1.000000</td>\n",
       "      <td>0.067998</td>\n",
       "    </tr>\n",
       "    <tr>\n",
       "      <th>charges</th>\n",
       "      <td>0.299008</td>\n",
       "      <td>0.198341</td>\n",
       "      <td>0.067998</td>\n",
       "      <td>1.000000</td>\n",
       "    </tr>\n",
       "  </tbody>\n",
       "</table>\n",
       "</div>"
      ],
      "text/plain": [
       "               age       bmi  children   charges\n",
       "age       1.000000  0.109272  0.042469  0.299008\n",
       "bmi       0.109272  1.000000  0.012759  0.198341\n",
       "children  0.042469  0.012759  1.000000  0.067998\n",
       "charges   0.299008  0.198341  0.067998  1.000000"
      ]
     },
     "metadata": {},
     "output_type": "display_data"
    }
   ],
   "source": [
    "# criar uma matriz de correlação\n",
    "corr_df = df.corr(method='pearson');\n",
    "\n",
    "# mostrar a matriz de correlação\n",
    "display(corr_df);"
   ]
  },
  {
   "cell_type": "code",
   "execution_count": 317,
   "id": "1e5025e5",
   "metadata": {
    "scrolled": true
   },
   "outputs": [
    {
     "data": {
      "image/png": "[encoded data removed]",
      "text/plain": [
       "<Figure size 800x550 with 2 Axes>"
      ]
     },
     "metadata": {},
     "output_type": "display_data"
    }
   ],
   "source": [
    "# plotar o gráfico de correlação\n",
    "sns.heatmap(corr_df, cmap='Reds', fmt='.2f',square = True, linecolor = 'white', annot = True);"
   ]
  },
  {
   "cell_type": "markdown",
   "id": "fd7256f4",
   "metadata": {},
   "source": [
    "Com a visualização, podemos observar que os dados que possuem maior correlação com a variável alvo `charges` são `age`com 0.29 e `bmi`com 0.19. "
   ]
  },
  {
   "cell_type": "markdown",
   "id": "ea17266e",
   "metadata": {},
   "source": [
    "### Variáveis categóricas"
   ]
  },
  {
   "cell_type": "markdown",
   "id": "e3eb70b9",
   "metadata": {},
   "source": [
    "Será plotado um gráfico de balanceamento para a variável `sex` a fim de identificar se há maior prevalência de um gênero no conjunto de dados."
   ]
  },
  {
   "cell_type": "code",
   "execution_count": 318,
   "id": "f4fe32c2",
   "metadata": {},
   "outputs": [
    {
     "data": {
      "text/plain": [
       "male      50.523169\n",
       "female    49.476831\n",
       "Name: sex, dtype: float64"
      ]
     },
     "execution_count": 318,
     "metadata": {},
     "output_type": "execute_result"
    }
   ],
   "source": [
    "# porcentagem de indivíduos por gênero\n",
    "df.sex.value_counts()/df.shape[0] * 100"
   ]
  },
  {
   "cell_type": "code",
   "execution_count": 319,
   "id": "f07fad5b",
   "metadata": {
    "scrolled": true
   },
   "outputs": [
    {
     "data": {
      "image/png": "[encoded data removed]",
      "text/plain": [
       "<Figure size 800x550 with 1 Axes>"
      ]
     },
     "metadata": {},
     "output_type": "display_data"
    }
   ],
   "source": [
    "# gráfico de balanceamento\n",
    "sns.countplot(x=df.sex, hue=df.sex);"
   ]
  },
  {
   "cell_type": "markdown",
   "id": "d80aef02",
   "metadata": {},
   "source": [
    "Pode-se observar que não há uma diferença relevante entre os tipos de gênero. Aproximadamente 50.52% dos indivíduos são homens e 49.48%  mulheres, ou seja, está balanceado."
   ]
  },
  {
   "cell_type": "markdown",
   "id": "db550873",
   "metadata": {},
   "source": [
    "Agora será observado a proporção entre fumantes e não fumantes."
   ]
  },
  {
   "cell_type": "code",
   "execution_count": 320,
   "id": "57ad5a8a",
   "metadata": {},
   "outputs": [
    {
     "data": {
      "text/plain": [
       "no     79.521674\n",
       "yes    20.478326\n",
       "Name: smoker, dtype: float64"
      ]
     },
     "execution_count": 320,
     "metadata": {},
     "output_type": "execute_result"
    }
   ],
   "source": [
    "# porcentagem de indivíduos fumantes ou não\n",
    "df.smoker.value_counts()/df.shape[0] * 100"
   ]
  },
  {
   "cell_type": "code",
   "execution_count": 321,
   "id": "fd607a0d",
   "metadata": {
    "scrolled": false
   },
   "outputs": [
    {
     "data": {
      "image/png": "[encoded data removed]",
      "text/plain": [
       "<Figure size 800x550 with 1 Axes>"
      ]
     },
     "metadata": {},
     "output_type": "display_data"
    }
   ],
   "source": [
    "sns.countplot(x=df.smoker, hue=df.smoker);"
   ]
  },
  {
   "cell_type": "markdown",
   "id": "956ed153",
   "metadata": {},
   "source": [
    "Agora a proporção está desbalanceada, com 80% dos indivíduos sendo não fumantes e apenas 20% fumantes."
   ]
  },
  {
   "cell_type": "markdown",
   "id": "bc53813d",
   "metadata": {},
   "source": [
    "Por fim, será verificado a quantidade de indivíduos por região com um gráfico de barras."
   ]
  },
  {
   "cell_type": "code",
   "execution_count": 322,
   "id": "ab2700e3",
   "metadata": {
    "scrolled": false
   },
   "outputs": [
    {
     "data": {
      "image/png": "[encoded data removed]",
      "text/plain": [
       "<Figure size 800x500 with 1 Axes>"
      ]
     },
     "metadata": {},
     "output_type": "display_data"
    }
   ],
   "source": [
    "# plotar gráficos para as informações obtidas\n",
    "fig, ax = plt.subplots(1, 1, figsize=(8,5))\n",
    "\n",
    "\n",
    "# define informações iniciais referentes à coloração\n",
    "sns.set(style=\"whitegrid\", color_codes=True)\n",
    "sns.set_palette(sns.color_palette(\"Spectral\"))\n",
    "\n",
    "\n",
    "# gráfico da média de preço por distrito\n",
    "ax = sns.barplot(x=list(df.region.value_counts().values), y=list(df.region.value_counts().index), order= df.region.value_counts().sort_values(ascending = False).index, ax = ax)\n",
    "ax.set_xlabel('Quantidade de Indivíduos')\n",
    "ax.set_ylabel('Região')\n",
    "ax.set_title(\"Quantidade de Indivíduos por Região\");\n",
    "\n"
   ]
  },
  {
   "cell_type": "markdown",
   "id": "81a70cd7",
   "metadata": {},
   "source": [
    "Pode-se observar que a maioria dos indivíduos reside na região sudeste, mas é uma diferença sutil. De modo geral os dados são desbalanceados."
   ]
  },
  {
   "cell_type": "markdown",
   "id": "8be6bb80",
   "metadata": {},
   "source": [
    "### Feature Engineering "
   ]
  },
  {
   "cell_type": "markdown",
   "id": "f27f7895",
   "metadata": {},
   "source": [
    "O Feature Engineering é o processo de seleção e transformação de variáveis (ou características) de um conjunto de dados com o objetivo de melhorar o desempenho de um modelo preditivo.\n",
    "A fim de melhorar o desempenho do classificador, irei criar a variável `bmi_category`, que irá receber um número baseado no range do IMC, para tal, criei uma função `define_bmi_category`, que retorna o valor adequado de acordo com a estrutura abaixo.\n",
    "\n",
    "* IMC abaixo de 18,5 é considerado abaixo do peso (categoria 0).\n",
    "* IMC entre 18,5 e 25 é considerado peso normal (categoria 1).\n",
    "* IMC entre 25 e 30 é considerado sobrepeso (categoria 2).\n",
    "* IMC entre 30 e 35 é considerado obeso (categoria 3).\n",
    "* IMC entre 35 e 40 é considerado obeso mórbido (categoria 4).\n",
    "* IMC igual ou maior que 40 é considerado obeso mórbido grave (categoria 5)."
   ]
  },
  {
   "cell_type": "code",
   "execution_count": 323,
   "id": "0faea98f",
   "metadata": {},
   "outputs": [],
   "source": [
    "def define_bmi_category(bmi):\n",
    "    \"\"\"\n",
    "    Retorna a categoria de acordo com o IMC.\n",
    "\n",
    "    # Arguments\n",
    "        entrada: float, float da coluna BMI.\n",
    "\n",
    "    # Returns\n",
    "        Categoria em int, de acordo com o range especificado.\n",
    "    \"\"\"\n",
    "    if bmi < 18.5:\n",
    "        return 0\n",
    "    elif bmi >= 18.5 and bmi < 25:\n",
    "        return 1\n",
    "    elif bmi >= 25 and bmi < 30:\n",
    "        return 2\n",
    "    elif bmi >= 30 and bmi < 35:\n",
    "        return 3\n",
    "    elif bmi >= 35 and bmi < 40:\n",
    "        return 4\n",
    "    else:\n",
    "        return 5"
   ]
  },
  {
   "cell_type": "code",
   "execution_count": 324,
   "id": "35128b80",
   "metadata": {},
   "outputs": [],
   "source": [
    "# cria a variável bmi_category\n",
    "df['bmi'] = df['bmi'].astype(float)\n",
    "df['bmi_category'] = df['bmi'].apply(define_bmi_category)"
   ]
  },
  {
   "cell_type": "markdown",
   "id": "8eb78592",
   "metadata": {},
   "source": [
    "A variável `bmi_category` foi criada, e podemos observá-la no dataset."
   ]
  },
  {
   "cell_type": "code",
   "execution_count": 325,
   "id": "8fc05744",
   "metadata": {},
   "outputs": [
    {
     "data": {
      "text/html": [
       "<div>\n",
       "<style scoped>\n",
       "    .dataframe tbody tr th:only-of-type {\n",
       "        vertical-align: middle;\n",
       "    }\n",
       "\n",
       "    .dataframe tbody tr th {\n",
       "        vertical-align: top;\n",
       "    }\n",
       "\n",
       "    .dataframe thead th {\n",
       "        text-align: right;\n",
       "    }\n",
       "</style>\n",
       "<table border=\"1\" class=\"dataframe\">\n",
       "  <thead>\n",
       "    <tr style=\"text-align: right;\">\n",
       "      <th></th>\n",
       "      <th>age</th>\n",
       "      <th>sex</th>\n",
       "      <th>bmi</th>\n",
       "      <th>children</th>\n",
       "      <th>smoker</th>\n",
       "      <th>region</th>\n",
       "      <th>charges</th>\n",
       "      <th>bmi_category</th>\n",
       "    </tr>\n",
       "  </thead>\n",
       "  <tbody>\n",
       "    <tr>\n",
       "      <th>0</th>\n",
       "      <td>19</td>\n",
       "      <td>female</td>\n",
       "      <td>27.900</td>\n",
       "      <td>0</td>\n",
       "      <td>yes</td>\n",
       "      <td>southwest</td>\n",
       "      <td>16884.92400</td>\n",
       "      <td>2</td>\n",
       "    </tr>\n",
       "    <tr>\n",
       "      <th>1</th>\n",
       "      <td>18</td>\n",
       "      <td>male</td>\n",
       "      <td>33.770</td>\n",
       "      <td>1</td>\n",
       "      <td>no</td>\n",
       "      <td>southeast</td>\n",
       "      <td>1725.55230</td>\n",
       "      <td>3</td>\n",
       "    </tr>\n",
       "    <tr>\n",
       "      <th>2</th>\n",
       "      <td>28</td>\n",
       "      <td>male</td>\n",
       "      <td>33.000</td>\n",
       "      <td>3</td>\n",
       "      <td>no</td>\n",
       "      <td>southeast</td>\n",
       "      <td>4449.46200</td>\n",
       "      <td>3</td>\n",
       "    </tr>\n",
       "    <tr>\n",
       "      <th>3</th>\n",
       "      <td>33</td>\n",
       "      <td>male</td>\n",
       "      <td>22.705</td>\n",
       "      <td>0</td>\n",
       "      <td>no</td>\n",
       "      <td>northwest</td>\n",
       "      <td>21984.47061</td>\n",
       "      <td>1</td>\n",
       "    </tr>\n",
       "    <tr>\n",
       "      <th>4</th>\n",
       "      <td>32</td>\n",
       "      <td>male</td>\n",
       "      <td>28.880</td>\n",
       "      <td>0</td>\n",
       "      <td>no</td>\n",
       "      <td>northwest</td>\n",
       "      <td>3866.85520</td>\n",
       "      <td>2</td>\n",
       "    </tr>\n",
       "  </tbody>\n",
       "</table>\n",
       "</div>"
      ],
      "text/plain": [
       "   age     sex     bmi  children smoker     region      charges  bmi_category\n",
       "0   19  female  27.900         0    yes  southwest  16884.92400             2\n",
       "1   18    male  33.770         1     no  southeast   1725.55230             3\n",
       "2   28    male  33.000         3     no  southeast   4449.46200             3\n",
       "3   33    male  22.705         0     no  northwest  21984.47061             1\n",
       "4   32    male  28.880         0     no  northwest   3866.85520             2"
      ]
     },
     "execution_count": 325,
     "metadata": {},
     "output_type": "execute_result"
    }
   ],
   "source": [
    "df.head()"
   ]
  },
  {
   "cell_type": "markdown",
   "id": "841ccae2",
   "metadata": {},
   "source": [
    "## Preparar os Dados\n",
    "\n",
    "Nesta etapa de preparação dos dados, será realizado um **pré-processamento básico**, apenas com a finalidade de construir um modelo base. \n",
    "\n",
    "As features `sex`, `smoker` e `region` serão processadas usando-se o `LabelEncoder`"
   ]
  },
  {
   "cell_type": "code",
   "execution_count": 326,
   "id": "c6b94d97",
   "metadata": {
    "scrolled": false
   },
   "outputs": [
    {
     "data": {
      "text/html": [
       "<div>\n",
       "<style scoped>\n",
       "    .dataframe tbody tr th:only-of-type {\n",
       "        vertical-align: middle;\n",
       "    }\n",
       "\n",
       "    .dataframe tbody tr th {\n",
       "        vertical-align: top;\n",
       "    }\n",
       "\n",
       "    .dataframe thead th {\n",
       "        text-align: right;\n",
       "    }\n",
       "</style>\n",
       "<table border=\"1\" class=\"dataframe\">\n",
       "  <thead>\n",
       "    <tr style=\"text-align: right;\">\n",
       "      <th></th>\n",
       "      <th>age</th>\n",
       "      <th>sex</th>\n",
       "      <th>bmi</th>\n",
       "      <th>children</th>\n",
       "      <th>smoker</th>\n",
       "      <th>region</th>\n",
       "      <th>charges</th>\n",
       "      <th>bmi_category</th>\n",
       "    </tr>\n",
       "  </thead>\n",
       "  <tbody>\n",
       "    <tr>\n",
       "      <th>0</th>\n",
       "      <td>19</td>\n",
       "      <td>0</td>\n",
       "      <td>27.900</td>\n",
       "      <td>0</td>\n",
       "      <td>1</td>\n",
       "      <td>3</td>\n",
       "      <td>16884.92400</td>\n",
       "      <td>2</td>\n",
       "    </tr>\n",
       "    <tr>\n",
       "      <th>1</th>\n",
       "      <td>18</td>\n",
       "      <td>1</td>\n",
       "      <td>33.770</td>\n",
       "      <td>1</td>\n",
       "      <td>0</td>\n",
       "      <td>2</td>\n",
       "      <td>1725.55230</td>\n",
       "      <td>3</td>\n",
       "    </tr>\n",
       "    <tr>\n",
       "      <th>2</th>\n",
       "      <td>28</td>\n",
       "      <td>1</td>\n",
       "      <td>33.000</td>\n",
       "      <td>3</td>\n",
       "      <td>0</td>\n",
       "      <td>2</td>\n",
       "      <td>4449.46200</td>\n",
       "      <td>3</td>\n",
       "    </tr>\n",
       "    <tr>\n",
       "      <th>3</th>\n",
       "      <td>33</td>\n",
       "      <td>1</td>\n",
       "      <td>22.705</td>\n",
       "      <td>0</td>\n",
       "      <td>0</td>\n",
       "      <td>1</td>\n",
       "      <td>21984.47061</td>\n",
       "      <td>1</td>\n",
       "    </tr>\n",
       "    <tr>\n",
       "      <th>4</th>\n",
       "      <td>32</td>\n",
       "      <td>1</td>\n",
       "      <td>28.880</td>\n",
       "      <td>0</td>\n",
       "      <td>0</td>\n",
       "      <td>1</td>\n",
       "      <td>3866.85520</td>\n",
       "      <td>2</td>\n",
       "    </tr>\n",
       "  </tbody>\n",
       "</table>\n",
       "</div>"
      ],
      "text/plain": [
       "   age  sex     bmi  children  smoker  region      charges  bmi_category\n",
       "0   19    0  27.900         0       1       3  16884.92400             2\n",
       "1   18    1  33.770         1       0       2   1725.55230             3\n",
       "2   28    1  33.000         3       0       2   4449.46200             3\n",
       "3   33    1  22.705         0       0       1  21984.47061             1\n",
       "4   32    1  28.880         0       0       1   3866.85520             2"
      ]
     },
     "execution_count": 326,
     "metadata": {},
     "output_type": "execute_result"
    }
   ],
   "source": [
    "# Cria o LabelEncoder\n",
    "le = LabelEncoder()\n",
    "\n",
    "cols_to_encode = ['sex','smoker', 'region']\n",
    "\n",
    "# Itera sobre as colunas selecionadas e aplica o encoder\n",
    "for col in cols_to_encode:\n",
    "    df[col] = le.fit_transform(df[col])\n",
    "\n",
    "# Imprime o dataframe com as colunas codificadas\n",
    "df.head()"
   ]
  },
  {
   "cell_type": "markdown",
   "id": "ae6d1497",
   "metadata": {},
   "source": [
    "Os dados foram pré-processados e podemos observar no dataframe que os valores agora são numéricos. Irei plotar uma matriz de correlação para observar se obtemos algum *insight*."
   ]
  },
  {
   "cell_type": "code",
   "execution_count": 327,
   "id": "6d73847f",
   "metadata": {
    "scrolled": false
   },
   "outputs": [
    {
     "data": {
      "image/png": "[encoded data removed]",
      "text/plain": [
       "<Figure size 800x550 with 2 Axes>"
      ]
     },
     "metadata": {},
     "output_type": "display_data"
    }
   ],
   "source": [
    "# criar uma matriz de correlação\n",
    "corr_df = df.corr(method='pearson');\n",
    "\n",
    "\n",
    "# plotar o gráfico de correlação\n",
    "sns.heatmap(corr_df, cmap='Reds', fmt='.2f',square = True, linecolor = 'white', annot = True);"
   ]
  },
  {
   "cell_type": "markdown",
   "id": "4d9618fb",
   "metadata": {},
   "source": [
    "Pode-se observar que a variável `smoker` demonstrou-se relevante à variável alvo `charges`, com uma correlação linear de 0.79.\n",
    "\n",
    "Com o conjunto de dados devidamente preparado iremos criar o conjunto de treino e teste. Utilizaremos o teste para validar o modelo ao final."
   ]
  },
  {
   "cell_type": "code",
   "execution_count": 328,
   "id": "abc62c4e",
   "metadata": {},
   "outputs": [],
   "source": [
    "# separando os dados em teste e treino\n",
    "test = df.sample(frac=0.10)\n",
    "train = df.drop(test.index)\n",
    "\n",
    "test.reset_index(inplace=True, drop=True)\n",
    "train.reset_index(inplace=True, drop=True)"
   ]
  },
  {
   "cell_type": "code",
   "execution_count": 329,
   "id": "24d8221b",
   "metadata": {},
   "outputs": [
    {
     "name": "stdout",
     "output_type": "stream",
     "text": [
      "(1204, 8)\n",
      "(134, 8)\n"
     ]
    }
   ],
   "source": [
    "# verificando o formato dos conjuntos\n",
    "print(train.shape)\n",
    "print(test.shape)"
   ]
  },
  {
   "cell_type": "markdown",
   "id": "b65b83ad",
   "metadata": {},
   "source": [
    "## Auto-Machine Learning"
   ]
  },
  {
   "cell_type": "markdown",
   "id": "507d2a41",
   "metadata": {},
   "source": [
    "AutoML (**Aprendizado de Máquina Automático**) é um conjunto de técnicas e ferramentas que **automatizam o processo de desenvolvimento de modelos de Machine Learning**. O **PyCaret** é uma **biblioteca de AutoML** de código aberto para Python que permite criar, treinar e ajustar modelos de aprendizado de máquina de forma rápida e fácil. Para esse projeto, **utilizaremos a biblioteca**, a fim de permitir a verificação de hipóteses de maneira mais rápida."
   ]
  },
  {
   "cell_type": "markdown",
   "id": "c4f04571",
   "metadata": {},
   "source": [
    "Abaixo será criado um pipeline para o modelo de regressão, onde os dados de treino serão passados e a variável alvo (`charges`) é informada."
   ]
  },
  {
   "cell_type": "code",
   "execution_count": 330,
   "id": "8e2780b5",
   "metadata": {
    "scrolled": true
   },
   "outputs": [
    {
     "data": {
      "text/html": [
       "<style type=\"text/css\">\n",
       "#T_bfce0_row8_col1, #T_bfce0_row12_col1 {\n",
       "  background-color: lightgreen;\n",
       "}\n",
       "</style>\n",
       "<table id=\"T_bfce0\">\n",
       "  <thead>\n",
       "    <tr>\n",
       "      <th class=\"blank level0\" >&nbsp;</th>\n",
       "      <th id=\"T_bfce0_level0_col0\" class=\"col_heading level0 col0\" >Description</th>\n",
       "      <th id=\"T_bfce0_level0_col1\" class=\"col_heading level0 col1\" >Value</th>\n",
       "    </tr>\n",
       "  </thead>\n",
       "  <tbody>\n",
       "    <tr>\n",
       "      <th id=\"T_bfce0_level0_row0\" class=\"row_heading level0 row0\" >0</th>\n",
       "      <td id=\"T_bfce0_row0_col0\" class=\"data row0 col0\" >Session id</td>\n",
       "      <td id=\"T_bfce0_row0_col1\" class=\"data row0 col1\" >7854</td>\n",
       "    </tr>\n",
       "    <tr>\n",
       "      <th id=\"T_bfce0_level0_row1\" class=\"row_heading level0 row1\" >1</th>\n",
       "      <td id=\"T_bfce0_row1_col0\" class=\"data row1 col0\" >Target</td>\n",
       "      <td id=\"T_bfce0_row1_col1\" class=\"data row1 col1\" >charges</td>\n",
       "    </tr>\n",
       "    <tr>\n",
       "      <th id=\"T_bfce0_level0_row2\" class=\"row_heading level0 row2\" >2</th>\n",
       "      <td id=\"T_bfce0_row2_col0\" class=\"data row2 col0\" >Target type</td>\n",
       "      <td id=\"T_bfce0_row2_col1\" class=\"data row2 col1\" >Regression</td>\n",
       "    </tr>\n",
       "    <tr>\n",
       "      <th id=\"T_bfce0_level0_row3\" class=\"row_heading level0 row3\" >3</th>\n",
       "      <td id=\"T_bfce0_row3_col0\" class=\"data row3 col0\" >Original data shape</td>\n",
       "      <td id=\"T_bfce0_row3_col1\" class=\"data row3 col1\" >(1204, 8)</td>\n",
       "    </tr>\n",
       "    <tr>\n",
       "      <th id=\"T_bfce0_level0_row4\" class=\"row_heading level0 row4\" >4</th>\n",
       "      <td id=\"T_bfce0_row4_col0\" class=\"data row4 col0\" >Transformed data shape</td>\n",
       "      <td id=\"T_bfce0_row4_col1\" class=\"data row4 col1\" >(1204, 8)</td>\n",
       "    </tr>\n",
       "    <tr>\n",
       "      <th id=\"T_bfce0_level0_row5\" class=\"row_heading level0 row5\" >5</th>\n",
       "      <td id=\"T_bfce0_row5_col0\" class=\"data row5 col0\" >Transformed train set shape</td>\n",
       "      <td id=\"T_bfce0_row5_col1\" class=\"data row5 col1\" >(842, 8)</td>\n",
       "    </tr>\n",
       "    <tr>\n",
       "      <th id=\"T_bfce0_level0_row6\" class=\"row_heading level0 row6\" >6</th>\n",
       "      <td id=\"T_bfce0_row6_col0\" class=\"data row6 col0\" >Transformed test set shape</td>\n",
       "      <td id=\"T_bfce0_row6_col1\" class=\"data row6 col1\" >(362, 8)</td>\n",
       "    </tr>\n",
       "    <tr>\n",
       "      <th id=\"T_bfce0_level0_row7\" class=\"row_heading level0 row7\" >7</th>\n",
       "      <td id=\"T_bfce0_row7_col0\" class=\"data row7 col0\" >Numeric features</td>\n",
       "      <td id=\"T_bfce0_row7_col1\" class=\"data row7 col1\" >7</td>\n",
       "    </tr>\n",
       "    <tr>\n",
       "      <th id=\"T_bfce0_level0_row8\" class=\"row_heading level0 row8\" >8</th>\n",
       "      <td id=\"T_bfce0_row8_col0\" class=\"data row8 col0\" >Preprocess</td>\n",
       "      <td id=\"T_bfce0_row8_col1\" class=\"data row8 col1\" >True</td>\n",
       "    </tr>\n",
       "    <tr>\n",
       "      <th id=\"T_bfce0_level0_row9\" class=\"row_heading level0 row9\" >9</th>\n",
       "      <td id=\"T_bfce0_row9_col0\" class=\"data row9 col0\" >Imputation type</td>\n",
       "      <td id=\"T_bfce0_row9_col1\" class=\"data row9 col1\" >simple</td>\n",
       "    </tr>\n",
       "    <tr>\n",
       "      <th id=\"T_bfce0_level0_row10\" class=\"row_heading level0 row10\" >10</th>\n",
       "      <td id=\"T_bfce0_row10_col0\" class=\"data row10 col0\" >Numeric imputation</td>\n",
       "      <td id=\"T_bfce0_row10_col1\" class=\"data row10 col1\" >mean</td>\n",
       "    </tr>\n",
       "    <tr>\n",
       "      <th id=\"T_bfce0_level0_row11\" class=\"row_heading level0 row11\" >11</th>\n",
       "      <td id=\"T_bfce0_row11_col0\" class=\"data row11 col0\" >Categorical imputation</td>\n",
       "      <td id=\"T_bfce0_row11_col1\" class=\"data row11 col1\" >mode</td>\n",
       "    </tr>\n",
       "    <tr>\n",
       "      <th id=\"T_bfce0_level0_row12\" class=\"row_heading level0 row12\" >12</th>\n",
       "      <td id=\"T_bfce0_row12_col0\" class=\"data row12 col0\" >Normalize</td>\n",
       "      <td id=\"T_bfce0_row12_col1\" class=\"data row12 col1\" >True</td>\n",
       "    </tr>\n",
       "    <tr>\n",
       "      <th id=\"T_bfce0_level0_row13\" class=\"row_heading level0 row13\" >13</th>\n",
       "      <td id=\"T_bfce0_row13_col0\" class=\"data row13 col0\" >Normalize method</td>\n",
       "      <td id=\"T_bfce0_row13_col1\" class=\"data row13 col1\" >zscore</td>\n",
       "    </tr>\n",
       "    <tr>\n",
       "      <th id=\"T_bfce0_level0_row14\" class=\"row_heading level0 row14\" >14</th>\n",
       "      <td id=\"T_bfce0_row14_col0\" class=\"data row14 col0\" >Fold Generator</td>\n",
       "      <td id=\"T_bfce0_row14_col1\" class=\"data row14 col1\" >KFold</td>\n",
       "    </tr>\n",
       "    <tr>\n",
       "      <th id=\"T_bfce0_level0_row15\" class=\"row_heading level0 row15\" >15</th>\n",
       "      <td id=\"T_bfce0_row15_col0\" class=\"data row15 col0\" >Fold Number</td>\n",
       "      <td id=\"T_bfce0_row15_col1\" class=\"data row15 col1\" >10</td>\n",
       "    </tr>\n",
       "    <tr>\n",
       "      <th id=\"T_bfce0_level0_row16\" class=\"row_heading level0 row16\" >16</th>\n",
       "      <td id=\"T_bfce0_row16_col0\" class=\"data row16 col0\" >CPU Jobs</td>\n",
       "      <td id=\"T_bfce0_row16_col1\" class=\"data row16 col1\" >-1</td>\n",
       "    </tr>\n",
       "    <tr>\n",
       "      <th id=\"T_bfce0_level0_row17\" class=\"row_heading level0 row17\" >17</th>\n",
       "      <td id=\"T_bfce0_row17_col0\" class=\"data row17 col0\" >Use GPU</td>\n",
       "      <td id=\"T_bfce0_row17_col1\" class=\"data row17 col1\" >False</td>\n",
       "    </tr>\n",
       "    <tr>\n",
       "      <th id=\"T_bfce0_level0_row18\" class=\"row_heading level0 row18\" >18</th>\n",
       "      <td id=\"T_bfce0_row18_col0\" class=\"data row18 col0\" >Log Experiment</td>\n",
       "      <td id=\"T_bfce0_row18_col1\" class=\"data row18 col1\" >MlflowLogger</td>\n",
       "    </tr>\n",
       "    <tr>\n",
       "      <th id=\"T_bfce0_level0_row19\" class=\"row_heading level0 row19\" >19</th>\n",
       "      <td id=\"T_bfce0_row19_col0\" class=\"data row19 col0\" >Experiment Name</td>\n",
       "      <td id=\"T_bfce0_row19_col1\" class=\"data row19 col1\" >charges</td>\n",
       "    </tr>\n",
       "    <tr>\n",
       "      <th id=\"T_bfce0_level0_row20\" class=\"row_heading level0 row20\" >20</th>\n",
       "      <td id=\"T_bfce0_row20_col0\" class=\"data row20 col0\" >USI</td>\n",
       "      <td id=\"T_bfce0_row20_col1\" class=\"data row20 col1\" >6c25</td>\n",
       "    </tr>\n",
       "  </tbody>\n",
       "</table>\n"
      ],
      "text/plain": [
       "<pandas.io.formats.style.Styler at 0x1d56a6d8970>"
      ]
     },
     "metadata": {},
     "output_type": "display_data"
    }
   ],
   "source": [
    "# criando o pipeline\n",
    "reg = setup(data = train,\n",
    "            target = 'charges',\n",
    "            normalize = True,\n",
    "            log_experiment = True,\n",
    "            experiment_name = 'charges')"
   ]
  },
  {
   "cell_type": "markdown",
   "id": "c1bb9bd7",
   "metadata": {},
   "source": [
    "Abaixo será treinado vários modelos de machine learning com os dados de treinamento e comparar suas métricas de desempenho. O argumento sort='RMSE' é usado para classificar os modelos com base em sua métrica RMSE, que é uma medida que penaliza erros mais grotescos e é sensível a outliers."
   ]
  },
  {
   "cell_type": "code",
   "execution_count": 331,
   "id": "ccd0c33c",
   "metadata": {
    "scrolled": false
   },
   "outputs": [
    {
     "data": {
      "text/html": [],
      "text/plain": [
       "<IPython.core.display.HTML object>"
      ]
     },
     "metadata": {},
     "output_type": "display_data"
    },
    {
     "data": {
      "text/html": [
       "<style type=\"text/css\">\n",
       "#T_7664a th {\n",
       "  text-align: left;\n",
       "}\n",
       "#T_7664a_row0_col0, #T_7664a_row0_col6, #T_7664a_row1_col0, #T_7664a_row1_col1, #T_7664a_row1_col2, #T_7664a_row1_col3, #T_7664a_row1_col4, #T_7664a_row1_col5, #T_7664a_row1_col6, #T_7664a_row2_col0, #T_7664a_row2_col1, #T_7664a_row2_col2, #T_7664a_row2_col3, #T_7664a_row2_col4, #T_7664a_row2_col5, #T_7664a_row2_col6, #T_7664a_row3_col0, #T_7664a_row3_col1, #T_7664a_row3_col2, #T_7664a_row3_col3, #T_7664a_row3_col4, #T_7664a_row3_col5, #T_7664a_row3_col6, #T_7664a_row4_col0, #T_7664a_row4_col1, #T_7664a_row4_col2, #T_7664a_row4_col3, #T_7664a_row4_col4, #T_7664a_row4_col5, #T_7664a_row4_col6, #T_7664a_row5_col0, #T_7664a_row5_col1, #T_7664a_row5_col2, #T_7664a_row5_col3, #T_7664a_row5_col4, #T_7664a_row5_col5, #T_7664a_row5_col6, #T_7664a_row6_col0, #T_7664a_row6_col1, #T_7664a_row6_col2, #T_7664a_row6_col3, #T_7664a_row6_col4, #T_7664a_row6_col5, #T_7664a_row6_col6, #T_7664a_row7_col0, #T_7664a_row7_col1, #T_7664a_row7_col2, #T_7664a_row7_col3, #T_7664a_row7_col4, #T_7664a_row7_col5, #T_7664a_row7_col6, #T_7664a_row8_col0, #T_7664a_row8_col1, #T_7664a_row8_col2, #T_7664a_row8_col3, #T_7664a_row8_col4, #T_7664a_row8_col5, #T_7664a_row8_col6, #T_7664a_row9_col0, #T_7664a_row9_col1, #T_7664a_row9_col2, #T_7664a_row9_col3, #T_7664a_row9_col4, #T_7664a_row9_col5, #T_7664a_row9_col6, #T_7664a_row10_col0, #T_7664a_row10_col1, #T_7664a_row10_col2, #T_7664a_row10_col3, #T_7664a_row10_col4, #T_7664a_row10_col5, #T_7664a_row10_col6, #T_7664a_row11_col0, #T_7664a_row11_col1, #T_7664a_row11_col2, #T_7664a_row11_col3, #T_7664a_row11_col4, #T_7664a_row11_col5, #T_7664a_row11_col6, #T_7664a_row12_col0, #T_7664a_row12_col1, #T_7664a_row12_col2, #T_7664a_row12_col3, #T_7664a_row12_col4, #T_7664a_row12_col5, #T_7664a_row12_col6, #T_7664a_row13_col0, #T_7664a_row13_col1, #T_7664a_row13_col2, #T_7664a_row13_col3, #T_7664a_row13_col4, #T_7664a_row13_col5, #T_7664a_row13_col6, #T_7664a_row14_col0, #T_7664a_row14_col1, #T_7664a_row14_col2, #T_7664a_row14_col3, #T_7664a_row14_col4, #T_7664a_row14_col5, #T_7664a_row14_col6, #T_7664a_row15_col0, #T_7664a_row15_col1, #T_7664a_row15_col2, #T_7664a_row15_col3, #T_7664a_row15_col4, #T_7664a_row15_col5, #T_7664a_row16_col0, #T_7664a_row16_col1, #T_7664a_row16_col2, #T_7664a_row16_col3, #T_7664a_row16_col4, #T_7664a_row16_col5, #T_7664a_row16_col6, #T_7664a_row17_col0, #T_7664a_row17_col1, #T_7664a_row17_col2, #T_7664a_row17_col3, #T_7664a_row17_col4, #T_7664a_row17_col5, #T_7664a_row17_col6, #T_7664a_row18_col0, #T_7664a_row18_col1, #T_7664a_row18_col2, #T_7664a_row18_col3, #T_7664a_row18_col4, #T_7664a_row18_col5, #T_7664a_row18_col6 {\n",
       "  text-align: left;\n",
       "}\n",
       "#T_7664a_row0_col1, #T_7664a_row0_col2, #T_7664a_row0_col3, #T_7664a_row0_col4, #T_7664a_row0_col5, #T_7664a_row15_col6 {\n",
       "  text-align: left;\n",
       "  background-color: yellow;\n",
       "}\n",
       "#T_7664a_row0_col7, #T_7664a_row1_col7, #T_7664a_row2_col7, #T_7664a_row3_col7, #T_7664a_row4_col7, #T_7664a_row5_col7, #T_7664a_row6_col7, #T_7664a_row8_col7, #T_7664a_row9_col7, #T_7664a_row10_col7, #T_7664a_row11_col7, #T_7664a_row12_col7, #T_7664a_row13_col7, #T_7664a_row14_col7, #T_7664a_row15_col7, #T_7664a_row16_col7 {\n",
       "  text-align: left;\n",
       "  background-color: lightgrey;\n",
       "}\n",
       "#T_7664a_row7_col7, #T_7664a_row17_col7, #T_7664a_row18_col7 {\n",
       "  text-align: left;\n",
       "  background-color: yellow;\n",
       "  background-color: lightgrey;\n",
       "}\n",
       "</style>\n",
       "<table id=\"T_7664a\">\n",
       "  <thead>\n",
       "    <tr>\n",
       "      <th class=\"blank level0\" >&nbsp;</th>\n",
       "      <th id=\"T_7664a_level0_col0\" class=\"col_heading level0 col0\" >Model</th>\n",
       "      <th id=\"T_7664a_level0_col1\" class=\"col_heading level0 col1\" >MAE</th>\n",
       "      <th id=\"T_7664a_level0_col2\" class=\"col_heading level0 col2\" >MSE</th>\n",
       "      <th id=\"T_7664a_level0_col3\" class=\"col_heading level0 col3\" >RMSE</th>\n",
       "      <th id=\"T_7664a_level0_col4\" class=\"col_heading level0 col4\" >R2</th>\n",
       "      <th id=\"T_7664a_level0_col5\" class=\"col_heading level0 col5\" >RMSLE</th>\n",
       "      <th id=\"T_7664a_level0_col6\" class=\"col_heading level0 col6\" >MAPE</th>\n",
       "      <th id=\"T_7664a_level0_col7\" class=\"col_heading level0 col7\" >TT (Sec)</th>\n",
       "    </tr>\n",
       "  </thead>\n",
       "  <tbody>\n",
       "    <tr>\n",
       "      <th id=\"T_7664a_level0_row0\" class=\"row_heading level0 row0\" >gbr</th>\n",
       "      <td id=\"T_7664a_row0_col0\" class=\"data row0 col0\" >Gradient Boosting Regressor</td>\n",
       "      <td id=\"T_7664a_row0_col1\" class=\"data row0 col1\" >2376.7039</td>\n",
       "      <td id=\"T_7664a_row0_col2\" class=\"data row0 col2\" >20110348.4797</td>\n",
       "      <td id=\"T_7664a_row0_col3\" class=\"data row0 col3\" >4442.3599</td>\n",
       "      <td id=\"T_7664a_row0_col4\" class=\"data row0 col4\" >0.8623</td>\n",
       "      <td id=\"T_7664a_row0_col5\" class=\"data row0 col5\" >0.4160</td>\n",
       "      <td id=\"T_7664a_row0_col6\" class=\"data row0 col6\" >0.2687</td>\n",
       "      <td id=\"T_7664a_row0_col7\" class=\"data row0 col7\" >0.1400</td>\n",
       "    </tr>\n",
       "    <tr>\n",
       "      <th id=\"T_7664a_level0_row1\" class=\"row_heading level0 row1\" >rf</th>\n",
       "      <td id=\"T_7664a_row1_col0\" class=\"data row1 col0\" >Random Forest Regressor</td>\n",
       "      <td id=\"T_7664a_row1_col1\" class=\"data row1 col1\" >2477.9053</td>\n",
       "      <td id=\"T_7664a_row1_col2\" class=\"data row1 col2\" >21499330.1985</td>\n",
       "      <td id=\"T_7664a_row1_col3\" class=\"data row1 col3\" >4605.5636</td>\n",
       "      <td id=\"T_7664a_row1_col4\" class=\"data row1 col4\" >0.8517</td>\n",
       "      <td id=\"T_7664a_row1_col5\" class=\"data row1 col5\" >0.4370</td>\n",
       "      <td id=\"T_7664a_row1_col6\" class=\"data row1 col6\" >0.2954</td>\n",
       "      <td id=\"T_7664a_row1_col7\" class=\"data row1 col7\" >0.1980</td>\n",
       "    </tr>\n",
       "    <tr>\n",
       "      <th id=\"T_7664a_level0_row2\" class=\"row_heading level0 row2\" >lightgbm</th>\n",
       "      <td id=\"T_7664a_row2_col0\" class=\"data row2 col0\" >Light Gradient Boosting Machine</td>\n",
       "      <td id=\"T_7664a_row2_col1\" class=\"data row2 col1\" >2763.2262</td>\n",
       "      <td id=\"T_7664a_row2_col2\" class=\"data row2 col2\" >22794369.0982</td>\n",
       "      <td id=\"T_7664a_row2_col3\" class=\"data row2 col3\" >4742.7859</td>\n",
       "      <td id=\"T_7664a_row2_col4\" class=\"data row2 col4\" >0.8427</td>\n",
       "      <td id=\"T_7664a_row2_col5\" class=\"data row2 col5\" >0.5026</td>\n",
       "      <td id=\"T_7664a_row2_col6\" class=\"data row2 col6\" >0.3429</td>\n",
       "      <td id=\"T_7664a_row2_col7\" class=\"data row2 col7\" >0.1420</td>\n",
       "    </tr>\n",
       "    <tr>\n",
       "      <th id=\"T_7664a_level0_row3\" class=\"row_heading level0 row3\" >ada</th>\n",
       "      <td id=\"T_7664a_row3_col0\" class=\"data row3 col0\" >AdaBoost Regressor</td>\n",
       "      <td id=\"T_7664a_row3_col1\" class=\"data row3 col1\" >3800.1374</td>\n",
       "      <td id=\"T_7664a_row3_col2\" class=\"data row3 col2\" >24576234.8961</td>\n",
       "      <td id=\"T_7664a_row3_col3\" class=\"data row3 col3\" >4938.3034</td>\n",
       "      <td id=\"T_7664a_row3_col4\" class=\"data row3 col4\" >0.8293</td>\n",
       "      <td id=\"T_7664a_row3_col5\" class=\"data row3 col5\" >0.6133</td>\n",
       "      <td id=\"T_7664a_row3_col6\" class=\"data row3 col6\" >0.6861</td>\n",
       "      <td id=\"T_7664a_row3_col7\" class=\"data row3 col7\" >0.1340</td>\n",
       "    </tr>\n",
       "    <tr>\n",
       "      <th id=\"T_7664a_level0_row4\" class=\"row_heading level0 row4\" >et</th>\n",
       "      <td id=\"T_7664a_row4_col0\" class=\"data row4 col0\" >Extra Trees Regressor</td>\n",
       "      <td id=\"T_7664a_row4_col1\" class=\"data row4 col1\" >2537.0098</td>\n",
       "      <td id=\"T_7664a_row4_col2\" class=\"data row4 col2\" >24608719.7930</td>\n",
       "      <td id=\"T_7664a_row4_col3\" class=\"data row4 col3\" >4940.2431</td>\n",
       "      <td id=\"T_7664a_row4_col4\" class=\"data row4 col4\" >0.8290</td>\n",
       "      <td id=\"T_7664a_row4_col5\" class=\"data row4 col5\" >0.4765</td>\n",
       "      <td id=\"T_7664a_row4_col6\" class=\"data row4 col6\" >0.3320</td>\n",
       "      <td id=\"T_7664a_row4_col7\" class=\"data row4 col7\" >0.1900</td>\n",
       "    </tr>\n",
       "    <tr>\n",
       "      <th id=\"T_7664a_level0_row5\" class=\"row_heading level0 row5\" >knn</th>\n",
       "      <td id=\"T_7664a_row5_col0\" class=\"data row5 col0\" >K Neighbors Regressor</td>\n",
       "      <td id=\"T_7664a_row5_col1\" class=\"data row5 col1\" >2913.3515</td>\n",
       "      <td id=\"T_7664a_row5_col2\" class=\"data row5 col2\" >24710488.4000</td>\n",
       "      <td id=\"T_7664a_row5_col3\" class=\"data row5 col3\" >4943.6698</td>\n",
       "      <td id=\"T_7664a_row5_col4\" class=\"data row5 col4\" >0.8292</td>\n",
       "      <td id=\"T_7664a_row5_col5\" class=\"data row5 col5\" >0.4662</td>\n",
       "      <td id=\"T_7664a_row5_col6\" class=\"data row5 col6\" >0.3455</td>\n",
       "      <td id=\"T_7664a_row5_col7\" class=\"data row5 col7\" >0.1340</td>\n",
       "    </tr>\n",
       "    <tr>\n",
       "      <th id=\"T_7664a_level0_row6\" class=\"row_heading level0 row6\" >xgboost</th>\n",
       "      <td id=\"T_7664a_row6_col0\" class=\"data row6 col0\" >Extreme Gradient Boosting</td>\n",
       "      <td id=\"T_7664a_row6_col1\" class=\"data row6 col1\" >2941.9319</td>\n",
       "      <td id=\"T_7664a_row6_col2\" class=\"data row6 col2\" >27440257.2000</td>\n",
       "      <td id=\"T_7664a_row6_col3\" class=\"data row6 col3\" >5211.2519</td>\n",
       "      <td id=\"T_7664a_row6_col4\" class=\"data row6 col4\" >0.8102</td>\n",
       "      <td id=\"T_7664a_row6_col5\" class=\"data row6 col5\" >0.5479</td>\n",
       "      <td id=\"T_7664a_row6_col6\" class=\"data row6 col6\" >0.3646</td>\n",
       "      <td id=\"T_7664a_row6_col7\" class=\"data row6 col7\" >0.1400</td>\n",
       "    </tr>\n",
       "    <tr>\n",
       "      <th id=\"T_7664a_level0_row7\" class=\"row_heading level0 row7\" >br</th>\n",
       "      <td id=\"T_7664a_row7_col0\" class=\"data row7 col0\" >Bayesian Ridge</td>\n",
       "      <td id=\"T_7664a_row7_col1\" class=\"data row7 col1\" >3951.1598</td>\n",
       "      <td id=\"T_7664a_row7_col2\" class=\"data row7 col2\" >35256543.6000</td>\n",
       "      <td id=\"T_7664a_row7_col3\" class=\"data row7 col3\" >5913.5241</td>\n",
       "      <td id=\"T_7664a_row7_col4\" class=\"data row7 col4\" >0.7551</td>\n",
       "      <td id=\"T_7664a_row7_col5\" class=\"data row7 col5\" >0.6431</td>\n",
       "      <td id=\"T_7664a_row7_col6\" class=\"data row7 col6\" >0.4017</td>\n",
       "      <td id=\"T_7664a_row7_col7\" class=\"data row7 col7\" >0.1220</td>\n",
       "    </tr>\n",
       "    <tr>\n",
       "      <th id=\"T_7664a_level0_row8\" class=\"row_heading level0 row8\" >llar</th>\n",
       "      <td id=\"T_7664a_row8_col0\" class=\"data row8 col0\" >Lasso Least Angle Regression</td>\n",
       "      <td id=\"T_7664a_row8_col1\" class=\"data row8 col1\" >3943.1921</td>\n",
       "      <td id=\"T_7664a_row8_col2\" class=\"data row8 col2\" >35259787.2000</td>\n",
       "      <td id=\"T_7664a_row8_col3\" class=\"data row8 col3\" >5913.6092</td>\n",
       "      <td id=\"T_7664a_row8_col4\" class=\"data row8 col4\" >0.7551</td>\n",
       "      <td id=\"T_7664a_row8_col5\" class=\"data row8 col5\" >0.6433</td>\n",
       "      <td id=\"T_7664a_row8_col6\" class=\"data row8 col6\" >0.3997</td>\n",
       "      <td id=\"T_7664a_row8_col7\" class=\"data row8 col7\" >0.1320</td>\n",
       "    </tr>\n",
       "    <tr>\n",
       "      <th id=\"T_7664a_level0_row9\" class=\"row_heading level0 row9\" >ridge</th>\n",
       "      <td id=\"T_7664a_row9_col0\" class=\"data row9 col0\" >Ridge Regression</td>\n",
       "      <td id=\"T_7664a_row9_col1\" class=\"data row9 col1\" >3948.4541</td>\n",
       "      <td id=\"T_7664a_row9_col2\" class=\"data row9 col2\" >35265682.4000</td>\n",
       "      <td id=\"T_7664a_row9_col3\" class=\"data row9 col3\" >5914.4720</td>\n",
       "      <td id=\"T_7664a_row9_col4\" class=\"data row9 col4\" >0.7550</td>\n",
       "      <td id=\"T_7664a_row9_col5\" class=\"data row9 col5\" >0.6211</td>\n",
       "      <td id=\"T_7664a_row9_col6\" class=\"data row9 col6\" >0.4010</td>\n",
       "      <td id=\"T_7664a_row9_col7\" class=\"data row9 col7\" >0.1240</td>\n",
       "    </tr>\n",
       "    <tr>\n",
       "      <th id=\"T_7664a_level0_row10\" class=\"row_heading level0 row10\" >lasso</th>\n",
       "      <td id=\"T_7664a_row10_col0\" class=\"data row10 col0\" >Lasso Regression</td>\n",
       "      <td id=\"T_7664a_row10_col1\" class=\"data row10 col1\" >3946.1141</td>\n",
       "      <td id=\"T_7664a_row10_col2\" class=\"data row10 col2\" >35271374.4000</td>\n",
       "      <td id=\"T_7664a_row10_col3\" class=\"data row10 col3\" >5915.0603</td>\n",
       "      <td id=\"T_7664a_row10_col4\" class=\"data row10 col4\" >0.7549</td>\n",
       "      <td id=\"T_7664a_row10_col5\" class=\"data row10 col5\" >0.6138</td>\n",
       "      <td id=\"T_7664a_row10_col6\" class=\"data row10 col6\" >0.4005</td>\n",
       "      <td id=\"T_7664a_row10_col7\" class=\"data row10 col7\" >0.1280</td>\n",
       "    </tr>\n",
       "    <tr>\n",
       "      <th id=\"T_7664a_level0_row11\" class=\"row_heading level0 row11\" >lr</th>\n",
       "      <td id=\"T_7664a_row11_col0\" class=\"data row11 col0\" >Linear Regression</td>\n",
       "      <td id=\"T_7664a_row11_col1\" class=\"data row11 col1\" >3946.2560</td>\n",
       "      <td id=\"T_7664a_row11_col2\" class=\"data row11 col2\" >35274183.2000</td>\n",
       "      <td id=\"T_7664a_row11_col3\" class=\"data row11 col3\" >5915.3387</td>\n",
       "      <td id=\"T_7664a_row11_col4\" class=\"data row11 col4\" >0.7549</td>\n",
       "      <td id=\"T_7664a_row11_col5\" class=\"data row11 col5\" >0.6125</td>\n",
       "      <td id=\"T_7664a_row11_col6\" class=\"data row11 col6\" >0.4005</td>\n",
       "      <td id=\"T_7664a_row11_col7\" class=\"data row11 col7\" >0.1280</td>\n",
       "    </tr>\n",
       "    <tr>\n",
       "      <th id=\"T_7664a_level0_row12\" class=\"row_heading level0 row12\" >lar</th>\n",
       "      <td id=\"T_7664a_row12_col0\" class=\"data row12 col0\" >Least Angle Regression</td>\n",
       "      <td id=\"T_7664a_row12_col1\" class=\"data row12 col1\" >3946.2575</td>\n",
       "      <td id=\"T_7664a_row12_col2\" class=\"data row12 col2\" >35274201.2000</td>\n",
       "      <td id=\"T_7664a_row12_col3\" class=\"data row12 col3\" >5915.3400</td>\n",
       "      <td id=\"T_7664a_row12_col4\" class=\"data row12 col4\" >0.7549</td>\n",
       "      <td id=\"T_7664a_row12_col5\" class=\"data row12 col5\" >0.6125</td>\n",
       "      <td id=\"T_7664a_row12_col6\" class=\"data row12 col6\" >0.4005</td>\n",
       "      <td id=\"T_7664a_row12_col7\" class=\"data row12 col7\" >0.1300</td>\n",
       "    </tr>\n",
       "    <tr>\n",
       "      <th id=\"T_7664a_level0_row13\" class=\"row_heading level0 row13\" >dt</th>\n",
       "      <td id=\"T_7664a_row13_col0\" class=\"data row13 col0\" >Decision Tree Regressor</td>\n",
       "      <td id=\"T_7664a_row13_col1\" class=\"data row13 col1\" >2954.5446</td>\n",
       "      <td id=\"T_7664a_row13_col2\" class=\"data row13 col2\" >40009329.2897</td>\n",
       "      <td id=\"T_7664a_row13_col3\" class=\"data row13 col3\" >6307.6023</td>\n",
       "      <td id=\"T_7664a_row13_col4\" class=\"data row13 col4\" >0.7209</td>\n",
       "      <td id=\"T_7664a_row13_col5\" class=\"data row13 col5\" >0.5285</td>\n",
       "      <td id=\"T_7664a_row13_col6\" class=\"data row13 col6\" >0.3569</td>\n",
       "      <td id=\"T_7664a_row13_col7\" class=\"data row13 col7\" >0.1280</td>\n",
       "    </tr>\n",
       "    <tr>\n",
       "      <th id=\"T_7664a_level0_row14\" class=\"row_heading level0 row14\" >huber</th>\n",
       "      <td id=\"T_7664a_row14_col0\" class=\"data row14 col0\" >Huber Regressor</td>\n",
       "      <td id=\"T_7664a_row14_col1\" class=\"data row14 col1\" >3176.2063</td>\n",
       "      <td id=\"T_7664a_row14_col2\" class=\"data row14 col2\" >43699924.0452</td>\n",
       "      <td id=\"T_7664a_row14_col3\" class=\"data row14 col3\" >6595.8292</td>\n",
       "      <td id=\"T_7664a_row14_col4\" class=\"data row14 col4\" >0.6906</td>\n",
       "      <td id=\"T_7664a_row14_col5\" class=\"data row14 col5\" >0.4713</td>\n",
       "      <td id=\"T_7664a_row14_col6\" class=\"data row14 col6\" >0.2137</td>\n",
       "      <td id=\"T_7664a_row14_col7\" class=\"data row14 col7\" >0.1280</td>\n",
       "    </tr>\n",
       "    <tr>\n",
       "      <th id=\"T_7664a_level0_row15\" class=\"row_heading level0 row15\" >par</th>\n",
       "      <td id=\"T_7664a_row15_col0\" class=\"data row15 col0\" >Passive Aggressive Regressor</td>\n",
       "      <td id=\"T_7664a_row15_col1\" class=\"data row15 col1\" >3204.7598</td>\n",
       "      <td id=\"T_7664a_row15_col2\" class=\"data row15 col2\" >43728335.6557</td>\n",
       "      <td id=\"T_7664a_row15_col3\" class=\"data row15 col3\" >6598.4429</td>\n",
       "      <td id=\"T_7664a_row15_col4\" class=\"data row15 col4\" >0.6906</td>\n",
       "      <td id=\"T_7664a_row15_col5\" class=\"data row15 col5\" >0.4725</td>\n",
       "      <td id=\"T_7664a_row15_col6\" class=\"data row15 col6\" >0.2118</td>\n",
       "      <td id=\"T_7664a_row15_col7\" class=\"data row15 col7\" >0.1260</td>\n",
       "    </tr>\n",
       "    <tr>\n",
       "      <th id=\"T_7664a_level0_row16\" class=\"row_heading level0 row16\" >en</th>\n",
       "      <td id=\"T_7664a_row16_col0\" class=\"data row16 col0\" >Elastic Net</td>\n",
       "      <td id=\"T_7664a_row16_col1\" class=\"data row16 col1\" >4922.6543</td>\n",
       "      <td id=\"T_7664a_row16_col2\" class=\"data row16 col2\" >46873879.6000</td>\n",
       "      <td id=\"T_7664a_row16_col3\" class=\"data row16 col3\" >6808.8618</td>\n",
       "      <td id=\"T_7664a_row16_col4\" class=\"data row16 col4\" >0.6769</td>\n",
       "      <td id=\"T_7664a_row16_col5\" class=\"data row16 col5\" >0.6196</td>\n",
       "      <td id=\"T_7664a_row16_col6\" class=\"data row16 col6\" >0.6862</td>\n",
       "      <td id=\"T_7664a_row16_col7\" class=\"data row16 col7\" >0.1300</td>\n",
       "    </tr>\n",
       "    <tr>\n",
       "      <th id=\"T_7664a_level0_row17\" class=\"row_heading level0 row17\" >omp</th>\n",
       "      <td id=\"T_7664a_row17_col0\" class=\"data row17 col0\" >Orthogonal Matching Pursuit</td>\n",
       "      <td id=\"T_7664a_row17_col1\" class=\"data row17 col1\" >5605.0965</td>\n",
       "      <td id=\"T_7664a_row17_col2\" class=\"data row17 col2\" >54776574.4000</td>\n",
       "      <td id=\"T_7664a_row17_col3\" class=\"data row17 col3\" >7368.9839</td>\n",
       "      <td id=\"T_7664a_row17_col4\" class=\"data row17 col4\" >0.6206</td>\n",
       "      <td id=\"T_7664a_row17_col5\" class=\"data row17 col5\" >0.7374</td>\n",
       "      <td id=\"T_7664a_row17_col6\" class=\"data row17 col6\" >0.8976</td>\n",
       "      <td id=\"T_7664a_row17_col7\" class=\"data row17 col7\" >0.1220</td>\n",
       "    </tr>\n",
       "    <tr>\n",
       "      <th id=\"T_7664a_level0_row18\" class=\"row_heading level0 row18\" >dummy</th>\n",
       "      <td id=\"T_7664a_row18_col0\" class=\"data row18 col0\" >Dummy Regressor</td>\n",
       "      <td id=\"T_7664a_row18_col1\" class=\"data row18 col1\" >8831.7998</td>\n",
       "      <td id=\"T_7664a_row18_col2\" class=\"data row18 col2\" >144731809.6000</td>\n",
       "      <td id=\"T_7664a_row18_col3\" class=\"data row18 col3\" >12004.1703</td>\n",
       "      <td id=\"T_7664a_row18_col4\" class=\"data row18 col4\" >-0.0070</td>\n",
       "      <td id=\"T_7664a_row18_col5\" class=\"data row18 col5\" >1.0103</td>\n",
       "      <td id=\"T_7664a_row18_col6\" class=\"data row18 col6\" >1.5422</td>\n",
       "      <td id=\"T_7664a_row18_col7\" class=\"data row18 col7\" >0.1220</td>\n",
       "    </tr>\n",
       "  </tbody>\n",
       "</table>\n"
      ],
      "text/plain": [
       "<pandas.io.formats.style.Styler at 0x1d5625d2260>"
      ]
     },
     "metadata": {},
     "output_type": "display_data"
    },
    {
     "data": {
      "text/html": [],
      "text/plain": [
       "<IPython.core.display.HTML object>"
      ]
     },
     "metadata": {},
     "output_type": "display_data"
    }
   ],
   "source": [
    "# comparação de modelos\n",
    "best = compare_models(sort = 'RMSE', fold = 5)"
   ]
  },
  {
   "cell_type": "markdown",
   "id": "d49fd784",
   "metadata": {},
   "source": [
    "A tabela de score impressa acima destaca os modelos com melhores resultados nas médias das métricas de avaliação para comparação. Todos os modelos foram comparados com uma validação cruzada com 5 folds.\n",
    "\n",
    "O melhor modelo de acordo com a métrica escolhida foi o **Gradient Boosting Regressor**. Também testaremos o **Light Gradient Boosting Machine** e o **Random Forest Regressor** a fim de obter uma medida de comparação."
   ]
  },
  {
   "cell_type": "code",
   "execution_count": 332,
   "id": "9d5e51aa",
   "metadata": {
    "scrolled": true
   },
   "outputs": [
    {
     "name": "stdout",
     "output_type": "stream",
     "text": [
      "GradientBoostingRegressor(random_state=7854)\n"
     ]
    }
   ],
   "source": [
    "# verificando o melhor modelo\n",
    "print(best)"
   ]
  },
  {
   "cell_type": "markdown",
   "id": "1c2a46c6",
   "metadata": {},
   "source": [
    "### **Gradient Boosting Regressor**"
   ]
  },
  {
   "cell_type": "markdown",
   "id": "95aa3541",
   "metadata": {},
   "source": [
    "O Gradient Boosting é um método de aprendizado de máquina baseado em árvores de decisão, que busca melhorar a precisão preditiva de um modelo através da combinação de várias árvores de decisão simples. Ele funciona construindo um modelo inicial e, em seguida, iterativamente adicionando modelos subsequentes que se concentram nas instâncias que foram classificadas incorretamente pelo modelo anterior. Abaixo instanciaremos o modelo com validação cruzada de 5 folds."
   ]
  },
  {
   "cell_type": "code",
   "execution_count": 333,
   "id": "eacee022",
   "metadata": {
    "scrolled": true
   },
   "outputs": [
    {
     "data": {
      "text/html": [],
      "text/plain": [
       "<IPython.core.display.HTML object>"
      ]
     },
     "metadata": {},
     "output_type": "display_data"
    },
    {
     "data": {
      "text/html": [
       "<style type=\"text/css\">\n",
       "#T_68767_row5_col0, #T_68767_row5_col1, #T_68767_row5_col2, #T_68767_row5_col3, #T_68767_row5_col4, #T_68767_row5_col5 {\n",
       "  background: yellow;\n",
       "}\n",
       "</style>\n",
       "<table id=\"T_68767\">\n",
       "  <thead>\n",
       "    <tr>\n",
       "      <th class=\"blank level0\" >&nbsp;</th>\n",
       "      <th id=\"T_68767_level0_col0\" class=\"col_heading level0 col0\" >MAE</th>\n",
       "      <th id=\"T_68767_level0_col1\" class=\"col_heading level0 col1\" >MSE</th>\n",
       "      <th id=\"T_68767_level0_col2\" class=\"col_heading level0 col2\" >RMSE</th>\n",
       "      <th id=\"T_68767_level0_col3\" class=\"col_heading level0 col3\" >R2</th>\n",
       "      <th id=\"T_68767_level0_col4\" class=\"col_heading level0 col4\" >RMSLE</th>\n",
       "      <th id=\"T_68767_level0_col5\" class=\"col_heading level0 col5\" >MAPE</th>\n",
       "    </tr>\n",
       "    <tr>\n",
       "      <th class=\"index_name level0\" >Fold</th>\n",
       "      <th class=\"blank col0\" >&nbsp;</th>\n",
       "      <th class=\"blank col1\" >&nbsp;</th>\n",
       "      <th class=\"blank col2\" >&nbsp;</th>\n",
       "      <th class=\"blank col3\" >&nbsp;</th>\n",
       "      <th class=\"blank col4\" >&nbsp;</th>\n",
       "      <th class=\"blank col5\" >&nbsp;</th>\n",
       "    </tr>\n",
       "  </thead>\n",
       "  <tbody>\n",
       "    <tr>\n",
       "      <th id=\"T_68767_level0_row0\" class=\"row_heading level0 row0\" >0</th>\n",
       "      <td id=\"T_68767_row0_col0\" class=\"data row0 col0\" >2483.0632</td>\n",
       "      <td id=\"T_68767_row0_col1\" class=\"data row0 col1\" >21534165.2118</td>\n",
       "      <td id=\"T_68767_row0_col2\" class=\"data row0 col2\" >4640.4919</td>\n",
       "      <td id=\"T_68767_row0_col3\" class=\"data row0 col3\" >0.8391</td>\n",
       "      <td id=\"T_68767_row0_col4\" class=\"data row0 col4\" >0.4302</td>\n",
       "      <td id=\"T_68767_row0_col5\" class=\"data row0 col5\" >0.2704</td>\n",
       "    </tr>\n",
       "    <tr>\n",
       "      <th id=\"T_68767_level0_row1\" class=\"row_heading level0 row1\" >1</th>\n",
       "      <td id=\"T_68767_row1_col0\" class=\"data row1 col0\" >2343.0811</td>\n",
       "      <td id=\"T_68767_row1_col1\" class=\"data row1 col1\" >21962390.6557</td>\n",
       "      <td id=\"T_68767_row1_col2\" class=\"data row1 col2\" >4686.4049</td>\n",
       "      <td id=\"T_68767_row1_col3\" class=\"data row1 col3\" >0.8552</td>\n",
       "      <td id=\"T_68767_row1_col4\" class=\"data row1 col4\" >0.4340</td>\n",
       "      <td id=\"T_68767_row1_col5\" class=\"data row1 col5\" >0.2381</td>\n",
       "    </tr>\n",
       "    <tr>\n",
       "      <th id=\"T_68767_level0_row2\" class=\"row_heading level0 row2\" >2</th>\n",
       "      <td id=\"T_68767_row2_col0\" class=\"data row2 col0\" >2046.2691</td>\n",
       "      <td id=\"T_68767_row2_col1\" class=\"data row2 col1\" >11835837.6609</td>\n",
       "      <td id=\"T_68767_row2_col2\" class=\"data row2 col2\" >3440.3252</td>\n",
       "      <td id=\"T_68767_row2_col3\" class=\"data row2 col3\" >0.8968</td>\n",
       "      <td id=\"T_68767_row2_col4\" class=\"data row2 col4\" >0.3886</td>\n",
       "      <td id=\"T_68767_row2_col5\" class=\"data row2 col5\" >0.2895</td>\n",
       "    </tr>\n",
       "    <tr>\n",
       "      <th id=\"T_68767_level0_row3\" class=\"row_heading level0 row3\" >3</th>\n",
       "      <td id=\"T_68767_row3_col0\" class=\"data row3 col0\" >2655.5338</td>\n",
       "      <td id=\"T_68767_row3_col1\" class=\"data row3 col1\" >27865340.0432</td>\n",
       "      <td id=\"T_68767_row3_col2\" class=\"data row3 col2\" >5278.7631</td>\n",
       "      <td id=\"T_68767_row3_col3\" class=\"data row3 col3\" >0.8404</td>\n",
       "      <td id=\"T_68767_row3_col4\" class=\"data row3 col4\" >0.4490</td>\n",
       "      <td id=\"T_68767_row3_col5\" class=\"data row3 col5\" >0.2928</td>\n",
       "    </tr>\n",
       "    <tr>\n",
       "      <th id=\"T_68767_level0_row4\" class=\"row_heading level0 row4\" >4</th>\n",
       "      <td id=\"T_68767_row4_col0\" class=\"data row4 col0\" >2355.5726</td>\n",
       "      <td id=\"T_68767_row4_col1\" class=\"data row4 col1\" >17354008.8269</td>\n",
       "      <td id=\"T_68767_row4_col2\" class=\"data row4 col2\" >4165.8143</td>\n",
       "      <td id=\"T_68767_row4_col3\" class=\"data row4 col3\" >0.8800</td>\n",
       "      <td id=\"T_68767_row4_col4\" class=\"data row4 col4\" >0.3781</td>\n",
       "      <td id=\"T_68767_row4_col5\" class=\"data row4 col5\" >0.2529</td>\n",
       "    </tr>\n",
       "    <tr>\n",
       "      <th id=\"T_68767_level0_row5\" class=\"row_heading level0 row5\" >Mean</th>\n",
       "      <td id=\"T_68767_row5_col0\" class=\"data row5 col0\" >2376.7039</td>\n",
       "      <td id=\"T_68767_row5_col1\" class=\"data row5 col1\" >20110348.4797</td>\n",
       "      <td id=\"T_68767_row5_col2\" class=\"data row5 col2\" >4442.3599</td>\n",
       "      <td id=\"T_68767_row5_col3\" class=\"data row5 col3\" >0.8623</td>\n",
       "      <td id=\"T_68767_row5_col4\" class=\"data row5 col4\" >0.4160</td>\n",
       "      <td id=\"T_68767_row5_col5\" class=\"data row5 col5\" >0.2687</td>\n",
       "    </tr>\n",
       "    <tr>\n",
       "      <th id=\"T_68767_level0_row6\" class=\"row_heading level0 row6\" >Std</th>\n",
       "      <td id=\"T_68767_row6_col0\" class=\"data row6 col0\" >199.9113</td>\n",
       "      <td id=\"T_68767_row6_col1\" class=\"data row6 col1\" >5322821.5456</td>\n",
       "      <td id=\"T_68767_row6_col2\" class=\"data row6 col2\" >613.0148</td>\n",
       "      <td id=\"T_68767_row6_col3\" class=\"data row6 col3\" >0.0227</td>\n",
       "      <td id=\"T_68767_row6_col4\" class=\"data row6 col4\" >0.0276</td>\n",
       "      <td id=\"T_68767_row6_col5\" class=\"data row6 col5\" >0.0210</td>\n",
       "    </tr>\n",
       "  </tbody>\n",
       "</table>\n"
      ],
      "text/plain": [
       "<pandas.io.formats.style.Styler at 0x1d56a016d70>"
      ]
     },
     "metadata": {},
     "output_type": "display_data"
    },
    {
     "data": {
      "text/html": [],
      "text/plain": [
       "<IPython.core.display.HTML object>"
      ]
     },
     "metadata": {},
     "output_type": "display_data"
    }
   ],
   "source": [
    "# instanciando o modelo\n",
    "gbr = create_model('gbr', fold = 5)"
   ]
  },
  {
   "cell_type": "code",
   "execution_count": 334,
   "id": "aa07fce6",
   "metadata": {
    "scrolled": true
   },
   "outputs": [
    {
     "name": "stdout",
     "output_type": "stream",
     "text": [
      "GradientBoostingRegressor(random_state=7854)\n"
     ]
    }
   ],
   "source": [
    "# verificando os parâmetros\n",
    "print(gbr)"
   ]
  },
  {
   "cell_type": "markdown",
   "id": "12ee280c",
   "metadata": {},
   "source": [
    "### Light Gradient Boosting Machine"
   ]
  },
  {
   "cell_type": "markdown",
   "id": "847d02a6",
   "metadata": {},
   "source": [
    "Light Gradient Boosting Machine (LightGBM) é um algoritmo de aprendizado de máquina baseado em árvores de decisão que usa o método de boosting para melhorar a precisão da predição. Ele usa uma abordagem semelhante ao Gradient Boosting Machine (GBM), mas foi projetado para ser mais rápido e eficiente em termos de uso de memória. Na comparação do modelo, ele obteve métricas semelhantes. O instanciaremos agora."
   ]
  },
  {
   "cell_type": "code",
   "execution_count": 335,
   "id": "4e0491b8",
   "metadata": {
    "scrolled": true
   },
   "outputs": [
    {
     "data": {
      "text/html": [],
      "text/plain": [
       "<IPython.core.display.HTML object>"
      ]
     },
     "metadata": {},
     "output_type": "display_data"
    },
    {
     "data": {
      "text/html": [
       "<style type=\"text/css\">\n",
       "#T_da82e_row5_col0, #T_da82e_row5_col1, #T_da82e_row5_col2, #T_da82e_row5_col3, #T_da82e_row5_col4, #T_da82e_row5_col5 {\n",
       "  background: yellow;\n",
       "}\n",
       "</style>\n",
       "<table id=\"T_da82e\">\n",
       "  <thead>\n",
       "    <tr>\n",
       "      <th class=\"blank level0\" >&nbsp;</th>\n",
       "      <th id=\"T_da82e_level0_col0\" class=\"col_heading level0 col0\" >MAE</th>\n",
       "      <th id=\"T_da82e_level0_col1\" class=\"col_heading level0 col1\" >MSE</th>\n",
       "      <th id=\"T_da82e_level0_col2\" class=\"col_heading level0 col2\" >RMSE</th>\n",
       "      <th id=\"T_da82e_level0_col3\" class=\"col_heading level0 col3\" >R2</th>\n",
       "      <th id=\"T_da82e_level0_col4\" class=\"col_heading level0 col4\" >RMSLE</th>\n",
       "      <th id=\"T_da82e_level0_col5\" class=\"col_heading level0 col5\" >MAPE</th>\n",
       "    </tr>\n",
       "    <tr>\n",
       "      <th class=\"index_name level0\" >Fold</th>\n",
       "      <th class=\"blank col0\" >&nbsp;</th>\n",
       "      <th class=\"blank col1\" >&nbsp;</th>\n",
       "      <th class=\"blank col2\" >&nbsp;</th>\n",
       "      <th class=\"blank col3\" >&nbsp;</th>\n",
       "      <th class=\"blank col4\" >&nbsp;</th>\n",
       "      <th class=\"blank col5\" >&nbsp;</th>\n",
       "    </tr>\n",
       "  </thead>\n",
       "  <tbody>\n",
       "    <tr>\n",
       "      <th id=\"T_da82e_level0_row0\" class=\"row_heading level0 row0\" >0</th>\n",
       "      <td id=\"T_da82e_row0_col0\" class=\"data row0 col0\" >2849.7928</td>\n",
       "      <td id=\"T_da82e_row0_col1\" class=\"data row0 col1\" >25781365.7913</td>\n",
       "      <td id=\"T_da82e_row0_col2\" class=\"data row0 col2\" >5077.5354</td>\n",
       "      <td id=\"T_da82e_row0_col3\" class=\"data row0 col3\" >0.8074</td>\n",
       "      <td id=\"T_da82e_row0_col4\" class=\"data row0 col4\" >0.5104</td>\n",
       "      <td id=\"T_da82e_row0_col5\" class=\"data row0 col5\" >0.3476</td>\n",
       "    </tr>\n",
       "    <tr>\n",
       "      <th id=\"T_da82e_level0_row1\" class=\"row_heading level0 row1\" >1</th>\n",
       "      <td id=\"T_da82e_row1_col0\" class=\"data row1 col0\" >2784.8700</td>\n",
       "      <td id=\"T_da82e_row1_col1\" class=\"data row1 col1\" >24471369.3726</td>\n",
       "      <td id=\"T_da82e_row1_col2\" class=\"data row1 col2\" >4946.8545</td>\n",
       "      <td id=\"T_da82e_row1_col3\" class=\"data row1 col3\" >0.8386</td>\n",
       "      <td id=\"T_da82e_row1_col4\" class=\"data row1 col4\" >0.5397</td>\n",
       "      <td id=\"T_da82e_row1_col5\" class=\"data row1 col5\" >0.3177</td>\n",
       "    </tr>\n",
       "    <tr>\n",
       "      <th id=\"T_da82e_level0_row2\" class=\"row_heading level0 row2\" >2</th>\n",
       "      <td id=\"T_da82e_row2_col0\" class=\"data row2 col0\" >2347.0919</td>\n",
       "      <td id=\"T_da82e_row2_col1\" class=\"data row2 col1\" >14173490.2403</td>\n",
       "      <td id=\"T_da82e_row2_col2\" class=\"data row2 col2\" >3764.7696</td>\n",
       "      <td id=\"T_da82e_row2_col3\" class=\"data row2 col3\" >0.8764</td>\n",
       "      <td id=\"T_da82e_row2_col4\" class=\"data row2 col4\" >0.5088</td>\n",
       "      <td id=\"T_da82e_row2_col5\" class=\"data row2 col5\" >0.3510</td>\n",
       "    </tr>\n",
       "    <tr>\n",
       "      <th id=\"T_da82e_level0_row3\" class=\"row_heading level0 row3\" >3</th>\n",
       "      <td id=\"T_da82e_row3_col0\" class=\"data row3 col0\" >2994.7877</td>\n",
       "      <td id=\"T_da82e_row3_col1\" class=\"data row3 col1\" >28585064.4599</td>\n",
       "      <td id=\"T_da82e_row3_col2\" class=\"data row3 col2\" >5346.5002</td>\n",
       "      <td id=\"T_da82e_row3_col3\" class=\"data row3 col3\" >0.8363</td>\n",
       "      <td id=\"T_da82e_row3_col4\" class=\"data row3 col4\" >0.5004</td>\n",
       "      <td id=\"T_da82e_row3_col5\" class=\"data row3 col5\" >0.3821</td>\n",
       "    </tr>\n",
       "    <tr>\n",
       "      <th id=\"T_da82e_level0_row4\" class=\"row_heading level0 row4\" >4</th>\n",
       "      <td id=\"T_da82e_row4_col0\" class=\"data row4 col0\" >2839.5886</td>\n",
       "      <td id=\"T_da82e_row4_col1\" class=\"data row4 col1\" >20960555.6271</td>\n",
       "      <td id=\"T_da82e_row4_col2\" class=\"data row4 col2\" >4578.2699</td>\n",
       "      <td id=\"T_da82e_row4_col3\" class=\"data row4 col3\" >0.8550</td>\n",
       "      <td id=\"T_da82e_row4_col4\" class=\"data row4 col4\" >0.4536</td>\n",
       "      <td id=\"T_da82e_row4_col5\" class=\"data row4 col5\" >0.3160</td>\n",
       "    </tr>\n",
       "    <tr>\n",
       "      <th id=\"T_da82e_level0_row5\" class=\"row_heading level0 row5\" >Mean</th>\n",
       "      <td id=\"T_da82e_row5_col0\" class=\"data row5 col0\" >2763.2262</td>\n",
       "      <td id=\"T_da82e_row5_col1\" class=\"data row5 col1\" >22794369.0982</td>\n",
       "      <td id=\"T_da82e_row5_col2\" class=\"data row5 col2\" >4742.7859</td>\n",
       "      <td id=\"T_da82e_row5_col3\" class=\"data row5 col3\" >0.8427</td>\n",
       "      <td id=\"T_da82e_row5_col4\" class=\"data row5 col4\" >0.5026</td>\n",
       "      <td id=\"T_da82e_row5_col5\" class=\"data row5 col5\" >0.3429</td>\n",
       "    </tr>\n",
       "    <tr>\n",
       "      <th id=\"T_da82e_level0_row6\" class=\"row_heading level0 row6\" >Std</th>\n",
       "      <td id=\"T_da82e_row6_col0\" class=\"data row6 col0\" >219.3545</td>\n",
       "      <td id=\"T_da82e_row6_col1\" class=\"data row6 col1\" >4958811.4719</td>\n",
       "      <td id=\"T_da82e_row6_col2\" class=\"data row6 col2\" >548.0426</td>\n",
       "      <td id=\"T_da82e_row6_col3\" class=\"data row6 col3\" >0.0228</td>\n",
       "      <td id=\"T_da82e_row6_col4\" class=\"data row6 col4\" >0.0279</td>\n",
       "      <td id=\"T_da82e_row6_col5\" class=\"data row6 col5\" >0.0244</td>\n",
       "    </tr>\n",
       "  </tbody>\n",
       "</table>\n"
      ],
      "text/plain": [
       "<pandas.io.formats.style.Styler at 0x1d561e2f730>"
      ]
     },
     "metadata": {},
     "output_type": "display_data"
    },
    {
     "data": {
      "text/html": [],
      "text/plain": [
       "<IPython.core.display.HTML object>"
      ]
     },
     "metadata": {},
     "output_type": "display_data"
    }
   ],
   "source": [
    "lightgbm = create_model('lightgbm', fold = 5)"
   ]
  },
  {
   "cell_type": "code",
   "execution_count": 336,
   "id": "e2864dda",
   "metadata": {
    "scrolled": true
   },
   "outputs": [
    {
     "name": "stdout",
     "output_type": "stream",
     "text": [
      "LGBMRegressor(random_state=7854)\n"
     ]
    }
   ],
   "source": [
    "# verificando os parâmetros\n",
    "print(lightgbm)"
   ]
  },
  {
   "cell_type": "markdown",
   "id": "e63fca5f",
   "metadata": {},
   "source": [
    "### Random Forest Regressor"
   ]
  },
  {
   "cell_type": "markdown",
   "id": "0a6f2223",
   "metadata": {},
   "source": [
    "Por fim, o Random Forest Regressor é um algoritmo de aprendizado de máquina baseado em árvores de decisão que utiliza a técnica de florestas aleatórias para fazer previsões em problemas de regressão. Ele é eficaz em lidar com dados de alta dimensionalidade e em lidar com valores ausentes e outliers nos dados de treinamento."
   ]
  },
  {
   "cell_type": "code",
   "execution_count": 337,
   "id": "36deee8f",
   "metadata": {
    "scrolled": true
   },
   "outputs": [
    {
     "data": {
      "text/html": [],
      "text/plain": [
       "<IPython.core.display.HTML object>"
      ]
     },
     "metadata": {},
     "output_type": "display_data"
    },
    {
     "data": {
      "text/html": [
       "<style type=\"text/css\">\n",
       "#T_8ce7a_row5_col0, #T_8ce7a_row5_col1, #T_8ce7a_row5_col2, #T_8ce7a_row5_col3, #T_8ce7a_row5_col4, #T_8ce7a_row5_col5 {\n",
       "  background: yellow;\n",
       "}\n",
       "</style>\n",
       "<table id=\"T_8ce7a\">\n",
       "  <thead>\n",
       "    <tr>\n",
       "      <th class=\"blank level0\" >&nbsp;</th>\n",
       "      <th id=\"T_8ce7a_level0_col0\" class=\"col_heading level0 col0\" >MAE</th>\n",
       "      <th id=\"T_8ce7a_level0_col1\" class=\"col_heading level0 col1\" >MSE</th>\n",
       "      <th id=\"T_8ce7a_level0_col2\" class=\"col_heading level0 col2\" >RMSE</th>\n",
       "      <th id=\"T_8ce7a_level0_col3\" class=\"col_heading level0 col3\" >R2</th>\n",
       "      <th id=\"T_8ce7a_level0_col4\" class=\"col_heading level0 col4\" >RMSLE</th>\n",
       "      <th id=\"T_8ce7a_level0_col5\" class=\"col_heading level0 col5\" >MAPE</th>\n",
       "    </tr>\n",
       "    <tr>\n",
       "      <th class=\"index_name level0\" >Fold</th>\n",
       "      <th class=\"blank col0\" >&nbsp;</th>\n",
       "      <th class=\"blank col1\" >&nbsp;</th>\n",
       "      <th class=\"blank col2\" >&nbsp;</th>\n",
       "      <th class=\"blank col3\" >&nbsp;</th>\n",
       "      <th class=\"blank col4\" >&nbsp;</th>\n",
       "      <th class=\"blank col5\" >&nbsp;</th>\n",
       "    </tr>\n",
       "  </thead>\n",
       "  <tbody>\n",
       "    <tr>\n",
       "      <th id=\"T_8ce7a_level0_row0\" class=\"row_heading level0 row0\" >0</th>\n",
       "      <td id=\"T_8ce7a_row0_col0\" class=\"data row0 col0\" >2581.4221</td>\n",
       "      <td id=\"T_8ce7a_row0_col1\" class=\"data row0 col1\" >24251918.7490</td>\n",
       "      <td id=\"T_8ce7a_row0_col2\" class=\"data row0 col2\" >4924.6237</td>\n",
       "      <td id=\"T_8ce7a_row0_col3\" class=\"data row0 col3\" >0.8188</td>\n",
       "      <td id=\"T_8ce7a_row0_col4\" class=\"data row0 col4\" >0.4616</td>\n",
       "      <td id=\"T_8ce7a_row0_col5\" class=\"data row0 col5\" >0.3067</td>\n",
       "    </tr>\n",
       "    <tr>\n",
       "      <th id=\"T_8ce7a_level0_row1\" class=\"row_heading level0 row1\" >1</th>\n",
       "      <td id=\"T_8ce7a_row1_col0\" class=\"data row1 col0\" >2516.0605</td>\n",
       "      <td id=\"T_8ce7a_row1_col1\" class=\"data row1 col1\" >22782695.0090</td>\n",
       "      <td id=\"T_8ce7a_row1_col2\" class=\"data row1 col2\" >4773.1221</td>\n",
       "      <td id=\"T_8ce7a_row1_col3\" class=\"data row1 col3\" >0.8497</td>\n",
       "      <td id=\"T_8ce7a_row1_col4\" class=\"data row1 col4\" >0.4578</td>\n",
       "      <td id=\"T_8ce7a_row1_col5\" class=\"data row1 col5\" >0.2607</td>\n",
       "    </tr>\n",
       "    <tr>\n",
       "      <th id=\"T_8ce7a_level0_row2\" class=\"row_heading level0 row2\" >2</th>\n",
       "      <td id=\"T_8ce7a_row2_col0\" class=\"data row2 col0\" >2045.3780</td>\n",
       "      <td id=\"T_8ce7a_row2_col1\" class=\"data row2 col1\" >13100144.3725</td>\n",
       "      <td id=\"T_8ce7a_row2_col2\" class=\"data row2 col2\" >3619.4122</td>\n",
       "      <td id=\"T_8ce7a_row2_col3\" class=\"data row2 col3\" >0.8857</td>\n",
       "      <td id=\"T_8ce7a_row2_col4\" class=\"data row2 col4\" >0.4184</td>\n",
       "      <td id=\"T_8ce7a_row2_col5\" class=\"data row2 col5\" >0.2877</td>\n",
       "    </tr>\n",
       "    <tr>\n",
       "      <th id=\"T_8ce7a_level0_row3\" class=\"row_heading level0 row3\" >3</th>\n",
       "      <td id=\"T_8ce7a_row3_col0\" class=\"data row3 col0\" >2654.5623</td>\n",
       "      <td id=\"T_8ce7a_row3_col1\" class=\"data row3 col1\" >26853199.7655</td>\n",
       "      <td id=\"T_8ce7a_row3_col2\" class=\"data row3 col2\" >5182.0073</td>\n",
       "      <td id=\"T_8ce7a_row3_col3\" class=\"data row3 col3\" >0.8462</td>\n",
       "      <td id=\"T_8ce7a_row3_col4\" class=\"data row3 col4\" >0.4669</td>\n",
       "      <td id=\"T_8ce7a_row3_col5\" class=\"data row3 col5\" >0.3507</td>\n",
       "    </tr>\n",
       "    <tr>\n",
       "      <th id=\"T_8ce7a_level0_row4\" class=\"row_heading level0 row4\" >4</th>\n",
       "      <td id=\"T_8ce7a_row4_col0\" class=\"data row4 col0\" >2592.1038</td>\n",
       "      <td id=\"T_8ce7a_row4_col1\" class=\"data row4 col1\" >20508693.0966</td>\n",
       "      <td id=\"T_8ce7a_row4_col2\" class=\"data row4 col2\" >4528.6525</td>\n",
       "      <td id=\"T_8ce7a_row4_col3\" class=\"data row4 col3\" >0.8581</td>\n",
       "      <td id=\"T_8ce7a_row4_col4\" class=\"data row4 col4\" >0.3805</td>\n",
       "      <td id=\"T_8ce7a_row4_col5\" class=\"data row4 col5\" >0.2710</td>\n",
       "    </tr>\n",
       "    <tr>\n",
       "      <th id=\"T_8ce7a_level0_row5\" class=\"row_heading level0 row5\" >Mean</th>\n",
       "      <td id=\"T_8ce7a_row5_col0\" class=\"data row5 col0\" >2477.9053</td>\n",
       "      <td id=\"T_8ce7a_row5_col1\" class=\"data row5 col1\" >21499330.1985</td>\n",
       "      <td id=\"T_8ce7a_row5_col2\" class=\"data row5 col2\" >4605.5636</td>\n",
       "      <td id=\"T_8ce7a_row5_col3\" class=\"data row5 col3\" >0.8517</td>\n",
       "      <td id=\"T_8ce7a_row5_col4\" class=\"data row5 col4\" >0.4370</td>\n",
       "      <td id=\"T_8ce7a_row5_col5\" class=\"data row5 col5\" >0.2954</td>\n",
       "    </tr>\n",
       "    <tr>\n",
       "      <th id=\"T_8ce7a_level0_row6\" class=\"row_heading level0 row6\" >Std</th>\n",
       "      <td id=\"T_8ce7a_row6_col0\" class=\"data row6 col0\" >220.6810</td>\n",
       "      <td id=\"T_8ce7a_row6_col1\" class=\"data row6 col1\" >4677934.8587</td>\n",
       "      <td id=\"T_8ce7a_row6_col2\" class=\"data row6 col2\" >536.7630</td>\n",
       "      <td id=\"T_8ce7a_row6_col3\" class=\"data row6 col3\" >0.0215</td>\n",
       "      <td id=\"T_8ce7a_row6_col4\" class=\"data row6 col4\" >0.0331</td>\n",
       "      <td id=\"T_8ce7a_row6_col5\" class=\"data row6 col5\" >0.0318</td>\n",
       "    </tr>\n",
       "  </tbody>\n",
       "</table>\n"
      ],
      "text/plain": [
       "<pandas.io.formats.style.Styler at 0x1d56ac9ebc0>"
      ]
     },
     "metadata": {},
     "output_type": "display_data"
    },
    {
     "data": {
      "text/html": [],
      "text/plain": [
       "<IPython.core.display.HTML object>"
      ]
     },
     "metadata": {},
     "output_type": "display_data"
    }
   ],
   "source": [
    "rf = create_model('rf', fold = 5)"
   ]
  },
  {
   "cell_type": "code",
   "execution_count": 338,
   "id": "b35680df",
   "metadata": {},
   "outputs": [
    {
     "name": "stdout",
     "output_type": "stream",
     "text": [
      "RandomForestRegressor(n_jobs=-1, random_state=7854)\n"
     ]
    }
   ],
   "source": [
    "# verificando os parâmetros\n",
    "print(rf)"
   ]
  },
  {
   "cell_type": "markdown",
   "id": "18b45b07",
   "metadata": {},
   "source": [
    "### Ajuste dos hiperparâmetros"
   ]
  },
  {
   "cell_type": "markdown",
   "id": "7d3da19b",
   "metadata": {},
   "source": [
    "Agora iremos ajustar (tunar) os parâmetros dos modelos instanciados, a saber, Gradient Boosting Regressor (GBR), Light Gradient Boosting Machine (LightGBM) e Random Forest Regressor (rf) para otimizar sua métrica R-squared.\n",
    "\n",
    "A função tune_model() é usada para ajustar os hiperparâmetros do modelo para maximizar sua métrica de otimização. O argumento optimize='RMSE' indica que a otimização será baseada no valor de RMSE. Optei por essa métrica a fim de penalizar erros mais grotescos cometidos."
   ]
  },
  {
   "cell_type": "code",
   "execution_count": 354,
   "id": "2ba42d5a",
   "metadata": {
    "scrolled": false
   },
   "outputs": [
    {
     "data": {
      "text/html": [],
      "text/plain": [
       "<IPython.core.display.HTML object>"
      ]
     },
     "metadata": {},
     "output_type": "display_data"
    },
    {
     "data": {
      "text/html": [
       "<style type=\"text/css\">\n",
       "#T_0072a_row10_col0, #T_0072a_row10_col1, #T_0072a_row10_col2, #T_0072a_row10_col3, #T_0072a_row10_col4, #T_0072a_row10_col5 {\n",
       "  background: yellow;\n",
       "}\n",
       "</style>\n",
       "<table id=\"T_0072a\">\n",
       "  <thead>\n",
       "    <tr>\n",
       "      <th class=\"blank level0\" >&nbsp;</th>\n",
       "      <th id=\"T_0072a_level0_col0\" class=\"col_heading level0 col0\" >MAE</th>\n",
       "      <th id=\"T_0072a_level0_col1\" class=\"col_heading level0 col1\" >MSE</th>\n",
       "      <th id=\"T_0072a_level0_col2\" class=\"col_heading level0 col2\" >RMSE</th>\n",
       "      <th id=\"T_0072a_level0_col3\" class=\"col_heading level0 col3\" >R2</th>\n",
       "      <th id=\"T_0072a_level0_col4\" class=\"col_heading level0 col4\" >RMSLE</th>\n",
       "      <th id=\"T_0072a_level0_col5\" class=\"col_heading level0 col5\" >MAPE</th>\n",
       "    </tr>\n",
       "    <tr>\n",
       "      <th class=\"index_name level0\" >Fold</th>\n",
       "      <th class=\"blank col0\" >&nbsp;</th>\n",
       "      <th class=\"blank col1\" >&nbsp;</th>\n",
       "      <th class=\"blank col2\" >&nbsp;</th>\n",
       "      <th class=\"blank col3\" >&nbsp;</th>\n",
       "      <th class=\"blank col4\" >&nbsp;</th>\n",
       "      <th class=\"blank col5\" >&nbsp;</th>\n",
       "    </tr>\n",
       "  </thead>\n",
       "  <tbody>\n",
       "    <tr>\n",
       "      <th id=\"T_0072a_level0_row0\" class=\"row_heading level0 row0\" >0</th>\n",
       "      <td id=\"T_0072a_row0_col0\" class=\"data row0 col0\" >2544.9365</td>\n",
       "      <td id=\"T_0072a_row0_col1\" class=\"data row0 col1\" >17842536.1778</td>\n",
       "      <td id=\"T_0072a_row0_col2\" class=\"data row0 col2\" >4224.0426</td>\n",
       "      <td id=\"T_0072a_row0_col3\" class=\"data row0 col3\" >0.8576</td>\n",
       "      <td id=\"T_0072a_row0_col4\" class=\"data row0 col4\" >0.4654</td>\n",
       "      <td id=\"T_0072a_row0_col5\" class=\"data row0 col5\" >0.3962</td>\n",
       "    </tr>\n",
       "    <tr>\n",
       "      <th id=\"T_0072a_level0_row1\" class=\"row_heading level0 row1\" >1</th>\n",
       "      <td id=\"T_0072a_row1_col0\" class=\"data row1 col0\" >3259.5352</td>\n",
       "      <td id=\"T_0072a_row1_col1\" class=\"data row1 col1\" >26963448.5044</td>\n",
       "      <td id=\"T_0072a_row1_col2\" class=\"data row1 col2\" >5192.6341</td>\n",
       "      <td id=\"T_0072a_row1_col3\" class=\"data row1 col3\" >0.8100</td>\n",
       "      <td id=\"T_0072a_row1_col4\" class=\"data row1 col4\" >0.4697</td>\n",
       "      <td id=\"T_0072a_row1_col5\" class=\"data row1 col5\" >0.3920</td>\n",
       "    </tr>\n",
       "    <tr>\n",
       "      <th id=\"T_0072a_level0_row2\" class=\"row_heading level0 row2\" >2</th>\n",
       "      <td id=\"T_0072a_row2_col0\" class=\"data row2 col0\" >2399.0430</td>\n",
       "      <td id=\"T_0072a_row2_col1\" class=\"data row2 col1\" >19048294.6894</td>\n",
       "      <td id=\"T_0072a_row2_col2\" class=\"data row2 col2\" >4364.4352</td>\n",
       "      <td id=\"T_0072a_row2_col3\" class=\"data row2 col3\" >0.8575</td>\n",
       "      <td id=\"T_0072a_row2_col4\" class=\"data row2 col4\" >0.4491</td>\n",
       "      <td id=\"T_0072a_row2_col5\" class=\"data row2 col5\" >0.3989</td>\n",
       "    </tr>\n",
       "    <tr>\n",
       "      <th id=\"T_0072a_level0_row3\" class=\"row_heading level0 row3\" >3</th>\n",
       "      <td id=\"T_0072a_row3_col0\" class=\"data row3 col0\" >3277.3656</td>\n",
       "      <td id=\"T_0072a_row3_col1\" class=\"data row3 col1\" >28372715.1212</td>\n",
       "      <td id=\"T_0072a_row3_col2\" class=\"data row3 col2\" >5326.6045</td>\n",
       "      <td id=\"T_0072a_row3_col3\" class=\"data row3 col3\" >0.8297</td>\n",
       "      <td id=\"T_0072a_row3_col4\" class=\"data row3 col4\" >0.5362</td>\n",
       "      <td id=\"T_0072a_row3_col5\" class=\"data row3 col5\" >0.3877</td>\n",
       "    </tr>\n",
       "    <tr>\n",
       "      <th id=\"T_0072a_level0_row4\" class=\"row_heading level0 row4\" >4</th>\n",
       "      <td id=\"T_0072a_row4_col0\" class=\"data row4 col0\" >2074.2575</td>\n",
       "      <td id=\"T_0072a_row4_col1\" class=\"data row4 col1\" >8166906.3535</td>\n",
       "      <td id=\"T_0072a_row4_col2\" class=\"data row4 col2\" >2857.7800</td>\n",
       "      <td id=\"T_0072a_row4_col3\" class=\"data row4 col3\" >0.9004</td>\n",
       "      <td id=\"T_0072a_row4_col4\" class=\"data row4 col4\" >0.4204</td>\n",
       "      <td id=\"T_0072a_row4_col5\" class=\"data row4 col5\" >0.3721</td>\n",
       "    </tr>\n",
       "    <tr>\n",
       "      <th id=\"T_0072a_level0_row5\" class=\"row_heading level0 row5\" >5</th>\n",
       "      <td id=\"T_0072a_row5_col0\" class=\"data row5 col0\" >2665.3754</td>\n",
       "      <td id=\"T_0072a_row5_col1\" class=\"data row5 col1\" >16731112.9740</td>\n",
       "      <td id=\"T_0072a_row5_col2\" class=\"data row5 col2\" >4090.3683</td>\n",
       "      <td id=\"T_0072a_row5_col3\" class=\"data row5 col3\" >0.8855</td>\n",
       "      <td id=\"T_0072a_row5_col4\" class=\"data row5 col4\" >0.4940</td>\n",
       "      <td id=\"T_0072a_row5_col5\" class=\"data row5 col5\" >0.4598</td>\n",
       "    </tr>\n",
       "    <tr>\n",
       "      <th id=\"T_0072a_level0_row6\" class=\"row_heading level0 row6\" >6</th>\n",
       "      <td id=\"T_0072a_row6_col0\" class=\"data row6 col0\" >2755.9297</td>\n",
       "      <td id=\"T_0072a_row6_col1\" class=\"data row6 col1\" >22927648.7056</td>\n",
       "      <td id=\"T_0072a_row6_col2\" class=\"data row6 col2\" >4788.2824</td>\n",
       "      <td id=\"T_0072a_row6_col3\" class=\"data row6 col3\" >0.8164</td>\n",
       "      <td id=\"T_0072a_row6_col4\" class=\"data row6 col4\" >0.5017</td>\n",
       "      <td id=\"T_0072a_row6_col5\" class=\"data row6 col5\" >0.4468</td>\n",
       "    </tr>\n",
       "    <tr>\n",
       "      <th id=\"T_0072a_level0_row7\" class=\"row_heading level0 row7\" >7</th>\n",
       "      <td id=\"T_0072a_row7_col0\" class=\"data row7 col0\" >3485.4819</td>\n",
       "      <td id=\"T_0072a_row7_col1\" class=\"data row7 col1\" >34708799.8486</td>\n",
       "      <td id=\"T_0072a_row7_col2\" class=\"data row7 col2\" >5891.4175</td>\n",
       "      <td id=\"T_0072a_row7_col3\" class=\"data row7 col3\" >0.8429</td>\n",
       "      <td id=\"T_0072a_row7_col4\" class=\"data row7 col4\" >0.5076</td>\n",
       "      <td id=\"T_0072a_row7_col5\" class=\"data row7 col5\" >0.4310</td>\n",
       "    </tr>\n",
       "    <tr>\n",
       "      <th id=\"T_0072a_level0_row8\" class=\"row_heading level0 row8\" >8</th>\n",
       "      <td id=\"T_0072a_row8_col0\" class=\"data row8 col0\" >3017.0907</td>\n",
       "      <td id=\"T_0072a_row8_col1\" class=\"data row8 col1\" >20188698.4014</td>\n",
       "      <td id=\"T_0072a_row8_col2\" class=\"data row8 col2\" >4493.1835</td>\n",
       "      <td id=\"T_0072a_row8_col3\" class=\"data row8 col3\" >0.8808</td>\n",
       "      <td id=\"T_0072a_row8_col4\" class=\"data row8 col4\" >0.4718</td>\n",
       "      <td id=\"T_0072a_row8_col5\" class=\"data row8 col5\" >0.4570</td>\n",
       "    </tr>\n",
       "    <tr>\n",
       "      <th id=\"T_0072a_level0_row9\" class=\"row_heading level0 row9\" >9</th>\n",
       "      <td id=\"T_0072a_row9_col0\" class=\"data row9 col0\" >2845.8880</td>\n",
       "      <td id=\"T_0072a_row9_col1\" class=\"data row9 col1\" >18181588.7060</td>\n",
       "      <td id=\"T_0072a_row9_col2\" class=\"data row9 col2\" >4263.9874</td>\n",
       "      <td id=\"T_0072a_row9_col3\" class=\"data row9 col3\" >0.8440</td>\n",
       "      <td id=\"T_0072a_row9_col4\" class=\"data row9 col4\" >0.4283</td>\n",
       "      <td id=\"T_0072a_row9_col5\" class=\"data row9 col5\" >0.3663</td>\n",
       "    </tr>\n",
       "    <tr>\n",
       "      <th id=\"T_0072a_level0_row10\" class=\"row_heading level0 row10\" >Mean</th>\n",
       "      <td id=\"T_0072a_row10_col0\" class=\"data row10 col0\" >2832.4903</td>\n",
       "      <td id=\"T_0072a_row10_col1\" class=\"data row10 col1\" >21313174.9482</td>\n",
       "      <td id=\"T_0072a_row10_col2\" class=\"data row10 col2\" >4549.2736</td>\n",
       "      <td id=\"T_0072a_row10_col3\" class=\"data row10 col3\" >0.8525</td>\n",
       "      <td id=\"T_0072a_row10_col4\" class=\"data row10 col4\" >0.4744</td>\n",
       "      <td id=\"T_0072a_row10_col5\" class=\"data row10 col5\" >0.4108</td>\n",
       "    </tr>\n",
       "    <tr>\n",
       "      <th id=\"T_0072a_level0_row11\" class=\"row_heading level0 row11\" >Std</th>\n",
       "      <td id=\"T_0072a_row11_col0\" class=\"data row11 col0\" >414.7537</td>\n",
       "      <td id=\"T_0072a_row11_col1\" class=\"data row11 col1\" >6970494.6493</td>\n",
       "      <td id=\"T_0072a_row11_col2\" class=\"data row11 col2\" >785.6749</td>\n",
       "      <td id=\"T_0072a_row11_col3\" class=\"data row11 col3\" >0.0283</td>\n",
       "      <td id=\"T_0072a_row11_col4\" class=\"data row11 col4\" >0.0344</td>\n",
       "      <td id=\"T_0072a_row11_col5\" class=\"data row11 col5\" >0.0331</td>\n",
       "    </tr>\n",
       "  </tbody>\n",
       "</table>\n"
      ],
      "text/plain": [
       "<pandas.io.formats.style.Styler at 0x1d56aa79de0>"
      ]
     },
     "metadata": {},
     "output_type": "display_data"
    },
    {
     "data": {
      "text/html": [],
      "text/plain": [
       "<IPython.core.display.HTML object>"
      ]
     },
     "metadata": {},
     "output_type": "display_data"
    },
    {
     "name": "stdout",
     "output_type": "stream",
     "text": [
      "Fitting 10 folds for each of 10 candidates, totalling 100 fits\n",
      "Original model was better than the tuned model, hence it will be returned. NOTE: The display metrics are for the tuned model (not the original one).\n"
     ]
    }
   ],
   "source": [
    "# tuning de parâmetros Gradient Boosting Regressor \n",
    "tuned_gbr = tune_model(gbr, optimize='RMSE', fold = 10)"
   ]
  },
  {
   "cell_type": "code",
   "execution_count": 355,
   "id": "4bcbe670",
   "metadata": {},
   "outputs": [
    {
     "data": {
      "text/html": [],
      "text/plain": [
       "<IPython.core.display.HTML object>"
      ]
     },
     "metadata": {},
     "output_type": "display_data"
    },
    {
     "data": {
      "text/html": [
       "<style type=\"text/css\">\n",
       "#T_a17d6_row10_col0, #T_a17d6_row10_col1, #T_a17d6_row10_col2, #T_a17d6_row10_col3, #T_a17d6_row10_col4, #T_a17d6_row10_col5 {\n",
       "  background: yellow;\n",
       "}\n",
       "</style>\n",
       "<table id=\"T_a17d6\">\n",
       "  <thead>\n",
       "    <tr>\n",
       "      <th class=\"blank level0\" >&nbsp;</th>\n",
       "      <th id=\"T_a17d6_level0_col0\" class=\"col_heading level0 col0\" >MAE</th>\n",
       "      <th id=\"T_a17d6_level0_col1\" class=\"col_heading level0 col1\" >MSE</th>\n",
       "      <th id=\"T_a17d6_level0_col2\" class=\"col_heading level0 col2\" >RMSE</th>\n",
       "      <th id=\"T_a17d6_level0_col3\" class=\"col_heading level0 col3\" >R2</th>\n",
       "      <th id=\"T_a17d6_level0_col4\" class=\"col_heading level0 col4\" >RMSLE</th>\n",
       "      <th id=\"T_a17d6_level0_col5\" class=\"col_heading level0 col5\" >MAPE</th>\n",
       "    </tr>\n",
       "    <tr>\n",
       "      <th class=\"index_name level0\" >Fold</th>\n",
       "      <th class=\"blank col0\" >&nbsp;</th>\n",
       "      <th class=\"blank col1\" >&nbsp;</th>\n",
       "      <th class=\"blank col2\" >&nbsp;</th>\n",
       "      <th class=\"blank col3\" >&nbsp;</th>\n",
       "      <th class=\"blank col4\" >&nbsp;</th>\n",
       "      <th class=\"blank col5\" >&nbsp;</th>\n",
       "    </tr>\n",
       "  </thead>\n",
       "  <tbody>\n",
       "    <tr>\n",
       "      <th id=\"T_a17d6_level0_row0\" class=\"row_heading level0 row0\" >0</th>\n",
       "      <td id=\"T_a17d6_row0_col0\" class=\"data row0 col0\" >2557.8138</td>\n",
       "      <td id=\"T_a17d6_row0_col1\" class=\"data row0 col1\" >19198937.9109</td>\n",
       "      <td id=\"T_a17d6_row0_col2\" class=\"data row0 col2\" >4381.6593</td>\n",
       "      <td id=\"T_a17d6_row0_col3\" class=\"data row0 col3\" >0.8468</td>\n",
       "      <td id=\"T_a17d6_row0_col4\" class=\"data row0 col4\" >0.5087</td>\n",
       "      <td id=\"T_a17d6_row0_col5\" class=\"data row0 col5\" >0.3812</td>\n",
       "    </tr>\n",
       "    <tr>\n",
       "      <th id=\"T_a17d6_level0_row1\" class=\"row_heading level0 row1\" >1</th>\n",
       "      <td id=\"T_a17d6_row1_col0\" class=\"data row1 col0\" >3136.6007</td>\n",
       "      <td id=\"T_a17d6_row1_col1\" class=\"data row1 col1\" >28962087.5609</td>\n",
       "      <td id=\"T_a17d6_row1_col2\" class=\"data row1 col2\" >5381.6436</td>\n",
       "      <td id=\"T_a17d6_row1_col3\" class=\"data row1 col3\" >0.7960</td>\n",
       "      <td id=\"T_a17d6_row1_col4\" class=\"data row1 col4\" >0.4937</td>\n",
       "      <td id=\"T_a17d6_row1_col5\" class=\"data row1 col5\" >0.3288</td>\n",
       "    </tr>\n",
       "    <tr>\n",
       "      <th id=\"T_a17d6_level0_row2\" class=\"row_heading level0 row2\" >2</th>\n",
       "      <td id=\"T_a17d6_row2_col0\" class=\"data row2 col0\" >2212.6542</td>\n",
       "      <td id=\"T_a17d6_row2_col1\" class=\"data row2 col1\" >17480550.2505</td>\n",
       "      <td id=\"T_a17d6_row2_col2\" class=\"data row2 col2\" >4180.9748</td>\n",
       "      <td id=\"T_a17d6_row2_col3\" class=\"data row2 col3\" >0.8693</td>\n",
       "      <td id=\"T_a17d6_row2_col4\" class=\"data row2 col4\" >0.3831</td>\n",
       "      <td id=\"T_a17d6_row2_col5\" class=\"data row2 col5\" >0.2946</td>\n",
       "    </tr>\n",
       "    <tr>\n",
       "      <th id=\"T_a17d6_level0_row3\" class=\"row_heading level0 row3\" >3</th>\n",
       "      <td id=\"T_a17d6_row3_col0\" class=\"data row3 col0\" >3148.4672</td>\n",
       "      <td id=\"T_a17d6_row3_col1\" class=\"data row3 col1\" >28581709.2055</td>\n",
       "      <td id=\"T_a17d6_row3_col2\" class=\"data row3 col2\" >5346.1864</td>\n",
       "      <td id=\"T_a17d6_row3_col3\" class=\"data row3 col3\" >0.8285</td>\n",
       "      <td id=\"T_a17d6_row3_col4\" class=\"data row3 col4\" >0.5616</td>\n",
       "      <td id=\"T_a17d6_row3_col5\" class=\"data row3 col5\" >0.3327</td>\n",
       "    </tr>\n",
       "    <tr>\n",
       "      <th id=\"T_a17d6_level0_row4\" class=\"row_heading level0 row4\" >4</th>\n",
       "      <td id=\"T_a17d6_row4_col0\" class=\"data row4 col0\" >2020.2258</td>\n",
       "      <td id=\"T_a17d6_row4_col1\" class=\"data row4 col1\" >9092700.2546</td>\n",
       "      <td id=\"T_a17d6_row4_col2\" class=\"data row4 col2\" >3015.4105</td>\n",
       "      <td id=\"T_a17d6_row4_col3\" class=\"data row4 col3\" >0.8891</td>\n",
       "      <td id=\"T_a17d6_row4_col4\" class=\"data row4 col4\" >0.5166</td>\n",
       "      <td id=\"T_a17d6_row4_col5\" class=\"data row4 col5\" >0.3182</td>\n",
       "    </tr>\n",
       "    <tr>\n",
       "      <th id=\"T_a17d6_level0_row5\" class=\"row_heading level0 row5\" >5</th>\n",
       "      <td id=\"T_a17d6_row5_col0\" class=\"data row5 col0\" >2354.8270</td>\n",
       "      <td id=\"T_a17d6_row5_col1\" class=\"data row5 col1\" >17060923.6998</td>\n",
       "      <td id=\"T_a17d6_row5_col2\" class=\"data row5 col2\" >4130.4871</td>\n",
       "      <td id=\"T_a17d6_row5_col3\" class=\"data row5 col3\" >0.8832</td>\n",
       "      <td id=\"T_a17d6_row5_col4\" class=\"data row5 col4\" >0.4263</td>\n",
       "      <td id=\"T_a17d6_row5_col5\" class=\"data row5 col5\" >0.2935</td>\n",
       "    </tr>\n",
       "    <tr>\n",
       "      <th id=\"T_a17d6_level0_row6\" class=\"row_heading level0 row6\" >6</th>\n",
       "      <td id=\"T_a17d6_row6_col0\" class=\"data row6 col0\" >2725.4465</td>\n",
       "      <td id=\"T_a17d6_row6_col1\" class=\"data row6 col1\" >22492499.9788</td>\n",
       "      <td id=\"T_a17d6_row6_col2\" class=\"data row6 col2\" >4742.6259</td>\n",
       "      <td id=\"T_a17d6_row6_col3\" class=\"data row6 col3\" >0.8199</td>\n",
       "      <td id=\"T_a17d6_row6_col4\" class=\"data row6 col4\" >0.5055</td>\n",
       "      <td id=\"T_a17d6_row6_col5\" class=\"data row6 col5\" >0.4323</td>\n",
       "    </tr>\n",
       "    <tr>\n",
       "      <th id=\"T_a17d6_level0_row7\" class=\"row_heading level0 row7\" >7</th>\n",
       "      <td id=\"T_a17d6_row7_col0\" class=\"data row7 col0\" >3196.5658</td>\n",
       "      <td id=\"T_a17d6_row7_col1\" class=\"data row7 col1\" >34467649.0849</td>\n",
       "      <td id=\"T_a17d6_row7_col2\" class=\"data row7 col2\" >5870.9155</td>\n",
       "      <td id=\"T_a17d6_row7_col3\" class=\"data row7 col3\" >0.8440</td>\n",
       "      <td id=\"T_a17d6_row7_col4\" class=\"data row7 col4\" >0.4933</td>\n",
       "      <td id=\"T_a17d6_row7_col5\" class=\"data row7 col5\" >0.3294</td>\n",
       "    </tr>\n",
       "    <tr>\n",
       "      <th id=\"T_a17d6_level0_row8\" class=\"row_heading level0 row8\" >8</th>\n",
       "      <td id=\"T_a17d6_row8_col0\" class=\"data row8 col0\" >2541.6929</td>\n",
       "      <td id=\"T_a17d6_row8_col1\" class=\"data row8 col1\" >19524581.8100</td>\n",
       "      <td id=\"T_a17d6_row8_col2\" class=\"data row8 col2\" >4418.6629</td>\n",
       "      <td id=\"T_a17d6_row8_col3\" class=\"data row8 col3\" >0.8847</td>\n",
       "      <td id=\"T_a17d6_row8_col4\" class=\"data row8 col4\" >0.3936</td>\n",
       "      <td id=\"T_a17d6_row8_col5\" class=\"data row8 col5\" >0.3110</td>\n",
       "    </tr>\n",
       "    <tr>\n",
       "      <th id=\"T_a17d6_level0_row9\" class=\"row_heading level0 row9\" >9</th>\n",
       "      <td id=\"T_a17d6_row9_col0\" class=\"data row9 col0\" >2539.4472</td>\n",
       "      <td id=\"T_a17d6_row9_col1\" class=\"data row9 col1\" >17660311.4996</td>\n",
       "      <td id=\"T_a17d6_row9_col2\" class=\"data row9 col2\" >4202.4173</td>\n",
       "      <td id=\"T_a17d6_row9_col3\" class=\"data row9 col3\" >0.8485</td>\n",
       "      <td id=\"T_a17d6_row9_col4\" class=\"data row9 col4\" >0.4514</td>\n",
       "      <td id=\"T_a17d6_row9_col5\" class=\"data row9 col5\" >0.2845</td>\n",
       "    </tr>\n",
       "    <tr>\n",
       "      <th id=\"T_a17d6_level0_row10\" class=\"row_heading level0 row10\" >Mean</th>\n",
       "      <td id=\"T_a17d6_row10_col0\" class=\"data row10 col0\" >2643.3741</td>\n",
       "      <td id=\"T_a17d6_row10_col1\" class=\"data row10 col1\" >21452195.1255</td>\n",
       "      <td id=\"T_a17d6_row10_col2\" class=\"data row10 col2\" >4567.0983</td>\n",
       "      <td id=\"T_a17d6_row10_col3\" class=\"data row10 col3\" >0.8510</td>\n",
       "      <td id=\"T_a17d6_row10_col4\" class=\"data row10 col4\" >0.4734</td>\n",
       "      <td id=\"T_a17d6_row10_col5\" class=\"data row10 col5\" >0.3306</td>\n",
       "    </tr>\n",
       "    <tr>\n",
       "      <th id=\"T_a17d6_level0_row11\" class=\"row_heading level0 row11\" >Std</th>\n",
       "      <td id=\"T_a17d6_row11_col0\" class=\"data row11 col0\" >386.8723</td>\n",
       "      <td id=\"T_a17d6_row11_col1\" class=\"data row11 col1\" >6990696.0682</td>\n",
       "      <td id=\"T_a17d6_row11_col2\" class=\"data row11 col2\" >770.5894</td>\n",
       "      <td id=\"T_a17d6_row11_col3\" class=\"data row11 col3\" >0.0292</td>\n",
       "      <td id=\"T_a17d6_row11_col4\" class=\"data row11 col4\" >0.0547</td>\n",
       "      <td id=\"T_a17d6_row11_col5\" class=\"data row11 col5\" >0.0427</td>\n",
       "    </tr>\n",
       "  </tbody>\n",
       "</table>\n"
      ],
      "text/plain": [
       "<pandas.io.formats.style.Styler at 0x1d5581bb640>"
      ]
     },
     "metadata": {},
     "output_type": "display_data"
    },
    {
     "data": {
      "text/html": [],
      "text/plain": [
       "<IPython.core.display.HTML object>"
      ]
     },
     "metadata": {},
     "output_type": "display_data"
    },
    {
     "name": "stdout",
     "output_type": "stream",
     "text": [
      "Fitting 10 folds for each of 10 candidates, totalling 100 fits\n"
     ]
    }
   ],
   "source": [
    "# tuning de parâmetros  Light Gradient Boosting Machine\n",
    "tuned_lightgbm = tune_model(lightgbm, optimize='RMSE', fold = 10)"
   ]
  },
  {
   "cell_type": "code",
   "execution_count": 356,
   "id": "080afad4",
   "metadata": {
    "scrolled": true
   },
   "outputs": [
    {
     "data": {
      "text/html": [],
      "text/plain": [
       "<IPython.core.display.HTML object>"
      ]
     },
     "metadata": {},
     "output_type": "display_data"
    },
    {
     "data": {
      "text/html": [
       "<style type=\"text/css\">\n",
       "#T_c39bd_row10_col0, #T_c39bd_row10_col1, #T_c39bd_row10_col2, #T_c39bd_row10_col3, #T_c39bd_row10_col4, #T_c39bd_row10_col5 {\n",
       "  background: yellow;\n",
       "}\n",
       "</style>\n",
       "<table id=\"T_c39bd\">\n",
       "  <thead>\n",
       "    <tr>\n",
       "      <th class=\"blank level0\" >&nbsp;</th>\n",
       "      <th id=\"T_c39bd_level0_col0\" class=\"col_heading level0 col0\" >MAE</th>\n",
       "      <th id=\"T_c39bd_level0_col1\" class=\"col_heading level0 col1\" >MSE</th>\n",
       "      <th id=\"T_c39bd_level0_col2\" class=\"col_heading level0 col2\" >RMSE</th>\n",
       "      <th id=\"T_c39bd_level0_col3\" class=\"col_heading level0 col3\" >R2</th>\n",
       "      <th id=\"T_c39bd_level0_col4\" class=\"col_heading level0 col4\" >RMSLE</th>\n",
       "      <th id=\"T_c39bd_level0_col5\" class=\"col_heading level0 col5\" >MAPE</th>\n",
       "    </tr>\n",
       "    <tr>\n",
       "      <th class=\"index_name level0\" >Fold</th>\n",
       "      <th class=\"blank col0\" >&nbsp;</th>\n",
       "      <th class=\"blank col1\" >&nbsp;</th>\n",
       "      <th class=\"blank col2\" >&nbsp;</th>\n",
       "      <th class=\"blank col3\" >&nbsp;</th>\n",
       "      <th class=\"blank col4\" >&nbsp;</th>\n",
       "      <th class=\"blank col5\" >&nbsp;</th>\n",
       "    </tr>\n",
       "  </thead>\n",
       "  <tbody>\n",
       "    <tr>\n",
       "      <th id=\"T_c39bd_level0_row0\" class=\"row_heading level0 row0\" >0</th>\n",
       "      <td id=\"T_c39bd_row0_col0\" class=\"data row0 col0\" >2232.1881</td>\n",
       "      <td id=\"T_c39bd_row0_col1\" class=\"data row0 col1\" >19230185.1051</td>\n",
       "      <td id=\"T_c39bd_row0_col2\" class=\"data row0 col2\" >4385.2235</td>\n",
       "      <td id=\"T_c39bd_row0_col3\" class=\"data row0 col3\" >0.8465</td>\n",
       "      <td id=\"T_c39bd_row0_col4\" class=\"data row0 col4\" >0.3677</td>\n",
       "      <td id=\"T_c39bd_row0_col5\" class=\"data row0 col5\" >0.2217</td>\n",
       "    </tr>\n",
       "    <tr>\n",
       "      <th id=\"T_c39bd_level0_row1\" class=\"row_heading level0 row1\" >1</th>\n",
       "      <td id=\"T_c39bd_row1_col0\" class=\"data row1 col0\" >2913.4431</td>\n",
       "      <td id=\"T_c39bd_row1_col1\" class=\"data row1 col1\" >28267212.5480</td>\n",
       "      <td id=\"T_c39bd_row1_col2\" class=\"data row1 col2\" >5316.6919</td>\n",
       "      <td id=\"T_c39bd_row1_col3\" class=\"data row1 col3\" >0.8009</td>\n",
       "      <td id=\"T_c39bd_row1_col4\" class=\"data row1 col4\" >0.4195</td>\n",
       "      <td id=\"T_c39bd_row1_col5\" class=\"data row1 col5\" >0.2480</td>\n",
       "    </tr>\n",
       "    <tr>\n",
       "      <th id=\"T_c39bd_level0_row2\" class=\"row_heading level0 row2\" >2</th>\n",
       "      <td id=\"T_c39bd_row2_col0\" class=\"data row2 col0\" >1973.5996</td>\n",
       "      <td id=\"T_c39bd_row2_col1\" class=\"data row2 col1\" >18496417.5511</td>\n",
       "      <td id=\"T_c39bd_row2_col2\" class=\"data row2 col2\" >4300.7462</td>\n",
       "      <td id=\"T_c39bd_row2_col3\" class=\"data row2 col3\" >0.8617</td>\n",
       "      <td id=\"T_c39bd_row2_col4\" class=\"data row2 col4\" >0.3153</td>\n",
       "      <td id=\"T_c39bd_row2_col5\" class=\"data row2 col5\" >0.2108</td>\n",
       "    </tr>\n",
       "    <tr>\n",
       "      <th id=\"T_c39bd_level0_row3\" class=\"row_heading level0 row3\" >3</th>\n",
       "      <td id=\"T_c39bd_row3_col0\" class=\"data row3 col0\" >2865.8916</td>\n",
       "      <td id=\"T_c39bd_row3_col1\" class=\"data row3 col1\" >30569189.9553</td>\n",
       "      <td id=\"T_c39bd_row3_col2\" class=\"data row3 col2\" >5528.9411</td>\n",
       "      <td id=\"T_c39bd_row3_col3\" class=\"data row3 col3\" >0.8165</td>\n",
       "      <td id=\"T_c39bd_row3_col4\" class=\"data row3 col4\" >0.5520</td>\n",
       "      <td id=\"T_c39bd_row3_col5\" class=\"data row3 col5\" >0.2790</td>\n",
       "    </tr>\n",
       "    <tr>\n",
       "      <th id=\"T_c39bd_level0_row4\" class=\"row_heading level0 row4\" >4</th>\n",
       "      <td id=\"T_c39bd_row4_col0\" class=\"data row4 col0\" >1492.0870</td>\n",
       "      <td id=\"T_c39bd_row4_col1\" class=\"data row4 col1\" >6005565.3506</td>\n",
       "      <td id=\"T_c39bd_row4_col2\" class=\"data row4 col2\" >2450.6255</td>\n",
       "      <td id=\"T_c39bd_row4_col3\" class=\"data row4 col3\" >0.9268</td>\n",
       "      <td id=\"T_c39bd_row4_col4\" class=\"data row4 col4\" >0.3451</td>\n",
       "      <td id=\"T_c39bd_row4_col5\" class=\"data row4 col5\" >0.2290</td>\n",
       "    </tr>\n",
       "    <tr>\n",
       "      <th id=\"T_c39bd_level0_row5\" class=\"row_heading level0 row5\" >5</th>\n",
       "      <td id=\"T_c39bd_row5_col0\" class=\"data row5 col0\" >2047.7919</td>\n",
       "      <td id=\"T_c39bd_row5_col1\" class=\"data row5 col1\" >17017180.8511</td>\n",
       "      <td id=\"T_c39bd_row5_col2\" class=\"data row5 col2\" >4125.1886</td>\n",
       "      <td id=\"T_c39bd_row5_col3\" class=\"data row5 col3\" >0.8835</td>\n",
       "      <td id=\"T_c39bd_row5_col4\" class=\"data row5 col4\" >0.3956</td>\n",
       "      <td id=\"T_c39bd_row5_col5\" class=\"data row5 col5\" >0.2628</td>\n",
       "    </tr>\n",
       "    <tr>\n",
       "      <th id=\"T_c39bd_level0_row6\" class=\"row_heading level0 row6\" >6</th>\n",
       "      <td id=\"T_c39bd_row6_col0\" class=\"data row6 col0\" >2615.0352</td>\n",
       "      <td id=\"T_c39bd_row6_col1\" class=\"data row6 col1\" >23996012.0950</td>\n",
       "      <td id=\"T_c39bd_row6_col2\" class=\"data row6 col2\" >4898.5725</td>\n",
       "      <td id=\"T_c39bd_row6_col3\" class=\"data row6 col3\" >0.8078</td>\n",
       "      <td id=\"T_c39bd_row6_col4\" class=\"data row6 col4\" >0.3901</td>\n",
       "      <td id=\"T_c39bd_row6_col5\" class=\"data row6 col5\" >0.2713</td>\n",
       "    </tr>\n",
       "    <tr>\n",
       "      <th id=\"T_c39bd_level0_row7\" class=\"row_heading level0 row7\" >7</th>\n",
       "      <td id=\"T_c39bd_row7_col0\" class=\"data row7 col0\" >3327.0420</td>\n",
       "      <td id=\"T_c39bd_row7_col1\" class=\"data row7 col1\" >44515618.3894</td>\n",
       "      <td id=\"T_c39bd_row7_col2\" class=\"data row7 col2\" >6672.0026</td>\n",
       "      <td id=\"T_c39bd_row7_col3\" class=\"data row7 col3\" >0.7985</td>\n",
       "      <td id=\"T_c39bd_row7_col4\" class=\"data row7 col4\" >0.4725</td>\n",
       "      <td id=\"T_c39bd_row7_col5\" class=\"data row7 col5\" >0.2342</td>\n",
       "    </tr>\n",
       "    <tr>\n",
       "      <th id=\"T_c39bd_level0_row8\" class=\"row_heading level0 row8\" >8</th>\n",
       "      <td id=\"T_c39bd_row8_col0\" class=\"data row8 col0\" >2125.2785</td>\n",
       "      <td id=\"T_c39bd_row8_col1\" class=\"data row8 col1\" >17397853.1045</td>\n",
       "      <td id=\"T_c39bd_row8_col2\" class=\"data row8 col2\" >4171.0734</td>\n",
       "      <td id=\"T_c39bd_row8_col3\" class=\"data row8 col3\" >0.8972</td>\n",
       "      <td id=\"T_c39bd_row8_col4\" class=\"data row8 col4\" >0.3579</td>\n",
       "      <td id=\"T_c39bd_row8_col5\" class=\"data row8 col5\" >0.2602</td>\n",
       "    </tr>\n",
       "    <tr>\n",
       "      <th id=\"T_c39bd_level0_row9\" class=\"row_heading level0 row9\" >9</th>\n",
       "      <td id=\"T_c39bd_row9_col0\" class=\"data row9 col0\" >2106.8051</td>\n",
       "      <td id=\"T_c39bd_row9_col1\" class=\"data row9 col1\" >16631821.2837</td>\n",
       "      <td id=\"T_c39bd_row9_col2\" class=\"data row9 col2\" >4078.2130</td>\n",
       "      <td id=\"T_c39bd_row9_col3\" class=\"data row9 col3\" >0.8573</td>\n",
       "      <td id=\"T_c39bd_row9_col4\" class=\"data row9 col4\" >0.3690</td>\n",
       "      <td id=\"T_c39bd_row9_col5\" class=\"data row9 col5\" >0.1949</td>\n",
       "    </tr>\n",
       "    <tr>\n",
       "      <th id=\"T_c39bd_level0_row10\" class=\"row_heading level0 row10\" >Mean</th>\n",
       "      <td id=\"T_c39bd_row10_col0\" class=\"data row10 col0\" >2369.9162</td>\n",
       "      <td id=\"T_c39bd_row10_col1\" class=\"data row10 col1\" >22212705.6234</td>\n",
       "      <td id=\"T_c39bd_row10_col2\" class=\"data row10 col2\" >4592.7278</td>\n",
       "      <td id=\"T_c39bd_row10_col3\" class=\"data row10 col3\" >0.8497</td>\n",
       "      <td id=\"T_c39bd_row10_col4\" class=\"data row10 col4\" >0.3985</td>\n",
       "      <td id=\"T_c39bd_row10_col5\" class=\"data row10 col5\" >0.2412</td>\n",
       "    </tr>\n",
       "    <tr>\n",
       "      <th id=\"T_c39bd_level0_row11\" class=\"row_heading level0 row11\" >Std</th>\n",
       "      <td id=\"T_c39bd_row11_col0\" class=\"data row11 col0\" >519.3309</td>\n",
       "      <td id=\"T_c39bd_row11_col1\" class=\"data row11 col1\" >9868070.5219</td>\n",
       "      <td id=\"T_c39bd_row11_col2\" class=\"data row11 col2\" >1058.0911</td>\n",
       "      <td id=\"T_c39bd_row11_col3\" class=\"data row11 col3\" >0.0417</td>\n",
       "      <td id=\"T_c39bd_row11_col4\" class=\"data row11 col4\" >0.0654</td>\n",
       "      <td id=\"T_c39bd_row11_col5\" class=\"data row11 col5\" >0.0262</td>\n",
       "    </tr>\n",
       "  </tbody>\n",
       "</table>\n"
      ],
      "text/plain": [
       "<pandas.io.formats.style.Styler at 0x1d562a38e20>"
      ]
     },
     "metadata": {},
     "output_type": "display_data"
    },
    {
     "data": {
      "text/html": [],
      "text/plain": [
       "<IPython.core.display.HTML object>"
      ]
     },
     "metadata": {},
     "output_type": "display_data"
    },
    {
     "name": "stdout",
     "output_type": "stream",
     "text": [
      "Fitting 10 folds for each of 10 candidates, totalling 100 fits\n",
      "Original model was better than the tuned model, hence it will be returned. NOTE: The display metrics are for the tuned model (not the original one).\n"
     ]
    }
   ],
   "source": [
    "# tuning de parâmetros Random Forest Regressor \n",
    "tuned_rf = tune_model(rf, optimize='RMSE', fold = 10)"
   ]
  },
  {
   "cell_type": "markdown",
   "id": "84de985b",
   "metadata": {},
   "source": [
    "Podemos observar que a performance do Gradient Boosting Regressor decaiu durante o ajuste ao observar o RMSE. Contudo, obtivemos um leve aumento de performance no algoritmo Light Gradient Boosting Machine e o Random Forest Regressor se manteve semelhante. Para essa métrica, quanto menor o valor melhor. Ela penaliza erros maiores, o que é interessante no escopo do problema."
   ]
  },
  {
   "cell_type": "markdown",
   "id": "5ed09df1",
   "metadata": {},
   "source": [
    "### Avaliando os modelos"
   ]
  },
  {
   "cell_type": "markdown",
   "id": "e8d5e8ba",
   "metadata": {},
   "source": [
    "Abaixo será plotado o **gráfico de erro** para cada algoritmo. Pode-se notar que todos obtiveram métricas de R2 boas e semelhantes."
   ]
  },
  {
   "cell_type": "code",
   "execution_count": 357,
   "id": "d77a0572",
   "metadata": {
    "scrolled": false
   },
   "outputs": [
    {
     "data": {
      "text/html": [],
      "text/plain": [
       "<IPython.core.display.HTML object>"
      ]
     },
     "metadata": {},
     "output_type": "display_data"
    },
    {
     "data": {
      "image/png": "[encoded data removed]",
      "text/plain": [
       "<Figure size 800x550 with 1 Axes>"
      ]
     },
     "metadata": {},
     "output_type": "display_data"
    },
    {
     "data": {
      "text/html": [],
      "text/plain": [
       "<IPython.core.display.HTML object>"
      ]
     },
     "metadata": {},
     "output_type": "display_data"
    },
    {
     "data": {
      "image/png": "[encoded data removed]",
      "text/plain": [
       "<Figure size 800x550 with 1 Axes>"
      ]
     },
     "metadata": {},
     "output_type": "display_data"
    },
    {
     "data": {
      "text/html": [],
      "text/plain": [
       "<IPython.core.display.HTML object>"
      ]
     },
     "metadata": {},
     "output_type": "display_data"
    },
    {
     "data": {
      "image/png": "[encoded data removed]",
      "text/plain": [
       "<Figure size 800x550 with 1 Axes>"
      ]
     },
     "metadata": {},
     "output_type": "display_data"
    }
   ],
   "source": [
    "# Plotando os gráficos de erro lado a lado\n",
    "plt.figure(figsize=(18, 6))\n",
    "\n",
    "plt.subplot(1, 3, 1)\n",
    "plot_model(tuned_gbr, plot='error')\n",
    "\n",
    "plt.subplot(1, 3, 2)\n",
    "plot_model(tuned_lightgbm, plot='error')\n",
    "\n",
    "plt.subplot(1, 3, 3)\n",
    "plot_model(tuned_rf, plot='error');"
   ]
  },
  {
   "cell_type": "markdown",
   "id": "b9937bc2",
   "metadata": {},
   "source": [
    "Vamos verificar quais as features mais importantes para cada algoritmo."
   ]
  },
  {
   "cell_type": "code",
   "execution_count": 358,
   "id": "982a2980",
   "metadata": {
    "scrolled": false
   },
   "outputs": [
    {
     "data": {
      "text/html": [],
      "text/plain": [
       "<IPython.core.display.HTML object>"
      ]
     },
     "metadata": {},
     "output_type": "display_data"
    },
    {
     "data": {
      "image/png": "[encoded data removed]",
      "text/plain": [
       "<Figure size 800x500 with 1 Axes>"
      ]
     },
     "metadata": {},
     "output_type": "display_data"
    },
    {
     "data": {
      "text/html": [],
      "text/plain": [
       "<IPython.core.display.HTML object>"
      ]
     },
     "metadata": {},
     "output_type": "display_data"
    },
    {
     "data": {
      "image/png": "[encoded data removed]",
      "text/plain": [
       "<Figure size 800x500 with 1 Axes>"
      ]
     },
     "metadata": {},
     "output_type": "display_data"
    },
    {
     "data": {
      "text/html": [],
      "text/plain": [
       "<IPython.core.display.HTML object>"
      ]
     },
     "metadata": {},
     "output_type": "display_data"
    },
    {
     "data": {
      "image/png": "[encoded data removed]",
      "text/plain": [
       "<Figure size 800x500 with 1 Axes>"
      ]
     },
     "metadata": {},
     "output_type": "display_data"
    }
   ],
   "source": [
    "# Criando a figura e os eixos\n",
    "fig, axes = plt.subplots(nrows=1, ncols=3, figsize=(18, 6))\n",
    "\n",
    "# Plotando as features importantes lado a lado\n",
    "plot_model(tuned_gbr, plot='feature', plot_kwargs={'ax': axes[0]})\n",
    "axes[0].set_title('Gradient Boosting Regressor')\n",
    "\n",
    "plot_model(tuned_lightgbm, plot='feature', plot_kwargs={'ax': axes[1]})\n",
    "axes[1].set_title('LightGBM Regressor')\n",
    "\n",
    "plot_model(tuned_rf, plot='feature', plot_kwargs={'ax': axes[2]})\n",
    "axes[2].set_title('Random Forest Regressor');"
   ]
  },
  {
   "cell_type": "markdown",
   "id": "b4754b00",
   "metadata": {},
   "source": [
    "Para o **Gradient Boosting Regressor**, as features mais importantes foram `smoker`, `bmi` e `age`. Para o **'LightGBM Regressor**, `bmi`, `age`e `children`, e por fim apara o **Random Forest Regressor**, `smoker`, `age` e `bmi`."
   ]
  },
  {
   "cell_type": "markdown",
   "id": "2d6fb596",
   "metadata": {},
   "source": [
    "### Fazendo Previsões\n",
    "\n",
    "Antes de finalizar o modelo, é recomendável que se faça uma checagem final, fazendo previsões no conjunto de teste e revisando as métricas de avaliação.\n",
    "\n",
    "O objetivo aqui é verificar a diferença de performance entre os resultados da validação cruzada e dos dados novos."
   ]
  },
  {
   "cell_type": "code",
   "execution_count": 362,
   "id": "48726265",
   "metadata": {
    "scrolled": true
   },
   "outputs": [
    {
     "data": {
      "text/html": [
       "<style type=\"text/css\">\n",
       "</style>\n",
       "<table id=\"T_15c40\">\n",
       "  <thead>\n",
       "    <tr>\n",
       "      <th class=\"blank level0\" >&nbsp;</th>\n",
       "      <th id=\"T_15c40_level0_col0\" class=\"col_heading level0 col0\" >Model</th>\n",
       "      <th id=\"T_15c40_level0_col1\" class=\"col_heading level0 col1\" >MAE</th>\n",
       "      <th id=\"T_15c40_level0_col2\" class=\"col_heading level0 col2\" >MSE</th>\n",
       "      <th id=\"T_15c40_level0_col3\" class=\"col_heading level0 col3\" >RMSE</th>\n",
       "      <th id=\"T_15c40_level0_col4\" class=\"col_heading level0 col4\" >R2</th>\n",
       "      <th id=\"T_15c40_level0_col5\" class=\"col_heading level0 col5\" >RMSLE</th>\n",
       "      <th id=\"T_15c40_level0_col6\" class=\"col_heading level0 col6\" >MAPE</th>\n",
       "    </tr>\n",
       "  </thead>\n",
       "  <tbody>\n",
       "    <tr>\n",
       "      <th id=\"T_15c40_level0_row0\" class=\"row_heading level0 row0\" >0</th>\n",
       "      <td id=\"T_15c40_row0_col0\" class=\"data row0 col0\" >Gradient Boosting Regressor</td>\n",
       "      <td id=\"T_15c40_row0_col1\" class=\"data row0 col1\" >2559.6281</td>\n",
       "      <td id=\"T_15c40_row0_col2\" class=\"data row0 col2\" >21934240.6631</td>\n",
       "      <td id=\"T_15c40_row0_col3\" class=\"data row0 col3\" >4683.4005</td>\n",
       "      <td id=\"T_15c40_row0_col4\" class=\"data row0 col4\" >0.8550</td>\n",
       "      <td id=\"T_15c40_row0_col5\" class=\"data row0 col5\" >0.3914</td>\n",
       "      <td id=\"T_15c40_row0_col6\" class=\"data row0 col6\" >0.2695</td>\n",
       "    </tr>\n",
       "  </tbody>\n",
       "</table>\n"
      ],
      "text/plain": [
       "<pandas.io.formats.style.Styler at 0x1d56a512ce0>"
      ]
     },
     "metadata": {},
     "output_type": "display_data"
    }
   ],
   "source": [
    "# fazendo previsões\n",
    "predict_model(tuned_gbr);"
   ]
  },
  {
   "cell_type": "markdown",
   "id": "8f5b4aba",
   "metadata": {},
   "source": [
    "Para o **Gradient Boosting Regressor**, o **RMSE** aumentou de 4549.2736 para 4683.4005. Isso indica que o Gradient Boosting Regressor teve uma piora no desempenho após o processo de ajuste de hiperparâmetros, contudo o valor não é significativo."
   ]
  },
  {
   "cell_type": "code",
   "execution_count": 363,
   "id": "04a265b3",
   "metadata": {},
   "outputs": [
    {
     "data": {
      "text/html": [
       "<style type=\"text/css\">\n",
       "</style>\n",
       "<table id=\"T_d8db7\">\n",
       "  <thead>\n",
       "    <tr>\n",
       "      <th class=\"blank level0\" >&nbsp;</th>\n",
       "      <th id=\"T_d8db7_level0_col0\" class=\"col_heading level0 col0\" >Model</th>\n",
       "      <th id=\"T_d8db7_level0_col1\" class=\"col_heading level0 col1\" >MAE</th>\n",
       "      <th id=\"T_d8db7_level0_col2\" class=\"col_heading level0 col2\" >MSE</th>\n",
       "      <th id=\"T_d8db7_level0_col3\" class=\"col_heading level0 col3\" >RMSE</th>\n",
       "      <th id=\"T_d8db7_level0_col4\" class=\"col_heading level0 col4\" >R2</th>\n",
       "      <th id=\"T_d8db7_level0_col5\" class=\"col_heading level0 col5\" >RMSLE</th>\n",
       "      <th id=\"T_d8db7_level0_col6\" class=\"col_heading level0 col6\" >MAPE</th>\n",
       "    </tr>\n",
       "  </thead>\n",
       "  <tbody>\n",
       "    <tr>\n",
       "      <th id=\"T_d8db7_level0_row0\" class=\"row_heading level0 row0\" >0</th>\n",
       "      <td id=\"T_d8db7_row0_col0\" class=\"data row0 col0\" >Light Gradient Boosting Machine</td>\n",
       "      <td id=\"T_d8db7_row0_col1\" class=\"data row0 col1\" >2749.9554</td>\n",
       "      <td id=\"T_d8db7_row0_col2\" class=\"data row0 col2\" >23169416.4290</td>\n",
       "      <td id=\"T_d8db7_row0_col3\" class=\"data row0 col3\" >4813.4620</td>\n",
       "      <td id=\"T_d8db7_row0_col4\" class=\"data row0 col4\" >0.8468</td>\n",
       "      <td id=\"T_d8db7_row0_col5\" class=\"data row0 col5\" >0.4664</td>\n",
       "      <td id=\"T_d8db7_row0_col6\" class=\"data row0 col6\" >0.3078</td>\n",
       "    </tr>\n",
       "  </tbody>\n",
       "</table>\n"
      ],
      "text/plain": [
       "<pandas.io.formats.style.Styler at 0x1d562167640>"
      ]
     },
     "metadata": {},
     "output_type": "display_data"
    }
   ],
   "source": [
    "# fazendo previsões\n",
    "predict_model(tuned_lightgbm);"
   ]
  },
  {
   "cell_type": "markdown",
   "id": "32f48945",
   "metadata": {},
   "source": [
    "Para o **Light Gradient Boosting Machine**, o **RMSE** aumentou de 4742.7859 para 4813.4620. Isso indica que o Light Gradient Boosting Machine teve uma piora no desempenho após o processo de ajuste de hiperparâmetros, contudo não é um valor significativo."
   ]
  },
  {
   "cell_type": "code",
   "execution_count": 364,
   "id": "8ecee250",
   "metadata": {},
   "outputs": [
    {
     "data": {
      "text/html": [
       "<style type=\"text/css\">\n",
       "</style>\n",
       "<table id=\"T_a3f61\">\n",
       "  <thead>\n",
       "    <tr>\n",
       "      <th class=\"blank level0\" >&nbsp;</th>\n",
       "      <th id=\"T_a3f61_level0_col0\" class=\"col_heading level0 col0\" >Model</th>\n",
       "      <th id=\"T_a3f61_level0_col1\" class=\"col_heading level0 col1\" >MAE</th>\n",
       "      <th id=\"T_a3f61_level0_col2\" class=\"col_heading level0 col2\" >MSE</th>\n",
       "      <th id=\"T_a3f61_level0_col3\" class=\"col_heading level0 col3\" >RMSE</th>\n",
       "      <th id=\"T_a3f61_level0_col4\" class=\"col_heading level0 col4\" >R2</th>\n",
       "      <th id=\"T_a3f61_level0_col5\" class=\"col_heading level0 col5\" >RMSLE</th>\n",
       "      <th id=\"T_a3f61_level0_col6\" class=\"col_heading level0 col6\" >MAPE</th>\n",
       "    </tr>\n",
       "  </thead>\n",
       "  <tbody>\n",
       "    <tr>\n",
       "      <th id=\"T_a3f61_level0_row0\" class=\"row_heading level0 row0\" >0</th>\n",
       "      <td id=\"T_a3f61_row0_col0\" class=\"data row0 col0\" >Random Forest Regressor</td>\n",
       "      <td id=\"T_a3f61_row0_col1\" class=\"data row0 col1\" >2717.1725</td>\n",
       "      <td id=\"T_a3f61_row0_col2\" class=\"data row0 col2\" >24899874.3394</td>\n",
       "      <td id=\"T_a3f61_row0_col3\" class=\"data row0 col3\" >4989.9774</td>\n",
       "      <td id=\"T_a3f61_row0_col4\" class=\"data row0 col4\" >0.8354</td>\n",
       "      <td id=\"T_a3f61_row0_col5\" class=\"data row0 col5\" >0.4311</td>\n",
       "      <td id=\"T_a3f61_row0_col6\" class=\"data row0 col6\" >0.2946</td>\n",
       "    </tr>\n",
       "  </tbody>\n",
       "</table>\n"
      ],
      "text/plain": [
       "<pandas.io.formats.style.Styler at 0x1d55a3aa8c0>"
      ]
     },
     "metadata": {},
     "output_type": "display_data"
    }
   ],
   "source": [
    "# fazendo previsões\n",
    "predict_model(tuned_rf);"
   ]
  },
  {
   "cell_type": "markdown",
   "id": "18c88d96",
   "metadata": {},
   "source": [
    "Para o **Random Forest Regressor**, o **RMSE** diminuiu de 4605.5636 para 4989.9774. Isso indica que o Random Forest Regressor teve uma piora no desempenho após o processo de ajuste de hiperparâmetros, contudo não é um valor significativo."
   ]
  },
  {
   "cell_type": "markdown",
   "id": "03b6d964",
   "metadata": {},
   "source": [
    "### Finalizando o Modelo\n",
    "\n",
    "Finalizar o modelo é o último passo do nosso projeto. A função `finalize_model()` dá o fit no modelo, incluindo o conjunto de teste separado dentro do PyCaret anteriormente (30% nesse caso)."
   ]
  },
  {
   "cell_type": "code",
   "execution_count": 365,
   "id": "d5ed10b9",
   "metadata": {},
   "outputs": [],
   "source": [
    "# finalizando o modelo\n",
    "final_gbr = finalize_model(tuned_gbr)\n",
    "\n",
    "final_lightgbm = finalize_model(tuned_lightgbm)\n",
    "\n",
    "final_rf = finalize_model(tuned_rf)"
   ]
  },
  {
   "cell_type": "markdown",
   "id": "a60a1c4e",
   "metadata": {},
   "source": [
    "### Prevendo em Dados Novos\n",
    "\n",
    "A função `predict_model()` também é usada para prever em datasets nunca vistos antes. A única diferença é que para isso passaremos o parâmetro data.\n",
    "\n",
    "Dessa forma, passaremos como data os dados que ainda não foram vistos pelo modelo, separados anteriormente, no começo do projeto.\n",
    "\n",
    "Esse conjunto contém 10% do conjunto de dados original. Essa porção nunca foi exposta ao PyCaret, e é perfeita para simular novos dados reais que serão recebidos pelo modelo em produção."
   ]
  },
  {
   "cell_type": "code",
   "execution_count": 366,
   "id": "399b6cf5",
   "metadata": {},
   "outputs": [
    {
     "data": {
      "text/html": [
       "<style type=\"text/css\">\n",
       "</style>\n",
       "<table id=\"T_d913e\">\n",
       "  <thead>\n",
       "    <tr>\n",
       "      <th class=\"blank level0\" >&nbsp;</th>\n",
       "      <th id=\"T_d913e_level0_col0\" class=\"col_heading level0 col0\" >Model</th>\n",
       "      <th id=\"T_d913e_level0_col1\" class=\"col_heading level0 col1\" >MAE</th>\n",
       "      <th id=\"T_d913e_level0_col2\" class=\"col_heading level0 col2\" >MSE</th>\n",
       "      <th id=\"T_d913e_level0_col3\" class=\"col_heading level0 col3\" >RMSE</th>\n",
       "      <th id=\"T_d913e_level0_col4\" class=\"col_heading level0 col4\" >R2</th>\n",
       "      <th id=\"T_d913e_level0_col5\" class=\"col_heading level0 col5\" >RMSLE</th>\n",
       "      <th id=\"T_d913e_level0_col6\" class=\"col_heading level0 col6\" >MAPE</th>\n",
       "    </tr>\n",
       "  </thead>\n",
       "  <tbody>\n",
       "    <tr>\n",
       "      <th id=\"T_d913e_level0_row0\" class=\"row_heading level0 row0\" >0</th>\n",
       "      <td id=\"T_d913e_row0_col0\" class=\"data row0 col0\" >Gradient Boosting Regressor</td>\n",
       "      <td id=\"T_d913e_row0_col1\" class=\"data row0 col1\" >2890.8208</td>\n",
       "      <td id=\"T_d913e_row0_col2\" class=\"data row0 col2\" >28040614.9363</td>\n",
       "      <td id=\"T_d913e_row0_col3\" class=\"data row0 col3\" >5295.3390</td>\n",
       "      <td id=\"T_d913e_row0_col4\" class=\"data row0 col4\" >0.8059</td>\n",
       "      <td id=\"T_d913e_row0_col5\" class=\"data row0 col5\" >0.4627</td>\n",
       "      <td id=\"T_d913e_row0_col6\" class=\"data row0 col6\" >0.2751</td>\n",
       "    </tr>\n",
       "  </tbody>\n",
       "</table>\n"
      ],
      "text/plain": [
       "<pandas.io.formats.style.Styler at 0x1d56aa7ab60>"
      ]
     },
     "metadata": {},
     "output_type": "display_data"
    }
   ],
   "source": [
    "# previsão em dados não vistos Gradient Boosting Regressor\n",
    "unseen_predictions_gbr = predict_model(final_gbr, data=test)"
   ]
  },
  {
   "cell_type": "code",
   "execution_count": 367,
   "id": "c838cc38",
   "metadata": {},
   "outputs": [
    {
     "data": {
      "text/html": [
       "<div>\n",
       "<style scoped>\n",
       "    .dataframe tbody tr th:only-of-type {\n",
       "        vertical-align: middle;\n",
       "    }\n",
       "\n",
       "    .dataframe tbody tr th {\n",
       "        vertical-align: top;\n",
       "    }\n",
       "\n",
       "    .dataframe thead th {\n",
       "        text-align: right;\n",
       "    }\n",
       "</style>\n",
       "<table border=\"1\" class=\"dataframe\">\n",
       "  <thead>\n",
       "    <tr style=\"text-align: right;\">\n",
       "      <th></th>\n",
       "      <th>age</th>\n",
       "      <th>sex</th>\n",
       "      <th>bmi</th>\n",
       "      <th>children</th>\n",
       "      <th>smoker</th>\n",
       "      <th>region</th>\n",
       "      <th>bmi_category</th>\n",
       "      <th>charges</th>\n",
       "      <th>prediction_label</th>\n",
       "    </tr>\n",
       "  </thead>\n",
       "  <tbody>\n",
       "    <tr>\n",
       "      <th>0</th>\n",
       "      <td>33</td>\n",
       "      <td>1</td>\n",
       "      <td>24.605000</td>\n",
       "      <td>2</td>\n",
       "      <td>0</td>\n",
       "      <td>1</td>\n",
       "      <td>1</td>\n",
       "      <td>5257.507812</td>\n",
       "      <td>7090.429677</td>\n",
       "    </tr>\n",
       "    <tr>\n",
       "      <th>1</th>\n",
       "      <td>18</td>\n",
       "      <td>0</td>\n",
       "      <td>33.154999</td>\n",
       "      <td>0</td>\n",
       "      <td>0</td>\n",
       "      <td>0</td>\n",
       "      <td>3</td>\n",
       "      <td>2207.697510</td>\n",
       "      <td>4723.339199</td>\n",
       "    </tr>\n",
       "    <tr>\n",
       "      <th>2</th>\n",
       "      <td>40</td>\n",
       "      <td>1</td>\n",
       "      <td>19.799999</td>\n",
       "      <td>1</td>\n",
       "      <td>1</td>\n",
       "      <td>2</td>\n",
       "      <td>1</td>\n",
       "      <td>17179.521484</td>\n",
       "      <td>20036.269653</td>\n",
       "    </tr>\n",
       "    <tr>\n",
       "      <th>3</th>\n",
       "      <td>32</td>\n",
       "      <td>0</td>\n",
       "      <td>29.799999</td>\n",
       "      <td>2</td>\n",
       "      <td>0</td>\n",
       "      <td>3</td>\n",
       "      <td>2</td>\n",
       "      <td>5152.133789</td>\n",
       "      <td>6694.353449</td>\n",
       "    </tr>\n",
       "    <tr>\n",
       "      <th>4</th>\n",
       "      <td>54</td>\n",
       "      <td>1</td>\n",
       "      <td>30.020000</td>\n",
       "      <td>0</td>\n",
       "      <td>0</td>\n",
       "      <td>1</td>\n",
       "      <td>3</td>\n",
       "      <td>24476.478516</td>\n",
       "      <td>11461.200386</td>\n",
       "    </tr>\n",
       "  </tbody>\n",
       "</table>\n",
       "</div>"
      ],
      "text/plain": [
       "   age  sex        bmi  children  smoker  region  bmi_category       charges  \\\n",
       "0   33    1  24.605000         2       0       1             1   5257.507812   \n",
       "1   18    0  33.154999         0       0       0             3   2207.697510   \n",
       "2   40    1  19.799999         1       1       2             1  17179.521484   \n",
       "3   32    0  29.799999         2       0       3             2   5152.133789   \n",
       "4   54    1  30.020000         0       0       1             3  24476.478516   \n",
       "\n",
       "   prediction_label  \n",
       "0       7090.429677  \n",
       "1       4723.339199  \n",
       "2      20036.269653  \n",
       "3       6694.353449  \n",
       "4      11461.200386  "
      ]
     },
     "execution_count": 367,
     "metadata": {},
     "output_type": "execute_result"
    }
   ],
   "source": [
    "unseen_predictions_gbr.head()"
   ]
  },
  {
   "cell_type": "code",
   "execution_count": 368,
   "id": "9c119575",
   "metadata": {},
   "outputs": [
    {
     "data": {
      "text/html": [
       "<style type=\"text/css\">\n",
       "</style>\n",
       "<table id=\"T_c6fb2\">\n",
       "  <thead>\n",
       "    <tr>\n",
       "      <th class=\"blank level0\" >&nbsp;</th>\n",
       "      <th id=\"T_c6fb2_level0_col0\" class=\"col_heading level0 col0\" >Model</th>\n",
       "      <th id=\"T_c6fb2_level0_col1\" class=\"col_heading level0 col1\" >MAE</th>\n",
       "      <th id=\"T_c6fb2_level0_col2\" class=\"col_heading level0 col2\" >MSE</th>\n",
       "      <th id=\"T_c6fb2_level0_col3\" class=\"col_heading level0 col3\" >RMSE</th>\n",
       "      <th id=\"T_c6fb2_level0_col4\" class=\"col_heading level0 col4\" >R2</th>\n",
       "      <th id=\"T_c6fb2_level0_col5\" class=\"col_heading level0 col5\" >RMSLE</th>\n",
       "      <th id=\"T_c6fb2_level0_col6\" class=\"col_heading level0 col6\" >MAPE</th>\n",
       "    </tr>\n",
       "  </thead>\n",
       "  <tbody>\n",
       "    <tr>\n",
       "      <th id=\"T_c6fb2_level0_row0\" class=\"row_heading level0 row0\" >0</th>\n",
       "      <td id=\"T_c6fb2_row0_col0\" class=\"data row0 col0\" >Light Gradient Boosting Machine</td>\n",
       "      <td id=\"T_c6fb2_row0_col1\" class=\"data row0 col1\" >3412.0550</td>\n",
       "      <td id=\"T_c6fb2_row0_col2\" class=\"data row0 col2\" >33908106.8243</td>\n",
       "      <td id=\"T_c6fb2_row0_col3\" class=\"data row0 col3\" >5823.0668</td>\n",
       "      <td id=\"T_c6fb2_row0_col4\" class=\"data row0 col4\" >0.7653</td>\n",
       "      <td id=\"T_c6fb2_row0_col5\" class=\"data row0 col5\" >0.6179</td>\n",
       "      <td id=\"T_c6fb2_row0_col6\" class=\"data row0 col6\" >0.3588</td>\n",
       "    </tr>\n",
       "  </tbody>\n",
       "</table>\n"
      ],
      "text/plain": [
       "<pandas.io.formats.style.Styler at 0x1d56f24ac80>"
      ]
     },
     "metadata": {},
     "output_type": "display_data"
    }
   ],
   "source": [
    "# previsão em dados não vistos Light Gradient Boosting Machine\n",
    "unseen_predictions_lightgbm = predict_model(final_lightgbm, data=test)"
   ]
  },
  {
   "cell_type": "code",
   "execution_count": 369,
   "id": "a2c42770",
   "metadata": {},
   "outputs": [
    {
     "data": {
      "text/html": [
       "<div>\n",
       "<style scoped>\n",
       "    .dataframe tbody tr th:only-of-type {\n",
       "        vertical-align: middle;\n",
       "    }\n",
       "\n",
       "    .dataframe tbody tr th {\n",
       "        vertical-align: top;\n",
       "    }\n",
       "\n",
       "    .dataframe thead th {\n",
       "        text-align: right;\n",
       "    }\n",
       "</style>\n",
       "<table border=\"1\" class=\"dataframe\">\n",
       "  <thead>\n",
       "    <tr style=\"text-align: right;\">\n",
       "      <th></th>\n",
       "      <th>age</th>\n",
       "      <th>sex</th>\n",
       "      <th>bmi</th>\n",
       "      <th>children</th>\n",
       "      <th>smoker</th>\n",
       "      <th>region</th>\n",
       "      <th>bmi_category</th>\n",
       "      <th>charges</th>\n",
       "      <th>prediction_label</th>\n",
       "    </tr>\n",
       "  </thead>\n",
       "  <tbody>\n",
       "    <tr>\n",
       "      <th>0</th>\n",
       "      <td>33</td>\n",
       "      <td>1</td>\n",
       "      <td>24.605000</td>\n",
       "      <td>2</td>\n",
       "      <td>0</td>\n",
       "      <td>1</td>\n",
       "      <td>1</td>\n",
       "      <td>5257.507812</td>\n",
       "      <td>9144.374163</td>\n",
       "    </tr>\n",
       "    <tr>\n",
       "      <th>1</th>\n",
       "      <td>18</td>\n",
       "      <td>0</td>\n",
       "      <td>33.154999</td>\n",
       "      <td>0</td>\n",
       "      <td>0</td>\n",
       "      <td>0</td>\n",
       "      <td>3</td>\n",
       "      <td>2207.697510</td>\n",
       "      <td>5262.100008</td>\n",
       "    </tr>\n",
       "    <tr>\n",
       "      <th>2</th>\n",
       "      <td>40</td>\n",
       "      <td>1</td>\n",
       "      <td>19.799999</td>\n",
       "      <td>1</td>\n",
       "      <td>1</td>\n",
       "      <td>2</td>\n",
       "      <td>1</td>\n",
       "      <td>17179.521484</td>\n",
       "      <td>20316.813929</td>\n",
       "    </tr>\n",
       "    <tr>\n",
       "      <th>3</th>\n",
       "      <td>32</td>\n",
       "      <td>0</td>\n",
       "      <td>29.799999</td>\n",
       "      <td>2</td>\n",
       "      <td>0</td>\n",
       "      <td>3</td>\n",
       "      <td>2</td>\n",
       "      <td>5152.133789</td>\n",
       "      <td>10700.688459</td>\n",
       "    </tr>\n",
       "    <tr>\n",
       "      <th>4</th>\n",
       "      <td>54</td>\n",
       "      <td>1</td>\n",
       "      <td>30.020000</td>\n",
       "      <td>0</td>\n",
       "      <td>0</td>\n",
       "      <td>1</td>\n",
       "      <td>3</td>\n",
       "      <td>24476.478516</td>\n",
       "      <td>10675.231276</td>\n",
       "    </tr>\n",
       "  </tbody>\n",
       "</table>\n",
       "</div>"
      ],
      "text/plain": [
       "   age  sex        bmi  children  smoker  region  bmi_category       charges  \\\n",
       "0   33    1  24.605000         2       0       1             1   5257.507812   \n",
       "1   18    0  33.154999         0       0       0             3   2207.697510   \n",
       "2   40    1  19.799999         1       1       2             1  17179.521484   \n",
       "3   32    0  29.799999         2       0       3             2   5152.133789   \n",
       "4   54    1  30.020000         0       0       1             3  24476.478516   \n",
       "\n",
       "   prediction_label  \n",
       "0       9144.374163  \n",
       "1       5262.100008  \n",
       "2      20316.813929  \n",
       "3      10700.688459  \n",
       "4      10675.231276  "
      ]
     },
     "execution_count": 369,
     "metadata": {},
     "output_type": "execute_result"
    }
   ],
   "source": [
    "unseen_predictions_lightgbm.head()"
   ]
  },
  {
   "cell_type": "code",
   "execution_count": 370,
   "id": "f7d053fb",
   "metadata": {},
   "outputs": [
    {
     "data": {
      "text/html": [
       "<style type=\"text/css\">\n",
       "</style>\n",
       "<table id=\"T_46444\">\n",
       "  <thead>\n",
       "    <tr>\n",
       "      <th class=\"blank level0\" >&nbsp;</th>\n",
       "      <th id=\"T_46444_level0_col0\" class=\"col_heading level0 col0\" >Model</th>\n",
       "      <th id=\"T_46444_level0_col1\" class=\"col_heading level0 col1\" >MAE</th>\n",
       "      <th id=\"T_46444_level0_col2\" class=\"col_heading level0 col2\" >MSE</th>\n",
       "      <th id=\"T_46444_level0_col3\" class=\"col_heading level0 col3\" >RMSE</th>\n",
       "      <th id=\"T_46444_level0_col4\" class=\"col_heading level0 col4\" >R2</th>\n",
       "      <th id=\"T_46444_level0_col5\" class=\"col_heading level0 col5\" >RMSLE</th>\n",
       "      <th id=\"T_46444_level0_col6\" class=\"col_heading level0 col6\" >MAPE</th>\n",
       "    </tr>\n",
       "  </thead>\n",
       "  <tbody>\n",
       "    <tr>\n",
       "      <th id=\"T_46444_level0_row0\" class=\"row_heading level0 row0\" >0</th>\n",
       "      <td id=\"T_46444_row0_col0\" class=\"data row0 col0\" >Random Forest Regressor</td>\n",
       "      <td id=\"T_46444_row0_col1\" class=\"data row0 col1\" >3217.7631</td>\n",
       "      <td id=\"T_46444_row0_col2\" class=\"data row0 col2\" >34882726.1515</td>\n",
       "      <td id=\"T_46444_row0_col3\" class=\"data row0 col3\" >5906.1600</td>\n",
       "      <td id=\"T_46444_row0_col4\" class=\"data row0 col4\" >0.7586</td>\n",
       "      <td id=\"T_46444_row0_col5\" class=\"data row0 col5\" >0.5218</td>\n",
       "      <td id=\"T_46444_row0_col6\" class=\"data row0 col6\" >0.2859</td>\n",
       "    </tr>\n",
       "  </tbody>\n",
       "</table>\n"
      ],
      "text/plain": [
       "<pandas.io.formats.style.Styler at 0x1d5625b67a0>"
      ]
     },
     "metadata": {},
     "output_type": "display_data"
    }
   ],
   "source": [
    "# previsão em dados não vistos Random Forest Regressor\n",
    "unseen_predictions_rf = predict_model(final_rf, data=test)"
   ]
  },
  {
   "cell_type": "code",
   "execution_count": 353,
   "id": "2eafcdae",
   "metadata": {
    "scrolled": false
   },
   "outputs": [
    {
     "data": {
      "text/html": [
       "<div>\n",
       "<style scoped>\n",
       "    .dataframe tbody tr th:only-of-type {\n",
       "        vertical-align: middle;\n",
       "    }\n",
       "\n",
       "    .dataframe tbody tr th {\n",
       "        vertical-align: top;\n",
       "    }\n",
       "\n",
       "    .dataframe thead th {\n",
       "        text-align: right;\n",
       "    }\n",
       "</style>\n",
       "<table border=\"1\" class=\"dataframe\">\n",
       "  <thead>\n",
       "    <tr style=\"text-align: right;\">\n",
       "      <th></th>\n",
       "      <th>age</th>\n",
       "      <th>sex</th>\n",
       "      <th>bmi</th>\n",
       "      <th>children</th>\n",
       "      <th>smoker</th>\n",
       "      <th>region</th>\n",
       "      <th>bmi_category</th>\n",
       "      <th>charges</th>\n",
       "      <th>prediction_label</th>\n",
       "    </tr>\n",
       "  </thead>\n",
       "  <tbody>\n",
       "    <tr>\n",
       "      <th>0</th>\n",
       "      <td>33</td>\n",
       "      <td>1</td>\n",
       "      <td>24.605000</td>\n",
       "      <td>2</td>\n",
       "      <td>0</td>\n",
       "      <td>1</td>\n",
       "      <td>1</td>\n",
       "      <td>5257.507812</td>\n",
       "      <td>7997.671560</td>\n",
       "    </tr>\n",
       "    <tr>\n",
       "      <th>1</th>\n",
       "      <td>18</td>\n",
       "      <td>0</td>\n",
       "      <td>33.154999</td>\n",
       "      <td>0</td>\n",
       "      <td>0</td>\n",
       "      <td>0</td>\n",
       "      <td>3</td>\n",
       "      <td>2207.697510</td>\n",
       "      <td>6587.237386</td>\n",
       "    </tr>\n",
       "    <tr>\n",
       "      <th>2</th>\n",
       "      <td>40</td>\n",
       "      <td>1</td>\n",
       "      <td>19.799999</td>\n",
       "      <td>1</td>\n",
       "      <td>1</td>\n",
       "      <td>2</td>\n",
       "      <td>1</td>\n",
       "      <td>17179.521484</td>\n",
       "      <td>18382.450352</td>\n",
       "    </tr>\n",
       "    <tr>\n",
       "      <th>3</th>\n",
       "      <td>32</td>\n",
       "      <td>0</td>\n",
       "      <td>29.799999</td>\n",
       "      <td>2</td>\n",
       "      <td>0</td>\n",
       "      <td>3</td>\n",
       "      <td>2</td>\n",
       "      <td>5152.133789</td>\n",
       "      <td>7080.689329</td>\n",
       "    </tr>\n",
       "    <tr>\n",
       "      <th>4</th>\n",
       "      <td>54</td>\n",
       "      <td>1</td>\n",
       "      <td>30.020000</td>\n",
       "      <td>0</td>\n",
       "      <td>0</td>\n",
       "      <td>1</td>\n",
       "      <td>3</td>\n",
       "      <td>24476.478516</td>\n",
       "      <td>10245.209297</td>\n",
       "    </tr>\n",
       "  </tbody>\n",
       "</table>\n",
       "</div>"
      ],
      "text/plain": [
       "   age  sex        bmi  children  smoker  region  bmi_category       charges  \\\n",
       "0   33    1  24.605000         2       0       1             1   5257.507812   \n",
       "1   18    0  33.154999         0       0       0             3   2207.697510   \n",
       "2   40    1  19.799999         1       1       2             1  17179.521484   \n",
       "3   32    0  29.799999         2       0       3             2   5152.133789   \n",
       "4   54    1  30.020000         0       0       1             3  24476.478516   \n",
       "\n",
       "   prediction_label  \n",
       "0       7997.671560  \n",
       "1       6587.237386  \n",
       "2      18382.450352  \n",
       "3       7080.689329  \n",
       "4      10245.209297  "
      ]
     },
     "execution_count": 353,
     "metadata": {},
     "output_type": "execute_result"
    }
   ],
   "source": [
    "unseen_predictions_rf.head()"
   ]
  },
  {
   "cell_type": "markdown",
   "id": "54b0154c",
   "metadata": {},
   "source": [
    "O desempenho de teste do modelo parece ser **ligeiramente pior do que o desempenho de treinamento**, pois o MAE, MSE, RMSE e RMSLE são maiores nos dados de teste em todos os algoritmos. No entanto, os modelos ainda explicam uma quantidade considerável de variação nos dados de teste, com um R2 satisfatório. \n",
    "\n",
    "O MAPE do Gradient Boosting de 0,2751 sugere que as previsões do modelo estão erradas em 27,51% do valor real nos dados de teste. Esses valores são 35.88% e 28.59% para o Light Gradient Boost Machine e Random Forest Regressor, respectivamente.\n",
    "De modo geral, o **Gradient Boosting Regressor**, foi o modelo com as melhores métricas para dados não vistos, apresentando uma boa capacidade de generalização."
   ]
  },
  {
   "cell_type": "markdown",
   "id": "98487bed",
   "metadata": {},
   "source": [
    "### Conclusão"
   ]
  },
  {
   "cell_type": "markdown",
   "id": "b4e253a7",
   "metadata": {},
   "source": []
  }
 ],
 "metadata": {
  "kernelspec": {
   "display_name": "Python 3 (ipykernel)",
   "language": "python",
   "name": "python3"
  },
  "language_info": {
   "codemirror_mode": {
    "name": "ipython",
    "version": 3
   },
   "file_extension": ".py",
   "mimetype": "text/x-python",
   "name": "python",
   "nbconvert_exporter": "python",
   "pygments_lexer": "ipython3",
   "version": "3.10.11"
  }
 },
 "nbformat": 4,
 "nbformat_minor": 5
}
