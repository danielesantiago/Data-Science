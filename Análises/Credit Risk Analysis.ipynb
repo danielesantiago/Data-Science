{
 "cells": [
  {
   "cell_type": "markdown",
   "id": "eb2e0315",
   "metadata": {},
   "source": [
    "# Credit Risk Analysis\n",
    "\n",
    "O **risco de crédito** é um dos maiores desafios enfrentados pelas instituições financeiras, pois o descumprimento das condições de pagamento pode levar a **perdas financeiras significativas**. A capacidade de avaliar se um usuário é capaz de cumprir suas obrigações financeiras é fundamental para o sucesso das instituições financeiras e, como resultado, soluções cada vez mais avançadas vêm sendo desenvolvidas para minimizar o risco de inadimplência.\n",
    "\n",
    "Um termo comum usado para descrever a inadimplência é *default*, que se refere à incapacidade do mutuário de cumprir suas obrigações financeiras. Normalmente, o não pagamento é devido à incapacidade financeira do cliente, que pode ser causada por uma variedade de fatores, incluindo perda de emprego, doença ou eventos imprevistos.\n",
    "\n",
    "\n",
    "<p align=center>\n",
    "  <img src=\"https://img.freepik.com/free-photo/risk-gamble-opportunity-swot-weakness-unsure-concept_53876-122989.jpg?w=996&t=st=1683329456~exp=1683330056~hmac=d405c3779980dea9df9b0a2fff0fe7e94f58f5a8a185690dcc2dd79ff1502ef2\" width=\"70%\">\n",
    "</p>\n",
    " \n",
    "Grandes bancos e *Fintechs* estão investindo cada vez mais em modelos de Machine Learning para prevenir a inadimplência de alguns clientes. Esses modelos usam dados de histórico de pagamento, pontuação de crédito, renda e outras informações para avaliar o risco de inadimplência de um cliente e tomar decisões informadas sobre empréstimos e investimentos.\n",
    "\n",
    "Nesse contexto, o **objetivo** deste projeto é utilizar os dados da instituição financeira *Nubank* para realizar uma análise de dados e desenvolver um modelo eficaz que possa prever com precisão se um cliente será ou não inadimplente. Esse modelo pode ajudar a instituição financeira a **tomar decisões mais informadas** e reduzir o **risco de perdas financeiras decorrentes da inadimplência**."
   ]
  },
  {
   "cell_type": "markdown",
   "id": "9053ce58",
   "metadata": {},
   "source": [
    "## Aquisição dos Dados\n",
    "\n",
    "O conjunto de dados a ser utilizado neste Projeto de Data Science parte de uma competição realizada pela **Startup Nubank** a fim de revelar talentos e potenciais contratações pela *Fintech*. Os dados que serão utilizados nesta análise estão disponíveis para download por meio [deste link](http://dl.dropboxusercontent.com/s/xn2a4kzf0zer0xu/acquisition_train.csv?dl=0). \n",
    "\n",
    "Apesar de não haver informações explícitas disponíves, os nomes das colunas permitem um entendimento a respeito do problema."
   ]
  },
  {
   "cell_type": "code",
   "execution_count": 210,
   "id": "06102864",
   "metadata": {},
   "outputs": [],
   "source": [
    "# Importação de bibliotecas básicas\n",
    "import pandas as pd\n",
    "import numpy as np\n",
    "import matplotlib.pyplot as plt\n",
    "import seaborn as sns\n",
    "import warnings\n",
    "warnings.filterwarnings('ignore')\n",
    "pd.options.display.float_format = '{:.0f}'.format\n",
    "\n",
    "from sklearn.preprocessing import LabelEncoder, StandardScaler"
   ]
  },
  {
   "cell_type": "code",
   "execution_count": 211,
   "id": "abf4a644",
   "metadata": {},
   "outputs": [],
   "source": [
    "# importar os dados\n",
    "DATA_PATH = \"http://dl.dropboxusercontent.com/s/xn2a4kzf0zer0xu/acquisition_train.csv?dl=0\"\n",
    "df = pd.read_csv(DATA_PATH)"
   ]
  },
  {
   "cell_type": "markdown",
   "id": "3781734e",
   "metadata": {},
   "source": [
    "## Análise dos Dados\n",
    "\n",
    "Esta etapa tem por objetivo permitir um entendimento de como os dados estão estruturados.\n",
    "\n",
    "**Dicionário das variáveis**\n",
    "\n",
    "* `ids`: ID único do candidato.\n",
    "* `target_default`: variável alvo indicando se o candidato é um bom pagador (0) ou se ele entrou em inadimplência (1).\n",
    "* `score_1 a score_6`: valores de pontuação de diferentes fontes.\n",
    "* `risk_rate`: taxa de risco do candidato.\n",
    "* `last_amount_borrowed`: valor do último empréstimo solicitado.\n",
    "* `last_borrowed_in_months`: número de meses desde que o último empréstimo foi solicitado.\n",
    "* `credit_limit`: limite de crédito do candidato.\n",
    "* `reason`: razão para solicitação do empréstimo.\n",
    "* `income`: renda declarada pelo candidato.\n",
    "* `facebook_profile`: indica se o candidato tem um perfil no Facebook associado à sua conta.\n",
    "* `state`: estado em que o candidato reside.\n",
    "* `zip`: código postal do candidato.\n",
    "* `channel`: canal pelo qual o candidato se inscreveu.\n",
    "* `job_name`: nome da profissão do candidato.\n",
    "* `real_state`: status do imóvel do candidato.\n",
    "* `ok_since`: número de meses desde que o candidato forneceu uma resposta satisfatória.\n",
    "* `n_bankruptcies`: número de falências anteriores do candidato.\n",
    "* `n_defaulted_loans`: número de empréstimos inadimplentes do candidato.\n",
    "* `n_accounts`: número de contas abertas pelo candidato.\n",
    "* `n_issues`: número de problemas relatados pelo candidato.\n",
    "* `application_time_applied`: hora em que o candidato fez a inscrição.\n",
    "* `application_time_in_funnel`: tempo que o candidato passou no funil de inscrição.\n",
    "* `email`: endereço de e-mail do candidato.\n",
    "* `external_data_provider_credit_checks_last_2_year`: número de verificações de crédito nos últimos dois anos.\n",
    "* `external_data_provider_credit_checks_last_month`: número de verificações de crédito no último mês.\n",
    "* `external_data_provider_credit_checks_last_year`: número de verificações de crédito no último ano.\n",
    "* `external_data_provider_email_seen_before`: indica se o endereço de e-mail do candidato já foi visto antes.\n",
    "* `external_data_provider_first_name`: primeiro nome do candidato em uma fonte externa.\n",
    "* `external_data_provider_fraud_score`: pontuação de fraude do candidato em uma fonte externa.\n",
    "* `lat_lon`: coordenadas geográficas do candidato.\n",
    "* `marketing_channel`: canal de marketing pelo qual o candidato foi adquirido.\n",
    "* `profile_phone_number`: número de telefone do candidato.\n",
    "* `reported_income`: renda relatada pelo candidato.\n",
    "* `shipping_state`: estado para o qual o produto será enviado.\n",
    "* `shipping_zip_code`: código postal para o qual o produto será enviado.\n",
    "* `profile_tags`: tags associadas ao perfil do candidato.\n",
    "* `user_agent`: informações sobre o navegador e o dispositivo do candidato.\n",
    "* `target_fraud`: variável alvo indicando se o candidato é fraudulento (1) ou não (0)."
   ]
  },
  {
   "cell_type": "markdown",
   "id": "fdbfc3cb",
   "metadata": {},
   "source": [
    "## Análise Exploratória dos Dados\n",
    "\n",
    "Na análise exploratória de dados será efetuada uma explanação inicial das variáveis contidas na dataset, e entenderemos dados referentes a:\n",
    "\n",
    "* *Contexto geral das variáveis*\n",
    "* *Porcentagem de itens nulos*\n",
    "* *Balanceamento do dataset*\n",
    "* *Cancelamento em relação ao gênero*\n",
    "* *Cancelamento em relação ao valor pago mensalmente*\n",
    "* *Boxplot para variáveis numéricas*\n"
   ]
  },
  {
   "cell_type": "markdown",
   "id": "18955162",
   "metadata": {},
   "source": [
    "Primeiramente, observaremos como estão dispostas as cinco primeiras entradas do dataset para ter uma visão ampla da estrutura de dados."
   ]
  },
  {
   "cell_type": "code",
   "execution_count": 212,
   "id": "0a237298",
   "metadata": {
    "scrolled": false
   },
   "outputs": [
    {
     "data": {
      "text/html": [
       "<div>\n",
       "<style scoped>\n",
       "    .dataframe tbody tr th:only-of-type {\n",
       "        vertical-align: middle;\n",
       "    }\n",
       "\n",
       "    .dataframe tbody tr th {\n",
       "        vertical-align: top;\n",
       "    }\n",
       "\n",
       "    .dataframe thead th {\n",
       "        text-align: right;\n",
       "    }\n",
       "</style>\n",
       "<table border=\"1\" class=\"dataframe\">\n",
       "  <thead>\n",
       "    <tr style=\"text-align: right;\">\n",
       "      <th></th>\n",
       "      <th>ids</th>\n",
       "      <th>target_default</th>\n",
       "      <th>score_1</th>\n",
       "      <th>score_2</th>\n",
       "      <th>score_3</th>\n",
       "      <th>score_4</th>\n",
       "      <th>score_5</th>\n",
       "      <th>score_6</th>\n",
       "      <th>risk_rate</th>\n",
       "      <th>last_amount_borrowed</th>\n",
       "      <th>last_borrowed_in_months</th>\n",
       "      <th>credit_limit</th>\n",
       "      <th>reason</th>\n",
       "      <th>income</th>\n",
       "      <th>facebook_profile</th>\n",
       "      <th>state</th>\n",
       "      <th>zip</th>\n",
       "      <th>channel</th>\n",
       "      <th>job_name</th>\n",
       "      <th>real_state</th>\n",
       "      <th>ok_since</th>\n",
       "      <th>n_bankruptcies</th>\n",
       "      <th>n_defaulted_loans</th>\n",
       "      <th>n_accounts</th>\n",
       "      <th>n_issues</th>\n",
       "      <th>application_time_applied</th>\n",
       "      <th>application_time_in_funnel</th>\n",
       "      <th>email</th>\n",
       "      <th>external_data_provider_credit_checks_last_2_year</th>\n",
       "      <th>external_data_provider_credit_checks_last_month</th>\n",
       "      <th>external_data_provider_credit_checks_last_year</th>\n",
       "      <th>external_data_provider_email_seen_before</th>\n",
       "      <th>external_data_provider_first_name</th>\n",
       "      <th>external_data_provider_fraud_score</th>\n",
       "      <th>lat_lon</th>\n",
       "      <th>marketing_channel</th>\n",
       "      <th>profile_phone_number</th>\n",
       "      <th>reported_income</th>\n",
       "      <th>shipping_state</th>\n",
       "      <th>shipping_zip_code</th>\n",
       "      <th>profile_tags</th>\n",
       "      <th>user_agent</th>\n",
       "      <th>target_fraud</th>\n",
       "    </tr>\n",
       "  </thead>\n",
       "  <tbody>\n",
       "    <tr>\n",
       "      <th>0</th>\n",
       "      <td>343b7e7b-2cf8-e508-b8fd-0a0285af30aa</td>\n",
       "      <td>False</td>\n",
       "      <td>1Rk8w4Ucd5yR3KcqZzLdow==</td>\n",
       "      <td>IOVu8au3ISbo6+zmfnYwMg==</td>\n",
       "      <td>350</td>\n",
       "      <td>102</td>\n",
       "      <td>0</td>\n",
       "      <td>108</td>\n",
       "      <td>0</td>\n",
       "      <td>25034</td>\n",
       "      <td>36</td>\n",
       "      <td>0</td>\n",
       "      <td>mLVIVxoGY7TUDJ1FyFoSIZi1SFcaBmO01AydRchaEiGYtU...</td>\n",
       "      <td>65014</td>\n",
       "      <td>True</td>\n",
       "      <td>sjJbkqJS7cXalHLBFA+EOQ==</td>\n",
       "      <td>Ernn+uVXCMq/6ARrBCcd+A==</td>\n",
       "      <td>NCqL3QBx0pscDnx3ixKwXg==</td>\n",
       "      <td>mLVIVxoGY7TUDJ1FyFoSIZi1SFcaBmO01AydRchaEiGYtU...</td>\n",
       "      <td>N5/CE7lSkAfB04hVFFwllw==</td>\n",
       "      <td>NaN</td>\n",
       "      <td>0</td>\n",
       "      <td>0</td>\n",
       "      <td>18</td>\n",
       "      <td>18</td>\n",
       "      <td>07:52:34</td>\n",
       "      <td>444</td>\n",
       "      <td>outlook.com</td>\n",
       "      <td>NaN</td>\n",
       "      <td>2</td>\n",
       "      <td>0</td>\n",
       "      <td>51</td>\n",
       "      <td>leidelaura</td>\n",
       "      <td>645</td>\n",
       "      <td>(-29.151545708122246, -51.1386461804385)</td>\n",
       "      <td>Invite-email</td>\n",
       "      <td>514-9840782</td>\n",
       "      <td>57849</td>\n",
       "      <td>BR-MT</td>\n",
       "      <td>17528</td>\n",
       "      <td>{'tags': ['n19', 'n8']}</td>\n",
       "      <td>Mozilla/5.0 (Linux; Android 6.0.1; SGP771 Buil...</td>\n",
       "      <td>NaN</td>\n",
       "    </tr>\n",
       "    <tr>\n",
       "      <th>1</th>\n",
       "      <td>bc2c7502-bbad-0f8c-39c3-94e881967124</td>\n",
       "      <td>False</td>\n",
       "      <td>DGCQep2AE5QRkNCshIAlFQ==</td>\n",
       "      <td>SaamrHMo23l/3TwXOWgVzw==</td>\n",
       "      <td>370</td>\n",
       "      <td>97</td>\n",
       "      <td>1</td>\n",
       "      <td>92</td>\n",
       "      <td>0</td>\n",
       "      <td>NaN</td>\n",
       "      <td>NaN</td>\n",
       "      <td>39726</td>\n",
       "      <td>mLVIVxoGY7TUDJ1FyFoSIZi1SFcaBmO01AydRchaEiGYtU...</td>\n",
       "      <td>100019</td>\n",
       "      <td>False</td>\n",
       "      <td>xsd3ZdsI3356I3xMxZeiqQ==</td>\n",
       "      <td>rlWIXTBO+VOa34+SpGyhlQ==</td>\n",
       "      <td>NCqL3QBx0pscDnx3ixKwXg==</td>\n",
       "      <td>mLVIVxoGY7TUDJ1FyFoSIZi1SFcaBmO01AydRchaEiGYtU...</td>\n",
       "      <td>N5/CE7lSkAfB04hVFFwllw==</td>\n",
       "      <td>50</td>\n",
       "      <td>0</td>\n",
       "      <td>0</td>\n",
       "      <td>14</td>\n",
       "      <td>14</td>\n",
       "      <td>02:34:29</td>\n",
       "      <td>346</td>\n",
       "      <td>gmail.com</td>\n",
       "      <td>0</td>\n",
       "      <td>1</td>\n",
       "      <td>0</td>\n",
       "      <td>17</td>\n",
       "      <td>diocezio</td>\n",
       "      <td>243</td>\n",
       "      <td>(-19.687710705798963, -47.94151536525154)</td>\n",
       "      <td>Radio-commercial</td>\n",
       "      <td>251-3659293</td>\n",
       "      <td>4902</td>\n",
       "      <td>BR-RS</td>\n",
       "      <td>40933</td>\n",
       "      <td>{'tags': ['n6', 'n7', 'nim']}</td>\n",
       "      <td>Mozilla/5.0 (Linux; Android 5.0.2; SAMSUNG SM-...</td>\n",
       "      <td>NaN</td>\n",
       "    </tr>\n",
       "    <tr>\n",
       "      <th>2</th>\n",
       "      <td>669630dd-2e6a-0396-84bf-455e5009c922</td>\n",
       "      <td>True</td>\n",
       "      <td>DGCQep2AE5QRkNCshIAlFQ==</td>\n",
       "      <td>Fv28Bz0YRTVAT5kl1bAV6g==</td>\n",
       "      <td>360</td>\n",
       "      <td>100</td>\n",
       "      <td>0</td>\n",
       "      <td>113</td>\n",
       "      <td>0</td>\n",
       "      <td>7208</td>\n",
       "      <td>36</td>\n",
       "      <td>NaN</td>\n",
       "      <td>mLVIVxoGY7TUDJ1FyFoSIZi1SFcaBmO01AydRchaEiGYtU...</td>\n",
       "      <td>65024</td>\n",
       "      <td>NaN</td>\n",
       "      <td>Ygq6MsM98oC8yceExr69Ig==</td>\n",
       "      <td>PjTIDfJsK0DKL9fO7vuW2g==</td>\n",
       "      <td>NCqL3QBx0pscDnx3ixKwXg==</td>\n",
       "      <td>mLVIVxoGY7TUDJ1FyFoSIZi1SFcaBmO01AydRchaEiGYtU...</td>\n",
       "      <td>n+xK9CfX0bCn77lClTWviw==</td>\n",
       "      <td>NaN</td>\n",
       "      <td>0</td>\n",
       "      <td>0</td>\n",
       "      <td>10</td>\n",
       "      <td>NaN</td>\n",
       "      <td>00:60:02</td>\n",
       "      <td>6</td>\n",
       "      <td>gmail.com</td>\n",
       "      <td>NaN</td>\n",
       "      <td>2</td>\n",
       "      <td>NaN</td>\n",
       "      <td>9</td>\n",
       "      <td>veralucia</td>\n",
       "      <td>65</td>\n",
       "      <td>(-28.748023890412284, -51.867279334353995)</td>\n",
       "      <td>Waiting-list</td>\n",
       "      <td>230-6097993</td>\n",
       "      <td>163679</td>\n",
       "      <td>BR-RR</td>\n",
       "      <td>50985</td>\n",
       "      <td>{'tags': ['n0', 'n17', 'nim', 'da']}</td>\n",
       "      <td>Mozilla/5.0 (Linux; Android 6.0.1; SGP771 Buil...</td>\n",
       "      <td>NaN</td>\n",
       "    </tr>\n",
       "    <tr>\n",
       "      <th>3</th>\n",
       "      <td>d235609e-b6cb-0ccc-a329-d4f12e7ebdc1</td>\n",
       "      <td>False</td>\n",
       "      <td>1Rk8w4Ucd5yR3KcqZzLdow==</td>\n",
       "      <td>dCm9hFKfdRm7ej3jW+gyxw==</td>\n",
       "      <td>510</td>\n",
       "      <td>102</td>\n",
       "      <td>1</td>\n",
       "      <td>95</td>\n",
       "      <td>0</td>\n",
       "      <td>NaN</td>\n",
       "      <td>NaN</td>\n",
       "      <td>54591</td>\n",
       "      <td>mLVIVxoGY7TUDJ1FyFoSIZi1SFcaBmO01AydRchaEiGYtU...</td>\n",
       "      <td>68830</td>\n",
       "      <td>False</td>\n",
       "      <td>KET/Pmr6rHp1RJ/P9ymztw==</td>\n",
       "      <td>Cc/kWDLQH3dpHv5HU+pLVA==</td>\n",
       "      <td>NCqL3QBx0pscDnx3ixKwXg==</td>\n",
       "      <td>mLVIVxoGY7TUDJ1FyFoSIZi1SFcaBmO01AydRchaEiE56f...</td>\n",
       "      <td>n+xK9CfX0bCn77lClTWviw==</td>\n",
       "      <td>NaN</td>\n",
       "      <td>1</td>\n",
       "      <td>0</td>\n",
       "      <td>19</td>\n",
       "      <td>19</td>\n",
       "      <td>11:20:49</td>\n",
       "      <td>406</td>\n",
       "      <td>spgov.com</td>\n",
       "      <td>NaN</td>\n",
       "      <td>3</td>\n",
       "      <td>NaN</td>\n",
       "      <td>38</td>\n",
       "      <td>venice</td>\n",
       "      <td>815</td>\n",
       "      <td>(-17.520650158450454, -39.75801139933186)</td>\n",
       "      <td>Waiting-list</td>\n",
       "      <td>261-3543751</td>\n",
       "      <td>1086</td>\n",
       "      <td>BR-RN</td>\n",
       "      <td>37825</td>\n",
       "      <td>{'tags': ['n4']}</td>\n",
       "      <td>Mozilla/5.0 (Linux; Android 6.0; HTC One X10 B...</td>\n",
       "      <td>NaN</td>\n",
       "    </tr>\n",
       "    <tr>\n",
       "      <th>4</th>\n",
       "      <td>9e0eb880-e8f4-3faa-67d8-f5cdd2b3932b</td>\n",
       "      <td>False</td>\n",
       "      <td>8k8UDR4Yx0qasAjkGrUZLw==</td>\n",
       "      <td>+CxEO4w7jv3QPI/BQbyqAA==</td>\n",
       "      <td>500</td>\n",
       "      <td>98</td>\n",
       "      <td>1</td>\n",
       "      <td>118</td>\n",
       "      <td>0</td>\n",
       "      <td>NaN</td>\n",
       "      <td>NaN</td>\n",
       "      <td>NaN</td>\n",
       "      <td>mLVIVxoGY7TUDJ1FyFoSIZi1SFcaBmO01AydRchaEiGYtU...</td>\n",
       "      <td>60011</td>\n",
       "      <td>True</td>\n",
       "      <td>xsd3ZdsI3356I3xMxZeiqQ==</td>\n",
       "      <td>i036nmJ7rfxo+3EvCD7Jnw==</td>\n",
       "      <td>NCqL3QBx0pscDnx3ixKwXg==</td>\n",
       "      <td>mLVIVxoGY7TUDJ1FyFoSIZi1SFcaBmO01AydRchaEiGYtU...</td>\n",
       "      <td>n+xK9CfX0bCn77lClTWviw==</td>\n",
       "      <td>NaN</td>\n",
       "      <td>0</td>\n",
       "      <td>0</td>\n",
       "      <td>11</td>\n",
       "      <td>NaN</td>\n",
       "      <td>13:39:03</td>\n",
       "      <td>240</td>\n",
       "      <td>gmail.com</td>\n",
       "      <td>0</td>\n",
       "      <td>2</td>\n",
       "      <td>1</td>\n",
       "      <td>46</td>\n",
       "      <td>darzisa</td>\n",
       "      <td>320</td>\n",
       "      <td>(-16.574259446978008, -39.90990074785962)</td>\n",
       "      <td>Invite-email</td>\n",
       "      <td>102-3660162</td>\n",
       "      <td>198618</td>\n",
       "      <td>BR-MT</td>\n",
       "      <td>52827</td>\n",
       "      <td>{'tags': ['pro+aty', 'n19', 'da', 'b19']}</td>\n",
       "      <td>Mozilla/5.0 (Linux; Android 7.0; Pixel C Build...</td>\n",
       "      <td>NaN</td>\n",
       "    </tr>\n",
       "  </tbody>\n",
       "</table>\n",
       "</div>"
      ],
      "text/plain": [
       "                                    ids target_default  \\\n",
       "0  343b7e7b-2cf8-e508-b8fd-0a0285af30aa          False   \n",
       "1  bc2c7502-bbad-0f8c-39c3-94e881967124          False   \n",
       "2  669630dd-2e6a-0396-84bf-455e5009c922           True   \n",
       "3  d235609e-b6cb-0ccc-a329-d4f12e7ebdc1          False   \n",
       "4  9e0eb880-e8f4-3faa-67d8-f5cdd2b3932b          False   \n",
       "\n",
       "                    score_1                   score_2  score_3  score_4  \\\n",
       "0  1Rk8w4Ucd5yR3KcqZzLdow==  IOVu8au3ISbo6+zmfnYwMg==      350      102   \n",
       "1  DGCQep2AE5QRkNCshIAlFQ==  SaamrHMo23l/3TwXOWgVzw==      370       97   \n",
       "2  DGCQep2AE5QRkNCshIAlFQ==  Fv28Bz0YRTVAT5kl1bAV6g==      360      100   \n",
       "3  1Rk8w4Ucd5yR3KcqZzLdow==  dCm9hFKfdRm7ej3jW+gyxw==      510      102   \n",
       "4  8k8UDR4Yx0qasAjkGrUZLw==  +CxEO4w7jv3QPI/BQbyqAA==      500       98   \n",
       "\n",
       "   score_5  score_6  risk_rate  last_amount_borrowed  last_borrowed_in_months  \\\n",
       "0        0      108          0                 25034                       36   \n",
       "1        1       92          0                   NaN                      NaN   \n",
       "2        0      113          0                  7208                       36   \n",
       "3        1       95          0                   NaN                      NaN   \n",
       "4        1      118          0                   NaN                      NaN   \n",
       "\n",
       "   credit_limit                                             reason  income  \\\n",
       "0             0  mLVIVxoGY7TUDJ1FyFoSIZi1SFcaBmO01AydRchaEiGYtU...   65014   \n",
       "1         39726  mLVIVxoGY7TUDJ1FyFoSIZi1SFcaBmO01AydRchaEiGYtU...  100019   \n",
       "2           NaN  mLVIVxoGY7TUDJ1FyFoSIZi1SFcaBmO01AydRchaEiGYtU...   65024   \n",
       "3         54591  mLVIVxoGY7TUDJ1FyFoSIZi1SFcaBmO01AydRchaEiGYtU...   68830   \n",
       "4           NaN  mLVIVxoGY7TUDJ1FyFoSIZi1SFcaBmO01AydRchaEiGYtU...   60011   \n",
       "\n",
       "  facebook_profile                     state                       zip  \\\n",
       "0             True  sjJbkqJS7cXalHLBFA+EOQ==  Ernn+uVXCMq/6ARrBCcd+A==   \n",
       "1            False  xsd3ZdsI3356I3xMxZeiqQ==  rlWIXTBO+VOa34+SpGyhlQ==   \n",
       "2              NaN  Ygq6MsM98oC8yceExr69Ig==  PjTIDfJsK0DKL9fO7vuW2g==   \n",
       "3            False  KET/Pmr6rHp1RJ/P9ymztw==  Cc/kWDLQH3dpHv5HU+pLVA==   \n",
       "4             True  xsd3ZdsI3356I3xMxZeiqQ==  i036nmJ7rfxo+3EvCD7Jnw==   \n",
       "\n",
       "                    channel  \\\n",
       "0  NCqL3QBx0pscDnx3ixKwXg==   \n",
       "1  NCqL3QBx0pscDnx3ixKwXg==   \n",
       "2  NCqL3QBx0pscDnx3ixKwXg==   \n",
       "3  NCqL3QBx0pscDnx3ixKwXg==   \n",
       "4  NCqL3QBx0pscDnx3ixKwXg==   \n",
       "\n",
       "                                            job_name  \\\n",
       "0  mLVIVxoGY7TUDJ1FyFoSIZi1SFcaBmO01AydRchaEiGYtU...   \n",
       "1  mLVIVxoGY7TUDJ1FyFoSIZi1SFcaBmO01AydRchaEiGYtU...   \n",
       "2  mLVIVxoGY7TUDJ1FyFoSIZi1SFcaBmO01AydRchaEiGYtU...   \n",
       "3  mLVIVxoGY7TUDJ1FyFoSIZi1SFcaBmO01AydRchaEiE56f...   \n",
       "4  mLVIVxoGY7TUDJ1FyFoSIZi1SFcaBmO01AydRchaEiGYtU...   \n",
       "\n",
       "                 real_state  ok_since  n_bankruptcies  n_defaulted_loans  \\\n",
       "0  N5/CE7lSkAfB04hVFFwllw==       NaN               0                  0   \n",
       "1  N5/CE7lSkAfB04hVFFwllw==        50               0                  0   \n",
       "2  n+xK9CfX0bCn77lClTWviw==       NaN               0                  0   \n",
       "3  n+xK9CfX0bCn77lClTWviw==       NaN               1                  0   \n",
       "4  n+xK9CfX0bCn77lClTWviw==       NaN               0                  0   \n",
       "\n",
       "   n_accounts  n_issues application_time_applied  application_time_in_funnel  \\\n",
       "0          18        18                 07:52:34                         444   \n",
       "1          14        14                 02:34:29                         346   \n",
       "2          10       NaN                 00:60:02                           6   \n",
       "3          19        19                 11:20:49                         406   \n",
       "4          11       NaN                 13:39:03                         240   \n",
       "\n",
       "         email  external_data_provider_credit_checks_last_2_year  \\\n",
       "0  outlook.com                                               NaN   \n",
       "1    gmail.com                                                 0   \n",
       "2    gmail.com                                               NaN   \n",
       "3    spgov.com                                               NaN   \n",
       "4    gmail.com                                                 0   \n",
       "\n",
       "   external_data_provider_credit_checks_last_month  \\\n",
       "0                                                2   \n",
       "1                                                1   \n",
       "2                                                2   \n",
       "3                                                3   \n",
       "4                                                2   \n",
       "\n",
       "   external_data_provider_credit_checks_last_year  \\\n",
       "0                                               0   \n",
       "1                                               0   \n",
       "2                                             NaN   \n",
       "3                                             NaN   \n",
       "4                                               1   \n",
       "\n",
       "   external_data_provider_email_seen_before external_data_provider_first_name  \\\n",
       "0                                        51                        leidelaura   \n",
       "1                                        17                          diocezio   \n",
       "2                                         9                         veralucia   \n",
       "3                                        38                            venice   \n",
       "4                                        46                           darzisa   \n",
       "\n",
       "   external_data_provider_fraud_score  \\\n",
       "0                                 645   \n",
       "1                                 243   \n",
       "2                                  65   \n",
       "3                                 815   \n",
       "4                                 320   \n",
       "\n",
       "                                      lat_lon marketing_channel  \\\n",
       "0    (-29.151545708122246, -51.1386461804385)      Invite-email   \n",
       "1   (-19.687710705798963, -47.94151536525154)  Radio-commercial   \n",
       "2  (-28.748023890412284, -51.867279334353995)      Waiting-list   \n",
       "3   (-17.520650158450454, -39.75801139933186)      Waiting-list   \n",
       "4   (-16.574259446978008, -39.90990074785962)      Invite-email   \n",
       "\n",
       "  profile_phone_number  reported_income shipping_state  shipping_zip_code  \\\n",
       "0          514-9840782            57849          BR-MT              17528   \n",
       "1          251-3659293             4902          BR-RS              40933   \n",
       "2          230-6097993           163679          BR-RR              50985   \n",
       "3          261-3543751             1086          BR-RN              37825   \n",
       "4          102-3660162           198618          BR-MT              52827   \n",
       "\n",
       "                                profile_tags  \\\n",
       "0                    {'tags': ['n19', 'n8']}   \n",
       "1              {'tags': ['n6', 'n7', 'nim']}   \n",
       "2       {'tags': ['n0', 'n17', 'nim', 'da']}   \n",
       "3                           {'tags': ['n4']}   \n",
       "4  {'tags': ['pro+aty', 'n19', 'da', 'b19']}   \n",
       "\n",
       "                                          user_agent target_fraud  \n",
       "0  Mozilla/5.0 (Linux; Android 6.0.1; SGP771 Buil...          NaN  \n",
       "1  Mozilla/5.0 (Linux; Android 5.0.2; SAMSUNG SM-...          NaN  \n",
       "2  Mozilla/5.0 (Linux; Android 6.0.1; SGP771 Buil...          NaN  \n",
       "3  Mozilla/5.0 (Linux; Android 6.0; HTC One X10 B...          NaN  \n",
       "4  Mozilla/5.0 (Linux; Android 7.0; Pixel C Build...          NaN  "
      ]
     },
     "execution_count": 212,
     "metadata": {},
     "output_type": "execute_result"
    }
   ],
   "source": [
    "df.head()"
   ]
  },
  {
   "cell_type": "markdown",
   "id": "fcc9724e",
   "metadata": {},
   "source": [
    "Logo de início, pode-se fazer algumas observações:\n",
    "* A variável `ids` serve como identificador único.\n",
    "* A variável `target_default` é a variável alvo, que indica a probabilidade do cliente ser inadimplente.\n",
    "* A variável `target_fraud` possivelmente foi variável alvo em outro modelo e indica a probabilidade de o cliente ser fraudulento.\n",
    "* `Score_1 a 2` são strings, mas `score_3 a 6` são numéricos.\n"
   ]
  },
  {
   "cell_type": "markdown",
   "id": "ead81c22",
   "metadata": {},
   "source": [
    "Verificarei agora o tamanho do dataset."
   ]
  },
  {
   "cell_type": "code",
   "execution_count": 213,
   "id": "b246d078",
   "metadata": {},
   "outputs": [
    {
     "name": "stdout",
     "output_type": "stream",
     "text": [
      "Entradas: 45000\n",
      "Variáveis: 43\n"
     ]
    }
   ],
   "source": [
    "# verifica o tamanho do dataset\n",
    "print(\"Entradas:\", df.shape[0])\n",
    "print(\"Variáveis:\", df.shape[1])"
   ]
  },
  {
   "cell_type": "code",
   "execution_count": 214,
   "id": "48bfce32",
   "metadata": {},
   "outputs": [
    {
     "data": {
      "text/plain": [
       "Index(['ids', 'target_default', 'score_1', 'score_2', 'score_3', 'score_4',\n",
       "       'score_5', 'score_6', 'risk_rate', 'last_amount_borrowed',\n",
       "       'last_borrowed_in_months', 'credit_limit', 'reason', 'income',\n",
       "       'facebook_profile', 'state', 'zip', 'channel', 'job_name', 'real_state',\n",
       "       'ok_since', 'n_bankruptcies', 'n_defaulted_loans', 'n_accounts',\n",
       "       'n_issues', 'application_time_applied', 'application_time_in_funnel',\n",
       "       'email', 'external_data_provider_credit_checks_last_2_year',\n",
       "       'external_data_provider_credit_checks_last_month',\n",
       "       'external_data_provider_credit_checks_last_year',\n",
       "       'external_data_provider_email_seen_before',\n",
       "       'external_data_provider_first_name',\n",
       "       'external_data_provider_fraud_score', 'lat_lon', 'marketing_channel',\n",
       "       'profile_phone_number', 'reported_income', 'shipping_state',\n",
       "       'shipping_zip_code', 'profile_tags', 'user_agent', 'target_fraud'],\n",
       "      dtype='object')"
      ]
     },
     "execution_count": 214,
     "metadata": {},
     "output_type": "execute_result"
    }
   ],
   "source": [
    "# Extrair o nome das colunas\n",
    "df.columns"
   ]
  },
  {
   "cell_type": "code",
   "execution_count": 215,
   "id": "61d5dece",
   "metadata": {},
   "outputs": [
    {
     "data": {
      "text/plain": [
       "ids                                                  object\n",
       "target_default                                       object\n",
       "score_1                                              object\n",
       "score_2                                              object\n",
       "score_3                                             float64\n",
       "score_4                                             float64\n",
       "score_5                                             float64\n",
       "score_6                                             float64\n",
       "risk_rate                                           float64\n",
       "last_amount_borrowed                                float64\n",
       "last_borrowed_in_months                             float64\n",
       "credit_limit                                        float64\n",
       "reason                                               object\n",
       "income                                              float64\n",
       "facebook_profile                                     object\n",
       "state                                                object\n",
       "zip                                                  object\n",
       "channel                                              object\n",
       "job_name                                             object\n",
       "real_state                                           object\n",
       "ok_since                                            float64\n",
       "n_bankruptcies                                      float64\n",
       "n_defaulted_loans                                   float64\n",
       "n_accounts                                          float64\n",
       "n_issues                                            float64\n",
       "application_time_applied                             object\n",
       "application_time_in_funnel                            int64\n",
       "email                                                object\n",
       "external_data_provider_credit_checks_last_2_year    float64\n",
       "external_data_provider_credit_checks_last_month       int64\n",
       "external_data_provider_credit_checks_last_year      float64\n",
       "external_data_provider_email_seen_before            float64\n",
       "external_data_provider_first_name                    object\n",
       "external_data_provider_fraud_score                    int64\n",
       "lat_lon                                              object\n",
       "marketing_channel                                    object\n",
       "profile_phone_number                                 object\n",
       "reported_income                                     float64\n",
       "shipping_state                                       object\n",
       "shipping_zip_code                                     int64\n",
       "profile_tags                                         object\n",
       "user_agent                                           object\n",
       "target_fraud                                         object\n",
       "dtype: object"
      ]
     },
     "execution_count": 215,
     "metadata": {},
     "output_type": "execute_result"
    }
   ],
   "source": [
    "# Extrair o tipo das variáveis\n",
    "df.dtypes"
   ]
  },
  {
   "cell_type": "markdown",
   "id": "ba1e7523",
   "metadata": {},
   "source": [
    "A priori, as variáveis aparentam ter o tipo de dado coerente. Irei verificar agora a porcentagem de itens nulos."
   ]
  },
  {
   "cell_type": "code",
   "execution_count": 216,
   "id": "6a5a1f51",
   "metadata": {},
   "outputs": [
    {
     "data": {
      "text/plain": [
       "target_fraud                                       1\n",
       "last_amount_borrowed                               1\n",
       "last_borrowed_in_months                            1\n",
       "ok_since                                           1\n",
       "external_data_provider_credit_checks_last_2_year   0\n",
       "external_data_provider_credit_checks_last_year     0\n",
       "credit_limit                                       0\n",
       "n_issues                                           0\n",
       "facebook_profile                                   0\n",
       "marketing_channel                                  0\n",
       "job_name                                           0\n",
       "target_default                                     0\n",
       "external_data_provider_email_seen_before           0\n",
       "lat_lon                                            0\n",
       "user_agent                                         0\n",
       "n_bankruptcies                                     0\n",
       "zip                                                0\n",
       "n_defaulted_loans                                  0\n",
       "channel                                            0\n",
       "score_1                                            0\n",
       "score_3                                            0\n",
       "n_accounts                                         0\n",
       "risk_rate                                          0\n",
       "reason                                             0\n",
       "income                                             0\n",
       "real_state                                         0\n",
       "state                                              0\n",
       "score_2                                            0\n",
       "profile_tags                                       0\n",
       "shipping_zip_code                                  0\n",
       "shipping_state                                     0\n",
       "reported_income                                    0\n",
       "profile_phone_number                               0\n",
       "external_data_provider_credit_checks_last_month    0\n",
       "external_data_provider_fraud_score                 0\n",
       "external_data_provider_first_name                  0\n",
       "score_4                                            0\n",
       "score_5                                            0\n",
       "score_6                                            0\n",
       "email                                              0\n",
       "application_time_in_funnel                         0\n",
       "application_time_applied                           0\n",
       "ids                                                0\n",
       "dtype: float64"
      ]
     },
     "execution_count": 216,
     "metadata": {},
     "output_type": "execute_result"
    }
   ],
   "source": [
    "# Porcentagem de item nulo\n",
    "round(df.isnull().sum()/df.shape[0], 2).sort_values(ascending = False)"
   ]
  },
  {
   "cell_type": "markdown",
   "id": "927eb8a8",
   "metadata": {},
   "source": [
    "Foi possível notar que:\n",
    "* A variável `target_fraud` possui 97% dos itens nulos.\n",
    "* As variáveis `last_amount_borrowed ` e `last_borrowed_in_months` possuem 67% dos itens nulos.\n",
    "* As variáveis `ok_since` e `external_data_provider_credit_checks_last_2_year` possuem mais que 50% dos itens nulos.\n",
    "\n",
    "Os dados ausentes precisam ser tratados, posteriormente farei uma análise mais aprofundada para verificar a relevância das variáveis e a forma mais adequada de corrigi-los."
   ]
  },
  {
   "cell_type": "markdown",
   "id": "aca18a6c",
   "metadata": {},
   "source": [
    "Veremos também o balanceamento da variável alvo `target_default`."
   ]
  },
  {
   "cell_type": "code",
   "execution_count": 217,
   "id": "879d00ed",
   "metadata": {},
   "outputs": [
    {
     "data": {
      "text/plain": [
       "False    35080\n",
       "True      6661\n",
       "Name: target_default, dtype: int64"
      ]
     },
     "execution_count": 217,
     "metadata": {},
     "output_type": "execute_result"
    }
   ],
   "source": [
    "# Quantidade de dados distribuidos por classes\n",
    "df.target_default.value_counts()"
   ]
  },
  {
   "cell_type": "code",
   "execution_count": 218,
   "id": "ea34bacb",
   "metadata": {},
   "outputs": [
    {
     "data": {
      "text/plain": [
       "False   78\n",
       "True    15\n",
       "Name: target_default, dtype: float64"
      ]
     },
     "execution_count": 218,
     "metadata": {},
     "output_type": "execute_result"
    }
   ],
   "source": [
    "# Porcentagem de dados distribuidos por classes\n",
    "round(df.target_default.value_counts()/df.shape[0] * 100,2)"
   ]
  },
  {
   "cell_type": "code",
   "execution_count": 219,
   "id": "554c57ac",
   "metadata": {},
   "outputs": [
    {
     "data": {
      "image/png": "[encoded data removed]",
      "text/plain": [
       "<Figure size 800x400 with 1 Axes>"
      ]
     },
     "metadata": {},
     "output_type": "display_data"
    }
   ],
   "source": [
    "# Plotar um gráfico de barras para ver o balanceamento do *dataset*\n",
    "fig, ax = plt.subplots(figsize=(8, 4))\n",
    "sns.set_style(\"darkgrid\", {\"grid.color\": \".6\", \"grid.linestyle\": \":\"})\n",
    "sns.set_palette(\"PuBuGn_d\")\n",
    "count = df['target_default'].value_counts()\n",
    "sns.countplot(x='target_default', data=df)\n",
    "ax.set_xlabel('target_default')\n",
    "ax.set_ylabel('Quantidade')\n",
    "ax.set_title('Quantidade de Inadimplência');\n",
    "plt.tight_layout()"
   ]
  },
  {
   "cell_type": "markdown",
   "id": "47b21c42",
   "metadata": {},
   "source": [
    "O dataset é  **desbalanceado**, com 14.80% de inadimplência. Uma consequência de ter dados desbalanceados é um **modelo enviesado**, que privilegia a classe maioritária. Logo, é necessário um **balanceamento** a fim de construir um modelo eficaz ao problema.\n"
   ]
  },
  {
   "cell_type": "markdown",
   "id": "3cd1a6ed",
   "metadata": {},
   "source": [
    "Como há uma quantidade considerável de variáveis, optei por dividi-las em grupo a fim de realizar uma análise minuciosa."
   ]
  },
  {
   "cell_type": "markdown",
   "id": "e22f5247",
   "metadata": {},
   "source": [
    "### Grupo 1: Variáveis Demográficas e de Comportamento"
   ]
  },
  {
   "cell_type": "markdown",
   "id": "7162f36c",
   "metadata": {},
   "source": [
    "Este grupo inclui variáveis que descrevem as características demográficas e comportamentais dos candidatos. Essas variáveis são coletadas no momento da solicitação do empréstimo e podem incluir informações como a razão para o empréstimo `razão`, a renda do candidato `income`, se o candidato possui um perfil no Facebook `facebook_profile`, estado e código postal `state, zip`, canal de aquisição do cliente `channel`, profissão do candidato `job_name`, tipo de imóvel em que o candidato reside `real_state`, número de falências anteriores `n_bankruptcies`, número de empréstimos inadimplentes anteriores `n_defaulted_loans`, número de contas bancárias abertas `n_accounts`, número de problemas relatados `n_issues`, tempo de aplicação `application_time_applied`, tempo desde o início do processo de empréstimo `application_time_in_funnel`, endereço de e-mail `email`, localização geográfica do candidato `lat_lon`, canal de marketing `marketing_channel`, número de telefone do candidato `profile_phone_number`, renda reportada do candidato `reported_income`, estado de envio `shipping_state`, código postal de envio `shipping_zip_code`, tags de perfil `profile_tags` e tipo de navegador usado pelo candidato `user_agent`."
   ]
  },
  {
   "cell_type": "code",
   "execution_count": 220,
   "id": "1499d814",
   "metadata": {},
   "outputs": [],
   "source": [
    "df_group1 = df[['reason', 'income', 'facebook_profile', 'state', 'zip', 'channel', 'job_name', \n",
    "    'real_state', 'n_bankruptcies', 'n_defaulted_loans', 'n_accounts', 'n_issues', \n",
    "    'application_time_applied', 'application_time_in_funnel', 'email', 'lat_lon', \n",
    "    'marketing_channel', 'profile_phone_number', 'reported_income', 'shipping_state', \n",
    "    'shipping_zip_code', 'profile_tags', 'user_agent']].copy()"
   ]
  },
  {
   "cell_type": "markdown",
   "id": "8881dbff",
   "metadata": {},
   "source": [
    "Agora verificarei as informações estatísticas das variáveis."
   ]
  },
  {
   "cell_type": "code",
   "execution_count": 221,
   "id": "c1b8653b",
   "metadata": {
    "scrolled": true
   },
   "outputs": [
    {
     "data": {
      "text/html": [
       "<div>\n",
       "<style scoped>\n",
       "    .dataframe tbody tr th:only-of-type {\n",
       "        vertical-align: middle;\n",
       "    }\n",
       "\n",
       "    .dataframe tbody tr th {\n",
       "        vertical-align: top;\n",
       "    }\n",
       "\n",
       "    .dataframe thead th {\n",
       "        text-align: right;\n",
       "    }\n",
       "</style>\n",
       "<table border=\"1\" class=\"dataframe\">\n",
       "  <thead>\n",
       "    <tr style=\"text-align: right;\">\n",
       "      <th></th>\n",
       "      <th>income</th>\n",
       "      <th>n_bankruptcies</th>\n",
       "      <th>n_defaulted_loans</th>\n",
       "      <th>n_accounts</th>\n",
       "      <th>n_issues</th>\n",
       "      <th>application_time_in_funnel</th>\n",
       "      <th>reported_income</th>\n",
       "      <th>shipping_zip_code</th>\n",
       "    </tr>\n",
       "  </thead>\n",
       "  <tbody>\n",
       "    <tr>\n",
       "      <th>count</th>\n",
       "      <td>44438</td>\n",
       "      <td>44303</td>\n",
       "      <td>44426</td>\n",
       "      <td>44438</td>\n",
       "      <td>33456</td>\n",
       "      <td>45000</td>\n",
       "      <td>45000</td>\n",
       "      <td>45000</td>\n",
       "    </tr>\n",
       "    <tr>\n",
       "      <th>mean</th>\n",
       "      <td>71607</td>\n",
       "      <td>0</td>\n",
       "      <td>0</td>\n",
       "      <td>11</td>\n",
       "      <td>11</td>\n",
       "      <td>248</td>\n",
       "      <td>inf</td>\n",
       "      <td>33924</td>\n",
       "    </tr>\n",
       "    <tr>\n",
       "      <th>std</th>\n",
       "      <td>51859</td>\n",
       "      <td>0</td>\n",
       "      <td>0</td>\n",
       "      <td>5</td>\n",
       "      <td>5</td>\n",
       "      <td>146</td>\n",
       "      <td>NaN</td>\n",
       "      <td>12692</td>\n",
       "    </tr>\n",
       "    <tr>\n",
       "      <th>min</th>\n",
       "      <td>4821</td>\n",
       "      <td>0</td>\n",
       "      <td>0</td>\n",
       "      <td>0</td>\n",
       "      <td>0</td>\n",
       "      <td>0</td>\n",
       "      <td>403</td>\n",
       "      <td>12001</td>\n",
       "    </tr>\n",
       "    <tr>\n",
       "      <th>25%</th>\n",
       "      <td>45011</td>\n",
       "      <td>0</td>\n",
       "      <td>0</td>\n",
       "      <td>7</td>\n",
       "      <td>8</td>\n",
       "      <td>120</td>\n",
       "      <td>50948</td>\n",
       "      <td>22937</td>\n",
       "    </tr>\n",
       "    <tr>\n",
       "      <th>50%</th>\n",
       "      <td>61267</td>\n",
       "      <td>0</td>\n",
       "      <td>0</td>\n",
       "      <td>10</td>\n",
       "      <td>10</td>\n",
       "      <td>248</td>\n",
       "      <td>101779</td>\n",
       "      <td>33896</td>\n",
       "    </tr>\n",
       "    <tr>\n",
       "      <th>75%</th>\n",
       "      <td>86019</td>\n",
       "      <td>0</td>\n",
       "      <td>0</td>\n",
       "      <td>13</td>\n",
       "      <td>14</td>\n",
       "      <td>375</td>\n",
       "      <td>151337</td>\n",
       "      <td>44910</td>\n",
       "    </tr>\n",
       "    <tr>\n",
       "      <th>max</th>\n",
       "      <td>5000028</td>\n",
       "      <td>5</td>\n",
       "      <td>5</td>\n",
       "      <td>49</td>\n",
       "      <td>49</td>\n",
       "      <td>500</td>\n",
       "      <td>inf</td>\n",
       "      <td>56000</td>\n",
       "    </tr>\n",
       "  </tbody>\n",
       "</table>\n",
       "</div>"
      ],
      "text/plain": [
       "       income  n_bankruptcies  n_defaulted_loans  n_accounts  n_issues  \\\n",
       "count   44438           44303              44426       44438     33456   \n",
       "mean    71607               0                  0          11        11   \n",
       "std     51859               0                  0           5         5   \n",
       "min      4821               0                  0           0         0   \n",
       "25%     45011               0                  0           7         8   \n",
       "50%     61267               0                  0          10        10   \n",
       "75%     86019               0                  0          13        14   \n",
       "max   5000028               5                  5          49        49   \n",
       "\n",
       "       application_time_in_funnel  reported_income  shipping_zip_code  \n",
       "count                       45000            45000              45000  \n",
       "mean                          248              inf              33924  \n",
       "std                           146              NaN              12692  \n",
       "min                             0              403              12001  \n",
       "25%                           120            50948              22937  \n",
       "50%                           248           101779              33896  \n",
       "75%                           375           151337              44910  \n",
       "max                           500              inf              56000  "
      ]
     },
     "execution_count": 221,
     "metadata": {},
     "output_type": "execute_result"
    }
   ],
   "source": [
    "# Verificar informações estatísticas\n",
    "df_group1.describe()"
   ]
  },
  {
   "cell_type": "markdown",
   "id": "67c5d956",
   "metadata": {},
   "source": [
    "Pode-se perceber que :\n",
    "* Há uma grande presença de *outliers* na variável `income`,onde a mediana da renda é 61267, mas o valor máximo está em 5000028.\n",
    "* O valor máximo da variável `reported_income` não é um valor válido, sendo infinito.\n",
    "* A maior parte dos usuários não teve falências anteriores, por `n_bankruptcies`.\n",
    "* A maior parte dos usuários não teve inadimplência por `n_defaulted_loans`.\n",
    "* Os valores de renda reportado pela fonte externa em `reported_income` têm características diferentes que a renda reportada pelo usuário em `income`."
   ]
  },
  {
   "cell_type": "markdown",
   "id": "b04c2256",
   "metadata": {},
   "source": [
    "Primeiramente, iremos observar a variável `income` plotando um histograma para a mesma."
   ]
  },
  {
   "cell_type": "code",
   "execution_count": 222,
   "id": "d801ee79",
   "metadata": {
    "scrolled": true
   },
   "outputs": [
    {
     "data": {
      "image/png": "[encoded data removed]",
      "text/plain": [
       "<Figure size 640x480 with 1 Axes>"
      ]
     },
     "metadata": {},
     "output_type": "display_data"
    }
   ],
   "source": [
    "# definindo a quantidade de bins e range do histograma\n",
    "num_bins = 10\n",
    "range_values = (0, 300000)\n",
    "\n",
    "# plotando o histograma\n",
    "df.income.hist(bins=num_bins, range=range_values)\n",
    "\n",
    "# adicionando títulos e labels\n",
    "plt.title('Distribuição da Coluna')\n",
    "plt.xlabel('Valor')\n",
    "plt.ylabel('Frequência')\n",
    "\n",
    "plt.show()"
   ]
  },
  {
   "cell_type": "markdown",
   "id": "e1c53bec",
   "metadata": {},
   "source": [
    "Pelo histograma pode-se perceber que a frequência da renda começa a decair quando ultrapassa 200000. Plotarei um boxplot contendo o dataset original e o dataset com a renda inferior a tal quantia."
   ]
  },
  {
   "cell_type": "code",
   "execution_count": 223,
   "id": "f8de4825",
   "metadata": {
    "scrolled": false
   },
   "outputs": [
    {
     "data": {
      "image/png": "[encoded data removed]",
      "text/plain": [
       "<Figure size 1500x300 with 2 Axes>"
      ]
     },
     "metadata": {},
     "output_type": "display_data"
    },
    {
     "name": "stdout",
     "output_type": "stream",
     "text": [
      "777 Entradas acima de 200 mil\n",
      "Representam 1.73% do dataset\n"
     ]
    }
   ],
   "source": [
    "# verificar o conjunto de dados original\n",
    "fig, ax = plt.subplots(1, 2, figsize=(15,3))\n",
    "df.income.plot(kind='box', vert=False, ax = ax[0]);\n",
    "df.income.loc[df.income <= 200000].plot(kind='box', vert=False, ax = ax[1]);\n",
    "ax[0].set_title('Dataset Original')\n",
    "ax[1].set_title('Dataset com Renda Inferior a 200 mil')\n",
    "plt.show()\n",
    "\n",
    "print(\"{} Entradas acima de 200 mil\".format(len(df[df.income > 200000])))\n",
    "print(\"Representam {:.2f}% do dataset\".format((len(df[df.income > 200000]) / df.shape[0])*100))"
   ]
  },
  {
   "cell_type": "markdown",
   "id": "a908ea97",
   "metadata": {},
   "source": [
    "Pela visualização de dados, pode-se notar que a variável `income` possui uma grande presença de outliers. Há 777 entradas com renda acima de 200 mil, que representam 1.73% do dataset."
   ]
  },
  {
   "cell_type": "markdown",
   "id": "70c18320",
   "metadata": {},
   "source": [
    "A variável `reported_income` possui valor inf em sua coluna, iremos verificar o quanto eles representam o dataset."
   ]
  },
  {
   "cell_type": "code",
   "execution_count": 224,
   "id": "5aa5d5b1",
   "metadata": {},
   "outputs": [
    {
     "name": "stdout",
     "output_type": "stream",
     "text": [
      "67 Entradas com valores inf\n",
      "Representam 0.15% do dataset\n"
     ]
    }
   ],
   "source": [
    "# Conferir a quantidade de valores inf em `reported_income`\n",
    "print(\"{} Entradas com valores inf\".format(np.isinf(df['reported_income']).sum()))\n",
    "print(\"Representam {:.2f}% do dataset\".format((np.isinf(df['reported_income']).sum()/ df.shape[0])*100))"
   ]
  },
  {
   "cell_type": "markdown",
   "id": "cbd7e780",
   "metadata": {},
   "source": [
    "Como os valores inf representam somente 0.15% do dataset, optei por excluí-los. Irei posteriormente plotar um gráfico de histograma a fim de entender melhor a frequência, bem como as informações estatísticas da variável."
   ]
  },
  {
   "cell_type": "code",
   "execution_count": 225,
   "id": "9d69c63d",
   "metadata": {},
   "outputs": [],
   "source": [
    "# substituir valores inf por NaN\n",
    "df['reported_income'] = df['reported_income'].replace([np.inf, -np.inf], np.nan)\n",
    "\n",
    "# deletar valores NaN da coluna reported_income\n",
    "df = df.dropna(subset=['reported_income'])"
   ]
  },
  {
   "cell_type": "code",
   "execution_count": 226,
   "id": "fd072442",
   "metadata": {
    "scrolled": false
   },
   "outputs": [
    {
     "data": {
      "text/plain": [
       "count              44933\n",
       "mean      10325415545678\n",
       "std      255964775525338\n",
       "min                  403\n",
       "25%                50856\n",
       "50%               101630\n",
       "75%               151187\n",
       "max     6355500000111444\n",
       "Name: reported_income, dtype: float64"
      ]
     },
     "execution_count": 226,
     "metadata": {},
     "output_type": "execute_result"
    }
   ],
   "source": [
    "df.reported_income.describe()"
   ]
  },
  {
   "cell_type": "code",
   "execution_count": 227,
   "id": "17864601",
   "metadata": {},
   "outputs": [
    {
     "data": {
      "text/plain": [
       "73"
      ]
     },
     "execution_count": 227,
     "metadata": {},
     "output_type": "execute_result"
    }
   ],
   "source": [
    "# Verificar a quantidade com receita máxima reportada\n",
    "df.loc[df.reported_income == df.reported_income.max()].shape[0]"
   ]
  },
  {
   "cell_type": "markdown",
   "id": "506bde53",
   "metadata": {},
   "source": [
    "73 usuários tiveram uma receita muito diferente, sendo outliers. Isto pode ser um problema de digitação ou não, mas a discrepância causa dificuldade na visualizar os dados. Então, irei plotar um histograma limitando o range de receita a 300 mil."
   ]
  },
  {
   "cell_type": "code",
   "execution_count": 228,
   "id": "d9ff507e",
   "metadata": {
    "scrolled": true
   },
   "outputs": [
    {
     "data": {
      "image/png": "[encoded data removed]",
      "text/plain": [
       "<Figure size 640x480 with 1 Axes>"
      ]
     },
     "metadata": {},
     "output_type": "display_data"
    }
   ],
   "source": [
    "# definindo a quantidade de bins e range do histograma\n",
    "num_bins = 10\n",
    "range_values = (0, 300000)\n",
    "\n",
    "# plotando o histograma\n",
    "df.reported_income.hist(bins=num_bins, range=range_values)\n",
    "\n",
    "# adicionando títulos e labels\n",
    "plt.title('Distribuição da Coluna')\n",
    "plt.xlabel('Valor')\n",
    "plt.ylabel('Frequência')\n",
    "\n",
    "plt.show()"
   ]
  },
  {
   "cell_type": "markdown",
   "id": "4892cfee",
   "metadata": {},
   "source": [
    "A distribuição da receita reportada difere da receita inserida pelos clientes. Veremos agora se a receita reportada tem variação em frequência para clientes não inadimplentes e inadimplentes."
   ]
  },
  {
   "cell_type": "code",
   "execution_count": 244,
   "id": "cf3a1643",
   "metadata": {
    "scrolled": true
   },
   "outputs": [
    {
     "data": {
      "image/png": "[encoded data removed]",
      "text/plain": [
       "<Figure size 1200x600 with 2 Axes>"
      ]
     },
     "metadata": {},
     "output_type": "display_data"
    }
   ],
   "source": [
    "fig, ax = plt.subplots(nrows=2, ncols=1, figsize=(12,6))\n",
    "\n",
    "ax[0].hist(df.reported_income.loc[(df.target_default == False) & (df.reported_income <= 500000)], color=sns.color_palette()[0])\n",
    "ax[0].set_title('Normal')\n",
    "\n",
    "ax[1].hist(df.reported_income.loc[(df.target_default == True) & (df.reported_income <= 500000)], color=sns.color_palette()[3])\n",
    "ax[1].set_title('Inadimplente')\n",
    "\n",
    "ax[0].set_xlabel('Receita')\n",
    "ax[0].set_ylabel('Frequência')\n",
    "\n",
    "ax[1].set_xlabel('Receita')\n",
    "ax[1].set_ylabel('Frequência')\n",
    "\n",
    "plt.tight_layout()\n"
   ]
  },
  {
   "cell_type": "markdown",
   "id": "638c7b59",
   "metadata": {},
   "source": [
    "A receita reportada aparenta seguir o mesmo padrão para diferentes tipos de clientes."
   ]
  },
  {
   "cell_type": "markdown",
   "id": "e36fb13b",
   "metadata": {},
   "source": [
    "Verificaremos agora a distribuição do número de falências anteriores do candidato."
   ]
  },
  {
   "cell_type": "code",
   "execution_count": 229,
   "id": "6a383f6c",
   "metadata": {
    "scrolled": true
   },
   "outputs": [
    {
     "data": {
      "text/plain": [
       "0    40935\n",
       "1     3245\n",
       "2       44\n",
       "3        7\n",
       "4        3\n",
       "5        2\n",
       "Name: n_bankruptcies, dtype: int64"
      ]
     },
     "execution_count": 229,
     "metadata": {},
     "output_type": "execute_result"
    }
   ],
   "source": [
    "df.n_bankruptcies.value_counts()"
   ]
  },
  {
   "cell_type": "markdown",
   "id": "6ef2e73b",
   "metadata": {},
   "source": [
    "Pode-se observar que a maior parte dos candidatos nunca faliu. Veremos também o número de empréstimos inadimplentes do candidato."
   ]
  },
  {
   "cell_type": "code",
   "execution_count": 230,
   "id": "57a090f7",
   "metadata": {
    "scrolled": false
   },
   "outputs": [
    {
     "data": {
      "text/plain": [
       "0    44185\n",
       "1      152\n",
       "2       17\n",
       "3        4\n",
       "5        1\n",
       "Name: n_defaulted_loans, dtype: int64"
      ]
     },
     "execution_count": 230,
     "metadata": {},
     "output_type": "execute_result"
    }
   ],
   "source": [
    "df.n_defaulted_loans.value_counts()"
   ]
  },
  {
   "cell_type": "markdown",
   "id": "c663a3c8",
   "metadata": {},
   "source": [
    "A maior parte dos candidatos nunca teve um empréstimo inadimplentes. Essas informações podem ser devido ao desbalanceamento do dataset."
   ]
  },
  {
   "cell_type": "markdown",
   "id": "bf66bc81",
   "metadata": {},
   "source": [
    "### Grupo 2: Pontuação e risco\n",
    "\n",
    "Este grupo engloba as variáveis relacionadas à pontuação de crédito e risco do candidato. As pontuações de crédito `score_1 a score_6` são obtidas de diferentes fontes e servem para avaliar a capacidade do candidato de cumprir com suas obrigações financeiras. A taxa de risco `risk_rate` representa a probabilidade de inadimplência do candidato. A pontuação de fraude do candidato em uma fonte externa `external_data_provider_fraud_score` indica o nível de risco de fraude associado ao candidato."
   ]
  },
  {
   "cell_type": "code",
   "execution_count": 256,
   "id": "9a447b21",
   "metadata": {},
   "outputs": [
    {
     "data": {
      "text/html": [
       "<div>\n",
       "<style scoped>\n",
       "    .dataframe tbody tr th:only-of-type {\n",
       "        vertical-align: middle;\n",
       "    }\n",
       "\n",
       "    .dataframe tbody tr th {\n",
       "        vertical-align: top;\n",
       "    }\n",
       "\n",
       "    .dataframe thead th {\n",
       "        text-align: right;\n",
       "    }\n",
       "</style>\n",
       "<table border=\"1\" class=\"dataframe\">\n",
       "  <thead>\n",
       "    <tr style=\"text-align: right;\">\n",
       "      <th></th>\n",
       "      <th>score_1</th>\n",
       "      <th>score_2</th>\n",
       "      <th>score_3</th>\n",
       "      <th>score_4</th>\n",
       "      <th>score_5</th>\n",
       "      <th>score_6</th>\n",
       "      <th>risk_rate</th>\n",
       "      <th>external_data_provider_fraud_score</th>\n",
       "    </tr>\n",
       "  </thead>\n",
       "  <tbody>\n",
       "    <tr>\n",
       "      <th>0</th>\n",
       "      <td>1Rk8w4Ucd5yR3KcqZzLdow==</td>\n",
       "      <td>IOVu8au3ISbo6+zmfnYwMg==</td>\n",
       "      <td>350</td>\n",
       "      <td>102</td>\n",
       "      <td>0</td>\n",
       "      <td>108</td>\n",
       "      <td>0</td>\n",
       "      <td>645</td>\n",
       "    </tr>\n",
       "    <tr>\n",
       "      <th>1</th>\n",
       "      <td>DGCQep2AE5QRkNCshIAlFQ==</td>\n",
       "      <td>SaamrHMo23l/3TwXOWgVzw==</td>\n",
       "      <td>370</td>\n",
       "      <td>97</td>\n",
       "      <td>1</td>\n",
       "      <td>92</td>\n",
       "      <td>0</td>\n",
       "      <td>243</td>\n",
       "    </tr>\n",
       "    <tr>\n",
       "      <th>2</th>\n",
       "      <td>DGCQep2AE5QRkNCshIAlFQ==</td>\n",
       "      <td>Fv28Bz0YRTVAT5kl1bAV6g==</td>\n",
       "      <td>360</td>\n",
       "      <td>100</td>\n",
       "      <td>0</td>\n",
       "      <td>113</td>\n",
       "      <td>0</td>\n",
       "      <td>65</td>\n",
       "    </tr>\n",
       "    <tr>\n",
       "      <th>3</th>\n",
       "      <td>1Rk8w4Ucd5yR3KcqZzLdow==</td>\n",
       "      <td>dCm9hFKfdRm7ej3jW+gyxw==</td>\n",
       "      <td>510</td>\n",
       "      <td>102</td>\n",
       "      <td>1</td>\n",
       "      <td>95</td>\n",
       "      <td>0</td>\n",
       "      <td>815</td>\n",
       "    </tr>\n",
       "    <tr>\n",
       "      <th>4</th>\n",
       "      <td>8k8UDR4Yx0qasAjkGrUZLw==</td>\n",
       "      <td>+CxEO4w7jv3QPI/BQbyqAA==</td>\n",
       "      <td>500</td>\n",
       "      <td>98</td>\n",
       "      <td>1</td>\n",
       "      <td>118</td>\n",
       "      <td>0</td>\n",
       "      <td>320</td>\n",
       "    </tr>\n",
       "  </tbody>\n",
       "</table>\n",
       "</div>"
      ],
      "text/plain": [
       "                    score_1                   score_2  score_3  score_4  \\\n",
       "0  1Rk8w4Ucd5yR3KcqZzLdow==  IOVu8au3ISbo6+zmfnYwMg==      350      102   \n",
       "1  DGCQep2AE5QRkNCshIAlFQ==  SaamrHMo23l/3TwXOWgVzw==      370       97   \n",
       "2  DGCQep2AE5QRkNCshIAlFQ==  Fv28Bz0YRTVAT5kl1bAV6g==      360      100   \n",
       "3  1Rk8w4Ucd5yR3KcqZzLdow==  dCm9hFKfdRm7ej3jW+gyxw==      510      102   \n",
       "4  8k8UDR4Yx0qasAjkGrUZLw==  +CxEO4w7jv3QPI/BQbyqAA==      500       98   \n",
       "\n",
       "   score_5  score_6  risk_rate  external_data_provider_fraud_score  \n",
       "0        0      108          0                                 645  \n",
       "1        1       92          0                                 243  \n",
       "2        0      113          0                                  65  \n",
       "3        1       95          0                                 815  \n",
       "4        1      118          0                                 320  "
      ]
     },
     "execution_count": 256,
     "metadata": {},
     "output_type": "execute_result"
    }
   ],
   "source": [
    "# separa o conjunto de dados\n",
    "df_score = df[['score_1', 'score_2', 'score_3', 'score_4', 'score_5', 'score_6', 'risk_rate', 'external_data_provider_fraud_score']]\n",
    "# visualiza as cinco primeiras entradas\n",
    "df_score.head()"
   ]
  },
  {
   "cell_type": "markdown",
   "id": "8706f133",
   "metadata": {},
   "source": [
    "Apenas pela visualização das primeiras entradas é possível notar que:\n",
    "* Os scores 1 e 2 são strings, e os demais estão em escalas diferentes.\n",
    "* O `score_5` e `risk_rate` variam de 0 a 1.\n",
    "* O `score_4` e `score_6` aparentam variar de forma semelhante.\n",
    "* A `external_data_provider_fraud_score` e `score_3` aparentam variar de 0 a 1000.\n",
    "\n",
    "Observaremos agora informações estatísticas das variáveis."
   ]
  },
  {
   "cell_type": "code",
   "execution_count": 257,
   "id": "71fe25cf",
   "metadata": {
    "scrolled": true
   },
   "outputs": [
    {
     "data": {
      "text/html": [
       "<div>\n",
       "<style scoped>\n",
       "    .dataframe tbody tr th:only-of-type {\n",
       "        vertical-align: middle;\n",
       "    }\n",
       "\n",
       "    .dataframe tbody tr th {\n",
       "        vertical-align: top;\n",
       "    }\n",
       "\n",
       "    .dataframe thead th {\n",
       "        text-align: right;\n",
       "    }\n",
       "</style>\n",
       "<table border=\"1\" class=\"dataframe\">\n",
       "  <thead>\n",
       "    <tr style=\"text-align: right;\">\n",
       "      <th></th>\n",
       "      <th>score_3</th>\n",
       "      <th>score_4</th>\n",
       "      <th>score_5</th>\n",
       "      <th>score_6</th>\n",
       "      <th>risk_rate</th>\n",
       "      <th>external_data_provider_fraud_score</th>\n",
       "    </tr>\n",
       "  </thead>\n",
       "  <tbody>\n",
       "    <tr>\n",
       "      <th>count</th>\n",
       "      <td>44371</td>\n",
       "      <td>44933</td>\n",
       "      <td>44933</td>\n",
       "      <td>44933</td>\n",
       "      <td>44371</td>\n",
       "      <td>44933</td>\n",
       "    </tr>\n",
       "    <tr>\n",
       "      <th>mean</th>\n",
       "      <td>348</td>\n",
       "      <td>100</td>\n",
       "      <td>1</td>\n",
       "      <td>100</td>\n",
       "      <td>0</td>\n",
       "      <td>500</td>\n",
       "    </tr>\n",
       "    <tr>\n",
       "      <th>std</th>\n",
       "      <td>110</td>\n",
       "      <td>3</td>\n",
       "      <td>0</td>\n",
       "      <td>10</td>\n",
       "      <td>0</td>\n",
       "      <td>288</td>\n",
       "    </tr>\n",
       "    <tr>\n",
       "      <th>min</th>\n",
       "      <td>0</td>\n",
       "      <td>86</td>\n",
       "      <td>0</td>\n",
       "      <td>61</td>\n",
       "      <td>0</td>\n",
       "      <td>0</td>\n",
       "    </tr>\n",
       "    <tr>\n",
       "      <th>25%</th>\n",
       "      <td>270</td>\n",
       "      <td>98</td>\n",
       "      <td>0</td>\n",
       "      <td>93</td>\n",
       "      <td>0</td>\n",
       "      <td>252</td>\n",
       "    </tr>\n",
       "    <tr>\n",
       "      <th>50%</th>\n",
       "      <td>340</td>\n",
       "      <td>100</td>\n",
       "      <td>1</td>\n",
       "      <td>100</td>\n",
       "      <td>0</td>\n",
       "      <td>503</td>\n",
       "    </tr>\n",
       "    <tr>\n",
       "      <th>75%</th>\n",
       "      <td>420</td>\n",
       "      <td>102</td>\n",
       "      <td>1</td>\n",
       "      <td>107</td>\n",
       "      <td>0</td>\n",
       "      <td>747</td>\n",
       "    </tr>\n",
       "    <tr>\n",
       "      <th>max</th>\n",
       "      <td>990</td>\n",
       "      <td>114</td>\n",
       "      <td>1</td>\n",
       "      <td>142</td>\n",
       "      <td>1</td>\n",
       "      <td>1000</td>\n",
       "    </tr>\n",
       "  </tbody>\n",
       "</table>\n",
       "</div>"
      ],
      "text/plain": [
       "       score_3  score_4  score_5  score_6  risk_rate  \\\n",
       "count    44371    44933    44933    44933      44371   \n",
       "mean       348      100        1      100          0   \n",
       "std        110        3        0       10          0   \n",
       "min          0       86        0       61          0   \n",
       "25%        270       98        0       93          0   \n",
       "50%        340      100        1      100          0   \n",
       "75%        420      102        1      107          0   \n",
       "max        990      114        1      142          1   \n",
       "\n",
       "       external_data_provider_fraud_score  \n",
       "count                               44933  \n",
       "mean                                  500  \n",
       "std                                   288  \n",
       "min                                     0  \n",
       "25%                                   252  \n",
       "50%                                   503  \n",
       "75%                                   747  \n",
       "max                                  1000  "
      ]
     },
     "execution_count": 257,
     "metadata": {},
     "output_type": "execute_result"
    }
   ],
   "source": [
    "# ver informações estatísticas\n",
    "df_score.describe()"
   ]
  },
  {
   "cell_type": "markdown",
   "id": "0aec9952",
   "metadata": {},
   "source": [
    "Como os dados estão em padrões diferentes, precisão ser pré-processados posteriormente. Veremos agora tais variáveis num boxplot a fim de visualizar melhor a diferença em escala."
   ]
  },
  {
   "cell_type": "code",
   "execution_count": 269,
   "id": "b67ba1f8",
   "metadata": {},
   "outputs": [
    {
     "data": {
      "image/png": "[encoded data removed]",
      "text/plain": [
       "<Figure size 1200x800 with 1 Axes>"
      ]
     },
     "metadata": {},
     "output_type": "display_data"
    }
   ],
   "source": [
    "fig, ax = plt.subplots(figsize=(12, 8))\n",
    "sns.set_palette(\"PuBuGn_d\")\n",
    "sns.boxplot(df_score, orient=\"h\", ax = ax);\n",
    "ax.set_title(\"Boxplot - Pontuação e Risco de Crédito\");"
   ]
  },
  {
   "cell_type": "markdown",
   "id": "dfb9c11d",
   "metadata": {},
   "source": [
    "### Grupo 3: Empréstimos e histórico financeiro\n",
    "\n",
    "Este grupo inclui variáveis relacionadas aos empréstimos anteriores. O valor do último empréstimo solicitado `last_amount_borrowed` e o número de meses desde que o último empréstimo foi solicitado `last_borrowed_in_months` fornecem informações sobre a situação financeira recente do candidato. O limite de crédito `credit_limit` ajuda a avaliar a solidez financeira e o histórico de crédito do candidato. O número de meses desde que o candidato forneceu uma resposta satisfatória `ok_since` indica o tempo que o candidato vem mantendo um bom histórico de crédito."
   ]
  },
  {
   "cell_type": "code",
   "execution_count": 270,
   "id": "e602bd83",
   "metadata": {
    "scrolled": true
   },
   "outputs": [
    {
     "data": {
      "text/html": [
       "<div>\n",
       "<style scoped>\n",
       "    .dataframe tbody tr th:only-of-type {\n",
       "        vertical-align: middle;\n",
       "    }\n",
       "\n",
       "    .dataframe tbody tr th {\n",
       "        vertical-align: top;\n",
       "    }\n",
       "\n",
       "    .dataframe thead th {\n",
       "        text-align: right;\n",
       "    }\n",
       "</style>\n",
       "<table border=\"1\" class=\"dataframe\">\n",
       "  <thead>\n",
       "    <tr style=\"text-align: right;\">\n",
       "      <th></th>\n",
       "      <th>last_amount_borrowed</th>\n",
       "      <th>last_borrowed_in_months</th>\n",
       "      <th>credit_limit</th>\n",
       "      <th>ok_since</th>\n",
       "    </tr>\n",
       "  </thead>\n",
       "  <tbody>\n",
       "    <tr>\n",
       "      <th>0</th>\n",
       "      <td>25034</td>\n",
       "      <td>36</td>\n",
       "      <td>0</td>\n",
       "      <td>NaN</td>\n",
       "    </tr>\n",
       "    <tr>\n",
       "      <th>1</th>\n",
       "      <td>NaN</td>\n",
       "      <td>NaN</td>\n",
       "      <td>39726</td>\n",
       "      <td>50</td>\n",
       "    </tr>\n",
       "    <tr>\n",
       "      <th>2</th>\n",
       "      <td>7208</td>\n",
       "      <td>36</td>\n",
       "      <td>NaN</td>\n",
       "      <td>NaN</td>\n",
       "    </tr>\n",
       "    <tr>\n",
       "      <th>3</th>\n",
       "      <td>NaN</td>\n",
       "      <td>NaN</td>\n",
       "      <td>54591</td>\n",
       "      <td>NaN</td>\n",
       "    </tr>\n",
       "    <tr>\n",
       "      <th>4</th>\n",
       "      <td>NaN</td>\n",
       "      <td>NaN</td>\n",
       "      <td>NaN</td>\n",
       "      <td>NaN</td>\n",
       "    </tr>\n",
       "  </tbody>\n",
       "</table>\n",
       "</div>"
      ],
      "text/plain": [
       "   last_amount_borrowed  last_borrowed_in_months  credit_limit  ok_since\n",
       "0                 25034                       36             0       NaN\n",
       "1                   NaN                      NaN         39726        50\n",
       "2                  7208                       36           NaN       NaN\n",
       "3                   NaN                      NaN         54591       NaN\n",
       "4                   NaN                      NaN           NaN       NaN"
      ]
     },
     "execution_count": 270,
     "metadata": {},
     "output_type": "execute_result"
    }
   ],
   "source": [
    "df_performance = df[['last_amount_borrowed', 'last_borrowed_in_months', 'credit_limit', 'ok_since']]\n",
    "df_performance.head()"
   ]
  },
  {
   "cell_type": "code",
   "execution_count": 276,
   "id": "60a3ca06",
   "metadata": {
    "scrolled": true
   },
   "outputs": [
    {
     "data": {
      "text/plain": [
       "last_amount_borrowed      67\n",
       "last_borrowed_in_months   67\n",
       "credit_limit              31\n",
       "ok_since                  59\n",
       "dtype: float64"
      ]
     },
     "execution_count": 276,
     "metadata": {},
     "output_type": "execute_result"
    }
   ],
   "source": [
    "df_performance.isna().sum()/df_performance.shape[0] * 100"
   ]
  },
  {
   "cell_type": "code",
   "execution_count": 277,
   "id": "bf0d6842",
   "metadata": {
    "scrolled": true
   },
   "outputs": [
    {
     "data": {
      "text/html": [
       "<div>\n",
       "<style scoped>\n",
       "    .dataframe tbody tr th:only-of-type {\n",
       "        vertical-align: middle;\n",
       "    }\n",
       "\n",
       "    .dataframe tbody tr th {\n",
       "        vertical-align: top;\n",
       "    }\n",
       "\n",
       "    .dataframe thead th {\n",
       "        text-align: right;\n",
       "    }\n",
       "</style>\n",
       "<table border=\"1\" class=\"dataframe\">\n",
       "  <thead>\n",
       "    <tr style=\"text-align: right;\">\n",
       "      <th></th>\n",
       "      <th>last_amount_borrowed</th>\n",
       "      <th>last_borrowed_in_months</th>\n",
       "      <th>credit_limit</th>\n",
       "      <th>ok_since</th>\n",
       "    </tr>\n",
       "  </thead>\n",
       "  <tbody>\n",
       "    <tr>\n",
       "      <th>count</th>\n",
       "      <td>15019</td>\n",
       "      <td>15019</td>\n",
       "      <td>31153</td>\n",
       "      <td>18428</td>\n",
       "    </tr>\n",
       "    <tr>\n",
       "      <th>mean</th>\n",
       "      <td>13782</td>\n",
       "      <td>42</td>\n",
       "      <td>34379</td>\n",
       "      <td>35</td>\n",
       "    </tr>\n",
       "    <tr>\n",
       "      <th>std</th>\n",
       "      <td>8079</td>\n",
       "      <td>10</td>\n",
       "      <td>36592</td>\n",
       "      <td>22</td>\n",
       "    </tr>\n",
       "    <tr>\n",
       "      <th>min</th>\n",
       "      <td>1005</td>\n",
       "      <td>36</td>\n",
       "      <td>0</td>\n",
       "      <td>0</td>\n",
       "    </tr>\n",
       "    <tr>\n",
       "      <th>25%</th>\n",
       "      <td>7519</td>\n",
       "      <td>36</td>\n",
       "      <td>10000</td>\n",
       "      <td>17</td>\n",
       "    </tr>\n",
       "    <tr>\n",
       "      <th>50%</th>\n",
       "      <td>12023</td>\n",
       "      <td>36</td>\n",
       "      <td>25630</td>\n",
       "      <td>32</td>\n",
       "    </tr>\n",
       "    <tr>\n",
       "      <th>75%</th>\n",
       "      <td>19220</td>\n",
       "      <td>36</td>\n",
       "      <td>47085</td>\n",
       "      <td>50</td>\n",
       "    </tr>\n",
       "    <tr>\n",
       "      <th>max</th>\n",
       "      <td>35060</td>\n",
       "      <td>60</td>\n",
       "      <td>448269</td>\n",
       "      <td>141</td>\n",
       "    </tr>\n",
       "  </tbody>\n",
       "</table>\n",
       "</div>"
      ],
      "text/plain": [
       "       last_amount_borrowed  last_borrowed_in_months  credit_limit  ok_since\n",
       "count                 15019                    15019         31153     18428\n",
       "mean                  13782                       42         34379        35\n",
       "std                    8079                       10         36592        22\n",
       "min                    1005                       36             0         0\n",
       "25%                    7519                       36         10000        17\n",
       "50%                   12023                       36         25630        32\n",
       "75%                   19220                       36         47085        50\n",
       "max                   35060                       60        448269       141"
      ]
     },
     "execution_count": 277,
     "metadata": {},
     "output_type": "execute_result"
    }
   ],
   "source": [
    "df_performance.describe()"
   ]
  },
  {
   "cell_type": "code",
   "execution_count": 278,
   "id": "e7be9da6",
   "metadata": {},
   "outputs": [
    {
     "data": {
      "image/png": "[encoded data removed]",
      "text/plain": [
       "<Figure size 1200x800 with 1 Axes>"
      ]
     },
     "metadata": {},
     "output_type": "display_data"
    }
   ],
   "source": [
    "fig, ax = plt.subplots(figsize=(12, 8))\n",
    "sns.set_palette(\"PuBuGn_d\")\n",
    "sns.boxplot(df_performance, orient=\"h\", ax = ax);\n",
    "ax.set_title(\"Boxplot - Empréstimos e histórico financeiro\");"
   ]
  },
  {
   "cell_type": "markdown",
   "id": "da70d196",
   "metadata": {},
   "source": [
    "Verificações de crédito\n",
    "Este grupo abrange variáveis relacionadas às verificações de crédito realizadas para o candidato. O número de verificações de crédito nos últimos dois anos (external_data_provider_credit_checks_last_2_year), no último mês (external_data_provider_credit_checks_last_month) e no último ano (external_data_provider_credit_checks_last_year) fornece uma visão geral da frequência com que o crédito do candidato foi verificado. A variável que indica se o endereço de e-mail do candidato já foi visto antes (external_data_provider_email_seen_before) pode ajudar a identificar possíveis fraudes ou comportamentos de risco."
   ]
  },
  {
   "cell_type": "markdown",
   "id": "b50e6714",
   "metadata": {},
   "source": [
    "Variáveis-alvo:\n",
    "Este grupo contém as duas variáveis que servem como objetivos principais na análise de dados e na modelagem preditiva. A variável \"target_default\" indica se o candidato é um bom pagador (0) ou se ele entrou em inadimplência (1), enquanto a variável \"target_fraud\" indica se o candidato é fraudulento (1) ou não (0). Essas variáveis são essenciais para desenvolver e avaliar modelos que preveem a probabilidade de inadimplência ou fraude por parte dos candidatos. A precisão dessas previsões pode ser útil para instituições financeiras ao tomar decisões sobre a concessão de crédito e a identificação de possíveis riscos."
   ]
  },
  {
   "cell_type": "code",
   "execution_count": null,
   "id": "d6f277e4",
   "metadata": {},
   "outputs": [],
   "source": []
  }
 ],
 "metadata": {
  "kernelspec": {
   "display_name": "Python 3 (ipykernel)",
   "language": "python",
   "name": "python3"
  },
  "language_info": {
   "codemirror_mode": {
    "name": "ipython",
    "version": 3
   },
   "file_extension": ".py",
   "mimetype": "text/x-python",
   "name": "python",
   "nbconvert_exporter": "python",
   "pygments_lexer": "ipython3",
   "version": "3.10.11"
  }
 },
 "nbformat": 4,
 "nbformat_minor": 5
}
