{
 "cells": [
  {
   "cell_type": "markdown",
   "id": "05b3190a",
   "metadata": {},
   "source": [
    "# Churn Prediction\n",
    "\n",
    "**Churn Prediction**, ou previsão de rotatividade de clientes, é uma técnica que utiliza **análises de dados para prever quais clientes têm maior probabilidade de cancelar um serviço** ou deixar de comprar um produto. Essa técnica é amplamente utilizada por empresas de diversos setores, como telecomunicações, varejo, serviços financeiros e tecnologia, para evitar a perda de clientes e melhorar a satisfação e fidelização dos mesmos.\n",
    "A previsão de churn é importante porque a **rotatividade** de clientes pode ser **prejudicial** para uma empresa, podendo resultar em **perda de receitas**, **redução da participação de mercado** e **aumento dos custos de aquisição de clientes**. Além disso, a perda de clientes pode ser um sinal de **problemas em processos de atendimento** ao cliente ou produtos, que podem ser **corrigidos** para **melhorar a qualidade geral da empresa**.\n",
    "\n",
    "<p align = \"center\">\n",
    "<img src=\"Arquivos/churn.jpg\" width=80%>\n",
    "</p>\n",
    "\n",
    "Ao prever quais clientes são mais propensos a cancelar um serviço ou deixar de comprar um produto, as empresas podem tomar **medidas preventivas para reduzir a rotatividade**. Isso pode incluir a criação de campanhas de retenção, melhoria da experiência do cliente e oferta de incentivos para permanecerem clientes.\n",
    "**O objetivo do projeto é prever o churn utilizando avaliações estatísticas e algoritmos de Machine Learning.** Com isso, visamos **ajudar a empresa a entender melhor seus clientes e suas necessidades**, **identificar problemas** em seus processos de atendimento ao cliente ou produtos e **implementar melhorias significativas** em toda a empresa. Isso pode levar a uma **melhoria da experiência do cliente** e **aumentar a fidelização** e **satisfação do cliente**, resultando em uma **redução da rotatividade** e um **aumento das receitas**.\n",
    "\n"
   ]
  },
  {
   "cell_type": "markdown",
   "id": "14eea281",
   "metadata": {},
   "source": [
    "## Aquisição dos Dados\n",
    "\n",
    "Os dados utilizados neste projeto foram originalmente disponibilizados na [plataforma de ensino da IBM Developer](https://developer.ibm.com/technologies/data-science/patterns/predict-customer-churn-using-watson-studio-and-jupyter-notebooks/#), e tratam de um problema típico de uma companhia de telecomunicações. O *dataset* completo pode ser encontrado [neste link](https://raw.githubusercontent.com/carlosfab/dsnp2/master/datasets/WA_Fn-UseC_-Telco-Customer-Churn.csv).\n",
    "\n",
    "Apesar de não haver informações explícitas disponíves, os nomes das colunas permitem um entendimento a respeito do problema."
   ]
  },
  {
   "cell_type": "code",
   "execution_count": 160,
   "id": "4a85d6e9",
   "metadata": {},
   "outputs": [],
   "source": [
    "# Importação de bibliotecas básicas\n",
    "import pandas as pd\n",
    "import numpy as np\n",
    "import matplotlib.pyplot as plt\n",
    "import seaborn as sns\n",
    "import warnings\n",
    "warnings.filterwarnings('ignore')\n",
    "\n",
    "# Importação de bibliotecas para machine learning e pré-processamento\n",
    "from sklearn.datasets import make_classification\n",
    "from sklearn.model_selection import cross_val_score, GridSearchCV, train_test_split, RepeatedKFold\n",
    "from sklearn.preprocessing import LabelEncoder, StandardScaler\n",
    "\n",
    "# Importação de bibliotecas para visualização de resultados\n",
    "import scikitplot as skplt\n",
    "\n",
    "# Importação de bibliotecas para classificadores\n",
    "from sklearn.linear_model import LogisticRegression\n",
    "from sklearn.neighbors import KNeighborsClassifier\n",
    "from sklearn.ensemble import RandomForestClassifier, GradientBoostingClassifier, AdaBoostClassifier\n",
    "from sklearn.svm import SVC\n",
    "from sklearn.neural_network import MLPClassifier\n",
    "from sklearn.naive_bayes import GaussianNB\n",
    "from xgboost import XGBClassifier\n",
    "\n",
    "# Importação de bibliotecas para balanceamento de classes\n",
    "from collections import Counter\n",
    "from imblearn.under_sampling import RandomUnderSampler\n",
    "\n",
    "# Importação de bibliotecas para métricas de avaliação\n",
    "from sklearn.metrics import classification_report, roc_auc_score, roc_curve, accuracy_score, recall_score, precision_score"
   ]
  },
  {
   "cell_type": "code",
   "execution_count": 161,
   "id": "e6de2b46",
   "metadata": {
    "scrolled": true
   },
   "outputs": [],
   "source": [
    "# importar os dados\n",
    "DATA_PATH = \"https://raw.githubusercontent.com/carlosfab/dsnp2/master/datasets/WA_Fn-UseC_-Telco-Customer-Churn.csv\"\n",
    "df = pd.read_csv(DATA_PATH)"
   ]
  },
  {
   "cell_type": "markdown",
   "id": "56b29aac",
   "metadata": {},
   "source": [
    "## Análise dos Dados\n",
    "\n",
    "Esta etapa tem por objetivo permitir um entendimento de como os dados estão estruturados.\n",
    "\n",
    "**Dicionário das variáveis**\n",
    "* `customerID`: identificador único do cliente\n",
    "* `gender`: gênero do cliente (Male/Female)\n",
    "* `SeniorCitizen`: variável binária que indica se o cliente é idoso ou aposentado (1) ou não (0)\n",
    "* `Partner`: variável binária que indica se o cliente tem um parceiro (Yes) ou não (No)\n",
    "* `Dependents`: variável binária que indica se o cliente tem dependentes (Yes) ou não (No)\n",
    "* `tenure`: quantidade de meses que o cliente tem sido um assinante dos serviços da empresa\n",
    "* `PhoneService`: variável binária que indica se o cliente tem serviço de telefone (Yes) ou não (No)\n",
    "* `MultipleLines`: variável que indica se o cliente tem várias linhas telefônicas (Yes), uma única linha (No) ou nenhum serviço de telefone (No phone service)\n",
    "* `InternetService`: variável que indica se o cliente tem serviço de internet com fibra óptica (Fiber optic), com a tecnologia DSL (DSL) ou sem serviço de internet (No)\n",
    "* `OnlineSecurity`: variável que indica se o cliente tem segurança online (Yes), sem serviço de internet (No internet service) ou sem serviço de segurança (No)\n",
    "* `OnlineBackup`: variável que indica se o cliente tem backup online (Yes), sem backup (No) ou sem serviço de internet (No internet service)\n",
    "* `DeviceProtection`: variável que indica se o cliente tem proteção de dispositivo (Yes), sem proteção (No) ou sem serviço de internet (No internet service)\n",
    "* `TechSupport`: variável que indica se o cliente tem suporte técnico (Yes), sem suporte (No) ou sem serviço de internet (No internet service)\n",
    "* `StreamingTV`: variável que indica se o cliente tem serviço de streaming de TV (Yes), sem serviço de streaming de TV (No) ou sem serviço de internet (No internet service)\n",
    "* `StreamingMovies`: variável que indica se o cliente tem serviço de streaming de filmes (Yes), sem serviço de streaming de filmes (No) ou sem serviço de internet (No internet service)\n",
    "* `Contract`: variável que indica o tipo de contrato que o cliente tem com a empresa (Mensal, anual ou bianual)\n",
    "* `PaperlessBilling`: variável binária que indica se o cliente optou por fatura eletrônica (Yes) ou não (No)\n",
    "* `PaymentMethod`: variável que indica o método de pagamento que o cliente usa (Transferência bancária automática, Cartão de crédito automático, Cheque eletrônico ou Cheque enviado)\n",
    "* `MonthlyCharges`: valor mensal cobrado ao cliente\n",
    "* `TotalCharges`: valor total cobrado do cliente durante o tempo que foi assinante\n",
    "* `Churn`: variável binária que indica se o cliente cancelou o serviço (Yes) ou não (No)"
   ]
  },
  {
   "cell_type": "markdown",
   "id": "1a9c4ca7",
   "metadata": {},
   "source": [
    "## Análise Exploratória dos Dados\n",
    "\n",
    "Na análise exploratória de dados será efetuada uma explanação inicial das variáveis contidas na dataset, e entenderemos dados referentes a:\n",
    "\n",
    "* *Contexto geral das variáveis*\n",
    "* *Porcentagem de itens nulos*\n",
    "* *Balanceamento do dataset*\n",
    "* *Cancelamento em relação ao gênero*\n",
    "* *Cancelamento em relação ao valor pago mensalmente*\n",
    "* *Boxplot para variáveis numéricas*\n"
   ]
  },
  {
   "cell_type": "markdown",
   "id": "37320311",
   "metadata": {},
   "source": [
    "Primeiramente, observaremos como estão dispostas as cinco primeiras entradas do dataset para ter uma visão ampla da estrutura de dados."
   ]
  },
  {
   "cell_type": "code",
   "execution_count": 162,
   "id": "a3632d2f",
   "metadata": {},
   "outputs": [
    {
     "data": {
      "text/html": [
       "<div>\n",
       "<style scoped>\n",
       "    .dataframe tbody tr th:only-of-type {\n",
       "        vertical-align: middle;\n",
       "    }\n",
       "\n",
       "    .dataframe tbody tr th {\n",
       "        vertical-align: top;\n",
       "    }\n",
       "\n",
       "    .dataframe thead th {\n",
       "        text-align: right;\n",
       "    }\n",
       "</style>\n",
       "<table border=\"1\" class=\"dataframe\">\n",
       "  <thead>\n",
       "    <tr style=\"text-align: right;\">\n",
       "      <th></th>\n",
       "      <th>customerID</th>\n",
       "      <th>gender</th>\n",
       "      <th>SeniorCitizen</th>\n",
       "      <th>Partner</th>\n",
       "      <th>Dependents</th>\n",
       "      <th>tenure</th>\n",
       "      <th>PhoneService</th>\n",
       "      <th>MultipleLines</th>\n",
       "      <th>InternetService</th>\n",
       "      <th>OnlineSecurity</th>\n",
       "      <th>...</th>\n",
       "      <th>DeviceProtection</th>\n",
       "      <th>TechSupport</th>\n",
       "      <th>StreamingTV</th>\n",
       "      <th>StreamingMovies</th>\n",
       "      <th>Contract</th>\n",
       "      <th>PaperlessBilling</th>\n",
       "      <th>PaymentMethod</th>\n",
       "      <th>MonthlyCharges</th>\n",
       "      <th>TotalCharges</th>\n",
       "      <th>Churn</th>\n",
       "    </tr>\n",
       "  </thead>\n",
       "  <tbody>\n",
       "    <tr>\n",
       "      <th>0</th>\n",
       "      <td>7590-VHVEG</td>\n",
       "      <td>Female</td>\n",
       "      <td>0</td>\n",
       "      <td>Yes</td>\n",
       "      <td>No</td>\n",
       "      <td>1</td>\n",
       "      <td>No</td>\n",
       "      <td>No phone service</td>\n",
       "      <td>DSL</td>\n",
       "      <td>No</td>\n",
       "      <td>...</td>\n",
       "      <td>No</td>\n",
       "      <td>No</td>\n",
       "      <td>No</td>\n",
       "      <td>No</td>\n",
       "      <td>Month-to-month</td>\n",
       "      <td>Yes</td>\n",
       "      <td>Electronic check</td>\n",
       "      <td>29.85</td>\n",
       "      <td>29.85</td>\n",
       "      <td>No</td>\n",
       "    </tr>\n",
       "    <tr>\n",
       "      <th>1</th>\n",
       "      <td>5575-GNVDE</td>\n",
       "      <td>Male</td>\n",
       "      <td>0</td>\n",
       "      <td>No</td>\n",
       "      <td>No</td>\n",
       "      <td>34</td>\n",
       "      <td>Yes</td>\n",
       "      <td>No</td>\n",
       "      <td>DSL</td>\n",
       "      <td>Yes</td>\n",
       "      <td>...</td>\n",
       "      <td>Yes</td>\n",
       "      <td>No</td>\n",
       "      <td>No</td>\n",
       "      <td>No</td>\n",
       "      <td>One year</td>\n",
       "      <td>No</td>\n",
       "      <td>Mailed check</td>\n",
       "      <td>56.95</td>\n",
       "      <td>1889.5</td>\n",
       "      <td>No</td>\n",
       "    </tr>\n",
       "    <tr>\n",
       "      <th>2</th>\n",
       "      <td>3668-QPYBK</td>\n",
       "      <td>Male</td>\n",
       "      <td>0</td>\n",
       "      <td>No</td>\n",
       "      <td>No</td>\n",
       "      <td>2</td>\n",
       "      <td>Yes</td>\n",
       "      <td>No</td>\n",
       "      <td>DSL</td>\n",
       "      <td>Yes</td>\n",
       "      <td>...</td>\n",
       "      <td>No</td>\n",
       "      <td>No</td>\n",
       "      <td>No</td>\n",
       "      <td>No</td>\n",
       "      <td>Month-to-month</td>\n",
       "      <td>Yes</td>\n",
       "      <td>Mailed check</td>\n",
       "      <td>53.85</td>\n",
       "      <td>108.15</td>\n",
       "      <td>Yes</td>\n",
       "    </tr>\n",
       "    <tr>\n",
       "      <th>3</th>\n",
       "      <td>7795-CFOCW</td>\n",
       "      <td>Male</td>\n",
       "      <td>0</td>\n",
       "      <td>No</td>\n",
       "      <td>No</td>\n",
       "      <td>45</td>\n",
       "      <td>No</td>\n",
       "      <td>No phone service</td>\n",
       "      <td>DSL</td>\n",
       "      <td>Yes</td>\n",
       "      <td>...</td>\n",
       "      <td>Yes</td>\n",
       "      <td>Yes</td>\n",
       "      <td>No</td>\n",
       "      <td>No</td>\n",
       "      <td>One year</td>\n",
       "      <td>No</td>\n",
       "      <td>Bank transfer (automatic)</td>\n",
       "      <td>42.30</td>\n",
       "      <td>1840.75</td>\n",
       "      <td>No</td>\n",
       "    </tr>\n",
       "    <tr>\n",
       "      <th>4</th>\n",
       "      <td>9237-HQITU</td>\n",
       "      <td>Female</td>\n",
       "      <td>0</td>\n",
       "      <td>No</td>\n",
       "      <td>No</td>\n",
       "      <td>2</td>\n",
       "      <td>Yes</td>\n",
       "      <td>No</td>\n",
       "      <td>Fiber optic</td>\n",
       "      <td>No</td>\n",
       "      <td>...</td>\n",
       "      <td>No</td>\n",
       "      <td>No</td>\n",
       "      <td>No</td>\n",
       "      <td>No</td>\n",
       "      <td>Month-to-month</td>\n",
       "      <td>Yes</td>\n",
       "      <td>Electronic check</td>\n",
       "      <td>70.70</td>\n",
       "      <td>151.65</td>\n",
       "      <td>Yes</td>\n",
       "    </tr>\n",
       "  </tbody>\n",
       "</table>\n",
       "<p>5 rows × 21 columns</p>\n",
       "</div>"
      ],
      "text/plain": [
       "   customerID  gender  SeniorCitizen Partner Dependents  tenure PhoneService  \\\n",
       "0  7590-VHVEG  Female              0     Yes         No       1           No   \n",
       "1  5575-GNVDE    Male              0      No         No      34          Yes   \n",
       "2  3668-QPYBK    Male              0      No         No       2          Yes   \n",
       "3  7795-CFOCW    Male              0      No         No      45           No   \n",
       "4  9237-HQITU  Female              0      No         No       2          Yes   \n",
       "\n",
       "      MultipleLines InternetService OnlineSecurity  ... DeviceProtection  \\\n",
       "0  No phone service             DSL             No  ...               No   \n",
       "1                No             DSL            Yes  ...              Yes   \n",
       "2                No             DSL            Yes  ...               No   \n",
       "3  No phone service             DSL            Yes  ...              Yes   \n",
       "4                No     Fiber optic             No  ...               No   \n",
       "\n",
       "  TechSupport StreamingTV StreamingMovies        Contract PaperlessBilling  \\\n",
       "0          No          No              No  Month-to-month              Yes   \n",
       "1          No          No              No        One year               No   \n",
       "2          No          No              No  Month-to-month              Yes   \n",
       "3         Yes          No              No        One year               No   \n",
       "4          No          No              No  Month-to-month              Yes   \n",
       "\n",
       "               PaymentMethod MonthlyCharges  TotalCharges Churn  \n",
       "0           Electronic check          29.85         29.85    No  \n",
       "1               Mailed check          56.95        1889.5    No  \n",
       "2               Mailed check          53.85        108.15   Yes  \n",
       "3  Bank transfer (automatic)          42.30       1840.75    No  \n",
       "4           Electronic check          70.70        151.65   Yes  \n",
       "\n",
       "[5 rows x 21 columns]"
      ]
     },
     "execution_count": 162,
     "metadata": {},
     "output_type": "execute_result"
    }
   ],
   "source": [
    "# Ver as 5 primeiras entradas\n",
    "df.head()"
   ]
  },
  {
   "cell_type": "code",
   "execution_count": 163,
   "id": "625eb249",
   "metadata": {},
   "outputs": [
    {
     "name": "stdout",
     "output_type": "stream",
     "text": [
      "Entradas:  7043\n",
      "Variáveis:  21\n"
     ]
    }
   ],
   "source": [
    "# Visualizar o tamanho do dataframe\n",
    "print(\"Entradas: \", df.shape[0])\n",
    "print(\"Variáveis: \", df.shape[1])"
   ]
  },
  {
   "cell_type": "code",
   "execution_count": 164,
   "id": "3b27d937",
   "metadata": {
    "scrolled": true
   },
   "outputs": [
    {
     "data": {
      "text/plain": [
       "Index(['customerID', 'gender', 'SeniorCitizen', 'Partner', 'Dependents',\n",
       "       'tenure', 'PhoneService', 'MultipleLines', 'InternetService',\n",
       "       'OnlineSecurity', 'OnlineBackup', 'DeviceProtection', 'TechSupport',\n",
       "       'StreamingTV', 'StreamingMovies', 'Contract', 'PaperlessBilling',\n",
       "       'PaymentMethod', 'MonthlyCharges', 'TotalCharges', 'Churn'],\n",
       "      dtype='object')"
      ]
     },
     "execution_count": 164,
     "metadata": {},
     "output_type": "execute_result"
    }
   ],
   "source": [
    "# Extrair o nome das colunas\n",
    "df.columns"
   ]
  },
  {
   "cell_type": "code",
   "execution_count": 165,
   "id": "1c173258",
   "metadata": {
    "scrolled": false
   },
   "outputs": [
    {
     "data": {
      "text/plain": [
       "customerID           object\n",
       "gender               object\n",
       "SeniorCitizen         int64\n",
       "Partner              object\n",
       "Dependents           object\n",
       "tenure                int64\n",
       "PhoneService         object\n",
       "MultipleLines        object\n",
       "InternetService      object\n",
       "OnlineSecurity       object\n",
       "OnlineBackup         object\n",
       "DeviceProtection     object\n",
       "TechSupport          object\n",
       "StreamingTV          object\n",
       "StreamingMovies      object\n",
       "Contract             object\n",
       "PaperlessBilling     object\n",
       "PaymentMethod        object\n",
       "MonthlyCharges      float64\n",
       "TotalCharges         object\n",
       "Churn                object\n",
       "dtype: object"
      ]
     },
     "execution_count": 165,
     "metadata": {},
     "output_type": "execute_result"
    }
   ],
   "source": [
    "# Extrair o tipo das variáveis\n",
    "df.dtypes"
   ]
  },
  {
   "cell_type": "markdown",
   "id": "d821b5d3",
   "metadata": {},
   "source": [
    "Pode-se perceber que a variável `TotalCharges`, que representa o **valor total** que foi cobrado ao cliente, está como object, mas deveria ser **float**. Não é possível fazer a conversão imediata pois há uma string ' ' que representa a ausência de valores. Portanto, a mudança será feita por uma função."
   ]
  },
  {
   "cell_type": "code",
   "execution_count": 166,
   "id": "f5014296",
   "metadata": {},
   "outputs": [],
   "source": [
    "def converter_str_float(entrada):\n",
    "    \"\"\"\n",
    "    Converte um objeto do tipo string em float.\n",
    "\n",
    "    # Arguments\n",
    "        entrada: string, string da coluna TotalCharges.\n",
    "\n",
    "    # Returns\n",
    "        Valor convertido em float, caso permita a conversão.\n",
    "        NaN, caso o valor não seja apropriado.\n",
    "    \"\"\"\n",
    "\n",
    "    try:\n",
    "        return float(entrada)\n",
    "    except ValueError:\n",
    "        return np.nan"
   ]
  },
  {
   "cell_type": "code",
   "execution_count": 167,
   "id": "6b9d854b",
   "metadata": {},
   "outputs": [],
   "source": [
    "df.TotalCharges = df.TotalCharges.map(converter_str_float)"
   ]
  },
  {
   "cell_type": "code",
   "execution_count": 168,
   "id": "aa9e9a12",
   "metadata": {
    "scrolled": true
   },
   "outputs": [
    {
     "data": {
      "text/plain": [
       "11"
      ]
     },
     "execution_count": 168,
     "metadata": {},
     "output_type": "execute_result"
    }
   ],
   "source": [
    "df.TotalCharges.isna().sum()"
   ]
  },
  {
   "cell_type": "markdown",
   "id": "348a9fde",
   "metadata": {},
   "source": [
    "A coluna foi convertida, onde 11 valores estavam nulos, irei preencher os mesmos com a mediana e por fim, extrair o tipo da variável e a porcentagem de itens nulos."
   ]
  },
  {
   "cell_type": "code",
   "execution_count": 169,
   "id": "9a3a3b50",
   "metadata": {},
   "outputs": [],
   "source": [
    "df.TotalCharges.fillna(df.TotalCharges.median(), inplace = True)"
   ]
  },
  {
   "cell_type": "code",
   "execution_count": 170,
   "id": "12cb0c40",
   "metadata": {
    "scrolled": false
   },
   "outputs": [
    {
     "data": {
      "text/plain": [
       "customerID           object\n",
       "gender               object\n",
       "SeniorCitizen         int64\n",
       "Partner              object\n",
       "Dependents           object\n",
       "tenure                int64\n",
       "PhoneService         object\n",
       "MultipleLines        object\n",
       "InternetService      object\n",
       "OnlineSecurity       object\n",
       "OnlineBackup         object\n",
       "DeviceProtection     object\n",
       "TechSupport          object\n",
       "StreamingTV          object\n",
       "StreamingMovies      object\n",
       "Contract             object\n",
       "PaperlessBilling     object\n",
       "PaymentMethod        object\n",
       "MonthlyCharges      float64\n",
       "TotalCharges        float64\n",
       "Churn                object\n",
       "dtype: object"
      ]
     },
     "execution_count": 170,
     "metadata": {},
     "output_type": "execute_result"
    }
   ],
   "source": [
    "# Extrair o tipo das variáveis\n",
    "df.dtypes"
   ]
  },
  {
   "cell_type": "markdown",
   "id": "11302928",
   "metadata": {},
   "source": [
    "Podemos perceber que a coluna `TotalCharges` agora é de fato um float."
   ]
  },
  {
   "cell_type": "code",
   "execution_count": 171,
   "id": "c0207422",
   "metadata": {
    "scrolled": true
   },
   "outputs": [
    {
     "data": {
      "text/plain": [
       "customerID          0.0\n",
       "MonthlyCharges      0.0\n",
       "PaymentMethod       0.0\n",
       "PaperlessBilling    0.0\n",
       "Contract            0.0\n",
       "StreamingMovies     0.0\n",
       "StreamingTV         0.0\n",
       "TechSupport         0.0\n",
       "DeviceProtection    0.0\n",
       "TotalCharges        0.0\n",
       "OnlineBackup        0.0\n",
       "InternetService     0.0\n",
       "MultipleLines       0.0\n",
       "PhoneService        0.0\n",
       "tenure              0.0\n",
       "Dependents          0.0\n",
       "Partner             0.0\n",
       "SeniorCitizen       0.0\n",
       "gender              0.0\n",
       "OnlineSecurity      0.0\n",
       "Churn               0.0\n",
       "dtype: float64"
      ]
     },
     "execution_count": 171,
     "metadata": {},
     "output_type": "execute_result"
    }
   ],
   "source": [
    "# Porcentagem de itens nulos\n",
    "round((df.isnull().sum()/df.shape[0]).sort_values(ascending = True) * 100,2)"
   ]
  },
  {
   "cell_type": "markdown",
   "id": "c71903f5",
   "metadata": {},
   "source": [
    "A porcentagem de itens nulos é 0% para todas as colunas."
   ]
  },
  {
   "cell_type": "code",
   "execution_count": 172,
   "id": "961eb290",
   "metadata": {},
   "outputs": [
    {
     "data": {
      "text/plain": [
       "No     5174\n",
       "Yes    1869\n",
       "Name: Churn, dtype: int64"
      ]
     },
     "execution_count": 172,
     "metadata": {},
     "output_type": "execute_result"
    }
   ],
   "source": [
    "# Quantidade de dados distribuidos por classes\n",
    "df.Churn.value_counts()"
   ]
  },
  {
   "cell_type": "code",
   "execution_count": 173,
   "id": "a3d3ee64",
   "metadata": {},
   "outputs": [
    {
     "data": {
      "text/plain": [
       "No     73.463\n",
       "Yes    26.537\n",
       "Name: Churn, dtype: float64"
      ]
     },
     "execution_count": 173,
     "metadata": {},
     "output_type": "execute_result"
    }
   ],
   "source": [
    "# Porcentagem de dados distribuidos por classes\n",
    "round(df.Churn.value_counts()/df.shape[0] * 100,4)"
   ]
  },
  {
   "cell_type": "code",
   "execution_count": 174,
   "id": "455b95b7",
   "metadata": {},
   "outputs": [
    {
     "data": {
      "image/png": "[encoded data removed]",
      "text/plain": [
       "<Figure size 800x400 with 1 Axes>"
      ]
     },
     "metadata": {},
     "output_type": "display_data"
    }
   ],
   "source": [
    "# Plotar um gráfico de barras para ver o balanceamento do *dataset*\n",
    "fig, ax = plt.subplots(figsize=(8, 4))\n",
    "sns.set_style(\"darkgrid\", {\"grid.color\": \".6\", \"grid.linestyle\": \":\"})\n",
    "sns.set_palette(sns.color_palette(\"Spectral\"))\n",
    "count = df['Churn'].value_counts()\n",
    "sns.countplot(x='Churn', data=df)\n",
    "ax.set_xlabel('Churn')\n",
    "ax.set_ylabel('Quantidade')\n",
    "ax.set_title('Quantidade de Cancelamento');\n",
    "plt.tight_layout()"
   ]
  },
  {
   "cell_type": "markdown",
   "id": "c4ea3a9c",
   "metadata": {},
   "source": [
    "O dataset é  **desbalanceado**, com 26,53% de churn. Uma consequência de ter dados desbalanceados é um **modelo enviesado**, que privilegia a classe maioritária. Logo, é necessário um **balanceamento** a fim de construir um modelo eficaz ao problema. Verificaremos agora se há um **balanceamento entre os gêneros** e se há relação entre **gênero e cancelamento**.\n"
   ]
  },
  {
   "cell_type": "code",
   "execution_count": 175,
   "id": "ebf5d6dd",
   "metadata": {},
   "outputs": [
    {
     "data": {
      "text/plain": [
       "Male      3555\n",
       "Female    3488\n",
       "Name: gender, dtype: int64"
      ]
     },
     "execution_count": 175,
     "metadata": {},
     "output_type": "execute_result"
    }
   ],
   "source": [
    "# Quantidade de dados distribuidos por classes\n",
    "df.gender.value_counts()"
   ]
  },
  {
   "cell_type": "code",
   "execution_count": 176,
   "id": "707baca1",
   "metadata": {
    "scrolled": true
   },
   "outputs": [
    {
     "data": {
      "text/plain": [
       "Male      50.4756\n",
       "Female    49.5244\n",
       "Name: gender, dtype: float64"
      ]
     },
     "execution_count": 176,
     "metadata": {},
     "output_type": "execute_result"
    }
   ],
   "source": [
    "# Porcentagem de dados distribuidos por classes\n",
    "round(df.gender.value_counts()/df.shape[0] * 100,4)"
   ]
  },
  {
   "cell_type": "code",
   "execution_count": 177,
   "id": "be927ad9",
   "metadata": {},
   "outputs": [
    {
     "data": {
      "text/plain": [
       "Female    26.920872\n",
       "Male      26.160338\n",
       "Name: gender, dtype: float64"
      ]
     },
     "execution_count": 177,
     "metadata": {},
     "output_type": "execute_result"
    }
   ],
   "source": [
    "# Taxa de cancelamento por gênero\n",
    "df['gender'].loc[df.Churn == 'Yes'].value_counts()/df.gender.value_counts() * 100"
   ]
  },
  {
   "cell_type": "code",
   "execution_count": 178,
   "id": "35b06279",
   "metadata": {
    "scrolled": false
   },
   "outputs": [
    {
     "data": {
      "image/png": "[encoded data removed]",
      "text/plain": [
       "<Figure size 800x400 with 1 Axes>"
      ]
     },
     "metadata": {},
     "output_type": "display_data"
    }
   ],
   "source": [
    "# Plotar um gráfico de barras para ver a quantidade de canelamento por gênero\n",
    "fig, ax = plt.subplots(figsize=(8, 4))\n",
    "sns.set_style(\"darkgrid\", {\"grid.color\": \".6\", \"grid.linestyle\": \":\"})\n",
    "sns.set_palette(sns.color_palette(\"Spectral\"))\n",
    "count = df['gender'].loc[df.Churn == 'Yes'].value_counts()\n",
    "sns.countplot(x='gender', data=df)\n",
    "ax.set_xlabel('gender')\n",
    "ax.set_ylabel('Quantidade')\n",
    "ax.set_title('Quantidade de Cancelamento por Gênero');\n",
    "plt.tight_layout()"
   ]
  },
  {
   "cell_type": "markdown",
   "id": "b309b553",
   "metadata": {},
   "source": [
    "Há medidas bastante semelhante, a quantidade de mulheres e homens está **balanceada**, e não há mudança significativa na taxa de cancelamento observando o gênero do cliente. Verificaremos agora se há uma relação entre o tipo de **contrato** e a quantidade de cancelamento."
   ]
  },
  {
   "cell_type": "code",
   "execution_count": 179,
   "id": "4202318e",
   "metadata": {
    "scrolled": true
   },
   "outputs": [
    {
     "data": {
      "text/plain": [
       "Month-to-month    42.709677\n",
       "One year          11.269518\n",
       "Two year           2.831858\n",
       "Name: Contract, dtype: float64"
      ]
     },
     "execution_count": 179,
     "metadata": {},
     "output_type": "execute_result"
    }
   ],
   "source": [
    "df.Contract.loc[df.Churn == 'Yes'].value_counts()/df.Contract.value_counts() * 100"
   ]
  },
  {
   "cell_type": "code",
   "execution_count": 180,
   "id": "3eb1322e",
   "metadata": {},
   "outputs": [
    {
     "data": {
      "image/png": "[encoded data removed]",
      "text/plain": [
       "<Figure size 800x500 with 1 Axes>"
      ]
     },
     "metadata": {},
     "output_type": "display_data"
    }
   ],
   "source": [
    "# plotar gráficos para as informações obtidas\n",
    "fig, ax = plt.subplots(1, 1, figsize=(8,5))\n",
    "\n",
    "\n",
    "# define informações iniciais referentes à coloração\n",
    "sns.set(style=\"whitegrid\", color_codes=True)\n",
    "sns.set_palette(sns.color_palette(\"Spectral\"))\n",
    "\n",
    "\n",
    "# gráfico da média de preço por distrito\n",
    "ax = sns.barplot(x=list(df.Contract.value_counts().values), y=list(df.Contract.value_counts().index), order= df.Contract.value_counts().sort_values(ascending = False).index, ax = ax)\n",
    "ax.set_xlabel('Quantidade de Cancelamento')\n",
    "ax.set_ylabel('Contrato')\n",
    "ax.set_title(\"Gráfico (Cancelamento x Tipo de Contrato)\");\n",
    "\n"
   ]
  },
  {
   "cell_type": "markdown",
   "id": "b94e0a31",
   "metadata": {},
   "source": [
    "Podemos perceber que de modo geral, os **contratos mensais** tendem a ter maior quantidade de **evasão** que os anuais e bianuais, que seguem a uma quantidade semelhante. A seguir um histograma para analisar qual frequência valor mensal é cobrado quando há cancelamento e quando não há."
   ]
  },
  {
   "cell_type": "code",
   "execution_count": 181,
   "id": "9f3f3dcc",
   "metadata": {
    "scrolled": true
   },
   "outputs": [
    {
     "data": {
      "image/png": "[encoded data removed]",
      "text/plain": [
       "<Figure size 1200x600 with 2 Axes>"
      ]
     },
     "metadata": {},
     "output_type": "display_data"
    }
   ],
   "source": [
    "fig, ax = plt.subplots(nrows=2, ncols=1, figsize=(12,6))\n",
    "sns.set_style(\"darkgrid\", {\"grid.color\": \".6\", \"grid.linestyle\": \":\"})\n",
    "sns.set_palette(sns.color_palette(\"Spectral\"))\n",
    "sns.histplot(data=df.MonthlyCharges.loc[df.Churn == 'No'], kde=False, ax = ax[0], color=sns.color_palette()[0])\n",
    "sns.histplot(data=df.MonthlyCharges.loc[df.Churn == 'Yes'], kde=False, ax = ax[1], color=sns.color_palette()[3])\n",
    "ax[0].set_xlabel('Valor cobrado mensalmente')\n",
    "ax[0].set_ylabel('Frequência')\n",
    "ax[0].set_title('Normal');\n",
    "\n",
    "ax[1].set_xlabel('Valor cobrado mensalmente')\n",
    "ax[1].set_ylabel('Frequência')\n",
    "ax[1].set_title('Cancelamento');\n",
    "\n",
    "fig.suptitle(\"Análise de Cobrança Mensal\", fontsize=14, fontweight='bold')\n",
    "plt.tight_layout()\n"
   ]
  },
  {
   "cell_type": "markdown",
   "id": "d86a38c0",
   "metadata": {},
   "source": [
    "De modo geral, pode-se concluir que quando **há cancelamento**, os **valores** cobrados **mensalmente** são **maiores**. Isso pode acontecer por diversos motivos, como por exemplo:\n",
    "\n",
    "* Insatisfação com o produto ou serviço: quando o cliente não está satisfeito com o produto ou serviço oferecido pela empresa, ele pode cancelar e procurar um concorrente.\n",
    "\n",
    "* Mudança na situação financeira: quando o cliente enfrenta problemas financeiros, pode precisar cortar gastos e optar por cancelar um serviço que considera menos essencial.\n",
    "\n",
    "* Ofertas melhores da concorrência: quando o cliente encontra um produto ou serviço semelhante a um preço mais baixo ou com melhores condições em outra empresa, pode optar por cancelar o serviço atual e migrar para a concorrência.\n",
    "\n",
    "Logo, o **preço da mensalidade é uma variável relevante**."
   ]
  },
  {
   "cell_type": "markdown",
   "id": "806517e2",
   "metadata": {},
   "source": [
    "A variável `SeniorCitizen` indica se o cliente é idoso ou aposentado. A variável `tenure` diz respeito a quantidade de meses que o cliente tem sido um assinante dos serviços da empresa. A variável `MonthlyCharges` diz respeito ao quanto o cliente paga mensalmente pelo produto e `TotalCharges` ao valor total que foi pago enquanto assinante. A seguir um gráfico em boxplot que trará algumas informações estatísticas a respeito das variáveis."
   ]
  },
  {
   "cell_type": "code",
   "execution_count": 182,
   "id": "a954c6f7",
   "metadata": {
    "scrolled": false
   },
   "outputs": [
    {
     "data": {
      "image/png": "[encoded data removed]",
      "text/plain": [
       "<Figure size 1000x500 with 4 Axes>"
      ]
     },
     "metadata": {},
     "output_type": "display_data"
    }
   ],
   "source": [
    "fig, axs = plt.subplots(2, 2, figsize=(10,5))\n",
    "ax1 = axs[0, 0]\n",
    "ax2 = axs[0, 1]\n",
    "ax3 = axs[1, 0]\n",
    "ax4 = axs[1, 1]\n",
    "df.tenure.plot(kind = \"box\", ax = ax1)\n",
    "df.SeniorCitizen.plot(kind = \"box\", ax = ax2)\n",
    "df.MonthlyCharges.plot(kind = \"box\", ax = ax3)\n",
    "df.TotalCharges.plot(kind = \"box\", ax = ax4);"
   ]
  },
  {
   "cell_type": "markdown",
   "id": "1a8eb9ff",
   "metadata": {},
   "source": [
    "Estatisticamente não há outliers na variáveis ou alguma informação discrepante. O tempo médio de utilizado do produto pelo usuário foi de aproximadamente 30 meses, já a mensalidade foi 70 e o valor total pago 1397. Os dados são coerentes."
   ]
  },
  {
   "cell_type": "markdown",
   "id": "5769f9aa",
   "metadata": {},
   "source": [
    "## Preparar os Dados\n",
    "\n",
    "Nesta etapa de preparação dos dados, será realizado um **pré-processamento básico**, apenas com a finalidade de construir um modelo base. \n",
    "\n",
    "As features que continham 2 labels únicos, serão processadas usando-se o `LabelEncoder`, também irei utilizá-la para a variável `Contract` que se demonstrou relevante. Na sequência, serão separadas as variáveis numéricas das categóricas. As categóricas serão transformadas em variáveis dummy, para permitir a sua utilização em todos os modelos. O Label Encoding atribui um número inteiro a cada categoria exclusiva de uma variável categórica, com valores maiores para categorias que são consideradas mais importantes. O Dummy Encoding, por outro lado, transforma cada categoria exclusiva de uma variável categórica em uma nova variável binária (0 ou 1), indicando a presença ou ausência dessa categoria na observação"
   ]
  },
  {
   "cell_type": "markdown",
   "id": "084b3974",
   "metadata": {},
   "source": [
    "Iremos remover a variável `customerID`, pois se trata apenas de um número de identificação, não sendo relevante ao modelo. Também irei remover a variável `gender` pois não demonstrou relevância em relação à variável alvo."
   ]
  },
  {
   "cell_type": "code",
   "execution_count": 183,
   "id": "df036291",
   "metadata": {
    "scrolled": true
   },
   "outputs": [
    {
     "data": {
      "text/html": [
       "<div>\n",
       "<style scoped>\n",
       "    .dataframe tbody tr th:only-of-type {\n",
       "        vertical-align: middle;\n",
       "    }\n",
       "\n",
       "    .dataframe tbody tr th {\n",
       "        vertical-align: top;\n",
       "    }\n",
       "\n",
       "    .dataframe thead th {\n",
       "        text-align: right;\n",
       "    }\n",
       "</style>\n",
       "<table border=\"1\" class=\"dataframe\">\n",
       "  <thead>\n",
       "    <tr style=\"text-align: right;\">\n",
       "      <th></th>\n",
       "      <th>SeniorCitizen</th>\n",
       "      <th>Partner</th>\n",
       "      <th>Dependents</th>\n",
       "      <th>tenure</th>\n",
       "      <th>PhoneService</th>\n",
       "      <th>MultipleLines</th>\n",
       "      <th>InternetService</th>\n",
       "      <th>OnlineSecurity</th>\n",
       "      <th>OnlineBackup</th>\n",
       "      <th>DeviceProtection</th>\n",
       "      <th>TechSupport</th>\n",
       "      <th>StreamingTV</th>\n",
       "      <th>StreamingMovies</th>\n",
       "      <th>Contract</th>\n",
       "      <th>PaperlessBilling</th>\n",
       "      <th>PaymentMethod</th>\n",
       "      <th>MonthlyCharges</th>\n",
       "      <th>TotalCharges</th>\n",
       "      <th>Churn</th>\n",
       "    </tr>\n",
       "  </thead>\n",
       "  <tbody>\n",
       "    <tr>\n",
       "      <th>0</th>\n",
       "      <td>0</td>\n",
       "      <td>Yes</td>\n",
       "      <td>No</td>\n",
       "      <td>1</td>\n",
       "      <td>No</td>\n",
       "      <td>No phone service</td>\n",
       "      <td>DSL</td>\n",
       "      <td>No</td>\n",
       "      <td>Yes</td>\n",
       "      <td>No</td>\n",
       "      <td>No</td>\n",
       "      <td>No</td>\n",
       "      <td>No</td>\n",
       "      <td>Month-to-month</td>\n",
       "      <td>Yes</td>\n",
       "      <td>Electronic check</td>\n",
       "      <td>29.85</td>\n",
       "      <td>29.85</td>\n",
       "      <td>No</td>\n",
       "    </tr>\n",
       "    <tr>\n",
       "      <th>1</th>\n",
       "      <td>0</td>\n",
       "      <td>No</td>\n",
       "      <td>No</td>\n",
       "      <td>34</td>\n",
       "      <td>Yes</td>\n",
       "      <td>No</td>\n",
       "      <td>DSL</td>\n",
       "      <td>Yes</td>\n",
       "      <td>No</td>\n",
       "      <td>Yes</td>\n",
       "      <td>No</td>\n",
       "      <td>No</td>\n",
       "      <td>No</td>\n",
       "      <td>One year</td>\n",
       "      <td>No</td>\n",
       "      <td>Mailed check</td>\n",
       "      <td>56.95</td>\n",
       "      <td>1889.50</td>\n",
       "      <td>No</td>\n",
       "    </tr>\n",
       "    <tr>\n",
       "      <th>2</th>\n",
       "      <td>0</td>\n",
       "      <td>No</td>\n",
       "      <td>No</td>\n",
       "      <td>2</td>\n",
       "      <td>Yes</td>\n",
       "      <td>No</td>\n",
       "      <td>DSL</td>\n",
       "      <td>Yes</td>\n",
       "      <td>Yes</td>\n",
       "      <td>No</td>\n",
       "      <td>No</td>\n",
       "      <td>No</td>\n",
       "      <td>No</td>\n",
       "      <td>Month-to-month</td>\n",
       "      <td>Yes</td>\n",
       "      <td>Mailed check</td>\n",
       "      <td>53.85</td>\n",
       "      <td>108.15</td>\n",
       "      <td>Yes</td>\n",
       "    </tr>\n",
       "    <tr>\n",
       "      <th>3</th>\n",
       "      <td>0</td>\n",
       "      <td>No</td>\n",
       "      <td>No</td>\n",
       "      <td>45</td>\n",
       "      <td>No</td>\n",
       "      <td>No phone service</td>\n",
       "      <td>DSL</td>\n",
       "      <td>Yes</td>\n",
       "      <td>No</td>\n",
       "      <td>Yes</td>\n",
       "      <td>Yes</td>\n",
       "      <td>No</td>\n",
       "      <td>No</td>\n",
       "      <td>One year</td>\n",
       "      <td>No</td>\n",
       "      <td>Bank transfer (automatic)</td>\n",
       "      <td>42.30</td>\n",
       "      <td>1840.75</td>\n",
       "      <td>No</td>\n",
       "    </tr>\n",
       "    <tr>\n",
       "      <th>4</th>\n",
       "      <td>0</td>\n",
       "      <td>No</td>\n",
       "      <td>No</td>\n",
       "      <td>2</td>\n",
       "      <td>Yes</td>\n",
       "      <td>No</td>\n",
       "      <td>Fiber optic</td>\n",
       "      <td>No</td>\n",
       "      <td>No</td>\n",
       "      <td>No</td>\n",
       "      <td>No</td>\n",
       "      <td>No</td>\n",
       "      <td>No</td>\n",
       "      <td>Month-to-month</td>\n",
       "      <td>Yes</td>\n",
       "      <td>Electronic check</td>\n",
       "      <td>70.70</td>\n",
       "      <td>151.65</td>\n",
       "      <td>Yes</td>\n",
       "    </tr>\n",
       "  </tbody>\n",
       "</table>\n",
       "</div>"
      ],
      "text/plain": [
       "   SeniorCitizen Partner Dependents  tenure PhoneService     MultipleLines  \\\n",
       "0              0     Yes         No       1           No  No phone service   \n",
       "1              0      No         No      34          Yes                No   \n",
       "2              0      No         No       2          Yes                No   \n",
       "3              0      No         No      45           No  No phone service   \n",
       "4              0      No         No       2          Yes                No   \n",
       "\n",
       "  InternetService OnlineSecurity OnlineBackup DeviceProtection TechSupport  \\\n",
       "0             DSL             No          Yes               No          No   \n",
       "1             DSL            Yes           No              Yes          No   \n",
       "2             DSL            Yes          Yes               No          No   \n",
       "3             DSL            Yes           No              Yes         Yes   \n",
       "4     Fiber optic             No           No               No          No   \n",
       "\n",
       "  StreamingTV StreamingMovies        Contract PaperlessBilling  \\\n",
       "0          No              No  Month-to-month              Yes   \n",
       "1          No              No        One year               No   \n",
       "2          No              No  Month-to-month              Yes   \n",
       "3          No              No        One year               No   \n",
       "4          No              No  Month-to-month              Yes   \n",
       "\n",
       "               PaymentMethod  MonthlyCharges  TotalCharges Churn  \n",
       "0           Electronic check           29.85         29.85    No  \n",
       "1               Mailed check           56.95       1889.50    No  \n",
       "2               Mailed check           53.85        108.15   Yes  \n",
       "3  Bank transfer (automatic)           42.30       1840.75    No  \n",
       "4           Electronic check           70.70        151.65   Yes  "
      ]
     },
     "execution_count": 183,
     "metadata": {},
     "output_type": "execute_result"
    }
   ],
   "source": [
    "# remover customerID e gender\n",
    "df_clean = df.drop('customerID', axis = 1)\n",
    "df_clean = df_clean.drop('gender', axis = 1)\n",
    "df_clean.head()"
   ]
  },
  {
   "cell_type": "code",
   "execution_count": 184,
   "id": "430812c8",
   "metadata": {
    "scrolled": false
   },
   "outputs": [
    {
     "data": {
      "text/html": [
       "<div>\n",
       "<style scoped>\n",
       "    .dataframe tbody tr th:only-of-type {\n",
       "        vertical-align: middle;\n",
       "    }\n",
       "\n",
       "    .dataframe tbody tr th {\n",
       "        vertical-align: top;\n",
       "    }\n",
       "\n",
       "    .dataframe thead th {\n",
       "        text-align: right;\n",
       "    }\n",
       "</style>\n",
       "<table border=\"1\" class=\"dataframe\">\n",
       "  <thead>\n",
       "    <tr style=\"text-align: right;\">\n",
       "      <th></th>\n",
       "      <th>SeniorCitizen</th>\n",
       "      <th>Partner</th>\n",
       "      <th>Dependents</th>\n",
       "      <th>PhoneService</th>\n",
       "      <th>PaperlessBilling</th>\n",
       "      <th>Contract</th>\n",
       "      <th>Churn</th>\n",
       "    </tr>\n",
       "  </thead>\n",
       "  <tbody>\n",
       "    <tr>\n",
       "      <th>0</th>\n",
       "      <td>0</td>\n",
       "      <td>1</td>\n",
       "      <td>0</td>\n",
       "      <td>0</td>\n",
       "      <td>1</td>\n",
       "      <td>0</td>\n",
       "      <td>0</td>\n",
       "    </tr>\n",
       "    <tr>\n",
       "      <th>1</th>\n",
       "      <td>0</td>\n",
       "      <td>0</td>\n",
       "      <td>0</td>\n",
       "      <td>1</td>\n",
       "      <td>0</td>\n",
       "      <td>1</td>\n",
       "      <td>0</td>\n",
       "    </tr>\n",
       "    <tr>\n",
       "      <th>2</th>\n",
       "      <td>0</td>\n",
       "      <td>0</td>\n",
       "      <td>0</td>\n",
       "      <td>1</td>\n",
       "      <td>1</td>\n",
       "      <td>0</td>\n",
       "      <td>1</td>\n",
       "    </tr>\n",
       "    <tr>\n",
       "      <th>3</th>\n",
       "      <td>0</td>\n",
       "      <td>0</td>\n",
       "      <td>0</td>\n",
       "      <td>0</td>\n",
       "      <td>0</td>\n",
       "      <td>1</td>\n",
       "      <td>0</td>\n",
       "    </tr>\n",
       "    <tr>\n",
       "      <th>4</th>\n",
       "      <td>0</td>\n",
       "      <td>0</td>\n",
       "      <td>0</td>\n",
       "      <td>1</td>\n",
       "      <td>1</td>\n",
       "      <td>0</td>\n",
       "      <td>1</td>\n",
       "    </tr>\n",
       "  </tbody>\n",
       "</table>\n",
       "</div>"
      ],
      "text/plain": [
       "   SeniorCitizen  Partner  Dependents  PhoneService  PaperlessBilling  \\\n",
       "0              0        1           0             0                 1   \n",
       "1              0        0           0             1                 0   \n",
       "2              0        0           0             1                 1   \n",
       "3              0        0           0             0                 0   \n",
       "4              0        0           0             1                 1   \n",
       "\n",
       "   Contract  Churn  \n",
       "0         0      0  \n",
       "1         1      0  \n",
       "2         0      1  \n",
       "3         1      0  \n",
       "4         0      1  "
      ]
     },
     "execution_count": 184,
     "metadata": {},
     "output_type": "execute_result"
    }
   ],
   "source": [
    "# Cria o LabelEncoder\n",
    "le = LabelEncoder()\n",
    "\n",
    "cols_to_encode = ['SeniorCitizen','Partner', 'Dependents', 'PhoneService', 'PaperlessBilling', 'Contract', 'Churn']\n",
    "\n",
    "# Itera sobre as colunas selecionadas e aplica o encoder\n",
    "for col in cols_to_encode:\n",
    "    df_clean[col] = le.fit_transform(df_clean[col])\n",
    "\n",
    "# Imprime o dataframe com as colunas codificadas\n",
    "df_clean[['SeniorCitizen','Partner', 'Dependents', 'PhoneService', 'PaperlessBilling', 'Contract', 'Churn']].head()"
   ]
  },
  {
   "cell_type": "code",
   "execution_count": 185,
   "id": "604c75a9",
   "metadata": {},
   "outputs": [],
   "source": [
    "# Seleciona as colunas a serem codificadas como dummy\n",
    "cols_to_encode = ['MultipleLines', 'InternetService', 'OnlineSecurity', 'OnlineBackup', \n",
    "                  'DeviceProtection', 'TechSupport', 'StreamingTV', 'StreamingMovies', \n",
    "                  'PaymentMethod']\n",
    "\n",
    "# Aplica o get_dummies() em cada coluna selecionada\n",
    "df_dummies = pd.get_dummies(df_clean[cols_to_encode], prefix=cols_to_encode)\n",
    "\n",
    "# Concatena as variáveis dummy com o dataframe original\n",
    "df_clean = pd.concat([df_clean, df_dummies], axis=1)\n",
    "\n",
    "# Remove as colunas originais \n",
    "df_clean.drop(cols_to_encode, axis=1, inplace=True)"
   ]
  },
  {
   "cell_type": "code",
   "execution_count": 186,
   "id": "df836d68",
   "metadata": {},
   "outputs": [
    {
     "data": {
      "text/plain": [
       "Index(['SeniorCitizen', 'Partner', 'Dependents', 'tenure', 'PhoneService',\n",
       "       'Contract', 'PaperlessBilling', 'MonthlyCharges', 'TotalCharges',\n",
       "       'Churn', 'MultipleLines_No', 'MultipleLines_No phone service',\n",
       "       'MultipleLines_Yes', 'InternetService_DSL',\n",
       "       'InternetService_Fiber optic', 'InternetService_No',\n",
       "       'OnlineSecurity_No', 'OnlineSecurity_No internet service',\n",
       "       'OnlineSecurity_Yes', 'OnlineBackup_No',\n",
       "       'OnlineBackup_No internet service', 'OnlineBackup_Yes',\n",
       "       'DeviceProtection_No', 'DeviceProtection_No internet service',\n",
       "       'DeviceProtection_Yes', 'TechSupport_No',\n",
       "       'TechSupport_No internet service', 'TechSupport_Yes', 'StreamingTV_No',\n",
       "       'StreamingTV_No internet service', 'StreamingTV_Yes',\n",
       "       'StreamingMovies_No', 'StreamingMovies_No internet service',\n",
       "       'StreamingMovies_Yes', 'PaymentMethod_Bank transfer (automatic)',\n",
       "       'PaymentMethod_Credit card (automatic)',\n",
       "       'PaymentMethod_Electronic check', 'PaymentMethod_Mailed check'],\n",
       "      dtype='object')"
      ]
     },
     "execution_count": 186,
     "metadata": {},
     "output_type": "execute_result"
    }
   ],
   "source": [
    "df_clean.columns"
   ]
  },
  {
   "cell_type": "code",
   "execution_count": 187,
   "id": "36bf9dff",
   "metadata": {
    "scrolled": true
   },
   "outputs": [
    {
     "data": {
      "text/html": [
       "<div>\n",
       "<style scoped>\n",
       "    .dataframe tbody tr th:only-of-type {\n",
       "        vertical-align: middle;\n",
       "    }\n",
       "\n",
       "    .dataframe tbody tr th {\n",
       "        vertical-align: top;\n",
       "    }\n",
       "\n",
       "    .dataframe thead th {\n",
       "        text-align: right;\n",
       "    }\n",
       "</style>\n",
       "<table border=\"1\" class=\"dataframe\">\n",
       "  <thead>\n",
       "    <tr style=\"text-align: right;\">\n",
       "      <th></th>\n",
       "      <th>SeniorCitizen</th>\n",
       "      <th>Partner</th>\n",
       "      <th>Dependents</th>\n",
       "      <th>tenure</th>\n",
       "      <th>PhoneService</th>\n",
       "      <th>Contract</th>\n",
       "      <th>PaperlessBilling</th>\n",
       "      <th>MonthlyCharges</th>\n",
       "      <th>TotalCharges</th>\n",
       "      <th>Churn</th>\n",
       "      <th>...</th>\n",
       "      <th>StreamingTV_No</th>\n",
       "      <th>StreamingTV_No internet service</th>\n",
       "      <th>StreamingTV_Yes</th>\n",
       "      <th>StreamingMovies_No</th>\n",
       "      <th>StreamingMovies_No internet service</th>\n",
       "      <th>StreamingMovies_Yes</th>\n",
       "      <th>PaymentMethod_Bank transfer (automatic)</th>\n",
       "      <th>PaymentMethod_Credit card (automatic)</th>\n",
       "      <th>PaymentMethod_Electronic check</th>\n",
       "      <th>PaymentMethod_Mailed check</th>\n",
       "    </tr>\n",
       "  </thead>\n",
       "  <tbody>\n",
       "    <tr>\n",
       "      <th>0</th>\n",
       "      <td>0</td>\n",
       "      <td>1</td>\n",
       "      <td>0</td>\n",
       "      <td>1</td>\n",
       "      <td>0</td>\n",
       "      <td>0</td>\n",
       "      <td>1</td>\n",
       "      <td>29.85</td>\n",
       "      <td>29.85</td>\n",
       "      <td>0</td>\n",
       "      <td>...</td>\n",
       "      <td>1</td>\n",
       "      <td>0</td>\n",
       "      <td>0</td>\n",
       "      <td>1</td>\n",
       "      <td>0</td>\n",
       "      <td>0</td>\n",
       "      <td>0</td>\n",
       "      <td>0</td>\n",
       "      <td>1</td>\n",
       "      <td>0</td>\n",
       "    </tr>\n",
       "    <tr>\n",
       "      <th>1</th>\n",
       "      <td>0</td>\n",
       "      <td>0</td>\n",
       "      <td>0</td>\n",
       "      <td>34</td>\n",
       "      <td>1</td>\n",
       "      <td>1</td>\n",
       "      <td>0</td>\n",
       "      <td>56.95</td>\n",
       "      <td>1889.50</td>\n",
       "      <td>0</td>\n",
       "      <td>...</td>\n",
       "      <td>1</td>\n",
       "      <td>0</td>\n",
       "      <td>0</td>\n",
       "      <td>1</td>\n",
       "      <td>0</td>\n",
       "      <td>0</td>\n",
       "      <td>0</td>\n",
       "      <td>0</td>\n",
       "      <td>0</td>\n",
       "      <td>1</td>\n",
       "    </tr>\n",
       "    <tr>\n",
       "      <th>2</th>\n",
       "      <td>0</td>\n",
       "      <td>0</td>\n",
       "      <td>0</td>\n",
       "      <td>2</td>\n",
       "      <td>1</td>\n",
       "      <td>0</td>\n",
       "      <td>1</td>\n",
       "      <td>53.85</td>\n",
       "      <td>108.15</td>\n",
       "      <td>1</td>\n",
       "      <td>...</td>\n",
       "      <td>1</td>\n",
       "      <td>0</td>\n",
       "      <td>0</td>\n",
       "      <td>1</td>\n",
       "      <td>0</td>\n",
       "      <td>0</td>\n",
       "      <td>0</td>\n",
       "      <td>0</td>\n",
       "      <td>0</td>\n",
       "      <td>1</td>\n",
       "    </tr>\n",
       "    <tr>\n",
       "      <th>3</th>\n",
       "      <td>0</td>\n",
       "      <td>0</td>\n",
       "      <td>0</td>\n",
       "      <td>45</td>\n",
       "      <td>0</td>\n",
       "      <td>1</td>\n",
       "      <td>0</td>\n",
       "      <td>42.30</td>\n",
       "      <td>1840.75</td>\n",
       "      <td>0</td>\n",
       "      <td>...</td>\n",
       "      <td>1</td>\n",
       "      <td>0</td>\n",
       "      <td>0</td>\n",
       "      <td>1</td>\n",
       "      <td>0</td>\n",
       "      <td>0</td>\n",
       "      <td>1</td>\n",
       "      <td>0</td>\n",
       "      <td>0</td>\n",
       "      <td>0</td>\n",
       "    </tr>\n",
       "    <tr>\n",
       "      <th>4</th>\n",
       "      <td>0</td>\n",
       "      <td>0</td>\n",
       "      <td>0</td>\n",
       "      <td>2</td>\n",
       "      <td>1</td>\n",
       "      <td>0</td>\n",
       "      <td>1</td>\n",
       "      <td>70.70</td>\n",
       "      <td>151.65</td>\n",
       "      <td>1</td>\n",
       "      <td>...</td>\n",
       "      <td>1</td>\n",
       "      <td>0</td>\n",
       "      <td>0</td>\n",
       "      <td>1</td>\n",
       "      <td>0</td>\n",
       "      <td>0</td>\n",
       "      <td>0</td>\n",
       "      <td>0</td>\n",
       "      <td>1</td>\n",
       "      <td>0</td>\n",
       "    </tr>\n",
       "  </tbody>\n",
       "</table>\n",
       "<p>5 rows × 38 columns</p>\n",
       "</div>"
      ],
      "text/plain": [
       "   SeniorCitizen  Partner  Dependents  tenure  PhoneService  Contract  \\\n",
       "0              0        1           0       1             0         0   \n",
       "1              0        0           0      34             1         1   \n",
       "2              0        0           0       2             1         0   \n",
       "3              0        0           0      45             0         1   \n",
       "4              0        0           0       2             1         0   \n",
       "\n",
       "   PaperlessBilling  MonthlyCharges  TotalCharges  Churn  ...  StreamingTV_No  \\\n",
       "0                 1           29.85         29.85      0  ...               1   \n",
       "1                 0           56.95       1889.50      0  ...               1   \n",
       "2                 1           53.85        108.15      1  ...               1   \n",
       "3                 0           42.30       1840.75      0  ...               1   \n",
       "4                 1           70.70        151.65      1  ...               1   \n",
       "\n",
       "   StreamingTV_No internet service  StreamingTV_Yes  StreamingMovies_No  \\\n",
       "0                                0                0                   1   \n",
       "1                                0                0                   1   \n",
       "2                                0                0                   1   \n",
       "3                                0                0                   1   \n",
       "4                                0                0                   1   \n",
       "\n",
       "   StreamingMovies_No internet service  StreamingMovies_Yes  \\\n",
       "0                                    0                    0   \n",
       "1                                    0                    0   \n",
       "2                                    0                    0   \n",
       "3                                    0                    0   \n",
       "4                                    0                    0   \n",
       "\n",
       "   PaymentMethod_Bank transfer (automatic)  \\\n",
       "0                                        0   \n",
       "1                                        0   \n",
       "2                                        0   \n",
       "3                                        1   \n",
       "4                                        0   \n",
       "\n",
       "   PaymentMethod_Credit card (automatic)  PaymentMethod_Electronic check  \\\n",
       "0                                      0                               1   \n",
       "1                                      0                               0   \n",
       "2                                      0                               0   \n",
       "3                                      0                               0   \n",
       "4                                      0                               1   \n",
       "\n",
       "   PaymentMethod_Mailed check  \n",
       "0                           0  \n",
       "1                           1  \n",
       "2                           1  \n",
       "3                           0  \n",
       "4                           0  \n",
       "\n",
       "[5 rows x 38 columns]"
      ]
     },
     "execution_count": 187,
     "metadata": {},
     "output_type": "execute_result"
    }
   ],
   "source": [
    "df_clean.head()"
   ]
  },
  {
   "cell_type": "markdown",
   "id": "d2f931c9",
   "metadata": {},
   "source": [
    "## Modelo de Machine Learning\n",
    "\n",
    "Com o processamento realizado na etapa anterior, os dados já podem ser usados nos modelos de machine learning.\n",
    "Antes de realizar a padronização dos dados, irei separar o conjunto de teste que validará a eficácia do modelo. É importante que o mesmo seja capaz de generalizar para evitar problemas como o *underfitting*, que ocorre quando o modelo tem baixo desempenho tanto no treinamento quanto na validação, ou o *overfitting*, que ocorre quando o modelo se adapta demasiadamente ao treinamento e não consegue generalizar para novos dados. A separação antes da padronização ocorre para que os dados de teste não tenham contato com os de treino e validação, simulando uma situação real.\n",
    "\n",
    "Existem vários métodos de divisão de dados disponíveis para evitar esses problemas. Neste caso, adotaremos a proporção de **70/15/15** para o conjunto de treinamento, validação e teste, respectivamente."
   ]
  },
  {
   "cell_type": "markdown",
   "id": "829b7669",
   "metadata": {},
   "source": [
    "#### Separando o conjunto de teste"
   ]
  },
  {
   "cell_type": "code",
   "execution_count": 188,
   "id": "d538f998",
   "metadata": {},
   "outputs": [
    {
     "name": "stdout",
     "output_type": "stream",
     "text": [
      "(1056, 38)\n"
     ]
    },
    {
     "data": {
      "text/html": [
       "<div>\n",
       "<style scoped>\n",
       "    .dataframe tbody tr th:only-of-type {\n",
       "        vertical-align: middle;\n",
       "    }\n",
       "\n",
       "    .dataframe tbody tr th {\n",
       "        vertical-align: top;\n",
       "    }\n",
       "\n",
       "    .dataframe thead th {\n",
       "        text-align: right;\n",
       "    }\n",
       "</style>\n",
       "<table border=\"1\" class=\"dataframe\">\n",
       "  <thead>\n",
       "    <tr style=\"text-align: right;\">\n",
       "      <th></th>\n",
       "      <th>SeniorCitizen</th>\n",
       "      <th>Partner</th>\n",
       "      <th>Dependents</th>\n",
       "      <th>tenure</th>\n",
       "      <th>PhoneService</th>\n",
       "      <th>Contract</th>\n",
       "      <th>PaperlessBilling</th>\n",
       "      <th>MonthlyCharges</th>\n",
       "      <th>TotalCharges</th>\n",
       "      <th>Churn</th>\n",
       "      <th>...</th>\n",
       "      <th>StreamingTV_No</th>\n",
       "      <th>StreamingTV_No internet service</th>\n",
       "      <th>StreamingTV_Yes</th>\n",
       "      <th>StreamingMovies_No</th>\n",
       "      <th>StreamingMovies_No internet service</th>\n",
       "      <th>StreamingMovies_Yes</th>\n",
       "      <th>PaymentMethod_Bank transfer (automatic)</th>\n",
       "      <th>PaymentMethod_Credit card (automatic)</th>\n",
       "      <th>PaymentMethod_Electronic check</th>\n",
       "      <th>PaymentMethod_Mailed check</th>\n",
       "    </tr>\n",
       "  </thead>\n",
       "  <tbody>\n",
       "    <tr>\n",
       "      <th>2200</th>\n",
       "      <td>0</td>\n",
       "      <td>0</td>\n",
       "      <td>0</td>\n",
       "      <td>19</td>\n",
       "      <td>1</td>\n",
       "      <td>1</td>\n",
       "      <td>0</td>\n",
       "      <td>58.20</td>\n",
       "      <td>1045.25</td>\n",
       "      <td>0</td>\n",
       "      <td>...</td>\n",
       "      <td>0</td>\n",
       "      <td>0</td>\n",
       "      <td>1</td>\n",
       "      <td>1</td>\n",
       "      <td>0</td>\n",
       "      <td>0</td>\n",
       "      <td>0</td>\n",
       "      <td>0</td>\n",
       "      <td>1</td>\n",
       "      <td>0</td>\n",
       "    </tr>\n",
       "    <tr>\n",
       "      <th>4627</th>\n",
       "      <td>0</td>\n",
       "      <td>0</td>\n",
       "      <td>0</td>\n",
       "      <td>60</td>\n",
       "      <td>1</td>\n",
       "      <td>1</td>\n",
       "      <td>1</td>\n",
       "      <td>116.60</td>\n",
       "      <td>7049.50</td>\n",
       "      <td>0</td>\n",
       "      <td>...</td>\n",
       "      <td>0</td>\n",
       "      <td>0</td>\n",
       "      <td>1</td>\n",
       "      <td>0</td>\n",
       "      <td>0</td>\n",
       "      <td>1</td>\n",
       "      <td>0</td>\n",
       "      <td>1</td>\n",
       "      <td>0</td>\n",
       "      <td>0</td>\n",
       "    </tr>\n",
       "    <tr>\n",
       "      <th>3225</th>\n",
       "      <td>0</td>\n",
       "      <td>0</td>\n",
       "      <td>0</td>\n",
       "      <td>13</td>\n",
       "      <td>1</td>\n",
       "      <td>0</td>\n",
       "      <td>1</td>\n",
       "      <td>71.95</td>\n",
       "      <td>923.85</td>\n",
       "      <td>0</td>\n",
       "      <td>...</td>\n",
       "      <td>0</td>\n",
       "      <td>0</td>\n",
       "      <td>1</td>\n",
       "      <td>0</td>\n",
       "      <td>0</td>\n",
       "      <td>1</td>\n",
       "      <td>0</td>\n",
       "      <td>0</td>\n",
       "      <td>1</td>\n",
       "      <td>0</td>\n",
       "    </tr>\n",
       "    <tr>\n",
       "      <th>2828</th>\n",
       "      <td>0</td>\n",
       "      <td>0</td>\n",
       "      <td>0</td>\n",
       "      <td>1</td>\n",
       "      <td>1</td>\n",
       "      <td>2</td>\n",
       "      <td>0</td>\n",
       "      <td>20.45</td>\n",
       "      <td>20.45</td>\n",
       "      <td>0</td>\n",
       "      <td>...</td>\n",
       "      <td>0</td>\n",
       "      <td>1</td>\n",
       "      <td>0</td>\n",
       "      <td>0</td>\n",
       "      <td>1</td>\n",
       "      <td>0</td>\n",
       "      <td>0</td>\n",
       "      <td>0</td>\n",
       "      <td>0</td>\n",
       "      <td>1</td>\n",
       "    </tr>\n",
       "    <tr>\n",
       "      <th>3768</th>\n",
       "      <td>0</td>\n",
       "      <td>1</td>\n",
       "      <td>0</td>\n",
       "      <td>55</td>\n",
       "      <td>1</td>\n",
       "      <td>0</td>\n",
       "      <td>1</td>\n",
       "      <td>77.75</td>\n",
       "      <td>4266.40</td>\n",
       "      <td>0</td>\n",
       "      <td>...</td>\n",
       "      <td>1</td>\n",
       "      <td>0</td>\n",
       "      <td>0</td>\n",
       "      <td>1</td>\n",
       "      <td>0</td>\n",
       "      <td>0</td>\n",
       "      <td>0</td>\n",
       "      <td>1</td>\n",
       "      <td>0</td>\n",
       "      <td>0</td>\n",
       "    </tr>\n",
       "  </tbody>\n",
       "</table>\n",
       "<p>5 rows × 38 columns</p>\n",
       "</div>"
      ],
      "text/plain": [
       "      SeniorCitizen  Partner  Dependents  tenure  PhoneService  Contract  \\\n",
       "2200              0        0           0      19             1         1   \n",
       "4627              0        0           0      60             1         1   \n",
       "3225              0        0           0      13             1         0   \n",
       "2828              0        0           0       1             1         2   \n",
       "3768              0        1           0      55             1         0   \n",
       "\n",
       "      PaperlessBilling  MonthlyCharges  TotalCharges  Churn  ...  \\\n",
       "2200                 0           58.20       1045.25      0  ...   \n",
       "4627                 1          116.60       7049.50      0  ...   \n",
       "3225                 1           71.95        923.85      0  ...   \n",
       "2828                 0           20.45         20.45      0  ...   \n",
       "3768                 1           77.75       4266.40      0  ...   \n",
       "\n",
       "      StreamingTV_No  StreamingTV_No internet service  StreamingTV_Yes  \\\n",
       "2200               0                                0                1   \n",
       "4627               0                                0                1   \n",
       "3225               0                                0                1   \n",
       "2828               0                                1                0   \n",
       "3768               1                                0                0   \n",
       "\n",
       "      StreamingMovies_No  StreamingMovies_No internet service  \\\n",
       "2200                   1                                    0   \n",
       "4627                   0                                    0   \n",
       "3225                   0                                    0   \n",
       "2828                   0                                    1   \n",
       "3768                   1                                    0   \n",
       "\n",
       "      StreamingMovies_Yes  PaymentMethod_Bank transfer (automatic)  \\\n",
       "2200                    0                                        0   \n",
       "4627                    1                                        0   \n",
       "3225                    1                                        0   \n",
       "2828                    0                                        0   \n",
       "3768                    0                                        0   \n",
       "\n",
       "      PaymentMethod_Credit card (automatic)  PaymentMethod_Electronic check  \\\n",
       "2200                                      0                               1   \n",
       "4627                                      1                               0   \n",
       "3225                                      0                               1   \n",
       "2828                                      0                               0   \n",
       "3768                                      1                               0   \n",
       "\n",
       "      PaymentMethod_Mailed check  \n",
       "2200                           0  \n",
       "4627                           0  \n",
       "3225                           0  \n",
       "2828                           1  \n",
       "3768                           0  \n",
       "\n",
       "[5 rows x 38 columns]"
      ]
     },
     "execution_count": 188,
     "metadata": {},
     "output_type": "execute_result"
    }
   ],
   "source": [
    "# criando o conjunto de teste\n",
    "test = df_clean.sample(frac=0.15, random_state=0)\n",
    "\n",
    "# verificando o conjunto\n",
    "print(test.shape)\n",
    "test.head()"
   ]
  },
  {
   "cell_type": "code",
   "execution_count": 189,
   "id": "476c883f",
   "metadata": {},
   "outputs": [
    {
     "data": {
      "text/plain": [
       "(5987, 38)"
      ]
     },
     "execution_count": 189,
     "metadata": {},
     "output_type": "execute_result"
    }
   ],
   "source": [
    "# drop das linhas de teste\n",
    "df_clean = df_clean.drop(test.index)\n",
    "\n",
    "# verificando o shape do df\n",
    "df_clean.shape"
   ]
  },
  {
   "cell_type": "code",
   "execution_count": 190,
   "id": "0636d05d",
   "metadata": {},
   "outputs": [
    {
     "data": {
      "text/html": [
       "<div>\n",
       "<style scoped>\n",
       "    .dataframe tbody tr th:only-of-type {\n",
       "        vertical-align: middle;\n",
       "    }\n",
       "\n",
       "    .dataframe tbody tr th {\n",
       "        vertical-align: top;\n",
       "    }\n",
       "\n",
       "    .dataframe thead th {\n",
       "        text-align: right;\n",
       "    }\n",
       "</style>\n",
       "<table border=\"1\" class=\"dataframe\">\n",
       "  <thead>\n",
       "    <tr style=\"text-align: right;\">\n",
       "      <th></th>\n",
       "      <th>index</th>\n",
       "      <th>SeniorCitizen</th>\n",
       "      <th>Partner</th>\n",
       "      <th>Dependents</th>\n",
       "      <th>tenure</th>\n",
       "      <th>PhoneService</th>\n",
       "      <th>Contract</th>\n",
       "      <th>PaperlessBilling</th>\n",
       "      <th>MonthlyCharges</th>\n",
       "      <th>TotalCharges</th>\n",
       "      <th>...</th>\n",
       "      <th>StreamingTV_No</th>\n",
       "      <th>StreamingTV_No internet service</th>\n",
       "      <th>StreamingTV_Yes</th>\n",
       "      <th>StreamingMovies_No</th>\n",
       "      <th>StreamingMovies_No internet service</th>\n",
       "      <th>StreamingMovies_Yes</th>\n",
       "      <th>PaymentMethod_Bank transfer (automatic)</th>\n",
       "      <th>PaymentMethod_Credit card (automatic)</th>\n",
       "      <th>PaymentMethod_Electronic check</th>\n",
       "      <th>PaymentMethod_Mailed check</th>\n",
       "    </tr>\n",
       "  </thead>\n",
       "  <tbody>\n",
       "    <tr>\n",
       "      <th>0</th>\n",
       "      <td>2200</td>\n",
       "      <td>0</td>\n",
       "      <td>0</td>\n",
       "      <td>0</td>\n",
       "      <td>19</td>\n",
       "      <td>1</td>\n",
       "      <td>1</td>\n",
       "      <td>0</td>\n",
       "      <td>58.20</td>\n",
       "      <td>1045.25</td>\n",
       "      <td>...</td>\n",
       "      <td>0</td>\n",
       "      <td>0</td>\n",
       "      <td>1</td>\n",
       "      <td>1</td>\n",
       "      <td>0</td>\n",
       "      <td>0</td>\n",
       "      <td>0</td>\n",
       "      <td>0</td>\n",
       "      <td>1</td>\n",
       "      <td>0</td>\n",
       "    </tr>\n",
       "    <tr>\n",
       "      <th>1</th>\n",
       "      <td>4627</td>\n",
       "      <td>0</td>\n",
       "      <td>0</td>\n",
       "      <td>0</td>\n",
       "      <td>60</td>\n",
       "      <td>1</td>\n",
       "      <td>1</td>\n",
       "      <td>1</td>\n",
       "      <td>116.60</td>\n",
       "      <td>7049.50</td>\n",
       "      <td>...</td>\n",
       "      <td>0</td>\n",
       "      <td>0</td>\n",
       "      <td>1</td>\n",
       "      <td>0</td>\n",
       "      <td>0</td>\n",
       "      <td>1</td>\n",
       "      <td>0</td>\n",
       "      <td>1</td>\n",
       "      <td>0</td>\n",
       "      <td>0</td>\n",
       "    </tr>\n",
       "    <tr>\n",
       "      <th>2</th>\n",
       "      <td>3225</td>\n",
       "      <td>0</td>\n",
       "      <td>0</td>\n",
       "      <td>0</td>\n",
       "      <td>13</td>\n",
       "      <td>1</td>\n",
       "      <td>0</td>\n",
       "      <td>1</td>\n",
       "      <td>71.95</td>\n",
       "      <td>923.85</td>\n",
       "      <td>...</td>\n",
       "      <td>0</td>\n",
       "      <td>0</td>\n",
       "      <td>1</td>\n",
       "      <td>0</td>\n",
       "      <td>0</td>\n",
       "      <td>1</td>\n",
       "      <td>0</td>\n",
       "      <td>0</td>\n",
       "      <td>1</td>\n",
       "      <td>0</td>\n",
       "    </tr>\n",
       "    <tr>\n",
       "      <th>3</th>\n",
       "      <td>2828</td>\n",
       "      <td>0</td>\n",
       "      <td>0</td>\n",
       "      <td>0</td>\n",
       "      <td>1</td>\n",
       "      <td>1</td>\n",
       "      <td>2</td>\n",
       "      <td>0</td>\n",
       "      <td>20.45</td>\n",
       "      <td>20.45</td>\n",
       "      <td>...</td>\n",
       "      <td>0</td>\n",
       "      <td>1</td>\n",
       "      <td>0</td>\n",
       "      <td>0</td>\n",
       "      <td>1</td>\n",
       "      <td>0</td>\n",
       "      <td>0</td>\n",
       "      <td>0</td>\n",
       "      <td>0</td>\n",
       "      <td>1</td>\n",
       "    </tr>\n",
       "    <tr>\n",
       "      <th>4</th>\n",
       "      <td>3768</td>\n",
       "      <td>0</td>\n",
       "      <td>1</td>\n",
       "      <td>0</td>\n",
       "      <td>55</td>\n",
       "      <td>1</td>\n",
       "      <td>0</td>\n",
       "      <td>1</td>\n",
       "      <td>77.75</td>\n",
       "      <td>4266.40</td>\n",
       "      <td>...</td>\n",
       "      <td>1</td>\n",
       "      <td>0</td>\n",
       "      <td>0</td>\n",
       "      <td>1</td>\n",
       "      <td>0</td>\n",
       "      <td>0</td>\n",
       "      <td>0</td>\n",
       "      <td>1</td>\n",
       "      <td>0</td>\n",
       "      <td>0</td>\n",
       "    </tr>\n",
       "    <tr>\n",
       "      <th>...</th>\n",
       "      <td>...</td>\n",
       "      <td>...</td>\n",
       "      <td>...</td>\n",
       "      <td>...</td>\n",
       "      <td>...</td>\n",
       "      <td>...</td>\n",
       "      <td>...</td>\n",
       "      <td>...</td>\n",
       "      <td>...</td>\n",
       "      <td>...</td>\n",
       "      <td>...</td>\n",
       "      <td>...</td>\n",
       "      <td>...</td>\n",
       "      <td>...</td>\n",
       "      <td>...</td>\n",
       "      <td>...</td>\n",
       "      <td>...</td>\n",
       "      <td>...</td>\n",
       "      <td>...</td>\n",
       "      <td>...</td>\n",
       "      <td>...</td>\n",
       "    </tr>\n",
       "    <tr>\n",
       "      <th>1051</th>\n",
       "      <td>2229</td>\n",
       "      <td>0</td>\n",
       "      <td>1</td>\n",
       "      <td>0</td>\n",
       "      <td>4</td>\n",
       "      <td>1</td>\n",
       "      <td>0</td>\n",
       "      <td>0</td>\n",
       "      <td>70.50</td>\n",
       "      <td>294.20</td>\n",
       "      <td>...</td>\n",
       "      <td>1</td>\n",
       "      <td>0</td>\n",
       "      <td>0</td>\n",
       "      <td>1</td>\n",
       "      <td>0</td>\n",
       "      <td>0</td>\n",
       "      <td>0</td>\n",
       "      <td>0</td>\n",
       "      <td>1</td>\n",
       "      <td>0</td>\n",
       "    </tr>\n",
       "    <tr>\n",
       "      <th>1052</th>\n",
       "      <td>5109</td>\n",
       "      <td>0</td>\n",
       "      <td>1</td>\n",
       "      <td>1</td>\n",
       "      <td>66</td>\n",
       "      <td>1</td>\n",
       "      <td>2</td>\n",
       "      <td>0</td>\n",
       "      <td>65.85</td>\n",
       "      <td>4097.05</td>\n",
       "      <td>...</td>\n",
       "      <td>1</td>\n",
       "      <td>0</td>\n",
       "      <td>0</td>\n",
       "      <td>1</td>\n",
       "      <td>0</td>\n",
       "      <td>0</td>\n",
       "      <td>0</td>\n",
       "      <td>0</td>\n",
       "      <td>0</td>\n",
       "      <td>1</td>\n",
       "    </tr>\n",
       "    <tr>\n",
       "      <th>1053</th>\n",
       "      <td>5365</td>\n",
       "      <td>0</td>\n",
       "      <td>0</td>\n",
       "      <td>1</td>\n",
       "      <td>62</td>\n",
       "      <td>1</td>\n",
       "      <td>2</td>\n",
       "      <td>0</td>\n",
       "      <td>20.00</td>\n",
       "      <td>1250.10</td>\n",
       "      <td>...</td>\n",
       "      <td>0</td>\n",
       "      <td>1</td>\n",
       "      <td>0</td>\n",
       "      <td>0</td>\n",
       "      <td>1</td>\n",
       "      <td>0</td>\n",
       "      <td>1</td>\n",
       "      <td>0</td>\n",
       "      <td>0</td>\n",
       "      <td>0</td>\n",
       "    </tr>\n",
       "    <tr>\n",
       "      <th>1054</th>\n",
       "      <td>3903</td>\n",
       "      <td>0</td>\n",
       "      <td>0</td>\n",
       "      <td>0</td>\n",
       "      <td>53</td>\n",
       "      <td>1</td>\n",
       "      <td>0</td>\n",
       "      <td>1</td>\n",
       "      <td>80.60</td>\n",
       "      <td>4348.10</td>\n",
       "      <td>...</td>\n",
       "      <td>1</td>\n",
       "      <td>0</td>\n",
       "      <td>0</td>\n",
       "      <td>1</td>\n",
       "      <td>0</td>\n",
       "      <td>0</td>\n",
       "      <td>0</td>\n",
       "      <td>0</td>\n",
       "      <td>0</td>\n",
       "      <td>1</td>\n",
       "    </tr>\n",
       "    <tr>\n",
       "      <th>1055</th>\n",
       "      <td>5808</td>\n",
       "      <td>0</td>\n",
       "      <td>1</td>\n",
       "      <td>0</td>\n",
       "      <td>72</td>\n",
       "      <td>1</td>\n",
       "      <td>2</td>\n",
       "      <td>1</td>\n",
       "      <td>108.40</td>\n",
       "      <td>7719.50</td>\n",
       "      <td>...</td>\n",
       "      <td>0</td>\n",
       "      <td>0</td>\n",
       "      <td>1</td>\n",
       "      <td>0</td>\n",
       "      <td>0</td>\n",
       "      <td>1</td>\n",
       "      <td>0</td>\n",
       "      <td>0</td>\n",
       "      <td>1</td>\n",
       "      <td>0</td>\n",
       "    </tr>\n",
       "  </tbody>\n",
       "</table>\n",
       "<p>1056 rows × 39 columns</p>\n",
       "</div>"
      ],
      "text/plain": [
       "      index  SeniorCitizen  Partner  Dependents  tenure  PhoneService  \\\n",
       "0      2200              0        0           0      19             1   \n",
       "1      4627              0        0           0      60             1   \n",
       "2      3225              0        0           0      13             1   \n",
       "3      2828              0        0           0       1             1   \n",
       "4      3768              0        1           0      55             1   \n",
       "...     ...            ...      ...         ...     ...           ...   \n",
       "1051   2229              0        1           0       4             1   \n",
       "1052   5109              0        1           1      66             1   \n",
       "1053   5365              0        0           1      62             1   \n",
       "1054   3903              0        0           0      53             1   \n",
       "1055   5808              0        1           0      72             1   \n",
       "\n",
       "      Contract  PaperlessBilling  MonthlyCharges  TotalCharges  ...  \\\n",
       "0            1                 0           58.20       1045.25  ...   \n",
       "1            1                 1          116.60       7049.50  ...   \n",
       "2            0                 1           71.95        923.85  ...   \n",
       "3            2                 0           20.45         20.45  ...   \n",
       "4            0                 1           77.75       4266.40  ...   \n",
       "...        ...               ...             ...           ...  ...   \n",
       "1051         0                 0           70.50        294.20  ...   \n",
       "1052         2                 0           65.85       4097.05  ...   \n",
       "1053         2                 0           20.00       1250.10  ...   \n",
       "1054         0                 1           80.60       4348.10  ...   \n",
       "1055         2                 1          108.40       7719.50  ...   \n",
       "\n",
       "      StreamingTV_No  StreamingTV_No internet service  StreamingTV_Yes  \\\n",
       "0                  0                                0                1   \n",
       "1                  0                                0                1   \n",
       "2                  0                                0                1   \n",
       "3                  0                                1                0   \n",
       "4                  1                                0                0   \n",
       "...              ...                              ...              ...   \n",
       "1051               1                                0                0   \n",
       "1052               1                                0                0   \n",
       "1053               0                                1                0   \n",
       "1054               1                                0                0   \n",
       "1055               0                                0                1   \n",
       "\n",
       "      StreamingMovies_No  StreamingMovies_No internet service  \\\n",
       "0                      1                                    0   \n",
       "1                      0                                    0   \n",
       "2                      0                                    0   \n",
       "3                      0                                    1   \n",
       "4                      1                                    0   \n",
       "...                  ...                                  ...   \n",
       "1051                   1                                    0   \n",
       "1052                   1                                    0   \n",
       "1053                   0                                    1   \n",
       "1054                   1                                    0   \n",
       "1055                   0                                    0   \n",
       "\n",
       "      StreamingMovies_Yes  PaymentMethod_Bank transfer (automatic)  \\\n",
       "0                       0                                        0   \n",
       "1                       1                                        0   \n",
       "2                       1                                        0   \n",
       "3                       0                                        0   \n",
       "4                       0                                        0   \n",
       "...                   ...                                      ...   \n",
       "1051                    0                                        0   \n",
       "1052                    0                                        0   \n",
       "1053                    0                                        1   \n",
       "1054                    0                                        0   \n",
       "1055                    1                                        0   \n",
       "\n",
       "      PaymentMethod_Credit card (automatic)  PaymentMethod_Electronic check  \\\n",
       "0                                         0                               1   \n",
       "1                                         1                               0   \n",
       "2                                         0                               1   \n",
       "3                                         0                               0   \n",
       "4                                         1                               0   \n",
       "...                                     ...                             ...   \n",
       "1051                                      0                               1   \n",
       "1052                                      0                               0   \n",
       "1053                                      0                               0   \n",
       "1054                                      0                               0   \n",
       "1055                                      0                               1   \n",
       "\n",
       "      PaymentMethod_Mailed check  \n",
       "0                              0  \n",
       "1                              0  \n",
       "2                              0  \n",
       "3                              1  \n",
       "4                              0  \n",
       "...                          ...  \n",
       "1051                           0  \n",
       "1052                           1  \n",
       "1053                           0  \n",
       "1054                           1  \n",
       "1055                           0  \n",
       "\n",
       "[1056 rows x 39 columns]"
      ]
     },
     "execution_count": 190,
     "metadata": {},
     "output_type": "execute_result"
    }
   ],
   "source": [
    "# resetando o index dos conjuntos\n",
    "df_clean.reset_index()\n",
    "test.reset_index()"
   ]
  },
  {
   "cell_type": "markdown",
   "id": "a280c07e",
   "metadata": {},
   "source": [
    "### Padronizar `tenure`, `MonthlyCharges` e `TotalCharges`"
   ]
  },
  {
   "cell_type": "markdown",
   "id": "b9b24a4b",
   "metadata": {},
   "source": [
    "O objetivo do pré-processamento de dados é garantir que as features estejam na mesma escala, garantindo um desempenho melhor do algoritmo de *machine learning*. Para padronizar as variáveis `tenure`, `MonthlyCharges` e `TotalCharges` será utilizado o *StandardScaler*. Ele ajusta os dados para que tenham uma média zero e um desvio padrão de um."
   ]
  },
  {
   "cell_type": "code",
   "execution_count": 191,
   "id": "89bf630a",
   "metadata": {},
   "outputs": [
    {
     "data": {
      "text/html": [
       "<div>\n",
       "<style scoped>\n",
       "    .dataframe tbody tr th:only-of-type {\n",
       "        vertical-align: middle;\n",
       "    }\n",
       "\n",
       "    .dataframe tbody tr th {\n",
       "        vertical-align: top;\n",
       "    }\n",
       "\n",
       "    .dataframe thead th {\n",
       "        text-align: right;\n",
       "    }\n",
       "</style>\n",
       "<table border=\"1\" class=\"dataframe\">\n",
       "  <thead>\n",
       "    <tr style=\"text-align: right;\">\n",
       "      <th></th>\n",
       "      <th>SeniorCitizen</th>\n",
       "      <th>Partner</th>\n",
       "      <th>Dependents</th>\n",
       "      <th>PhoneService</th>\n",
       "      <th>Contract</th>\n",
       "      <th>PaperlessBilling</th>\n",
       "      <th>Churn</th>\n",
       "      <th>MultipleLines_No</th>\n",
       "      <th>MultipleLines_No phone service</th>\n",
       "      <th>MultipleLines_Yes</th>\n",
       "      <th>...</th>\n",
       "      <th>StreamingMovies_No</th>\n",
       "      <th>StreamingMovies_No internet service</th>\n",
       "      <th>StreamingMovies_Yes</th>\n",
       "      <th>PaymentMethod_Bank transfer (automatic)</th>\n",
       "      <th>PaymentMethod_Credit card (automatic)</th>\n",
       "      <th>PaymentMethod_Electronic check</th>\n",
       "      <th>PaymentMethod_Mailed check</th>\n",
       "      <th>std_tenure</th>\n",
       "      <th>std_MonthlyCharges</th>\n",
       "      <th>std_TotalCharges</th>\n",
       "    </tr>\n",
       "  </thead>\n",
       "  <tbody>\n",
       "    <tr>\n",
       "      <th>0</th>\n",
       "      <td>0</td>\n",
       "      <td>1</td>\n",
       "      <td>0</td>\n",
       "      <td>0</td>\n",
       "      <td>0</td>\n",
       "      <td>1</td>\n",
       "      <td>0</td>\n",
       "      <td>0</td>\n",
       "      <td>1</td>\n",
       "      <td>0</td>\n",
       "      <td>...</td>\n",
       "      <td>1</td>\n",
       "      <td>0</td>\n",
       "      <td>0</td>\n",
       "      <td>0</td>\n",
       "      <td>0</td>\n",
       "      <td>1</td>\n",
       "      <td>0</td>\n",
       "      <td>-1.273120</td>\n",
       "      <td>-1.167925</td>\n",
       "      <td>-0.992987</td>\n",
       "    </tr>\n",
       "    <tr>\n",
       "      <th>1</th>\n",
       "      <td>0</td>\n",
       "      <td>0</td>\n",
       "      <td>0</td>\n",
       "      <td>1</td>\n",
       "      <td>1</td>\n",
       "      <td>0</td>\n",
       "      <td>0</td>\n",
       "      <td>1</td>\n",
       "      <td>0</td>\n",
       "      <td>0</td>\n",
       "      <td>...</td>\n",
       "      <td>1</td>\n",
       "      <td>0</td>\n",
       "      <td>0</td>\n",
       "      <td>0</td>\n",
       "      <td>0</td>\n",
       "      <td>0</td>\n",
       "      <td>1</td>\n",
       "      <td>0.070187</td>\n",
       "      <td>-0.264396</td>\n",
       "      <td>-0.171312</td>\n",
       "    </tr>\n",
       "    <tr>\n",
       "      <th>2</th>\n",
       "      <td>0</td>\n",
       "      <td>0</td>\n",
       "      <td>0</td>\n",
       "      <td>1</td>\n",
       "      <td>0</td>\n",
       "      <td>1</td>\n",
       "      <td>1</td>\n",
       "      <td>1</td>\n",
       "      <td>0</td>\n",
       "      <td>0</td>\n",
       "      <td>...</td>\n",
       "      <td>1</td>\n",
       "      <td>0</td>\n",
       "      <td>0</td>\n",
       "      <td>0</td>\n",
       "      <td>0</td>\n",
       "      <td>0</td>\n",
       "      <td>1</td>\n",
       "      <td>-1.232414</td>\n",
       "      <td>-0.367752</td>\n",
       "      <td>-0.958391</td>\n",
       "    </tr>\n",
       "    <tr>\n",
       "      <th>3</th>\n",
       "      <td>0</td>\n",
       "      <td>0</td>\n",
       "      <td>0</td>\n",
       "      <td>0</td>\n",
       "      <td>1</td>\n",
       "      <td>0</td>\n",
       "      <td>0</td>\n",
       "      <td>0</td>\n",
       "      <td>1</td>\n",
       "      <td>0</td>\n",
       "      <td>...</td>\n",
       "      <td>1</td>\n",
       "      <td>0</td>\n",
       "      <td>0</td>\n",
       "      <td>1</td>\n",
       "      <td>0</td>\n",
       "      <td>0</td>\n",
       "      <td>0</td>\n",
       "      <td>0.517956</td>\n",
       "      <td>-0.752835</td>\n",
       "      <td>-0.192852</td>\n",
       "    </tr>\n",
       "    <tr>\n",
       "      <th>4</th>\n",
       "      <td>0</td>\n",
       "      <td>0</td>\n",
       "      <td>0</td>\n",
       "      <td>1</td>\n",
       "      <td>0</td>\n",
       "      <td>1</td>\n",
       "      <td>1</td>\n",
       "      <td>1</td>\n",
       "      <td>0</td>\n",
       "      <td>0</td>\n",
       "      <td>...</td>\n",
       "      <td>1</td>\n",
       "      <td>0</td>\n",
       "      <td>0</td>\n",
       "      <td>0</td>\n",
       "      <td>0</td>\n",
       "      <td>1</td>\n",
       "      <td>0</td>\n",
       "      <td>-1.232414</td>\n",
       "      <td>0.194036</td>\n",
       "      <td>-0.939171</td>\n",
       "    </tr>\n",
       "  </tbody>\n",
       "</table>\n",
       "<p>5 rows × 38 columns</p>\n",
       "</div>"
      ],
      "text/plain": [
       "   SeniorCitizen  Partner  Dependents  PhoneService  Contract  \\\n",
       "0              0        1           0             0         0   \n",
       "1              0        0           0             1         1   \n",
       "2              0        0           0             1         0   \n",
       "3              0        0           0             0         1   \n",
       "4              0        0           0             1         0   \n",
       "\n",
       "   PaperlessBilling  Churn  MultipleLines_No  MultipleLines_No phone service  \\\n",
       "0                 1      0                 0                               1   \n",
       "1                 0      0                 1                               0   \n",
       "2                 1      1                 1                               0   \n",
       "3                 0      0                 0                               1   \n",
       "4                 1      1                 1                               0   \n",
       "\n",
       "   MultipleLines_Yes  ...  StreamingMovies_No  \\\n",
       "0                  0  ...                   1   \n",
       "1                  0  ...                   1   \n",
       "2                  0  ...                   1   \n",
       "3                  0  ...                   1   \n",
       "4                  0  ...                   1   \n",
       "\n",
       "   StreamingMovies_No internet service  StreamingMovies_Yes  \\\n",
       "0                                    0                    0   \n",
       "1                                    0                    0   \n",
       "2                                    0                    0   \n",
       "3                                    0                    0   \n",
       "4                                    0                    0   \n",
       "\n",
       "   PaymentMethod_Bank transfer (automatic)  \\\n",
       "0                                        0   \n",
       "1                                        0   \n",
       "2                                        0   \n",
       "3                                        1   \n",
       "4                                        0   \n",
       "\n",
       "   PaymentMethod_Credit card (automatic)  PaymentMethod_Electronic check  \\\n",
       "0                                      0                               1   \n",
       "1                                      0                               0   \n",
       "2                                      0                               0   \n",
       "3                                      0                               0   \n",
       "4                                      0                               1   \n",
       "\n",
       "   PaymentMethod_Mailed check  std_tenure  std_MonthlyCharges  \\\n",
       "0                           0   -1.273120           -1.167925   \n",
       "1                           1    0.070187           -0.264396   \n",
       "2                           1   -1.232414           -0.367752   \n",
       "3                           0    0.517956           -0.752835   \n",
       "4                           0   -1.232414            0.194036   \n",
       "\n",
       "   std_TotalCharges  \n",
       "0         -0.992987  \n",
       "1         -0.171312  \n",
       "2         -0.958391  \n",
       "3         -0.192852  \n",
       "4         -0.939171  \n",
       "\n",
       "[5 rows x 38 columns]"
      ]
     },
     "execution_count": 191,
     "metadata": {},
     "output_type": "execute_result"
    }
   ],
   "source": [
    "# padronizar as colunas tenure, MonthlyCharges e TotalCharges\n",
    "df_new = df_clean.copy()\n",
    "std_scaler = StandardScaler()\n",
    "df_new['std_tenure'] = std_scaler.fit_transform(df_clean['tenure'].values.reshape(-1, 1))\n",
    "df_new['std_MonthlyCharges'] = std_scaler.fit_transform(df_clean['MonthlyCharges'].values.reshape(-1, 1))\n",
    "df_new['std_TotalCharges'] = std_scaler.fit_transform(df_clean['TotalCharges'].values.reshape(-1, 1))\n",
    "df_new.drop(['tenure', 'MonthlyCharges', 'TotalCharges'], axis=1, inplace=True)\n",
    "\n",
    "# ver as primeiras entradas\n",
    "df_new.head()"
   ]
  },
  {
   "cell_type": "markdown",
   "id": "cb18e9db",
   "metadata": {},
   "source": [
    "Com o conjunto de teste devidamente separado, e os dados posteriores padronizados, iremos criar o conjunto de treino e validação. Utilizaremos o teste para validar o modelo ao final."
   ]
  },
  {
   "cell_type": "code",
   "execution_count": 192,
   "id": "82e9b1ff",
   "metadata": {},
   "outputs": [],
   "source": [
    "# separar variáveis entre X e y\n",
    "X = df_new.drop('Churn', axis=1)\n",
    "y = df_new['Churn'] # variável alvo\n",
    "\n",
    "# dividir o dataset entre treino e validação\n",
    "X_train, X_test, y_train, y_test = train_test_split(X, y, stratify=y, shuffle=True, test_size = 0.15)"
   ]
  },
  {
   "cell_type": "markdown",
   "id": "78a64b5c",
   "metadata": {},
   "source": [
    "## Balanceamento de Dados"
   ]
  },
  {
   "cell_type": "markdown",
   "id": "a4c02530",
   "metadata": {},
   "source": [
    "### Amostragem"
   ]
  },
  {
   "cell_type": "markdown",
   "id": "1490ece4",
   "metadata": {},
   "source": [
    "Um dataset que possua mais de 50% das entradas em uma classe já é considerado desbalanceado. A maioria dos algoritmos de aprendizado de máquina funcionam bem com conjuntos de dados equilibrados, uma vez que eles buscam otimizar a precisão geral da classificação ou medidas relacionadas. Para dados **desbalanceados**, os limites de decisões estabelecidos por padrão nos algoritmos tendem a ser **enviesados em torno da classe majoritária**. Portanto a **classe minoritária tende a ser classificada incorretamente.**\n",
    "\n",
    "Uma maneira de corrigir o problema é por meio de **amostragem** que contém duas técnicas. A técnica de **over-sampling**, consiste em **gerar novos exemplos para a classe minoritária**, de forma a aumentar sua representatividade no conjunto de dados. Já o **under-sampling** **remove** instâncias da **classe majoritária**.\n",
    "\n",
    "Esses métodos de amostragem, no entanto, possuem **diversas desvantagens** (Weiss, 2004). O under-sampling descarta a exemplos da classe majoritária potencialmente úteis e pode, portanto, degradar o desempenho do classificador. Como o over-sampling introduz casos de treinamento adicionais, pode aumentar o tempo necessário para construir um classificador, e levar a casos de overfitting.\n",
    "\n",
    "Além disso, **over-sampling simples não introduzem novos dados**, apenas replicam, portanto não tratam efetivamente a \"falta de dados\". A literatura mostra que o simples over-sampling é ineficaz para melhorar o reconhecimento da classe minoritária (Ling & Li, 1998; Drummond & Holte, 2003) e por que o under-sampling parece ter vantagem sobre o over-sampling  (Chen et al., 2004). Por essas razões, neste estudo **utilizaremos o under-sampling**.\n",
    "\n",
    "\n",
    "Também será utilizado diversos modelos de classificação em *machine learning*, como **Logistic Regression**, **KNeighbors**, **Decision Tree**, **Random Forest**, **Support Vector Machine** e **XGBoost**. Usaremos a técnica de **Random Under Sampling** que o faz aleatóriamente e os testaremos nos modelos descritos anteriormente.\n",
    "\n"
   ]
  },
  {
   "cell_type": "markdown",
   "id": "75e730d6",
   "metadata": {},
   "source": [
    "### RandomUnderSampler"
   ]
  },
  {
   "cell_type": "markdown",
   "id": "e19c9ae5",
   "metadata": {},
   "source": [
    "O **RandomUnderSampler** é uma técnica de undersampling, usada para lidar com conjuntos de dados desbalanceados, onde uma das classes é muito menor do que as outras. A ideia por trás do undersampling é reduzir a quantidade de amostras da classe majoritária para equilibrar as proporções entre as classes. O RandomUnderSampler é uma técnica simples que **remove aleatoriamente amostras da classe majoritária** até que o número de amostras na classe majoritária corresponda ao número de amostras da classe minoritária. Essa técnica pode ser eficaz para reduzir o viés do modelo em direção à classe majoritária e melhorar a precisão das previsões para a classe minoritária."
   ]
  },
  {
   "cell_type": "code",
   "execution_count": 193,
   "id": "c3e4516d",
   "metadata": {},
   "outputs": [],
   "source": [
    "# instanciando o RandomUnderSampler\n",
    "rus = RandomUnderSampler(random_state=42, sampling_strategy=\"majority\")\n",
    "\n",
    "# aplicando o RandomUnderSampler ao conjunto de dados\n",
    "X_under, y_under = rus.fit_resample(X_train, y_train)"
   ]
  },
  {
   "cell_type": "markdown",
   "id": "2a724421",
   "metadata": {},
   "source": [
    "Nas linhas acima foi criado o objeto para o RandomUnderSampler e os dados foram balanceados. Utilizou-se a estratégia de amostragem \"majority\" para apenas remover instâncias da classe majoritária. Observaremos agora o tamanho antigo da variável alvo e o novo."
   ]
  },
  {
   "cell_type": "code",
   "execution_count": 194,
   "id": "e7548db3",
   "metadata": {},
   "outputs": [
    {
     "name": "stdout",
     "output_type": "stream",
     "text": [
      "Tamanho do y_train: (5088,)\n",
      "Tamanho do y_resampled: (2726,)\n"
     ]
    }
   ],
   "source": [
    "# Visualizando o tamanho do conjunto de treinamento\n",
    "print(\"Tamanho do y_train:\", np.shape(y_train))\n",
    "\n",
    "# Visualizando o tamanho do conjunto balanceado\n",
    "print(\"Tamanho do y_resampled:\", np.shape(y_under))"
   ]
  },
  {
   "cell_type": "markdown",
   "id": "2cecc1ad",
   "metadata": {},
   "source": [
    "Pode-se observar que várias linhas foram removidas a fim de balancear os dados. Veremos a nova disposição."
   ]
  },
  {
   "cell_type": "code",
   "execution_count": 195,
   "id": "20553957",
   "metadata": {},
   "outputs": [
    {
     "name": "stdout",
     "output_type": "stream",
     "text": [
      "0    1363\n",
      "1    1363\n",
      "Name: Churn, dtype: int64\n"
     ]
    }
   ],
   "source": [
    "# ver o balanceamento das classes\n",
    "print(pd.Series(y_under).value_counts())"
   ]
  },
  {
   "cell_type": "code",
   "execution_count": 196,
   "id": "21d9c7a8",
   "metadata": {},
   "outputs": [
    {
     "data": {
      "image/png": "[encoded data removed]",
      "text/plain": [
       "<Figure size 640x480 with 1 Axes>"
      ]
     },
     "metadata": {},
     "output_type": "display_data"
    }
   ],
   "source": [
    "# plotar a nova distribuição de classes\n",
    "sns.countplot(x=y_under, hue=y_under);"
   ]
  },
  {
   "cell_type": "markdown",
   "id": "b61e011f",
   "metadata": {},
   "source": [
    "Temos então, os dados balanceados."
   ]
  },
  {
   "cell_type": "markdown",
   "id": "ef1c5d70",
   "metadata": {},
   "source": [
    "## Treinamento dos Algoritmos de *Machine Learning* aplicado às amostras"
   ]
  },
  {
   "cell_type": "markdown",
   "id": "32ccc681",
   "metadata": {},
   "source": [
    "Para o **treinamento** utilizaremos diversos algoritmos de Machine Learning. Para validar se tivemos um bom resultado com o treinamento, utilizaremos algumas **métricas** para modelos de classificação, como **matriz de confusão, acurácia, recall, precision e AUC.** Sendo priorizado o **recall**, que  é a **proporção de exemplos positivos que o modelo classificou corretamente em relação a todos os exemplos positivos.**"
   ]
  },
  {
   "cell_type": "markdown",
   "id": "efe35bb7",
   "metadata": {},
   "source": [
    "Serão instanciados objetos dos algoritmos abaixo, em seguida, eles serão treinados em validação cruzada para verificar qual tem o maior recall."
   ]
  },
  {
   "cell_type": "markdown",
   "id": "4d6bc1ce",
   "metadata": {},
   "source": [
    "* Regressão Logística: Um algoritmo simples e eficaz baseado em regressão linear, adaptado para problemas de classificação binária.\n",
    "\n",
    "* k-Nearest Neighbors (k-NN): Um algoritmo baseado em instância que classifica um objeto com base na classe majoritária de seus k vizinhos mais próximos.\n",
    "\n",
    "* Árvores de Decisão: Algoritmos que constroem uma árvore de decisão com base nos atributos dos dados de treinamento, permitindo classificações rápidas e interpretação visual do processo de decisão.\n",
    "\n",
    "* Random Forest: Um método de conjunto que constrói várias árvores de decisão e combina suas previsões para obter uma classificação mais precisa e robusta.\n",
    "\n",
    "* Support Vector Machines (SVM): Um algoritmo que busca encontrar o hiperplano que melhor separa as classes no espaço de características, maximizando a margem entre as classes.\n",
    "\n",
    "* XGBoost: Uma implementação otimizada do Gradient Boosting com foco em eficiência computacional e flexibilidade de modelage"
   ]
  },
  {
   "cell_type": "code",
   "execution_count": 197,
   "id": "d8b91a23",
   "metadata": {},
   "outputs": [],
   "source": [
    "# Instanciação dos classificadores\n",
    "logistic_regression = LogisticRegression()\n",
    "knn = KNeighborsClassifier()\n",
    "decision_tree = DecisionTreeClassifier()\n",
    "random_forest = RandomForestClassifier()\n",
    "svc = SVC()\n",
    "xgboost = XGBClassifier()"
   ]
  },
  {
   "cell_type": "markdown",
   "id": "423bb432",
   "metadata": {},
   "source": [
    "A validação cruzada é uma técnica que permite avaliar o desempenho do modelo dividindo os dados em k partições (folds), treinando o modelo em k-1 partições e testando-o na partição restante, repetindo esse processo k vezes. Ela é usada para estimar a performance do modelo em dados não vistos e ajuda a evitar problemas de sobreajuste (overfitting) ou subajuste (underfitting). A utilizaremos durante o treinamento dos nossos modelos.\n",
    "\n",
    "Baseado no paper **Handling class imbalance in customer churn prediction**, [disponível neste link](https://citeseerx.ist.psu.edu/viewdoc/download?doi=10.1.1.477.1151&rep=rep1&type=pdf), utilizaremos a técnica de 5x2 CV, onde foram utilizadas cinco iterações de validação cruzada de dois folders. Em cada iteração, os dados foram divididos aleatoriamente pela metade. Uma metade foi fornecida aos algoritmos e a outra metade foi usada para testar a solução final; e vice-versa."
   ]
  },
  {
   "cell_type": "code",
   "execution_count": 198,
   "id": "c4854e71",
   "metadata": {
    "scrolled": true
   },
   "outputs": [
    {
     "data": {
      "text/html": [
       "<div>\n",
       "<style scoped>\n",
       "    .dataframe tbody tr th:only-of-type {\n",
       "        vertical-align: middle;\n",
       "    }\n",
       "\n",
       "    .dataframe tbody tr th {\n",
       "        vertical-align: top;\n",
       "    }\n",
       "\n",
       "    .dataframe thead th {\n",
       "        text-align: right;\n",
       "    }\n",
       "</style>\n",
       "<table border=\"1\" class=\"dataframe\">\n",
       "  <thead>\n",
       "    <tr style=\"text-align: right;\">\n",
       "      <th></th>\n",
       "      <th>Recall</th>\n",
       "    </tr>\n",
       "  </thead>\n",
       "  <tbody>\n",
       "    <tr>\n",
       "      <th>Support Vector Machines</th>\n",
       "      <td>0.769113</td>\n",
       "    </tr>\n",
       "    <tr>\n",
       "      <th>Logistic Regression</th>\n",
       "      <td>0.769023</td>\n",
       "    </tr>\n",
       "    <tr>\n",
       "      <th>Random Forest</th>\n",
       "      <td>0.753613</td>\n",
       "    </tr>\n",
       "    <tr>\n",
       "      <th>XGBoost</th>\n",
       "      <td>0.736663</td>\n",
       "    </tr>\n",
       "    <tr>\n",
       "      <th>K-Nearest Neighbors</th>\n",
       "      <td>0.736326</td>\n",
       "    </tr>\n",
       "    <tr>\n",
       "      <th>Decision Tree</th>\n",
       "      <td>0.678024</td>\n",
       "    </tr>\n",
       "  </tbody>\n",
       "</table>\n",
       "</div>"
      ],
      "text/plain": [
       "                           Recall\n",
       "Support Vector Machines  0.769113\n",
       "Logistic Regression      0.769023\n",
       "Random Forest            0.753613\n",
       "XGBoost                  0.736663\n",
       "K-Nearest Neighbors      0.736326\n",
       "Decision Tree            0.678024"
      ]
     },
     "execution_count": 198,
     "metadata": {},
     "output_type": "execute_result"
    }
   ],
   "source": [
    "# criação dos classificadores\n",
    "classifiers = [\n",
    "    ('Logistic Regression', logistic_regression),\n",
    "    ('K-Nearest Neighbors', knn),\n",
    "    ('Decision Tree', decision_tree),\n",
    "    ('Random Forest', random_forest),\n",
    "    ('Support Vector Machines', svc),\n",
    "    ('XGBoost', xgboost)\n",
    "]\n",
    "\n",
    "recall = []\n",
    "model = []\n",
    "\n",
    "# validação cruzada de dois folders com 5 repetições\n",
    "cv = RepeatedKFold(n_splits=2, n_repeats=5, random_state=42)\n",
    "\n",
    "\n",
    "X_under_np = X_under.to_numpy()\n",
    "y_under_np = y_under.to_numpy()\n",
    "\n",
    "for name, clf in classifiers:\n",
    "    scores = []\n",
    "    \n",
    "    # Realiza a validação cruzada\n",
    "    for train_index, test_index in cv.split(X_under_np, y_under_np):\n",
    "        # Dados são divididos em treino e teste\n",
    "        X_train, X_test = X_under_np[train_index], X_under_np[test_index]\n",
    "        y_train, y_test = y_under_np[train_index], y_under_np[test_index]\n",
    "\n",
    "        clf.fit(X_train, y_train)\n",
    "        \n",
    "        y_pred = clf.predict(X_test)\n",
    "\n",
    "        # Recall é calculado e adicionado à lista de pontuações\n",
    "        recall_iter = recall_score(y_test, y_pred, average='macro')\n",
    "        scores.append(recall_iter)\n",
    "\n",
    "    recall.append(np.mean(scores))\n",
    "    model.append(name)\n",
    "    \n",
    "recall_sorted, model_sorted = zip(*sorted(zip(recall, model), reverse=True))\n",
    "pd.DataFrame(data=recall_sorted, index=model_sorted, columns=['Recall'])"
   ]
  },
  {
   "cell_type": "markdown",
   "id": "1b2150bf",
   "metadata": {},
   "source": [
    "No código acima, foi realizado nos algoritmos a validação cruzada com a técnica 5x2 explicitada previamente. Também foi calculado a média do recall para cada algoritmo. Os algoritmos com melhor recall foram Logistic Regression e SVM, respectivamente. Agora irei otimizar os hiperparâmetros a fim de obter resultados ainda mais satisfatórios."
   ]
  },
  {
   "cell_type": "markdown",
   "id": "a4dbea2b",
   "metadata": {},
   "source": [
    "## Otimização dos Hiperparâmetros - Logistic Regression e Support Vector Machines"
   ]
  },
  {
   "cell_type": "markdown",
   "id": "8b9364e1",
   "metadata": {},
   "source": [
    "Uma das formas mais comuns de otimizar os hiperparâmetros do modelo é utilizando o GridSearchCV do scikit-learn. O GridSearchCV é uma ferramenta que permite testar várias combinações de hiperparâmetros de um modelo, treinando e avaliando cada modelo para encontrar a melhor combinação de hiperparâmetros para o conjunto de dados em questão. \n",
    "\n",
    "O utilizaremos para encontrar os melhores parâmetros dos modelos de Machine Learning escolhidos."
   ]
  },
  {
   "cell_type": "code",
   "execution_count": 199,
   "id": "d0ed105e",
   "metadata": {},
   "outputs": [
    {
     "name": "stdout",
     "output_type": "stream",
     "text": [
      "Melhores hiperparâmetros para Logistic Regression: {'C': 0.01, 'penalty': 'l2', 'solver': 'saga'}\n",
      "Melhores hiperparâmetros para Support Vector Machines: {'C': 0.1, 'kernel': 'rbf'}\n"
     ]
    },
    {
     "data": {
      "text/html": [
       "<style>#sk-container-id-5 {color: black;background-color: white;}#sk-container-id-5 pre{padding: 0;}#sk-container-id-5 div.sk-toggleable {background-color: white;}#sk-container-id-5 label.sk-toggleable__label {cursor: pointer;display: block;width: 100%;margin-bottom: 0;padding: 0.3em;box-sizing: border-box;text-align: center;}#sk-container-id-5 label.sk-toggleable__label-arrow:before {content: \"▸\";float: left;margin-right: 0.25em;color: #696969;}#sk-container-id-5 label.sk-toggleable__label-arrow:hover:before {color: black;}#sk-container-id-5 div.sk-estimator:hover label.sk-toggleable__label-arrow:before {color: black;}#sk-container-id-5 div.sk-toggleable__content {max-height: 0;max-width: 0;overflow: hidden;text-align: left;background-color: #f0f8ff;}#sk-container-id-5 div.sk-toggleable__content pre {margin: 0.2em;color: black;border-radius: 0.25em;background-color: #f0f8ff;}#sk-container-id-5 input.sk-toggleable__control:checked~div.sk-toggleable__content {max-height: 200px;max-width: 100%;overflow: auto;}#sk-container-id-5 input.sk-toggleable__control:checked~label.sk-toggleable__label-arrow:before {content: \"▾\";}#sk-container-id-5 div.sk-estimator input.sk-toggleable__control:checked~label.sk-toggleable__label {background-color: #d4ebff;}#sk-container-id-5 div.sk-label input.sk-toggleable__control:checked~label.sk-toggleable__label {background-color: #d4ebff;}#sk-container-id-5 input.sk-hidden--visually {border: 0;clip: rect(1px 1px 1px 1px);clip: rect(1px, 1px, 1px, 1px);height: 1px;margin: -1px;overflow: hidden;padding: 0;position: absolute;width: 1px;}#sk-container-id-5 div.sk-estimator {font-family: monospace;background-color: #f0f8ff;border: 1px dotted black;border-radius: 0.25em;box-sizing: border-box;margin-bottom: 0.5em;}#sk-container-id-5 div.sk-estimator:hover {background-color: #d4ebff;}#sk-container-id-5 div.sk-parallel-item::after {content: \"\";width: 100%;border-bottom: 1px solid gray;flex-grow: 1;}#sk-container-id-5 div.sk-label:hover label.sk-toggleable__label {background-color: #d4ebff;}#sk-container-id-5 div.sk-serial::before {content: \"\";position: absolute;border-left: 1px solid gray;box-sizing: border-box;top: 0;bottom: 0;left: 50%;z-index: 0;}#sk-container-id-5 div.sk-serial {display: flex;flex-direction: column;align-items: center;background-color: white;padding-right: 0.2em;padding-left: 0.2em;position: relative;}#sk-container-id-5 div.sk-item {position: relative;z-index: 1;}#sk-container-id-5 div.sk-parallel {display: flex;align-items: stretch;justify-content: center;background-color: white;position: relative;}#sk-container-id-5 div.sk-item::before, #sk-container-id-5 div.sk-parallel-item::before {content: \"\";position: absolute;border-left: 1px solid gray;box-sizing: border-box;top: 0;bottom: 0;left: 50%;z-index: -1;}#sk-container-id-5 div.sk-parallel-item {display: flex;flex-direction: column;z-index: 1;position: relative;background-color: white;}#sk-container-id-5 div.sk-parallel-item:first-child::after {align-self: flex-end;width: 50%;}#sk-container-id-5 div.sk-parallel-item:last-child::after {align-self: flex-start;width: 50%;}#sk-container-id-5 div.sk-parallel-item:only-child::after {width: 0;}#sk-container-id-5 div.sk-dashed-wrapped {border: 1px dashed gray;margin: 0 0.4em 0.5em 0.4em;box-sizing: border-box;padding-bottom: 0.4em;background-color: white;}#sk-container-id-5 div.sk-label label {font-family: monospace;font-weight: bold;display: inline-block;line-height: 1.2em;}#sk-container-id-5 div.sk-label-container {text-align: center;}#sk-container-id-5 div.sk-container {/* jupyter's `normalize.less` sets `[hidden] { display: none; }` but bootstrap.min.css set `[hidden] { display: none !important; }` so we also need the `!important` here to be able to override the default hidden behavior on the sphinx rendered scikit-learn.org. See: https://github.com/scikit-learn/scikit-learn/issues/21755 */display: inline-block !important;position: relative;}#sk-container-id-5 div.sk-text-repr-fallback {display: none;}</style><div id=\"sk-container-id-5\" class=\"sk-top-container\"><div class=\"sk-text-repr-fallback\"><pre>SVC(C=0.1, random_state=42)</pre><b>In a Jupyter environment, please rerun this cell to show the HTML representation or trust the notebook. <br />On GitHub, the HTML representation is unable to render, please try loading this page with nbviewer.org.</b></div><div class=\"sk-container\" hidden><div class=\"sk-item\"><div class=\"sk-estimator sk-toggleable\"><input class=\"sk-toggleable__control sk-hidden--visually\" id=\"sk-estimator-id-5\" type=\"checkbox\" checked><label for=\"sk-estimator-id-5\" class=\"sk-toggleable__label sk-toggleable__label-arrow\">SVC</label><div class=\"sk-toggleable__content\"><pre>SVC(C=0.1, random_state=42)</pre></div></div></div></div></div>"
      ],
      "text/plain": [
       "SVC(C=0.1, random_state=42)"
      ]
     },
     "execution_count": 199,
     "metadata": {},
     "output_type": "execute_result"
    }
   ],
   "source": [
    "# Hiperparâmetros a serem otimizados\n",
    "logreg_params = {\n",
    "    'C': np.logspace(-3, 3, 7),\n",
    "    'penalty': ['l1', 'l2'],\n",
    "    'solver': ['liblinear', 'saga']\n",
    "}\n",
    "\n",
    "svc_params = {\n",
    "    'C': np.logspace(-3, 3, 7),\n",
    "    'kernel': ['linear', 'rbf']\n",
    "}\n",
    "\n",
    "\n",
    "logreg = LogisticRegression(random_state=42)\n",
    "svc = SVC(random_state=42)\n",
    "\n",
    "# objeto GridSearchCV para cada modelo\n",
    "recall_scorer = make_scorer(recall_score, average='macro')\n",
    "grid_logreg = GridSearchCV(logreg, logreg_params, scoring=recall_scorer, cv=5, n_jobs=-1)\n",
    "grid_svc = GridSearchCV(svc, svc_params, scoring=recall_scorer, cv=5, n_jobs=-1)\n",
    "\n",
    "# treina os modelos usando GridSearchCV\n",
    "grid_logreg.fit(X_under, y_under)\n",
    "grid_svc.fit(X_under, y_under)\n",
    "\n",
    "# melhores hiperparâmetros encontrados\n",
    "best_logreg_params = grid_logreg.best_params_\n",
    "best_svc_params = grid_svc.best_params_\n",
    "\n",
    "print(\"Melhores hiperparâmetros para Logistic Regression:\", best_logreg_params)\n",
    "print(\"Melhores hiperparâmetros para Support Vector Machines:\", best_svc_params)\n",
    "\n",
    "# treina os modelos\n",
    "best_logreg = LogisticRegression(**best_logreg_params, random_state=42)\n",
    "best_svc = SVC(**best_svc_params, random_state=42)\n",
    "\n",
    "best_logreg.fit(X_under, y_under)\n",
    "best_svc.fit(X_under, y_under)"
   ]
  },
  {
   "cell_type": "markdown",
   "id": "2c821956",
   "metadata": {},
   "source": [
    "Os melhores hiperparâmetros econtrados através do GridSearch foram:\n",
    "* Logistic Regression: {'C': 0.01, 'penalty': 'l2', 'solver': 'saga'}\n",
    "* Support Vector Machines: {'C': 1.0, 'kernel': 'rbf'}\n",
    "\n",
    "Os modelos foram treinados, abaixo realizaremos previsões no conjunto de teste e calcularemos métricas de avaliação."
   ]
  },
  {
   "cell_type": "markdown",
   "id": "d88137e9",
   "metadata": {},
   "source": [
    "### Logistic Regression"
   ]
  },
  {
   "cell_type": "code",
   "execution_count": 204,
   "id": "7893fad9",
   "metadata": {
    "scrolled": true
   },
   "outputs": [
    {
     "name": "stdout",
     "output_type": "stream",
     "text": [
      "Métricas de avaliação do modelo de Regressão Logística:\n",
      "Acurácia: 0.77\n",
      "Precisão: 0.75\n",
      "Recall: 0.80\n",
      "ROC AUC: 0.77\n"
     ]
    }
   ],
   "source": [
    "# previsões no conjunto de teste\n",
    "y_pred_logreg = best_logreg.predict(X_test)\n",
    "\n",
    "# métricas de avaliação para o modelo de Regressão Logística\n",
    "accuracy_logreg = accuracy_score(y_test, y_pred_logreg)\n",
    "precision_logreg = precision_score(y_test, y_pred_logreg)\n",
    "recall_logreg = recall_score(y_test, y_pred_logreg)\n",
    "roc_auc_logreg = roc_auc_score(y_test, y_pred_logreg)\n",
    "avg_precision_logreg = average_precision_score(y_test, y_pred_logreg)\n",
    "\n",
    "print(\"Métricas de avaliação do modelo de Regressão Logística:\")\n",
    "print(\"Acurácia: {:.2f}\".format(accuracy_logreg))\n",
    "print(\"Precisão: {:.2f}\".format(precision_logreg))\n",
    "print(\"Recall: {:.2f}\".format(recall_logreg))\n",
    "print(\"ROC AUC: {:.2f}\".format(roc_auc_logreg))"
   ]
  },
  {
   "cell_type": "markdown",
   "id": "2745d6bd",
   "metadata": {},
   "source": [
    "Para lidar com dados desbalanceados, a **acurácia** pode **não ser** a **melhor métrica**. Todavia, obtivemos uma acurácia de 0.77, o que significa que o **modelo acertou 77% dos conjuntos de teste**. A precisão é a proporção de verdadeiros positivos em relação à soma dos verdadeiros positivos e falsos positivos, que neste caso foi de 0.75. Já o recall é a proporção de verdadeiros positivos em relação à soma dos verdadeiros positivos e falsos negativos. O **recall** nesta situação é a **métrica mais interessante**, haja vista que clientes que realizam o cancelamento apresentam dano real à empresa. O modelo apresentou um bom resultado, de 0.8. A **área sob a curva ROC**, que representa a **capacidade do modelo de distinguir entre as classes** positivas e negativas. Neste caso, o valor ROC AUC é de 0,77 (77%), o que indica um **bom poder discriminativo do modelo**."
   ]
  },
  {
   "cell_type": "markdown",
   "id": "cd63f94c",
   "metadata": {},
   "source": [
    "Será plotado a matriz de confusão dos resultados obtidos."
   ]
  },
  {
   "cell_type": "code",
   "execution_count": 201,
   "id": "f30df4af",
   "metadata": {
    "scrolled": false
   },
   "outputs": [
    {
     "data": {
      "image/png": "[encoded data removed]",
      "text/plain": [
       "<Figure size 640x480 with 2 Axes>"
      ]
     },
     "metadata": {},
     "output_type": "display_data"
    }
   ],
   "source": [
    "skplt.metrics.plot_confusion_matrix(y_test, y_pred_logreg, normalize=True, cmap='YlOrRd')\n",
    "plt.title(\"Logistic Regression - Confusion Matrix\");"
   ]
  },
  {
   "cell_type": "markdown",
   "id": "940d2817",
   "metadata": {},
   "source": [
    "### Support Vector Machines"
   ]
  },
  {
   "cell_type": "code",
   "execution_count": 206,
   "id": "72f54b36",
   "metadata": {
    "scrolled": true
   },
   "outputs": [
    {
     "name": "stdout",
     "output_type": "stream",
     "text": [
      "\n",
      "Métricas de avaliação do modelo SVM:\n",
      "Acurácia: 0.78\n",
      "Precisão: 0.75\n",
      "Recall: 0.81\n",
      "ROC AUC: 0.78\n"
     ]
    }
   ],
   "source": [
    "# previsões no conjunto de teste\n",
    "y_pred_svc = best_svc.predict(X_test)\n",
    "\n",
    "# Calcule as métricas de avaliação para o modelo SVM\n",
    "accuracy_svc = accuracy_score(y_test, y_pred_svc)\n",
    "precision_svc = precision_score(y_test, y_pred_svc)\n",
    "recall_svc = recall_score(y_test, y_pred_svc)\n",
    "roc_auc_svc = roc_auc_score(y_test, y_pred_svc)\n",
    "avg_precision_svc = average_precision_score(y_test, y_pred_svc)\n",
    "\n",
    "print(\"\\nMétricas de avaliação do modelo SVM:\")\n",
    "print(\"Acurácia: {:.2f}\".format(accuracy_svc))\n",
    "print(\"Precisão: {:.2f}\".format(precision_svc))\n",
    "print(\"Recall: {:.2f}\".format(recall_svc))\n",
    "print(\"ROC AUC: {:.2f}\".format(roc_auc_svc))"
   ]
  },
  {
   "cell_type": "markdown",
   "id": "4ae4ab8e",
   "metadata": {},
   "source": [
    "Utilizando o modelo **Support Vector Machines** tivemos uma acurácia de 0.78, logo o modelo **acertou 78% do conjunto de teste**. A precisão foi de 75% e o recall de 81%. O recall, dados semelhantes ao modelo de Regressão Logística. A ROC AUC foi de 0.78 o que indica uma boa capacidade de distinguir entre as classes positivas e negativas. De modo geral, o modelo apresentou um desemepenho satisfatório. Plotaremos agora a matriz de confusão referente aos resultados utilizando SVM."
   ]
  },
  {
   "cell_type": "code",
   "execution_count": 207,
   "id": "1830a558",
   "metadata": {
    "scrolled": true
   },
   "outputs": [
    {
     "data": {
      "image/png": "[encoded data removed]",
      "text/plain": [
       "<Figure size 640x480 with 2 Axes>"
      ]
     },
     "metadata": {},
     "output_type": "display_data"
    }
   ],
   "source": [
    "skplt.metrics.plot_confusion_matrix(y_test, y_pred_svc, normalize=True, cmap='YlOrRd')\n",
    "plt.title(\"Support Vector Machines - Confusion Matrix\");"
   ]
  },
  {
   "cell_type": "markdown",
   "id": "055be15c",
   "metadata": {},
   "source": [
    "## Avaliação do Modelo Utilizando os Dados de Teste\n",
    "\n",
    "No começo do projeto, realizamos um split nos dados para que tivéssemos 3 conjuntos: Um de treino, um de validação e um de teste. Agora que já exploramos e preparamos os dados, instaciamos o modelo e fizemos previsões no conjunto de validação, é hora de descobrirmos o potencial desse simples modelo com os dados de teste."
   ]
  },
  {
   "cell_type": "markdown",
   "id": "83b006a5",
   "metadata": {},
   "source": [
    "### Padronização no conjunto de teste"
   ]
  },
  {
   "cell_type": "markdown",
   "id": "bdefa388",
   "metadata": {},
   "source": [
    "Antes de efetivamente testar os dados nos nossos classificadores, precisamos padronizar os modelos, de forma semelhante à padronização dos dados de treinamento. Faremos isso utilizando o StandardScarler. Logo em seguida, os dados serão separados em X_test e y_test, onde y_test irá conter a variável alvo."
   ]
  },
  {
   "cell_type": "code",
   "execution_count": 210,
   "id": "a5396479",
   "metadata": {},
   "outputs": [
    {
     "data": {
      "text/html": [
       "<div>\n",
       "<style scoped>\n",
       "    .dataframe tbody tr th:only-of-type {\n",
       "        vertical-align: middle;\n",
       "    }\n",
       "\n",
       "    .dataframe tbody tr th {\n",
       "        vertical-align: top;\n",
       "    }\n",
       "\n",
       "    .dataframe thead th {\n",
       "        text-align: right;\n",
       "    }\n",
       "</style>\n",
       "<table border=\"1\" class=\"dataframe\">\n",
       "  <thead>\n",
       "    <tr style=\"text-align: right;\">\n",
       "      <th></th>\n",
       "      <th>SeniorCitizen</th>\n",
       "      <th>Partner</th>\n",
       "      <th>Dependents</th>\n",
       "      <th>PhoneService</th>\n",
       "      <th>Contract</th>\n",
       "      <th>PaperlessBilling</th>\n",
       "      <th>Churn</th>\n",
       "      <th>MultipleLines_No</th>\n",
       "      <th>MultipleLines_No phone service</th>\n",
       "      <th>MultipleLines_Yes</th>\n",
       "      <th>...</th>\n",
       "      <th>StreamingMovies_No</th>\n",
       "      <th>StreamingMovies_No internet service</th>\n",
       "      <th>StreamingMovies_Yes</th>\n",
       "      <th>PaymentMethod_Bank transfer (automatic)</th>\n",
       "      <th>PaymentMethod_Credit card (automatic)</th>\n",
       "      <th>PaymentMethod_Electronic check</th>\n",
       "      <th>PaymentMethod_Mailed check</th>\n",
       "      <th>std_tenure</th>\n",
       "      <th>std_MonthlyCharges</th>\n",
       "      <th>std_TotalCharges</th>\n",
       "    </tr>\n",
       "  </thead>\n",
       "  <tbody>\n",
       "    <tr>\n",
       "      <th>2200</th>\n",
       "      <td>0</td>\n",
       "      <td>0</td>\n",
       "      <td>0</td>\n",
       "      <td>1</td>\n",
       "      <td>1</td>\n",
       "      <td>0</td>\n",
       "      <td>0</td>\n",
       "      <td>1</td>\n",
       "      <td>0</td>\n",
       "      <td>0</td>\n",
       "      <td>...</td>\n",
       "      <td>1</td>\n",
       "      <td>0</td>\n",
       "      <td>0</td>\n",
       "      <td>0</td>\n",
       "      <td>0</td>\n",
       "      <td>1</td>\n",
       "      <td>0</td>\n",
       "      <td>-0.567775</td>\n",
       "      <td>-0.192426</td>\n",
       "      <td>-0.555174</td>\n",
       "    </tr>\n",
       "    <tr>\n",
       "      <th>4627</th>\n",
       "      <td>0</td>\n",
       "      <td>0</td>\n",
       "      <td>0</td>\n",
       "      <td>1</td>\n",
       "      <td>1</td>\n",
       "      <td>1</td>\n",
       "      <td>0</td>\n",
       "      <td>0</td>\n",
       "      <td>0</td>\n",
       "      <td>1</td>\n",
       "      <td>...</td>\n",
       "      <td>0</td>\n",
       "      <td>0</td>\n",
       "      <td>1</td>\n",
       "      <td>0</td>\n",
       "      <td>1</td>\n",
       "      <td>0</td>\n",
       "      <td>0</td>\n",
       "      <td>1.105521</td>\n",
       "      <td>1.715511</td>\n",
       "      <td>2.083496</td>\n",
       "    </tr>\n",
       "    <tr>\n",
       "      <th>3225</th>\n",
       "      <td>0</td>\n",
       "      <td>0</td>\n",
       "      <td>0</td>\n",
       "      <td>1</td>\n",
       "      <td>0</td>\n",
       "      <td>1</td>\n",
       "      <td>0</td>\n",
       "      <td>1</td>\n",
       "      <td>0</td>\n",
       "      <td>0</td>\n",
       "      <td>...</td>\n",
       "      <td>0</td>\n",
       "      <td>0</td>\n",
       "      <td>1</td>\n",
       "      <td>0</td>\n",
       "      <td>0</td>\n",
       "      <td>1</td>\n",
       "      <td>0</td>\n",
       "      <td>-0.812648</td>\n",
       "      <td>0.256789</td>\n",
       "      <td>-0.608525</td>\n",
       "    </tr>\n",
       "    <tr>\n",
       "      <th>2828</th>\n",
       "      <td>0</td>\n",
       "      <td>0</td>\n",
       "      <td>0</td>\n",
       "      <td>1</td>\n",
       "      <td>2</td>\n",
       "      <td>0</td>\n",
       "      <td>0</td>\n",
       "      <td>1</td>\n",
       "      <td>0</td>\n",
       "      <td>0</td>\n",
       "      <td>...</td>\n",
       "      <td>0</td>\n",
       "      <td>1</td>\n",
       "      <td>0</td>\n",
       "      <td>0</td>\n",
       "      <td>0</td>\n",
       "      <td>0</td>\n",
       "      <td>1</td>\n",
       "      <td>-1.302393</td>\n",
       "      <td>-1.425725</td>\n",
       "      <td>-1.005540</td>\n",
       "    </tr>\n",
       "    <tr>\n",
       "      <th>3768</th>\n",
       "      <td>0</td>\n",
       "      <td>1</td>\n",
       "      <td>0</td>\n",
       "      <td>1</td>\n",
       "      <td>0</td>\n",
       "      <td>1</td>\n",
       "      <td>0</td>\n",
       "      <td>0</td>\n",
       "      <td>0</td>\n",
       "      <td>1</td>\n",
       "      <td>...</td>\n",
       "      <td>1</td>\n",
       "      <td>0</td>\n",
       "      <td>0</td>\n",
       "      <td>0</td>\n",
       "      <td>1</td>\n",
       "      <td>0</td>\n",
       "      <td>0</td>\n",
       "      <td>0.901461</td>\n",
       "      <td>0.446276</td>\n",
       "      <td>0.860415</td>\n",
       "    </tr>\n",
       "  </tbody>\n",
       "</table>\n",
       "<p>5 rows × 38 columns</p>\n",
       "</div>"
      ],
      "text/plain": [
       "      SeniorCitizen  Partner  Dependents  PhoneService  Contract  \\\n",
       "2200              0        0           0             1         1   \n",
       "4627              0        0           0             1         1   \n",
       "3225              0        0           0             1         0   \n",
       "2828              0        0           0             1         2   \n",
       "3768              0        1           0             1         0   \n",
       "\n",
       "      PaperlessBilling  Churn  MultipleLines_No  \\\n",
       "2200                 0      0                 1   \n",
       "4627                 1      0                 0   \n",
       "3225                 1      0                 1   \n",
       "2828                 0      0                 1   \n",
       "3768                 1      0                 0   \n",
       "\n",
       "      MultipleLines_No phone service  MultipleLines_Yes  ...  \\\n",
       "2200                               0                  0  ...   \n",
       "4627                               0                  1  ...   \n",
       "3225                               0                  0  ...   \n",
       "2828                               0                  0  ...   \n",
       "3768                               0                  1  ...   \n",
       "\n",
       "      StreamingMovies_No  StreamingMovies_No internet service  \\\n",
       "2200                   1                                    0   \n",
       "4627                   0                                    0   \n",
       "3225                   0                                    0   \n",
       "2828                   0                                    1   \n",
       "3768                   1                                    0   \n",
       "\n",
       "      StreamingMovies_Yes  PaymentMethod_Bank transfer (automatic)  \\\n",
       "2200                    0                                        0   \n",
       "4627                    1                                        0   \n",
       "3225                    1                                        0   \n",
       "2828                    0                                        0   \n",
       "3768                    0                                        0   \n",
       "\n",
       "      PaymentMethod_Credit card (automatic)  PaymentMethod_Electronic check  \\\n",
       "2200                                      0                               1   \n",
       "4627                                      1                               0   \n",
       "3225                                      0                               1   \n",
       "2828                                      0                               0   \n",
       "3768                                      1                               0   \n",
       "\n",
       "      PaymentMethod_Mailed check  std_tenure  std_MonthlyCharges  \\\n",
       "2200                           0   -0.567775           -0.192426   \n",
       "4627                           0    1.105521            1.715511   \n",
       "3225                           0   -0.812648            0.256789   \n",
       "2828                           1   -1.302393           -1.425725   \n",
       "3768                           0    0.901461            0.446276   \n",
       "\n",
       "      std_TotalCharges  \n",
       "2200         -0.555174  \n",
       "4627          2.083496  \n",
       "3225         -0.608525  \n",
       "2828         -1.005540  \n",
       "3768          0.860415  \n",
       "\n",
       "[5 rows x 38 columns]"
      ]
     },
     "execution_count": 210,
     "metadata": {},
     "output_type": "execute_result"
    }
   ],
   "source": [
    "# padronizar as colunas Tenure, MonthlyCharges e TotalCharges\n",
    "std_scaler = StandardScaler()\n",
    "test['std_tenure'] = std_scaler.fit_transform(test['tenure'].values.reshape(-1, 1))\n",
    "test['std_MonthlyCharges'] = std_scaler.fit_transform(test['MonthlyCharges'].values.reshape(-1, 1))\n",
    "test['std_TotalCharges'] = std_scaler.fit_transform(test['TotalCharges'].values.reshape(-1, 1))\n",
    "test.drop(['tenure', 'MonthlyCharges', 'TotalCharges'], axis=1, inplace=True)\n",
    "\n",
    "# ver as primeiras entradas\n",
    "test.head()"
   ]
  },
  {
   "cell_type": "code",
   "execution_count": 211,
   "id": "116a0ab6",
   "metadata": {},
   "outputs": [],
   "source": [
    "# separar variáveis entre X e y\n",
    "X_test = test.drop('Churn', axis=1)\n",
    "y_test = test['Churn']"
   ]
  },
  {
   "cell_type": "markdown",
   "id": "d25a88d2",
   "metadata": {},
   "source": [
    "### Balanceamento de dados"
   ]
  },
  {
   "cell_type": "markdown",
   "id": "8ef1f858",
   "metadata": {},
   "source": [
    "Verificaremos o balanceamento do conjunto de teste."
   ]
  },
  {
   "cell_type": "code",
   "execution_count": 212,
   "id": "994b53cb",
   "metadata": {},
   "outputs": [
    {
     "data": {
      "text/plain": [
       "(1056, 38)"
      ]
     },
     "execution_count": 212,
     "metadata": {},
     "output_type": "execute_result"
    }
   ],
   "source": [
    "# tamanho dos dados de teste\n",
    "test.shape"
   ]
  },
  {
   "cell_type": "code",
   "execution_count": 213,
   "id": "4b6f7202",
   "metadata": {
    "scrolled": false
   },
   "outputs": [
    {
     "data": {
      "text/plain": [
       "0    791\n",
       "1    265\n",
       "Name: Churn, dtype: int64"
      ]
     },
     "execution_count": 213,
     "metadata": {},
     "output_type": "execute_result"
    }
   ],
   "source": [
    "# balanceamento dos dados de teste\n",
    "test.Churn.value_counts()"
   ]
  },
  {
   "cell_type": "markdown",
   "id": "778aed62",
   "metadata": {},
   "source": [
    "O conjunto de teste contém 1056 instâncias, sendo 791 referente à classe 0 (não há Churn) e 265 à classe 1 (há churn). Pode-se perceber que o **conjunto é desbalanceado**, haja vista que é uma amostra dos dados originais. É esperado que o nosso classificador apresente resultados satisfatórios e consiga distinguir bem ambas as classes.\n",
    "\n",
    "Abaixo realizaremos previsões no conjunto de teste utilizando ambos os classificadores."
   ]
  },
  {
   "cell_type": "code",
   "execution_count": 214,
   "id": "da249651",
   "metadata": {
    "scrolled": true
   },
   "outputs": [
    {
     "name": "stdout",
     "output_type": "stream",
     "text": [
      "Métricas de avaliação do modelo de Regressão Logística:\n",
      "Acurácia: 0.74\n",
      "Precisão: 0.49\n",
      "Recall: 0.76\n",
      "ROC AUC: 0.75\n",
      "\n",
      "Métricas de avaliação do modelo SVM:\n",
      "Acurácia: 0.73\n",
      "Precisão: 0.48\n",
      "Recall: 0.77\n",
      "ROC AUC: 0.75\n"
     ]
    }
   ],
   "source": [
    "# Faça previsões no conjunto de teste\n",
    "y_pred_logreg = best_logreg.predict(X_test)\n",
    "y_pred_svc = best_svc.predict(X_test)\n",
    "\n",
    "# métricas de avaliação para o modelo de Regressão Logística\n",
    "accuracy_logreg = accuracy_score(y_test, y_pred_logreg)\n",
    "precision_logreg = precision_score(y_test, y_pred_logreg)\n",
    "recall_logreg = recall_score(y_test, y_pred_logreg)\n",
    "roc_auc_logreg = roc_auc_score(y_test, y_pred_logreg)\n",
    "avg_precision_logreg = average_precision_score(y_test, y_pred_logreg)\n",
    "\n",
    "print(\"Métricas de avaliação do modelo de Regressão Logística:\")\n",
    "print(\"Acurácia: {:.2f}\".format(accuracy_logreg))\n",
    "print(\"Precisão: {:.2f}\".format(precision_logreg))\n",
    "print(\"Recall: {:.2f}\".format(recall_logreg))\n",
    "print(\"ROC AUC: {:.2f}\".format(roc_auc_logreg))\n",
    "\n",
    "# Calcule as métricas de avaliação para o modelo SVM\n",
    "accuracy_svc = accuracy_score(y_test, y_pred_svc)\n",
    "precision_svc = precision_score(y_test, y_pred_svc)\n",
    "recall_svc = recall_score(y_test, y_pred_svc)\n",
    "roc_auc_svc = roc_auc_score(y_test, y_pred_svc)\n",
    "avg_precision_svc = average_precision_score(y_test, y_pred_svc)\n",
    "\n",
    "print(\"\\nMétricas de avaliação do modelo SVM:\")\n",
    "print(\"Acurácia: {:.2f}\".format(accuracy_svc))\n",
    "print(\"Precisão: {:.2f}\".format(precision_svc))\n",
    "print(\"Recall: {:.2f}\".format(recall_svc))\n",
    "print(\"ROC AUC: {:.2f}\".format(roc_auc_svc))"
   ]
  },
  {
   "cell_type": "markdown",
   "id": "8ba993f4",
   "metadata": {},
   "source": [
    "Pode-se perceber que ambos os modelos **apresentaram resultados satisfatório**, **semelhantes** ao conjunto de dados de **treinamento**. O **SVM** apresentou **resultados ligeiramente superiores** em relação ao **recall**, que foi priorizado durante este estudo.\n",
    "A acurácia se manteve estável, mas a **precisão diminiu** em comparação aos dados de treinamento, o que não é problemático dado o escopo do problema. Neste caso, é **preferível um recall alto em comparação à precisão**. Abaixo, a matriz de confusão para ambos os classificadores nos dados de teste originais."
   ]
  },
  {
   "cell_type": "code",
   "execution_count": 216,
   "id": "ef86fe42",
   "metadata": {},
   "outputs": [
    {
     "data": {
      "image/png": "[encoded data removed]",
      "text/plain": [
       "<Figure size 800x400 with 4 Axes>"
      ]
     },
     "metadata": {},
     "output_type": "display_data"
    }
   ],
   "source": [
    "fig, ax = plt.subplots(1, 2, figsize=(8, 4))\n",
    "skplt.metrics.plot_confusion_matrix(y_test, y_pred_logreg, normalize=True, cmap='YlOrRd', ax = ax[0])\n",
    "skplt.metrics.plot_confusion_matrix(y_test, y_pred_svc, normalize=True, cmap='YlOrRd', ax = ax[1])\n",
    "\n",
    "ax[0].set_title(\"Logistic Regression\")\n",
    "ax[1].set_title(\"Support Vector Machines\")\n",
    "\n",
    "plt.tight_layout();"
   ]
  },
  {
   "cell_type": "markdown",
   "id": "658c9cc6",
   "metadata": {},
   "source": [
    "## Conclusão\n",
    "\n",
    "Com base nas análises realizadas, pode-se concluir que a escolha do **modelo de classificação**, do **pré-processamento** dos dados e a **técnica de balanceamento de classes** é fundamental para obter um bom desempenho no problema de Churn.\n",
    "\n",
    "Observou-se um desempenho semelhante no conjunto de testes e no conjunto de validação. A técnica de balanceamento undersampling foi utilizada, onde somente dados da classe majoritária foram removidos. Foi escolhida a métrica **recall** como prioridade, haja vista que prever o cancelamento de clientes possibilita à empresa realizar uma intervensão e mantê-lo. Mas se for previsto um cancelamento e de fato não houver, não há danos signficativos. Com base nisso, os classificadores de **Regressão Logística** e **SVM** se destacaram. Para evitar overfitting, utilizou-se validação cruzada com a técnica 5x2 CV, recomendada pela literatura.\n",
    "\n",
    "Dos algoritmos de machine learning testados, o **SVM** foi o que obteve **maior métrica** em relação ao **recall,** 0.81 no conjunto de teste balanceado e 0.77 no conjunto de teste desbalanceado. Contudo, o Logistic Regression apresentou valores semelhantes e satisfatórios. Além disso, foi possível observar a importância do pré-processamento de dados, incluindo a transformação de variáveis categóricas usando o label encoder e dummy variables, bem como a padronização para se chegar a um modelo com desempenho eficaz."
   ]
  }
 ],
 "metadata": {
  "kernelspec": {
   "display_name": "Python 3 (ipykernel)",
   "language": "python",
   "name": "python3"
  },
  "language_info": {
   "codemirror_mode": {
    "name": "ipython",
    "version": 3
   },
   "file_extension": ".py",
   "mimetype": "text/x-python",
   "name": "python",
   "nbconvert_exporter": "python",
   "pygments_lexer": "ipython3",
   "version": "3.10.11"
  }
 },
 "nbformat": 4,
 "nbformat_minor": 5
}
