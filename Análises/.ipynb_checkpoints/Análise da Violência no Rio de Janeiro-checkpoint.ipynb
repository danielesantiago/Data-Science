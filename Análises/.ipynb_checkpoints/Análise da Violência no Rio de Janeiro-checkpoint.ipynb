{
 "cells": [
  {
   "cell_type": "markdown",
   "id": "236f69be",
   "metadata": {},
   "source": [
    "# Analisando a Violência no Rio de Janeiro\n",
    "\n",
    "\n",
    "<img src=\"rio_de_janeiro.png\"  width=80%>\n",
    "\n",
    "O Rio de Janeiro é um município brasileiro situado no sudeste do Brasil, sendo capital de um estado honônimo. É o maior destino turístico internacional no país, bem como em toda a América Latina, e atrai o interesse por sua beleza natural e tradições culturais. É, também, considerada a cidade brasileira mais conhecida no exterior, agindo como um espelho do Brasil aos demais países, o que pode afetar negativamente, visto que o estado possui uma das maiores taxas de homicídio por 100 mil habitantes do país, cerca de 38,4% em 2017, superando a média brasileira de 31,6% no mesmo período (Cerqueira e Bueno, 2019). Diante desse cenário, a resposta das autoridades públicas se dá no combate ao crime organizado, cujos atores típicos são os traficantes de drogas ilícitas que residem, em sua maioria, nas comunidades periféricas, denominadas “favelas” (Burgos et al., 2011; Cunha e Mello, 2011; Leite, 2014). Já no município, a taxa de letalidade foi de 14,89 por 100 mil habitantes em 2020, de acordo com o Instituto de Segurança Pública.\n",
    "\n",
    "<i>\"Não seria correto enfatizar uma inevitável decadência contemporânea. Desde a fundação da cidade pelos portugueses, as crônica e as correspondências da época sempre mesclaram o encantamento suscitado pela exuberância do lugar e o desagrado provocado por um serviço insuficiente de limpeza urbana e pelas condições sanitárias lamentáveis. No Rio de Janeiro, a ordem e a desordem parecem caminhar juntas.\" </i> (Enders, Armelle, 2015).\n",
    "\n",
    "O objetivo desse projeto, portanto, é a partir de um conjunto de dados sobre os indíces de violência no Rio de Janeiro, incentivados pelo governo do estado pelo meio do portal <a href= \"http://www.ispdados.rj.gov.br/\">ISPDados</a>, buscar padrões e correlações nos indicadores estatísticos fornecidos e chegar à uma conclusão do exposto.\n",
    "\n",
    "\n",
    "\n",
    "\n",
    "\n",
    "\n"
   ]
  },
  {
   "cell_type": "markdown",
   "id": "0a046a41",
   "metadata": {},
   "source": [
    "## Obtenção dos Dados\n",
    "\n",
    "Os dados foram obtidos pelo Instituto de Segurança Pública, que conta com um portal de dados abertos, o ISPDados, citado previamente. \n",
    "\n",
    "\n",
    "<p font size=\"11\">\n",
    "<i >\"O Instituto de Segurança Pública (ISP), é uma autarquia vinculada diretamente à Secretaria de Estado de Planejamento e Gestão. Com 21 anos de existência, o ISP conta com grande conhecimento acumulado no desenvolvimento de metodologias de análise de dados relativos à Segurança Pública. Sua missão é produzir informações e disseminar pesquisas e análises com vistas a influenciar e subsidiar a implementação de políticas públicas de segurança e assegurar a participação social na construção dessas políticas.\" </i>(ISP - Instituto de Segurança Pública).</p>\n",
    "\n",
    "A iniciativa foi feita como forma de assegurar transparência e as informações podem ser conferidas no <a href=\"http://www.isp.rj.gov.br/dadosoficiais.asp\">link do instituto</a>. Já o csv tratado está disponível no seguinte <a href=\"https://raw.githubusercontent.com/carlosfab/dsnp2/master/datasets/violencia_rio.csv\">github</a>."
   ]
  },
  {
   "cell_type": "markdown",
   "id": "2675635f",
   "metadata": {},
   "source": [
    "### Importando os dados"
   ]
  },
  {
   "cell_type": "code",
   "execution_count": 32,
   "id": "35f5375d",
   "metadata": {},
   "outputs": [],
   "source": [
    "import pandas as pd\n",
    "df = pd.read_csv(\"violencia_rio.csv\", parse_dates=True, index_col='vano')"
   ]
  },
  {
   "cell_type": "markdown",
   "id": "ec2d390c",
   "metadata": {},
   "source": [
    "## Análise Inicial dos Dados\n",
    "\n",
    "Para realizar a análise de forma efetiva, é importante entender os principais componentes do dataset a ser trabalhado. Portanto, iremos responder algumas questões que nos trarão o vislumbre inicial da informação.\n",
    "\n",
    "*  Qual o tamanho do seu DataFrame?\n",
    "*  Extrair e imprimir os nomes das colunas.\n",
    "*  Quais os tipos das variáveis?\n",
    "*  Visualizar as 5 primeiras linhas.\n",
    "*  Identifique a porcentagem de valores ausentes das colunas.\n"
   ]
  },
  {
   "cell_type": "code",
   "execution_count": 33,
   "id": "7b6f019b",
   "metadata": {},
   "outputs": [
    {
     "data": {
      "text/plain": [
       "(344, 55)"
      ]
     },
     "execution_count": 33,
     "metadata": {},
     "output_type": "execute_result"
    }
   ],
   "source": [
    "# 1. Qual o tamanho do seu DataFrame?\n",
    "df.shape"
   ]
  },
  {
   "cell_type": "code",
   "execution_count": 34,
   "id": "7a433605",
   "metadata": {},
   "outputs": [
    {
     "data": {
      "text/plain": [
       "Index(['mes', 'hom_doloso', 'lesao_corp_morte', 'latrocinio',\n",
       "       'hom_por_interv_policial', 'tentat_hom', 'lesao_corp_dolosa', 'estupro',\n",
       "       'hom_culposo', 'lesao_corp_culposa', 'roubo_comercio',\n",
       "       'roubo_residencia', 'roubo_veiculo', 'roubo_carga', 'roubo_transeunte',\n",
       "       'roubo_em_coletivo', 'roubo_banco', 'roubo_cx_eletronico',\n",
       "       'roubo_celular', 'roubo_conducao_saque', 'roubo_apos_saque',\n",
       "       'roubo_bicicleta', 'outros_roubos', 'total_roubos', 'furto_veiculos',\n",
       "       'furto_transeunte', 'furto_coletivo', 'furto_celular',\n",
       "       'furto_bicicleta', 'outros_furtos', 'total_furtos', 'sequestro',\n",
       "       'extorsao', 'sequestro_relampago', 'estelionato', 'apreensao_drogas',\n",
       "       'posse_drogas', 'trafico_drogas', 'apreensao_drogas_sem_autor',\n",
       "       'recuperacao_veiculos', 'apf', 'aaapai', 'cmp', 'cmba', 'ameaca',\n",
       "       'pessoas_desaparecidas', 'encontro_cadaver', 'encontro_ossada',\n",
       "       'pol_militares_mortos_serv', 'pol_civis_mortos_serv',\n",
       "       'indicador_letalidade', 'indicador_roubo_rua', 'indicador_roubo_veic',\n",
       "       'registro_ocorrencias', 'fase'],\n",
       "      dtype='object')"
      ]
     },
     "execution_count": 34,
     "metadata": {},
     "output_type": "execute_result"
    }
   ],
   "source": [
    "# 2. Extrair e imprimir os nomes das colunas.\n",
    "df.columns"
   ]
  },
  {
   "cell_type": "code",
   "execution_count": 35,
   "id": "7723f804",
   "metadata": {},
   "outputs": [
    {
     "data": {
      "text/plain": [
       "mes                             int64\n",
       "hom_doloso                      int64\n",
       "lesao_corp_morte              float64\n",
       "latrocinio                      int64\n",
       "hom_por_interv_policial       float64\n",
       "tentat_hom                      int64\n",
       "lesao_corp_dolosa               int64\n",
       "estupro                       float64\n",
       "hom_culposo                   float64\n",
       "lesao_corp_culposa            float64\n",
       "roubo_comercio                  int64\n",
       "roubo_residencia                int64\n",
       "roubo_veiculo                   int64\n",
       "roubo_carga                     int64\n",
       "roubo_transeunte                int64\n",
       "roubo_em_coletivo               int64\n",
       "roubo_banco                     int64\n",
       "roubo_cx_eletronico           float64\n",
       "roubo_celular                 float64\n",
       "roubo_conducao_saque          float64\n",
       "roubo_apos_saque              float64\n",
       "roubo_bicicleta               float64\n",
       "outros_roubos                   int64\n",
       "total_roubos                    int64\n",
       "furto_veiculos                  int64\n",
       "furto_transeunte                int64\n",
       "furto_coletivo                float64\n",
       "furto_celular                 float64\n",
       "furto_bicicleta               float64\n",
       "outros_furtos                   int64\n",
       "total_furtos                    int64\n",
       "sequestro                     float64\n",
       "extorsao                      float64\n",
       "sequestro_relampago           float64\n",
       "estelionato                   float64\n",
       "apreensao_drogas                int64\n",
       "posse_drogas                  float64\n",
       "trafico_drogas                float64\n",
       "apreensao_drogas_sem_autor    float64\n",
       "recuperacao_veiculos            int64\n",
       "apf                           float64\n",
       "aaapai                        float64\n",
       "cmp                           float64\n",
       "cmba                          float64\n",
       "ameaca                        float64\n",
       "pessoas_desaparecidas         float64\n",
       "encontro_cadaver                int64\n",
       "encontro_ossada               float64\n",
       "pol_militares_mortos_serv     float64\n",
       "pol_civis_mortos_serv         float64\n",
       "indicador_letalidade            int64\n",
       "indicador_roubo_rua             int64\n",
       "indicador_roubo_veic            int64\n",
       "registro_ocorrencias          float64\n",
       "fase                            int64\n",
       "dtype: object"
      ]
     },
     "execution_count": 35,
     "metadata": {},
     "output_type": "execute_result"
    }
   ],
   "source": [
    "# 3. Quais os tipos das variáveis?\n",
    "df.dtypes"
   ]
  },
  {
   "cell_type": "code",
   "execution_count": 36,
   "id": "bd0fdaed",
   "metadata": {},
   "outputs": [
    {
     "data": {
      "text/html": [
       "<div>\n",
       "<style scoped>\n",
       "    .dataframe tbody tr th:only-of-type {\n",
       "        vertical-align: middle;\n",
       "    }\n",
       "\n",
       "    .dataframe tbody tr th {\n",
       "        vertical-align: top;\n",
       "    }\n",
       "\n",
       "    .dataframe thead th {\n",
       "        text-align: right;\n",
       "    }\n",
       "</style>\n",
       "<table border=\"1\" class=\"dataframe\">\n",
       "  <thead>\n",
       "    <tr style=\"text-align: right;\">\n",
       "      <th></th>\n",
       "      <th>mes</th>\n",
       "      <th>hom_doloso</th>\n",
       "      <th>lesao_corp_morte</th>\n",
       "      <th>latrocinio</th>\n",
       "      <th>hom_por_interv_policial</th>\n",
       "      <th>tentat_hom</th>\n",
       "      <th>lesao_corp_dolosa</th>\n",
       "      <th>estupro</th>\n",
       "      <th>hom_culposo</th>\n",
       "      <th>lesao_corp_culposa</th>\n",
       "      <th>...</th>\n",
       "      <th>pessoas_desaparecidas</th>\n",
       "      <th>encontro_cadaver</th>\n",
       "      <th>encontro_ossada</th>\n",
       "      <th>pol_militares_mortos_serv</th>\n",
       "      <th>pol_civis_mortos_serv</th>\n",
       "      <th>indicador_letalidade</th>\n",
       "      <th>indicador_roubo_rua</th>\n",
       "      <th>indicador_roubo_veic</th>\n",
       "      <th>registro_ocorrencias</th>\n",
       "      <th>fase</th>\n",
       "    </tr>\n",
       "    <tr>\n",
       "      <th>vano</th>\n",
       "      <th></th>\n",
       "      <th></th>\n",
       "      <th></th>\n",
       "      <th></th>\n",
       "      <th></th>\n",
       "      <th></th>\n",
       "      <th></th>\n",
       "      <th></th>\n",
       "      <th></th>\n",
       "      <th></th>\n",
       "      <th></th>\n",
       "      <th></th>\n",
       "      <th></th>\n",
       "      <th></th>\n",
       "      <th></th>\n",
       "      <th></th>\n",
       "      <th></th>\n",
       "      <th></th>\n",
       "      <th></th>\n",
       "      <th></th>\n",
       "      <th></th>\n",
       "    </tr>\n",
       "  </thead>\n",
       "  <tbody>\n",
       "    <tr>\n",
       "      <th>1991-01-01</th>\n",
       "      <td>1</td>\n",
       "      <td>657</td>\n",
       "      <td>NaN</td>\n",
       "      <td>15</td>\n",
       "      <td>NaN</td>\n",
       "      <td>162</td>\n",
       "      <td>3051</td>\n",
       "      <td>NaN</td>\n",
       "      <td>NaN</td>\n",
       "      <td>NaN</td>\n",
       "      <td>...</td>\n",
       "      <td>NaN</td>\n",
       "      <td>217</td>\n",
       "      <td>NaN</td>\n",
       "      <td>NaN</td>\n",
       "      <td>NaN</td>\n",
       "      <td>672</td>\n",
       "      <td>1348</td>\n",
       "      <td>1174</td>\n",
       "      <td>NaN</td>\n",
       "      <td>3</td>\n",
       "    </tr>\n",
       "    <tr>\n",
       "      <th>1991-01-01</th>\n",
       "      <td>2</td>\n",
       "      <td>732</td>\n",
       "      <td>NaN</td>\n",
       "      <td>17</td>\n",
       "      <td>NaN</td>\n",
       "      <td>175</td>\n",
       "      <td>3421</td>\n",
       "      <td>NaN</td>\n",
       "      <td>NaN</td>\n",
       "      <td>NaN</td>\n",
       "      <td>...</td>\n",
       "      <td>NaN</td>\n",
       "      <td>209</td>\n",
       "      <td>NaN</td>\n",
       "      <td>NaN</td>\n",
       "      <td>NaN</td>\n",
       "      <td>749</td>\n",
       "      <td>1395</td>\n",
       "      <td>1097</td>\n",
       "      <td>NaN</td>\n",
       "      <td>3</td>\n",
       "    </tr>\n",
       "    <tr>\n",
       "      <th>1991-01-01</th>\n",
       "      <td>3</td>\n",
       "      <td>713</td>\n",
       "      <td>NaN</td>\n",
       "      <td>25</td>\n",
       "      <td>NaN</td>\n",
       "      <td>216</td>\n",
       "      <td>3613</td>\n",
       "      <td>NaN</td>\n",
       "      <td>NaN</td>\n",
       "      <td>NaN</td>\n",
       "      <td>...</td>\n",
       "      <td>NaN</td>\n",
       "      <td>188</td>\n",
       "      <td>NaN</td>\n",
       "      <td>NaN</td>\n",
       "      <td>NaN</td>\n",
       "      <td>738</td>\n",
       "      <td>1385</td>\n",
       "      <td>1265</td>\n",
       "      <td>NaN</td>\n",
       "      <td>3</td>\n",
       "    </tr>\n",
       "    <tr>\n",
       "      <th>1991-01-01</th>\n",
       "      <td>4</td>\n",
       "      <td>634</td>\n",
       "      <td>NaN</td>\n",
       "      <td>20</td>\n",
       "      <td>NaN</td>\n",
       "      <td>200</td>\n",
       "      <td>3211</td>\n",
       "      <td>NaN</td>\n",
       "      <td>NaN</td>\n",
       "      <td>NaN</td>\n",
       "      <td>...</td>\n",
       "      <td>NaN</td>\n",
       "      <td>140</td>\n",
       "      <td>NaN</td>\n",
       "      <td>NaN</td>\n",
       "      <td>NaN</td>\n",
       "      <td>654</td>\n",
       "      <td>1540</td>\n",
       "      <td>1415</td>\n",
       "      <td>NaN</td>\n",
       "      <td>3</td>\n",
       "    </tr>\n",
       "    <tr>\n",
       "      <th>1991-01-01</th>\n",
       "      <td>5</td>\n",
       "      <td>650</td>\n",
       "      <td>NaN</td>\n",
       "      <td>20</td>\n",
       "      <td>NaN</td>\n",
       "      <td>146</td>\n",
       "      <td>3051</td>\n",
       "      <td>NaN</td>\n",
       "      <td>NaN</td>\n",
       "      <td>NaN</td>\n",
       "      <td>...</td>\n",
       "      <td>NaN</td>\n",
       "      <td>78</td>\n",
       "      <td>NaN</td>\n",
       "      <td>NaN</td>\n",
       "      <td>NaN</td>\n",
       "      <td>670</td>\n",
       "      <td>1266</td>\n",
       "      <td>1449</td>\n",
       "      <td>NaN</td>\n",
       "      <td>3</td>\n",
       "    </tr>\n",
       "  </tbody>\n",
       "</table>\n",
       "<p>5 rows × 55 columns</p>\n",
       "</div>"
      ],
      "text/plain": [
       "            mes  hom_doloso  lesao_corp_morte  latrocinio  \\\n",
       "vano                                                        \n",
       "1991-01-01    1         657               NaN          15   \n",
       "1991-01-01    2         732               NaN          17   \n",
       "1991-01-01    3         713               NaN          25   \n",
       "1991-01-01    4         634               NaN          20   \n",
       "1991-01-01    5         650               NaN          20   \n",
       "\n",
       "            hom_por_interv_policial  tentat_hom  lesao_corp_dolosa  estupro  \\\n",
       "vano                                                                          \n",
       "1991-01-01                      NaN         162               3051      NaN   \n",
       "1991-01-01                      NaN         175               3421      NaN   \n",
       "1991-01-01                      NaN         216               3613      NaN   \n",
       "1991-01-01                      NaN         200               3211      NaN   \n",
       "1991-01-01                      NaN         146               3051      NaN   \n",
       "\n",
       "            hom_culposo  lesao_corp_culposa  ...  pessoas_desaparecidas  \\\n",
       "vano                                         ...                          \n",
       "1991-01-01          NaN                 NaN  ...                    NaN   \n",
       "1991-01-01          NaN                 NaN  ...                    NaN   \n",
       "1991-01-01          NaN                 NaN  ...                    NaN   \n",
       "1991-01-01          NaN                 NaN  ...                    NaN   \n",
       "1991-01-01          NaN                 NaN  ...                    NaN   \n",
       "\n",
       "            encontro_cadaver  encontro_ossada  pol_militares_mortos_serv  \\\n",
       "vano                                                                       \n",
       "1991-01-01               217              NaN                        NaN   \n",
       "1991-01-01               209              NaN                        NaN   \n",
       "1991-01-01               188              NaN                        NaN   \n",
       "1991-01-01               140              NaN                        NaN   \n",
       "1991-01-01                78              NaN                        NaN   \n",
       "\n",
       "            pol_civis_mortos_serv  indicador_letalidade  indicador_roubo_rua  \\\n",
       "vano                                                                           \n",
       "1991-01-01                    NaN                   672                 1348   \n",
       "1991-01-01                    NaN                   749                 1395   \n",
       "1991-01-01                    NaN                   738                 1385   \n",
       "1991-01-01                    NaN                   654                 1540   \n",
       "1991-01-01                    NaN                   670                 1266   \n",
       "\n",
       "            indicador_roubo_veic  registro_ocorrencias  fase  \n",
       "vano                                                          \n",
       "1991-01-01                  1174                   NaN     3  \n",
       "1991-01-01                  1097                   NaN     3  \n",
       "1991-01-01                  1265                   NaN     3  \n",
       "1991-01-01                  1415                   NaN     3  \n",
       "1991-01-01                  1449                   NaN     3  \n",
       "\n",
       "[5 rows x 55 columns]"
      ]
     },
     "execution_count": 36,
     "metadata": {},
     "output_type": "execute_result"
    }
   ],
   "source": [
    "# 4. Visualizar as 5 primeiras linhas.\n",
    "df.head()"
   ]
  },
  {
   "cell_type": "code",
   "execution_count": 37,
   "id": "a1229730",
   "metadata": {},
   "outputs": [
    {
     "data": {
      "text/plain": [
       "mes                            0.00\n",
       "indicador_roubo_veic           0.00\n",
       "indicador_roubo_rua            0.00\n",
       "indicador_letalidade           0.00\n",
       "encontro_cadaver               0.00\n",
       "recuperacao_veiculos           0.00\n",
       "apreensao_drogas               0.00\n",
       "total_furtos                   0.00\n",
       "outros_furtos                  0.00\n",
       "furto_transeunte               0.00\n",
       "furto_veiculos                 0.00\n",
       "total_roubos                   0.00\n",
       "outros_roubos                  0.00\n",
       "roubo_banco                    0.00\n",
       "roubo_em_coletivo              0.00\n",
       "fase                           0.00\n",
       "roubo_carga                    0.00\n",
       "hom_doloso                     0.00\n",
       "latrocinio                     0.00\n",
       "tentat_hom                     0.00\n",
       "roubo_transeunte               0.00\n",
       "roubo_comercio                 0.00\n",
       "roubo_residencia               0.00\n",
       "lesao_corp_dolosa              0.00\n",
       "roubo_veiculo                  0.00\n",
       "hom_culposo                   24.42\n",
       "hom_por_interv_policial       24.42\n",
       "lesao_corp_culposa            27.91\n",
       "registro_ocorrencias          27.91\n",
       "lesao_corp_morte              27.91\n",
       "sequestro                     27.91\n",
       "ameaca                        27.91\n",
       "roubo_celular                 31.40\n",
       "encontro_ossada               38.37\n",
       "pessoas_desaparecidas         38.37\n",
       "roubo_conducao_saque          41.86\n",
       "roubo_cx_eletronico           41.86\n",
       "pol_civis_mortos_serv         41.86\n",
       "pol_militares_mortos_serv     41.86\n",
       "furto_celular                 41.86\n",
       "roubo_apos_saque              41.86\n",
       "estelionato                   41.86\n",
       "sequestro_relampago           41.86\n",
       "extorsao                      41.86\n",
       "estupro                       41.86\n",
       "furto_coletivo                41.86\n",
       "apf                           52.33\n",
       "aaapai                        52.33\n",
       "cmp                           52.33\n",
       "cmba                          52.33\n",
       "trafico_drogas                52.33\n",
       "posse_drogas                  52.33\n",
       "apreensao_drogas_sem_autor    52.33\n",
       "furto_bicicleta               80.23\n",
       "roubo_bicicleta               80.23\n",
       "dtype: float64"
      ]
     },
     "execution_count": 37,
     "metadata": {},
     "output_type": "execute_result"
    }
   ],
   "source": [
    "# 5. Identifique a porcentagem de valores ausentes das colunas.\n",
    "\n",
    "round((df.isnull().sum()/df.shape[0]) * 100, 2).sort_values(ascending=True)           \n",
    "                                    "
   ]
  },
  {
   "cell_type": "markdown",
   "id": "81f46256",
   "metadata": {},
   "source": [
    "À partir da primeira explanação, podemos observar que o dataset possui 56 colunas e 344 registro, também é notório que alguns indicadores de violência possuem um índice alto de nulidade, como é o caso do furto e roubo de bicicletas, com 80%, e alguns que se mantém com metade dos indíces nulos, como é possível observar previamente. "
   ]
  },
  {
   "cell_type": "code",
   "execution_count": 73,
   "id": "a546a6b8",
   "metadata": {},
   "outputs": [
    {
     "data": {
      "image/png": "[encoded data removed]",
      "text/plain": [
       "<Figure size 432x288 with 1 Axes>"
      ]
     },
     "metadata": {
      "needs_background": "light"
     },
     "output_type": "display_data"
    }
   ],
   "source": [
    "# gráfico em linhas referente aos roubos de bicicleta\n",
    "df.roubo_bicicleta.plot();"
   ]
  },
  {
   "cell_type": "markdown",
   "id": "1d467671",
   "metadata": {},
   "source": [
    "Podemos observar que os dados a cercar dos roubos só foram inseridos à partir de 2015, o que demonstra o motivo da descrepância em relação aos valores ausentes."
   ]
  },
  {
   "cell_type": "markdown",
   "id": "9cf9305a",
   "metadata": {},
   "source": [
    "\n",
    "## Informações Estatísticas da Violência no Rio de Janeiro e Visualização de Dados\n",
    "\n",
    "Iremos observar agora algumas informações estatísticas dos dados coletados.\n",
    "\n",
    "*  Imprima o resumo estatístico do seu DataFrame\n",
    "*  Encontre as médias das seguintes colunas:\n",
    "  * `roubo_veiculo`\n",
    "  * `furto_veiculos`\n",
    "  * `recuperacao_veiculos`\n",
    "*  Calcule qual a porcentagem de carros recuperados em relação aos carros roubados + carros furtados:\n",
    "  * $\\frac{\\text{recuperacao_veiculos}}{\\text{roubo_veiculo} + \\text{furto_veiculos}}$\n",
    "*  Encontre os valores máximos, mínimos, média e desvio padrão da coluna `hom_doloso`\n",
    "*  Encontre os valores máximos, mínimos, média e desvio padrão da coluna `hom_culposo`"
   ]
  },
  {
   "cell_type": "markdown",
   "id": "6050af2a",
   "metadata": {},
   "source": [
    "### Crimes relacionados a veículos"
   ]
  },
  {
   "cell_type": "code",
   "execution_count": 57,
   "id": "839c4d9f",
   "metadata": {},
   "outputs": [
    {
     "data": {
      "text/html": [
       "<div>\n",
       "<style scoped>\n",
       "    .dataframe tbody tr th:only-of-type {\n",
       "        vertical-align: middle;\n",
       "    }\n",
       "\n",
       "    .dataframe tbody tr th {\n",
       "        vertical-align: top;\n",
       "    }\n",
       "\n",
       "    .dataframe thead th {\n",
       "        text-align: right;\n",
       "    }\n",
       "</style>\n",
       "<table border=\"1\" class=\"dataframe\">\n",
       "  <thead>\n",
       "    <tr style=\"text-align: right;\">\n",
       "      <th></th>\n",
       "      <th>mes</th>\n",
       "      <th>hom_doloso</th>\n",
       "      <th>lesao_corp_morte</th>\n",
       "      <th>latrocinio</th>\n",
       "      <th>hom_por_interv_policial</th>\n",
       "      <th>tentat_hom</th>\n",
       "      <th>lesao_corp_dolosa</th>\n",
       "      <th>estupro</th>\n",
       "      <th>hom_culposo</th>\n",
       "      <th>lesao_corp_culposa</th>\n",
       "      <th>...</th>\n",
       "      <th>pessoas_desaparecidas</th>\n",
       "      <th>encontro_cadaver</th>\n",
       "      <th>encontro_ossada</th>\n",
       "      <th>pol_militares_mortos_serv</th>\n",
       "      <th>pol_civis_mortos_serv</th>\n",
       "      <th>indicador_letalidade</th>\n",
       "      <th>indicador_roubo_rua</th>\n",
       "      <th>indicador_roubo_veic</th>\n",
       "      <th>registro_ocorrencias</th>\n",
       "      <th>fase</th>\n",
       "    </tr>\n",
       "  </thead>\n",
       "  <tbody>\n",
       "    <tr>\n",
       "      <th>count</th>\n",
       "      <td>344.00</td>\n",
       "      <td>344.00</td>\n",
       "      <td>248.00</td>\n",
       "      <td>344.00</td>\n",
       "      <td>260.00</td>\n",
       "      <td>344.00</td>\n",
       "      <td>344.00</td>\n",
       "      <td>200.00</td>\n",
       "      <td>260.00</td>\n",
       "      <td>248.00</td>\n",
       "      <td>...</td>\n",
       "      <td>212.00</td>\n",
       "      <td>344.00</td>\n",
       "      <td>212.00</td>\n",
       "      <td>200.00</td>\n",
       "      <td>200.00</td>\n",
       "      <td>344.00</td>\n",
       "      <td>344.00</td>\n",
       "      <td>344.00</td>\n",
       "      <td>248.00</td>\n",
       "      <td>344.00</td>\n",
       "    </tr>\n",
       "    <tr>\n",
       "      <th>mean</th>\n",
       "      <td>6.45</td>\n",
       "      <td>504.56</td>\n",
       "      <td>4.33</td>\n",
       "      <td>15.67</td>\n",
       "      <td>71.90</td>\n",
       "      <td>318.27</td>\n",
       "      <td>5492.80</td>\n",
       "      <td>369.94</td>\n",
       "      <td>212.12</td>\n",
       "      <td>3410.76</td>\n",
       "      <td>...</td>\n",
       "      <td>435.13</td>\n",
       "      <td>66.26</td>\n",
       "      <td>3.30</td>\n",
       "      <td>2.08</td>\n",
       "      <td>0.34</td>\n",
       "      <td>577.69</td>\n",
       "      <td>4734.74</td>\n",
       "      <td>2448.70</td>\n",
       "      <td>53794.16</td>\n",
       "      <td>2.99</td>\n",
       "    </tr>\n",
       "    <tr>\n",
       "      <th>std</th>\n",
       "      <td>3.45</td>\n",
       "      <td>113.77</td>\n",
       "      <td>2.76</td>\n",
       "      <td>5.86</td>\n",
       "      <td>36.49</td>\n",
       "      <td>127.61</td>\n",
       "      <td>1514.22</td>\n",
       "      <td>94.39</td>\n",
       "      <td>54.23</td>\n",
       "      <td>776.16</td>\n",
       "      <td>...</td>\n",
       "      <td>65.35</td>\n",
       "      <td>34.46</td>\n",
       "      <td>2.19</td>\n",
       "      <td>1.76</td>\n",
       "      <td>0.64</td>\n",
       "      <td>104.97</td>\n",
       "      <td>3204.05</td>\n",
       "      <td>789.69</td>\n",
       "      <td>11039.05</td>\n",
       "      <td>0.08</td>\n",
       "    </tr>\n",
       "    <tr>\n",
       "      <th>min</th>\n",
       "      <td>1.00</td>\n",
       "      <td>272.00</td>\n",
       "      <td>0.00</td>\n",
       "      <td>2.00</td>\n",
       "      <td>10.00</td>\n",
       "      <td>122.00</td>\n",
       "      <td>2350.00</td>\n",
       "      <td>188.00</td>\n",
       "      <td>111.00</td>\n",
       "      <td>848.00</td>\n",
       "      <td>...</td>\n",
       "      <td>236.00</td>\n",
       "      <td>0.00</td>\n",
       "      <td>0.00</td>\n",
       "      <td>0.00</td>\n",
       "      <td>0.00</td>\n",
       "      <td>334.00</td>\n",
       "      <td>1086.00</td>\n",
       "      <td>1097.00</td>\n",
       "      <td>30621.00</td>\n",
       "      <td>2.00</td>\n",
       "    </tr>\n",
       "    <tr>\n",
       "      <th>25%</th>\n",
       "      <td>3.00</td>\n",
       "      <td>413.75</td>\n",
       "      <td>2.00</td>\n",
       "      <td>11.00</td>\n",
       "      <td>41.75</td>\n",
       "      <td>200.00</td>\n",
       "      <td>4067.00</td>\n",
       "      <td>282.00</td>\n",
       "      <td>176.00</td>\n",
       "      <td>3040.00</td>\n",
       "      <td>...</td>\n",
       "      <td>390.00</td>\n",
       "      <td>42.00</td>\n",
       "      <td>2.00</td>\n",
       "      <td>1.00</td>\n",
       "      <td>0.00</td>\n",
       "      <td>500.00</td>\n",
       "      <td>1557.00</td>\n",
       "      <td>1889.75</td>\n",
       "      <td>45374.50</td>\n",
       "      <td>3.00</td>\n",
       "    </tr>\n",
       "    <tr>\n",
       "      <th>50%</th>\n",
       "      <td>6.00</td>\n",
       "      <td>507.00</td>\n",
       "      <td>4.00</td>\n",
       "      <td>15.00</td>\n",
       "      <td>70.00</td>\n",
       "      <td>318.50</td>\n",
       "      <td>5830.50</td>\n",
       "      <td>384.00</td>\n",
       "      <td>203.00</td>\n",
       "      <td>3372.00</td>\n",
       "      <td>...</td>\n",
       "      <td>427.00</td>\n",
       "      <td>60.50</td>\n",
       "      <td>3.00</td>\n",
       "      <td>2.00</td>\n",
       "      <td>0.00</td>\n",
       "      <td>590.00</td>\n",
       "      <td>4190.00</td>\n",
       "      <td>2322.00</td>\n",
       "      <td>54926.50</td>\n",
       "      <td>3.00</td>\n",
       "    </tr>\n",
       "    <tr>\n",
       "      <th>75%</th>\n",
       "      <td>9.00</td>\n",
       "      <td>577.25</td>\n",
       "      <td>6.00</td>\n",
       "      <td>19.00</td>\n",
       "      <td>96.25</td>\n",
       "      <td>398.25</td>\n",
       "      <td>6582.50</td>\n",
       "      <td>441.25</td>\n",
       "      <td>236.25</td>\n",
       "      <td>3733.50</td>\n",
       "      <td>...</td>\n",
       "      <td>481.50</td>\n",
       "      <td>87.00</td>\n",
       "      <td>4.00</td>\n",
       "      <td>3.00</td>\n",
       "      <td>1.00</td>\n",
       "      <td>649.00</td>\n",
       "      <td>6872.75</td>\n",
       "      <td>2778.00</td>\n",
       "      <td>63292.50</td>\n",
       "      <td>3.00</td>\n",
       "    </tr>\n",
       "    <tr>\n",
       "      <th>max</th>\n",
       "      <td>12.00</td>\n",
       "      <td>831.00</td>\n",
       "      <td>21.00</td>\n",
       "      <td>36.00</td>\n",
       "      <td>194.00</td>\n",
       "      <td>645.00</td>\n",
       "      <td>9050.00</td>\n",
       "      <td>561.00</td>\n",
       "      <td>449.00</td>\n",
       "      <td>6653.00</td>\n",
       "      <td>...</td>\n",
       "      <td>628.00</td>\n",
       "      <td>217.00</td>\n",
       "      <td>13.00</td>\n",
       "      <td>10.00</td>\n",
       "      <td>3.00</td>\n",
       "      <td>848.00</td>\n",
       "      <td>13833.00</td>\n",
       "      <td>5358.00</td>\n",
       "      <td>75403.00</td>\n",
       "      <td>3.00</td>\n",
       "    </tr>\n",
       "  </tbody>\n",
       "</table>\n",
       "<p>8 rows × 55 columns</p>\n",
       "</div>"
      ],
      "text/plain": [
       "          mes  hom_doloso  lesao_corp_morte  latrocinio  \\\n",
       "count  344.00      344.00            248.00      344.00   \n",
       "mean     6.45      504.56              4.33       15.67   \n",
       "std      3.45      113.77              2.76        5.86   \n",
       "min      1.00      272.00              0.00        2.00   \n",
       "25%      3.00      413.75              2.00       11.00   \n",
       "50%      6.00      507.00              4.00       15.00   \n",
       "75%      9.00      577.25              6.00       19.00   \n",
       "max     12.00      831.00             21.00       36.00   \n",
       "\n",
       "       hom_por_interv_policial  tentat_hom  lesao_corp_dolosa  estupro  \\\n",
       "count                   260.00      344.00             344.00   200.00   \n",
       "mean                     71.90      318.27            5492.80   369.94   \n",
       "std                      36.49      127.61            1514.22    94.39   \n",
       "min                      10.00      122.00            2350.00   188.00   \n",
       "25%                      41.75      200.00            4067.00   282.00   \n",
       "50%                      70.00      318.50            5830.50   384.00   \n",
       "75%                      96.25      398.25            6582.50   441.25   \n",
       "max                     194.00      645.00            9050.00   561.00   \n",
       "\n",
       "       hom_culposo  lesao_corp_culposa  ...  pessoas_desaparecidas  \\\n",
       "count       260.00              248.00  ...                 212.00   \n",
       "mean        212.12             3410.76  ...                 435.13   \n",
       "std          54.23              776.16  ...                  65.35   \n",
       "min         111.00              848.00  ...                 236.00   \n",
       "25%         176.00             3040.00  ...                 390.00   \n",
       "50%         203.00             3372.00  ...                 427.00   \n",
       "75%         236.25             3733.50  ...                 481.50   \n",
       "max         449.00             6653.00  ...                 628.00   \n",
       "\n",
       "       encontro_cadaver  encontro_ossada  pol_militares_mortos_serv  \\\n",
       "count            344.00           212.00                     200.00   \n",
       "mean              66.26             3.30                       2.08   \n",
       "std               34.46             2.19                       1.76   \n",
       "min                0.00             0.00                       0.00   \n",
       "25%               42.00             2.00                       1.00   \n",
       "50%               60.50             3.00                       2.00   \n",
       "75%               87.00             4.00                       3.00   \n",
       "max              217.00            13.00                      10.00   \n",
       "\n",
       "       pol_civis_mortos_serv  indicador_letalidade  indicador_roubo_rua  \\\n",
       "count                 200.00                344.00               344.00   \n",
       "mean                    0.34                577.69              4734.74   \n",
       "std                     0.64                104.97              3204.05   \n",
       "min                     0.00                334.00              1086.00   \n",
       "25%                     0.00                500.00              1557.00   \n",
       "50%                     0.00                590.00              4190.00   \n",
       "75%                     1.00                649.00              6872.75   \n",
       "max                     3.00                848.00             13833.00   \n",
       "\n",
       "       indicador_roubo_veic  registro_ocorrencias    fase  \n",
       "count                344.00                248.00  344.00  \n",
       "mean                2448.70              53794.16    2.99  \n",
       "std                  789.69              11039.05    0.08  \n",
       "min                 1097.00              30621.00    2.00  \n",
       "25%                 1889.75              45374.50    3.00  \n",
       "50%                 2322.00              54926.50    3.00  \n",
       "75%                 2778.00              63292.50    3.00  \n",
       "max                 5358.00              75403.00    3.00  \n",
       "\n",
       "[8 rows x 55 columns]"
      ]
     },
     "execution_count": 57,
     "metadata": {},
     "output_type": "execute_result"
    }
   ],
   "source": [
    "# 1. Imprima o resumo estatístico do seu DataFrame (`describe`)\n",
    "round(df.describe(),2)"
   ]
  },
  {
   "cell_type": "code",
   "execution_count": 39,
   "id": "600ecb19",
   "metadata": {},
   "outputs": [
    {
     "data": {
      "text/plain": [
       "2449"
      ]
     },
     "execution_count": 39,
     "metadata": {},
     "output_type": "execute_result"
    }
   ],
   "source": [
    "# 2. Encontre as médias das seguintes colunas:\n",
    "# `roubo_veiculo`\n",
    "round(df.roubo_veiculo.mean())"
   ]
  },
  {
   "cell_type": "code",
   "execution_count": 40,
   "id": "cb53f26f",
   "metadata": {},
   "outputs": [
    {
     "data": {
      "text/plain": [
       "1675"
      ]
     },
     "execution_count": 40,
     "metadata": {},
     "output_type": "execute_result"
    }
   ],
   "source": [
    "# `furto_veiculos`\n",
    "round(df.furto_veiculos.mean())"
   ]
  },
  {
   "cell_type": "code",
   "execution_count": 41,
   "id": "32d661a3",
   "metadata": {},
   "outputs": [
    {
     "data": {
      "text/plain": [
       "1772"
      ]
     },
     "execution_count": 41,
     "metadata": {},
     "output_type": "execute_result"
    }
   ],
   "source": [
    "# `recuperacao_veiculos\n",
    "round(df.recuperacao_veiculos.mean())"
   ]
  },
  {
   "cell_type": "code",
   "execution_count": 42,
   "id": "40f77198",
   "metadata": {},
   "outputs": [
    {
     "data": {
      "text/plain": [
       "42.98"
      ]
     },
     "execution_count": 42,
     "metadata": {},
     "output_type": "execute_result"
    }
   ],
   "source": [
    "# 3. Calcule qual a porcentagem de carros recuperados em relação aos carros roubados + carros furtados:\n",
    "round(df.recuperacao_veiculos.sum()/(df.roubo_veiculo.sum() + df.furto_veiculos.sum()) * 100, 2)"
   ]
  },
  {
   "cell_type": "markdown",
   "id": "951ffb0c",
   "metadata": {},
   "source": [
    "Podemos observar que a porcentagem de carros recuperados em relação aos roubados e furtados é de aproximadamente 43%."
   ]
  },
  {
   "cell_type": "markdown",
   "id": "a331915b",
   "metadata": {},
   "source": [
    "### Crimes contra a vida"
   ]
  },
  {
   "cell_type": "code",
   "execution_count": 43,
   "id": "7e30dcff",
   "metadata": {},
   "outputs": [
    {
     "data": {
      "text/plain": [
       "831"
      ]
     },
     "execution_count": 43,
     "metadata": {},
     "output_type": "execute_result"
    }
   ],
   "source": [
    "# 4. Encontre os valores máximos, mínimos, média e desvio padrão da coluna `hom_doloso`\n",
    "# valor máximo\n",
    "df.hom_doloso.max()"
   ]
  },
  {
   "cell_type": "code",
   "execution_count": 44,
   "id": "328cee05",
   "metadata": {},
   "outputs": [
    {
     "data": {
      "text/plain": [
       "272"
      ]
     },
     "execution_count": 44,
     "metadata": {},
     "output_type": "execute_result"
    }
   ],
   "source": [
    "#valor mínimo\n",
    "df.hom_doloso.min()"
   ]
  },
  {
   "cell_type": "code",
   "execution_count": 45,
   "id": "62be8d1d",
   "metadata": {},
   "outputs": [
    {
     "data": {
      "text/plain": [
       "504.56"
      ]
     },
     "execution_count": 45,
     "metadata": {},
     "output_type": "execute_result"
    }
   ],
   "source": [
    "# média de homicídios dolosos\n",
    "round(df.hom_doloso.mean(), 2)"
   ]
  },
  {
   "cell_type": "code",
   "execution_count": 46,
   "id": "7c1fe211",
   "metadata": {},
   "outputs": [
    {
     "data": {
      "text/plain": [
       "113.77"
      ]
     },
     "execution_count": 46,
     "metadata": {},
     "output_type": "execute_result"
    }
   ],
   "source": [
    "# Desvio padrão do homicídio doloso\n",
    "round(df.hom_doloso.std(),2)"
   ]
  },
  {
   "cell_type": "code",
   "execution_count": 53,
   "id": "f19c87b0",
   "metadata": {},
   "outputs": [
    {
     "data": {
      "image/png": "[encoded data removed]",
      "text/plain": [
       "<Figure size 432x288 with 1 Axes>"
      ]
     },
     "metadata": {
      "needs_background": "light"
     },
     "output_type": "display_data"
    }
   ],
   "source": [
    "# Gráfico de linhas referente ao homicídio doloso\n",
    "df.hom_doloso.plot();"
   ]
  },
  {
   "cell_type": "code",
   "execution_count": 47,
   "id": "c751d293",
   "metadata": {},
   "outputs": [
    {
     "data": {
      "text/plain": [
       "449.0"
      ]
     },
     "execution_count": 47,
     "metadata": {},
     "output_type": "execute_result"
    }
   ],
   "source": [
    "# 5. Encontre os valores máximos, mínimos, média e desvio padrão da coluna `hom_culposo`\n",
    "#valor máximo\n",
    "df.hom_culposo.max()"
   ]
  },
  {
   "cell_type": "code",
   "execution_count": 48,
   "id": "bb2de2b0",
   "metadata": {},
   "outputs": [
    {
     "data": {
      "text/plain": [
       "111.0"
      ]
     },
     "execution_count": 48,
     "metadata": {},
     "output_type": "execute_result"
    }
   ],
   "source": [
    "#valor mínimo\n",
    "df.hom_culposo.min()"
   ]
  },
  {
   "cell_type": "code",
   "execution_count": 49,
   "id": "146fb253",
   "metadata": {},
   "outputs": [
    {
     "data": {
      "text/plain": [
       "212.12"
      ]
     },
     "execution_count": 49,
     "metadata": {},
     "output_type": "execute_result"
    }
   ],
   "source": [
    "# média de homicídios culposos\n",
    "round(df.hom_culposo.mean(),2)"
   ]
  },
  {
   "cell_type": "code",
   "execution_count": 50,
   "id": "ad3703c9",
   "metadata": {},
   "outputs": [
    {
     "data": {
      "text/plain": [
       "54.23"
      ]
     },
     "execution_count": 50,
     "metadata": {},
     "output_type": "execute_result"
    }
   ],
   "source": [
    "# Desvio padrão do homiício culposo\n",
    "round(df.hom_culposo.std(),2)"
   ]
  },
  {
   "cell_type": "code",
   "execution_count": 80,
   "id": "88f4a2fb",
   "metadata": {},
   "outputs": [
    {
     "data": {
      "image/png": "[encoded data removed]",
      "text/plain": [
       "<Figure size 432x288 with 1 Axes>"
      ]
     },
     "metadata": {
      "needs_background": "light"
     },
     "output_type": "display_data"
    }
   ],
   "source": [
    "df.hom_culposo.plot();"
   ]
  },
  {
   "cell_type": "markdown",
   "id": "a8d4c8af",
   "metadata": {},
   "source": [
    "Podemos observar que, conforme o tempo, a quantidade em relação ao ano sofreu maiores variações nos homicídios dolosos, o que confirma o seu desvio padrão maior. Ademais, o número de homicídios culposos teve uma queda significativa após os anos 2000, época em que começou a ser relatado, já que o indíce possui uma taxa de 24% de valores ausentes."
   ]
  },
  {
   "cell_type": "markdown",
   "id": "e2580110",
   "metadata": {},
   "source": [
    "### Crime contra a propriedade \n",
    "\n",
    "* Gráfico de linhas para a variável `roubo_em_coletivo`\n"
   ]
  },
  {
   "cell_type": "code",
   "execution_count": 81,
   "id": "11d0fa7f",
   "metadata": {},
   "outputs": [
    {
     "data": {
      "image/png": "[encoded data removed]",
      "text/plain": [
       "<Figure size 432x288 with 1 Axes>"
      ]
     },
     "metadata": {
      "needs_background": "light"
     },
     "output_type": "display_data"
    }
   ],
   "source": [
    "# 1 Gráfico de linhas para a variável `roubo_em_coletivo`\n",
    "df.roubo_em_coletivo.plot();"
   ]
  },
  {
   "cell_type": "markdown",
   "id": "4dc99798",
   "metadata": {},
   "source": [
    "Observamos no gráfico acima que o indíce de roubo em coletivo cresceu ao decorrer dos anos. Tal dado entra em cossonância com a realidade, visto que segundo ao site G1, assaltos a ônibus aumentaram 23% no Rio de Janeiro em 2020."
   ]
  },
  {
   "cell_type": "markdown",
   "id": "b2eb2163",
   "metadata": {},
   "source": [
    "## Conclusão\n",
    "\n",
    "Por fim, concluímos que os dados estão coerentes à situação atual do município, onde há altos índices relacionados à criminalidade. Todavia, a explanação em si indicou que é preciso uma análise minuciosa para identificar outliers que atrapalham na identificação de padrões. Podemos perceber também que enquanto alguns crimes diminuem sua ocorrência proporcionalmente, como foi o caso do homicídio, alguns aumentam como os roubos em coletivos, favorecendo a narrativa da Armelle Enders, onde no Rio ordem e desordem tendem a andar juntas."
   ]
  }
 ],
 "metadata": {
  "kernelspec": {
   "display_name": "Python 3",
   "language": "python",
   "name": "python3"
  },
  "language_info": {
   "codemirror_mode": {
    "name": "ipython",
    "version": 3
   },
   "file_extension": ".py",
   "mimetype": "text/x-python",
   "name": "python",
   "nbconvert_exporter": "python",
   "pygments_lexer": "ipython3",
   "version": "3.8.8"
  }
 },
 "nbformat": 4,
 "nbformat_minor": 5
}
